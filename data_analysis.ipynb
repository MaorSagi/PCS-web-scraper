{
 "cells": [
  {
   "cell_type": "code",
   "execution_count": null,
   "outputs": [],
   "source": [
    "import pandas as pd\n",
    "\n",
    "w_df = pd.read_csv('./workout (1).csv')\n",
    "w_df"
   ],
   "metadata": {
    "collapsed": false,
    "pycharm": {
     "name": "#%%\n"
    }
   }
  },
  {
   "cell_type": "code",
   "execution_count": null,
   "outputs": [],
   "source": [
    "w_df['workout_strava_id'] = w_df['workout_strava_id'].apply(str)\n",
    "w_df[(w_df['temp_max'] < 30) & (w_df['workout_strava_id'] is not None)][['workout_strava_id', 'temp_max']]"
   ],
   "metadata": {
    "collapsed": false,
    "pycharm": {
     "name": "#%%\n"
    }
   }
  },
  {
   "cell_type": "code",
   "execution_count": null,
   "outputs": [],
   "source": [
    "from pandas_profiling import ProfileReport\n",
    "\n",
    "props_to_filter = ['workout_id', 'workout_tp_id', 'workout_strava_id']\n",
    "w_df = w_df.drop(props_to_filter, 1)\n",
    "profile_W = ProfileReport(w_df, title=\"Workouts - Pandas Profiling Report\")\n",
    "profile_W.to_file(\"STRAVA_workouts_profile.html\")"
   ],
   "metadata": {
    "collapsed": false,
    "pycharm": {
     "name": "#%%\n"
    }
   }
  },
  {
   "cell_type": "code",
   "execution_count": null,
   "outputs": [],
   "source": [
    "import requests\n",
    "import json\n",
    "\n",
    "d = 'utf8=%E2%9C%93&authenticity_token=4oSIQYhzT5KiwHTmYAfn6Ad9rYsQB3s5AXICiH0I914oc%2BXD4fHaS8sP4nzR758X0hFOhnA9nC1NNTrJbM47TA%3D%3D&plan=&email=velo2%40yandex.com&password=12345678'\n",
    "r = requests.post('https://www.strava.com/session', data=d)\n",
    "r"
   ],
   "metadata": {
    "collapsed": false,
    "pycharm": {
     "name": "#%%\n"
    }
   }
  },
  {
   "cell_type": "code",
   "execution_count": null,
   "outputs": [],
   "source": [
    "cks = r.history[0].cookies\n",
    "cks"
   ],
   "metadata": {
    "collapsed": false,
    "pycharm": {
     "name": "#%%\n"
    }
   }
  },
  {
   "cell_type": "code",
   "execution_count": null,
   "outputs": [],
   "source": [
    "cks = dict(_strava4_session='n4q7ipcsl1il58v1cs6egfqefjkrrefs', domain='strava.com')\n",
    "r2 = requests.get('https://www.strava.com/activities/346134136', cookies=cks)\n",
    "r2"
   ],
   "metadata": {
    "collapsed": false,
    "pycharm": {
     "name": "#%%\n"
    }
   }
  },
  {
   "cell_type": "code",
   "execution_count": null,
   "outputs": [],
   "source": [
    "print('test')\n",
    "r2\n"
   ],
   "metadata": {
    "collapsed": false,
    "pycharm": {
     "name": "#%%\n"
    }
   }
  },
  {
   "cell_type": "code",
   "execution_count": null,
   "outputs": [],
   "source": [
    "# from requests_html  import AsyncHTMLSession\n",
    "#\n",
    "# session  = AsyncHTMLSession()\n",
    "# response = await session.get('https://www.strava.com/activities/346134136',cookies=cks)\n",
    "#\n",
    "# # response.html.render()\n",
    "# # await r.html.arender()\n",
    "# resp=r.html.raw_html\n",
    "# print(resp)\n",
    "from bs4 import BeautifulSoup\n",
    "\n",
    "soup = BeautifulSoup(r2.text)\n",
    "text2 = soup.get_text()\n",
    "import nltk\n",
    "\n",
    "t = nltk.clean_html(r2.text)"
   ],
   "metadata": {
    "collapsed": false,
    "pycharm": {
     "name": "#%%\n"
    }
   }
  },
  {
   "cell_type": "code",
   "execution_count": null,
   "outputs": [],
   "source": [
    "from requests_html import AsyncHTMLSession\n",
    "\n",
    "asession = AsyncHTMLSession()\n",
    "\n",
    "r3 = await asession.get('https://www.strava.com/activities/346134136', cookies=cks)\n",
    "print(await r3.html.arender())\n",
    "\n"
   ],
   "metadata": {
    "collapsed": false,
    "pycharm": {
     "name": "#%%\n"
    }
   }
  },
  {
   "cell_type": "code",
   "execution_count": null,
   "outputs": [],
   "source": [
    "def format_prepped_request(prepped, encoding=None):\n",
    "    # prepped has .method, .path_url, .headers and .body attribute to view the request\n",
    "    encoding = encoding or requests.utils.get_encoding_from_headers(prepped.headers)\n",
    "    body = prepped.body.decode(encoding) if encoding else '<binary data>'\n",
    "    headers = '\\n'.join(['{}: {}'.format(*hv) for hv in prepped.headers.items()])\n",
    "    return f\"\"\"\\\n",
    "{prepped.method} {prepped.path_url} HTTP/2\n",
    "{headers}\n",
    "\n",
    "{body}\"\"\""
   ],
   "metadata": {
    "collapsed": false,
    "pycharm": {
     "name": "#%%\n"
    }
   }
  },
  {
   "cell_type": "code",
   "execution_count": null,
   "outputs": [],
   "source": [
    "url = \"https://www.strava.com/session\"\n",
    "# session = requests.Session()\n",
    "from requests_html import AsyncHTMLSession\n",
    "\n",
    "asession = AsyncHTMLSession()\n",
    "data = 'utf8=%E2%9C%93&authenticity_token=4oSIQYhzT5KiwHTmYAfn6Ad9rYsQB3s5AXICiH0I914oc%2BXD4fHaS8sP4nzR758X0hFOhnA9nC1NNTrJbM47TA%3D%3D&plan=&email=velo2%40yandex.com&password=12345678'\n",
    "cks = 'sp=938e7e66-7b9c-4b6d-90c8-d94819f85c42; _gcl_au=1.1.376044277.1640203903; _ga=GA1.2.1123165153.1640203904; _gid=GA1.2.104847519.1640203904; _strava4_session=iqqn8b6lv7gljijfm17c3lp6acrn7q59; _sp_ses.047d=*; _sp_id.047d=7f7caf8e-5364-4298-95df-31583f92c38a.1640210000.1.1640216482.1640210760.88247805-5a22-4e35-8383-2806f95c40ba'\n",
    "headers = {\n",
    "    'Host': 'www.strava.com',\n",
    "    'Cookie': cks,\n",
    "    'Content-Length': '177',\n",
    "    'Cache-Control': 'max-age=0',\n",
    "    'Sec-Ch-Ua': '\" Not A;Brand\";v=\"99\", \"Chromium\";v=\"96\"',\n",
    "    'Sec-Ch-Ua-Mobile': '?0',\n",
    "    'Sec-Ch-Ua-Platform': 'Windows',\n",
    "    'Upgrade-Insecure-Requests': '1',\n",
    "    'Origin': 'https://www.strava.com',\n",
    "    'Content-Type': 'application/x-www-form-urlencoded',\n",
    "    'User-Agent': 'Mozilla/5.0 (Windows NT 10.0; Win64; x64) AppleWebKit/537.36 (KHTML, like Gecko) Chrome/96.0.4664.45 Safari/537.36',\n",
    "    'Accept': 'text/html,application/xhtml+xml,application/xml;q=0.9,image/avif,image/webp,image/apng,*/*;q=0.8,application/signed-exchange;v=b3;q=0.9',\n",
    "    'Sec-Fetch-Site': 'same-origin',\n",
    "    'Sec-Fetch-Mode': 'navigate',\n",
    "    'Sec-Fetch-User': '?1',\n",
    "    'Sec-Fetch-Dest': 'document',\n",
    "    'Referer': 'https://www.strava.com/login',\n",
    "    'Accept-Encoding': 'gzip, deflate',\n",
    "    'Accept-Language': 'en-US,en;q=0.9'\n",
    "}\n",
    "\n",
    "request = requests.Request('POST', url, headers=headers, json=data)\n",
    "prepped = asession.prepare_request(request)\n",
    "prepped"
   ],
   "metadata": {
    "collapsed": false,
    "pycharm": {
     "name": "#%%\n"
    }
   }
  },
  {
   "cell_type": "code",
   "execution_count": null,
   "outputs": [],
   "source": [
    "print(\"Sending request:\")\n",
    "print(format_prepped_request(prepped, 'utf8'))\n",
    "print()"
   ],
   "metadata": {
    "collapsed": false,
    "pycharm": {
     "name": "#%%\n"
    }
   }
  },
  {
   "cell_type": "code",
   "execution_count": null,
   "outputs": [],
   "source": [
    "'''\n",
    "POST /session HTTP/2\n",
    "Host: www.strava.com\n",
    "Cookie: sp=938e7e66-7b9c-4b6d-90c8-d94819f85c42; _gcl_au=1.1.376044277.1640203903; _ga=GA1.2.1123165153.1640203904; _gid=GA1.2.104847519.1640203904; _strava4_session=iqqn8b6lv7gljijfm17c3lp6acrn7q59; _sp_ses.047d=*; _sp_id.047d=7f7caf8e-5364-4298-95df-31583f92c38a.1640210000.1.1640216482.1640210760.88247805-5a22-4e35-8383-2806f95c40ba\n",
    "Content-Length: 177\n",
    "Cache-Control: max-age=0\n",
    "Sec-Ch-Ua: \" Not A;Brand\";v=\"99\", \"Chromium\";v=\"96\"\n",
    "Sec-Ch-Ua-Mobile: ?0\n",
    "Sec-Ch-Ua-Platform: \"Windows\"\n",
    "Upgrade-Insecure-Requests: 1\n",
    "Origin: https://www.strava.com\n",
    "Content-Type: application/x-www-form-urlencoded\n",
    "User-Agent: Mozilla/5.0 (Windows NT 10.0; Win64; x64) AppleWebKit/537.36 (KHTML, like Gecko) Chrome/96.0.4664.45 Safari/537.36\n",
    "Accept: text/html,application/xhtml+xml,application/xml;q=0.9,image/avif,image/webp,image/apng,*/*;q=0.8,application/signed-exchange;v=b3;q=0.9\n",
    "Sec-Fetch-Site: same-origin\n",
    "Sec-Fetch-Mode: navigate\n",
    "Sec-Fetch-User: ?1\n",
    "Sec-Fetch-Dest: document\n",
    "Referer: https://www.strava.com/login\n",
    "Accept-Encoding: gzip, deflate\n",
    "Accept-Language: en-US,en;q=0.9\n",
    "\n",
    "utf8=%E2%9C%93&authenticity_token=4oSIQYhzT5KiwHTmYAfn6Ad9rYsQB3s5AXICiH0I914oc%2BXD4fHaS8sP4nzR758X0hFOhnA9nC1NNTrJbM47TA%3D%3D&plan=&email=velo2%40yandex.com&password=12345678\n",
    "'''"
   ],
   "metadata": {
    "collapsed": false,
    "pycharm": {
     "name": "#%%\n"
    }
   }
  },
  {
   "cell_type": "code",
   "execution_count": null,
   "outputs": [],
   "source": [
    "r = asession.send(prepped, verify=False)"
   ],
   "metadata": {
    "collapsed": false,
    "pycharm": {
     "name": "#%%\n"
    }
   }
  },
  {
   "cell_type": "code",
   "execution_count": null,
   "outputs": [],
   "source": [
    "print(r.history[0].cookies)\n",
    "cks = {'sp': '938e7e66-7b9c-4b6d-90c8-d94819f85c42',\n",
    "       ' _gcl_au': '1.1.376044277.1640203903',\n",
    "       ' _ga': 'GA1.2.1123165153.1640203904',\n",
    "       ' _gid': 'GA1.2.104847519.1640203904',\n",
    "       ' _strava4_session': 'iqqn8b6lv7gljijfm17c3lp6acrn7q59',\n",
    "       ' _sp_ses.047d': '*',\n",
    "       ' _sp_id.047d': '7f7caf8e-5364-4298-95df-31583f92c38a.1640210000.1.1640216482.1640210760.88247805-5a22-4e35-8383-2806f95c40ba'\n",
    "       }"
   ],
   "metadata": {
    "collapsed": false,
    "pycharm": {
     "name": "#%%\n"
    }
   }
  },
  {
   "cell_type": "code",
   "execution_count": null,
   "outputs": [],
   "source": [
    "url = 'https://www.strava.com/activities/346134136'\n",
    "del headers['Cookie']\n",
    "del headers['Content-Type']\n",
    "del headers['Origin']\n",
    "request = requests.Request('GET', url, headers=headers)\n",
    "prepped = asession.prepare_request(request)\n",
    "prepped"
   ],
   "metadata": {
    "collapsed": false,
    "pycharm": {
     "name": "#%%\n"
    }
   }
  },
  {
   "cell_type": "code",
   "execution_count": null,
   "outputs": [],
   "source": [
    "print(\"Sending request:\")\n",
    "print(format_prepped_request(prepped, 'utf8'))\n",
    "print()\n",
    "'''\n",
    "GET /activities/346134136 HTTP/2\n",
    "Host: www.strava.com\n",
    "Cookie: _sp_ses.047d=*; sp=938e7e66-7b9c-4b6d-90c8-d94819f85c42; _strava4_session=raadfes77dcrgk6kgoiq22orepo52fj4; _gcl_au=1.1.376044277.1640203903; _ga=GA1.2.1123165153.1640203904; _gid=GA1.2.104847519.1640203904; _sp_id.047d=1f694d30-80be-43a8-bfab-185524689996.1640203730.1.1640203983.1640203730.9768496f-479e-4012-9b50-db6ec203ea2c\n",
    "Cache-Control: max-age=0\n",
    "Sec-Ch-Ua: \" Not A;Brand\";v=\"99\", \"Chromium\";v=\"96\"\n",
    "Sec-Ch-Ua-Mobile: ?0\n",
    "Sec-Ch-Ua-Platform: \"Windows\"\n",
    "Upgrade-Insecure-Requests: 1\n",
    "User-Agent: Mozilla/5.0 (Windows NT 10.0; Win64; x64) AppleWebKit/537.36 (KHTML, like Gecko) Chrome/96.0.4664.45 Safari/537.36\n",
    "Accept: text/html,application/xhtml+xml,application/xml;q=0.9,image/avif,image/webp,image/apng,*/*;q=0.8,application/signed-exchange;v=b3;q=0.9\n",
    "Sec-Fetch-Site: none\n",
    "Sec-Fetch-Mode: navigate\n",
    "Sec-Fetch-User: ?1\n",
    "Sec-Fetch-Dest: document\n",
    "Accept-Encoding: gzip, deflate\n",
    "Accept-Language: en-US,en;q=0.9'''"
   ],
   "metadata": {
    "collapsed": false,
    "pycharm": {
     "name": "#%%\n"
    }
   }
  },
  {
   "cell_type": "code",
   "execution_count": null,
   "outputs": [],
   "source": [
    "import pandas as pd\n",
    "\n",
    "cyclists_df = pd.read_csv('./data/cyclists.csv')\n",
    "cyclists_df"
   ],
   "metadata": {
    "collapsed": false,
    "pycharm": {
     "name": "#%%\n"
    }
   }
  },
  {
   "cell_type": "code",
   "execution_count": null,
   "outputs": [],
   "source": [
    "cyclists_teams_df = pd.read_csv('./data/cyclists_teams.csv')\n",
    "cyclists_teams_df"
   ],
   "metadata": {
    "collapsed": false,
    "pycharm": {
     "name": "#%%\n"
    }
   }
  },
  {
   "cell_type": "code",
   "execution_count": null,
   "outputs": [],
   "source": [
    "teams_df = pd.read_csv('./data/teams.csv')\n",
    "teams_df"
   ],
   "metadata": {
    "collapsed": false,
    "pycharm": {
     "name": "#%%\n"
    }
   }
  },
  {
   "cell_type": "code",
   "execution_count": null,
   "outputs": [],
   "source": [
    "ISN_ids = [73, 74, 75, 2023]\n",
    "\n",
    "teams_ISN_df = teams_df[teams_df['team_id'].isin(ISN_ids)]\n",
    "teams_ISN_df"
   ],
   "metadata": {
    "collapsed": false,
    "pycharm": {
     "name": "#%%\n"
    }
   }
  },
  {
   "cell_type": "code",
   "execution_count": null,
   "outputs": [],
   "source": [
    "\n",
    "teams_ISN_df.merge(cyclists_teams_df, on='team_id')"
   ],
   "metadata": {
    "collapsed": false,
    "pycharm": {
     "name": "#%%\n"
    }
   }
  },
  {
   "cell_type": "code",
   "execution_count": null,
   "outputs": [],
   "source": [
    "cyclists_strava_urls_df = pd.read_csv('./data/cyclists_strava_urls.csv')\n",
    "riders_urls_df = pd.read_csv('./data/riders_urls.csv')\n",
    "cyclists_df = pd.read_csv('./data/cyclists.csv')"
   ],
   "metadata": {
    "collapsed": false,
    "pycharm": {
     "name": "#%%\n"
    }
   }
  },
  {
   "cell_type": "code",
   "execution_count": null,
   "outputs": [],
   "source": [
    "merged_cyclists_urls = cyclists_df.merge(cyclists_strava_urls_df, how='outer', on='pcs_link')"
   ],
   "metadata": {
    "collapsed": false,
    "pycharm": {
     "name": "#%%\n"
    }
   }
  },
  {
   "cell_type": "code",
   "execution_count": null,
   "outputs": [],
   "source": [
    "merged_cyclists_urls[merged_cyclists_urls['strava_link'].isna()]"
   ],
   "metadata": {
    "collapsed": false,
    "pycharm": {
     "name": "#%%\n"
    }
   }
  },
  {
   "cell_type": "code",
   "execution_count": null,
   "outputs": [],
   "source": [
    "# merged_cyclists_urls['fixed_name'] = merged_cyclists_urls['full_name'].apply(lambda x: x.replace('  ', ' '))"
   ],
   "metadata": {
    "collapsed": false,
    "pycharm": {
     "name": "#%%\n"
    }
   }
  },
  {
   "cell_type": "code",
   "execution_count": null,
   "outputs": [],
   "source": [
    "merged_cyclists_urls['fixed_name'] = merged_cyclists_urls['fixed_name'].apply(lambda x: str(sorted(x.lower().split())))\n"
   ],
   "metadata": {
    "collapsed": false,
    "pycharm": {
     "name": "#%%\n"
    }
   }
  },
  {
   "cell_type": "code",
   "execution_count": null,
   "outputs": [],
   "source": [
    "riders_urls_df['fixed_name'] = riders_urls_df['full_name'].apply(lambda x: str(sorted(x.lower().split())))\n"
   ],
   "metadata": {
    "collapsed": false,
    "pycharm": {
     "name": "#%%\n"
    }
   }
  },
  {
   "cell_type": "code",
   "execution_count": null,
   "outputs": [],
   "source": [
    "merged_cyclists_urls = merged_cyclists_urls.merge(riders_urls_df, how='outer', on='fixed_name')"
   ],
   "metadata": {
    "collapsed": false,
    "pycharm": {
     "name": "#%%\n"
    }
   }
  },
  {
   "cell_type": "code",
   "execution_count": null,
   "outputs": [],
   "source": [
    "merged_cyclists_urls"
   ],
   "metadata": {
    "collapsed": false,
    "pycharm": {
     "name": "#%%\n"
    }
   }
  },
  {
   "cell_type": "code",
   "execution_count": null,
   "outputs": [],
   "source": [
    "old_ISN_Ids = [40, 45, 56, 78, 93, 98, 101, 114, 130, 160, 170, 191, 238, 266, 275, 283, 291, 326, 350, 367, 377, 393,\n",
    "               411, 427,\n",
    "               428, 440, 456, 459, 538, 562, 575, 590, 624, 631, 678, 687, 699, 718, 767, 779, 784, 840, 876, 887, 895,\n",
    "               924, 931, 981, 984, 988, 1009, 1090, 1091, 1092, 1093, 1094, 1095, 1096, 1097, 1098, 1099, 1100, 1265,\n",
    "               1774, 8959]\n"
   ],
   "metadata": {
    "collapsed": false,
    "pycharm": {
     "name": "#%%\n"
    }
   }
  },
  {
   "cell_type": "code",
   "execution_count": null,
   "outputs": [],
   "source": [
    "#Alon's cyclists\n",
    "merged_cyclists_urls[merged_cyclists_urls['full_name_x'].isna()]"
   ],
   "metadata": {
    "collapsed": false,
    "pycharm": {
     "name": "#%%\n"
    }
   }
  },
  {
   "cell_type": "code",
   "execution_count": null,
   "outputs": [],
   "source": [
    "#Alon's cyclists - ONLY ISN\n",
    "merged_cyclists_urls[\n",
    "    (merged_cyclists_urls['full_name_x'].isna()) & (merged_cyclists_urls['cyclist_id'].isin(old_ISN_Ids))]"
   ],
   "metadata": {
    "collapsed": false,
    "pycharm": {
     "name": "#%%\n"
    }
   }
  },
  {
   "cell_type": "code",
   "execution_count": null,
   "outputs": [],
   "source": [
    "#my cyclists\n",
    "merged_cyclists_urls[merged_cyclists_urls['full_name_y'].isna()]\n"
   ],
   "metadata": {
    "collapsed": false,
    "pycharm": {
     "name": "#%%\n"
    }
   }
  },
  {
   "cell_type": "code",
   "execution_count": null,
   "outputs": [],
   "source": [
    "# inner=merged_cyclists_urls[(~merged_cyclists_urls['full_name_y'].isna()) & (~merged_cyclists_urls['full_name_x'].isna())]\n",
    "# dict_names = {k:v for (k,v) in zip(inner['full_name_x'],inner['full_name_y'])}\n",
    "# dict_names"
   ],
   "metadata": {
    "collapsed": false,
    "pycharm": {
     "name": "#%%\n"
    }
   }
  },
  {
   "cell_type": "code",
   "execution_count": null,
   "outputs": [],
   "source": [
    "# cyclists_df['cyclist_name_pcs'] = cyclists_df['full_name'].map(dict_names)"
   ],
   "metadata": {
    "collapsed": false,
    "pycharm": {
     "name": "#%%\n"
    }
   }
  },
  {
   "cell_type": "code",
   "execution_count": null,
   "outputs": [],
   "source": [
    "cyclists_df[cyclists_df['cyclist_name_pcs'].isna()]"
   ],
   "metadata": {
    "collapsed": false,
    "pycharm": {
     "name": "#%%\n"
    }
   }
  },
  {
   "cell_type": "code",
   "execution_count": null,
   "outputs": [],
   "source": [
    "# cyclists_df.to_csv('./data/cyclists.csv',index=False,header=True)"
   ],
   "metadata": {
    "collapsed": false,
    "pycharm": {
     "name": "#%%\n"
    }
   }
  },
  {
   "cell_type": "code",
   "execution_count": null,
   "outputs": [],
   "source": [
    "# cyclists_df['full_name'] = cyclists_df['full_name'].apply(lambda x: x.replace('  ', ' '))"
   ],
   "metadata": {
    "collapsed": false,
    "pycharm": {
     "name": "#%%\n"
    }
   }
  },
  {
   "cell_type": "code",
   "execution_count": null,
   "outputs": [],
   "source": [
    "merged_cyclists_urls[['cyclist_id_x', 'full_name_y', 'fixed_name', 'full_name_x']]"
   ],
   "metadata": {
    "collapsed": false,
    "pycharm": {
     "name": "#%%\n"
    }
   }
  },
  {
   "cell_type": "code",
   "execution_count": null,
   "outputs": [],
   "source": [
    "merged_cyclists_urls = merged_cyclists_urls.merge(cyclists_strava_urls_df, how='outer', on='pcs_link')"
   ],
   "metadata": {
    "collapsed": false,
    "pycharm": {
     "name": "#%%\n"
    }
   }
  },
  {
   "cell_type": "code",
   "execution_count": null,
   "outputs": [],
   "source": [
    "merged_cyclists_urls"
   ],
   "metadata": {
    "collapsed": false,
    "pycharm": {
     "name": "#%%\n"
    }
   }
  },
  {
   "cell_type": "code",
   "execution_count": null,
   "outputs": [],
   "source": [
    "merged_cyclists_urls[['strava_id', 'strava_link', 'cyclist_id', 'url']]"
   ],
   "metadata": {
    "collapsed": false,
    "pycharm": {
     "name": "#%%\n"
    }
   }
  },
  {
   "cell_type": "code",
   "execution_count": null,
   "outputs": [],
   "source": [],
   "metadata": {
    "collapsed": false,
    "pycharm": {
     "name": "#%%\n"
    }
   }
  },
  {
   "cell_type": "code",
   "execution_count": null,
   "outputs": [],
   "source": [
    "import os\n",
    "from datetime import datetime\n",
    "\n",
    "EXEC_PATH = 'Dec 29 00.30 - wrong URLs'\n",
    "if not os.path.exists(f'./{EXEC_PATH}'):\n",
    "    os.mkdir(f'./{EXEC_PATH}')"
   ],
   "metadata": {
    "collapsed": false,
    "pycharm": {
     "name": "#%%\n"
    }
   }
  },
  {
   "cell_type": "code",
   "execution_count": null,
   "outputs": [],
   "source": [
    "merged_cyclists_urls.to_csv(f'./{EXEC_PATH}/merged_cyclists_urls.csv', index=False, header=True)"
   ],
   "metadata": {
    "collapsed": false,
    "pycharm": {
     "name": "#%%\n"
    }
   }
  },
  {
   "cell_type": "code",
   "execution_count": null,
   "outputs": [],
   "source": [
    "def log(log_level, type, msg):\n",
    "    if not log_level:\n",
    "        log_level = 'Error'\n",
    "    log_dict = {'Error': 0, 'Warning': 1, 'Info': 2}\n",
    "    if log_dict[type] <= log_dict[log_level]:\n",
    "        with open(f'./{EXEC_PATH}/{type}_cyclists_teams_extractor.log', 'a+') as f:\n",
    "            f.write(type + '\\t' + str(datetime.now()) + '\\t' + msg + '\\n')"
   ],
   "metadata": {
    "collapsed": false,
    "pycharm": {
     "name": "#%%\n"
    }
   }
  },
  {
   "cell_type": "code",
   "execution_count": null,
   "outputs": [],
   "source": [
    "log_level = 'Info'\n",
    "for idx, row in merged_cyclists_urls.iterrows():\n",
    "    try:\n",
    "        assert row['url'].split('/')[-1] == row['strava_link'].split('/')[-1]\n",
    "    except:\n",
    "        if (str(row['url']) == 'nan') and (str(row['strava_link']) != 'nan'):\n",
    "            log(log_level, 'Info', f\"Alon's script missed cyclist {row['cyclist_id']},{row['strava_link']}\")\n",
    "        elif (str(row['url']) != 'nan') and (str(row['strava_link']) == 'nan'):\n",
    "            log(log_level, 'Warning', f\"Alon's script have extra cyclist {row['cyclist_id']},{row['url']}\")\n",
    "        else:\n",
    "            log(log_level, 'Warning',\n",
    "                f\"Non equal: {row['url']}!={row['strava_link']}, cyclist: {row['cyclist_id']},{row['full_name_x']}\")"
   ],
   "metadata": {
    "collapsed": false,
    "pycharm": {
     "name": "#%%\n"
    }
   }
  },
  {
   "cell_type": "code",
   "execution_count": null,
   "outputs": [],
   "source": [
    "len(riders_urls_df['url'].unique())"
   ],
   "metadata": {
    "collapsed": false,
    "pycharm": {
     "name": "#%%\n"
    }
   }
  },
  {
   "cell_type": "code",
   "execution_count": null,
   "outputs": [],
   "source": [
    "len(cyclists_strava_urls_df['strava_link'].unique())"
   ],
   "metadata": {
    "collapsed": false,
    "pycharm": {
     "name": "#%%\n"
    }
   }
  },
  {
   "cell_type": "code",
   "execution_count": null,
   "outputs": [],
   "source": [
    "len(merged_cyclists_urls)\n"
   ],
   "metadata": {
    "collapsed": false,
    "pycharm": {
     "name": "#%%\n"
    }
   }
  },
  {
   "cell_type": "code",
   "execution_count": null,
   "outputs": [],
   "source": [
    "len(merged_cyclists_urls['strava_link'].unique())"
   ],
   "metadata": {
    "collapsed": false,
    "pycharm": {
     "name": "#%%\n"
    }
   }
  },
  {
   "cell_type": "code",
   "execution_count": null,
   "outputs": [],
   "source": [
    "len(merged_cyclists_urls['url'].unique())"
   ],
   "metadata": {
    "collapsed": false,
    "pycharm": {
     "name": "#%%\n"
    }
   }
  },
  {
   "cell_type": "code",
   "execution_count": null,
   "outputs": [],
   "source": [
    "c_old = pd.read_csv('..//db_files/cyclists.txt', encoding=\"ISO-8859-1\")\n",
    "c_old"
   ],
   "metadata": {
    "collapsed": false,
    "pycharm": {
     "name": "#%%\n"
    }
   }
  },
  {
   "cell_type": "code",
   "execution_count": null,
   "outputs": [],
   "source": [
    "c_old['fixed_name'] = c_old['full_name'].apply(lambda x: str(sorted(x.lower().split())))"
   ],
   "metadata": {
    "collapsed": false,
    "pycharm": {
     "name": "#%%\n"
    }
   }
  },
  {
   "cell_type": "code",
   "execution_count": null,
   "outputs": [],
   "source": [
    "merged_cyclists_urls['fixed_name'] = merged_cyclists_urls['full_name'].apply(lambda x: str(sorted(x.lower().split())))\n",
    "merged_cyclists_urls"
   ],
   "metadata": {
    "collapsed": false,
    "pycharm": {
     "name": "#%%\n"
    }
   }
  },
  {
   "cell_type": "code",
   "execution_count": null,
   "outputs": [],
   "source": [
    "m = merged_cyclists_urls.merge(c_old, how='outer', on='fixed_name')"
   ],
   "metadata": {
    "collapsed": false,
    "pycharm": {
     "name": "#%%\n"
    }
   }
  },
  {
   "cell_type": "code",
   "execution_count": null,
   "outputs": [],
   "source": [
    "m"
   ],
   "metadata": {
    "collapsed": false,
    "pycharm": {
     "name": "#%%\n"
    }
   }
  },
  {
   "cell_type": "code",
   "execution_count": null,
   "outputs": [],
   "source": [
    "# cyclists_df.to_csv('./data/cyclists.csv',index=False,header=True)"
   ],
   "metadata": {
    "collapsed": false,
    "pycharm": {
     "name": "#%%\n"
    }
   }
  },
  {
   "cell_type": "code",
   "execution_count": null,
   "outputs": [],
   "source": [
    "# m = merged_cyclists_urls.merge(c_old,how='outer',left_on='full_name_y',right_on='full_name')\n",
    "# m"
   ],
   "metadata": {
    "collapsed": false,
    "pycharm": {
     "name": "#%%\n"
    }
   }
  },
  {
   "cell_type": "code",
   "execution_count": null,
   "outputs": [],
   "source": [
    "m[(m['cyclist_name_pcs'].isna()) & (~m['full_name'].isna())][['cyclist_name_pcs', 'full_name']]"
   ],
   "metadata": {
    "collapsed": false,
    "pycharm": {
     "name": "#%%\n"
    }
   }
  },
  {
   "cell_type": "code",
   "execution_count": null,
   "outputs": [],
   "source": [
    "import pandas as pd\n",
    "\n",
    "ISN_ids = [73, 74, 75, 2023]\n",
    "teams_df = pd.read_csv('./data/teams.csv')\n",
    "teams_df = teams_df.loc[~teams_df['pcs_link'].isna()]\n",
    "cyclists_df = pd.read_csv('./data/cyclists.csv')\n",
    "cyclists_teams_df = pd.read_csv('./data/cyclists_teams_cpy.csv')\n",
    "cyclists_strava_urls_df = pd.read_csv('./data/cyclists_strava_urls.csv')"
   ],
   "metadata": {
    "collapsed": false,
    "pycharm": {
     "name": "#%%\n"
    }
   }
  },
  {
   "cell_type": "code",
   "execution_count": null,
   "outputs": [],
   "source": [
    "pcs_links_to_id = {k: v for k, v in zip(cyclists_df['pcs_link'], cyclists_df['cyclist_id'])}\n",
    "pcs_links_to_id"
   ],
   "metadata": {
    "collapsed": false,
    "pycharm": {
     "name": "#%%\n"
    }
   }
  },
  {
   "cell_type": "code",
   "execution_count": null,
   "outputs": [],
   "source": [
    "c_id_to_pcs_names = {k: v for k, v in zip(cyclists_df['cyclist_id'], cyclists_df['cyclist_name_pcs'])}\n",
    "c_id_to_pcs_names"
   ],
   "metadata": {
    "collapsed": false,
    "pycharm": {
     "name": "#%%\n"
    }
   }
  },
  {
   "cell_type": "code",
   "execution_count": null,
   "outputs": [],
   "source": [
    "t_id_to_name = {k: v for k, v in zip(teams_df['team_id'], teams_df['team_name'])}\n",
    "t_id_to_name"
   ],
   "metadata": {
    "collapsed": false,
    "pycharm": {
     "name": "#%%\n"
    }
   }
  },
  {
   "cell_type": "code",
   "execution_count": null,
   "outputs": [],
   "source": [
    "cyclists_teams_df['cyclist_name'] = cyclists_teams_df['cyclist_id'].map(c_id_to_pcs_names)\n",
    "cyclists_teams_df['team_name'] = cyclists_teams_df['team_id'].map(t_id_to_name)"
   ],
   "metadata": {
    "collapsed": false,
    "pycharm": {
     "name": "#%%\n"
    }
   }
  },
  {
   "cell_type": "code",
   "execution_count": null,
   "outputs": [],
   "source": [
    "ISN_riders_ids = cyclists_teams_df[cyclists_teams_df['team_id'].isin(ISN_ids)]['cyclist_id'].values\n",
    "ISN_strava_urls_df = cyclists_strava_urls_df.loc[cyclists_strava_urls_df['cyclist_id'].isin(ISN_riders_ids)]\n",
    "ISN_strava_urls_df['full_name'] = ISN_strava_urls_df['cyclist_id'].map(c_id_to_pcs_names)\n",
    "ISN_strava_urls_df['fetched_from_pcs'] = 1\n",
    "len(ISN_strava_urls_df)"
   ],
   "metadata": {
    "collapsed": false,
    "pycharm": {
     "name": "#%%\n"
    }
   }
  },
  {
   "cell_type": "code",
   "execution_count": null,
   "outputs": [],
   "source": [
    "ISN_strava_urls_df[ISN_strava_urls_df['fetched_from_pcs'].isna()]"
   ],
   "metadata": {
    "collapsed": false,
    "pycharm": {
     "name": "#%%\n"
    }
   }
  },
  {
   "cell_type": "code",
   "execution_count": null,
   "outputs": [],
   "source": [
    "\n",
    "old_ISN_Ids = [40, 45, 56, 78, 93, 98, 101, 114, 130, 160, 170, 191, 238, 266, 275, 283, 291, 326, 350, 367, 377, 393,\n",
    "               411, 427,\n",
    "               428, 440, 456, 459, 538, 562, 575, 590, 624, 631, 678, 687, 699, 718, 767, 779, 784, 840, 876, 887, 895,\n",
    "               924, 931, 981, 984, 988, 1009, 1090, 1091, 1092, 1093, 1094, 1095, 1096, 1097, 1098, 1099, 1100, 1265,\n",
    "               1774, 8959]\n",
    "alon_riders_urls_df = pd.read_csv('./data/riders_urls.csv').drop('Unnamed: 0', 1)\n",
    "ISN_alon_riders_urls_df = alon_riders_urls_df[alon_riders_urls_df['cyclist_id'].isin(old_ISN_Ids)]\n",
    "len(ISN_alon_riders_urls_df)"
   ],
   "metadata": {
    "collapsed": false,
    "pycharm": {
     "name": "#%%\n"
    }
   }
  },
  {
   "cell_type": "code",
   "execution_count": null,
   "outputs": [],
   "source": [
    "merged_cyclists_urls = ISN_strava_urls_df.merge(ISN_alon_riders_urls_df, how='outer', on='full_name')"
   ],
   "metadata": {
    "collapsed": false,
    "pycharm": {
     "name": "#%%\n"
    }
   }
  },
  {
   "cell_type": "code",
   "execution_count": null,
   "outputs": [],
   "source": [],
   "metadata": {
    "collapsed": false,
    "pycharm": {
     "name": "#%%\n"
    }
   }
  },
  {
   "cell_type": "code",
   "execution_count": null,
   "outputs": [],
   "source": [
    "merged_cyclists_urls.loc[merged_cyclists_urls['fetched_from_pcs'] == 0]"
   ],
   "metadata": {
    "collapsed": false,
    "pycharm": {
     "name": "#%%\n"
    }
   }
  },
  {
   "cell_type": "code",
   "execution_count": null,
   "outputs": [],
   "source": [
    "ISN_merged_strava_urls = merged_cyclists_urls.loc[:,\n",
    "                         list(merged_cyclists_urls.columns[:5]) + list(['url', 'fetched_from_pcs'])]\n",
    "ISN_merged_strava_urls = ISN_merged_strava_urls.rename({'url': \"alon's url\", 'cyclist_id_x': 'cyclist_id'}, axis=1)\n",
    "ISN_merged_strava_urls.to_csv('./data/ISN_merged_strava_urls.csv', index=False, header=True)"
   ],
   "metadata": {
    "collapsed": false,
    "pycharm": {
     "name": "#%%\n"
    }
   }
  },
  {
   "cell_type": "code",
   "execution_count": null,
   "outputs": [],
   "source": [
    "ISN_merged_strava_urls_readable = ISN_merged_strava_urls.copy()\n",
    "ISN_merged_strava_urls_readable['full_name'] = merged_cyclists_urls['full_name']\n",
    "ISN_merged_strava_urls_readable"
   ],
   "metadata": {
    "collapsed": false,
    "pycharm": {
     "name": "#%%\n"
    }
   }
  },
  {
   "cell_type": "code",
   "execution_count": null,
   "outputs": [],
   "source": [
    "cyclists_teams_ISN_df = pd.read_csv('./data/cyclists_teams_ISN.csv')\n",
    "cyclists_teams_ISN_df"
   ],
   "metadata": {
    "collapsed": false,
    "pycharm": {
     "name": "#%%\n"
    }
   }
  },
  {
   "cell_type": "code",
   "execution_count": null,
   "outputs": [],
   "source": [
    "t_id_to_gen_id = {k: v for k, v in zip(teams_df['team_id'], teams_df['team_gen_id'])}\n",
    "t_id_to_gen_id"
   ],
   "metadata": {
    "collapsed": false,
    "pycharm": {
     "name": "#%%\n"
    }
   }
  },
  {
   "cell_type": "code",
   "execution_count": null,
   "outputs": [],
   "source": [
    "strava_urls_cyclists_in_teams = cyclists_teams_ISN_df.merge(ISN_merged_strava_urls_readable, on='cyclist_id')\n",
    "strava_urls_cyclists_in_teams['team_name'] = strava_urls_cyclists_in_teams['team_id'].map(t_id_to_name)\n",
    "strava_urls_cyclists_in_teams['team_gen_id'] = strava_urls_cyclists_in_teams['team_id'].map(t_id_to_gen_id)\n",
    "strava_urls_cyclists_in_teams.head()"
   ],
   "metadata": {
    "collapsed": false,
    "pycharm": {
     "name": "#%%\n"
    }
   }
  },
  {
   "cell_type": "code",
   "execution_count": null,
   "outputs": [],
   "source": [
    "columns = ['']\n",
    "years = strava_urls_cyclists_in_teams['season'].unique()\n",
    "years.sort()\n",
    "columns.extend(years)\n",
    "columns"
   ],
   "metadata": {
    "collapsed": false,
    "pycharm": {
     "name": "#%%\n"
    }
   }
  },
  {
   "cell_type": "code",
   "execution_count": null,
   "outputs": [],
   "source": [
    "teams = {}\n",
    "i = 0\n",
    "for team, cyclists_in_team in strava_urls_cyclists_in_teams.groupby('team_gen_id'):\n",
    "    teams[team] = pd.DataFrame(columns=columns)\n",
    "    teams[team].at[0], teams[team].at[1], teams[team].at[2], teams[team].at[3] = None, None, None, None\n",
    "    for season, cyclists_in_team_by_year in cyclists_in_team.groupby('season'):\n",
    "        valid_strava_urls = cyclists_in_team_by_year.loc[cyclists_in_team_by_year['fetched_from_pcs'] == 1]\n",
    "        alons_strava_urls = cyclists_in_team_by_year.loc[cyclists_in_team_by_year['fetched_from_pcs'] == 0]\n",
    "        missing_strava_urls = cyclists_in_team_by_year.loc[cyclists_in_team_by_year['fetched_from_pcs'].isna()]\n",
    "        teams[team].at[0, ''] = 'Number of cyclists in team'\n",
    "        teams[team].at[0, season] = len(cyclists_in_team_by_year)\n",
    "        teams[team].at[1, ''] = 'Number of valid STRAVA URLs'\n",
    "        teams[team].at[1, season] = len(valid_strava_urls)\n",
    "        teams[team].at[2, ''] = \"Number of Alon's STRAVA URLs\"\n",
    "        teams[team].at[2, season] = len(alons_strava_urls)\n",
    "        teams[team].at[3, ''] = 'Number of missing STRAVA URLs'\n",
    "        teams[team].at[3, season] = len(missing_strava_urls)\n",
    "        print(valid_strava_urls)\n",
    "        print(alons_strava_urls)\n",
    "        print(missing_strava_urls)\n",
    "    i += 1"
   ],
   "metadata": {
    "collapsed": false,
    "pycharm": {
     "name": "#%%\n"
    }
   }
  },
  {
   "cell_type": "code",
   "execution_count": null,
   "outputs": [],
   "source": [
    "strava_urls_cyclists_in_teams[strava_urls_cyclists_in_teams['season'] < 2022].sort_values(['season', 'team_name'],\n",
    "                                                                                          ascending=False)"
   ],
   "metadata": {
    "collapsed": false,
    "pycharm": {
     "name": "#%%\n"
    }
   }
  },
  {
   "cell_type": "code",
   "execution_count": null,
   "outputs": [],
   "source": [
    "\n",
    "ISN_merged_strava_urls[ISN_merged_strava_urls['fetched_from_pcs'] == 0].to_csv('./data/manual_fetched_urls_ISN.csv',\n",
    "                                                                               index=False)"
   ],
   "metadata": {
    "collapsed": false,
    "pycharm": {
     "name": "#%%\n"
    }
   }
  },
  {
   "cell_type": "code",
   "execution_count": null,
   "outputs": [],
   "source": [
    "import pandas as pd\n",
    "\n",
    "ISN_merged_strava_urls = pd.read_csv('./data/ISN_merged_strava_urls.csv')\n",
    "for i, r in ISN_merged_strava_urls.iterrows():\n",
    "    if r['fetched_from_pcs'] == 0.0:\n",
    "        ISN_merged_strava_urls.at[i, 'strava_link'] = r[\"alon's_url\"]\n",
    "        ISN_merged_strava_urls.at[i, 'strava_id'] = r[\"alon's_strava_id\"]\n",
    "ISN_merged_strava_urls"
   ],
   "metadata": {
    "collapsed": false,
    "pycharm": {
     "name": "#%%\n"
    }
   }
  },
  {
   "cell_type": "code",
   "execution_count": null,
   "outputs": [],
   "source": [
    "ISN_merged_strava_urls.to_csv('./data/ISN_merged_strava_urls.csv', index=False, header=True)\n"
   ],
   "metadata": {
    "collapsed": false,
    "pycharm": {
     "name": "#%%\n"
    }
   }
  },
  {
   "cell_type": "code",
   "execution_count": null,
   "outputs": [],
   "source": [
    "import pandas as pd\n",
    "\n",
    "tp_id_df = pd.read_csv('../tp data to upload/2018 - 2018.csv')\n",
    "tp_id_df = tp_id_df.append(pd.read_csv('../tp data to upload/2019 - 2019.csv'), ignore_index=True)\n",
    "tp_id_df = tp_id_df.append(pd.read_csv('../tp data to upload/ISN-2020 - ISN-2020.csv'), ignore_index=True)\n",
    "tp_id_df = tp_id_df.append(pd.read_csv('../tp data to upload/ISN-2018-MISSING - ISN-2018-MISSING.csv'),\n",
    "                           ignore_index=True)\n",
    "tp_id_df = tp_id_df.append(pd.read_csv('../tp data to upload/ISN-2019-MISSING - ISN-2019-MISSING.csv'),\n",
    "                           ignore_index=True)\n",
    "tp_id_df = tp_id_df.append(pd.read_csv('../tp data to upload/ISN-2020-MISSING - ISN-2020-MISSING.csv'),\n",
    "                           ignore_index=True)\n",
    "tp_id_df = tp_id_df.append(pd.read_csv('../tp data to upload/ISN TP WT - TP Data.csv'), ignore_index=True)\n",
    "tp_id_df = tp_id_df.append(pd.read_csv('../tp data to upload/ISN TP WT - Workouts.csv'), ignore_index=True)"
   ],
   "metadata": {
    "collapsed": false,
    "pycharm": {
     "name": "#%%\n"
    }
   }
  },
  {
   "cell_type": "code",
   "execution_count": null,
   "outputs": [],
   "source": [
    "same_id_athletes = []\n",
    "for n, g in tp_id_df.groupby('Id'):\n",
    "    if len(g['Athlete'].unique()) > 1:\n",
    "        same_id_athletes.append[n]\n",
    "same_id_athletes"
   ],
   "metadata": {
    "collapsed": false,
    "pycharm": {
     "name": "#%%\n"
    }
   }
  },
  {
   "cell_type": "code",
   "execution_count": null,
   "outputs": [],
   "source": [
    "tp_id_df.loc[tp_id_df['Id'].isin(same_id_athletes)]"
   ],
   "metadata": {
    "collapsed": false,
    "pycharm": {
     "name": "#%%\n"
    }
   }
  },
  {
   "cell_type": "code",
   "execution_count": null,
   "outputs": [],
   "source": [
    "tp_id_dict = {k: v for k, v in zip(tp_id_df['Athlete'], tp_id_df['AthleteId'])}\n",
    "tp_id_dict"
   ],
   "metadata": {
    "collapsed": false,
    "pycharm": {
     "name": "#%%\n"
    }
   }
  },
  {
   "cell_type": "code",
   "execution_count": null,
   "outputs": [],
   "source": [
    "import json\n",
    "\n",
    "with open('./data/tp_athletes.json', 'a') as f:\n",
    "    f.write(json.dumps(tp_id_dict))\n"
   ],
   "metadata": {
    "collapsed": false,
    "pycharm": {
     "name": "#%%\n"
    }
   }
  },
  {
   "cell_type": "code",
   "execution_count": null,
   "outputs": [],
   "source": [
    "import pandas as pd\n",
    "\n",
    "workouts_df = pd.read_csv('./data/workouts.csv')\n",
    "workouts_df[workouts_df.duplicated()]\n",
    "workouts_df"
   ],
   "metadata": {
    "collapsed": false,
    "pycharm": {
     "name": "#%%\n"
    }
   }
  },
  {
   "cell_type": "code",
   "execution_count": null,
   "outputs": [],
   "source": [
    "len(workouts_df['athlete_id'].unique())"
   ],
   "metadata": {
    "collapsed": false,
    "pycharm": {
     "name": "#%%\n"
    }
   }
  },
  {
   "cell_type": "code",
   "execution_count": null,
   "outputs": [],
   "source": [
    "print(len(workouts_df))\n",
    "len(set(workouts_df['workout_tp_id']))"
   ],
   "metadata": {
    "collapsed": false,
    "pycharm": {
     "name": "#%%\n"
    }
   }
  },
  {
   "cell_type": "code",
   "execution_count": null,
   "outputs": [],
   "source": [
    "len(set(tp_id_df['Id']))\n"
   ],
   "metadata": {
    "collapsed": false,
    "pycharm": {
     "name": "#%%\n"
    }
   }
  },
  {
   "cell_type": "code",
   "execution_count": null,
   "outputs": [],
   "source": [
    "tp_id_df = tp_id_df.drop_duplicates()"
   ],
   "metadata": {
    "collapsed": false,
    "pycharm": {
     "name": "#%%\n"
    }
   }
  },
  {
   "cell_type": "code",
   "execution_count": null,
   "outputs": [],
   "source": [
    "print(len(set(tp_id_df['Id'])))\n",
    "len(tp_id_df)"
   ],
   "metadata": {
    "collapsed": false,
    "pycharm": {
     "name": "#%%\n"
    }
   }
  },
  {
   "cell_type": "code",
   "execution_count": null,
   "outputs": [],
   "source": [
    "import pandas as pd\n",
    "\n",
    "cyclists_df = pd.read_csv('./data/cyclists.csv')\n",
    "cyclists_df"
   ],
   "metadata": {
    "collapsed": false,
    "pycharm": {
     "name": "#%%\n"
    }
   }
  },
  {
   "cell_type": "code",
   "execution_count": null,
   "outputs": [],
   "source": [
    "riders_url_alon = pd.read_csv('./data/riders_urls.csv', index_col=0)\n",
    "riders_url_alon"
   ],
   "metadata": {
    "collapsed": false,
    "pycharm": {
     "name": "#%%\n"
    }
   }
  },
  {
   "cell_type": "code",
   "execution_count": null,
   "outputs": [],
   "source": [
    "riders_url_maor = pd.read_csv('./data/cyclists_strava_urls.csv')"
   ],
   "metadata": {
    "collapsed": false,
    "pycharm": {
     "name": "#%%\n"
    }
   }
  },
  {
   "cell_type": "code",
   "execution_count": null,
   "outputs": [],
   "source": [
    "rider_id_dict = {k: v for k, v in zip(cyclists_df['cyclist_id'], cyclists_df['cyclist_name_pcs'])}\n",
    "riders_url_maor['full_name'] = riders_url_maor['cyclist_id'].map(rider_id_dict)\n",
    "riders_url_maor"
   ],
   "metadata": {
    "collapsed": false,
    "pycharm": {
     "name": "#%%\n"
    }
   }
  },
  {
   "cell_type": "code",
   "execution_count": null,
   "outputs": [],
   "source": [
    "merged_urls_all_teams = riders_url_maor.merge(riders_url_alon, how='outer', on='full_name')\n",
    "merged_urls_all_teams"
   ],
   "metadata": {
    "collapsed": false,
    "pycharm": {
     "name": "#%%\n"
    }
   }
  },
  {
   "cell_type": "code",
   "execution_count": null,
   "outputs": [],
   "source": [
    "merged_urls_all_teams['fetched_from_pcs'] = None"
   ],
   "metadata": {
    "collapsed": false,
    "pycharm": {
     "name": "#%%\n"
    }
   }
  },
  {
   "cell_type": "code",
   "execution_count": null,
   "outputs": [],
   "source": [
    "diff = []\n",
    "i_missed = []\n",
    "alon_missed = []\n",
    "for i, r in merged_urls_all_teams.iterrows():\n",
    "    if (str(r['url']) == 'nan') and (str(r['strava_id']) == 'nan'):\n",
    "        continue\n",
    "    if str(r['url']) == 'nan':\n",
    "        merged_urls_all_teams.at[i, 'fetched_from_pcs'] = 1\n",
    "        alon_missed.append(i)\n",
    "        continue\n",
    "    if str(r['strava_id']) == 'nan':\n",
    "        merged_urls_all_teams.at[i, 'fetched_from_pcs'] = 0\n",
    "        i_missed.append(i)\n",
    "        continue\n",
    "    alon_strava_id = r['url'].split('/')[-1].split('?')[0]\n",
    "    if alon_strava_id != r['strava_id']:\n",
    "        diff.append(i)"
   ],
   "metadata": {
    "collapsed": false,
    "pycharm": {
     "name": "#%%\n"
    }
   }
  },
  {
   "cell_type": "code",
   "execution_count": null,
   "outputs": [],
   "source": [
    "diff"
   ],
   "metadata": {
    "collapsed": false,
    "pycharm": {
     "name": "#%%\n"
    }
   }
  },
  {
   "cell_type": "code",
   "execution_count": null,
   "outputs": [],
   "source": [
    "merged_urls_all_teams.loc[diff][['full_name', 'strava_link', 'url']]"
   ],
   "metadata": {
    "collapsed": false,
    "pycharm": {
     "name": "#%%\n"
    }
   }
  },
  {
   "cell_type": "code",
   "execution_count": null,
   "outputs": [],
   "source": [
    "# merged_urls_all_teams.at[diff[0],'url']=None"
   ],
   "metadata": {
    "collapsed": false,
    "pycharm": {
     "name": "#%%\n"
    }
   }
  },
  {
   "cell_type": "code",
   "execution_count": null,
   "outputs": [],
   "source": [
    "# #remove the false urls\n",
    "# merged_urls_all_teams = merged_urls_all_teams.drop(diff)"
   ],
   "metadata": {
    "collapsed": false,
    "pycharm": {
     "name": "#%%\n"
    }
   }
  },
  {
   "cell_type": "code",
   "execution_count": null,
   "outputs": [],
   "source": [
    "merged_urls_all_teams.loc[alon_missed][['full_name', 'strava_link', 'url']]\n",
    "\n"
   ],
   "metadata": {
    "collapsed": false,
    "pycharm": {
     "name": "#%%\n"
    }
   }
  },
  {
   "cell_type": "code",
   "execution_count": null,
   "outputs": [],
   "source": [
    "merged_urls_all_teams.loc[i_missed][['full_name', 'pcs_link', 'strava_link', 'url']]\n",
    "\n"
   ],
   "metadata": {
    "collapsed": false,
    "pycharm": {
     "name": "#%%\n"
    }
   }
  },
  {
   "cell_type": "code",
   "execution_count": null,
   "outputs": [],
   "source": [
    "merged_urls_all_teams = merged_urls_all_teams.drop('cyclist_id_y', 1)"
   ],
   "metadata": {
    "collapsed": false,
    "pycharm": {
     "name": "#%%\n"
    }
   }
  },
  {
   "cell_type": "code",
   "execution_count": null,
   "outputs": [],
   "source": [
    "merged_urls_all_teams = merged_urls_all_teams.rename(columns={'url': \"alon's_url\", 'cyclist_id_x': 'cyclist_id'})"
   ],
   "metadata": {
    "collapsed": false,
    "pycharm": {
     "name": "#%%\n"
    }
   }
  },
  {
   "cell_type": "code",
   "execution_count": null,
   "outputs": [],
   "source": [
    "merged_urls_all_teams[merged_urls_all_teams['fetched_from_pcs'] == 0]"
   ],
   "metadata": {
    "collapsed": false,
    "pycharm": {
     "name": "#%%\n"
    }
   }
  },
  {
   "cell_type": "code",
   "execution_count": null,
   "outputs": [],
   "source": [
    "merged_urls_all_teams"
   ],
   "metadata": {
    "collapsed": false,
    "pycharm": {
     "name": "#%%\n"
    }
   }
  },
  {
   "cell_type": "code",
   "execution_count": null,
   "outputs": [],
   "source": [
    "merged_urls_all_teams[\"alon's_strava_id\"] = None\n",
    "for i, r in merged_urls_all_teams.iterrows():\n",
    "    if (str(r[\"alon's_url\"]) == 'nan') and (str(r['strava_id']) == 'nan'):\n",
    "        continue\n",
    "    if str(r[\"alon's_url\"]) == 'nan':\n",
    "        continue\n",
    "    alon_strava_id = r[\"alon's_url\"].split('/')[-1]\n",
    "    merged_urls_all_teams.at[i, \"alon's_strava_id\"] = alon_strava_id"
   ],
   "metadata": {
    "collapsed": false,
    "pycharm": {
     "name": "#%%\n"
    }
   }
  },
  {
   "cell_type": "code",
   "execution_count": null,
   "outputs": [],
   "source": [
    "merged_urls_all_teams"
   ],
   "metadata": {
    "collapsed": false,
    "pycharm": {
     "name": "#%%\n"
    }
   }
  },
  {
   "cell_type": "code",
   "execution_count": null,
   "outputs": [],
   "source": [],
   "metadata": {
    "collapsed": false,
    "pycharm": {
     "name": "#%%\n"
    }
   }
  },
  {
   "cell_type": "code",
   "execution_count": null,
   "outputs": [],
   "source": [
    "same_id_athletes = []\n",
    "for n, g in workouts_df.groupby('Id'):\n",
    "    if len(g['Athlete'].unique()) > 1:\n",
    "        same_id_athletes.append[n]\n",
    "same_id_athletes"
   ],
   "metadata": {
    "collapsed": false,
    "pycharm": {
     "name": "#%%\n"
    }
   }
  },
  {
   "cell_type": "code",
   "execution_count": null,
   "outputs": [],
   "source": [
    "workouts_df.loc[workouts_df['athlete_id'].isin(same_id_athletes)]"
   ],
   "metadata": {
    "collapsed": false,
    "pycharm": {
     "name": "#%%\n"
    }
   }
  },
  {
   "cell_type": "code",
   "execution_count": null,
   "outputs": [],
   "source": [
    "teams_df = pd.read_csv('./data/teams.csv')\n",
    "len(teams_df['team_gen_id'].unique())"
   ],
   "metadata": {
    "collapsed": false,
    "pycharm": {
     "name": "#%%\n"
    }
   }
  },
  {
   "cell_type": "code",
   "execution_count": null,
   "outputs": [],
   "source": [
    "import pandas as pd\n",
    "\n",
    "workouts_df = pd.read_csv('./data/workouts.csv')\n",
    "workouts_df[workouts_df.duplicated()]"
   ],
   "metadata": {
    "collapsed": false,
    "pycharm": {
     "name": "#%%\n"
    }
   }
  },
  {
   "cell_type": "code",
   "execution_count": null,
   "outputs": [],
   "source": [
    "import pandas as pd\n",
    "\n",
    "tp_id_df = pd.read_csv('../tp data to upload/2018 - 2018.csv')\n",
    "tp_id_df = tp_id_df.append(pd.read_csv('../tp data to upload/2019 - 2019.csv'), ignore_index=True)\n",
    "tp_id_df = tp_id_df.append(pd.read_csv('../tp data to upload/ISN-2020 - ISN-2020.csv'), ignore_index=True)\n",
    "tp_id_df = tp_id_df.append(pd.read_csv('../tp data to upload/ISN-2018-MISSING - ISN-2018-MISSING.csv'),\n",
    "                           ignore_index=True)\n",
    "tp_id_df = tp_id_df.append(pd.read_csv('../tp data to upload/ISN-2019-MISSING - ISN-2019-MISSING.csv'),\n",
    "                           ignore_index=True)\n",
    "tp_id_df = tp_id_df.append(pd.read_csv('../tp data to upload/ISN-2020-MISSING - ISN-2020-MISSING.csv'),\n",
    "                           ignore_index=True)\n",
    "tp_id_df = tp_id_df.append(pd.read_csv('../tp data to upload/ISN TP WT - TP Data.csv'), ignore_index=True)\n",
    "tp_id_df = tp_id_df.append(pd.read_csv('../tp data to upload/ISN TP WT - Workouts.csv'), ignore_index=True)\n",
    "tp_id_df"
   ],
   "metadata": {
    "collapsed": false,
    "pycharm": {
     "name": "#%%\n"
    }
   }
  },
  {
   "cell_type": "code",
   "execution_count": null,
   "outputs": [],
   "source": [
    "missing_workouts = set(tp_id_df['Id']) - set(workouts_df['workout_tp_id'])"
   ],
   "metadata": {
    "collapsed": false,
    "pycharm": {
     "name": "#%%\n"
    }
   }
  },
  {
   "cell_type": "code",
   "execution_count": null,
   "outputs": [],
   "source": [],
   "metadata": {
    "collapsed": false,
    "pycharm": {
     "name": "#%%\n"
    }
   }
  },
  {
   "cell_type": "code",
   "execution_count": null,
   "outputs": [],
   "source": [
    "\n",
    "tp_id_df[tp_id_df['Id'].isin(missing_workouts) & (tp_id_df['WorkoutType'] == 'Bike')]['Athlete'].unique()\n",
    "#.to_csv('missing_workouts.csv',index=False,header=True)"
   ],
   "metadata": {
    "collapsed": false,
    "pycharm": {
     "name": "#%%\n"
    }
   }
  },
  {
   "cell_type": "code",
   "execution_count": null,
   "outputs": [],
   "source": [
    "marks_missing_workouts = set(workouts_df['workout_tp_id']) - set(tp_id_df['Id'])"
   ],
   "metadata": {
    "collapsed": false,
    "pycharm": {
     "name": "#%%\n"
    }
   }
  },
  {
   "cell_type": "code",
   "execution_count": null,
   "outputs": [],
   "source": [
    "marks_missings = workouts_df[workouts_df['workout_tp_id'].isin(marks_missing_workouts)]"
   ],
   "metadata": {
    "collapsed": false,
    "pycharm": {
     "name": "#%%\n"
    }
   }
  },
  {
   "cell_type": "code",
   "execution_count": null,
   "outputs": [],
   "source": [
    "# marks_missings.merge(tp_id_df,left_on='athlete_id',right_on='AthleteId')"
   ],
   "metadata": {
    "collapsed": false,
    "pycharm": {
     "name": "#%%\n"
    }
   }
  },
  {
   "cell_type": "code",
   "execution_count": null,
   "outputs": [],
   "source": [
    "tp_id_dict = {k: v for k, v in zip(tp_id_df['AthleteId'], tp_id_df['Athlete'])}\n",
    "marks_missings['athlete'] = marks_missings['athlete_id'].map(tp_id_dict)"
   ],
   "metadata": {
    "collapsed": false,
    "pycharm": {
     "name": "#%%\n"
    }
   }
  },
  {
   "cell_type": "code",
   "execution_count": null,
   "outputs": [],
   "source": [
    "new_cols = [marks_missings.columns[-1]]\n",
    "new_cols.extend(marks_missings.columns[:-1])\n",
    "marks_missings[new_cols]"
   ],
   "metadata": {
    "collapsed": false,
    "pycharm": {
     "name": "#%%\n"
    }
   }
  },
  {
   "cell_type": "code",
   "execution_count": null,
   "outputs": [],
   "source": [
    "marks_missings[new_cols]\n",
    "#.to_csv('additional_workouts.csv',index=False,header=True)\n"
   ],
   "metadata": {
    "collapsed": false,
    "pycharm": {
     "name": "#%%\n"
    }
   }
  },
  {
   "cell_type": "code",
   "execution_count": null,
   "outputs": [],
   "source": [
    "import pandas as pd\n",
    "\n",
    "df = pd.read_csv('./data/workouts.csv')\n",
    "df\n"
   ],
   "metadata": {
    "collapsed": false,
    "pycharm": {
     "name": "#%%\n"
    }
   }
  },
  {
   "cell_type": "code",
   "execution_count": null,
   "outputs": [],
   "source": [
    "df[df['workout_tp_id'] == 792187558]"
   ],
   "metadata": {
    "collapsed": false,
    "pycharm": {
     "name": "#%%\n"
    }
   }
  },
  {
   "cell_type": "code",
   "execution_count": null,
   "outputs": [],
   "source": [],
   "metadata": {
    "collapsed": false,
    "pycharm": {
     "name": "#%%\n"
    }
   }
  },
  {
   "cell_type": "code",
   "execution_count": null,
   "outputs": [],
   "source": [
    "import pandas as pd\n",
    "import mechanicalsoup\n",
    "\n",
    "teams_df = pd.read_csv('./data/teams.csv')\n",
    "teams_df"
   ],
   "metadata": {
    "collapsed": false,
    "pycharm": {
     "name": "#%%\n"
    }
   }
  },
  {
   "cell_type": "code",
   "execution_count": null,
   "outputs": [],
   "source": [
    "teams_df.groupby('team_gen_id').filter(lambda x: len(x['pcs_link'].unique()) > 1)"
   ],
   "metadata": {
    "collapsed": false,
    "pycharm": {
     "name": "#%%\n"
    }
   }
  },
  {
   "cell_type": "code",
   "execution_count": null,
   "outputs": [],
   "source": [
    "PCS_BASE_URL = \"https://www.procyclingstats.com/\"\n",
    "browser = mechanicalsoup.Browser()\n",
    "teams_df['new_pcs_link'] = None\n",
    "teams_id_mapping = {}\n",
    "for link, team in teams_df.groupby('pcs_link'):\n",
    "    team_gen_id = team['team_gen_id'].iloc[0]\n",
    "    team_page = browser.get(link)\n",
    "    team_by_years = team_page.soup.find_all(\"option\")\n",
    "    try:\n",
    "        team_url_min_year = PCS_BASE_URL + team_by_years[0].attrs['value'].split(\"/overview/\")[0]\n",
    "    except:\n",
    "        continue\n",
    "    if team_url_min_year in teams_id_mapping:\n",
    "        teams_id_mapping[team_url_min_year].append(team_gen_id)\n",
    "    else:\n",
    "        teams_id_mapping[team_url_min_year] = [team_gen_id]\n",
    "    idx_s, idx_e = team.index[0], team.index[-1]\n",
    "    for i, row in team.iterrows():\n",
    "        teams_df.at[i, 'new_pcs_link'] = team_url_min_year"
   ],
   "metadata": {
    "collapsed": false,
    "pycharm": {
     "name": "#%%\n"
    }
   }
  },
  {
   "cell_type": "code",
   "execution_count": null,
   "outputs": [],
   "source": [
    "teams_df.to_csv('./data/teams_after_renew.csv', index=False, header=True)"
   ],
   "metadata": {
    "collapsed": false,
    "pycharm": {
     "name": "#%%\n"
    }
   }
  },
  {
   "cell_type": "code",
   "execution_count": null,
   "outputs": [],
   "source": [
    "teams_id_mapping = {k: [str(e) for e in v] for k, v in teams_id_mapping.items()}"
   ],
   "metadata": {
    "collapsed": false,
    "pycharm": {
     "name": "#%%\n"
    }
   }
  },
  {
   "cell_type": "code",
   "execution_count": null,
   "outputs": [],
   "source": [
    "import json\n",
    "\n",
    "with open('./data/teams_id_mapping.json', 'w+') as f:\n",
    "    f.write(json.dumps(teams_id_mapping))\n"
   ],
   "metadata": {
    "collapsed": false,
    "pycharm": {
     "name": "#%%\n"
    }
   }
  },
  {
   "cell_type": "code",
   "execution_count": null,
   "outputs": [],
   "source": [
    "\n",
    "teams_df = pd.read_csv('./data/teams_after_renew.csv')"
   ],
   "metadata": {
    "collapsed": false,
    "pycharm": {
     "name": "#%%\n"
    }
   }
  },
  {
   "cell_type": "code",
   "execution_count": null,
   "outputs": [],
   "source": [
    "\n",
    "for i, row in teams_df.iterrows():\n",
    "    if str(row['new_pcs_link']) != 'nan':\n",
    "        teams_df.at[i, 'new_pcs_link'] = row['new_pcs_link'].replace('/overview/', '')"
   ],
   "metadata": {
    "collapsed": false,
    "pycharm": {
     "name": "#%%\n"
    }
   }
  },
  {
   "cell_type": "code",
   "execution_count": null,
   "outputs": [],
   "source": [
    "\n",
    "teams_df.to_csv('./data/teams_after_renew.csv', index=False, header=True)"
   ],
   "metadata": {
    "collapsed": false,
    "pycharm": {
     "name": "#%%\n"
    }
   }
  },
  {
   "cell_type": "code",
   "execution_count": null,
   "outputs": [],
   "source": [
    "riders_url_maor = pd.read_csv('./data/cyclists_strava_urls.csv')\n",
    "for i, r in riders_url_maor.iterrows():\n",
    "    if str(r['strava_link']) != 'nan':\n",
    "        if 'strava.com' not in str(r['strava_link']):\n",
    "            print(r['pcs_link'])\n",
    "        if len(str(r['strava_link'])) > 100:\n",
    "            print(r['pcs_link'])\n"
   ],
   "metadata": {
    "collapsed": false,
    "pycharm": {
     "name": "#%%\n"
    }
   }
  },
  {
   "cell_type": "code",
   "execution_count": null,
   "outputs": [],
   "source": [
    "riders_url_maor = pd.read_csv('./data/cyclists_strava_urls.csv')\n",
    "riders_url_maor = riders_url_maor.loc[~riders_url_maor['strava_link'].isna()]\n",
    "riders_url_maor"
   ],
   "metadata": {
    "collapsed": false,
    "pycharm": {
     "name": "#%%\n"
    }
   }
  },
  {
   "cell_type": "code",
   "execution_count": null,
   "outputs": [],
   "source": [
    "\n",
    "# riders_url_maor.to_csv('./data/all_cyclists_strava_urls.csv',index=False,header=True)"
   ],
   "metadata": {
    "collapsed": false,
    "pycharm": {
     "name": "#%%\n"
    }
   }
  },
  {
   "cell_type": "code",
   "execution_count": null,
   "outputs": [],
   "source": [
    "from utils import *\n",
    "\n",
    "teams_df = get_df('teams')\n",
    "teams_df"
   ],
   "metadata": {
    "collapsed": false,
    "pycharm": {
     "name": "#%%\n"
    }
   }
  },
  {
   "cell_type": "code",
   "execution_count": null,
   "outputs": [],
   "source": [
    "teams_df['team_pcs_id'] = None"
   ],
   "metadata": {
    "collapsed": false,
    "pycharm": {
     "name": "#%%\n"
    }
   }
  },
  {
   "cell_type": "code",
   "execution_count": null,
   "outputs": [],
   "source": [
    "from consts import *\n",
    "\n",
    "teams_df.to_csv(CSV_PATHS['teams'], index=False, header=True)\n"
   ],
   "metadata": {
    "collapsed": false,
    "pycharm": {
     "name": "#%%\n"
    }
   }
  },
  {
   "cell_type": "code",
   "execution_count": null,
   "outputs": [],
   "source": [
    "\n",
    "from utils import *\n",
    "\n",
    "stages_df = get_df('stages')\n",
    "stages_df"
   ],
   "metadata": {
    "collapsed": false,
    "pycharm": {
     "name": "#%%\n"
    }
   }
  },
  {
   "cell_type": "code",
   "execution_count": null,
   "outputs": [],
   "source": [
    "race_dates = pd.to_datetime(stages_df['race_date'])"
   ],
   "metadata": {
    "collapsed": false,
    "pycharm": {
     "name": "#%%\n"
    }
   }
  },
  {
   "cell_type": "code",
   "execution_count": null,
   "outputs": [],
   "source": [
    "recent_stages = stages_df[race_dates > datetime(year=2007, day=1, month=1)]\n"
   ],
   "metadata": {
    "collapsed": false,
    "pycharm": {
     "name": "#%%\n"
    }
   }
  },
  {
   "cell_type": "code",
   "execution_count": null,
   "outputs": [],
   "source": [
    "recent_stages['classification'].unique()"
   ],
   "metadata": {
    "collapsed": false,
    "pycharm": {
     "name": "#%%\n"
    }
   }
  },
  {
   "cell_type": "code",
   "execution_count": null,
   "outputs": [],
   "source": [
    "stages_df = stages_df.drop(stages_df[stages_df['stage_type'] == 'Final GC'].index)\n",
    "\n",
    "stages_df[stages_df['stage_type'] != 'Final GC']"
   ],
   "metadata": {
    "collapsed": false,
    "pycharm": {
     "name": "#%%\n"
    }
   }
  },
  {
   "cell_type": "code",
   "execution_count": null,
   "outputs": [],
   "source": [
    "stages_df.to_csv(CSV_PATHS['stages'], index=False, header=True)"
   ],
   "metadata": {
    "collapsed": false,
    "pycharm": {
     "name": "#%%\n"
    }
   }
  },
  {
   "cell_type": "code",
   "execution_count": null,
   "outputs": [],
   "source": [
    "from utils import *\n",
    "\n",
    "cyclists_df = get_df('cyclists', index_col='cyclist_id')\n",
    "teams_df = get_df('teams', 'team_id')\n",
    "cyclists_teams_df = get_df('cyclists_teams')\n",
    "stages_df = get_df('stages', 'stage_id')"
   ],
   "metadata": {
    "collapsed": false,
    "pycharm": {
     "name": "#%%\n"
    }
   }
  },
  {
   "cell_type": "code",
   "execution_count": null,
   "outputs": [],
   "source": [
    "team_name = 'Team Jumbo-Visma'\n",
    "cyclist_name = 'VAN AERT Wout'\n",
    "team_pcs_id = 1330\n",
    "cyclist_id = cyclists_df[cyclists_df['cyclist_name_pcs'] == cyclist_name].index[0]\n",
    "stage_id = stages_df[stages_df['stage_link'] == 'https://www.procyclingstats.com/race/dauphine/2020/stage-1'].index[0]\n",
    "stage_date = datetime.strptime(stages_df.loc[stage_id]['race_date'], '%Y-%m-%d')\n",
    "year = stage_date.year\n",
    "cyclist_team = cyclists_teams_df.loc[\n",
    "    (cyclists_teams_df['cyclist_id'] == cyclist_id) & (cyclists_teams_df['season'] == year)]\n",
    "if cyclist_team.empty:\n",
    "    raise ValueError()\n",
    "if len(cyclist_team) > 1:\n",
    "    cyclist_team = cyclist_team.loc[(pd.to_datetime(cyclist_team['start_date']) <= stage_date) & (\n",
    "                pd.to_datetime(cyclist_team['stop_date']) >= stage_date)]\n",
    "cyclist_team = cyclist_team.iloc[0]\n",
    "team_id = cyclist_team['team_id']\n",
    "team = teams_df.loc[team_id]\n",
    "if team_name != team['team_name']:\n",
    "    raise ValueError()\n",
    "if str(team['team_pcs_id']) == 'nan':\n",
    "    team_gen_id = team['team_gen_id']\n",
    "    teams_df.at[team_id, 'team_pcs_id'] = team_pcs_id\n",
    "    teams_df.to_csv(CSV_PATHS['teams'], index=False, header=True)"
   ],
   "metadata": {
    "collapsed": false,
    "pycharm": {
     "name": "#%%\n"
    }
   }
  },
  {
   "cell_type": "code",
   "execution_count": null,
   "outputs": [],
   "source": [
    "teams_df.loc[teams_df['team_gen_id'] == team['team_gen_id']]\n"
   ],
   "metadata": {
    "collapsed": false,
    "pycharm": {
     "name": "#%%\n"
    }
   }
  },
  {
   "cell_type": "code",
   "execution_count": null,
   "outputs": [],
   "source": [],
   "metadata": {
    "collapsed": false,
    "pycharm": {
     "name": "#%%\n"
    }
   }
  },
  {
   "cell_type": "code",
   "execution_count": null,
   "outputs": [],
   "source": [
    "pd.DataFrame().to_csv(f'./data/test.csv', mode='a', index=False, header=False)\n"
   ],
   "metadata": {
    "collapsed": false,
    "pycharm": {
     "name": "#%%\n"
    }
   }
  },
  {
   "cell_type": "code",
   "execution_count": null,
   "outputs": [],
   "source": [
    "\n",
    "len(stages_df[stages_df['stage_type'].isin(TIME_TRIAL_TYPES)]['race_id'].unique())"
   ],
   "metadata": {
    "collapsed": false,
    "pycharm": {
     "name": "#%%\n"
    }
   }
  },
  {
   "cell_type": "code",
   "execution_count": null,
   "outputs": [],
   "source": [],
   "metadata": {
    "collapsed": false,
    "pycharm": {
     "name": "#%%\n"
    }
   }
  },
  {
   "cell_type": "code",
   "execution_count": null,
   "outputs": [],
   "source": [
    "teams_df = get_df('teams')\n",
    "teams_df['team_pcs_id'] = None\n",
    "# teams_df.to_csv(CSV_PATHS['teams'], index=False, header=True)"
   ],
   "metadata": {
    "collapsed": false,
    "pycharm": {
     "name": "#%%\n"
    }
   }
  },
  {
   "cell_type": "code",
   "execution_count": null,
   "outputs": [],
   "source": [
    "from datetime import timedelta\n",
    "\n",
    "\n",
    "def get_timedelta_from_string(time_gap):\n",
    "    gap_splits = time_gap.split(':')\n",
    "    if len(gap_splits) == 2:\n",
    "        gap = timedelta(minutes=int(gap_splits[-2]), seconds=int(gap_splits[-1]))\n",
    "    else:\n",
    "        gap = timedelta(hours=int(gap_splits[-3]), minutes=int(gap_splits[-2]), seconds=int(gap_splits[-1]))\n",
    "    return gap\n",
    "\n",
    "\n",
    "def get_finish_time(winner_finish_time, time_gap):\n",
    "    get_gap_timedelta = get_timedelta_from_string(time_gap)\n",
    "    finish_time_timedelta = get_timedelta_from_string(winner_finish_time)\n",
    "    total_finish_time = finish_time_timedelta + get_gap_timedelta\n",
    "    hours, remainder = divmod(total_finish_time.seconds, 3600)\n",
    "    minutes, seconds = divmod(remainder, 60)\n",
    "    if total_finish_time.days > 0:\n",
    "        hours += total_finish_time.days * 24\n",
    "    return f\"{str(hours).zfill(2)}:{str(minutes).zfill(2)}:{str(seconds).zfill(2)}\"\n"
   ],
   "metadata": {
    "collapsed": false,
    "pycharm": {
     "name": "#%%\n"
    }
   }
  },
  {
   "cell_type": "code",
   "execution_count": null,
   "outputs": [],
   "source": [
    "get_finish_time('15:48:14', '15:13:47')"
   ],
   "metadata": {
    "collapsed": false,
    "pycharm": {
     "name": "#%%\n"
    }
   }
  },
  {
   "cell_type": "code",
   "execution_count": null,
   "outputs": [],
   "source": [
    "from utils import *\n",
    "\n",
    "stages_df = get_df('stages')\n",
    "set(stages_df['classification']) - set(RACES_CLASS_TO_IGNORE)"
   ],
   "metadata": {
    "collapsed": false,
    "pycharm": {
     "name": "#%%\n"
    }
   }
  },
  {
   "cell_type": "code",
   "execution_count": null,
   "outputs": [],
   "source": [
    "from consts import *\n",
    "RACE_CLASSES_TO_INCLUDE = ['1.UWT', '2.UWT', '1.Pro', '2.Pro', '1.HC', '2.HC', '1.1', '1.2']\n",
    "\n",
    "stages_df[stages_df['classification'].apply(lambda a: str(a).lower()).isin([r.lower() for r in RACE_CLASSES_TO_INCLUDE])]"
   ],
   "metadata": {
    "collapsed": false,
    "pycharm": {
     "name": "#%%\n"
    }
   }
  },
  {
   "cell_type": "code",
   "execution_count": null,
   "outputs": [],
   "source": [
    "import seaborn as sns\n",
    "sns.histplot(data=stages_df, x=\"classification\")"
   ],
   "metadata": {
    "collapsed": false,
    "pycharm": {
     "name": "#%%\n"
    }
   }
  },
  {
   "cell_type": "code",
   "execution_count": null,
   "outputs": [],
   "source": [
    "stages_df[['classification']].plot.hist(bins=12, alpha=0.5).show()"
   ],
   "metadata": {
    "collapsed": false,
    "pycharm": {
     "name": "#%%\n"
    }
   }
  },
  {
   "cell_type": "code",
   "execution_count": null,
   "outputs": [],
   "source": [
    "for col in stages_df.columns:\n",
    "    for i,r in stages_df.iterrows():\n",
    "        if isinstance(r[col],str):\n",
    "            if r[col] != r[col].replace(',',''):\n",
    "                print(r[col])\n",
    "            stages_df.at[i,col]=r[col].replace(',','')"
   ],
   "metadata": {
    "collapsed": false,
    "pycharm": {
     "name": "#%%\n"
    }
   }
  },
  {
   "cell_type": "code",
   "execution_count": null,
   "outputs": [],
   "source": [],
   "metadata": {
    "collapsed": false,
    "pycharm": {
     "name": "#%%\n"
    }
   }
  },
  {
   "cell_type": "code",
   "execution_count": null,
   "outputs": [],
   "source": [
    "stages_df.to_csv(CSV_PATHS['stages'],index=False,header=True)"
   ],
   "metadata": {
    "collapsed": false,
    "pycharm": {
     "name": "#%%\n"
    }
   }
  },
  {
   "cell_type": "code",
   "execution_count": null,
   "outputs": [],
   "source": [
    "from utils import *\n",
    "\n",
    "stages_df = get_df('stages')\n",
    "stages_df['stage_number'] = None\n",
    "stage_name_pred = ~stages_df['stage_name'].isna() & (stages_df['stage_name'].str.contains('Stage'))\n",
    "stages_df.loc[stage_name_pred]['stage_name'].apply(lambda x: x.split()[1] if len(x)>1 else None)"
   ],
   "metadata": {
    "collapsed": false,
    "pycharm": {
     "name": "#%%\n"
    }
   }
  },
  {
   "cell_type": "code",
   "execution_count": null,
   "outputs": [],
   "source": [
    "stages_df.loc[stage_name_pred,'stage_number'] = stages_df.loc[stage_name_pred]['stage_name'].apply(lambda x: x.split()[1] if len(x)>1 else None)"
   ],
   "metadata": {
    "collapsed": false,
    "pycharm": {
     "name": "#%%\n"
    }
   }
  },
  {
   "cell_type": "code",
   "execution_count": null,
   "outputs": [],
   "source": [
    "\n",
    "stages_df.to_csv('./data/stages_fixed.csv',index=False,header=True)\n"
   ],
   "metadata": {
    "collapsed": false,
    "pycharm": {
     "name": "#%%\n"
    }
   }
  },
  {
   "cell_type": "code",
   "execution_count": null,
   "outputs": [],
   "source": [
    "\n",
    "from utils import *\n",
    "\n",
    "stages_df = get_df('stages')\n",
    "stages_df"
   ],
   "metadata": {
    "collapsed": false,
    "pycharm": {
     "name": "#%%\n"
    }
   }
  },
  {
   "cell_type": "code",
   "execution_count": null,
   "outputs": [],
   "source": [
    "import pandas as pd\n",
    "stages_df = pd.read_csv('data/stages.csv',encoding='latin_1')"
   ],
   "metadata": {
    "collapsed": false,
    "pycharm": {
     "name": "#%%\n"
    }
   }
  },
  {
   "cell_type": "code",
   "execution_count": null,
   "outputs": [],
   "source": [
    "stages_df['year'] = pd.to_datetime(stages_df['race_date']).apply(lambda x:x.year)"
   ],
   "metadata": {
    "collapsed": false,
    "pycharm": {
     "name": "#%%\n"
    }
   }
  },
  {
   "cell_type": "code",
   "execution_count": null,
   "outputs": [],
   "source": [
    "\n",
    "len(stages_df[(stages_df['year']>2019) & stages_df['classification'].isin(RACE_CLASSES_TO_INCLUDE)]['race_id'].unique())"
   ],
   "metadata": {
    "collapsed": false,
    "pycharm": {
     "name": "#%%\n"
    }
   }
  },
  {
   "cell_type": "code",
   "execution_count": null,
   "outputs": [],
   "source": [
    "from utils import *\n",
    "import pandas as pd\n",
    "import re\n",
    "\n",
    "stages_df = get_df('stages')\n",
    "stages_df['race_date'] = pd.to_datetime(stages_df['race_date'])\n",
    "stages_df['stage_date'] = pd.to_datetime(stages_df['stage_date'])"
   ],
   "metadata": {
    "collapsed": false,
    "pycharm": {
     "name": "#%%\n"
    }
   }
  },
  {
   "cell_type": "code",
   "execution_count": null,
   "outputs": [],
   "source": [
    "for i,r in stages_df.iterrows():\n",
    "    race_date = r['race_date']\n",
    "    stage_date = r['stage_date']\n",
    "\n",
    "    if str(race_date.year) not in r['race_link']:\n",
    "        # year = r['race_link'].split('/')[-1]\n",
    "        year_list = re.findall('(\\d{4})', r['race_link'])\n",
    "        if len(year_list)>0:\n",
    "            if len(year_list)>1:\n",
    "                print(year_list)\n",
    "                continue\n",
    "            year=year_list[0]\n",
    "            stages_df.loc[i,'race_date'] = race_date.replace(year=int(year))\n",
    "            stages_df.loc[i,'stage_date'] = stage_date.replace(year=int(year))\n",
    "            print(f\"{year} {race_date.year} {r['race_link']}\")\n",
    "            print(i)\n",
    "        # print(f\"{year} {race_date.year} {r['race_link']}\")\n",
    "        # if f\"19{str(race_date.year)[2:]}\" not in r['race_link']:"
   ],
   "metadata": {
    "collapsed": false,
    "pycharm": {
     "name": "#%%\n"
    }
   }
  },
  {
   "cell_type": "code",
   "execution_count": null,
   "outputs": [],
   "source": [
    "\n",
    "# stages_df.to_csv('data/stages.csv',header=True,index=False)"
   ],
   "metadata": {
    "collapsed": false,
    "pycharm": {
     "name": "#%%\n"
    }
   }
  },
  {
   "cell_type": "code",
   "execution_count": null,
   "outputs": [],
   "source": [
    "stages_df.index"
   ],
   "metadata": {
    "collapsed": false,
    "pycharm": {
     "name": "#%%\n"
    }
   }
  },
  {
   "cell_type": "code",
   "execution_count": null,
   "outputs": [],
   "source": [
    "stages_df[stages_df['distance'].isna()]"
   ],
   "metadata": {
    "collapsed": false,
    "pycharm": {
     "name": "#%%\n"
    }
   }
  },
  {
   "cell_type": "code",
   "execution_count": null,
   "outputs": [],
   "source": [
    "'-'.split()"
   ],
   "metadata": {
    "collapsed": false,
    "pycharm": {
     "name": "#%%\n"
    }
   }
  },
  {
   "cell_type": "code",
   "execution_count": null,
   "outputs": [],
   "source": [
    "from utils import *\n",
    "import pandas as pd\n",
    "import re\n",
    "\n",
    "stages_df_cpy = pd.read_csv('data/stages - Copy.csv')\n",
    "len(stages_df_cpy)"
   ],
   "metadata": {
    "collapsed": false,
    "pycharm": {
     "name": "#%%\n"
    }
   }
  },
  {
   "cell_type": "code",
   "execution_count": null,
   "outputs": [],
   "source": [
    "from utils import *\n",
    "import pandas as pd\n",
    "import re\n",
    "\n",
    "stages_df = get_df('stages')"
   ],
   "metadata": {
    "collapsed": false,
    "pycharm": {
     "name": "#%%\n"
    }
   }
  },
  {
   "cell_type": "code",
   "execution_count": null,
   "outputs": [],
   "source": [
    "len(set(stages_df_cpy['stage_id']) - set(stages_df['stage_id']))\n"
   ],
   "metadata": {
    "collapsed": false,
    "pycharm": {
     "name": "#%%\n"
    }
   }
  },
  {
   "cell_type": "code",
   "execution_count": null,
   "outputs": [],
   "source": [
    "stages_diff = set(stages_df_cpy['stage_id']) - set(stages_df['stage_id'])\n",
    "df = stages_df_cpy[stages_df_cpy['stage_id'].isin(stages_diff)]\n",
    "df.to_csv('data/stages.csv', mode='a', header=False, index=False)"
   ],
   "metadata": {
    "collapsed": false,
    "pycharm": {
     "name": "#%%\n"
    }
   }
  },
  {
   "cell_type": "code",
   "execution_count": null,
   "outputs": [],
   "source": [
    "stages_df['start_time']=None\n",
    "stages_df['avg_speed_winner']=None\n",
    "stages_df['race_name']=None\n",
    "stages_df['pcs_city_finish']=None\n",
    "stages_df['pcs_city_start']=None\n",
    "stages_df.head()"
   ],
   "metadata": {
    "collapsed": false,
    "pycharm": {
     "name": "#%%\n"
    }
   }
  },
  {
   "cell_type": "code",
   "execution_count": null,
   "outputs": [],
   "source": [
    "stages_df.to_csv('data/stages.csv',header=True,index=False)"
   ],
   "metadata": {
    "collapsed": false,
    "pycharm": {
     "name": "#%%\n"
    }
   }
  },
  {
   "cell_type": "code",
   "execution_count": null,
   "outputs": [],
   "source": [
    "stages_df.columns"
   ],
   "metadata": {
    "collapsed": false,
    "pycharm": {
     "name": "#%%\n"
    }
   }
  },
  {
   "cell_type": "code",
   "execution_count": null,
   "outputs": [],
   "source": [
    "\n",
    "stages_df[~stages_df['elevation_gain'].isna()].sort_values('race_date')['elevation_gain']"
   ],
   "metadata": {
    "collapsed": false,
    "pycharm": {
     "name": "#%%\n"
    }
   }
  },
  {
   "cell_type": "code",
   "execution_count": null,
   "outputs": [],
   "source": [
    "#keep only empty rows\n",
    "stages_df = get_df('stages')\n",
    "stages_df_full=stages_df[~stages_df['race_name'].isna()]\n",
    "if os.path.exists('data/stages_full.csv'):\n",
    "    stages_df_full.to_csv('data/stages_full.csv',mode='a', header=False, index=False)\n",
    "else:\n",
    "    stages_df_full.to_csv('data/stages_full.csv', header=True, index=False)"
   ],
   "metadata": {
    "collapsed": false,
    "pycharm": {
     "name": "#%%\n"
    }
   }
  },
  {
   "cell_type": "code",
   "execution_count": null,
   "outputs": [],
   "source": [
    "stages_df_empty=stages_df[stages_df['race_name'].isna()]\n",
    "stages_df_empty.to_csv('data/stages.csv', header=True, index=False)"
   ],
   "metadata": {
    "collapsed": false,
    "pycharm": {
     "name": "#%%\n"
    }
   }
  },
  {
   "cell_type": "code",
   "execution_count": null,
   "outputs": [],
   "source": [
    "stages_df = get_df('stages')\n",
    "stages_df[stages_df['race_name'].isna()]"
   ],
   "metadata": {
    "collapsed": false,
    "pycharm": {
     "name": "#%%\n"
    }
   }
  },
  {
   "cell_type": "code",
   "execution_count": null,
   "outputs": [],
   "source": [
    "from StageExtractor import StageExtractor\n",
    "import pandas as pd\n",
    "from utils import *\n",
    "import traceback\n",
    "\n",
    "stages_df = get_df('stages')\n",
    "stages_df2=stages_df[stages_df['race_name'].isna()]\n",
    "overwrite=True\n",
    "counter=0\n",
    "extractor = StageExtractor(id='notebook')\n",
    "for i,r in stages_df2.iterrows():\n",
    "    try:\n",
    "        if counter>2000:\n",
    "            break\n",
    "        counter+=1\n",
    "        stage = r.to_dict()\n",
    "        race_link = r['race_link']\n",
    "        race_page = extractor.browser.get(race_link).soup\n",
    "        msg = f'race {race_link}'\n",
    "        log(msg, 'INFO', id=extractor.id)\n",
    "        stage['race_name'] = race_page.find('h1').text\n",
    "        stage_type = StageExtractor.get_stage_type(race_page.find('span', attrs={'class': 'blue'}).text)\n",
    "        stage['stage_date'] = datetime.now()\n",
    "        stage['race_date'] = datetime.now()\n",
    "\n",
    "        if (stage_type is None) or (stage_type == ''):\n",
    "            log(f'Trying to fetch stage with no type, link {race_link}', 'WARNING', id=extractor.id)\n",
    "            if any([('Stage' in o.text) for o in race_page.find_all('option')]):\n",
    "                extractor.stages_handler(race_page, stage, overwrite)\n",
    "            else:\n",
    "                extractor.non_stage_handler(race_page, stage, overwrite)\n",
    "            continue\n",
    "        elif stage_type not in STAGES_TYPES:\n",
    "            raise ValueError(f'Failed to parse race {race_link}, unfamiliar type {stage_type}')\n",
    "        if stage_type in [\"One day race\", \"Time trial\"]:\n",
    "            extractor.non_stage_handler(race_page, stage, overwrite)\n",
    "        else:\n",
    "            extractor.stages_handler(race_page, stage, overwrite)\n",
    "    except:\n",
    "        print(race_page.find('h1').text)\n",
    "        log('ERROR: main loop','ERROR',id=extractor.id)"
   ],
   "metadata": {
    "collapsed": false,
    "pycharm": {
     "name": "#%%\n"
    }
   }
  },
  {
   "cell_type": "code",
   "execution_count": null,
   "outputs": [],
   "source": [
    "stages_df_full= pd.read_csv('data/stages_full.csv')\n",
    "stages_df_full = stages_df_full.drop_duplicates()\n",
    "stages_df_full.to_csv('data/stages_full.csv', header=True, index=False)"
   ],
   "metadata": {
    "collapsed": false,
    "pycharm": {
     "name": "#%%\n"
    }
   }
  },
  {
   "cell_type": "code",
   "execution_count": null,
   "outputs": [],
   "source": [
    "len(set(stages_df_cpy['stage_id'])-set(stages_df_full['stage_id']))\n",
    "\n",
    "stages_df_full.to_csv('data/stages.csv', mode='a',header=False, index=False)"
   ],
   "metadata": {
    "collapsed": false,
    "pycharm": {
     "name": "#%%\n"
    }
   }
  },
  {
   "cell_type": "code",
   "execution_count": null,
   "outputs": [],
   "source": [
    "stages_df = get_df('stages')\n",
    "stages_df[stages_df.duplicated()]"
   ],
   "metadata": {
    "collapsed": false,
    "pycharm": {
     "name": "#%%\n"
    }
   }
  },
  {
   "cell_type": "code",
   "execution_count": null,
   "outputs": [],
   "source": [
    "len(stages_df['stage_id'].unique())"
   ],
   "metadata": {
    "collapsed": false,
    "pycharm": {
     "name": "#%%\n"
    }
   }
  },
  {
   "cell_type": "code",
   "execution_count": null,
   "outputs": [],
   "source": [
    "len(stages_df)"
   ],
   "metadata": {
    "collapsed": false,
    "pycharm": {
     "name": "#%%\n"
    }
   }
  },
  {
   "cell_type": "code",
   "execution_count": null,
   "outputs": [],
   "source": [
    "dup_df = stages_df.groupby('stage_id').filter(lambda x: len(x) > 1)\n",
    "\n",
    "\n",
    "\n"
   ],
   "metadata": {
    "collapsed": false,
    "pycharm": {
     "name": "#%%\n"
    }
   }
  },
  {
   "cell_type": "code",
   "execution_count": null,
   "outputs": [],
   "source": [],
   "metadata": {
    "collapsed": false,
    "pycharm": {
     "name": "#%%\n"
    }
   }
  },
  {
   "cell_type": "code",
   "execution_count": null,
   "outputs": [],
   "source": [
    "stages_df = get_df('stages')\n",
    "for s in stages_df_cpy['stage_id'].unique():\n",
    "    if s in stages_df['stage_id']:\n",
    "        row = stages_df[stages_df['stage_id']==s]\n",
    "        row2= stages_df_cpy[stages_df_cpy['stage_id']==s]\n",
    "        if len(row)>0:\n",
    "            print('problem')\n",
    "        else:\n",
    "            for c in row.columns:\n",
    "                if (str(row.iloc[0][c])=='nan') and (str(row2.iloc[0][c])=='nan'):\n",
    "                    continue\n",
    "                if row.iloc[0][c]!=row2.iloc[0][c]:\n",
    "                    print(s,f\"{row.iloc[0][c]}!={row2.iloc[0][c]}\")"
   ],
   "metadata": {
    "collapsed": false,
    "pycharm": {
     "name": "#%%\n"
    }
   }
  },
  {
   "cell_type": "code",
   "execution_count": null,
   "outputs": [],
   "source": [
    "stages_df = get_df('stages')\n",
    "stages_df[['stage_id','race_name','']]"
   ],
   "metadata": {
    "collapsed": false,
    "pycharm": {
     "name": "#%%\n"
    }
   }
  },
  {
   "cell_type": "code",
   "execution_count": null,
   "outputs": [],
   "source": [
    "import os\n",
    "import pandas as pd\n",
    "from utils import *\n",
    "stages_results_path = 'data/by years'\n",
    "stages_results_by_years = os.listdir(stages_results_path)\n",
    "stages_results_columns = pd.read_csv('data/stages_results - Copy.csv').columns\n",
    "# stages_results_df\n",
    "print(list(stages_results_columns))\n",
    "for file_year in stages_results_by_years:\n",
    "    print(file_year)\n",
    "    total_path = f'{stages_results_path}/{file_year}'\n",
    "    df = pd.read_csv(total_path)\n",
    "    if os.path.exists('data/stages_results.csv'):\n",
    "        df.to_csv('data/stages_results.csv',mode='a',index=False,header=False)\n",
    "    else:\n",
    "        df.to_csv('data/stages_results.csv',index=False,header=True)\n"
   ],
   "metadata": {
    "collapsed": false,
    "pycharm": {
     "name": "#%%\n"
    }
   }
  },
  {
   "cell_type": "code",
   "execution_count": null,
   "outputs": [],
   "source": [
    "stages_results_df = get_df('stages_results')\n",
    "stages_results_df"
   ],
   "metadata": {
    "collapsed": false,
    "pycharm": {
     "name": "#%%\n"
    }
   }
  },
  {
   "cell_type": "code",
   "execution_count": null,
   "outputs": [],
   "source": [
    "stages_results_df['result_id'] = stages_results_df.index+1"
   ],
   "metadata": {
    "collapsed": false,
    "pycharm": {
     "name": "#%%\n"
    }
   }
  },
  {
   "cell_type": "code",
   "execution_count": null,
   "outputs": [],
   "source": [
    "stages_results_df"
   ],
   "metadata": {
    "collapsed": false,
    "pycharm": {
     "name": "#%%\n"
    }
   }
  },
  {
   "cell_type": "code",
   "execution_count": null,
   "outputs": [],
   "source": [
    "# stages_results_df.to_csv('data/stages_results.csv',index=False,header=True)"
   ],
   "metadata": {
    "collapsed": false,
    "pycharm": {
     "name": "#%%\n"
    }
   }
  },
  {
   "cell_type": "code",
   "execution_count": null,
   "outputs": [],
   "source": [
    "import pandas as pd\n",
    "from utils import *\n",
    "from consts import *\n",
    "stages_df = get_df('stages')\n",
    "stages_results_df = get_df('stages_results')\n",
    "strava_urls = pd.read_csv('data/all_cyclists_strava_urls.csv')\n",
    "cyclists_teams_df = get_df('cyclists_teams')\n",
    "teams_df = get_df('teams')"
   ],
   "metadata": {
    "collapsed": false,
    "pycharm": {
     "name": "#%%\n"
    }
   }
  },
  {
   "cell_type": "code",
   "execution_count": null,
   "outputs": [],
   "source": [
    "strava_cyclists = set(strava_urls[(strava_urls['private_account']==0)]['cyclist_id'])\n",
    "len(strava_cyclists)"
   ],
   "metadata": {
    "collapsed": false,
    "pycharm": {
     "name": "#%%\n"
    }
   }
  },
  {
   "cell_type": "code",
   "execution_count": null,
   "outputs": [],
   "source": [
    "cyclists_teams_df[(cyclists_teams_df['season']>=2010) & (cyclists_teams_df['season']<=2022)].sort_values('season')"
   ],
   "metadata": {
    "collapsed": false,
    "pycharm": {
     "name": "#%%\n"
    }
   }
  },
  {
   "cell_type": "code",
   "execution_count": null,
   "outputs": [],
   "source": [
    "cyclists_in_teams_in_strava = cyclists_teams_df[(cyclists_teams_df['season']>=2010) & (cyclists_teams_df['season']<=2022)].sort_values('season')\n",
    "for n,g in cyclists_in_teams_in_strava.groupby(['season','team_id']):\n",
    "    c_count = g.count()['cyclist_id']\n",
    "    if c_count<10:\n",
    "        team = teams_df[teams_df['team_id']==n[1]].iloc[0]\n",
    "        if (str(team['team_class']) in ['WT','PRT']):\n",
    "            print(c_count)\n",
    "            print(n)\n",
    "            print(team['pcs_link'])"
   ],
   "metadata": {
    "collapsed": false,
    "pycharm": {
     "name": "#%%\n"
    }
   }
  },
  {
   "cell_type": "code",
   "execution_count": null,
   "outputs": [],
   "source": [
    "stages_pros_df = stages_df[stages_df['classification'].isin(RACE_CLASSES_TO_INCLUDE)]\n",
    "stages_results_pros_df = stages_results_df[stages_results_df['stage_id'].isin(stages_pros_df['stage_id']).values]\n",
    "cyclists_in_teams_in_strava_df = pd.DataFrame(columns=['season','team_gen_id','cyclists in team',\n",
    "                                                       'cyclists in strava',\n",
    "                                                       'cyclists in team in strava'])\n",
    "i=0\n",
    "team_id_to_gen = {k:v for k,v in zip(teams_df['team_id'],teams_df['team_gen_id'])}\n",
    "cyclists_in_teams_in_strava['team_gen_id'] = cyclists_in_teams_in_strava['team_id'].map(team_id_to_gen)\n",
    "for n,g in cyclists_in_teams_in_strava.groupby(['season','team_gen_id']):\n",
    "    c_count = g.count()['cyclist_id']\n",
    "    cyclist_ids = set(g['cyclist_id'])\n",
    "    team_ids = g['team_id'].values\n",
    "    if len(set(team_ids).intersection(stages_results_pros_df['team_id'].values))>0:\n",
    "        cyclists_in_team_in_strava = strava_cyclists.intersection(cyclist_ids)\n",
    "        cyclists_in_teams_in_strava_df.at[i,'season'] = n[0]\n",
    "        cyclists_in_teams_in_strava_df.at[i,'team_gen_id'] = n[1]\n",
    "        cyclists_in_teams_in_strava_df.at[i,'cyclists in team'] = c_count\n",
    "        cyclists_in_teams_in_strava_df.at[i,'cyclists in strava'] = len(cyclists_in_team_in_strava)\n",
    "        cyclists_in_teams_in_strava_df.at[i,'cyclists in team in strava'] = round(len(cyclists_in_team_in_strava)/c_count,2)\n",
    "        i+=1\n"
   ],
   "metadata": {
    "collapsed": false,
    "pycharm": {
     "name": "#%%\n"
    }
   }
  },
  {
   "cell_type": "code",
   "execution_count": null,
   "outputs": [],
   "source": [
    "cyclists_in_teams_in_strava_df = cyclists_in_teams_in_strava_df.astype(float)[cyclists_in_teams_in_strava_df['season']>2015]\n",
    "cyclists_in_teams_in_strava_df.groupby(['team_gen_id'], as_index=False).filter(lambda x: (len(x)>2) and (any(x['cyclists in team in strava']>0.9)) and (x['cyclists in team in strava'].mean()>0.7)).sort_values(['team_gen_id','season'])\n",
    "# .sort_values(['team_gen_id','cyclists in team in strava'],ascending=False).filter(lambda x: len(x)<3)"
   ],
   "metadata": {
    "collapsed": false,
    "pycharm": {
     "name": "#%%\n"
    }
   }
  },
  {
   "cell_type": "code",
   "execution_count": null,
   "outputs": [],
   "source": [
    "CHOSEN_TEAMS={96538.0,74559.0,71970.0}"
   ],
   "metadata": {
    "collapsed": false,
    "pycharm": {
     "name": "#%%\n"
    }
   }
  },
  {
   "cell_type": "code",
   "execution_count": null,
   "outputs": [],
   "source": [],
   "metadata": {
    "collapsed": false,
    "pycharm": {
     "name": "#%%\n"
    }
   }
  },
  {
   "cell_type": "code",
   "execution_count": null,
   "outputs": [],
   "source": [
    "import pandas as pd\n",
    "from utils import *\n",
    "from consts import *\n",
    "stages_df = get_df('stages')\n",
    "stages_results_df = get_df('stages_results')\n",
    "strava_urls = pd.read_csv('data/all_cyclists_strava_urls.csv')\n",
    "cyclists_teams_df = get_df('cyclists_teams')\n",
    "teams_df = get_df('teams')"
   ],
   "metadata": {
    "collapsed": false,
    "pycharm": {
     "name": "#%%\n"
    }
   }
  },
  {
   "cell_type": "code",
   "execution_count": null,
   "outputs": [],
   "source": [
    "strava_cyclists = set(strava_urls[(strava_urls['private_account']==0)]['cyclist_id'])\n",
    "len(strava_cyclists)"
   ],
   "metadata": {
    "collapsed": false,
    "pycharm": {
     "name": "#%%\n"
    }
   }
  },
  {
   "cell_type": "code",
   "execution_count": null,
   "outputs": [],
   "source": [
    "# cyclists_teams_df[(cyclists_teams_df['season']>=2010) & (cyclists_teams_df['season']<=2022)].sort_values('season')"
   ],
   "metadata": {
    "collapsed": false,
    "pycharm": {
     "name": "#%%\n"
    }
   }
  },
  {
   "cell_type": "code",
   "execution_count": null,
   "outputs": [],
   "source": [
    "cyclists_in_teams_in_strava = cyclists_teams_df[(cyclists_teams_df['season']>=2010) & (cyclists_teams_df['season']<=2022)].sort_values('season')"
   ],
   "metadata": {
    "collapsed": false,
    "pycharm": {
     "name": "#%%\n"
    }
   }
  },
  {
   "cell_type": "code",
   "execution_count": null,
   "outputs": [],
   "source": [
    "# for n,g in cyclists_in_teams_in_strava.groupby(['season','team_id']):\n",
    "#     c_count = g.count()['cyclist_id']\n",
    "#     if c_count<10:\n",
    "#         team = teams_df[teams_df['team_id']==n[1]].iloc[0]\n",
    "#         if (str(team['team_class']) in ['WT','PRT']):\n",
    "#             print(c_count)\n",
    "#             print(n)\n",
    "#             print(team['pcs_link'])"
   ],
   "metadata": {
    "collapsed": false,
    "pycharm": {
     "name": "#%%\n"
    }
   }
  },
  {
   "cell_type": "code",
   "execution_count": null,
   "outputs": [],
   "source": [
    "stages_pros_df = stages_df[stages_df['classification'].isin(RACE_CLASSES_TO_INCLUDE)]\n",
    "stages_results_pros_df = stages_results_df[stages_results_df['stage_id'].isin(stages_pros_df['stage_id']).values]\n",
    "stages_pros_df['year'] = pd.to_datetime(stages_pros_df['race_date']).apply(lambda dt:dt.year)\n",
    "stage_year_dict = {k:v for k,v in zip(stages_pros_df['stage_id'],stages_pros_df['year'])}\n",
    "stages_results_pros_df['year'] = stages_results_pros_df['stage_id'].map(stage_year_dict)"
   ],
   "metadata": {
    "collapsed": false,
    "pycharm": {
     "name": "#%%\n"
    }
   }
  },
  {
   "cell_type": "code",
   "execution_count": null,
   "outputs": [],
   "source": [
    "cyclists_in_teams_pre_season_df = pd.DataFrame()\n",
    "i=0\n",
    "team_id_to_gen = {k:v for k,v in zip(teams_df['team_id'],teams_df['team_gen_id'])}\n",
    "cyclists_in_teams_in_strava['team_gen_id'] = cyclists_in_teams_in_strava['team_id'].map(team_id_to_gen)\n",
    "for n,g in cyclists_in_teams_in_strava.groupby(['season','team_gen_id']):\n",
    "    c_count = g.count()['cyclist_id']\n",
    "    cyclist_ids = set(g['cyclist_id'])\n",
    "    team_ids = g['team_id'].values\n",
    "    team_results= stages_results_pros_df[stages_results_pros_df['team_id'].isin(team_ids)]\n",
    "    if not team_results.empty:\n",
    "        cyclists_in_team_in_strava = strava_cyclists.intersection(cyclist_ids)\n",
    "        cyclists_in_teams_pre_season_df.at[i,'season'] = n[0]\n",
    "        cyclists_in_teams_pre_season_df.at[i,'team_gen_id'] = n[1]\n",
    "        cyclists_in_teams_pre_season_df.at[i,'cyclists in team'] = c_count\n",
    "        cyclists_in_teams_pre_season_df.at[i,'cyclists in strava'] = len(cyclists_in_team_in_strava)\n",
    "        cyclists_in_teams_pre_season_df.at[i,'cyclists in team in strava'] = round(len(cyclists_in_team_in_strava)/c_count,2)\n",
    "        cyclists_in_teams_pre_season_df.at[i,'number of stages'] = len(team_results['stage_id'].unique())\n",
    "        cyclists_in_teams_pre_season_df.at[i,'number of races'] = len(team_results['race_id'].unique())\n",
    "        i+=1\n"
   ],
   "metadata": {
    "collapsed": false,
    "pycharm": {
     "name": "#%%\n"
    }
   }
  },
  {
   "cell_type": "code",
   "execution_count": null,
   "outputs": [],
   "source": [
    "cyclists_in_teams_pre_season_df.head()"
   ],
   "metadata": {
    "collapsed": false,
    "pycharm": {
     "name": "#%%\n"
    }
   }
  },
  {
   "cell_type": "code",
   "execution_count": 238,
   "outputs": [],
   "source": [
    "cyclists_in_teams_df = pd.DataFrame()\n",
    "i=0\n",
    "for n,g in cyclists_in_teams_in_strava_df.groupby('team_gen_id'):\n",
    "    cyclists_in_teams_df.at[i,'team_gen_id'] = n\n",
    "    n_years=int(g['season'].max() + 1 - g['season'].min())\n",
    "    cyclists_in_teams_df.at[i,'number of years'] = n_years\n",
    "    cyclists_in_teams_df.at[i,'avg(cyclists in team)'] = round(g['cyclists in team'].mean(),2)\n",
    "    cyclists_in_teams_df.at[i,'std(cyclists in team)'] = round(g['cyclists in team'].std(),2)\n",
    "    cyclists_in_teams_df.at[i,'avg(cyclists in strava)'] = round(g['cyclists in strava'].mean(),2)\n",
    "    cyclists_in_teams_df.at[i,'std(cyclists in strava)'] = round(g['cyclists in strava'].std(),2)\n",
    "    cyclists_in_teams_df.at[i,'avg(cyclists in team in strava)'] = round(g['cyclists in team in strava'].mean(),2)\n",
    "    cyclists_in_teams_df.at[i,'std(cyclists in team in strava)'] = round(g['cyclists in team in strava'].std(),2)\n",
    "    cyclists_in_teams_df.at[i,'number of stages'] = round(g['number of stages'].sum(),2)\n",
    "    cyclists_in_teams_df.at[i,'number of races'] = round(g['number of races'].sum(),2)\n",
    "    cyclists_in_teams_df.at[i,'number of stages per year'] = round(g['number of stages'].sum()/n_years,2)\n",
    "    cyclists_in_teams_df.at[i,'number of races per year'] = round(g['number of races'].sum()/n_years,2)\n",
    "    i+=1\n"
   ],
   "metadata": {
    "collapsed": false,
    "pycharm": {
     "name": "#%%\n"
    }
   }
  },
  {
   "cell_type": "code",
   "execution_count": 241,
   "outputs": [],
   "source": [
    "cyclists_in_teams_df=cyclists_in_teams_df.sort_values('number of stages per year',ascending=False)\n",
    "cyclists_in_teams_df.to_csv('data/teams_stats.csv',index=False)"
   ],
   "metadata": {
    "collapsed": false,
    "pycharm": {
     "name": "#%%\n"
    }
   }
  },
  {
   "cell_type": "code",
   "execution_count": null,
   "outputs": [],
   "source": [
    "cyclists_in_teams_in_strava_df = cyclists_in_teams_in_strava_df.astype(float)#[cyclists_in_teams_in_strava_df['season']>2015]\n",
    "cyclists_in_teams_in_strava_df.groupby(['team_gen_id'], as_index=False)\\\n",
    "    .filter(lambda x: (len(x)>2) and (any(x['cyclists in team in strava']>0.9))\n",
    "                      and (x['cyclists in team in strava'].mean()>0.7))\\\n",
    "    .sort_values(['team_gen_id','season'])\n",
    "# .sort_values(['team_gen_id','cyclists in team in strava'],ascending=False).filter(lambda x: len(x)<3)"
   ],
   "metadata": {
    "collapsed": false,
    "pycharm": {
     "name": "#%%\n"
    }
   }
  },
  {
   "cell_type": "code",
   "execution_count": null,
   "outputs": [],
   "source": [
    "CHOSEN_TEAMS={96538.0,74559.0,71970.0}"
   ],
   "metadata": {
    "collapsed": false,
    "pycharm": {
     "name": "#%%\n"
    }
   }
  },
  {
   "cell_type": "code",
   "execution_count": null,
   "outputs": [],
   "source": [
    "cyclists_in_teams_in_strava_df = cyclists_in_teams_in_strava_df.astype(float)#[cyclists_in_teams_in_strava_df['season']>2015]\n",
    "cyclists_in_teams_in_strava_df.groupby(['team_gen_id'], as_index=False).filter(lambda x: (len(x)>2) and (any(x['cyclists in team in strava']==1.0)) and (x['cyclists in team in strava'].mean()>0.7)).sort_values(['team_gen_id','season'])\n",
    "# .sort_values(['team_gen_id','cyclists in team in strava'],ascending=False).filter(lambda x: len(x)<3)"
   ],
   "metadata": {
    "collapsed": false,
    "pycharm": {
     "name": "#%%\n"
    }
   }
  },
  {
   "cell_type": "code",
   "execution_count": null,
   "outputs": [],
   "source": [
    "cyclists_in_teams_in_strava_df.groupby(['team_gen_id'], as_index=False)\\\n",
    "    .filter(lambda x: len(x[x['cyclists in team in strava']>=0.8])>2)\\\n",
    "    .sort_values(['team_gen_id','season'])\n",
    "# .sort_values(['team_gen_id','cyclists in team in strava'],ascending=False).filter(lambda x: len(x)<3)"
   ],
   "metadata": {
    "collapsed": false,
    "pycharm": {
     "name": "#%%\n"
    }
   }
  },
  {
   "cell_type": "code",
   "execution_count": null,
   "outputs": [],
   "source": [
    "CHOSEN_TEAMS={96538.0,79912.0,74559.0}"
   ],
   "metadata": {
    "collapsed": false,
    "pycharm": {
     "name": "#%%\n"
    }
   }
  },
  {
   "cell_type": "code",
   "execution_count": null,
   "outputs": [],
   "source": [
    "cyclists_in_teams_in_strava_df[cyclists_in_teams_in_strava_df['cyclists in team in strava']>0.75]"
   ],
   "metadata": {
    "collapsed": false,
    "pycharm": {
     "name": "#%%\n"
    }
   }
  },
  {
   "cell_type": "code",
   "execution_count": null,
   "outputs": [],
   "source": [
    "\n",
    "for n,g in cyclists_in_teams_in_strava_df.groupby(['team_id']):\n",
    "    print(n, g[['season','cyclists in team in strava']])\n",
    "    cyclists_in_teams_in_strava_df[cyclists_in_teams_in_strava_df['cyclists in team in strava']>0.7]"
   ],
   "metadata": {
    "collapsed": false,
    "pycharm": {
     "name": "#%%\n"
    }
   }
  },
  {
   "cell_type": "code",
   "execution_count": null,
   "outputs": [],
   "source": [
    "\n",
    "stages_results_pros_df['team_gen_id'] = stages_results_pros_df['team_id'].map(team_id_to_gen)"
   ],
   "metadata": {
    "collapsed": false,
    "pycharm": {
     "name": "#%%\n"
    }
   }
  },
  {
   "cell_type": "code",
   "execution_count": null,
   "outputs": [],
   "source": [
    "len(stages_results_pros_df['team_gen_id'].unique())"
   ],
   "metadata": {
    "collapsed": false,
    "pycharm": {
     "name": "#%%\n"
    }
   }
  },
  {
   "cell_type": "code",
   "execution_count": null,
   "outputs": [],
   "source": [
    "stages_results_pros_df[['team_gen_id','race_id']].drop_duplicates().groupby(['team_gen_id'],as_index=False).count().sort_values(['race_id'],ascending=False).head(50)"
   ],
   "metadata": {
    "collapsed": false,
    "pycharm": {
     "name": "#%%\n"
    }
   }
  },
  {
   "cell_type": "code",
   "execution_count": null,
   "outputs": [],
   "source": [],
   "metadata": {
    "collapsed": false,
    "pycharm": {
     "name": "#%%\n"
    }
   }
  },
  {
   "cell_type": "code",
   "execution_count": null,
   "outputs": [],
   "source": [
    "def miss_rate(df):\n",
    "  miss_rate_dict = {}\n",
    "  for col in df.columns:\n",
    "    miss_rate_dict[col] = round(100*(len(df[df[col].isna()])/len(df)))\n",
    "  return sorted(miss_rate_dict.items(), key=lambda item: item[1])\n",
    "\n",
    "miss_rate(stages_pros_df)"
   ],
   "metadata": {
    "collapsed": false,
    "pycharm": {
     "name": "#%%\n"
    }
   }
  },
  {
   "cell_type": "code",
   "execution_count": null,
   "outputs": [],
   "source": [
    "print(len(stages_pros_df))"
   ],
   "metadata": {
    "collapsed": false,
    "pycharm": {
     "name": "#%%\n"
    }
   }
  },
  {
   "cell_type": "code",
   "execution_count": 243,
   "outputs": [
    {
     "data": {
      "text/plain": "2082"
     },
     "execution_count": 243,
     "metadata": {},
     "output_type": "execute_result"
    }
   ],
   "source": [
    "len(teams_df['team_oldest_pcs_link'].unique())"
   ],
   "metadata": {
    "collapsed": false,
    "pycharm": {
     "name": "#%%\n"
    }
   }
  },
  {
   "cell_type": "code",
   "execution_count": 244,
   "outputs": [],
   "source": [
    "import pandas as pd\n",
    "from utils import *\n",
    "from consts import *\n",
    "stages_df = get_df('stages')\n",
    "\n"
   ],
   "metadata": {
    "collapsed": false,
    "pycharm": {
     "name": "#%%\n"
    }
   }
  },
  {
   "cell_type": "code",
   "execution_count": 245,
   "outputs": [],
   "source": [
    "stages_df['race_oldest_pcs_link']=None\n"
   ],
   "metadata": {
    "collapsed": false,
    "pycharm": {
     "name": "#%%\n"
    }
   }
  },
  {
   "cell_type": "code",
   "execution_count": 246,
   "outputs": [],
   "source": [
    "# stages_df.to_csv('data/stages.csv',index=False)"
   ],
   "metadata": {
    "collapsed": false,
    "pycharm": {
     "name": "#%%\n"
    }
   }
  },
  {
   "cell_type": "code",
   "execution_count": null,
   "outputs": [],
   "source": [],
   "metadata": {
    "collapsed": false,
    "pycharm": {
     "name": "#%%\n"
    }
   }
  }
 ],
 "metadata": {
  "kernelspec": {
   "display_name": "Python 3",
   "language": "python",
   "name": "python3"
  },
  "language_info": {
   "codemirror_mode": {
    "name": "ipython",
    "version": 2
   },
   "file_extension": ".py",
   "mimetype": "text/x-python",
   "name": "python",
   "nbconvert_exporter": "python",
   "pygments_lexer": "ipython2",
   "version": "2.7.6"
  }
 },
 "nbformat": 4,
 "nbformat_minor": 0
}