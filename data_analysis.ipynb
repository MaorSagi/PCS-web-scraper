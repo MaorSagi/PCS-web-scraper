{
 "cells": [
  {
   "cell_type": "code",
   "execution_count": null,
   "outputs": [],
   "source": [
    "import pandas as pd\n",
    "\n",
    "w_df = pd.read_csv('./workout (1).csv')\n",
    "w_df"
   ],
   "metadata": {
    "collapsed": false,
    "pycharm": {
     "name": "#%%\n"
    }
   }
  },
  {
   "cell_type": "code",
   "execution_count": null,
   "outputs": [],
   "source": [
    "w_df['workout_strava_id'] = w_df['workout_strava_id'].apply(str)\n",
    "w_df[(w_df['temp_max'] < 30) & (w_df['workout_strava_id'] is not None)][['workout_strava_id', 'temp_max']]"
   ],
   "metadata": {
    "collapsed": false,
    "pycharm": {
     "name": "#%%\n"
    }
   }
  },
  {
   "cell_type": "code",
   "execution_count": null,
   "outputs": [],
   "source": [
    "from pandas_profiling import ProfileReport\n",
    "\n",
    "props_to_filter = ['workout_id', 'workout_tp_id', 'workout_strava_id']\n",
    "w_df = w_df.drop(props_to_filter, 1)\n",
    "profile_W = ProfileReport(w_df, title=\"Workouts - Pandas Profiling Report\")\n",
    "profile_W.to_file(\"STRAVA_workouts_profile.html\")"
   ],
   "metadata": {
    "collapsed": false,
    "pycharm": {
     "name": "#%%\n"
    }
   }
  },
  {
   "cell_type": "code",
   "execution_count": null,
   "outputs": [],
   "source": [
    "import requests\n",
    "import json\n",
    "\n",
    "d = 'utf8=%E2%9C%93&authenticity_token=4oSIQYhzT5KiwHTmYAfn6Ad9rYsQB3s5AXICiH0I914oc%2BXD4fHaS8sP4nzR758X0hFOhnA9nC1NNTrJbM47TA%3D%3D&plan=&email=velo2%40yandex.com&password=12345678'\n",
    "r = requests.post('https://www.strava.com/session', data=d)\n",
    "r"
   ],
   "metadata": {
    "collapsed": false,
    "pycharm": {
     "name": "#%%\n"
    }
   }
  },
  {
   "cell_type": "code",
   "execution_count": null,
   "outputs": [],
   "source": [
    "cks = r.history[0].cookies\n",
    "cks"
   ],
   "metadata": {
    "collapsed": false,
    "pycharm": {
     "name": "#%%\n"
    }
   }
  },
  {
   "cell_type": "code",
   "execution_count": null,
   "outputs": [],
   "source": [
    "cks = dict(_strava4_session='n4q7ipcsl1il58v1cs6egfqefjkrrefs', domain='strava.com')\n",
    "r2 = requests.get('https://www.strava.com/activities/346134136', cookies=cks)\n",
    "r2"
   ],
   "metadata": {
    "collapsed": false,
    "pycharm": {
     "name": "#%%\n"
    }
   }
  },
  {
   "cell_type": "code",
   "execution_count": null,
   "outputs": [],
   "source": [
    "print('test')\n",
    "r2\n"
   ],
   "metadata": {
    "collapsed": false,
    "pycharm": {
     "name": "#%%\n"
    }
   }
  },
  {
   "cell_type": "code",
   "execution_count": null,
   "outputs": [],
   "source": [
    "# from requests_html  import AsyncHTMLSession\n",
    "#\n",
    "# session  = AsyncHTMLSession()\n",
    "# response = await session.get('https://www.strava.com/activities/346134136',cookies=cks)\n",
    "#\n",
    "# # response.html.render()\n",
    "# # await r.html.arender()\n",
    "# resp=r.html.raw_html\n",
    "# print(resp)\n",
    "from bs4 import BeautifulSoup\n",
    "\n",
    "soup = BeautifulSoup(r2.text)\n",
    "text2 = soup.get_text()\n",
    "import nltk\n",
    "\n",
    "t = nltk.clean_html(r2.text)"
   ],
   "metadata": {
    "collapsed": false,
    "pycharm": {
     "name": "#%%\n"
    }
   }
  },
  {
   "cell_type": "code",
   "execution_count": null,
   "outputs": [],
   "source": [
    "from requests_html import AsyncHTMLSession\n",
    "\n",
    "asession = AsyncHTMLSession()\n",
    "\n",
    "r3 = await asession.get('https://www.strava.com/activities/346134136', cookies=cks)\n",
    "print(await r3.html.arender())\n",
    "\n"
   ],
   "metadata": {
    "collapsed": false,
    "pycharm": {
     "name": "#%%\n"
    }
   }
  },
  {
   "cell_type": "code",
   "execution_count": null,
   "outputs": [],
   "source": [
    "def format_prepped_request(prepped, encoding=None):\n",
    "    # prepped has .method, .path_url, .headers and .body attribute to view the request\n",
    "    encoding = encoding or requests.utils.get_encoding_from_headers(prepped.headers)\n",
    "    body = prepped.body.decode(encoding) if encoding else '<binary data>'\n",
    "    headers = '\\n'.join(['{}: {}'.format(*hv) for hv in prepped.headers.items()])\n",
    "    return f\"\"\"\\\n",
    "{prepped.method} {prepped.path_url} HTTP/2\n",
    "{headers}\n",
    "\n",
    "{body}\"\"\""
   ],
   "metadata": {
    "collapsed": false,
    "pycharm": {
     "name": "#%%\n"
    }
   }
  },
  {
   "cell_type": "code",
   "execution_count": null,
   "outputs": [],
   "source": [
    "url = \"https://www.strava.com/session\"\n",
    "# session = requests.Session()\n",
    "from requests_html import AsyncHTMLSession\n",
    "\n",
    "asession = AsyncHTMLSession()\n",
    "data = 'utf8=%E2%9C%93&authenticity_token=4oSIQYhzT5KiwHTmYAfn6Ad9rYsQB3s5AXICiH0I914oc%2BXD4fHaS8sP4nzR758X0hFOhnA9nC1NNTrJbM47TA%3D%3D&plan=&email=velo2%40yandex.com&password=12345678'\n",
    "cks = 'sp=938e7e66-7b9c-4b6d-90c8-d94819f85c42; _gcl_au=1.1.376044277.1640203903; _ga=GA1.2.1123165153.1640203904; _gid=GA1.2.104847519.1640203904; _strava4_session=iqqn8b6lv7gljijfm17c3lp6acrn7q59; _sp_ses.047d=*; _sp_id.047d=7f7caf8e-5364-4298-95df-31583f92c38a.1640210000.1.1640216482.1640210760.88247805-5a22-4e35-8383-2806f95c40ba'\n",
    "headers = {\n",
    "    'Host': 'www.strava.com',\n",
    "    'Cookie': cks,\n",
    "    'Content-Length': '177',\n",
    "    'Cache-Control': 'max-age=0',\n",
    "    'Sec-Ch-Ua': '\" Not A;Brand\";v=\"99\", \"Chromium\";v=\"96\"',\n",
    "    'Sec-Ch-Ua-Mobile': '?0',\n",
    "    'Sec-Ch-Ua-Platform': 'Windows',\n",
    "    'Upgrade-Insecure-Requests': '1',\n",
    "    'Origin': 'https://www.strava.com',\n",
    "    'Content-Type': 'application/x-www-form-urlencoded',\n",
    "    'User-Agent': 'Mozilla/5.0 (Windows NT 10.0; Win64; x64) AppleWebKit/537.36 (KHTML, like Gecko) Chrome/96.0.4664.45 Safari/537.36',\n",
    "    'Accept': 'text/html,application/xhtml+xml,application/xml;q=0.9,image/avif,image/webp,image/apng,*/*;q=0.8,application/signed-exchange;v=b3;q=0.9',\n",
    "    'Sec-Fetch-Site': 'same-origin',\n",
    "    'Sec-Fetch-Mode': 'navigate',\n",
    "    'Sec-Fetch-User': '?1',\n",
    "    'Sec-Fetch-Dest': 'document',\n",
    "    'Referer': 'https://www.strava.com/login',\n",
    "    'Accept-Encoding': 'gzip, deflate',\n",
    "    'Accept-Language': 'en-US,en;q=0.9'\n",
    "}\n",
    "\n",
    "request = requests.Request('POST', url, headers=headers, json=data)\n",
    "prepped = asession.prepare_request(request)\n",
    "prepped"
   ],
   "metadata": {
    "collapsed": false,
    "pycharm": {
     "name": "#%%\n"
    }
   }
  },
  {
   "cell_type": "code",
   "execution_count": null,
   "outputs": [],
   "source": [
    "print(\"Sending request:\")\n",
    "print(format_prepped_request(prepped, 'utf8'))\n",
    "print()"
   ],
   "metadata": {
    "collapsed": false,
    "pycharm": {
     "name": "#%%\n"
    }
   }
  },
  {
   "cell_type": "code",
   "execution_count": null,
   "outputs": [],
   "source": [
    "'''\n",
    "POST /session HTTP/2\n",
    "Host: www.strava.com\n",
    "Cookie: sp=938e7e66-7b9c-4b6d-90c8-d94819f85c42; _gcl_au=1.1.376044277.1640203903; _ga=GA1.2.1123165153.1640203904; _gid=GA1.2.104847519.1640203904; _strava4_session=iqqn8b6lv7gljijfm17c3lp6acrn7q59; _sp_ses.047d=*; _sp_id.047d=7f7caf8e-5364-4298-95df-31583f92c38a.1640210000.1.1640216482.1640210760.88247805-5a22-4e35-8383-2806f95c40ba\n",
    "Content-Length: 177\n",
    "Cache-Control: max-age=0\n",
    "Sec-Ch-Ua: \" Not A;Brand\";v=\"99\", \"Chromium\";v=\"96\"\n",
    "Sec-Ch-Ua-Mobile: ?0\n",
    "Sec-Ch-Ua-Platform: \"Windows\"\n",
    "Upgrade-Insecure-Requests: 1\n",
    "Origin: https://www.strava.com\n",
    "Content-Type: application/x-www-form-urlencoded\n",
    "User-Agent: Mozilla/5.0 (Windows NT 10.0; Win64; x64) AppleWebKit/537.36 (KHTML, like Gecko) Chrome/96.0.4664.45 Safari/537.36\n",
    "Accept: text/html,application/xhtml+xml,application/xml;q=0.9,image/avif,image/webp,image/apng,*/*;q=0.8,application/signed-exchange;v=b3;q=0.9\n",
    "Sec-Fetch-Site: same-origin\n",
    "Sec-Fetch-Mode: navigate\n",
    "Sec-Fetch-User: ?1\n",
    "Sec-Fetch-Dest: document\n",
    "Referer: https://www.strava.com/login\n",
    "Accept-Encoding: gzip, deflate\n",
    "Accept-Language: en-US,en;q=0.9\n",
    "\n",
    "utf8=%E2%9C%93&authenticity_token=4oSIQYhzT5KiwHTmYAfn6Ad9rYsQB3s5AXICiH0I914oc%2BXD4fHaS8sP4nzR758X0hFOhnA9nC1NNTrJbM47TA%3D%3D&plan=&email=velo2%40yandex.com&password=12345678\n",
    "'''"
   ],
   "metadata": {
    "collapsed": false,
    "pycharm": {
     "name": "#%%\n"
    }
   }
  },
  {
   "cell_type": "code",
   "execution_count": null,
   "outputs": [],
   "source": [
    "r = asession.send(prepped, verify=False)"
   ],
   "metadata": {
    "collapsed": false,
    "pycharm": {
     "name": "#%%\n"
    }
   }
  },
  {
   "cell_type": "code",
   "execution_count": null,
   "outputs": [],
   "source": [
    "print(r.history[0].cookies)\n",
    "cks = {'sp': '938e7e66-7b9c-4b6d-90c8-d94819f85c42',\n",
    "       ' _gcl_au': '1.1.376044277.1640203903',\n",
    "       ' _ga': 'GA1.2.1123165153.1640203904',\n",
    "       ' _gid': 'GA1.2.104847519.1640203904',\n",
    "       ' _strava4_session': 'iqqn8b6lv7gljijfm17c3lp6acrn7q59',\n",
    "       ' _sp_ses.047d': '*',\n",
    "       ' _sp_id.047d': '7f7caf8e-5364-4298-95df-31583f92c38a.1640210000.1.1640216482.1640210760.88247805-5a22-4e35-8383-2806f95c40ba'\n",
    "       }"
   ],
   "metadata": {
    "collapsed": false,
    "pycharm": {
     "name": "#%%\n"
    }
   }
  },
  {
   "cell_type": "code",
   "execution_count": null,
   "outputs": [],
   "source": [
    "url = 'https://www.strava.com/activities/346134136'\n",
    "del headers['Cookie']\n",
    "del headers['Content-Type']\n",
    "del headers['Origin']\n",
    "request = requests.Request('GET', url, headers=headers)\n",
    "prepped = asession.prepare_request(request)\n",
    "prepped"
   ],
   "metadata": {
    "collapsed": false,
    "pycharm": {
     "name": "#%%\n"
    }
   }
  },
  {
   "cell_type": "code",
   "execution_count": null,
   "outputs": [],
   "source": [
    "print(\"Sending request:\")\n",
    "print(format_prepped_request(prepped, 'utf8'))\n",
    "print()\n",
    "'''\n",
    "GET /activities/346134136 HTTP/2\n",
    "Host: www.strava.com\n",
    "Cookie: _sp_ses.047d=*; sp=938e7e66-7b9c-4b6d-90c8-d94819f85c42; _strava4_session=raadfes77dcrgk6kgoiq22orepo52fj4; _gcl_au=1.1.376044277.1640203903; _ga=GA1.2.1123165153.1640203904; _gid=GA1.2.104847519.1640203904; _sp_id.047d=1f694d30-80be-43a8-bfab-185524689996.1640203730.1.1640203983.1640203730.9768496f-479e-4012-9b50-db6ec203ea2c\n",
    "Cache-Control: max-age=0\n",
    "Sec-Ch-Ua: \" Not A;Brand\";v=\"99\", \"Chromium\";v=\"96\"\n",
    "Sec-Ch-Ua-Mobile: ?0\n",
    "Sec-Ch-Ua-Platform: \"Windows\"\n",
    "Upgrade-Insecure-Requests: 1\n",
    "User-Agent: Mozilla/5.0 (Windows NT 10.0; Win64; x64) AppleWebKit/537.36 (KHTML, like Gecko) Chrome/96.0.4664.45 Safari/537.36\n",
    "Accept: text/html,application/xhtml+xml,application/xml;q=0.9,image/avif,image/webp,image/apng,*/*;q=0.8,application/signed-exchange;v=b3;q=0.9\n",
    "Sec-Fetch-Site: none\n",
    "Sec-Fetch-Mode: navigate\n",
    "Sec-Fetch-User: ?1\n",
    "Sec-Fetch-Dest: document\n",
    "Accept-Encoding: gzip, deflate\n",
    "Accept-Language: en-US,en;q=0.9'''"
   ],
   "metadata": {
    "collapsed": false,
    "pycharm": {
     "name": "#%%\n"
    }
   }
  },
  {
   "cell_type": "code",
   "execution_count": null,
   "outputs": [],
   "source": [
    "import pandas as pd\n",
    "\n",
    "cyclists_df = pd.read_csv('./data/cyclists.csv')\n",
    "cyclists_df"
   ],
   "metadata": {
    "collapsed": false,
    "pycharm": {
     "name": "#%%\n"
    }
   }
  },
  {
   "cell_type": "code",
   "execution_count": null,
   "outputs": [],
   "source": [
    "cyclists_teams_df = pd.read_csv('./data/cyclists_teams.csv')\n",
    "cyclists_teams_df"
   ],
   "metadata": {
    "collapsed": false,
    "pycharm": {
     "name": "#%%\n"
    }
   }
  },
  {
   "cell_type": "code",
   "execution_count": null,
   "outputs": [],
   "source": [
    "teams_df = pd.read_csv('./data/teams.csv')\n",
    "teams_df"
   ],
   "metadata": {
    "collapsed": false,
    "pycharm": {
     "name": "#%%\n"
    }
   }
  },
  {
   "cell_type": "code",
   "execution_count": null,
   "outputs": [],
   "source": [
    "ISN_ids = [73, 74, 75, 2023]\n",
    "\n",
    "teams_ISN_df = teams_df[teams_df['team_id'].isin(ISN_ids)]\n",
    "teams_ISN_df"
   ],
   "metadata": {
    "collapsed": false,
    "pycharm": {
     "name": "#%%\n"
    }
   }
  },
  {
   "cell_type": "code",
   "execution_count": null,
   "outputs": [],
   "source": [
    "\n",
    "teams_ISN_df.merge(cyclists_teams_df, on='team_id')"
   ],
   "metadata": {
    "collapsed": false,
    "pycharm": {
     "name": "#%%\n"
    }
   }
  },
  {
   "cell_type": "code",
   "execution_count": null,
   "outputs": [],
   "source": [
    "cyclists_strava_urls_df = pd.read_csv('./data/cyclists_strava_urls.csv')\n",
    "riders_urls_df = pd.read_csv('./data/riders_urls.csv')\n",
    "cyclists_df = pd.read_csv('./data/cyclists.csv')"
   ],
   "metadata": {
    "collapsed": false,
    "pycharm": {
     "name": "#%%\n"
    }
   }
  },
  {
   "cell_type": "code",
   "execution_count": null,
   "outputs": [],
   "source": [
    "merged_cyclists_urls = cyclists_df.merge(cyclists_strava_urls_df, how='outer', on='pcs_link')"
   ],
   "metadata": {
    "collapsed": false,
    "pycharm": {
     "name": "#%%\n"
    }
   }
  },
  {
   "cell_type": "code",
   "execution_count": null,
   "outputs": [],
   "source": [
    "merged_cyclists_urls[merged_cyclists_urls['strava_link'].isna()]"
   ],
   "metadata": {
    "collapsed": false,
    "pycharm": {
     "name": "#%%\n"
    }
   }
  },
  {
   "cell_type": "code",
   "execution_count": null,
   "outputs": [],
   "source": [
    "# merged_cyclists_urls['fixed_name'] = merged_cyclists_urls['full_name'].apply(lambda x: x.replace('  ', ' '))"
   ],
   "metadata": {
    "collapsed": false,
    "pycharm": {
     "name": "#%%\n"
    }
   }
  },
  {
   "cell_type": "code",
   "execution_count": null,
   "outputs": [],
   "source": [
    "merged_cyclists_urls['fixed_name'] = merged_cyclists_urls['fixed_name'].apply(lambda x: str(sorted(x.lower().split())))\n"
   ],
   "metadata": {
    "collapsed": false,
    "pycharm": {
     "name": "#%%\n"
    }
   }
  },
  {
   "cell_type": "code",
   "execution_count": null,
   "outputs": [],
   "source": [
    "riders_urls_df['fixed_name'] = riders_urls_df['full_name'].apply(lambda x: str(sorted(x.lower().split())))\n"
   ],
   "metadata": {
    "collapsed": false,
    "pycharm": {
     "name": "#%%\n"
    }
   }
  },
  {
   "cell_type": "code",
   "execution_count": null,
   "outputs": [],
   "source": [
    "merged_cyclists_urls = merged_cyclists_urls.merge(riders_urls_df, how='outer', on='fixed_name')"
   ],
   "metadata": {
    "collapsed": false,
    "pycharm": {
     "name": "#%%\n"
    }
   }
  },
  {
   "cell_type": "code",
   "execution_count": null,
   "outputs": [],
   "source": [
    "merged_cyclists_urls"
   ],
   "metadata": {
    "collapsed": false,
    "pycharm": {
     "name": "#%%\n"
    }
   }
  },
  {
   "cell_type": "code",
   "execution_count": null,
   "outputs": [],
   "source": [
    "old_ISN_Ids = [40, 45, 56, 78, 93, 98, 101, 114, 130, 160, 170, 191, 238, 266, 275, 283, 291, 326, 350, 367, 377, 393,\n",
    "               411, 427,\n",
    "               428, 440, 456, 459, 538, 562, 575, 590, 624, 631, 678, 687, 699, 718, 767, 779, 784, 840, 876, 887, 895,\n",
    "               924, 931, 981, 984, 988, 1009, 1090, 1091, 1092, 1093, 1094, 1095, 1096, 1097, 1098, 1099, 1100, 1265,\n",
    "               1774, 8959]\n"
   ],
   "metadata": {
    "collapsed": false,
    "pycharm": {
     "name": "#%%\n"
    }
   }
  },
  {
   "cell_type": "code",
   "execution_count": null,
   "outputs": [],
   "source": [
    "#Alon's cyclists\n",
    "merged_cyclists_urls[merged_cyclists_urls['full_name_x'].isna()]"
   ],
   "metadata": {
    "collapsed": false,
    "pycharm": {
     "name": "#%%\n"
    }
   }
  },
  {
   "cell_type": "code",
   "execution_count": null,
   "outputs": [],
   "source": [
    "#Alon's cyclists - ONLY ISN\n",
    "merged_cyclists_urls[\n",
    "    (merged_cyclists_urls['full_name_x'].isna()) & (merged_cyclists_urls['cyclist_id'].isin(old_ISN_Ids))]"
   ],
   "metadata": {
    "collapsed": false,
    "pycharm": {
     "name": "#%%\n"
    }
   }
  },
  {
   "cell_type": "code",
   "execution_count": null,
   "outputs": [],
   "source": [
    "#my cyclists\n",
    "merged_cyclists_urls[merged_cyclists_urls['full_name_y'].isna()]\n"
   ],
   "metadata": {
    "collapsed": false,
    "pycharm": {
     "name": "#%%\n"
    }
   }
  },
  {
   "cell_type": "code",
   "execution_count": null,
   "outputs": [],
   "source": [
    "# inner=merged_cyclists_urls[(~merged_cyclists_urls['full_name_y'].isna()) & (~merged_cyclists_urls['full_name_x'].isna())]\n",
    "# dict_names = {k:v for (k,v) in zip(inner['full_name_x'],inner['full_name_y'])}\n",
    "# dict_names"
   ],
   "metadata": {
    "collapsed": false,
    "pycharm": {
     "name": "#%%\n"
    }
   }
  },
  {
   "cell_type": "code",
   "execution_count": null,
   "outputs": [],
   "source": [
    "# cyclists_df['cyclist_name_pcs'] = cyclists_df['full_name'].map(dict_names)"
   ],
   "metadata": {
    "collapsed": false,
    "pycharm": {
     "name": "#%%\n"
    }
   }
  },
  {
   "cell_type": "code",
   "execution_count": null,
   "outputs": [],
   "source": [
    "cyclists_df[cyclists_df['cyclist_name_pcs'].isna()]"
   ],
   "metadata": {
    "collapsed": false,
    "pycharm": {
     "name": "#%%\n"
    }
   }
  },
  {
   "cell_type": "code",
   "execution_count": null,
   "outputs": [],
   "source": [
    "# cyclists_df.to_csv('./data/cyclists.csv',index=False,header=True)"
   ],
   "metadata": {
    "collapsed": false,
    "pycharm": {
     "name": "#%%\n"
    }
   }
  },
  {
   "cell_type": "code",
   "execution_count": null,
   "outputs": [],
   "source": [
    "# cyclists_df['full_name'] = cyclists_df['full_name'].apply(lambda x: x.replace('  ', ' '))"
   ],
   "metadata": {
    "collapsed": false,
    "pycharm": {
     "name": "#%%\n"
    }
   }
  },
  {
   "cell_type": "code",
   "execution_count": null,
   "outputs": [],
   "source": [
    "merged_cyclists_urls[['cyclist_id_x', 'full_name_y', 'fixed_name', 'full_name_x']]"
   ],
   "metadata": {
    "collapsed": false,
    "pycharm": {
     "name": "#%%\n"
    }
   }
  },
  {
   "cell_type": "code",
   "execution_count": null,
   "outputs": [],
   "source": [
    "merged_cyclists_urls = merged_cyclists_urls.merge(cyclists_strava_urls_df, how='outer', on='pcs_link')"
   ],
   "metadata": {
    "collapsed": false,
    "pycharm": {
     "name": "#%%\n"
    }
   }
  },
  {
   "cell_type": "code",
   "execution_count": null,
   "outputs": [],
   "source": [
    "merged_cyclists_urls"
   ],
   "metadata": {
    "collapsed": false,
    "pycharm": {
     "name": "#%%\n"
    }
   }
  },
  {
   "cell_type": "code",
   "execution_count": null,
   "outputs": [],
   "source": [
    "merged_cyclists_urls[['strava_id', 'strava_link', 'cyclist_id', 'url']]"
   ],
   "metadata": {
    "collapsed": false,
    "pycharm": {
     "name": "#%%\n"
    }
   }
  },
  {
   "cell_type": "code",
   "execution_count": null,
   "outputs": [],
   "source": [],
   "metadata": {
    "collapsed": false,
    "pycharm": {
     "name": "#%%\n"
    }
   }
  },
  {
   "cell_type": "code",
   "execution_count": null,
   "outputs": [],
   "source": [
    "import os\n",
    "from datetime import datetime\n",
    "\n",
    "EXEC_PATH = 'Dec 29 00.30 - wrong URLs'\n",
    "if not os.path.exists(f'./{EXEC_PATH}'):\n",
    "    os.mkdir(f'./{EXEC_PATH}')"
   ],
   "metadata": {
    "collapsed": false,
    "pycharm": {
     "name": "#%%\n"
    }
   }
  },
  {
   "cell_type": "code",
   "execution_count": null,
   "outputs": [],
   "source": [
    "merged_cyclists_urls.to_csv(f'./{EXEC_PATH}/merged_cyclists_urls.csv', index=False, header=True)"
   ],
   "metadata": {
    "collapsed": false,
    "pycharm": {
     "name": "#%%\n"
    }
   }
  },
  {
   "cell_type": "code",
   "execution_count": null,
   "outputs": [],
   "source": [
    "def log(log_level, type, msg):\n",
    "    if not log_level:\n",
    "        log_level = 'Error'\n",
    "    log_dict = {'Error': 0, 'Warning': 1, 'Info': 2}\n",
    "    if log_dict[type] <= log_dict[log_level]:\n",
    "        with open(f'./{EXEC_PATH}/{type}_cyclists_teams_extractor.log', 'a+') as f:\n",
    "            f.write(type + '\\t' + str(datetime.now()) + '\\t' + msg + '\\n')"
   ],
   "metadata": {
    "collapsed": false,
    "pycharm": {
     "name": "#%%\n"
    }
   }
  },
  {
   "cell_type": "code",
   "execution_count": null,
   "outputs": [],
   "source": [
    "log_level = 'Info'\n",
    "for idx, row in merged_cyclists_urls.iterrows():\n",
    "    try:\n",
    "        assert row['url'].split('/')[-1] == row['strava_link'].split('/')[-1]\n",
    "    except:\n",
    "        if (str(row['url']) == 'nan') and (str(row['strava_link']) != 'nan'):\n",
    "            log(log_level, 'Info', f\"Alon's script missed cyclist {row['cyclist_id']},{row['strava_link']}\")\n",
    "        elif (str(row['url']) != 'nan') and (str(row['strava_link']) == 'nan'):\n",
    "            log(log_level, 'Warning', f\"Alon's script have extra cyclist {row['cyclist_id']},{row['url']}\")\n",
    "        else:\n",
    "            log(log_level, 'Warning',\n",
    "                f\"Non equal: {row['url']}!={row['strava_link']}, cyclist: {row['cyclist_id']},{row['full_name_x']}\")"
   ],
   "metadata": {
    "collapsed": false,
    "pycharm": {
     "name": "#%%\n"
    }
   }
  },
  {
   "cell_type": "code",
   "execution_count": null,
   "outputs": [],
   "source": [
    "len(riders_urls_df['url'].unique())"
   ],
   "metadata": {
    "collapsed": false,
    "pycharm": {
     "name": "#%%\n"
    }
   }
  },
  {
   "cell_type": "code",
   "execution_count": null,
   "outputs": [],
   "source": [
    "len(cyclists_strava_urls_df['strava_link'].unique())"
   ],
   "metadata": {
    "collapsed": false,
    "pycharm": {
     "name": "#%%\n"
    }
   }
  },
  {
   "cell_type": "code",
   "execution_count": null,
   "outputs": [],
   "source": [
    "len(merged_cyclists_urls)\n"
   ],
   "metadata": {
    "collapsed": false,
    "pycharm": {
     "name": "#%%\n"
    }
   }
  },
  {
   "cell_type": "code",
   "execution_count": null,
   "outputs": [],
   "source": [
    "len(merged_cyclists_urls['strava_link'].unique())"
   ],
   "metadata": {
    "collapsed": false,
    "pycharm": {
     "name": "#%%\n"
    }
   }
  },
  {
   "cell_type": "code",
   "execution_count": null,
   "outputs": [],
   "source": [
    "len(merged_cyclists_urls['url'].unique())"
   ],
   "metadata": {
    "collapsed": false,
    "pycharm": {
     "name": "#%%\n"
    }
   }
  },
  {
   "cell_type": "code",
   "execution_count": null,
   "outputs": [],
   "source": [
    "c_old = pd.read_csv('..//db_files/cyclists.txt', encoding=\"ISO-8859-1\")\n",
    "c_old"
   ],
   "metadata": {
    "collapsed": false,
    "pycharm": {
     "name": "#%%\n"
    }
   }
  },
  {
   "cell_type": "code",
   "execution_count": null,
   "outputs": [],
   "source": [
    "c_old['fixed_name'] = c_old['full_name'].apply(lambda x: str(sorted(x.lower().split())))"
   ],
   "metadata": {
    "collapsed": false,
    "pycharm": {
     "name": "#%%\n"
    }
   }
  },
  {
   "cell_type": "code",
   "execution_count": null,
   "outputs": [],
   "source": [
    "merged_cyclists_urls['fixed_name'] = merged_cyclists_urls['full_name'].apply(lambda x: str(sorted(x.lower().split())))\n",
    "merged_cyclists_urls"
   ],
   "metadata": {
    "collapsed": false,
    "pycharm": {
     "name": "#%%\n"
    }
   }
  },
  {
   "cell_type": "code",
   "execution_count": null,
   "outputs": [],
   "source": [
    "m = merged_cyclists_urls.merge(c_old, how='outer', on='fixed_name')"
   ],
   "metadata": {
    "collapsed": false,
    "pycharm": {
     "name": "#%%\n"
    }
   }
  },
  {
   "cell_type": "code",
   "execution_count": null,
   "outputs": [],
   "source": [
    "m"
   ],
   "metadata": {
    "collapsed": false,
    "pycharm": {
     "name": "#%%\n"
    }
   }
  },
  {
   "cell_type": "code",
   "execution_count": null,
   "outputs": [],
   "source": [
    "# cyclists_df.to_csv('./data/cyclists.csv',index=False,header=True)"
   ],
   "metadata": {
    "collapsed": false,
    "pycharm": {
     "name": "#%%\n"
    }
   }
  },
  {
   "cell_type": "code",
   "execution_count": null,
   "outputs": [],
   "source": [
    "# m = merged_cyclists_urls.merge(c_old,how='outer',left_on='full_name_y',right_on='full_name')\n",
    "# m"
   ],
   "metadata": {
    "collapsed": false,
    "pycharm": {
     "name": "#%%\n"
    }
   }
  },
  {
   "cell_type": "code",
   "execution_count": null,
   "outputs": [],
   "source": [
    "m[(m['cyclist_name_pcs'].isna()) & (~m['full_name'].isna())][['cyclist_name_pcs', 'full_name']]"
   ],
   "metadata": {
    "collapsed": false,
    "pycharm": {
     "name": "#%%\n"
    }
   }
  },
  {
   "cell_type": "code",
   "execution_count": 164,
   "outputs": [],
   "source": [
    "import pandas as pd\n",
    "\n",
    "ISN_ids = [73, 74, 75, 2023]\n",
    "teams_df = pd.read_csv('./data/teams.csv')\n",
    "teams_df = teams_df.loc[~teams_df['pcs_link'].isna()]\n",
    "cyclists_df = pd.read_csv('./data/cyclists.csv')\n",
    "cyclists_teams_df = pd.read_csv('./data/cyclists_teams_cpy.csv')\n",
    "cyclists_strava_urls_df = pd.read_csv('./data/cyclists_strava_urls.csv')"
   ],
   "metadata": {
    "collapsed": false,
    "pycharm": {
     "name": "#%%\n"
    }
   }
  },
  {
   "cell_type": "code",
   "execution_count": 165,
   "outputs": [
    {
     "data": {
      "text/plain": "{'https://www.procyclingstats.com/rider/aad-van-den-hoek': 1,\n 'https://www.procyclingstats.com/rider/aaron-gate': 2,\n 'https://www.procyclingstats.com/rider/aaron-kemps': 3,\n 'https://www.procyclingstats.com/rider/aaron-van-poucke': 4,\n 'https://www.procyclingstats.com/rider/aaron-verwilst': 5,\n 'https://www.procyclingstats.com/rider/aart-vierhouten': 6,\n 'https://www.procyclingstats.com/rider/abel-coelho': 7,\n 'https://www.procyclingstats.com/rider/abelardo-rios': 8,\n 'https://www.procyclingstats.com/rider/abner-gonzalez-rivera': 9,\n 'https://www.procyclingstats.com/rider/abraham-olano-manzano': 10,\n 'https://www.procyclingstats.com/rider/acacio-da-silva': 11,\n 'https://www.procyclingstats.com/rider/ad-oprins': 12,\n 'https://www.procyclingstats.com/rider/ad-polak': 13,\n 'https://www.procyclingstats.com/rider/ad-prinsen': 14,\n 'https://www.procyclingstats.com/rider/ad-tak': 15,\n 'https://www.procyclingstats.com/rider/ad-van-peer': 16,\n 'https://www.procyclingstats.com/rider/ad-wijnands': 17,\n 'https://www.procyclingstats.com/rider/adam-blythe': 18,\n 'https://www.procyclingstats.com/rider/adam-de-vos': 19,\n 'https://www.procyclingstats.com/rider/adam-gawlik': 20,\n 'https://www.procyclingstats.com/rider/adam-hansen': 21,\n 'https://www.procyclingstats.com/rider/adam-laurent': 22,\n 'https://www.procyclingstats.com/rider/adam-murchie': 23,\n 'https://www.procyclingstats.com/rider/adam-phelan': 24,\n 'https://www.procyclingstats.com/rider/adam-stachowiak': 25,\n 'https://www.procyclingstats.com/rider/adam-wadecki': 26,\n 'https://www.procyclingstats.com/rider/adam-yates': 27,\n 'https://www.procyclingstats.com/rider/addy-engels': 28,\n 'https://www.procyclingstats.com/rider/adelino-teixeira': 29,\n 'https://www.procyclingstats.com/rider/adi-wibowo': 30,\n 'https://www.procyclingstats.com/rider/adne-holter': 31,\n 'https://www.procyclingstats.com/rider/adolfo-alperi': 32,\n 'https://www.procyclingstats.com/rider/adolfo-garcia-quesada': 33,\n 'https://www.procyclingstats.com/rider/adolfo-marin-garcia': 34,\n 'https://www.procyclingstats.com/rider/adri-jos-schipper': 35,\n 'https://www.procyclingstats.com/rider/adri-van': 36,\n 'https://www.procyclingstats.com/rider/adri-van-houwelingen': 37,\n 'https://www.procyclingstats.com/rider/adria-moreno': 38,\n 'https://www.procyclingstats.com/rider/adrian-banaszek': 39,\n 'https://www.procyclingstats.com/rider/adrian-hegyvary': 40,\n 'https://www.procyclingstats.com/rider/adrian-kurek': 41,\n 'https://www.procyclingstats.com/rider/adrian-palomares': 42,\n 'https://www.procyclingstats.com/rider/adrian-saez-de-arregi': 43,\n 'https://www.procyclingstats.com/rider/adrian-timmis': 44,\n 'https://www.procyclingstats.com/rider/adrian-viquez': 45,\n 'https://www.procyclingstats.com/rider/adriano-angeloni': 46,\n 'https://www.procyclingstats.com/rider/adriano-baffi': 47,\n 'https://www.procyclingstats.com/rider/adriano-spinozzi': 48,\n 'https://www.procyclingstats.com/rider/adrie-kools': 49,\n 'https://www.procyclingstats.com/rider/adrie-van-der-poel': 50,\n 'https://www.procyclingstats.com/rider/adrien-lagree': 51,\n 'https://www.procyclingstats.com/rider/adrien-petit': 52,\n 'https://www.procyclingstats.com/rider/agostino-giramondo': 53,\n 'https://www.procyclingstats.com/rider/agustin-alonso': 54,\n 'https://www.procyclingstats.com/rider/ahmed-madan': 55,\n 'https://www.procyclingstats.com/rider/aidis-kruopis': 56,\n 'https://www.procyclingstats.com/rider/aime-de-gendt': 57,\n 'https://www.procyclingstats.com/rider/aisar-gorgos': 58,\n 'https://www.procyclingstats.com/rider/aitor-galdos': 59,\n 'https://www.procyclingstats.com/rider/aitor-garmendia': 60,\n 'https://www.procyclingstats.com/rider/aitor-gonzalez-jimenez': 61,\n 'https://www.procyclingstats.com/rider/aitor-hernandez-gutierrez': 62,\n 'https://www.procyclingstats.com/rider/aitor-kintana': 63,\n 'https://www.procyclingstats.com/rider/aitor-osa': 64,\n 'https://www.procyclingstats.com/rider/aitor-perez-arrieta': 65,\n 'https://www.procyclingstats.com/rider/aitor-silloniz': 66,\n 'https://www.procyclingstats.com/rider/aivaras-baranauskas': 67,\n 'https://www.procyclingstats.com/rider/aketza-pena': 68,\n 'https://www.procyclingstats.com/rider/akinori-kobayashi': 69,\n 'https://www.procyclingstats.com/rider/akira-asada': 70,\n 'https://www.procyclingstats.com/rider/alain-bizet': 71,\n 'https://www.procyclingstats.com/rider/alain-dallenbach': 72,\n 'https://www.procyclingstats.com/rider/alain-de-carvalho': 73,\n 'https://www.procyclingstats.com/rider/alain-de-roo': 74,\n 'https://www.procyclingstats.com/rider/alain-de-schacht': 75,\n 'https://www.procyclingstats.com/rider/alain-de-vuyst': 76,\n 'https://www.procyclingstats.com/rider/alain-desaever': 77,\n 'https://www.procyclingstats.com/rider/alain-dithurbide': 78,\n 'https://www.procyclingstats.com/rider/alain-laeremans': 79,\n 'https://www.procyclingstats.com/rider/alain-meslet': 80,\n 'https://www.procyclingstats.com/rider/alain-patritti': 81,\n 'https://www.procyclingstats.com/rider/alain-turicchia': 82,\n 'https://www.procyclingstats.com/rider/alain-van-katwijk': 83,\n 'https://www.procyclingstats.com/rider/alain-vigneron': 84,\n 'https://www.procyclingstats.com/rider/alain-von-allmen': 85,\n 'https://www.procyclingstats.com/rider/alan-banaszek': 86,\n 'https://www.procyclingstats.com/rider/alan-boileau': 87,\n 'https://www.procyclingstats.com/rider/alan-dipple': 88,\n 'https://www.procyclingstats.com/rider/alan-gornall': 89,\n 'https://www.procyclingstats.com/rider/alan-jousseaume': 90,\n 'https://www.procyclingstats.com/rider/alan-lezaun-perez': 91,\n 'https://www.procyclingstats.com/rider/alan-marangoni': 92,\n 'https://www.procyclingstats.com/rider/alan-mccormack': 93,\n 'https://www.procyclingstats.com/rider/alan-miller': 94,\n 'https://www.procyclingstats.com/rider/alan-riou': 95,\n 'https://www.procyclingstats.com/rider/alan-van-heerden': 96,\n 'https://www.procyclingstats.com/rider/albert-timmer': 97,\n 'https://www.procyclingstats.com/rider/albert-torres': 98,\n 'https://www.procyclingstats.com/rider/albert-van-vlierberghe': 99,\n 'https://www.procyclingstats.com/rider/albert-zweifel': 100,\n 'https://www.procyclingstats.com/rider/alberto-amaral': 101,\n 'https://www.procyclingstats.com/rider/alberto-antonio-silva': 102,\n 'https://www.procyclingstats.com/rider/alberto-benito': 103,\n 'https://www.procyclingstats.com/rider/alberto-bettiol': 104,\n 'https://www.procyclingstats.com/rider/alberto-camargo': 105,\n 'https://www.procyclingstats.com/rider/alberto-cecchin': 106,\n 'https://www.procyclingstats.com/rider/alberto-contador': 107,\n 'https://www.procyclingstats.com/rider/alberto-contoli': 108,\n 'https://www.procyclingstats.com/rider/alberto-curtolo': 109,\n 'https://www.procyclingstats.com/rider/alberto-dainese': 110,\n 'https://www.procyclingstats.com/rider/alberto-david-fernandez': 111,\n 'https://www.procyclingstats.com/rider/alberto-di-lorenzo': 112,\n 'https://www.procyclingstats.com/rider/alberto-elli': 113,\n 'https://www.procyclingstats.com/rider/alberto-fernandez-de-la-puebla-ramos': 114,\n 'https://www.procyclingstats.com/rider/alberto-fernandez-sainz': 115,\n 'https://www.procyclingstats.com/rider/alberto-fernando-oliveira-carvalho': 116,\n 'https://www.procyclingstats.com/rider/alberto-hierro': 117,\n 'https://www.procyclingstats.com/rider/alberto-leal': 118,\n 'https://www.procyclingstats.com/rider/alberto-leanizbarrutia-abaunza': 119,\n 'https://www.procyclingstats.com/rider/alberto-loddo': 120,\n 'https://www.procyclingstats.com/rider/alberto-lopez-de-munain': 121,\n 'https://www.procyclingstats.com/rider/alberto-losada': 122,\n 'https://www.procyclingstats.com/rider/alberto-minetti': 123,\n 'https://www.procyclingstats.com/rider/alberto-ongarato': 124,\n 'https://www.procyclingstats.com/rider/alberto-parente': 125,\n 'https://www.procyclingstats.com/rider/alberto-rodriguez-oliver': 126,\n 'https://www.procyclingstats.com/rider/alberto-saronni': 127,\n 'https://www.procyclingstats.com/rider/alberto-tacconi': 128,\n 'https://www.procyclingstats.com/rider/alberto-tiberio': 129,\n 'https://www.procyclingstats.com/rider/alberto-vinale': 130,\n 'https://www.procyclingstats.com/rider/alberto-volpi': 131,\n 'https://www.procyclingstats.com/rider/aldemar-reyes': 132,\n 'https://www.procyclingstats.com/rider/aldo-donadello': 133,\n 'https://www.procyclingstats.com/rider/alejandro-alberto-borrajo': 134,\n 'https://www.procyclingstats.com/rider/alejandro-cortes': 135,\n 'https://www.procyclingstats.com/rider/alejandro-osorio-carbajal': 136,\n 'https://www.procyclingstats.com/rider/alejandro-paleo': 137,\n 'https://www.procyclingstats.com/rider/alejandro-ropero': 138,\n 'https://www.procyclingstats.com/rider/alejandro-valverde': 139,\n 'https://www.procyclingstats.com/rider/aleksandar-milenkovic': 140,\n 'https://www.procyclingstats.com/rider/aleksandar-nikacevic': 141,\n 'https://www.procyclingstats.com/rider/aleksandr-kirichenko': 142,\n 'https://www.procyclingstats.com/rider/aleksandr-vlasov': 143,\n 'https://www.procyclingstats.com/rider/aleksejs-saramotins': 144,\n 'https://www.procyclingstats.com/rider/aleksey-lutsenko': 145,\n 'https://www.procyclingstats.com/rider/alessandro-ballan': 146,\n 'https://www.procyclingstats.com/rider/alessandro-baronti': 147,\n 'https://www.procyclingstats.com/rider/alessandro-bertolini': 148,\n 'https://www.procyclingstats.com/rider/alessandro-bertuola': 149,\n 'https://www.procyclingstats.com/rider/alessandro-bianchin': 150,\n 'https://www.procyclingstats.com/rider/alessandro-bisolti': 151,\n 'https://www.procyclingstats.com/rider/alessandro-brendolin': 152,\n 'https://www.procyclingstats.com/rider/alessandro-calzolari': 153,\n 'https://www.procyclingstats.com/rider/alessandro-cortinovis': 154,\n 'https://www.procyclingstats.com/rider/alessandro-covi': 155,\n 'https://www.procyclingstats.com/rider/alessandro-dandrea': 156,\n 'https://www.procyclingstats.com/rider/alessandro-de-marchi': 157,\n 'https://www.procyclingstats.com/rider/alessandro-donati': 158,\n 'https://www.procyclingstats.com/rider/alessandro-fancellu': 159,\n 'https://www.procyclingstats.com/rider/alessandro-fedeli': 160,\n 'https://www.procyclingstats.com/rider/alessandro-frau': 161,\n 'https://www.procyclingstats.com/rider/alessandro-giannelli': 162,\n 'https://www.procyclingstats.com/rider/alessandro-guerra': 163,\n 'https://www.procyclingstats.com/rider/alessandro-iacchi': 164,\n 'https://www.procyclingstats.com/rider/alessandro-maserati': 165,\n 'https://www.procyclingstats.com/rider/alessandro-paganessi': 166,\n 'https://www.procyclingstats.com/rider/alessandro-petacchi': 167,\n 'https://www.procyclingstats.com/rider/alessandro-pinarello': 168,\n 'https://www.procyclingstats.com/rider/alessandro-pozzi': 169,\n 'https://www.procyclingstats.com/rider/alessandro-pozzi2': 170,\n 'https://www.procyclingstats.com/rider/alessandro-proni': 171,\n 'https://www.procyclingstats.com/rider/alessandro-raisoni': 172,\n 'https://www.procyclingstats.com/rider/alessandro-santaromita': 173,\n 'https://www.procyclingstats.com/rider/alessandro-santi': 174,\n 'https://www.procyclingstats.com/rider/alessandro-spezialetti': 175,\n 'https://www.procyclingstats.com/rider/alessandro-tonelli': 176,\n 'https://www.procyclingstats.com/rider/alessandro-vanotti': 177,\n 'https://www.procyclingstats.com/rider/alessandro-varocchi': 178,\n 'https://www.procyclingstats.com/rider/alessandro-verre': 179,\n 'https://www.procyclingstats.com/rider/alessio-antonini': 180,\n 'https://www.procyclingstats.com/rider/alessio-bongioni': 181,\n 'https://www.procyclingstats.com/rider/alessio-di-basco': 182,\n 'https://www.procyclingstats.com/rider/alessio-galletti': 183,\n 'https://www.procyclingstats.com/rider/alessio-martinelli': 184,\n 'https://www.procyclingstats.com/rider/alessio-nieri': 185,\n 'https://www.procyclingstats.com/rider/alessio-signego': 186,\n 'https://www.procyclingstats.com/rider/alex-aranburu': 187,\n 'https://www.procyclingstats.com/rider/alex-cano-ardila': 188,\n 'https://www.procyclingstats.com/rider/alex-colman': 189,\n 'https://www.procyclingstats.com/rider/alex-dowsett': 190,\n 'https://www.procyclingstats.com/rider/alex-jaime-fernandez': 191,\n 'https://www.procyclingstats.com/rider/alex-kiddie': 192,\n 'https://www.procyclingstats.com/rider/alex-kirsch': 193,\n 'https://www.procyclingstats.com/rider/alex-martin-gutierrez': 194,\n 'https://www.procyclingstats.com/rider/alex-molenaar': 195,\n 'https://www.procyclingstats.com/rider/alex-rasmussen': 196,\n 'https://www.procyclingstats.com/rider/alex-stieda': 197,\n 'https://www.procyclingstats.com/rider/alex-tolio': 198,\n 'https://www.procyclingstats.com/rider/alex-van-linden': 199,\n 'https://www.procyclingstats.com/rider/alex-zulle': 200,\n 'https://www.procyclingstats.com/rider/alexander-aeschbach': 201,\n 'https://www.procyclingstats.com/rider/alexander-arekeev': 202,\n 'https://www.procyclingstats.com/rider/alexander-cataford': 203,\n 'https://www.procyclingstats.com/rider/alexander-edmondson': 204,\n 'https://www.procyclingstats.com/rider/alexander-efimkin': 205,\n 'https://www.procyclingstats.com/rider/alexander-egger': 206,\n 'https://www.procyclingstats.com/rider/alexander-ernst-von-dalgow': 207,\n 'https://www.procyclingstats.com/rider/alexander-gottfried': 208,\n 'https://www.procyclingstats.com/rider/alexander-gufler': 209,\n 'https://www.procyclingstats.com/rider/alexander-kamp': 210,\n 'https://www.procyclingstats.com/rider/alexander-kastenhuber': 211,\n 'https://www.procyclingstats.com/rider/alexander-khatuntsev': 212,\n 'https://www.procyclingstats.com/rider/alexander-konychev': 213,\n 'https://www.procyclingstats.com/rider/alexander-krasnov': 214,\n 'https://www.procyclingstats.com/rider/alexander-krieger': 215,\n 'https://www.procyclingstats.com/rider/alexander-kristoff': 216,\n 'https://www.procyclingstats.com/rider/alexander-serebryakov': 217,\n 'https://www.procyclingstats.com/rider/alexander-serov': 218,\n 'https://www.procyclingstats.com/rider/alexander-weifenbach': 219,\n 'https://www.procyclingstats.com/rider/alexander-wetterhall': 220,\n 'https://www.procyclingstats.com/rider/alexandr-kolobnev': 221,\n 'https://www.procyclingstats.com/rider/alexandr-pliuschin': 222,\n 'https://www.procyclingstats.com/rider/alexandr-riabushenko': 223,\n 'https://www.procyclingstats.com/rider/alexandre-balmer': 224,\n 'https://www.procyclingstats.com/rider/alexandre-barsoukov': 225,\n 'https://www.procyclingstats.com/rider/alexandre-bazhenov': 226,\n 'https://www.procyclingstats.com/rider/alexandre-blain': 227,\n 'https://www.procyclingstats.com/rider/alexandre-botcharov': 228,\n 'https://www.procyclingstats.com/rider/alexandre-cabrera': 229,\n 'https://www.procyclingstats.com/rider/alexandre-chouffe': 230,\n 'https://www.procyclingstats.com/rider/alexandre-costa': 231,\n 'https://www.procyclingstats.com/rider/alexandre-delettre': 232,\n 'https://www.procyclingstats.com/rider/alexandre-geniez': 233,\n 'https://www.procyclingstats.com/rider/alexandre-girout': 234,\n 'https://www.procyclingstats.com/rider/alexandre-grux': 235,\n 'https://www.procyclingstats.com/rider/alexandre-kornatov': 236,\n 'https://www.procyclingstats.com/rider/alexandre-korobko': 237,\n 'https://www.procyclingstats.com/rider/alexandre-lysenko': 238,\n 'https://www.procyclingstats.com/rider/alexandre-moos': 239,\n 'https://www.procyclingstats.com/rider/alexandre-naulleau': 240,\n 'https://www.procyclingstats.com/rider/alexandre-pichot': 241,\n 'https://www.procyclingstats.com/rider/alexandre-posternak': 242,\n 'https://www.procyclingstats.com/rider/alexandre-rodriguez': 243,\n 'https://www.procyclingstats.com/rider/alexandre-romanov': 244,\n 'https://www.procyclingstats.com/rider/alexandre-rua': 245,\n 'https://www.procyclingstats.com/rider/alexandre-shefer': 246,\n 'https://www.procyclingstats.com/rider/alexandre-timofeev': 247,\n 'https://www.procyclingstats.com/rider/alexandre-trubine': 248,\n 'https://www.procyclingstats.com/rider/alexandre-usov': 249,\n 'https://www.procyclingstats.com/rider/alexandre-vinokourov': 250,\n 'https://www.procyclingstats.com/rider/alexandre-zinoview': 251,\n 'https://www.procyclingstats.com/rider/alexei-biakov': 252,\n 'https://www.procyclingstats.com/rider/alexei-kuznetsov': 253,\n 'https://www.procyclingstats.com/rider/alexei-markov': 254,\n 'https://www.procyclingstats.com/rider/alexei-nakazny': 255,\n 'https://www.procyclingstats.com/rider/alexei-sivakov': 256,\n 'https://www.procyclingstats.com/rider/alexey-kolessov': 257,\n 'https://www.procyclingstats.com/rider/alexi-grewal': 258,\n 'https://www.procyclingstats.com/rider/alexis-de-jesus-castro': 259,\n 'https://www.procyclingstats.com/rider/alexis-gougeard': 260,\n 'https://www.procyclingstats.com/rider/alexis-renard': 261,\n 'https://www.procyclingstats.com/rider/alexis-rodriguez': 262,\n 'https://www.procyclingstats.com/rider/alexis-vuillermoz': 263,\n 'https://www.procyclingstats.com/rider/alexys-brunel': 264,\n 'https://www.procyclingstats.com/rider/alf-segersall': 265,\n 'https://www.procyclingstats.com/rider/alfio-vandi': 266,\n 'https://www.procyclingstats.com/rider/alfons-van-parijs': 267,\n 'https://www.procyclingstats.com/rider/alfonso-blanco': 268,\n 'https://www.procyclingstats.com/rider/alfonso-falzarano': 269,\n 'https://www.procyclingstats.com/rider/alfonso-florez-ortiz': 270,\n 'https://www.procyclingstats.com/rider/alfonso-rodriguez-garcia': 271,\n 'https://www.procyclingstats.com/rider/alfred-achermann': 272,\n 'https://www.procyclingstats.com/rider/alfred-wright': 273,\n 'https://www.procyclingstats.com/rider/alfredo-clavero': 274,\n 'https://www.procyclingstats.com/rider/alfredo-irusta': 275,\n 'https://www.procyclingstats.com/rider/alfredo-sabio': 276,\n 'https://www.procyclingstats.com/rider/aliaksandr-kuchynski': 277,\n 'https://www.procyclingstats.com/rider/alichere-abdourakhmanov': 278,\n 'https://www.procyclingstats.com/rider/alirio-chizabas': 279,\n 'https://www.procyclingstats.com/rider/allan-bo-andresen': 280,\n 'https://www.procyclingstats.com/rider/allan-davis': 281,\n 'https://www.procyclingstats.com/rider/allan-iacuone': 282,\n 'https://www.procyclingstats.com/rider/allan-johansen': 283,\n 'https://www.procyclingstats.com/rider/allan-peiper': 284,\n 'https://www.procyclingstats.com/rider/allan-wolhuter': 285,\n 'https://www.procyclingstats.com/rider/almaz-bayguzin': 286,\n 'https://www.procyclingstats.com/rider/alois-pfleger': 287,\n 'https://www.procyclingstats.com/rider/alois-wouters': 288,\n 'https://www.procyclingstats.com/rider/alphonse-van-dessel': 289,\n 'https://www.procyclingstats.com/rider/alvaro-cuadros': 290,\n 'https://www.procyclingstats.com/rider/alvaro-gomes': 291,\n 'https://www.procyclingstats.com/rider/alvaro-gonzalez': 292,\n 'https://www.procyclingstats.com/rider/alvaro-jose-hodeg': 293,\n 'https://www.procyclingstats.com/rider/alvaro-lozano': 294,\n 'https://www.procyclingstats.com/rider/alvaro-mejia': 295,\n 'https://www.procyclingstats.com/rider/alvaro-pino': 296,\n 'https://www.procyclingstats.com/rider/alvaro-sierra-1': 297,\n 'https://www.procyclingstats.com/rider/alvaro-sirro': 298,\n 'https://www.procyclingstats.com/rider/amael-moinard': 299,\n 'https://www.procyclingstats.com/rider/amanuel-ghebreigzabhier': 300,\n 'https://www.procyclingstats.com/rider/amaro-antunes': 301,\n 'https://www.procyclingstats.com/rider/amaro-manuel-antunes': 302,\n 'https://www.procyclingstats.com/rider/amaury-capiot': 303,\n 'https://www.procyclingstats.com/rider/americo-jose-neves-da-silva': 304,\n 'https://www.procyclingstats.com/rider/americo-vieira': 305,\n 'https://www.procyclingstats.com/rider/amets-txurruka': 306,\n 'https://www.procyclingstats.com/rider/amilcar-neves': 307,\n 'https://www.procyclingstats.com/rider/amilcare-sgalbazzi': 308,\n 'https://www.procyclingstats.com/rider/amund-grondahl-jansen': 309,\n 'https://www.procyclingstats.com/rider/anastacio-mendes': 310,\n 'https://www.procyclingstats.com/rider/anatoly-tchubar': 311,\n 'https://www.procyclingstats.com/rider/ander-barrenetxea': 312,\n 'https://www.procyclingstats.com/rider/ander-okamika': 313,\n 'https://www.procyclingstats.com/rider/anders-adamsson': 314,\n 'https://www.procyclingstats.com/rider/anders-eklundh': 315,\n 'https://www.procyclingstats.com/rider/anders-halland-johannessen': 316,\n 'https://www.procyclingstats.com/rider/anders-lund-1': 317,\n 'https://www.procyclingstats.com/rider/anders-skaarseth': 318,\n 'https://www.procyclingstats.com/rider/andoni-aranaga': 319,\n 'https://www.procyclingstats.com/rider/andoni-lafuente': 320,\n 'https://www.procyclingstats.com/rider/andre-boonen': 321,\n 'https://www.procyclingstats.com/rider/andre-carvalho': 322,\n 'https://www.procyclingstats.com/rider/andre-chappuis': 323,\n 'https://www.procyclingstats.com/rider/andre-de-souza-almeida': 324,\n 'https://www.procyclingstats.com/rider/andre-dierickx': 325,\n 'https://www.procyclingstats.com/rider/andre-domingues': 326,\n 'https://www.procyclingstats.com/rider/andre-eduardo-gohr': 327,\n 'https://www.procyclingstats.com/rider/andre-gevers': 328,\n 'https://www.procyclingstats.com/rider/andre-greipel': 329,\n 'https://www.procyclingstats.com/rider/andre-korff': 330,\n 'https://www.procyclingstats.com/rider/andre-lurquin': 331,\n 'https://www.procyclingstats.com/rider/andre-massard': 332,\n 'https://www.procyclingstats.com/rider/andre-meuwissen': 333,\n 'https://www.procyclingstats.com/rider/andre-mollet': 334,\n 'https://www.procyclingstats.com/rider/andre-schulze': 335,\n 'https://www.procyclingstats.com/rider/andre-steensen': 336,\n 'https://www.procyclingstats.com/rider/andre-wernli': 337,\n 'https://www.procyclingstats.com/rider/andrea-bagioli': 338,\n 'https://www.procyclingstats.com/rider/andrea-ballan': 339,\n 'https://www.procyclingstats.com/rider/andrea-bartolozzi': 340,\n 'https://www.procyclingstats.com/rider/andrea-bellati': 341,\n 'https://www.procyclingstats.com/rider/andrea-brognara': 342,\n 'https://www.procyclingstats.com/rider/andrea-chiurato': 343,\n 'https://www.procyclingstats.com/rider/andrea-del-biaggio': 344,\n 'https://www.procyclingstats.com/rider/andrea-di-renzo': 345,\n 'https://www.procyclingstats.com/rider/andrea-dolci': 346,\n 'https://www.procyclingstats.com/rider/andrea-ferrigato': 347,\n 'https://www.procyclingstats.com/rider/andrea-giupponi': 348,\n 'https://www.procyclingstats.com/rider/andrea-grendene': 349,\n 'https://www.procyclingstats.com/rider/andrea-guidotti': 350,\n 'https://www.procyclingstats.com/rider/andrea-masciarelli': 351,\n 'https://www.procyclingstats.com/rider/andrea-melani': 352,\n 'https://www.procyclingstats.com/rider/andrea-michelucci': 353,\n 'https://www.procyclingstats.com/rider/andrea-moletta': 354,\n 'https://www.procyclingstats.com/rider/andrea-montagnoli': 355,\n 'https://www.procyclingstats.com/rider/andrea-noe': 356,\n 'https://www.procyclingstats.com/rider/andrea-pagoto': 357,\n 'https://www.procyclingstats.com/rider/andrea-paluan': 358,\n 'https://www.procyclingstats.com/rider/andrea-pasqualon': 359,\n 'https://www.procyclingstats.com/rider/andrea-peron': 360,\n 'https://www.procyclingstats.com/rider/andrea-peron-1': 361,\n 'https://www.procyclingstats.com/rider/andrea-piccolo': 362,\n 'https://www.procyclingstats.com/rider/andrea-piechele': 363,\n 'https://www.procyclingstats.com/rider/andrea-rossi': 364,\n 'https://www.procyclingstats.com/rider/andrea-solagna': 365,\n 'https://www.procyclingstats.com/rider/andrea-tafi': 366,\n 'https://www.procyclingstats.com/rider/andrea-tonti': 367,\n 'https://www.procyclingstats.com/rider/andrea-vaccher': 368,\n 'https://www.procyclingstats.com/rider/andrea-vendrame': 369,\n 'https://www.procyclingstats.com/rider/andrea-zordan': 370,\n 'https://www.procyclingstats.com/rider/andreas-bach': 371,\n 'https://www.procyclingstats.com/rider/andreas-beikirch': 372,\n 'https://www.procyclingstats.com/rider/andreas-burghold': 373,\n 'https://www.procyclingstats.com/rider/andreas-dietziker': 374,\n 'https://www.procyclingstats.com/rider/andreas-kappes': 375,\n 'https://www.procyclingstats.com/rider/andreas-klaus': 376,\n 'https://www.procyclingstats.com/rider/andreas-klier': 377,\n 'https://www.procyclingstats.com/rider/andreas-kloden': 378,\n 'https://www.procyclingstats.com/rider/andreas-kron': 379,\n 'https://www.procyclingstats.com/rider/andreas-leknessund': 380,\n 'https://www.procyclingstats.com/rider/andreas-matzbacher': 381,\n 'https://www.procyclingstats.com/rider/andreas-sauerborn': 382,\n 'https://www.procyclingstats.com/rider/andreas-schillinger': 383,\n 'https://www.procyclingstats.com/rider/andreas-stauff': 384,\n 'https://www.procyclingstats.com/rider/andreas-stokbro': 385,\n 'https://www.procyclingstats.com/rider/andreas-walzer': 386,\n 'https://www.procyclingstats.com/rider/andrei-bakalov': 387,\n 'https://www.procyclingstats.com/rider/andrei-grivko': 388,\n 'https://www.procyclingstats.com/rider/andrei-karpatchev': 389,\n 'https://www.procyclingstats.com/rider/andrei-kivilev': 390,\n 'https://www.procyclingstats.com/rider/andrei-korovine': 391,\n 'https://www.procyclingstats.com/rider/andrei-krasilnikau': 392,\n 'https://www.procyclingstats.com/rider/andrei-kunitski': 393,\n 'https://www.procyclingstats.com/rider/andrei-moukhine': 394,\n 'https://www.procyclingstats.com/rider/andrei-sitnov': 395,\n 'https://www.procyclingstats.com/rider/andrei-tcherviakov': 396,\n 'https://www.procyclingstats.com/rider/andrei-tchmil': 397,\n 'https://www.procyclingstats.com/rider/andrei-teteriouk': 398,\n 'https://www.procyclingstats.com/rider/andrei-toporizchev': 399,\n 'https://www.procyclingstats.com/rider/andrei-vedernikov': 400,\n 'https://www.procyclingstats.com/rider/andrei-zintchenko': 401,\n 'https://www.procyclingstats.com/rider/andrej-gimpelj': 402,\n 'https://www.procyclingstats.com/rider/andrej-hauptman': 403,\n 'https://www.procyclingstats.com/rider/andres-bermejo-siller': 404,\n 'https://www.procyclingstats.com/rider/andres-camilo-ardila': 405,\n 'https://www.procyclingstats.com/rider/andres-vigil-vidal': 406,\n 'https://www.procyclingstats.com/rider/andrew-dahlheim': 407,\n 'https://www.procyclingstats.com/rider/andrew-dick': 408,\n 'https://www.procyclingstats.com/rider/andrew-fenn': 409,\n 'https://www.procyclingstats.com/rider/andrew-hampsten': 410,\n 'https://www.procyclingstats.com/rider/andrew-mclean': 411,\n 'https://www.procyclingstats.com/rider/andrew-miller': 412,\n 'https://www.procyclingstats.com/rider/andrew-paulin2': 413,\n 'https://www.procyclingstats.com/rider/andrew-robinson': 414,\n 'https://www.procyclingstats.com/rider/andrew-roche': 415,\n 'https://www.procyclingstats.com/rider/andrew-stewart': 416,\n 'https://www.procyclingstats.com/rider/andrew-stirling': 417,\n 'https://www.procyclingstats.com/rider/andrew-sutherland': 418,\n 'https://www.procyclingstats.com/rider/andrew-vancoillie': 419,\n 'https://www.procyclingstats.com/rider/andrey-amador': 420,\n 'https://www.procyclingstats.com/rider/andrey-kashechkin': 421,\n 'https://www.procyclingstats.com/rider/andrey-korolev': 422,\n 'https://www.procyclingstats.com/rider/andrey-mizurov': 423,\n 'https://www.procyclingstats.com/rider/andrey-zeits': 424,\n 'https://www.procyclingstats.com/rider/andrii-ponomar': 425,\n 'https://www.procyclingstats.com/rider/andris-nauduzs': 426,\n 'https://www.procyclingstats.com/rider/andris-reiss': 427,\n 'https://www.procyclingstats.com/rider/andrus-aug': 428,\n 'https://www.procyclingstats.com/rider/andrzej-dulas': 429,\n 'https://www.procyclingstats.com/rider/andrzej-mierzejewski': 430,\n 'https://www.procyclingstats.com/rider/andrzej-polkosnik': 431,\n 'https://www.procyclingstats.com/rider/andrzej-serediuk': 432,\n 'https://www.procyclingstats.com/rider/andrzej-sypytkowski': 433,\n 'https://www.procyclingstats.com/rider/andy-bishop': 434,\n 'https://www.procyclingstats.com/rider/andy-cappelle': 435,\n 'https://www.procyclingstats.com/rider/andy-de-decker': 436,\n 'https://www.procyclingstats.com/rider/andy-de-smet': 437,\n 'https://www.procyclingstats.com/rider/andy-flickinger': 438,\n 'https://www.procyclingstats.com/rider/andy-johnson': 439,\n 'https://www.procyclingstats.com/rider/andy-missoten': 440,\n 'https://www.procyclingstats.com/rider/andy-schleck': 441,\n 'https://www.procyclingstats.com/rider/andy-vanhoudt': 442,\n 'https://www.procyclingstats.com/rider/andy-vidts': 443,\n 'https://www.procyclingstats.com/rider/andzs-flaksis': 444,\n 'https://www.procyclingstats.com/rider/angel-alayon': 445,\n 'https://www.procyclingstats.com/rider/angel-castresana': 446,\n 'https://www.procyclingstats.com/rider/angel-edo': 447,\n 'https://www.procyclingstats.com/rider/angel-gomez-gomez': 448,\n 'https://www.procyclingstats.com/rider/angel-jose-rodriguez': 449,\n 'https://www.procyclingstats.com/rider/angel-luis-casero': 450,\n 'https://www.procyclingstats.com/rider/angel-madrazo': 451,\n 'https://www.procyclingstats.com/rider/angel-ocana': 452,\n 'https://www.procyclingstats.com/rider/angel-sanchez-rebollido': 453,\n 'https://www.procyclingstats.com/rider/angel-vallejo-dominguez': 454,\n 'https://www.procyclingstats.com/rider/angel-vicioso': 455,\n 'https://www.procyclingstats.com/rider/angel-yesid-camargo': 456,\n 'https://www.procyclingstats.com/rider/angelo-canzonieri': 457,\n 'https://www.procyclingstats.com/rider/angelo-citracca': 458,\n 'https://www.procyclingstats.com/rider/angelo-furlan': 459,\n 'https://www.procyclingstats.com/rider/angelo-lecchi': 460,\n 'https://www.procyclingstats.com/rider/angelo-lopeboselli': 461,\n 'https://www.procyclingstats.com/rider/angelo-tosi': 462,\n 'https://www.procyclingstats.com/rider/angelo-van-melis': 463,\n 'https://www.procyclingstats.com/rider/anselmo-costa': 464,\n 'https://www.procyclingstats.com/rider/anteo-petacco': 465,\n 'https://www.procyclingstats.com/rider/anthon-charmig': 466,\n 'https://www.procyclingstats.com/rider/anthony-charteau': 467,\n 'https://www.procyclingstats.com/rider/anthony-delaplace': 468,\n 'https://www.procyclingstats.com/rider/anthony-geslin': 469,\n 'https://www.procyclingstats.com/rider/anthony-jullien': 470,\n 'https://www.procyclingstats.com/rider/anthony-langella': 471,\n 'https://www.procyclingstats.com/rider/anthony-morin': 472,\n 'https://www.procyclingstats.com/rider/anthony-mortimore': 473,\n 'https://www.procyclingstats.com/rider/anthony-perez': 474,\n 'https://www.procyclingstats.com/rider/anthony-ravard': 475,\n 'https://www.procyclingstats.com/rider/anthony-rokia': 476,\n 'https://www.procyclingstats.com/rider/anthony-roux': 477,\n 'https://www.procyclingstats.com/rider/anthony-turgis': 478,\n 'https://www.procyclingstats.com/rider/antoine-duchesne': 479,\n 'https://www.procyclingstats.com/rider/antoine-perche': 480,\n 'https://www.procyclingstats.com/rider/antoine-raugel': 481,\n 'https://www.procyclingstats.com/rider/antoine-vanneste': 482,\n 'https://www.procyclingstats.com/rider/anton-ballat': 483,\n 'https://www.procyclingstats.com/rider/anton-chantyr': 484,\n 'https://www.procyclingstats.com/rider/anton-luengo': 485,\n 'https://www.procyclingstats.com/rider/anton-mindlin': 486,\n 'https://www.procyclingstats.com/rider/anton-oberholzer': 487,\n 'https://www.procyclingstats.com/rider/anton-palzer': 488,\n 'https://www.procyclingstats.com/rider/antonin-linda': 489,\n 'https://www.procyclingstats.com/rider/antonio-aguado': 490,\n 'https://www.procyclingstats.com/rider/antonio-alberto-domingues-fernandes': 491,\n 'https://www.procyclingstats.com/rider/antonio-alfonsini': 492,\n 'https://www.procyclingstats.com/rider/antonio-alves': 493,\n 'https://www.procyclingstats.com/rider/antonio-angulo': 494,\n 'https://www.procyclingstats.com/rider/antonio-apolo': 495,\n 'https://www.procyclingstats.com/rider/antonio-araujo': 496,\n 'https://www.procyclingstats.com/rider/antonio-balboa': 497,\n 'https://www.procyclingstats.com/rider/antonio-barros': 498,\n 'https://www.procyclingstats.com/rider/antonio-berardi': 499,\n 'https://www.procyclingstats.com/rider/antonio-berasategui': 500,\n 'https://www.procyclingstats.com/rider/antonio-bucciero': 501,\n 'https://www.procyclingstats.com/rider/antonio-cabello': 502,\n 'https://www.procyclingstats.com/rider/antonio-cabello-baena': 503,\n 'https://www.procyclingstats.com/rider/antonio-carvalho': 504,\n 'https://www.procyclingstats.com/rider/antonio-civantos': 505,\n 'https://www.procyclingstats.com/rider/antonio-coelho': 506,\n 'https://www.procyclingstats.com/rider/antonio-coll': 507,\n 'https://www.procyclingstats.com/rider/antonio-colom': 508,\n 'https://www.procyclingstats.com/rider/antonio-correia': 509,\n 'https://www.procyclingstats.com/rider/antonio-cruz-1': 510,\n 'https://www.procyclingstats.com/rider/antonio-d-alonzo': 511,\n 'https://www.procyclingstats.com/rider/antonio-d-aniello': 512,\n 'https://www.procyclingstats.com/rider/antonio-da-costa-araujo': 513,\n 'https://www.procyclingstats.com/rider/antonio-dias': 514,\n 'https://www.procyclingstats.com/rider/antonio-esparza': 515,\n 'https://www.procyclingstats.com/rider/antonio-espejo': 516,\n 'https://www.procyclingstats.com/rider/antonio-faisco': 517,\n 'https://www.procyclingstats.com/rider/antonio-ferretti': 518,\n 'https://www.procyclingstats.com/rider/antonio-goncalves': 519,\n 'https://www.procyclingstats.com/rider/antonio-gonzalez': 520,\n 'https://www.procyclingstats.com/rider/antonio-jesus': 521,\n 'https://www.procyclingstats.com/rider/antonio-jose-pecharroman-fabian': 522,\n 'https://www.procyclingstats.com/rider/antonio-londono': 523,\n 'https://www.procyclingstats.com/rider/antonio-martin': 524,\n 'https://www.procyclingstats.com/rider/antonio-martinez': 525,\n 'https://www.procyclingstats.com/rider/antonio-miguel': 526,\n 'https://www.procyclingstats.com/rider/antonio-monteiro-silva': 527,\n 'https://www.procyclingstats.com/rider/antonio-nibali': 528,\n 'https://www.procyclingstats.com/rider/antonio-olmo': 529,\n 'https://www.procyclingstats.com/rider/antonio-palmero': 530,\n 'https://www.procyclingstats.com/rider/antonio-pedrero': 531,\n 'https://www.procyclingstats.com/rider/antonio-piedra': 532,\n 'https://www.procyclingstats.com/rider/antonio-pinto': 533,\n 'https://www.procyclingstats.com/rider/antonio-provencio': 534,\n 'https://www.procyclingstats.com/rider/antonio-quadranti': 535,\n 'https://www.procyclingstats.com/rider/antonio-rizzi': 536,\n 'https://www.procyclingstats.com/rider/antonio-rodrigues': 537,\n 'https://www.procyclingstats.com/rider/antonio-rumbo': 538,\n 'https://www.procyclingstats.com/rider/antonio-salomone': 539,\n 'https://www.procyclingstats.com/rider/antonio-sanchez-garcia': 540,\n 'https://www.procyclingstats.com/rider/antonio-santos1': 541,\n 'https://www.procyclingstats.com/rider/antonio-segismundo-de-la-torre-viel': 542,\n 'https://www.procyclingstats.com/rider/antonio-sobrino': 543,\n 'https://www.procyclingstats.com/rider/antonio-soto': 544,\n 'https://www.procyclingstats.com/rider/antonio-sousa2': 545,\n 'https://www.procyclingstats.com/rider/antonio-tiberi': 546,\n 'https://www.procyclingstats.com/rider/antonio-vargas': 547,\n 'https://www.procyclingstats.com/rider/antonio-varriale': 548,\n 'https://www.procyclingstats.com/rider/antonio-viriato-da-silva-duarte': 549,\n 'https://www.procyclingstats.com/rider/antony-doyle': 550,\n 'https://www.procyclingstats.com/rider/antwan-tolhoek': 551,\n 'https://www.procyclingstats.com/rider/argemiro-bohorquez': 552,\n 'https://www.procyclingstats.com/rider/argiro-zapata': 553,\n 'https://www.procyclingstats.com/rider/ariel-maximiliano-richeze': 554,\n 'https://www.procyclingstats.com/rider/aristide-ratti': 555,\n 'https://www.procyclingstats.com/rider/aritz-arruti': 556,\n 'https://www.procyclingstats.com/rider/aritz-bagues': 557,\n 'https://www.procyclingstats.com/rider/arjan-jagt': 558,\n 'https://www.procyclingstats.com/rider/arjen-livyns': 559,\n 'https://www.procyclingstats.com/rider/arkadiusz-wojtas': 560,\n 'https://www.procyclingstats.com/rider/arkaitz-duran': 561,\n 'https://www.procyclingstats.com/rider/arlindo-coelho': 562,\n 'https://www.procyclingstats.com/rider/arlindo-de-sousa': 563,\n 'https://www.procyclingstats.com/rider/armand-de-las-cuevas': 564,\n 'https://www.procyclingstats.com/rider/armando-aristizabal': 565,\n 'https://www.procyclingstats.com/rider/armando-moreno': 566,\n 'https://www.procyclingstats.com/rider/armando-rupa': 567,\n 'https://www.procyclingstats.com/rider/armin-meier': 568,\n 'https://www.procyclingstats.com/rider/arnaud-coyot': 569,\n 'https://www.procyclingstats.com/rider/arnaud-de-lie': 570,\n 'https://www.procyclingstats.com/rider/arnaud-demare': 571,\n 'https://www.procyclingstats.com/rider/arnaud-gerard': 572,\n 'https://www.procyclingstats.com/rider/arnaud-labbe': 573,\n 'https://www.procyclingstats.com/rider/arnaud-pretot': 574,\n 'https://www.procyclingstats.com/rider/arne-daelmans': 575,\n 'https://www.procyclingstats.com/rider/arne-hassink': 576,\n 'https://www.procyclingstats.com/rider/arne-marit': 577,\n 'https://www.procyclingstats.com/rider/arno-kuttel': 578,\n 'https://www.procyclingstats.com/rider/arnold-van-hooft': 579,\n 'https://www.procyclingstats.com/rider/arnoldas-saprykinas': 580,\n 'https://www.procyclingstats.com/rider/arnoud-van-groen': 581,\n 'https://www.procyclingstats.com/rider/aron-huysmans': 582,\n 'https://www.procyclingstats.com/rider/arsenio-gonzalez': 583,\n 'https://www.procyclingstats.com/rider/artak-mkrtchane': 584,\n 'https://www.procyclingstats.com/rider/artem-nych': 585,\n 'https://www.procyclingstats.com/rider/arthur-farenhout': 586,\n 'https://www.procyclingstats.com/rider/artjom-botschkarew': 587,\n 'https://www.procyclingstats.com/rider/artour-babaitsev': 588,\n 'https://www.procyclingstats.com/rider/artur-gajek': 589,\n 'https://www.procyclingstats.com/rider/artur-krasinski': 590,\n 'https://www.procyclingstats.com/rider/artur-krzeszowiec': 591,\n 'https://www.procyclingstats.com/rider/arturas-kasputis': 592,\n 'https://www.procyclingstats.com/rider/arturo-gravalos-lopez': 593,\n 'https://www.procyclingstats.com/rider/artyom-zakharov': 594,\n 'https://www.procyclingstats.com/rider/arunas-cepele': 595,\n 'https://www.procyclingstats.com/rider/arvid-de-kleijn': 596,\n 'https://www.procyclingstats.com/rider/arvis-piziks': 597,\n 'https://www.procyclingstats.com/rider/arximiro-blanco': 598,\n 'https://www.procyclingstats.com/rider/asbjorn-hellemose': 599,\n 'https://www.procyclingstats.com/rider/asbjorn-kragh-andersen': 600,\n 'https://www.procyclingstats.com/rider/asensio-navarro': 601,\n 'https://www.procyclingstats.com/rider/aser-estevez': 602,\n 'https://www.procyclingstats.com/rider/ashley-humbert': 603,\n 'https://www.procyclingstats.com/rider/asiat-saitov': 604,\n 'https://www.procyclingstats.com/rider/asier-etxeberria': 605,\n 'https://www.procyclingstats.com/rider/assan-bazayev': 606,\n 'https://www.procyclingstats.com/rider/atanas-petrov': 607,\n 'https://www.procyclingstats.com/rider/atle-kvalsvoll': 608,\n 'https://www.procyclingstats.com/rider/atle-pedersen': 609,\n 'https://www.procyclingstats.com/rider/atsushi-oka': 610,\n 'https://www.procyclingstats.com/rider/attila-valter': 611,\n 'https://www.procyclingstats.com/rider/attilio-rota': 612,\n 'https://www.procyclingstats.com/rider/august-jensen': 613,\n 'https://www.procyclingstats.com/rider/augusto-triana': 614,\n 'https://www.procyclingstats.com/rider/aurelien-clerc': 615,\n 'https://www.procyclingstats.com/rider/aurelien-duval': 616,\n 'https://www.procyclingstats.com/rider/aurelien-paret-peintre': 617,\n 'https://www.procyclingstats.com/rider/aurelien-passeron': 618,\n 'https://www.procyclingstats.com/rider/aurelio-robles': 619,\n 'https://www.procyclingstats.com/rider/axel-laurance': 620,\n 'https://www.procyclingstats.com/rider/axel-merckx': 621,\n 'https://www.procyclingstats.com/rider/axel-zingle': 622,\n 'https://www.procyclingstats.com/rider/baden-cooke': 623,\n 'https://www.procyclingstats.com/rider/balazs-rohtmer': 624,\n 'https://www.procyclingstats.com/rider/baptiste-planckaert': 625,\n 'https://www.procyclingstats.com/rider/barnabas-peak': 626,\n 'https://www.procyclingstats.com/rider/barrie-clarke': 627,\n 'https://www.procyclingstats.com/rider/barry-burns': 628,\n 'https://www.procyclingstats.com/rider/barry-hoban': 629,\n 'https://www.procyclingstats.com/rider/barry-markus': 630,\n 'https://www.procyclingstats.com/rider/bart-boom': 631,\n 'https://www.procyclingstats.com/rider/bart-bowen': 632,\n 'https://www.procyclingstats.com/rider/bart-de-spiegelaere': 633,\n 'https://www.procyclingstats.com/rider/bart-dockx': 634,\n 'https://www.procyclingstats.com/rider/bart-heirewegh': 635,\n 'https://www.procyclingstats.com/rider/bart-leysen': 636,\n 'https://www.procyclingstats.com/rider/bart-vanheule': 637,\n 'https://www.procyclingstats.com/rider/bart-voskamp': 638,\n 'https://www.procyclingstats.com/rider/bartlomiej-ksobiak': 639,\n 'https://www.procyclingstats.com/rider/bartosz-huzarski': 640,\n 'https://www.procyclingstats.com/rider/bas-giling': 641,\n 'https://www.procyclingstats.com/rider/bastian-buffel': 642,\n 'https://www.procyclingstats.com/rider/bastien-froidevaux': 643,\n 'https://www.procyclingstats.com/rider/bauke-mollema': 644,\n 'https://www.procyclingstats.com/rider/beat-breu': 645,\n 'https://www.procyclingstats.com/rider/beat-wabel': 646,\n 'https://www.procyclingstats.com/rider/beat-zberg': 647,\n 'https://www.procyclingstats.com/rider/bekim-leif-christensen': 648,\n 'https://www.procyclingstats.com/rider/belmiro-ribeiro': 649,\n 'https://www.procyclingstats.com/rider/belmiro-silva': 650,\n 'https://www.procyclingstats.com/rider/ben-berden': 651,\n 'https://www.procyclingstats.com/rider/ben-healy': 652,\n 'https://www.procyclingstats.com/rider/ben-hermans': 653,\n 'https://www.procyclingstats.com/rider/ben-luckwell': 654,\n 'https://www.procyclingstats.com/rider/ben-o-connor': 655,\n 'https://www.procyclingstats.com/rider/ben-swift': 656,\n 'https://www.procyclingstats.com/rider/ben-tulett': 657,\n 'https://www.procyclingstats.com/rider/ben-turner': 658,\n 'https://www.procyclingstats.com/rider/ben-zwiehoff': 659,\n 'https://www.procyclingstats.com/rider/benat-albizuri-aransolo': 660,\n 'https://www.procyclingstats.com/rider/benat-intxausti': 661,\n 'https://www.procyclingstats.com/rider/benedetto-patellaro': 662,\n 'https://www.procyclingstats.com/rider/benedito-ferreira': 663,\n 'https://www.procyclingstats.com/rider/benjamin-brooks': 664,\n 'https://www.procyclingstats.com/rider/benjamin-carvalho': 665,\n 'https://www.procyclingstats.com/rider/benjamin-day': 666,\n 'https://www.procyclingstats.com/rider/benjamin-declercq': 667,\n 'https://www.procyclingstats.com/rider/benjamin-gonzalez-noval': 668,\n 'https://www.procyclingstats.com/rider/benjamin-gourgue': 669,\n 'https://www.procyclingstats.com/rider/benjamin-johnson': 670,\n 'https://www.procyclingstats.com/rider/benjamin-king-1': 671,\n 'https://www.procyclingstats.com/rider/benjamin-levecot': 672,\n 'https://www.procyclingstats.com/rider/benjamin-thomas-2': 673,\n 'https://www.procyclingstats.com/rider/benjamin-van-der-auwera': 674,\n 'https://www.procyclingstats.com/rider/benjamin-van-itterbeeck': 675,\n 'https://www.procyclingstats.com/rider/bennie-brouwer': 676,\n 'https://www.procyclingstats.com/rider/benny-de-schrooder': 677,\n 'https://www.procyclingstats.com/rider/benny-heylen': 678,\n 'https://www.procyclingstats.com/rider/benny-schepmans': 679,\n 'https://www.procyclingstats.com/rider/benny-van-brabant': 680,\n 'https://www.procyclingstats.com/rider/benny-van-der-auwera': 681,\n 'https://www.procyclingstats.com/rider/benny-vermeulen': 682,\n 'https://www.procyclingstats.com/rider/benoit-cosnefroy': 683,\n 'https://www.procyclingstats.com/rider/benoit-farama': 684,\n 'https://www.procyclingstats.com/rider/benoit-joachim': 685,\n 'https://www.procyclingstats.com/rider/benoit-poilvet': 686,\n 'https://www.procyclingstats.com/rider/benoit-salmon': 687,\n 'https://www.procyclingstats.com/rider/benoit-sinner': 688,\n 'https://www.procyclingstats.com/rider/benoit-vaugrenard': 689,\n 'https://www.procyclingstats.com/rider/berik-kupeshov': 690,\n 'https://www.procyclingstats.com/rider/bernard-boulez': 691,\n 'https://www.procyclingstats.com/rider/bernard-chesneau': 692,\n 'https://www.procyclingstats.com/rider/bernard-debuisson': 693,\n 'https://www.procyclingstats.com/rider/bernard-gavillet': 694,\n 'https://www.procyclingstats.com/rider/bernard-sulzberger': 695,\n 'https://www.procyclingstats.com/rider/bernard-thevenet': 696,\n 'https://www.procyclingstats.com/rider/bernard-van-ulden': 697,\n 'https://www.procyclingstats.com/rider/bernardo-mazon': 698,\n 'https://www.procyclingstats.com/rider/bernardo-riccio': 699,\n 'https://www.procyclingstats.com/rider/bernardo-rocha-de-sousa': 700,\n 'https://www.procyclingstats.com/rider/bernardo-suaza': 701,\n 'https://www.procyclingstats.com/rider/bernhard-eisel': 702,\n 'https://www.procyclingstats.com/rider/bernhard-kohl': 703,\n 'https://www.procyclingstats.com/rider/bernhard-rassinger': 704,\n 'https://www.procyclingstats.com/rider/bernie-burns': 705,\n 'https://www.procyclingstats.com/rider/berry-hoedemakers': 706,\n 'https://www.procyclingstats.com/rider/bert-de-backer': 707,\n 'https://www.procyclingstats.com/rider/bert-de-waele': 708,\n 'https://www.procyclingstats.com/rider/bert-grabsch': 709,\n 'https://www.procyclingstats.com/rider/bert-hiemstra': 710,\n 'https://www.procyclingstats.com/rider/bert-jan-lindeman': 711,\n 'https://www.procyclingstats.com/rider/bert-oosterbosch': 712,\n 'https://www.procyclingstats.com/rider/bert-pronk': 713,\n 'https://www.procyclingstats.com/rider/bert-roesems': 714,\n 'https://www.procyclingstats.com/rider/bert-scheirlinckx': 715,\n 'https://www.procyclingstats.com/rider/bert-van-ende': 716,\n 'https://www.procyclingstats.com/rider/bert-van-lerberghe': 717,\n 'https://www.procyclingstats.com/rider/bert-wekema': 718,\n 'https://www.procyclingstats.com/rider/biagio-conte': 719,\n 'https://www.procyclingstats.com/rider/biao-liu': 720,\n 'https://www.procyclingstats.com/rider/bill-gordin': 721,\n 'https://www.procyclingstats.com/rider/bill-nickson': 722,\n 'https://www.procyclingstats.com/rider/bill-oyster': 723,\n 'https://www.procyclingstats.com/rider/billy-joe-shearsby': 724,\n 'https://www.procyclingstats.com/rider/bingen-fernandez-bustinza': 725,\n 'https://www.procyclingstats.com/rider/biniam-ghirmay': 726,\n 'https://www.procyclingstats.com/rider/bjarke-nielsen': 727,\n 'https://www.procyclingstats.com/rider/bjarne-riis': 728,\n 'https://www.procyclingstats.com/rider/bjorn-backmann': 729,\n 'https://www.procyclingstats.com/rider/bjorn-coomans': 730,\n 'https://www.procyclingstats.com/rider/bjorn-cornelissen': 731,\n 'https://www.procyclingstats.com/rider/bjorn-glasner': 732,\n 'https://www.procyclingstats.com/rider/bjorn-leukemans': 733,\n 'https://www.procyclingstats.com/rider/bjorn-papstein': 734,\n 'https://www.procyclingstats.com/rider/bjorn-rondelez': 735,\n 'https://www.procyclingstats.com/rider/bjorn-schroder': 736,\n 'https://www.procyclingstats.com/rider/bjorn-selander': 737,\n 'https://www.procyclingstats.com/rider/bjorn-thurau': 738,\n 'https://www.procyclingstats.com/rider/bjornar-vestol': 739,\n 'https://www.procyclingstats.com/rider/blair-stockwell': 740,\n 'https://www.procyclingstats.com/rider/blaise-sonnery': 741,\n 'https://www.procyclingstats.com/rider/blake-caldwell': 742,\n 'https://www.procyclingstats.com/rider/blayne-wikner': 743,\n 'https://www.procyclingstats.com/rider/blazej-janiaczyk': 744,\n 'https://www.procyclingstats.com/rider/blel-kadri': 745,\n 'https://www.procyclingstats.com/rider/bo-andre-namtvedt': 746,\n 'https://www.procyclingstats.com/rider/bo-hamburger': 747,\n 'https://www.procyclingstats.com/rider/bob-downs': 748,\n 'https://www.procyclingstats.com/rider/bob-hackworth': 749,\n 'https://www.procyclingstats.com/rider/bob-jungels': 750,\n 'https://www.procyclingstats.com/rider/bob-mionske': 751,\n 'https://www.procyclingstats.com/rider/bob-rasenberg': 752,\n 'https://www.procyclingstats.com/rider/bob-roll': 753,\n 'https://www.procyclingstats.com/rider/bob-shannon': 754,\n 'https://www.procyclingstats.com/rider/bobbie-traksel': 755,\n 'https://www.procyclingstats.com/rider/bobby-julich': 756,\n 'https://www.procyclingstats.com/rider/bobby-stuckey': 757,\n 'https://www.procyclingstats.com/rider/bogdan-bondariew': 758,\n 'https://www.procyclingstats.com/rider/boris-godo': 759,\n 'https://www.procyclingstats.com/rider/boris-nichipourenko': 760,\n 'https://www.procyclingstats.com/rider/boris-premuzic': 761,\n 'https://www.procyclingstats.com/rider/boris-shpilevsky': 762,\n 'https://www.procyclingstats.com/rider/borut-bozic': 763,\n 'https://www.procyclingstats.com/rider/borut-rouscek': 764,\n 'https://www.procyclingstats.com/rider/bostjan-mervar': 765,\n 'https://www.procyclingstats.com/rider/boy-van-poppel': 766,\n 'https://www.procyclingstats.com/rider/brad-davidson': 767,\n 'https://www.procyclingstats.com/rider/brad-evans': 768,\n 'https://www.procyclingstats.com/rider/bradley-mcgee': 769,\n 'https://www.procyclingstats.com/rider/bradley-wiggins': 770,\n 'https://www.procyclingstats.com/rider/bram-de-groot': 771,\n 'https://www.procyclingstats.com/rider/bram-schmitz': 772,\n 'https://www.procyclingstats.com/rider/bram-tankink': 773,\n 'https://www.procyclingstats.com/rider/bram-welten': 774,\n 'https://www.procyclingstats.com/rider/brandon-alejandro-rojas-vega': 775,\n 'https://www.procyclingstats.com/rider/brandon-mcnulty': 776,\n 'https://www.procyclingstats.com/rider/brandon-smith-rivera-vargas': 777,\n 'https://www.procyclingstats.com/rider/branislau-samoilau': 778,\n 'https://www.procyclingstats.com/rider/brayan-sanchez': 779,\n 'https://www.procyclingstats.com/rider/brayan-stiven-ramirez-chacon': 780,\n 'https://www.procyclingstats.com/rider/brendan-canty': 781,\n 'https://www.procyclingstats.com/rider/brendan-hart': 782,\n 'https://www.procyclingstats.com/rider/brendan-rhim': 783,\n 'https://www.procyclingstats.com/rider/breno-morais-santos': 784,\n 'https://www.procyclingstats.com/rider/brent-bookwalter': 785,\n 'https://www.procyclingstats.com/rider/brent-van-moer': 786,\n 'https://www.procyclingstats.com/rider/brenton-jones': 787,\n 'https://www.procyclingstats.com/rider/brett-lancaster': 788,\n 'https://www.procyclingstats.com/rider/brian-churchill': 789,\n 'https://www.procyclingstats.com/rider/brian-dalgaard': 790,\n 'https://www.procyclingstats.com/rider/brian-fagan': 791,\n 'https://www.procyclingstats.com/rider/brian-gillin': 792,\n 'https://www.procyclingstats.com/rider/brian-hanson': 793,\n 'https://www.procyclingstats.com/rider/brian-holm-sorensen': 794,\n 'https://www.procyclingstats.com/rider/brian-kenneally': 795,\n 'https://www.procyclingstats.com/rider/brian-mcdonough': 796,\n 'https://www.procyclingstats.com/rider/brian-seguin': 797,\n 'https://www.procyclingstats.com/rider/brian-sheedy': 798,\n 'https://www.procyclingstats.com/rider/brian-smith': 799,\n 'https://www.procyclingstats.com/rider/brian-steel': 800,\n 'https://www.procyclingstats.com/rider/brian-vandborg': 801,\n 'https://www.procyclingstats.com/rider/brian-walton': 802,\n 'https://www.procyclingstats.com/rider/brice-feillu': 803,\n 'https://www.procyclingstats.com/rider/bruce-donaghy': 804,\n 'https://www.procyclingstats.com/rider/bruce-hoskins': 805,\n 'https://www.procyclingstats.com/rider/bruce-whitesel': 806,\n 'https://www.procyclingstats.com/rider/bruno-andre-ferreira': 807,\n 'https://www.procyclingstats.com/rider/bruno-armirail': 808,\n 'https://www.procyclingstats.com/rider/bruno-arsie-735': 809,\n 'https://www.procyclingstats.com/rider/bruno-bruyere': 810,\n 'https://www.procyclingstats.com/rider/bruno-bulic': 811,\n 'https://www.procyclingstats.com/rider/bruno-cenghialta': 812,\n 'https://www.procyclingstats.com/rider/bruno-cornillet': 813,\n 'https://www.procyclingstats.com/rider/bruno-geuens': 814,\n 'https://www.procyclingstats.com/rider/bruno-holenweger': 815,\n 'https://www.procyclingstats.com/rider/bruno-huerlimann': 816,\n 'https://www.procyclingstats.com/rider/bruno-jaremko': 817,\n 'https://www.procyclingstats.com/rider/bruno-leali': 818,\n 'https://www.procyclingstats.com/rider/bruno-manuel-silva-pires': 819,\n 'https://www.procyclingstats.com/rider/bruno-matos': 820,\n 'https://www.procyclingstats.com/rider/bruno-miguel-castanheira-gomes': 821,\n 'https://www.procyclingstats.com/rider/bruno-rizzi': 822,\n 'https://www.procyclingstats.com/rider/bruno-roth-314': 823,\n 'https://www.procyclingstats.com/rider/bruno-thibout': 824,\n 'https://www.procyclingstats.com/rider/bruno-vicino': 825,\n 'https://www.procyclingstats.com/rider/bruno-wojtinek': 826,\n 'https://www.procyclingstats.com/rider/bruno-wolfer': 827,\n 'https://www.procyclingstats.com/rider/bruno-zollfrank': 828,\n 'https://www.procyclingstats.com/rider/bryan-coquard': 829,\n 'https://www.procyclingstats.com/rider/bryan-gomez': 830,\n 'https://www.procyclingstats.com/rider/bryan-miller': 831,\n 'https://www.procyclingstats.com/rider/burke-swindlehurst': 832,\n 'https://www.procyclingstats.com/rider/cadel-evans': 833,\n 'https://www.procyclingstats.com/rider/caio-godoy-ormenese': 834,\n 'https://www.procyclingstats.com/rider/caleb-ewan': 835,\n 'https://www.procyclingstats.com/rider/caleb-fairly': 836,\n 'https://www.procyclingstats.com/rider/calisto-ramos': 837,\n 'https://www.procyclingstats.com/rider/callum-scotson': 838,\n 'https://www.procyclingstats.com/rider/calum-johnston': 839,\n 'https://www.procyclingstats.com/rider/calvin-watson': 840,\n 'https://www.procyclingstats.com/rider/cameron-jennings': 841,\n 'https://www.procyclingstats.com/rider/cameron-meyer': 842,\n 'https://www.procyclingstats.com/rider/cameron-wurf': 843,\n 'https://www.procyclingstats.com/rider/camille-bouquet': 844,\n 'https://www.procyclingstats.com/rider/camillo-passera': 845,\n 'https://www.procyclingstats.com/rider/camilo-jorge-castiblanco': 846,\n 'https://www.procyclingstats.com/rider/camilo-santos': 847,\n 'https://www.procyclingstats.com/rider/campbell-stewart': 848,\n 'https://www.procyclingstats.com/rider/candido-barbosa': 849,\n 'https://www.procyclingstats.com/rider/carey-hall': 850,\n 'https://www.procyclingstats.com/rider/carinus-lemmer': 851,\n 'https://www.procyclingstats.com/rider/carl-fredrik-hagen': 852,\n 'https://www.procyclingstats.com/rider/carl-naibo': 853,\n 'https://www.procyclingstats.com/rider/carlo-bianchi': 854,\n 'https://www.procyclingstats.com/rider/carlo-bomans': 855,\n 'https://www.procyclingstats.com/rider/carlo-corra': 856,\n 'https://www.procyclingstats.com/rider/carlo-finco': 857,\n 'https://www.procyclingstats.com/rider/carlo-scognamiglio': 858,\n 'https://www.procyclingstats.com/rider/carlo-tonon': 859,\n 'https://www.procyclingstats.com/rider/carlo-westphal': 860,\n 'https://www.procyclingstats.com/rider/carlos-alberto-carneiro-silva': 861,\n 'https://www.procyclingstats.com/rider/carlos-alberto-contreras': 862,\n 'https://www.procyclingstats.com/rider/carlos-alberto-maya-lizcano': 863,\n 'https://www.procyclingstats.com/rider/carlos-baltazar1': 864,\n 'https://www.procyclingstats.com/rider/carlos-barbero': 865,\n 'https://www.procyclingstats.com/rider/carlos-barredo': 866,\n 'https://www.procyclingstats.com/rider/carlos-bermudez-gomez': 867,\n 'https://www.procyclingstats.com/rider/carlos-betancur': 868,\n 'https://www.procyclingstats.com/rider/carlos-cabrera': 869,\n 'https://www.procyclingstats.com/rider/carlos-canal': 870,\n 'https://www.procyclingstats.com/rider/carlos-castano-panadero': 871,\n 'https://www.procyclingstats.com/rider/carlos-coelho': 872,\n 'https://www.procyclingstats.com/rider/carlos-cuyle': 873,\n 'https://www.procyclingstats.com/rider/carlos-da-cruz': 874,\n 'https://www.procyclingstats.com/rider/carlos-eduardo-alzate': 875,\n 'https://www.procyclingstats.com/rider/carlos-eloy-pierna': 876,\n 'https://www.procyclingstats.com/rider/carlos-emirio-gutierrez': 877,\n 'https://www.procyclingstats.com/rider/carlos-ferreira': 878,\n 'https://www.procyclingstats.com/rider/carlos-gago': 879,\n 'https://www.procyclingstats.com/rider/carlos-galarreta': 880,\n 'https://www.procyclingstats.com/rider/carlos-garcia-pierna': 881,\n 'https://www.procyclingstats.com/rider/carlos-garcia-quesada': 882,\n 'https://www.procyclingstats.com/rider/carlos-gomes-martins': 883,\n 'https://www.procyclingstats.com/rider/carlos-jose-ochoa': 884,\n 'https://www.procyclingstats.com/rider/carlos-malfait': 885,\n 'https://www.procyclingstats.com/rider/carlos-mario-jaramillo': 886,\n 'https://www.procyclingstats.com/rider/carlos-mario-ramirez': 887,\n 'https://www.procyclingstats.com/rider/carlos-marta': 888,\n 'https://www.procyclingstats.com/rider/carlos-moreira': 889,\n 'https://www.procyclingstats.com/rider/carlos-moreira-495': 890,\n 'https://www.procyclingstats.com/rider/carlos-neves': 891,\n 'https://www.procyclingstats.com/rider/carlos-nozal-vega': 892,\n 'https://www.procyclingstats.com/rider/carlos-nunes': 893,\n 'https://www.procyclingstats.com/rider/carlos-ocana': 894,\n 'https://www.procyclingstats.com/rider/carlos-osorio': 895,\n 'https://www.procyclingstats.com/rider/carlos-pereira': 896,\n 'https://www.procyclingstats.com/rider/carlos-pinho': 897,\n 'https://www.procyclingstats.com/rider/carlos-quintero': 898,\n 'https://www.procyclingstats.com/rider/carlos-ramon-golbano': 899,\n 'https://www.procyclingstats.com/rider/carlos-rodriguez-cano': 900,\n 'https://www.procyclingstats.com/rider/carlos-santos': 901,\n 'https://www.procyclingstats.com/rider/carlos-sastre': 902,\n 'https://www.procyclingstats.com/rider/carlos-teixeira': 903,\n 'https://www.procyclingstats.com/rider/carlos-torrent-tarres': 904,\n 'https://www.procyclingstats.com/rider/carlos-verona': 905,\n 'https://www.procyclingstats.com/rider/carlos-zarate': 906,\n 'https://www.procyclingstats.com/rider/carmelo-barone': 907,\n 'https://www.procyclingstats.com/rider/carsten-podlesch': 908,\n 'https://www.procyclingstats.com/rider/casey-munro': 909,\n 'https://www.procyclingstats.com/rider/casimiro-moreda': 910,\n 'https://www.procyclingstats.com/rider/casper-pedersen': 911,\n 'https://www.procyclingstats.com/rider/casper-van-der-meer': 912,\n 'https://www.procyclingstats.com/rider/cassio-freitas': 913,\n 'https://www.procyclingstats.com/rider/cayetano-jose-sarmiento': 914,\n 'https://www.procyclingstats.com/rider/cayn-theakston': 915,\n 'https://www.procyclingstats.com/rider/cecilio-gutierrez-pastor': 916,\n 'https://www.procyclingstats.com/rider/cedric-beullens': 917,\n 'https://www.procyclingstats.com/rider/cedric-coutouly': 918,\n 'https://www.procyclingstats.com/rider/cedric-fragniere': 919,\n 'https://www.procyclingstats.com/rider/cedric-herve': 920,\n 'https://www.procyclingstats.com/rider/cedric-loue': 921,\n 'https://www.procyclingstats.com/rider/cedric-pineau': 922,\n 'https://www.procyclingstats.com/rider/cedric-rossier': 923,\n 'https://www.procyclingstats.com/rider/cedric-van-lommel': 924,\n 'https://www.procyclingstats.com/rider/cedric-vasseur': 925,\n 'https://www.procyclingstats.com/rider/cees-bol': 926,\n 'https://www.procyclingstats.com/rider/cees-de-brouwer': 927,\n 'https://www.procyclingstats.com/rider/cees-priem': 928,\n 'https://www.procyclingstats.com/rider/celestino-prieto': 929,\n 'https://www.procyclingstats.com/rider/celio-apolinario': 930,\n 'https://www.procyclingstats.com/rider/celio-sousa': 931,\n 'https://www.procyclingstats.com/rider/cello-roncancio': 932,\n 'https://www.procyclingstats.com/rider/ceriel-desal': 933,\n 'https://www.procyclingstats.com/rider/cesar-antunes-quiterio': 934,\n 'https://www.procyclingstats.com/rider/cesar-augusto-ramirez': 935,\n 'https://www.procyclingstats.com/rider/cesar-fernandes': 936,\n 'https://www.procyclingstats.com/rider/cesar-fonte': 937,\n 'https://www.procyclingstats.com/rider/cesar-garcia-calvo': 938,\n 'https://www.procyclingstats.com/rider/cesar-goyeneche': 939,\n 'https://www.procyclingstats.com/rider/cesar-grajales': 940,\n 'https://www.procyclingstats.com/rider/cesar-pinto': 941,\n 'https://www.procyclingstats.com/rider/cesar-solaun': 942,\n 'https://www.procyclingstats.com/rider/cesare-benedetti': 943,\n 'https://www.procyclingstats.com/rider/cesare-cipollini': 944,\n 'https://www.procyclingstats.com/rider/cesare-di-cintio': 945,\n 'https://www.procyclingstats.com/rider/cezary-zamana': 946,\n 'https://www.procyclingstats.com/rider/chad-beyer': 947,\n 'https://www.procyclingstats.com/rider/chad-campbell': 948,\n 'https://www.procyclingstats.com/rider/chad-gerlach': 949,\n 'https://www.procyclingstats.com/rider/chad-haga': 950,\n 'https://www.procyclingstats.com/rider/chan-jae-jang': 951,\n 'https://www.procyclingstats.com/rider/charles-carmila': 952,\n 'https://www.procyclingstats.com/rider/charles-guilbert': 953,\n 'https://www.procyclingstats.com/rider/charles-jochums': 954,\n 'https://www.procyclingstats.com/rider/charles-planet': 955,\n 'https://www.procyclingstats.com/rider/charles-wegelius': 956,\n 'https://www.procyclingstats.com/rider/charly-berard': 957,\n 'https://www.procyclingstats.com/rider/charly-mottet': 958,\n 'https://www.procyclingstats.com/rider/cheng-ji': 959,\n 'https://www.procyclingstats.com/rider/chris-anker-sorensen': 960,\n 'https://www.procyclingstats.com/rider/chris-barnsley': 961,\n 'https://www.procyclingstats.com/rider/chris-butler': 962,\n 'https://www.procyclingstats.com/rider/chris-carmichael': 963,\n 'https://www.procyclingstats.com/rider/chris-deckers': 964,\n 'https://www.procyclingstats.com/rider/chris-fisher': 965,\n 'https://www.procyclingstats.com/rider/chris-hamilton': 966,\n 'https://www.procyclingstats.com/rider/chris-harper': 967,\n 'https://www.procyclingstats.com/rider/chris-horner': 968,\n 'https://www.procyclingstats.com/rider/chris-huber': 969,\n 'https://www.procyclingstats.com/rider/chris-hunt': 970,\n 'https://www.procyclingstats.com/rider/chris-jackson1': 971,\n 'https://www.procyclingstats.com/rider/chris-lillywhite': 972,\n 'https://www.procyclingstats.com/rider/chris-opie': 973,\n 'https://www.procyclingstats.com/rider/chris-peers': 974,\n 'https://www.procyclingstats.com/rider/chris-pollin': 975,\n 'https://www.procyclingstats.com/rider/chris-pools': 976,\n 'https://www.procyclingstats.com/rider/chris-sheehan': 977,\n 'https://www.procyclingstats.com/rider/chris-sutton': 978,\n 'https://www.procyclingstats.com/rider/chris-tonge': 979,\n 'https://www.procyclingstats.com/rider/chris-vandyck': 980,\n 'https://www.procyclingstats.com/rider/chris-walker': 981,\n 'https://www.procyclingstats.com/rider/chris-washkevich': 982,\n 'https://www.procyclingstats.com/rider/chris-wherry': 983,\n 'https://www.procyclingstats.com/rider/chris-wreghitt': 984,\n 'https://www.procyclingstats.com/rider/chris-yenkey': 985,\n 'https://www.procyclingstats.com/rider/chris-young': 986,\n 'https://www.procyclingstats.com/rider/christian-auriemma': 987,\n 'https://www.procyclingstats.com/rider/christian-charriere': 988,\n 'https://www.procyclingstats.com/rider/christian-chaubet': 989,\n 'https://www.procyclingstats.com/rider/christian-climent': 990,\n 'https://www.procyclingstats.com/rider/christian-corre': 991,\n 'https://www.procyclingstats.com/rider/christian-dumont': 992,\n 'https://www.procyclingstats.com/rider/christian-hautekeete': 993,\n 'https://www.procyclingstats.com/rider/christian-heule': 994,\n 'https://www.procyclingstats.com/rider/christian-hirsch': 995,\n 'https://www.procyclingstats.com/rider/christian-jager': 996,\n 'https://www.procyclingstats.com/rider/christian-knees': 997,\n 'https://www.procyclingstats.com/rider/christian-kux': 998,\n 'https://www.procyclingstats.com/rider/christian-lademan': 999,\n 'https://www.procyclingstats.com/rider/christian-leben': 1000,\n ...}"
     },
     "execution_count": 165,
     "metadata": {},
     "output_type": "execute_result"
    }
   ],
   "source": [
    "pcs_links_to_id = {k: v for k, v in zip(cyclists_df['pcs_link'], cyclists_df['cyclist_id'])}\n",
    "pcs_links_to_id"
   ],
   "metadata": {
    "collapsed": false,
    "pycharm": {
     "name": "#%%\n"
    }
   }
  },
  {
   "cell_type": "code",
   "execution_count": 166,
   "outputs": [
    {
     "data": {
      "text/plain": "{1: 'VAN DEN HOEK Aad',\n 2: 'GATE Aaron',\n 3: 'KEMPS Aaron',\n 4: 'VAN POUCKE Aaron',\n 5: 'VERWILST Aaron',\n 6: 'VIERHOUTEN Aart',\n 7: 'COELHO Abel',\n 8: 'RÍOS Abelardo',\n 9: 'GONZÁLEZ Abner',\n 10: 'OLANO Abraham',\n 11: 'DA SILVA Acácio',\n 12: 'OPRINS Ad',\n 13: 'POLAK Ad',\n 14: 'PRINSEN Ad',\n 15: 'TAK Ad',\n 16: 'VAN PEER Ad',\n 17: 'WIJNANDS Ad',\n 18: 'BLYTHE Adam',\n 19: 'DE VOS Adam',\n 20: 'GAWLIK Adam',\n 21: 'HANSEN Adam',\n 22: 'LAURENT Adam',\n 23: 'MURCHIE Adam',\n 24: 'PHELAN Adam',\n 25: 'STACHOWIAK Adam',\n 26: 'WADECKI Adam',\n 27: 'YATES Adam',\n 28: 'ENGELS Addy',\n 29: 'TEIXEIRA Adelino',\n 30: 'WIBOWO Adi',\n 31: 'HOLTER Ådne',\n 32: 'ALPERI Adolfo',\n 33: 'GARCÍA QUESADA Adolfo',\n 34: 'MARÍN GARCÍA Adolfo',\n 35: 'SCHIPPER Adri Jos',\n 36: 'VAN OPDORP Adri',\n 37: 'VAN HOUWELINGEN Adri',\n 38: 'MORENO Adrià',\n 39: 'BANASZEK Adrian',\n 40: 'HEGYVARY Adrian',\n 41: 'KUREK Adrian',\n 42: 'PALOMARES Adrián',\n 43: 'SÁEZ Adrián',\n 44: 'TIMMIS Adrian',\n 45: 'VIQUEZ Adrian',\n 46: 'ANGELONI Adriano',\n 47: 'BAFFI Adriano',\n 48: 'SPINOZZI Adriano',\n 49: 'KOOLS Adrie',\n 50: 'VAN DER POEL Adrie',\n 51: 'LAGRÉE Adrien',\n 52: 'PETIT Adrien',\n 53: 'GIRAMONDO Agostino',\n 54: 'ALONSO Agustin',\n 55: 'MADAN Ahmed',\n 56: 'KRUOPIS Aidis',\n 57: 'DE GENDT Aimé',\n 58: 'GORGOS Aisar',\n 59: 'GALDÓS Aitor',\n 60: 'GARMENDIA Aitor',\n 61: 'GONZÁLEZ Aitor',\n 62: 'HERNÁNDEZ Aitor',\n 63: 'KINTANA Aitor',\n 64: 'OSA Aitor',\n 65: 'PÉREZ Aitor',\n 66: 'SILLONIZ Aitor',\n 67: 'BARANAUSKAS Aivaras',\n 68: 'PEÑA Aketza',\n 69: 'KOBAYASHI Akinori',\n 70: 'ASADA Akira',\n 71: 'BIZET Alain',\n 72: 'DALLENBACH Alain',\n 73: 'DE CARVALHO Alain',\n 74: 'DE ROO Alain',\n 75: 'DE SCHACHT Alain',\n 76: 'DE VUYST Alain',\n 77: 'DESAEVER Alain',\n 78: 'DITHURBIDE Alain',\n 79: 'LAEREMANS Alain',\n 80: 'MESLET Alain',\n 81: 'PATRITTI Alain',\n 82: 'TURICCHIA Alain',\n 83: 'VAN KATWIJK Alain',\n 84: 'VIGNERON Alain',\n 85: 'VON ALLMEN Alain',\n 86: 'BANASZEK Alan',\n 87: 'BOILEAU Alan',\n 88: 'DIPPLE Alan',\n 89: 'GORNALL Alan',\n 90: 'JOUSSEAUME Alan',\n 91: 'PÉREZ Alan',\n 92: 'MARANGONI Alan',\n 93: 'MCCORMACK Alan',\n 94: 'MILLER Alan',\n 95: 'RIOU Alan',\n 96: 'VAN HEERDEN Alan',\n 97: 'TIMMER Albert',\n 98: 'TORRES Albert',\n 99: 'VAN VLIERBERGHE Albert',\n 100: 'ZWEIFEL Albert',\n 101: 'AMARAL Alberto',\n 102: 'SILVA Alberto Antonio',\n 103: 'BENITO Alberto',\n 104: 'BETTIOL Alberto',\n 105: 'CAMARGO Luis Alberto',\n 106: 'CECCHIN Alberto',\n 107: 'CONTADOR Alberto',\n 108: 'CONTOLI Alberto',\n 109: 'CURTOLO Alberto',\n 110: 'DAINESE Alberto',\n 111: 'FERNÁNDEZ Alberto David',\n 112: 'DI LORENZO Alberto',\n 113: 'ELLI Alberto',\n 114: 'FERNÁNDEZ DE LA PUEBLA Alberto',\n 115: 'FERNÁNDEZ Alberto',\n 116: 'CARVALHO Alberto Fernando Oliveira',\n 117: 'HIERRO Alberto',\n 118: 'LEAL Alberto',\n 119: 'LEANIZBARRUTIA Alberto',\n 120: 'LODDO Alberto',\n 121: 'LÓPEZ DE MUNAIN Alberto',\n 122: 'LOSADA Alberto',\n 123: 'MINETTI Alberto',\n 124: 'ONGARATO Alberto',\n 125: 'PARENTE Alberto',\n 126: 'RODRÍGUEZ Alberto',\n 127: 'SARONNI Alberto',\n 128: 'TACCONI Alberto',\n 129: 'TIBERIO Alberto',\n 130: 'VINALE Alberto',\n 131: 'VOLPI Alberto',\n 132: 'REYES ORTEGA Aldemar',\n 133: 'DONADELLO Aldo',\n 134: 'BORRAJO Alejandro Alberto',\n 135: 'CORTES Alejandro Ivan',\n 136: 'OSORIO Alejandro',\n 137: 'PALEO Alejandro',\n 138: 'ROPERO Alejandro',\n 139: 'VALVERDE Alejandro',\n 140: 'MILENKOVIC Aleksandar',\n 141: 'NIKAČEVIĆ Aleksandar',\n 142: 'KIRICHENKO Aleksandr',\n 143: 'VLASOV Aleksandr',\n 144: 'SARAMOTINS Aleksejs',\n 145: 'LUTSENKO Alexey',\n 146: 'BALLAN Alessandro',\n 147: 'BARONTI Alessandro',\n 148: 'BERTOLINI Alessandro',\n 149: 'BERTUOLA Alessandro',\n 150: 'BIANCHIN Alessandro',\n 151: 'BISOLTI Alessandro',\n 152: 'BRENDOLIN Alessandro',\n 153: 'CALZOLARI Alessandro',\n 154: 'CORTINOVIS Alessandro',\n 155: 'COVI Alessandro',\n 156: \"D'ANDREA Alessandro\",\n 157: 'DE MARCHI Alessandro',\n 158: 'DONATI Alessandro',\n 159: 'FANCELLU Alessandro',\n 160: 'FEDELI Alessandro',\n 161: 'FRAU Alessandro',\n 162: 'GIANNELLI Alessandro',\n 163: 'GUERRA Alessandro',\n 164: 'IACCHI Alessandro',\n 165: 'MASERATI Alessandro',\n 166: 'PAGANESSI Alessandro',\n 167: 'PETACCHI Alessandro',\n 168: 'PINARELLO Alessandro',\n 169: 'POZZI Alessandro',\n 170: 'POZZI Alessandro',\n 171: 'PRONI Alessandro',\n 172: 'RAISONI Alessandro',\n 173: 'SANTAROMITA Alessandro',\n 174: 'SANTI Alessandro',\n 175: 'SPEZIALETTI Alessandro',\n 176: 'TONELLI Alessandro',\n 177: 'VANOTTI Alessandro',\n 178: 'VAROCCHI Alessandro',\n 179: nan,\n 180: 'ANTONINI Alessio',\n 181: 'BONGIONI Alessio',\n 182: 'DI BASCO Alessio',\n 183: 'GALLETTI Alessio',\n 184: 'MARTINELLI Alessio',\n 185: 'NIERI Alessio',\n 186: 'SIGNEGO Alessio',\n 187: 'ARANBURU Alex',\n 188: 'CANO Alex',\n 189: 'COLMAN Alex',\n 190: 'DOWSETT Alex',\n 191: 'JAIME Álex',\n 192: 'KIDDIE Alex',\n 193: 'KIRSCH Alex',\n 194: 'MARTIN Alex',\n 195: 'MOLENAAR Alex',\n 196: 'RASMUSSEN Alex',\n 197: 'STIEDA Alex',\n 198: 'TOLIO Alex',\n 199: 'VAN LINDEN Alex',\n 200: 'ZÜLLE Alex',\n 201: 'AESCHBACH Alexander',\n 202: 'AREKEEV Alexander',\n 203: 'CATAFORD Alexander',\n 204: nan,\n 205: 'EFIMKIN Alexander',\n 206: 'EGGER Alexander',\n 207: 'VON DALGOW Alexander Ernst',\n 208: 'GOTTFRIED Alexander',\n 209: 'GUFLER Alexander',\n 210: 'KAMP Alexander',\n 211: 'KASTENHUBER Alexander',\n 212: 'KHATUNTSEV Alexander',\n 213: 'KONYCHEV Alexander',\n 214: 'KRASNOV Alexander',\n 215: 'KRIEGER Alexander',\n 216: 'KRISTOFF Alexander',\n 217: 'SEREBRYAKOV Alexander',\n 218: 'SEROV Alexander',\n 219: 'WEIFENBACH Alexander',\n 220: 'WETTERHALL Alexander',\n 221: 'KOLOBNEV Alexandr',\n 222: 'PLIUȘCHIN Alexandr',\n 223: 'RIABUSHENKO Alexandr',\n 224: 'BALMER Alexandre',\n 225: 'BARSOUKOV Alexandre',\n 226: 'BAZHENOV Alexandre',\n 227: 'BLAIN Alexandre',\n 228: 'BOTCHAROV Alexandre',\n 229: 'CABRERA Alexandre',\n 230: 'CHOUFFE Alexandre',\n 231: 'COSTA Alexandre Miguel Pinho',\n 232: 'DELETTRE Alexandre',\n 233: 'GENIEZ Alexandre',\n 234: 'GIROUT Alexandre',\n 235: 'GRUX Alexandre',\n 236: 'KORNATOV Alexandre',\n 237: 'KOROBKO Alexandre',\n 238: 'LYSENKO Alexandre',\n 239: 'MOOS Alexandre',\n 240: 'NAULLEAU Alexandre',\n 241: 'PICHOT Alexandre',\n 242: 'POSTERNAK Alexandre',\n 243: 'RODRIGUEZ Alexandre',\n 244: 'ROMANOV Alexandre',\n 245: 'RUAS Alexandre',\n 246: 'SHEFER Alexandre',\n 247: 'TIMOFEEV Alexandre',\n 248: 'TRUBINE Alexandre',\n 249: 'USOV Alexandre',\n 250: 'VINOKOUROV Alexandre',\n 251: 'ZINOVIEW Alexandre',\n 252: 'BIAKOV Alexei',\n 253: 'KUZNETSOV Alexei',\n 254: 'MARKOV Alexei',\n 255: 'NAKAZNY Alexei',\n 256: 'SIVAKOV Alexei',\n 257: 'KOLESSOV Alexey',\n 258: 'GREWAL Alexi',\n 259: 'CASTRO Alexis de Jesus',\n 260: 'GOUGEARD Alexis',\n 261: 'RENARD Alexis',\n 262: 'RODRÍGUEZ Alexis',\n 263: 'VUILLERMOZ Alexis',\n 264: 'BRUNEL Alexys',\n 265: 'SEGERSALL Alf',\n 266: 'VANDI Alfio',\n 267: 'VAN PARIJS Alfons',\n 268: 'BLANCO Alfonso',\n 269: 'FALZARANO Alfonso',\n 270: 'FLOREZ Alfonso',\n 271: 'RODRÍGUEZ Alfonso',\n 272: 'ACHERMANN Alfred',\n 273: 'WRIGHT Fred',\n 274: 'CLAVERO Alfredo',\n 275: 'IRUSTA Alfredo',\n 276: 'SABIO Alfredo',\n 277: 'KUSCHYNSKI Aleksandr',\n 278: 'ABDOURAKHMANOV Alichere',\n 279: 'CHIZABAS Jose Alirio',\n 280: 'ANDRESEN Allan Bo',\n 281: 'DAVIS Allan Howard',\n 282: 'IACUONE Allan',\n 283: 'JOHANSEN Allan',\n 284: 'PEIPER Allan',\n 285: 'WOLHUTER Allan',\n 286: 'BAYGUZIN Almaz',\n 287: 'PFLEGER Alois',\n 288: 'WOUTERS Alois',\n 289: 'VAN DESSEL Alphonse',\n 290: 'CUADROS Álvaro',\n 291: 'GOMES Alvaro',\n 292: 'GONZÁLEZ DE GALDEANO Álvaro',\n 293: 'HODEG Álvaro José',\n 294: 'LOZANO Alvaro',\n 295: 'MEJIA Alvaro',\n 296: 'PINO Álvaro',\n 297: 'SIERRA Alvaro',\n 298: 'SIRRO Alvaro',\n 299: 'MOINARD Amaël',\n 300: 'GHEBREIGZABHIER Amanuel',\n 301: 'ANTUNES Amaro',\n 302: 'ANTUNES Amaro',\n 303: 'CAPIOT Amaury',\n 304: 'DA SILVA Américo José Neves',\n 305: 'VIEIRA Americo',\n 306: 'TXURRUKA Amets',\n 307: 'NEVES Amilcar',\n 308: 'SGALBAZZI Amilcare',\n 309: 'JANSEN Amund Grøndahl',\n 310: 'MENDES Anastacio',\n 311: 'TCHUBAR Anatoly',\n 312: 'BARRENETXEA Ander',\n 313: 'OKAMIKA Ander',\n 314: 'ADAMSSON Anders',\n 315: 'EKLUNDH Anders',\n 316: nan,\n 317: 'LUND Anders',\n 318: 'SKAARSETH Anders',\n 319: 'ARANAGA Andoni',\n 320: 'LAFUENTE Andoni',\n 321: 'BOONEN André',\n 322: 'CARVALHO Andre',\n 323: 'CHAPPUIS André',\n 324: 'DE SOUZA ALMEIDA André',\n 325: 'DIERICKX André',\n 326: 'DOMINGUES André',\n 327: 'GOHR Andre  Eduardo',\n 328: 'GEVERS André',\n 329: 'GREIPEL André',\n 330: 'KORFF André',\n 331: 'LURQUIN André',\n 332: 'MASSARD André',\n 333: 'MEUWISSEN André',\n 334: 'MOLLET André',\n 335: 'SCHULZE André',\n 336: 'STEENSEN André',\n 337: 'WERNLI André',\n 338: 'BAGIOLI Andrea',\n 339: 'BALLAN Andrea',\n 340: 'BARTOLOZZI Andrea',\n 341: 'BELLATI Andrea',\n 342: 'BROGNARA Andrea',\n 343: 'CHIURATO Andrea',\n 344: 'DEL BIAGGIO Andrea',\n 345: 'DI RENZO Andrea',\n 346: 'DOLCI Andrea',\n 347: 'FERRIGATO Andrea',\n 348: 'GIUPPONI Andrea',\n 349: 'GRENDENE Andrea',\n 350: 'GUIDOTTI Andrea',\n 351: 'MASCIARELLI Andrea',\n 352: 'MELANI Andrea',\n 353: 'MICHELUCCI Andrea',\n 354: 'MOLETTA Andrea',\n 355: 'MONTAGNOLI Andrea',\n 356: 'NOÈ Andrea',\n 357: 'PAGOTO Andrea',\n 358: 'PALUAN Andrea',\n 359: 'PASQUALON Andrea',\n 360: 'PERON Andrea',\n 361: 'PERON Andrea',\n 362: 'PICCOLO Andrea',\n 363: 'PIECHELE Andrea',\n 364: 'ROSSI Andrea',\n 365: 'SOLAGNA Andrea',\n 366: 'TAFI Andrea',\n 367: 'TONTI Andrea',\n 368: 'VACCHER Andrea',\n 369: 'VENDRAME Andrea',\n 370: 'ZORDAN Andrea',\n 371: 'BACH Andreas',\n 372: 'BEIKIRCH Andreas',\n 373: 'BURGHOLD Andreas',\n 374: 'DIETZIKER Andreas',\n 375: 'KAPPES Andreas',\n 376: 'KLAUS Andreas',\n 377: 'KLIER Andreas',\n 378: 'KLÖDEN Andreas',\n 379: 'KRON Andreas',\n 380: 'LEKNESSUND Andreas',\n 381: 'MATZBACHER Andreas',\n 382: 'SAUERBORN Andreas',\n 383: 'SCHILLINGER Andreas',\n 384: 'STAUFF Andreas',\n 385: 'STOKBRO Andreas',\n 386: 'WALZER Andreas',\n 387: 'BAKALOV Andrei',\n 388: 'GRIVKO Andrey',\n 389: 'KARPATCHEV Andrei',\n 390: 'KIVILEV Andrei',\n 391: 'KOKORINE Andrei',\n 392: 'KRASILNIKAU Andrei',\n 393: 'KUNITSKI Andrei',\n 394: 'MOUKHINE Andrei',\n 395: 'SITNOV Andrei',\n 396: 'TCHERVIAKOV Andrei',\n 397: 'TCHMIL Andrei',\n 398: 'TETERIOUK Andrei',\n 399: 'TOPORIZCHEV Andrei',\n 400: 'VEDERNIKOV Andrei',\n 401: 'ZINTCHENKO Andrei',\n 402: 'GIMPELJ Andrej',\n 403: 'HAUPTMAN Andrej',\n 404: 'BERMEJO Andres',\n 405: nan,\n 406: 'VIGIL Andrés',\n 407: 'DAHLHEIM Andrew',\n 408: 'DICK Andrew',\n 409: 'FENN Andrew',\n 410: 'HAMPSTEN Andrew',\n 411: 'MCLEAN Andrew',\n 412: 'MILLER Andrew',\n 413: 'PAULIN Andrew',\n 414: 'ROBINSON Andrew',\n 415: 'ROCHE Andrew',\n 416: 'STEWART Andrew',\n 417: 'STIRLING Andrew',\n 418: 'SUTHERLAND Andrew',\n 419: 'VANCOILLIE Andrew',\n 420: 'AMADOR Andrey',\n 421: 'KASHECHKIN Andrey',\n 422: 'KOROLEV Andrey',\n 423: 'MIZUROV Andrey',\n 424: 'ZEITS Andrey',\n 425: 'PONOMAR Andrii',\n 426: 'NAUDUŽS Andris',\n 427: 'REISS Andris',\n 428: 'AUG Andrus',\n 429: 'DULAS Andrzej',\n 430: 'MIERZEJEWSKI Andrzej',\n 431: 'POLKOSNIK Andrzej',\n 432: 'SEREDIUK Andrzej',\n 433: 'SYPYTKOWSKI Andrzej',\n 434: 'BISHOP Andy',\n 435: 'CAPPELLE Andy',\n 436: 'DE DECKER Andy',\n 437: 'DE SMET Andy',\n 438: 'FLICKINGER Andy',\n 439: 'JOHNSON Andy',\n 440: 'MISSOTEN Andy',\n 441: 'SCHLECK Andy',\n 442: 'VANHOUDT Andy',\n 443: 'VIDTS Andy',\n 444: 'FLAKSIS Andžs',\n 445: 'ALAYON Angel',\n 446: 'CASTRESANA Ángel',\n 447: 'EDO Ángel',\n 448: 'GÓMEZ Ángel',\n 449: 'RODRÍGUEZ Ángel José',\n 450: 'CASERO Ángel Luis',\n 451: 'MADRAZO Ángel',\n 452: 'OCAÑA Ángel',\n 453: 'SÁNCHEZ Ángel',\n 454: 'VALLEJO Ángel',\n 455: 'VICIOSO Ángel',\n 456: 'CAMARGO Angel Yesid',\n 457: 'CANZONIERI Angelo',\n 458: 'CITRACCA Angelo',\n 459: 'FURLAN Angelo',\n 460: 'LECCHI Angelo',\n 461: 'LOPEBOSELLI Angelo',\n 462: 'TOSI Angelo',\n 463: 'VAN MELIS Angelo',\n 464: 'COSTA Anselmo',\n 465: 'PETACCO Anteo',\n 466: 'CHARMIG Anthon',\n 467: 'CHARTEAU Anthony',\n 468: 'DELAPLACE Anthony',\n 469: 'GESLIN Anthony',\n 470: 'JULLIEN Anthony',\n 471: 'LANGELLA Anthony',\n 472: 'MORIN Anthony',\n 473: 'MORTIMORE Anthony',\n 474: 'PEREZ Anthony',\n 475: 'RAVARD Anthony',\n 476: 'ROKIA Anthony',\n 477: 'ROUX Anthony',\n 478: 'TURGIS Anthony',\n 479: 'DUCHESNE Antoine',\n 480: 'PERCHE Antoine',\n 481: 'RAUGEL Antoine',\n 482: 'VANNESTE Antoine',\n 483: 'BALLAT Anton',\n 484: 'CHANTYR Anton',\n 485: 'LUENGO Antton',\n 486: 'MINDLIN Anton',\n 487: 'OBERHOLZER Anton',\n 488: 'PALZER Anton',\n 489: 'LINDA Antonin',\n 490: 'AGUADO Antonio',\n 491: 'FERNANDES António Alberto Domingues',\n 492: 'ALFONSINI Antonio',\n 493: 'ALVES Antonio',\n 494: 'ANGULO Antonio',\n 495: 'APOLO António',\n 496: 'ARAUJO Antonio',\n 497: 'BALBOA Antonio',\n 498: 'BARROS Antonio',\n 499: 'BERARDI Antonio',\n 500: 'BERASATEGUI Antonio',\n 501: 'BUCCIERO Antonio',\n 502: 'CABELLO Antonio',\n 503: 'CABELLO Antonio',\n 504: 'CARVALHO Antonio',\n 505: 'CIVANTOS Antonio',\n 506: 'COELHO Antonio',\n 507: 'COLL Antonio',\n 508: 'COLOM Antonio',\n 509: 'CORREIA Antonio',\n 510: 'CRUZ Antonio',\n 511: \"D'ALONZO Antonio\",\n 512: \"D'ANIELLO Antonio\",\n 513: 'DA COSTA ARAUJO Antonio',\n 514: 'DIAS António',\n 515: 'ESPARZA Antonio',\n 516: 'ESPEJO Antonio',\n 517: 'FAISCO Antonio',\n 518: 'FERRETTI Antonio',\n 519: 'GONÇALVES Antonio',\n 520: 'GONZÁLEZ Antonio',\n 521: 'DE JESUS António Manuel Campos',\n 522: 'PECHARROMÁN José Antonio',\n 523: 'LONDOÑO Antonio',\n 524: 'MARTÍN Antonio',\n 525: 'MARTÍNEZ Antonio',\n 526: 'DIAZ Antonio Miguel',\n 527: 'MONTEIRO SILVA Antonio',\n 528: 'NIBALI Antonio',\n 529: 'OLMO Antonio',\n 530: 'PALMERO Antonio',\n 531: 'PEDRERO Antonio',\n 532: 'PIEDRA Antonio',\n 533: 'DE CASTRO OLIVEIRA PINTO António Joaquim',\n 534: 'PROVENCIO Antonio',\n 535: 'QUADRANTI Antonio',\n 536: 'RIZZI Antonio',\n 537: 'RODRIGUES Antonio José Martins',\n 538: 'RUMBO Antonio',\n 539: 'SALOMONE Antonio',\n 540: 'SÁNCHEZ Antonio',\n 541: 'SANTOS Antonio',\n 542: 'DE LA TORRE Antonio Segismundo',\n 543: 'SOBRINO Antonio',\n 544: 'SOTO Antonio Jesús',\n 545: 'SOUSA Antonio',\n 546: 'TIBERI Antonio',\n 547: 'VARGAS Antonio',\n 548: 'VARRIALE Antonio',\n 549: 'DUARTE Antonio Viriato da Silva',\n 550: 'DOYLE Tony',\n 551: 'TOLHOEK Antwan',\n 552: 'BOHORQUEZ Argemiro',\n 553: 'ZAPATA Argiro',\n 554: 'RICHEZE Maximiliano',\n 555: 'RATTI Aristide',\n 556: 'ARRUTI Aritz',\n 557: 'BAGÜES Aritz',\n 558: 'JAGT Arjan',\n 559: 'LIVYNS Arjen',\n 560: 'WOJTAS Arkadiusz',\n 561: 'DURÁN Arkaitz',\n 562: 'COELHO Arlindo',\n 563: 'DE SOUSA Arlindo',\n 564: 'DE LAS CUEVAS Armand',\n 565: 'ARISTIZABAL Armando',\n 566: 'MORENO Armando Isaac',\n 567: 'RUPA Armando',\n 568: 'MEIER Armin',\n 569: 'COYOT Arnaud',\n 570: 'DE LIE Arnaud',\n 571: 'DÉMARE Arnaud',\n 572: 'GÉRARD Arnaud',\n 573: 'LABBÉ Arnaud',\n 574: 'PRETOT Arnaud',\n 575: 'DAELMANS Arne',\n 576: 'HASSINK Arne',\n 577: 'MARIT Arne',\n 578: 'KÜTTEL Arno',\n 579: 'VAN HOOFT Arnold',\n 580: 'SAPRYKINAS Arnoldas',\n 581: 'VAN GROEN Arnoud',\n 582: 'HUYSMANS Aron',\n 583: 'GONZALEZ Arsenio',\n 584: 'MKRTCHYAN Artak',\n 585: 'NYCH Artem',\n 586: 'FARENHOUT Arthur',\n 587: 'BOTSCHKAREW Artjom',\n 588: 'BABAITSEV Artour',\n 589: 'GAJEK Artur',\n 590: 'KRASINSKI Artur',\n 591: 'KRZESZOWIEC Artur',\n 592: 'KASPUTIS Artūras',\n 593: 'GRÁVALOS Arturo',\n 594: 'ZAKHAROV Artyom',\n 595: 'ČEPELĖ Arūnas',\n 596: 'DE KLEIJN Arvid',\n 597: 'PIZIKS Arvis',\n 598: 'BLANCO Arximiro',\n 599: 'HELLEMOSE Asbjørn',\n 600: 'KRAGH ANDERSEN Asbjørn',\n 601: 'NAVARRO Asensio',\n 602: 'ESTEVEZ Aser',\n 603: 'HUMBERT Ashley',\n 604: 'SAITOV Asiat',\n 605: 'ETXEBERRIA Asier',\n 606: 'BAZAYEV Assan',\n 607: 'PETROV Atanas',\n 608: 'KVÅLSVOLL Atle',\n 609: 'PEDERSEN Atle',\n 610: 'OKA Atsushi',\n 611: 'VALTER Attila',\n 612: 'ROTA Attilio',\n 613: 'JENSEN August',\n 614: 'TRIANA Augusto',\n 615: 'CLERC Aurélien',\n 616: 'DUVAL Aurelien',\n 617: 'PARET-PEINTRE Aurélien',\n 618: 'PASSERON Aurélien',\n 619: 'ROBLES Aurelio',\n 620: 'LAURANCE Axel',\n 621: 'MERCKX Axel',\n 622: 'ZINGLE Axel',\n 623: 'COOKE Baden',\n 624: 'ROHTMER Balázs',\n 625: 'PLANCKAERT Baptiste',\n 626: 'PEÁK Barnabás',\n 627: 'CLARKE Barrie',\n 628: 'BURNS Barry',\n 629: 'HOBAN Barry',\n 630: 'MARKUS Barry',\n 631: 'BOOM Bart',\n 632: 'BOWEN Bart',\n 633: 'DE SPIEGELAERE Bart',\n 634: 'DOCKX Bart',\n 635: 'HEIREWEGH Bart',\n 636: 'LEYSEN Bart',\n 637: 'VANHEULE Bart',\n 638: 'VOSKAMP Bart',\n 639: 'KSOBIAK Bartlomiej',\n 640: 'HUZARSKI Bartosz',\n 641: 'GILING Bas',\n 642: 'BUFFEL Bastian',\n 643: 'FROIDEVAUX Bastien',\n 644: 'MOLLEMA Bauke',\n 645: 'BREU Beat',\n 646: 'WABEL Beat',\n 647: 'ZBERG Beat',\n 648: 'CHRISTENSEN Bekim leif',\n 649: 'RIBEIRO Belmiro',\n 650: 'SILVA Belmiro',\n 651: 'BERDEN Ben',\n 652: 'HEALY Ben',\n 653: 'HERMANS Ben',\n 654: 'LUCKWELL Ben',\n 655: \"O'CONNOR Ben\",\n 656: 'SWIFT Ben',\n 657: 'TULETT Ben',\n 658: 'TURNER Ben',\n 659: 'ZWIEHOFF Ben',\n 660: 'ALBIZURI Beñat',\n 661: 'INTXAUSTI Beñat',\n 662: 'PATELLARO Benedetto',\n 663: 'FERREIRA Benedito',\n 664: 'BROOKS Benjamin',\n 665: 'CARVALHO Benjamin',\n 666: 'DAY Benjamin',\n 667: 'DECLERCQ Benjamin',\n 668: 'NOVAL Benjamín',\n 669: 'GOURGUE Benjamin',\n 670: 'JOHNSON Benjamin',\n 671: 'KING Ben',\n 672: 'LEVECOT Benjamin',\n 673: 'THOMAS Benjamin',\n 674: 'VAN DER AUWERA Benjamin',\n 675: 'VAN ITTERBEECK Benjamin',\n 676: 'BROUWER Bennie',\n 677: 'DE SCHROODER Benny',\n 678: 'HEYLEN Benny',\n 679: 'SCHEPMANS Benny',\n 680: 'VAN BRABANT Benny',\n 681: 'VAN DER AUWERA Benny',\n 682: 'VERMEULEN Benny',\n 683: 'COSNEFROY Benoît',\n 684: 'FARAMA Benoit',\n 685: 'JOACHIM Benoît',\n 686: 'POILVET Benoît',\n 687: 'SALMON Benoît',\n 688: 'SINNER Benoît',\n 689: 'VAUGRENARD Benoît',\n 690: 'KUPESHOV Berik',\n 691: 'BOULEZ Bernard',\n 692: 'CHESNEAU Bernard',\n 693: 'DEBUISSON Bernard',\n 694: 'GAVILLET Bernard',\n 695: 'SULZBERGER Bernard',\n 696: 'THÉVENET Bernard',\n 697: 'VAN ULDEN Bernard',\n 698: 'MAZON Bernardo',\n 699: 'RICCIO Bernardo',\n 700: 'ROCHA DE SOUSA Bernardo',\n 701: 'SUAZA Bernardo',\n 702: 'EISEL Bernhard',\n 703: 'KOHL Bernhard',\n 704: 'RASSINGER Bernhard',\n 705: 'BURNS Bernie',\n 706: 'HOEDEMAKERS Berry',\n 707: 'DE BACKER Bert',\n 708: 'DE WAELE Bert',\n 709: 'GRABSCH Bert',\n 710: 'HIEMSTRA Bert',\n 711: 'LINDEMAN Bert-Jan',\n 712: 'OOSTERBOSCH Bert',\n 713: 'PRONK Bert',\n 714: 'ROESEMS Bert',\n 715: 'SCHEIRLINCKX Bert',\n 716: 'VAN ENDE Bert',\n 717: 'VAN LERBERGHE Bert',\n 718: 'WEKEMA Bert',\n 719: 'CONTE Biagio',\n 720: 'LIU Biao',\n 721: 'GORDIN Bill',\n 722: 'NICKSON Bill',\n 723: 'OYSTER Bill',\n 724: 'JOE SHEARSBY Billy',\n 725: 'FERNÁNDEZ Bingen',\n 726: 'GHIRMAY HAILU Biniam',\n 727: 'NIELSEN Bjarke',\n 728: 'RIIS Bjarne',\n 729: 'BÄCKMANN Björn',\n 730: 'COOMANS Bjorn',\n 731: 'CORNELISSEN Bjorn',\n 732: 'GLASNER Björn',\n 733: 'LEUKEMANS Björn',\n 734: 'PAPSTEIN Björn',\n 735: 'RONDELEZ Björn',\n 736: 'SCHRÖDER Björn',\n 737: 'SELANDER Bjorn',\n 738: 'THURAU Björn',\n 739: 'VESTØL Bjørnar',\n 740: 'STOCKWELL Blair',\n 741: 'SONNERY Blaise',\n 742: 'CALDWELL Blake',\n 743: 'WIKNER Blayne',\n 744: 'JANIACZYK Błażej',\n 745: 'KADRI Blel',\n 746: 'NAMTVEDT Bo André',\n 747: 'HAMBURGER Bo',\n 748: 'DOWNS Bob',\n 749: 'HACKWORTH Bob',\n 750: 'JUNGELS Bob',\n 751: 'MIONSKE Bob',\n 752: 'RASENBERG Bob',\n 753: 'ROLL Bob',\n 754: 'SHANNON Bob',\n 755: 'TRAKSEL Bobbie',\n 756: 'JULICH Bobby',\n 757: 'STUCKEY Bobby',\n 758: 'BONDARIEW Bogdan',\n 759: 'GODO Boris',\n 760: 'NICHIPOURENKO Boris',\n 761: 'PREMUŽIČ Boris',\n 762: 'SHPILEVSKY Boris',\n 763: 'BOŽIČ Borut',\n 764: 'ROUSCEK Borut',\n 765: 'MERVAR Boštjan',\n 766: 'VAN POPPEL Boy',\n 767: 'DAVIDSON Brad',\n 768: 'EVANS Brad',\n 769: 'MCGEE Bradley',\n 770: 'WIGGINS Bradley',\n 771: 'DE GROOT Bram',\n 772: 'SCHMITZ Bram',\n 773: 'TANKINK Bram',\n 774: 'WELTEN Bram',\n 775: 'ROJAS Brandon Alejandro',\n 776: 'MCNULTY Brandon',\n 777: 'RIVERA Brandon Smith',\n 778: 'SAMOILAU Branislau',\n 779: 'SÁNCHEZ Brayan',\n 780: 'RAMIREZ Brayan Steven',\n 781: 'CANTY Brendan',\n 782: 'HART Brendan',\n 783: 'RHIM Brendan',\n 784: 'MORAIS SANTOS Breno',\n 785: 'BOOKWALTER Brent',\n 786: 'VAN MOER Brent',\n 787: 'JONES Brenton',\n 788: 'LANCASTER Brett',\n 789: 'CHURCHILL Brian',\n 790: 'DALGAARD Brian',\n 791: 'FAGAN Brian',\n 792: 'GILLIN Brian',\n 793: 'HANSON Brian',\n 794: 'HOLM SØRENSEN Brian',\n 795: 'KENNEALLY Brian',\n 796: 'MCDONOUGH Brian',\n 797: 'SEGUIN Brian',\n 798: 'SHEEDY Brian',\n 799: 'SMITH Brian',\n 800: 'STEEL Brian',\n 801: 'VANDBORG Brian Bach',\n 802: 'WALTON Brian',\n 803: 'FEILLU Brice',\n 804: 'DONAGHY Bruce',\n 805: 'HOSKINS Bruce',\n 806: 'WHITESEL Bruce',\n 807: 'ANDRE FERREIRA Bruno',\n 808: 'ARMIRAIL Bruno',\n 809: \"D'ARSIE Bruno\",\n 810: 'BRUYERE Bruno',\n 811: 'BULIĆ Bruno',\n 812: 'CENGHIALTA Bruno',\n 813: 'CORNILLET Bruno',\n 814: 'GEUENS Bruno',\n 815: 'HOLENWEGER Bruno',\n 816: 'HUERLIMANN Bruno',\n 817: 'JAREMKO Bruno',\n 818: 'LEALI Bruno',\n 819: 'PIRES Bruno',\n 820: 'SANCHO Bruno',\n 821: 'CASTANHEIRA Bruno Miguel',\n 822: 'RIZZI Bruno',\n 823: 'ROTH Bruno',\n 824: 'THIBOUT Bruno',\n 825: 'VICINO Bruno',\n 826: 'WOJTINEK Bruno',\n 827: 'WOLFER Bruno',\n 828: 'ZOLLFRANK Bruno',\n 829: 'COQUARD Bryan',\n 830: 'GÓMEZ Bryan',\n 831: 'MILLER Bryan',\n 832: 'SWINDLEHURST Burke',\n 833: 'EVANS Cadel',\n 834: 'ORMENESE Caio Godoy',\n 835: nan,\n 836: 'FAIRLY Caleb',\n 837: 'RAMOS Calisto',\n 838: nan,\n 839: 'JOHNSTON Calum',\n 840: 'WATSON Calvin',\n 841: 'JENNINGS Cameron',\n 842: 'MEYER Cameron',\n 843: 'WURF Cameron',\n 844: 'BOUQUET Camille',\n 845: 'PASSERA Camillo',\n 846: 'CASTIBLANCO Jorge Camilo',\n 847: 'SANTOS Camilo',\n 848: nan,\n 849: 'BARBOSA Cândido',\n 850: 'HALL Carey',\n 851: 'LEMMER Carinus',\n 852: 'HAGEN Carl Fredrik',\n 853: 'NAIBO Carl',\n 854: 'BIANCHI Carlo',\n 855: 'BOMANS Carlo',\n 856: 'CORRA Carlo',\n 857: 'FINCO Carlo',\n 858: 'SCOGNAMIGLIO Carlo',\n 859: 'TONON Carlo',\n 860: 'WESTPHAL Carlo',\n 861: 'CARNEIRO Carlos Alberto Silva',\n 862: 'CONTRERAS Carlos Alberto',\n 863: 'MAYA Carlos Alberto',\n 864: 'BALTAZAR Carlos',\n 865: 'BARBERO Carlos',\n 866: 'BARREDO Carlos',\n 867: 'BERMUDEZ Carlos',\n 868: 'BETANCUR Carlos',\n 869: 'CABRERA Carlos',\n 870: 'CANAL Carlos',\n 871: 'CASTAÑO Carlos',\n 872: 'COELHO Carlos',\n 873: 'CUYLE Carlos',\n 874: 'DA CRUZ Carlos',\n 875: 'ALZATE Carlos',\n 876: 'PIERNA Carlos Eloy',\n 877: 'GUTIERREZ Carlos Emirio',\n 878: 'FERREIRA Carlos',\n 879: 'GAGO Carlos',\n 880: 'GALARRETA Carlos',\n 881: 'GARCÍA PIERNA Carlos',\n 882: 'GARCÍA QUESADA Carlos',\n 883: 'GOMES MARTINS Carlos',\n 884: 'OCHOA Carlos José',\n 885: 'MALFAIT Carlos',\n 886: 'JARAMILLO Carlos Mario',\n 887: 'RAMIREZ Carlos Mario',\n 888: 'SILVA MARTA Carlos Alberto',\n 889: 'MOREIRA Carlos',\n 890: 'MOREIRA Carlos',\n 891: 'NEVES Carlos',\n 892: 'NOZAL Carlos',\n 893: 'NUNES Carlos',\n 894: 'OCANA Carlos',\n 895: 'OSORIO Carlos Andres',\n 896: 'DE JESUS PEREIRA Carlos Manuel',\n 897: 'PINHO Carlos Manuel',\n 898: 'QUINTERO Carlos',\n 899: 'GOLBANO Carlos Ramón',\n 900: 'RODRIGUEZ Carlos',\n 901: 'DOS SANTOS Carlos Manuel Francisco',\n 902: 'SASTRE Carlos',\n 903: 'TEIXEIRA Carlos',\n 904: 'TORRENT Carlos',\n 905: 'VERONA Carlos',\n 906: 'ZÁRATE Carlos',\n 907: 'BARONE Carmelo',\n 908: 'PODLESCH Carsten',\n 909: 'MUNRO Casey',\n 910: 'MOREDA Casimiro',\n 911: 'PEDERSEN Casper',\n 912: 'VAN DER MEER Casper',\n 913: 'FREITAS Cássio',\n 914: 'SARMIENTO Cayetano José',\n 915: 'THEAKSTON Cayn',\n 916: 'GUTIÉRREZ Cecilio',\n 917: 'BEULLENS Cedric',\n 918: 'COUTOULY Cédric',\n 919: 'FRAGNIERE Cédric',\n 920: 'HERVÉ Cédric',\n 921: 'LOUE Cedric',\n 922: 'PINEAU Cédric',\n 923: 'ROSSIER Cédric',\n 924: 'VAN LOMMEL Cedric',\n 925: 'VASSEUR Cédric',\n 926: 'BOL Cees',\n 927: 'DE BROUWER Cees',\n 928: 'PRIEM Cees',\n 929: 'PRIETO Celestino',\n 930: 'APOLINÁRIO Celio',\n 931: 'SOUSA ALVES Célio Cristiano',\n 932: 'RONCANCIO Celio Roberto',\n 933: 'DESAL Ceriel',\n 934: 'QUITÉRIO César Antunes',\n 935: 'AUGUSTO RAMIREZ Cesar',\n 936: 'FERNANDES Cesar',\n 937: 'FONTE César',\n 938: 'GARCÍA CALVO César',\n 939: 'GOYENECHE César',\n 940: 'GRAJALES Cesar Augusto',\n 941: 'PINTO César Miguel',\n 942: 'SOLAUN César',\n 943: 'BENEDETTI Cesare',\n 944: 'CIPOLLINI Cesare',\n 945: 'DI CINTIO Cesare',\n 946: 'ZAMANA Cezary',\n 947: 'BEYER Chad',\n 948: 'CAMPBELL Chad',\n 949: 'GERLACH Chad',\n 950: 'HAGA Chad',\n 951: 'JANG Chan Jae',\n 952: 'CARMILA Charles',\n 953: 'GUILBERT Charles',\n 954: 'JOCHUMS Charles',\n 955: 'PLANET Charles',\n 956: 'WEGELIUS Charles',\n 957: 'BÉRARD Charly',\n 958: 'MOTTET Charly',\n 959: 'JI Cheng',\n 960: 'SØRENSEN Chris Anker',\n 961: 'BARNSLEY Chris',\n 962: 'BUTLER Chris',\n 963: 'CARMICHAEL Chris',\n 964: 'DECKERS Chris',\n 965: 'FISHER Chris',\n 966: 'HAMILTON Chris',\n 967: 'HARPER Chris',\n 968: 'HORNER Chris',\n 969: 'HUBER Chris',\n 970: 'HUNT Chris',\n 971: 'JACKSON Chris',\n 972: 'LILLYWHITE Chris',\n 973: 'OPIE Chris',\n 974: 'PEERS Chris',\n 975: 'POLLIN Chris',\n 976: 'POOLS Chris',\n 977: 'SHEEHAN Chris',\n 978: 'SUTTON Chris',\n 979: 'TONGE Chris',\n 980: 'VANDYCK Chris',\n 981: 'WALKER Chris',\n 982: 'WASHKEVICH Chris',\n 983: 'WHERRY Chris',\n 984: 'WREGHITT Chris',\n 985: 'YENKEY Chris',\n 986: 'YOUNG Chris',\n 987: 'AURIEMMA Christian',\n 988: 'CHARRIERE Christian',\n 989: 'CHAUBET Christian',\n 990: 'CLIMENT Christian',\n 991: 'CORRE Christian',\n 992: 'DUMONT Christian',\n 993: 'HAUTEKEETE Christian',\n 994: 'HEULE Christian',\n 995: 'HIRSCH Christian',\n 996: 'JÄGER Christian',\n 997: 'KNEES Christian',\n 998: 'KUX Christian',\n 999: 'LADEMAN Christian',\n 1000: 'LEBEN Christian',\n ...}"
     },
     "execution_count": 166,
     "metadata": {},
     "output_type": "execute_result"
    }
   ],
   "source": [
    "c_id_to_pcs_names = {k: v for k, v in zip(cyclists_df['cyclist_id'], cyclists_df['cyclist_name_pcs'])}\n",
    "c_id_to_pcs_names"
   ],
   "metadata": {
    "collapsed": false,
    "pycharm": {
     "name": "#%%\n"
    }
   }
  },
  {
   "cell_type": "code",
   "execution_count": 167,
   "outputs": [
    {
     "data": {
      "text/plain": "{1: 'AG2R Citroën Team',\n 2: 'AG2R La Mondiale',\n 3: 'AG2R Prévoyance',\n 4: 'AG2R Prevoyance',\n 5: 'Casino - AG2R',\n 6: \"Casino - C'est votre équipe\",\n 7: \"Petit Casino - C'est votre équipe\",\n 8: 'Chazal - MBK - König',\n 9: 'Chazal - Vetta - MBK',\n 10: 'Chazal - Vanille et Mûre - Vetta',\n 11: 'Astana Qazaqstan Team',\n 12: 'Astana - Premier Tech',\n 13: 'Astana Pro Team',\n 14: 'Pro Team Astana',\n 15: 'Astana',\n 16: 'Würth Team',\n 17: 'Astana - Würth Team',\n 18: 'Astana',\n 19: 'Liberty Seguros - Würth',\n 20: 'Bahrain - Victorious',\n 21: 'Bahrain - McLaren',\n 22: 'Bahrain Merida',\n 23: 'Bahrain Merida Pro Cycling Team',\n 24: 'BORA - hansgrohe',\n 25: 'Bora - Argon 18',\n 26: 'Team NetApp – Endura',\n 27: 'Team Netapp',\n 28: 'Team NetApp',\n 29: 'Cofidis',\n 30: 'Cofidis, Solutions Crédits',\n 31: 'Cofidis, le Crédit en Ligne',\n 32: 'Cofidis, le Crédit par Téléphone',\n 33: 'Cofidis',\n 34: 'EF Education - Nippo',\n 35: 'EF Pro Cycling',\n 36: 'EF Education First',\n 37: 'Team EF Education First-Drapac p/b Cannondale',\n 38: 'Cannondale-Drapac Pro Cycling Team',\n 39: 'Cannondale Pro Cycling Team',\n 40: 'Team Cannondale - Garmin',\n 41: 'Garmin Sharp',\n 42: 'Team Garmin - Barracuda',\n 43: 'Team Garmin - Cervélo',\n 44: 'Team Garmin - Transitions',\n 45: 'Team Garmin - Slipstream',\n 46: 'Slipstream - Chipotle presented by H3O',\n 47: 'Team Garmin - Chipotle',\n 48: 'Team Slipstream',\n 49: 'Team TIAA - CREF',\n 50: 'Groupama - FDJ',\n 51: 'FDJ',\n 52: 'FDJ.fr',\n 53: 'FDJ',\n 54: 'FDJ - BigMat',\n 55: 'FDJ',\n 56: 'Francaise des Jeux',\n 57: 'Française des Jeux',\n 58: 'Fdjeux.com',\n 59: 'La Française des Jeux',\n 60: 'INEOS Grenadiers',\n 61: 'Team INEOS',\n 62: 'Team Sky',\n 63: 'Sky Procycling',\n 64: 'Intermarché - Wanty - Gobert Matériaux',\n 65: 'Circus - Wanty Gobert',\n 66: 'Wanty - Gobert Cycling Team',\n 67: 'Wanty - Groupe Gobert',\n 68: 'Accent.jobs – Wanty',\n 69: 'Accent.jobs – Willems Veranda’s',\n 70: \"Veranda's Willems - Accent\",\n 71: 'Verandas Willems',\n 72: 'Willems Verandas',\n 73: 'Israel Start-Up Nation',\n 74: 'Israel Cycling Academy',\n 75: 'Cycling Academy Team',\n 76: 'Lotto Soudal',\n 77: 'Lotto Fix All',\n 78: 'Lotto Soudal',\n 79: 'Lotto Belisol',\n 80: 'Lotto Belisol Team',\n 81: 'Omega Pharma-Lotto',\n 82: 'Silence - Lotto',\n 83: 'Predictor - Lotto',\n 84: 'Davitamon - Lotto',\n 85: 'Lotto - Domo',\n 86: 'Lotto - Adecco',\n 87: 'Lotto - Mobistar',\n 88: 'Lotto - Isoglass',\n 89: 'Lotto - Vetta - Caloi',\n 90: 'Lotto - Caloi',\n 91: 'Lotto - Mavic',\n 92: 'Lotto - Super Club',\n 93: 'Lotto',\n 94: 'Lotto - Eddy Merckx',\n 95: 'Lotto - Merckx',\n 96: 'Lotto - Emerxil - Merckx',\n 97: 'Lotto',\n 98: 'Movistar Team',\n 99: \"Caisse d'Epargne\",\n 100: \"Caisse d'Epargne - Illes Balears\",\n 101: \"Illes Balears - Caisse d'Epargne\",\n 102: 'Illes Balears - Banesto',\n 103: 'iBanesto.com',\n 104: 'Banesto',\n 105: 'Reynolds - Banesto',\n 106: 'Reynolds',\n 107: 'Reynolds - Seur',\n 108: 'Reynolds',\n 109: 'Reynolds - Galli',\n 110: 'Reynolds - Benotto',\n 111: 'Quick-Step Alpha Vinyl Team',\n 112: 'Deceuninck - Quick Step',\n 113: 'Quick-Step Floors',\n 114: 'Etixx - Quick Step',\n 115: 'Omega Pharma - Quick-Step',\n 116: 'Quickstep Cycling Team',\n 117: 'Quickstep - Innergetic',\n 118: 'Quickstep - Davitamon',\n 119: 'Team BikeExchange Jayco',\n 120: 'Team BikeExchange',\n 121: 'Mitchelton-Scott',\n 122: 'ORICA-Scott',\n 123: 'ORICA-BikeExchange',\n 124: 'Orica GreenEDGE',\n 125: 'Team DSM',\n 126: 'Team Sunweb',\n 127: 'Team Giant - Alpecin',\n 128: 'Team Giant - Shimano',\n 129: 'Team Argos - Shimano',\n 130: 'Argos - Shimano',\n 131: 'Skil - Shimano',\n 132: 'Shimano - Memory Corp',\n 133: 'Team Jumbo-Visma',\n 134: 'Team LottoNL-Jumbo',\n 135: 'Belkin-Pro Cycling Team',\n 136: 'Blanco Pro Cycling Team',\n 137: 'Rabobank Cycling Team',\n 138: 'Rabobank ProTeam',\n 139: 'Novell Software - Decca',\n 140: 'Wordperfect - Colnago - Decca',\n 141: 'Buckler - Colnago - Decca',\n 142: 'Trek - Segafredo',\n 143: 'Trek Factory Racing',\n 144: 'RadioShack - Leopard',\n 145: 'RadioShack - Nissan',\n 146: 'Leopard Trek',\n 147: 'UAE-Team Emirates',\n 148: 'UAE Team Emirates',\n 149: 'Lampre - Merida',\n 150: 'Lampre - ISD',\n 151: 'Lampre - Farnese Vini',\n 152: 'Lampre - NGC',\n 153: 'Lampre',\n 154: 'Lampre-Fondital',\n 155: 'Lampre-Caffita',\n 156: 'Lampre',\n 157: 'Lampre - Daikin',\n 158: 'Lampre - Daikin - Colnago',\n 159: 'Alpecin-Fenix',\n 160: 'Corendon - Circus',\n 161: 'Beobank - Corendon',\n 162: 'BKCP - Powerplus',\n 163: 'B&B Hotels - KTM',\n 164: 'B&B Hotels p/b KTM',\n 165: 'B&B Hotels - Vital Concept p/b KTM',\n 166: 'Vital Concept - B&B Hotels',\n 167: 'Vital Concept Cycling Club',\n 168: 'Bardiani-CSF-Faizanè',\n 169: 'Bardiani - CSF',\n 170: 'Bardiani - CSF Pro Team',\n 171: 'Bardiani Valvole - CSF Inox',\n 172: 'Colnago CSF Bardiani',\n 173: 'Colnago - CSF Inox',\n 174: 'CSF Group - Navigare',\n 175: 'Ceramica Panaria - Navigare',\n 176: 'Ceramica Panaria - Margres',\n 177: 'Panaria - Fiordo',\n 178: 'Navigare - Gaerne',\n 179: 'Scrigno - Gaerne',\n 180: 'Navigare - Blue Storm',\n 181: 'Navigare',\n 182: 'Navigare - Blue Storm',\n 183: 'Italbonifica',\n 184: 'Italbonifica - Navigare',\n 185: 'Italbonifica',\n 186: 'Selca',\n 187: 'Santini-Cierre-Conti-Galli',\n 188: 'Santini - Krups - Conti - Galli',\n 189: 'Santini',\n 190: 'Termolan',\n 191: 'Bingoal Pauwels Sauces WB',\n 192: 'Bingoal - Wallonie Bruxelles',\n 193: 'Wallonie-Bruxelles',\n 194: 'WB Aqua Protect Veranclassic',\n 195: 'WB Veranclassic Aqua Protect',\n 196: 'Wallonie - Bruxelles',\n 197: 'Burgos-BH',\n 198: 'Burgos BH - Castilla y León',\n 199: 'Burgos 2016 - Castilla y León',\n 200: 'Burgos Monumental - Castilla y León',\n 201: 'Burgos Monumental',\n 202: 'Viña Magna - Cropu',\n 203: 'Caja Rural - Seguros RGA',\n 204: 'Caja Rural',\n 205: 'Drone Hopper -  Androni Giocattoli',\n 206: 'Androni Giocattoli - Sidermec',\n 207: 'Androni - Sidermec - Bottecchia',\n 208: 'Androni Giocattoli - Sidermec',\n 209: 'Androni Giocattoli - Venezuela',\n 210: 'Androni Giocattoli - Serramenti PVC Diquigiovanni',\n 211: 'Serramenti PVC Diquigiovanni-Androni Giocattoli',\n 212: 'Selle Italia - Serramenti Diquigiovanni',\n 213: 'Colombia - Selle Italia',\n 214: 'Selle Italia - Pacific',\n 215: 'Néctar - Selle Italia',\n 216: 'Selle Italia - W52',\n 217: 'Kross - Selle Italia',\n 218: 'Roslotto-ZG Mobili',\n 219: 'ZG Mobili - Selle Italia',\n 220: 'ZG Mobili',\n 221: 'ZG Mobili - Selle Italia',\n 222: 'Selle Italia - Magniarredo',\n 223: 'Selle Italia - Eurocar - Mosoca',\n 224: 'Santini - Selle Italia',\n 225: 'EOLO-Kometa',\n 226: 'Kometa Xstra Cycling Team',\n 227: 'Kometa Cycling Team',\n 228: 'Polartec-Kometa',\n 229: 'Equipo Kern Pharma',\n 230: 'Euskaltel - Euskadi',\n 231: 'Fundación - Orbea',\n 232: 'Euskaltel - Euskadi',\n 233: 'Fundación Euskadi',\n 234: 'Gazprom - RusVelo',\n 235: 'Gazprom-RusVelo',\n 236: 'RusVelo',\n 237: 'Human Powered Health',\n 238: 'Rally Cycling',\n 239: 'Rally UHC Cycling',\n 240: 'Rally Cycling',\n 241: 'Optum p/b Kelly Benefit Strategies',\n 242: 'Kelly Benefit Strategies - OptumHealth',\n 243: 'Kelly Benefit Strategies',\n 244: 'Kelly Benefit Strategies / Medifast',\n 245: 'Sport Vlaanderen - Baloise',\n 246: 'Topsport Vlaanderen - Baloise',\n 247: 'Topsport Vlaanderen - Mercator',\n 248: 'Chocolade Jacques / Topsport Vlaanderen',\n 249: 'Chocolade Jacques - T Interim',\n 250: 'Chocolade Jacques - Wincor Nixdorf',\n 251: 'Marlux-Wincor Nixdorf',\n 252: 'Team Arkéa Samsic',\n 253: 'Team Fortuneo - Samsic',\n 254: 'Fortuneo - Oscaro',\n 255: 'Fortuneo - Vital Concept',\n 256: 'Bretagne - Séché Environnement',\n 257: 'Bretagne Schuller',\n 258: 'Bretagne Armor Lux',\n 259: \"Bretagne - Jean Floc'h\",\n 260: 'Team Novo Nordisk',\n 261: 'Team Type 1 - SANOFI',\n 262: 'Team Type 1 - Sanofi Aventis',\n 263: 'Team Type 1 - SANOFI',\n 264: 'Team Type 1',\n 265: 'Team TotalEnergies',\n 266: 'Team Total Direct Energie',\n 267: 'Team TotalEnergies',\n 268: 'Team Total Direct Energie',\n 269: 'Direct Energie',\n 270: 'Team Europcar',\n 271: 'Bbox Bouygues Telecom',\n 272: 'Bouygues Telecom',\n 273: 'Brioches La Boulangère',\n 274: 'Bonjour',\n 275: 'Bonjour - Toupargel',\n 276: 'Uno-X Pro Cycling Team',\n 277: 'Uno-X Norwegian Development Team',\n 278: 'Uno-X Hydrogen Development Team',\n 279: 'Team Ringeriks - Kraft',\n 280: 'Team Ringeriks - Kraft Look',\n 281: 'Team Ringeriks - Kraft',\n 282: 'Team Qhubeka NextHash',\n 283: 'Team Qhubeka ASSOS',\n 284: 'NTT Pro Cycling',\n 285: 'Team Dimension Data',\n 286: 'MTN - Qhubeka',\n 287: 'Team MTN Qhubeka',\n 288: 'MTN Energade Road Team',\n 289: 'DELKO',\n 290: 'NIPPO DELKO One Provence',\n 291: 'Delko Marseille Provence',\n 292: 'Delko Marseille Provence KTM',\n 293: 'Team Marseille 13 KTM',\n 294: 'Team La Pomme Marseille 13',\n 295: 'La Pomme Marseille',\n 296: 'VC La Pomme Marseille',\n 297: 'Vini Zabù',\n 298: 'Vini Zabù - KTM',\n 299: 'Neri Sottoli - Selle Italia - KTM',\n 300: 'Wilier Triestina - Selle Italia',\n 301: 'Wilier - Southeast',\n 302: 'Southeast',\n 303: 'Neri Sottoli',\n 304: 'Vini Fantini',\n 305: 'Farnese Vini-Neri-Sottoli',\n 306: 'ISD - Neri',\n 307: 'ISD Cycling Team',\n 308: 'CCC Team',\n 309: 'BMC Racing Team',\n 310: 'Riwal Cycling Team',\n 311: 'Riwal Securitas Cycling Team',\n 312: 'Riwal Readynez Cycling Team',\n 313: 'Riwal CeramicSpeed Cycling Team',\n 314: 'Riwal Platform Cycling Team',\n 315: 'Riwal Cycling Team',\n 316: 'Concordia Forsikring - Riwal',\n 317: 'Team Concordia Forsinkring - Himmerland',\n 318: 'Team Concordia - Vesthimmerland',\n 319: 'Team Katusha Alpecin',\n 320: 'Team Katusha',\n 321: 'Tinkoff Credit Systems',\n 322: 'Tinkoff Restaurants',\n 323: 'Euskadi Basque Country - Murias',\n 324: 'Euskadi - Murias',\n 325: 'Euskadi Basque Country - Murias',\n 326: 'Murias Taldea',\n 327: 'Hagens Berman Axeon',\n 328: 'Axeon Hagens Berman',\n 329: 'Axeon Cycling Team',\n 330: 'Bissell  Development Team',\n 331: 'Bontrager Cycling Team',\n 332: 'Bontrager Livestrong Team',\n 333: 'Trek - Livestrong presented by Radioshack',\n 334: 'Trek - Livestrong',\n 335: 'Manzana Postobon',\n 336: 'Team Manzana Postobon',\n 337: 'Nippo Vini Fantini Faizanè',\n 338: 'Nippo - Vini Fantini - Europa Ovini',\n 339: 'Nippo - Vini Fantini',\n 340: 'Vini Fantini Nippo',\n 341: 'Team Nippo - De Rosa',\n 342: 'Team Nippo',\n 343: \"D'Angelo Antenucci-Nippo Corporation\",\n 344: 'Centri Della Calzatura - Cavaliere',\n 345: 'Centri Della Calzatura-Partizan',\n 346: 'Roompot - Charles',\n 347: 'Roompot - Nederlandse Loterij',\n 348: 'Roompot - Oranje Peloton',\n 349: 'W52 / FC Porto',\n 350: 'W52/FC Porto',\n 351: 'W52-Quinta da Lixa',\n 352: 'OFM - Quinta da Lixa',\n 353: 'Aqua Blue Sport',\n 354: 'CCC Development Team',\n 355: 'CCC Sprandi Polkowice',\n 356: 'CCC Polsat Polkowice',\n 357: 'CCC - Polsat - Polkowice',\n 358: 'CCC - Polsat',\n 359: 'Hoop - CCC - Polsat',\n 360: 'CCC - Polsat',\n 361: 'CCC - Mat',\n 362: 'MAT - Ceresit - CCC',\n 363: 'Hincapie / LEOMO p/b BMC',\n 364: 'Arapahoe - Hincapie p/b BMC',\n 365: 'Holowesko - Citadel p/b Arapahoe Resources',\n 366: 'Holowesko-Citadel Racing Team',\n 367: 'Hincapie Racing Team',\n 368: 'Hincapie Sportswear Development Team',\n 369: 'BMC - Hincapie Sportswear Team',\n 370: 'UnitedHealthcare Pro Cycling Team',\n 371: 'UnitedHealthcare Presented by Maxxis',\n 372: 'Ouch',\n 373: 'Health Net Presented By Maxxis',\n 374: 'Health Net presented by Maxxis',\n 375: 'Health Net Pro Cycling Team presented by Maxxis',\n 376: 'Health Net Cycling Team',\n 377: 'Vérandas Willems-Crelan',\n 378: 'Verandas Willems Cycling Team',\n 379: 'Verandas Willems',\n 380: 'Funvic - São José dos Campos',\n 381: 'Soul Brasil Pro Cycling Team',\n 382: 'Funvic Soul Cycles - Carrefour',\n 383: 'Funvic - São José dos Campos',\n 384: 'Funvic Brasilinvest - São José dos Campos',\n 385: 'Funvic - Pindamonhangaba',\n 386: 'IAM Cycling',\n 387: 'Tinkoff',\n 388: 'Tinkoff - Saxo',\n 389: 'Team Saxo - Tinkoff',\n 390: 'Team Saxo Bank - Tinkoff Bank',\n 391: 'Saxo Bank - Sungard',\n 392: 'Saxo Bank',\n 393: 'CSC ProTeam',\n 394: 'Team CSC',\n 395: 'CSC ProTeam - Tiscali',\n 396: 'MemoryCard - Jack & Jones',\n 397: 'Team Home - Jack & Jones',\n 398: 'Drapac Professional Cycling',\n 399: 'Drapac Cycling Team',\n 400: 'Drapac - Porsche Cycling',\n 401: 'Drapac - Porsche Development Program',\n 402: 'Drapac - Porsche',\n 403: 'One Pro Cycling',\n 404: 'Stölting Service Group',\n 405: 'Team Stölting',\n 406: 'Team Raiko - Stölting',\n 407: 'Test Team Raiko - Argon 18',\n 408: 'Akros - Excelsior - Thömus',\n 409: 'AKROS - Thömus',\n 410: 'Akros - Renfer SA',\n 411: 'Roth-Akros',\n 412: 'Team Roth',\n 413: 'Roth - Skoda',\n 414: 'Marchiol Emisfero',\n 415: 'VERVA ActiveJet Pro Cycling Team',\n 416: 'ActiveJet Team',\n 417: 'Cult Energy Pro Cycling',\n 418: 'Cult Energy Vital Water',\n 419: 'Team Cult Energy',\n 420: 'Glud & Marstrand - LRO',\n 421: 'Glud & Marstrand - LRØ Rådgivning',\n 422: 'Glud & Marstrand - Horsens',\n 423: 'Glud & Marstrand Horsens',\n 424: 'Glud & Marstrand - Horsens',\n 425: 'Team Colombia',\n 426: 'Colombia - Coldeportes',\n 427: 'Cafe de Colombia - Colombia Es Pasion',\n 428: 'Colombia Es Pasion - Coldeportes',\n 429: 'Colombia es Pasion Team',\n 430: 'Cannondale',\n 431: 'Cannondale Pro Cycling Team',\n 432: 'Liquigas - Cannondale',\n 433: 'Liquigas - Doimo',\n 434: 'Liquigas',\n 435: 'Cage Maglierie - Olmo',\n 436: 'Liquigas - Pata',\n 437: 'Liquigas-Pata',\n 438: 'Brescialat',\n 439: 'Brescialat - Oyster',\n 440: 'Brescialat',\n 441: 'Brescialat - Refin',\n 442: 'Euskaltel - Euskadi',\n 443: 'Euskadi - Petronor',\n 444: 'Vacansoleil - DCM',\n 445: 'Vacansoleil',\n 446: 'Team P3 Transfer - Batavus',\n 447: 'P3Transfer - Fondas Team',\n 448: 'Fondas P3 Transfer Team',\n 449: 'Fondas Imabo - Doorisol Team',\n 450: 'Champion System Pro Cycling Team',\n 451: 'Champion System',\n 452: 'Ckt Tmit - Champion System',\n 453: 'Crelan-Euphony',\n 454: 'Landbouwkrediet - Euphony',\n 455: 'Landbouwkrediet',\n 456: 'Landbouwkrediet  - Colnago',\n 457: 'Landbouwkrediet - Tönissteiner',\n 458: 'Landbouwkrediet - Colnago',\n 459: 'Sojasun',\n 460: 'Saur - Sojasun',\n 461: 'Besson Chaussures - Sojasun',\n 462: 'Acqua & Sapone',\n 463: 'Acqua & Sapone - Caffè Mokambo',\n 464: 'Acqua & Sapone - Adria Mobil',\n 465: 'Acqua & Sapone - Caffe Mokambo',\n 466: 'Acqua & Sapone',\n 467: 'Cantina Tollo - Acqua e Sapone',\n 468: 'Cantina Tollo - Regain',\n 469: 'Cantina Tollo - Alexia Alluminio',\n 470: 'Cantina Tollo',\n 471: 'Andalucia - Caja Granada',\n 472: 'Andalucia-Caja Sur',\n 473: 'Andalucía - Paul Versán',\n 474: 'Andalucia - Paul Versan',\n 475: 'Spidertech Powered by C10',\n 476: 'Spidertech presented by Planet Energy',\n 477: 'Planet Energy',\n 478: 'Team RACE Pro',\n 479: 'Team R.A.C.E.',\n 480: 'Utensilnord',\n 481: 'Utensilnord - ora24.eu',\n 482: 'Utensilnord - Named',\n 483: 'De Rosa - Ceramica Flaminia',\n 484: 'Ceramica Flaminia - Bossini Docce',\n 485: 'Ceramica Flaminia',\n 486: 'Team ICET',\n 487: 'HTC - High Road',\n 488: 'Team HTC - Columbia',\n 489: 'Team Columbia - HTC',\n 490: 'Team High Road',\n 491: 'Team Columbia',\n 492: 'T-Mobile Team',\n 493: 'Team Telekom',\n 494: 'Team Deutsche Telekom',\n 495: 'Team Telekom',\n 496: 'Team Stuttgart',\n 497: 'RadioShack',\n 498: 'Geox-TMC Transformers',\n 499: 'Footon-Servetto',\n 500: 'Fuji-Servetto',\n 501: 'Scott - American Beef',\n 502: 'Saunier Duval - Scott',\n 503: 'Saunier Duval',\n 504: 'Saunier Duval - Prodir',\n 505: 'Milram',\n 506: 'Team Milram',\n 507: 'CarmioOro - NGC',\n 508: 'CarmioOro & A-Style',\n 509: 'A-Style Somn',\n 510: 'Cervelo Test Team',\n 511: 'De Rosa - Stac Plastic',\n 512: 'LPR Brakes - Farnese Vini',\n 513: 'LPR Brakes - Ballan',\n 514: 'LPR - Nava - Androni',\n 515: 'LPR - Nava',\n 516: 'LPR - Synclean',\n 517: 'Xacobeo-Galicia',\n 518: 'Karpin - Galicia',\n 519: 'Agritubel',\n 520: 'Barloworld - Bianchi',\n 521: 'Barloworld',\n 522: 'Team Barloworld - Valsir',\n 523: 'Team Barloworld - Androni Giocattoli',\n 524: 'Team Barloworld',\n 525: 'Contentpolis - Ampo',\n 526: 'Contentpolis - Murcia',\n 527: 'Grupo Nicolás Mateos',\n 528: 'ELK Haus-Simplon',\n 529: 'ELK Haus Radteam - Sportunion Schrems',\n 530: 'Elkov - Kasper',\n 531: 'Elkov - Author Cycling Team',\n 532: 'Whirlpool Author',\n 533: 'Bauknecht - Author',\n 534: 'Whirlpool-Author',\n 535: 'PSK Whirlpool-Author',\n 536: 'PSK Whirlpool - Hradec Kralove',\n 537: 'PSK Whirlpool',\n 538: 'PSK - Remerx',\n 539: 'PSK - Unit Expert',\n 540: 'Crédit Agricole',\n 541: 'GAN',\n 542: 'GAN - Lemond',\n 543: 'Z - Lemond',\n 544: 'Z-Peugeot',\n 545: 'Z - Tomasso',\n 546: 'Z - Peugeot',\n 547: 'Peugeot - Shell',\n 548: 'Peugeot - Shell - Michelin',\n 549: 'Peugeot - Esso - Michelin',\n 550: 'Peugeot - Esso',\n 551: 'Peugeot - Esso - Michelin',\n 552: 'Peugeot - Esso',\n 553: 'Peugeot',\n 554: 'Peugeot - BP - Michelin',\n 555: 'Peugeot - BP',\n 556: 'Peugeot - BP - Michelin',\n 557: 'Peugeot - Michelin - BP',\n 558: 'Peugeot - BP - Michelin',\n 559: 'Peugeot BP Engelbert',\n 560: 'Peugeot - BP - Englebert',\n 561: 'Peugeot - BP - Dunlop',\n 562: 'Peugeot - Dunlop',\n 563: 'Gerolsteiner',\n 564: 'Benfica',\n 565: 'Cycle Collstrop',\n 566: 'Mitsubishi-Jartazi',\n 567: 'NGC Medical - OTC Industria Porte',\n 568: 'OTC Doors - Lauretana',\n 569: 'Preti Mangimi - Prisma Stufe',\n 570: 'Kio Ene - Tonazzi - DMT',\n 571: 'Team Vorarlberg',\n 572: 'Team Vorarlberg Santic',\n 573: 'Team Vorarlberg',\n 574: 'Vorarlberg-Corratec',\n 575: 'Team Vorarlberg-Corratec',\n 576: 'Team Volksbank',\n 577: 'Team Vorarlberg',\n 578: 'Volksbank - Leingruber - Ideal',\n 579: 'Volksbank - Ideal - Leingrüber',\n 580: 'Volksbank - Ideal',\n 581: 'KIA Suisse',\n 582: 'KIA - Villiger Suisse',\n 583: 'Team Ericsson - Villiger',\n 584: 'Discovery Channel',\n 585: 'US Postal Service',\n 586: 'US Postal Service - Montgomery',\n 587: 'Unibet.com',\n 588: 'DFL-Litespeed',\n 589: 'DFL-Cyclingnews-Litespeed',\n 590: 'Team Cyclingnews.com',\n 591: 'Team Cyclingnews.com - Down Under',\n 592: 'Team Down Under',\n 593: 'Extremadura - Grupo Gallardo',\n 594: 'Extremadura-Spiuk',\n 595: 'Spiuk-Extremadura',\n 596: 'Spiuk',\n 597: 'Fuerteventura - Canarias',\n 598: 'Mróz - Active Jet',\n 599: 'Mróz Continental Team',\n 600: 'Mroz - Action - Uniqa',\n 601: 'Intel Action',\n 602: 'Intel - Action',\n 603: 'Action - ATI',\n 604: 'Action - Nvidia - Mróz',\n 605: 'Mróz - Supradyn Witaminy',\n 606: 'Mróz',\n 607: 'Mroz',\n 608: 'Mróz',\n 609: 'Navigators Insurance Cycling Team',\n 610: 'Navigators Cycling Team',\n 611: 'Navigators',\n 612: 'Relax - Gam',\n 613: 'Relax Fuenlabrada',\n 614: 'Relax - Bodysol',\n 615: 'Relax - Fuenlabrada',\n 616: 'Colchon Relax - Fuenlabrada',\n 617: 'Fuenlabrada - Cafés Toscaf',\n 618: 'Estepona En Marcha - Brepac',\n 619: 'Estepona en Marcha - Cafés Toscaf',\n 620: 'Mx Onda',\n 621: 'Tenax - Menikini',\n 622: 'Tenax - Salmilano',\n 623: 'Tenax - Nobili Rubinetterie - Salmilano',\n 624: 'Tenax',\n 625: 'Tenax - Garda Calze',\n 626: 'Phonak Hearing Systems',\n 627: '3 Molinos Resort',\n 628: 'Comunidad Valenciana',\n 629: 'Comunidad Valenciana - Kelme',\n 630: 'Kelme - Costa Blanca',\n 631: 'Kelme-Artiach-Costa Blanca',\n 632: 'Kelme',\n 633: 'Kelme - Gios',\n 634: 'Kelme',\n 635: 'Kaiku',\n 636: 'Liberty Seguros',\n 637: 'L.A. Aluminios - Liberty Seguros',\n 638: 'L.A. - Pecol',\n 639: 'L.A. Aluminios - Pecol',\n 640: 'LA Alumí\\xadnios - Pecol',\n 641: 'LA - Pecol',\n 642: 'LA Pecol - Calbrita',\n 643: 'LA - Pecol',\n 644: 'LA Aluminios - Pecol',\n 645: 'LA Aluminios - Malveira',\n 646: 'Miche-Guerciotti',\n 647: 'Miche',\n 648: 'Team Miche - Silver Cross',\n 649: 'Miche - Silver Cross',\n 650: 'Miche',\n 651: 'Naturino - Sapore Di Mare',\n 652: 'Team 3c Casalinghi Jet Androni Giocattoli',\n 653: 'Team Wiesenhof - Felt',\n 654: 'Team Wiesenhof Akud',\n 655: 'Team Wiesenhof',\n 656: 'Team Wiesenhof - Leipzig',\n 657: 'Team Wiesenhof - SC DHfK Leipzig',\n 658: 'Team Wiesenhof - Leipzig',\n 659: 'Team Hohenfelder - Concorde',\n 660: 'Domina Vacanze',\n 661: 'Domina Vacanze - Elitron',\n 662: 'Fassa Bortolo',\n 663: 'Liberty Seguros - Würth Team',\n 664: 'Liberty Seguros',\n 665: 'Mrbookmaker.com - Sportstech',\n 666: 'Mrbookmaker.com - Palmans',\n 667: 'Palmans - Collstrop',\n 668: 'Naturino - Sapore Di Mare',\n 669: 'RAGT Semence - MG Rover',\n 670: 'Wismilak International Team',\n 671: 'Wismilak Cycling Team',\n 672: 'Alessio - Bianchi',\n 673: 'Alessio',\n 674: 'Alessio - Ballan',\n 675: 'Ballan',\n 676: 'Batik - Del Monte',\n 677: 'Gewiss - Playbus',\n 678: 'Gewiss - Ballan',\n 679: 'Mecair-Ballan',\n 680: 'Gis Gelati - Ballan',\n 681: 'Gewiss - Bianchi',\n 682: 'Bankgiroloterij',\n 683: 'Bankgiroloterij - Batavus',\n 684: 'Batavus - Bankgiroloterij',\n 685: 'De Nardi',\n 686: 'De Nardi - Colpack',\n 687: 'LA - MSS',\n 688: 'Maia Milaneza',\n 689: 'Milaneza - Maia',\n 690: 'Milaneza Maia',\n 691: 'Milaneza - Mss',\n 692: 'Milaneza - MSS',\n 693: 'Maia - MSS',\n 694: 'Maia - Cin',\n 695: 'Maia - CIN',\n 696: 'Maia - Jumbo - Cin',\n 697: 'Hipermercados Jumbo - Maia',\n 698: 'Saeco',\n 699: 'Saeco - Longoni Sport',\n 700: 'Saeco',\n 701: 'Saeco - Cannondale',\n 702: \"Saeco Macchine da Caffe' - Cannondale\",\n 703: 'Saeco - Estro',\n 704: 'Saeco - Estro - AS Juvenes San Marino',\n 705: 'Vini Caldirola - Nobili Rubinetterie',\n 706: 'Vini Calderola - So.di',\n 707: 'Sidermec - Saunier Duval',\n 708: 'Vini Caldirola - Sidermec',\n 709: 'Cafés Baqué',\n 710: 'Labarca-2-Café Baqué',\n 711: 'Cafés Baqué',\n 712: 'Costa de Almería - Paternina',\n 713: 'Paternina - Costa de Almería',\n 714: 'Jazztel - Costa de Almeria',\n 715: 'Costa de Almeria',\n 716: \"eD'system - ZVVZ\",\n 717: 'Wüstenrot - ZVVZ',\n 718: 'ZVVZ - DLD',\n 719: 'ZVVZ - Giant - AIS',\n 720: 'Giant - AIS',\n 721: \"Team Universal Caffe' - Ecopetrol\",\n 722: 'C.B. Immobiliare - Universal Caffè',\n 723: \"Team Universal Caffe' - Styloffice\",\n 724: 'Formaggi Pinzolo Fiavè',\n 725: 'Formaggi Pinzolo Fiavè - Ciarrocchi Immobiliare',\n 726: 'Mobilvetta - Formaggi Trentini',\n 727: 'Formaggi Trentini',\n 728: 'Mobilvetta Design - Formaggi Trentini',\n 729: 'Mobilvetta Design - Rossin',\n 730: 'Mobilvetta Design - Northwave',\n 731: 'Mobilvetta - Northwave',\n 732: 'Refin - Mobilvetta',\n 733: 'Refin',\n 734: 'Lokomotiv',\n 735: 'Team 3C-Gruppe',\n 736: 'Team 3C-Gruppe - Lamonta',\n 737: 'Team Lamonta',\n 738: 'Vlaanderen - T-Interim Univega',\n 739: 'Vlaanderen - T-Interim',\n 740: 'Jean Delatour',\n 741: 'O.N.C.E. - Eroski',\n 742: 'O.N.C.E. - Deutsche Bank',\n 743: 'ONCE',\n 744: 'O.N.C.E.',\n 745: 'O.N.C.E. - Look - Mavic',\n 746: 'Team Bianchi',\n 747: 'Team Coast',\n 748: 'Leonardo - Coast',\n 749: 'Team Fakta',\n 750: 'EDS - Fakta',\n 751: 'Team Fakta',\n 752: 'Team S.A.T.S.',\n 753: 'Team Grace Cycling',\n 754: '05 Orbitel',\n 755: 'L.A. Aluminios / L.A. Sport',\n 756: 'LA Aluminios',\n 757: 'LA Aluminios-Metalusa',\n 758: 'LA Aluminios - Antarte',\n 759: 'LA - Antarte',\n 760: 'LA-Paredes Rota dos Moveis',\n 761: 'Fercase - Rota dos Móveis',\n 762: 'Paredes Rota dos Moveis',\n 763: 'Paredes Rota dos Moveis - Beira Tamega',\n 764: 'Antarte - Rota dos Moveis',\n 765: 'Antarte - Rota dos Móveis',\n 766: 'Paredes Rota dos Moveis - Antares VIP',\n 767: 'Paredes Rota dos Móveis - Tintas VIP - Ecop',\n 768: 'Paredes Rota dos Móveis - Tintas VIP - Antarte',\n 769: 'Paredes Movel - Ecop',\n 770: 'Paredes Movel - Ecop - W52',\n 771: 'Paredes Movel - W52',\n 772: 'W52 - Paredes Movel',\n 773: 'W52 - Paredes MÃ³vel',\n 774: 'Vitória - ASC',\n 775: 'ASC - Chenco Jeans',\n 776: 'ASC - Vila do Conde',\n 777: 'Glassdrive Q8 Anicolor',\n 778: 'Efapel',\n 779: 'Efapel - Glassdrive',\n 780: 'Barbot - Efapel',\n 781: 'Barbot - Siper',\n 782: 'Barbot - Halcon',\n 783: 'Barbot - Pascoal',\n 784: 'Barbot - Gaia',\n 785: 'Barbot - Torrié Cafés',\n 786: 'Barbot - Torrié Cafés - Gondomar',\n 787: 'St Michel - Auber93',\n 788: 'HP BTP - Auber93',\n 789: 'Auber 93',\n 790: 'BigMat - Auber 93',\n 791: 'Auber 93',\n 792: 'BigMat - Auber 93',\n 793: 'Aubervilliers93-Peugeot',\n 794: \"Aubervilliers '93\",\n 795: 'Cantanhede - Marques de Marialva',\n 796: 'Cantanhede - Marquês de Marialva - Bairrada',\n 797: 'Rádio Popular - Paredes - Boavista',\n 798: 'Radio Popular Boavista',\n 799: 'Rádio Popular Boavista',\n 800: 'Rádio Popular ONDA Boavista',\n 801: 'Rádio Popular',\n 802: 'Rádio Popular-Onda',\n 803: 'Onda',\n 804: 'Onda Boavista',\n 805: 'Madeinox-Boavista',\n 806: 'Madeinox - Boavista',\n 807: 'Riberalves - Boavista',\n 808: 'Carvalhelhos - Boavista',\n 809: 'Boavista',\n 810: 'Recer - Boavista',\n 811: 'Boavista',\n 812: 'Boavista - Zanussi',\n 813: 'Babes Only - Villapark Langemeer - Flanders',\n 814: 'Flanders',\n 815: 'Flanders - Afin.com',\n 816: 'Flanders - iTeamNova',\n 817: 'Oktos - Saint-Quentin',\n 818: 'MBK - Oktos',\n 819: 'Saint-Quentin - Oktos',\n 820: 'Team Scanavino',\n 821: 'Mercatone Uno - Scanavino',\n 822: 'Mercatone Uno',\n 823: 'Mercatone Uno - Stream TV',\n 824: 'Mercatone Uno - Albacom',\n 825: 'Mercatone Uno - Bianchi',\n 826: 'Mercatone Uno',\n 827: 'Mercatone Uno - Saeco',\n 828: 'Mercatone Uno - Bianchi',\n 829: 'Mercatone Uno - Mendeghini - Zucchini',\n 830: 'Mercatone Uno - Zucchini - Mendeghini',\n 831: 'Atum general / Tavira / Maria Nova Hotel',\n 832: 'Sporting Clube de Portugal/Tavira',\n 833: 'Tavira',\n 834: 'Banco BIC - Carmim',\n 835: 'Carmin - Tavira',\n 836: 'Carmin - Prio',\n 837: 'Clube de Ciclismo de Tavira',\n 838: 'Palmeiras Resort - Prio',\n 839: 'Palmeiras Resort - Tavira',\n 840: 'Duja - Tavira',\n 841: 'Wurth - Bom Petisco',\n 842: 'Porta da Ravessa - Tavira',\n 843: 'Porta da Ravessa - Zurich',\n 844: 'Porta da Ravessa',\n 845: 'Porta da Ravessa - Milaneza',\n 846: 'Troiamarisco - Porta da Ravessa',\n 847: 'Troiamarisco - G. Costa - Pais',\n 848: 'Troiamarisco',\n 849: 'Domo - Farm Frites',\n 850: 'Index - Alexia Alluminio',\n 851: 'Alexia Allumino',\n 852: 'Alexia Alluminio',\n 853: 'Alexia Allumino',\n 854: 'Mapei - Quickstep',\n 855: 'Mapei - Bricobi',\n 856: 'Mapei-GB',\n 857: 'Mapei - Clas',\n 858: 'Eldor - Viner',\n 859: 'Mapei - Viner',\n 860: 'Tacconi Sport',\n 861: 'Tacconi Sport - Vini Caldirola',\n 862: 'Amore & Vita - Prodir',\n 863: 'Amore & Vita - Selle SMP presented by FONDRIEST',\n 864: 'Amore & Vita - Selle SMP',\n 865: 'Amore & Vita',\n 866: 'Amore & Vita - Conad',\n 867: 'Amore & Vita - McDonalds',\n 868: 'Amore & Vita - Beretta',\n 869: 'Amore & Vita - Forzacore',\n 870: 'Amore & Vita',\n 871: 'De Nardi - Pasta Montegrappa',\n 872: 'Itera',\n 873: 'Marlux - Ville de Charleroi',\n 874: 'Matesica - Abodoba',\n 875: 'Troiamarisco - Matesica - Abodoba',\n 876: 'Matesica - Abodoba',\n 877: 'Perutnina Ptuj',\n 878: 'Perutnina Ptuj - KRKA - Telekom Slovenije',\n 879: 'KRKA - Telekom Slovenije',\n 880: 'RDM - Flanders',\n 881: 'Flanders - Prefetex',\n 882: 'Team Cologne',\n 883: 'Cologne',\n 884: 'Team Cologne',\n 885: 'Team Colpack - Astro',\n 886: 'Team Colpack',\n 887: 'Team Nürnberger Versicherung',\n 888: 'Team Nürnberger',\n 889: 'Festina',\n 890: 'Festina - Lotus',\n 891: 'Lotus - Festina',\n 892: \"Linda McCartney - Jacob's Creek - Jaguar\",\n 893: 'LindaMcCartney',\n 894: 'Linda McCartney Racing Team',\n 895: 'Linda McCartney On Tour',\n 896: 'Mercury Cycling Team',\n 897: 'Mercury - Viatel',\n 898: 'Manheim-Mercury',\n 899: 'Mercury Cycling Team',\n 900: 'Mercury - Outdoor Life Network',\n 901: 'Comptel Data System',\n 902: 'Nutra Fig - Colorado Cyclist',\n 903: 'Ambra - Obuwie - SNC Odziez',\n 904: 'Atlas - Ambra - Lukullus',\n 905: 'Atlas - Lukullus - Ambra',\n 906: 'De Nardi - Pasta Montegrappa',\n 907: 'Itera',\n 908: 'Post Swiss Team',\n 909: 'PMU Romand - Bepsa',\n 910: 'Saturn',\n 911: 'Saturn Cycling Team',\n 912: 'Saturn',\n 913: 'Saturn Cycling Team',\n 914: 'Saturn',\n 915: 'Saturn - Powerbar - Trek',\n 916: 'Ville de Charleroi - New Systems',\n 917: 'Home Market - Ville de Charleroi',\n 918: 'Cedico - Ville de Charleroi',\n 919: 'Cedico - Sunjets - Ville de Charleroi',\n 920: 'Farm Frites',\n 921: 'TVM - Farm Frites',\n 922: 'TVM',\n 923: 'TVM - Bison Kit',\n 924: 'TVM - Sanyo',\n 925: 'TVM - Toko',\n 926: 'TVM',\n 927: 'TVM - Van Schilt',\n 928: 'Polti',\n 929: 'Polti - Granarolo - Santini',\n 930: 'Polti - Vaporetto',\n 931: 'Gatorade',\n 932: \"Gatorade - Chateau d'Ax\",\n 933: \"Chateau d'Ax - Salotti\",\n 934: \"Chateau d'Ax\",\n 935: \"Supermercati Brianzoli - Chateau d'Ax\",\n 936: 'Supermercati Brianzoli',\n 937: 'Mareno - Wilier Triestina',\n 938: 'Shaklee',\n 939: 'Vitalicio Seguros - Grupo Generali',\n 940: 'Vitalicio Seguros',\n 941: 'Agro Adler Brandenburg',\n 942: 'Agro - Adler - Brandenburg',\n 943: 'Agro - Adler Brandenburg',\n 944: 'Agro - Adler - Brandenburg',\n 945: 'Amica Chips - Tacconi Sport',\n 946: 'Amica Chips - Costa de Almeria',\n 947: 'Ros Mary - Amica Chips',\n 948: 'Ros Mary - Minotti Italia - Ideal',\n 949: 'Ideal - Aster Lichy',\n 950: 'Besson Chaussures',\n 951: 'Besson Chaussures - Nippon Hodo',\n 952: 'Collstrop - De Federale Verzekeringen',\n 953: 'Collstrop-De Federale Verzekeringen',\n 954: 'Collstrop',\n 955: 'Collstrop - Lystex',\n 956: 'Collstrop - Willy Naessens',\n 957: 'Collstrop - Assur Carpets',\n 958: 'Collstrop - Garden Wood - Histor',\n 959: 'Palmans - Ideal',\n 960: 'Palmans - Lystex',\n 961: 'Palmans - Boghemans',\n 962: 'Palmans - Ipso',\n 963: 'Palmans - Renault - Inco Coating',\n 964: 'Spar - OKI - Daewoo',\n 965: 'Sport Lisboa e Benfica',\n 966: 'Sport Lisboa e Benfica - Winterthur',\n 967: 'Tönissteiner - Colnago',\n 968: 'Tönissteiner - Saxon',\n 969: 'Saxon - Selle Italia',\n 970: 'Saxon - Breitex',\n 971: 'Vlaanderen 2002 - Eddy Merckx',\n 972: 'Riso Scotti - Vinavil',\n 973: 'Riso Scotti - MG',\n 974: 'Acceptcard Pro Cycling',\n 975: 'Chicky World',\n 976: 'Die Continentale - Olympia',\n 977: 'Ipso - Euroclean',\n 978: 'Spar - RDM',\n 979: 'Team EC - Bayer Worringen',\n 980: 'Team EC/Bayer Worringen',\n 981: 'EC Bayer Worringen',\n 982: 'Asics - CGA',\n 983: 'Avianca - Telekom',\n 984: 'Brite',\n 985: 'Die Continentale - Olympia',\n 986: 'Gresco - Tavira',\n 987: 'Ipso',\n 988: 'Lada - Samara',\n 989: 'Lada - CSKA',\n 990: 'Lada - CSKA - Samara',\n 991: 'Lokosphinx',\n 992: 'Mutuelle de Seine-et-Marne',\n 993: 'Oilme Professional Cycling',\n 994: 'Spar - RDM',\n 995: 'Team Gerolsteiner',\n 996: 'AKI - Safi',\n 997: 'AKI - Gipiemme - Safi',\n 998: 'AKI-Gipiemme',\n 999: 'Jolly Componibili - Cage',\n 1000: 'Jolly Componibili - Club 88',\n ...}"
     },
     "execution_count": 167,
     "metadata": {},
     "output_type": "execute_result"
    }
   ],
   "source": [
    "t_id_to_name = {k: v for k, v in zip(teams_df['team_id'], teams_df['team_name'])}\n",
    "t_id_to_name"
   ],
   "metadata": {
    "collapsed": false,
    "pycharm": {
     "name": "#%%\n"
    }
   }
  },
  {
   "cell_type": "code",
   "execution_count": 151,
   "outputs": [],
   "source": [
    "cyclists_teams_df['cyclist_name'] = cyclists_teams_df['cyclist_id'].map(c_id_to_pcs_names)\n",
    "cyclists_teams_df['team_name'] = cyclists_teams_df['team_id'].map(t_id_to_name)"
   ],
   "metadata": {
    "collapsed": false,
    "pycharm": {
     "name": "#%%\n"
    }
   }
  },
  {
   "cell_type": "code",
   "execution_count": 179,
   "outputs": [
    {
     "name": "stderr",
     "output_type": "stream",
     "text": [
      "C:\\Users\\User\\AppData\\Local\\Temp/ipykernel_19156/832242771.py:3: SettingWithCopyWarning: \n",
      "A value is trying to be set on a copy of a slice from a DataFrame.\n",
      "Try using .loc[row_indexer,col_indexer] = value instead\n",
      "\n",
      "See the caveats in the documentation: https://pandas.pydata.org/pandas-docs/stable/user_guide/indexing.html#returning-a-view-versus-a-copy\n",
      "  ISN_strava_urls_df['full_name'] = ISN_strava_urls_df['cyclist_id'].map(c_id_to_pcs_names)\n",
      "C:\\Users\\User\\AppData\\Local\\Temp/ipykernel_19156/832242771.py:4: SettingWithCopyWarning: \n",
      "A value is trying to be set on a copy of a slice from a DataFrame.\n",
      "Try using .loc[row_indexer,col_indexer] = value instead\n",
      "\n",
      "See the caveats in the documentation: https://pandas.pydata.org/pandas-docs/stable/user_guide/indexing.html#returning-a-view-versus-a-copy\n",
      "  ISN_strava_urls_df['fetched_from_pcs'] = 1\n"
     ]
    },
    {
     "data": {
      "text/plain": "107"
     },
     "execution_count": 179,
     "metadata": {},
     "output_type": "execute_result"
    }
   ],
   "source": [
    "ISN_riders_ids = cyclists_teams_df[cyclists_teams_df['team_id'].isin(ISN_ids)]['cyclist_id'].values\n",
    "ISN_strava_urls_df = cyclists_strava_urls_df.loc[cyclists_strava_urls_df['cyclist_id'].isin(ISN_riders_ids)]\n",
    "ISN_strava_urls_df['full_name'] = ISN_strava_urls_df['cyclist_id'].map(c_id_to_pcs_names)\n",
    "ISN_strava_urls_df['fetched_from_pcs'] = 1\n",
    "len(ISN_strava_urls_df)"
   ],
   "metadata": {
    "collapsed": false,
    "pycharm": {
     "name": "#%%\n"
    }
   }
  },
  {
   "cell_type": "code",
   "execution_count": 180,
   "outputs": [
    {
     "data": {
      "text/plain": "Empty DataFrame\nColumns: [cyclist_id, pcs_link, strava_link, strava_id, full_name, fetched_from_pcs]\nIndex: []",
      "text/html": "<div>\n<style scoped>\n    .dataframe tbody tr th:only-of-type {\n        vertical-align: middle;\n    }\n\n    .dataframe tbody tr th {\n        vertical-align: top;\n    }\n\n    .dataframe thead th {\n        text-align: right;\n    }\n</style>\n<table border=\"1\" class=\"dataframe\">\n  <thead>\n    <tr style=\"text-align: right;\">\n      <th></th>\n      <th>cyclist_id</th>\n      <th>pcs_link</th>\n      <th>strava_link</th>\n      <th>strava_id</th>\n      <th>full_name</th>\n      <th>fetched_from_pcs</th>\n    </tr>\n  </thead>\n  <tbody>\n  </tbody>\n</table>\n</div>"
     },
     "execution_count": 180,
     "metadata": {},
     "output_type": "execute_result"
    }
   ],
   "source": [
    "ISN_strava_urls_df[ISN_strava_urls_df['fetched_from_pcs'].isna()]"
   ],
   "metadata": {
    "collapsed": false,
    "pycharm": {
     "name": "#%%\n"
    }
   }
  },
  {
   "cell_type": "code",
   "execution_count": 145,
   "outputs": [],
   "source": [
    "\n",
    "old_ISN_Ids = [40, 45, 56, 78, 93, 98, 101, 114, 130, 160, 170, 191, 238, 266, 275, 283, 291, 326, 350, 367, 377, 393,\n",
    "               411, 427,\n",
    "               428, 440, 456, 459, 538, 562, 575, 590, 624, 631, 678, 687, 699, 718, 767, 779, 784, 840, 876, 887, 895,\n",
    "               924, 931, 981, 984, 988, 1009, 1090, 1091, 1092, 1093, 1094, 1095, 1096, 1097, 1098, 1099, 1100, 1265,\n",
    "               1774, 8959]\n",
    "alon_riders_urls_df = pd.read_csv('./data/riders_urls.csv').drop('Unnamed: 0', 1)\n",
    "ISN_alon_riders_urls_df = alon_riders_urls_df[alon_riders_urls_df['cyclist_id'].isin(old_ISN_Ids)]\n",
    "len(ISN_alon_riders_urls_df)"
   ],
   "metadata": {
    "collapsed": false,
    "pycharm": {
     "name": "#%%\n"
    }
   }
  },
  {
   "cell_type": "code",
   "execution_count": 181,
   "outputs": [],
   "source": [
    "merged_cyclists_urls = ISN_strava_urls_df.merge(ISN_alon_riders_urls_df, how='outer', on='full_name')"
   ],
   "metadata": {
    "collapsed": false,
    "pycharm": {
     "name": "#%%\n"
    }
   }
  },
  {
   "cell_type": "code",
   "execution_count": 185,
   "outputs": [
    {
     "data": {
      "text/plain": "{'ABU-FARES Saned',\n 'ANGULO Antonio',\n 'BEAR Ido',\n 'BEAR Yoav',\n 'BERWICK Sebastian',\n 'BEVIN Patrick',\n 'BOUČEK Jakub',\n 'BUTLER Chris',\n 'CHOKRI El Mehdi',\n 'CRAVEN Dan',\n 'DAVIDZON Lahav',\n 'DAŠKO Mário',\n 'EINHORN Ben',\n 'FRIGO Marco',\n 'FUGLSANG Jakob',\n 'GABAY Guy',\n 'GEBREMEDHIN Awet',\n 'GEE Derek',\n 'GOLDSTEIN Edo',\n 'HADARI Zohar',\n 'HAIMY Shlomi',\n 'HOLLYMAN Mason',\n 'HOULE Hugo',\n 'KESSLER Cole',\n 'KOGUT Oded',\n 'KORUS Max',\n 'LAHAV Omer',\n 'LEVI Eitan',\n 'MACKELLAR Alastair',\n 'MALOVEC Ľuboš',\n 'MARTIN Dan',\n 'MIGDAł Wojciech',\n 'MILES Carson',\n 'NAGY Simon',\n 'NAVARRO Daniel',\n 'NIZZOLO Giacomo',\n 'PAVLIČ Marko',\n 'PERETZ Aviv',\n 'PIASKOWY Emanuel',\n 'PICKRELL Riley',\n 'PLAMONDON Robin',\n 'PLAZA Rubén',\n 'RAISBERG Nadav',\n 'SAGIV Guy',\n 'STRONG Corbin',\n 'SUTHERLAND Rory',\n 'TALAGA Patryk',\n 'TENE Rotem',\n 'VANMARCKE Sep',\n 'WARCHOŁ Bartosz',\n 'WEINBERG Roi',\n 'YECHEZKEL Aviv',\n 'ZAHOR Yuval',\n 'ZILBERSTEIN Ido'}"
     },
     "execution_count": 185,
     "metadata": {},
     "output_type": "execute_result"
    }
   ],
   "source": [],
   "metadata": {
    "collapsed": false,
    "pycharm": {
     "name": "#%%\n"
    }
   }
  },
  {
   "cell_type": "code",
   "execution_count": 189,
   "outputs": [
    {
     "data": {
      "text/plain": "    cyclist_id_x                                           pcs_link  \\\n61          2671  https://www.procyclingstats.com/rider/itamar-e...   \n63          2836  https://www.procyclingstats.com/rider/jason-lo...   \n64          3666  https://www.procyclingstats.com/rider/krists-n...   \n65          4696  https://www.procyclingstats.com/rider/nathan-e...   \n71          5967  https://www.procyclingstats.com/rider/sondre-h...   \n73          7027  https://www.procyclingstats.com/rider/freddy-o...   \n74          8004  https://www.procyclingstats.com/rider/benjamin...   \n75          8007  https://www.procyclingstats.com/rider/riccardo...   \n81         11597  https://www.procyclingstats.com/rider/yuval-be...   \n\n   strava_link strava_id           full_name  fetched_from_pcs  cyclist_id_y  \\\n61         NaN       NaN      EINHORN Itamar               0.0         291.0   \n63         NaN       NaN       LOWNDES Jason               0.0         538.0   \n64         NaN       NaN     NEILANDS Krists               0.0         624.0   \n65         NaN       NaN        EARLE Nathan               0.0         283.0   \n71         NaN       NaN  ENGER Sondre Holst               0.0        1093.0   \n73         NaN       NaN        OVETT Freddy               0.0        1100.0   \n74         NaN       NaN      PERRY Benjamin               0.0         678.0   \n75         NaN       NaN     MINALI Riccardo               0.0         590.0   \n81         NaN       NaN     BEN MOSHE Yuval               0.0          78.0   \n\n                                         url  \n61   https://www.strava.com/athletes/5096617  \n63   https://www.strava.com/athletes/2009928  \n64      https://www.strava.com/pros/12243285  \n65       https://www.strava.com/pros/1005431  \n71   https://www.strava.com/athletes/4848740  \n73       https://www.strava.com/pros/9503563  \n74    https://www.strava.com/athletes/812782  \n75  https://www.strava.com/athletes/15718993  \n81   https://www.strava.com/athletes/3409968  ",
      "text/html": "<div>\n<style scoped>\n    .dataframe tbody tr th:only-of-type {\n        vertical-align: middle;\n    }\n\n    .dataframe tbody tr th {\n        vertical-align: top;\n    }\n\n    .dataframe thead th {\n        text-align: right;\n    }\n</style>\n<table border=\"1\" class=\"dataframe\">\n  <thead>\n    <tr style=\"text-align: right;\">\n      <th></th>\n      <th>cyclist_id_x</th>\n      <th>pcs_link</th>\n      <th>strava_link</th>\n      <th>strava_id</th>\n      <th>full_name</th>\n      <th>fetched_from_pcs</th>\n      <th>cyclist_id_y</th>\n      <th>url</th>\n    </tr>\n  </thead>\n  <tbody>\n    <tr>\n      <th>61</th>\n      <td>2671</td>\n      <td>https://www.procyclingstats.com/rider/itamar-e...</td>\n      <td>NaN</td>\n      <td>NaN</td>\n      <td>EINHORN Itamar</td>\n      <td>0.0</td>\n      <td>291.0</td>\n      <td>https://www.strava.com/athletes/5096617</td>\n    </tr>\n    <tr>\n      <th>63</th>\n      <td>2836</td>\n      <td>https://www.procyclingstats.com/rider/jason-lo...</td>\n      <td>NaN</td>\n      <td>NaN</td>\n      <td>LOWNDES Jason</td>\n      <td>0.0</td>\n      <td>538.0</td>\n      <td>https://www.strava.com/athletes/2009928</td>\n    </tr>\n    <tr>\n      <th>64</th>\n      <td>3666</td>\n      <td>https://www.procyclingstats.com/rider/krists-n...</td>\n      <td>NaN</td>\n      <td>NaN</td>\n      <td>NEILANDS Krists</td>\n      <td>0.0</td>\n      <td>624.0</td>\n      <td>https://www.strava.com/pros/12243285</td>\n    </tr>\n    <tr>\n      <th>65</th>\n      <td>4696</td>\n      <td>https://www.procyclingstats.com/rider/nathan-e...</td>\n      <td>NaN</td>\n      <td>NaN</td>\n      <td>EARLE Nathan</td>\n      <td>0.0</td>\n      <td>283.0</td>\n      <td>https://www.strava.com/pros/1005431</td>\n    </tr>\n    <tr>\n      <th>71</th>\n      <td>5967</td>\n      <td>https://www.procyclingstats.com/rider/sondre-h...</td>\n      <td>NaN</td>\n      <td>NaN</td>\n      <td>ENGER Sondre Holst</td>\n      <td>0.0</td>\n      <td>1093.0</td>\n      <td>https://www.strava.com/athletes/4848740</td>\n    </tr>\n    <tr>\n      <th>73</th>\n      <td>7027</td>\n      <td>https://www.procyclingstats.com/rider/freddy-o...</td>\n      <td>NaN</td>\n      <td>NaN</td>\n      <td>OVETT Freddy</td>\n      <td>0.0</td>\n      <td>1100.0</td>\n      <td>https://www.strava.com/pros/9503563</td>\n    </tr>\n    <tr>\n      <th>74</th>\n      <td>8004</td>\n      <td>https://www.procyclingstats.com/rider/benjamin...</td>\n      <td>NaN</td>\n      <td>NaN</td>\n      <td>PERRY Benjamin</td>\n      <td>0.0</td>\n      <td>678.0</td>\n      <td>https://www.strava.com/athletes/812782</td>\n    </tr>\n    <tr>\n      <th>75</th>\n      <td>8007</td>\n      <td>https://www.procyclingstats.com/rider/riccardo...</td>\n      <td>NaN</td>\n      <td>NaN</td>\n      <td>MINALI Riccardo</td>\n      <td>0.0</td>\n      <td>590.0</td>\n      <td>https://www.strava.com/athletes/15718993</td>\n    </tr>\n    <tr>\n      <th>81</th>\n      <td>11597</td>\n      <td>https://www.procyclingstats.com/rider/yuval-be...</td>\n      <td>NaN</td>\n      <td>NaN</td>\n      <td>BEN MOSHE Yuval</td>\n      <td>0.0</td>\n      <td>78.0</td>\n      <td>https://www.strava.com/athletes/3409968</td>\n    </tr>\n  </tbody>\n</table>\n</div>"
     },
     "execution_count": 189,
     "metadata": {},
     "output_type": "execute_result"
    }
   ],
   "source": [
    "merged_cyclists_urls.loc[merged_cyclists_urls['fetched_from_pcs'] == 0]"
   ],
   "metadata": {
    "collapsed": false,
    "pycharm": {
     "name": "#%%\n"
    }
   }
  },
  {
   "cell_type": "code",
   "execution_count": 202,
   "outputs": [],
   "source": [
    "ISN_merged_strava_urls = merged_cyclists_urls.loc[:,\n",
    "                         list(merged_cyclists_urls.columns[:5]) + list(['url', 'fetched_from_pcs'])]\n",
    "ISN_merged_strava_urls = ISN_merged_strava_urls.rename({'url': \"alon's url\", 'cyclist_id_x': 'cyclist_id'}, axis=1)\n",
    "ISN_merged_strava_urls.to_csv('./data/ISN_merged_strava_urls.csv', index=False, header=True)"
   ],
   "metadata": {
    "collapsed": false,
    "pycharm": {
     "name": "#%%\n"
    }
   }
  },
  {
   "cell_type": "code",
   "execution_count": 203,
   "outputs": [
    {
     "data": {
      "text/plain": "     cyclist_id                                           pcs_link  \\\n0           157  https://www.procyclingstats.com/rider/alessand...   \n1           190  https://www.procyclingstats.com/rider/alex-dow...   \n2           203  https://www.procyclingstats.com/rider/alexande...   \n3           261  https://www.procyclingstats.com/rider/alexis-r...   \n4           329  https://www.procyclingstats.com/rider/andre-gr...   \n..          ...                                                ...   \n102       11632  https://www.procyclingstats.com/rider/yuval-zahor   \n103       11633     https://www.procyclingstats.com/rider/ido-bear   \n104       11634    https://www.procyclingstats.com/rider/el-chokri   \n105       11635   https://www.procyclingstats.com/rider/eitan-levi   \n106       11636  https://www.procyclingstats.com/rider/carson-m...   \n\n                                 strava_link strava_id             full_name  \\\n0        https://www.strava.com/pros/9545283   9545283  DE MARCHI Alessandro   \n1         https://www.strava.com/pros/505408    505408          DOWSETT Alex   \n2    https://www.strava.com/athletes/3490359   3490359    CATAFORD Alexander   \n3        https://www.strava.com/pros/5915515   5915515         RENARD Alexis   \n4         https://www.strava.com/pros/384548    384548         GREIPEL André   \n..                                       ...       ...                   ...   \n102                                      NaN       NaN           ZAHOR Yuval   \n103                                      NaN       NaN              BEAR Ido   \n104                                      NaN       NaN       CHOKRI El Mehdi   \n105                                      NaN       NaN            LEVI Eitan   \n106                                      NaN       NaN          MILES Carson   \n\n                                  alon's url  fetched_from_pcs  \n0        https://www.strava.com/pros/9545283               1.0  \n1         https://www.strava.com/pros/505408               1.0  \n2    https://www.strava.com/athletes/3490359               1.0  \n3        https://www.strava.com/pros/5915515               1.0  \n4         https://www.strava.com/pros/384548               1.0  \n..                                       ...               ...  \n102                                      NaN               NaN  \n103                                      NaN               NaN  \n104                                      NaN               NaN  \n105                                      NaN               NaN  \n106                                      NaN               NaN  \n\n[107 rows x 7 columns]",
      "text/html": "<div>\n<style scoped>\n    .dataframe tbody tr th:only-of-type {\n        vertical-align: middle;\n    }\n\n    .dataframe tbody tr th {\n        vertical-align: top;\n    }\n\n    .dataframe thead th {\n        text-align: right;\n    }\n</style>\n<table border=\"1\" class=\"dataframe\">\n  <thead>\n    <tr style=\"text-align: right;\">\n      <th></th>\n      <th>cyclist_id</th>\n      <th>pcs_link</th>\n      <th>strava_link</th>\n      <th>strava_id</th>\n      <th>full_name</th>\n      <th>alon's url</th>\n      <th>fetched_from_pcs</th>\n    </tr>\n  </thead>\n  <tbody>\n    <tr>\n      <th>0</th>\n      <td>157</td>\n      <td>https://www.procyclingstats.com/rider/alessand...</td>\n      <td>https://www.strava.com/pros/9545283</td>\n      <td>9545283</td>\n      <td>DE MARCHI Alessandro</td>\n      <td>https://www.strava.com/pros/9545283</td>\n      <td>1.0</td>\n    </tr>\n    <tr>\n      <th>1</th>\n      <td>190</td>\n      <td>https://www.procyclingstats.com/rider/alex-dow...</td>\n      <td>https://www.strava.com/pros/505408</td>\n      <td>505408</td>\n      <td>DOWSETT Alex</td>\n      <td>https://www.strava.com/pros/505408</td>\n      <td>1.0</td>\n    </tr>\n    <tr>\n      <th>2</th>\n      <td>203</td>\n      <td>https://www.procyclingstats.com/rider/alexande...</td>\n      <td>https://www.strava.com/athletes/3490359</td>\n      <td>3490359</td>\n      <td>CATAFORD Alexander</td>\n      <td>https://www.strava.com/athletes/3490359</td>\n      <td>1.0</td>\n    </tr>\n    <tr>\n      <th>3</th>\n      <td>261</td>\n      <td>https://www.procyclingstats.com/rider/alexis-r...</td>\n      <td>https://www.strava.com/pros/5915515</td>\n      <td>5915515</td>\n      <td>RENARD Alexis</td>\n      <td>https://www.strava.com/pros/5915515</td>\n      <td>1.0</td>\n    </tr>\n    <tr>\n      <th>4</th>\n      <td>329</td>\n      <td>https://www.procyclingstats.com/rider/andre-gr...</td>\n      <td>https://www.strava.com/pros/384548</td>\n      <td>384548</td>\n      <td>GREIPEL André</td>\n      <td>https://www.strava.com/pros/384548</td>\n      <td>1.0</td>\n    </tr>\n    <tr>\n      <th>...</th>\n      <td>...</td>\n      <td>...</td>\n      <td>...</td>\n      <td>...</td>\n      <td>...</td>\n      <td>...</td>\n      <td>...</td>\n    </tr>\n    <tr>\n      <th>102</th>\n      <td>11632</td>\n      <td>https://www.procyclingstats.com/rider/yuval-zahor</td>\n      <td>NaN</td>\n      <td>NaN</td>\n      <td>ZAHOR Yuval</td>\n      <td>NaN</td>\n      <td>NaN</td>\n    </tr>\n    <tr>\n      <th>103</th>\n      <td>11633</td>\n      <td>https://www.procyclingstats.com/rider/ido-bear</td>\n      <td>NaN</td>\n      <td>NaN</td>\n      <td>BEAR Ido</td>\n      <td>NaN</td>\n      <td>NaN</td>\n    </tr>\n    <tr>\n      <th>104</th>\n      <td>11634</td>\n      <td>https://www.procyclingstats.com/rider/el-chokri</td>\n      <td>NaN</td>\n      <td>NaN</td>\n      <td>CHOKRI El Mehdi</td>\n      <td>NaN</td>\n      <td>NaN</td>\n    </tr>\n    <tr>\n      <th>105</th>\n      <td>11635</td>\n      <td>https://www.procyclingstats.com/rider/eitan-levi</td>\n      <td>NaN</td>\n      <td>NaN</td>\n      <td>LEVI Eitan</td>\n      <td>NaN</td>\n      <td>NaN</td>\n    </tr>\n    <tr>\n      <th>106</th>\n      <td>11636</td>\n      <td>https://www.procyclingstats.com/rider/carson-m...</td>\n      <td>NaN</td>\n      <td>NaN</td>\n      <td>MILES Carson</td>\n      <td>NaN</td>\n      <td>NaN</td>\n    </tr>\n  </tbody>\n</table>\n<p>107 rows × 7 columns</p>\n</div>"
     },
     "execution_count": 203,
     "metadata": {},
     "output_type": "execute_result"
    }
   ],
   "source": [
    "ISN_merged_strava_urls_readable = ISN_merged_strava_urls.copy()\n",
    "ISN_merged_strava_urls_readable['full_name'] = merged_cyclists_urls['full_name']\n",
    "ISN_merged_strava_urls_readable"
   ],
   "metadata": {
    "collapsed": false,
    "pycharm": {
     "name": "#%%\n"
    }
   }
  },
  {
   "cell_type": "code",
   "execution_count": 204,
   "outputs": [
    {
     "data": {
      "text/plain": "     cyclist_id  team_id  season cyclist_status  start_date   stop_date\n0         11614     2023    2023          rider  2023-01-01  2023-12-31\n1         11597     2023    2022          rider  2022-01-01  2022-12-31\n2         11615     2023    2022          rider  2022-01-01  2022-12-31\n3         11616     2023    2022          rider  2022-01-01  2022-12-31\n4         11617     2023    2022          rider  2022-01-01  2022-12-31\n..          ...      ...     ...            ...         ...         ...\n259        2460       75    2015          rider  2015-07-02  2015-12-31\n260       11612       75    2015          rider  2015-01-01  2015-12-31\n261       11601       75    2015          rider  2015-01-01  2015-12-31\n262       11480       75    2015          rider  2015-04-17  2015-12-31\n263       11613       75    2015          rider  2015-01-01  2015-12-31\n\n[264 rows x 6 columns]",
      "text/html": "<div>\n<style scoped>\n    .dataframe tbody tr th:only-of-type {\n        vertical-align: middle;\n    }\n\n    .dataframe tbody tr th {\n        vertical-align: top;\n    }\n\n    .dataframe thead th {\n        text-align: right;\n    }\n</style>\n<table border=\"1\" class=\"dataframe\">\n  <thead>\n    <tr style=\"text-align: right;\">\n      <th></th>\n      <th>cyclist_id</th>\n      <th>team_id</th>\n      <th>season</th>\n      <th>cyclist_status</th>\n      <th>start_date</th>\n      <th>stop_date</th>\n    </tr>\n  </thead>\n  <tbody>\n    <tr>\n      <th>0</th>\n      <td>11614</td>\n      <td>2023</td>\n      <td>2023</td>\n      <td>rider</td>\n      <td>2023-01-01</td>\n      <td>2023-12-31</td>\n    </tr>\n    <tr>\n      <th>1</th>\n      <td>11597</td>\n      <td>2023</td>\n      <td>2022</td>\n      <td>rider</td>\n      <td>2022-01-01</td>\n      <td>2022-12-31</td>\n    </tr>\n    <tr>\n      <th>2</th>\n      <td>11615</td>\n      <td>2023</td>\n      <td>2022</td>\n      <td>rider</td>\n      <td>2022-01-01</td>\n      <td>2022-12-31</td>\n    </tr>\n    <tr>\n      <th>3</th>\n      <td>11616</td>\n      <td>2023</td>\n      <td>2022</td>\n      <td>rider</td>\n      <td>2022-01-01</td>\n      <td>2022-12-31</td>\n    </tr>\n    <tr>\n      <th>4</th>\n      <td>11617</td>\n      <td>2023</td>\n      <td>2022</td>\n      <td>rider</td>\n      <td>2022-01-01</td>\n      <td>2022-12-31</td>\n    </tr>\n    <tr>\n      <th>...</th>\n      <td>...</td>\n      <td>...</td>\n      <td>...</td>\n      <td>...</td>\n      <td>...</td>\n      <td>...</td>\n    </tr>\n    <tr>\n      <th>259</th>\n      <td>2460</td>\n      <td>75</td>\n      <td>2015</td>\n      <td>rider</td>\n      <td>2015-07-02</td>\n      <td>2015-12-31</td>\n    </tr>\n    <tr>\n      <th>260</th>\n      <td>11612</td>\n      <td>75</td>\n      <td>2015</td>\n      <td>rider</td>\n      <td>2015-01-01</td>\n      <td>2015-12-31</td>\n    </tr>\n    <tr>\n      <th>261</th>\n      <td>11601</td>\n      <td>75</td>\n      <td>2015</td>\n      <td>rider</td>\n      <td>2015-01-01</td>\n      <td>2015-12-31</td>\n    </tr>\n    <tr>\n      <th>262</th>\n      <td>11480</td>\n      <td>75</td>\n      <td>2015</td>\n      <td>rider</td>\n      <td>2015-04-17</td>\n      <td>2015-12-31</td>\n    </tr>\n    <tr>\n      <th>263</th>\n      <td>11613</td>\n      <td>75</td>\n      <td>2015</td>\n      <td>rider</td>\n      <td>2015-01-01</td>\n      <td>2015-12-31</td>\n    </tr>\n  </tbody>\n</table>\n<p>264 rows × 6 columns</p>\n</div>"
     },
     "execution_count": 204,
     "metadata": {},
     "output_type": "execute_result"
    }
   ],
   "source": [
    "cyclists_teams_ISN_df = pd.read_csv('./data/cyclists_teams_ISN.csv')\n",
    "cyclists_teams_ISN_df"
   ],
   "metadata": {
    "collapsed": false,
    "pycharm": {
     "name": "#%%\n"
    }
   }
  },
  {
   "cell_type": "code",
   "execution_count": 230,
   "outputs": [
    {
     "data": {
      "text/plain": "{1: 92328,\n 2: 92328,\n 3: 92328,\n 4: 92328,\n 5: 92328,\n 6: 92328,\n 7: 92328,\n 8: 92328,\n 9: 92328,\n 10: 92328,\n 11: 81832,\n 12: 81832,\n 13: 81832,\n 14: 81832,\n 15: 81832,\n 16: 81832,\n 17: 81832,\n 18: 81832,\n 19: 81832,\n 20: 9448,\n 21: 9448,\n 22: 9448,\n 23: 9448,\n 24: 47317,\n 25: 47317,\n 26: 47317,\n 27: 47317,\n 28: 47317,\n 29: 75786,\n 30: 75786,\n 31: 75786,\n 32: 75786,\n 33: 75786,\n 34: 23592,\n 35: 23592,\n 36: 23592,\n 37: 23592,\n 38: 23592,\n 39: 23592,\n 40: 23592,\n 41: 23592,\n 42: 23592,\n 43: 23592,\n 44: 23592,\n 45: 23592,\n 46: 23592,\n 47: 23592,\n 48: 23592,\n 49: 23592,\n 50: 85190,\n 51: 85190,\n 52: 85190,\n 53: 85190,\n 54: 85190,\n 55: 85190,\n 56: 85190,\n 57: 85190,\n 58: 85190,\n 59: 85190,\n 60: 2602,\n 61: 2602,\n 62: 2602,\n 63: 2602,\n 64: 44489,\n 65: 44489,\n 66: 44489,\n 67: 44489,\n 68: 44489,\n 69: 44489,\n 70: 44489,\n 71: 44489,\n 72: 44489,\n 73: 25168,\n 74: 25168,\n 75: 25168,\n 76: 90530,\n 77: 90530,\n 78: 90530,\n 79: 90530,\n 80: 90530,\n 81: 90530,\n 82: 90530,\n 83: 90530,\n 84: 90530,\n 85: 90530,\n 86: 90530,\n 87: 90530,\n 88: 90530,\n 89: 90530,\n 90: 90530,\n 91: 90530,\n 92: 90530,\n 93: 90530,\n 94: 90530,\n 95: 90530,\n 96: 90530,\n 97: 90530,\n 98: 96869,\n 99: 96869,\n 100: 96869,\n 101: 96869,\n 102: 96869,\n 103: 96869,\n 104: 96869,\n 105: 96869,\n 106: 96869,\n 107: 96869,\n 108: 96869,\n 109: 96869,\n 110: 96869,\n 111: 45985,\n 112: 45985,\n 113: 45985,\n 114: 45985,\n 115: 45985,\n 116: 45985,\n 117: 45985,\n 118: 45985,\n 119: 11892,\n 120: 11892,\n 121: 11892,\n 122: 11892,\n 123: 11892,\n 124: 11892,\n 125: 94144,\n 126: 94144,\n 127: 94144,\n 128: 94144,\n 129: 94144,\n 130: 94144,\n 131: 94144,\n 132: 94144,\n 133: 64853,\n 134: 64853,\n 135: 64853,\n 136: 64853,\n 137: 64853,\n 138: 64853,\n 139: 64853,\n 140: 64853,\n 141: 64853,\n 142: 40101,\n 143: 40101,\n 144: 40101,\n 145: 40101,\n 146: 40101,\n 147: 20728,\n 148: 20728,\n 149: 20728,\n 150: 20728,\n 151: 20728,\n 152: 20728,\n 153: 20728,\n 154: 20728,\n 155: 20728,\n 156: 20728,\n 157: 20728,\n 158: 20728,\n 159: 50376,\n 160: 50376,\n 161: 50376,\n 162: 50376,\n 163: 97415,\n 164: 97415,\n 165: 97415,\n 166: 97415,\n 167: 97415,\n 168: 66212,\n 169: 66212,\n 170: 66212,\n 171: 66212,\n 172: 66212,\n 173: 66212,\n 174: 66212,\n 175: 66212,\n 176: 66212,\n 177: 66212,\n 178: 66212,\n 179: 66212,\n 180: 66212,\n 181: 66212,\n 182: 66212,\n 183: 66212,\n 184: 66212,\n 185: 66212,\n 186: 66212,\n 187: 66212,\n 188: 66212,\n 189: 66212,\n 190: 66212,\n 191: 43893,\n 192: 43893,\n 193: 43893,\n 194: 43893,\n 195: 43893,\n 196: 43893,\n 197: 95697,\n 198: 95697,\n 199: 95697,\n 200: 95697,\n 201: 95697,\n 202: 95697,\n 203: 13692,\n 204: 13692,\n 205: 72008,\n 206: 72008,\n 207: 72008,\n 208: 72008,\n 209: 72008,\n 210: 72008,\n 211: 72008,\n 212: 72008,\n 213: 72008,\n 214: 72008,\n 215: 72008,\n 216: 72008,\n 217: 72008,\n 218: 72008,\n 219: 72008,\n 220: 72008,\n 221: 72008,\n 222: 72008,\n 223: 72008,\n 224: 72008,\n 225: 95474,\n 226: 95474,\n 227: 95474,\n 228: 95474,\n 229: 69321,\n 230: 86188,\n 231: 86188,\n 232: 86188,\n 233: 86188,\n 234: 99117,\n 235: 99117,\n 236: 99117,\n 237: 10883,\n 238: 10883,\n 239: 10883,\n 240: 10883,\n 241: 10883,\n 242: 10883,\n 243: 10883,\n 244: 10883,\n 245: 21536,\n 246: 21536,\n 247: 21536,\n 248: 21536,\n 249: 21536,\n 250: 21536,\n 251: 21536,\n 252: 54289,\n 253: 54289,\n 254: 54289,\n 255: 54289,\n 256: 54289,\n 257: 54289,\n 258: 54289,\n 259: 54289,\n 260: 66882,\n 261: 66882,\n 262: 66882,\n 263: 66882,\n 264: 66882,\n 265: 23212,\n 266: 23212,\n 267: 23212,\n 268: 23212,\n 269: 23212,\n 270: 23212,\n 271: 23212,\n 272: 23212,\n 273: 23212,\n 274: 23212,\n 275: 23212,\n 276: 66126,\n 277: 66126,\n 278: 66126,\n 279: 66126,\n 280: 66126,\n 281: 66126,\n 282: 15623,\n 283: 15623,\n 284: 15623,\n 285: 15623,\n 286: 15623,\n 287: 15623,\n 288: 15623,\n 289: 18350,\n 290: 18350,\n 291: 18350,\n 292: 18350,\n 293: 18350,\n 294: 18350,\n 295: 18350,\n 296: 18350,\n 297: 31035,\n 298: 31035,\n 299: 31035,\n 300: 31035,\n 301: 31035,\n 302: 31035,\n 303: 31035,\n 304: 31035,\n 305: 31035,\n 306: 31035,\n 307: 31035,\n 308: 40985,\n 309: 40985,\n 310: 78674,\n 311: 78674,\n 312: 78674,\n 313: 78674,\n 314: 78674,\n 315: 78674,\n 316: 78674,\n 317: 78674,\n 318: 78674,\n 319: 31847,\n 320: 31847,\n 321: 31847,\n 322: 31847,\n 323: 95448,\n 324: 95448,\n 325: 95448,\n 326: 95448,\n 327: 78675,\n 328: 78675,\n 329: 78675,\n 330: 78675,\n 331: 78675,\n 332: 78675,\n 333: 78675,\n 334: 78675,\n 335: 8613,\n 336: 8613,\n 337: 52975,\n 338: 52975,\n 339: 52975,\n 340: 52975,\n 341: 52975,\n 342: 52975,\n 343: 52975,\n 344: 52975,\n 345: 52975,\n 346: 76413,\n 347: 76413,\n 348: 76413,\n 349: 43737,\n 350: 43737,\n 351: 43737,\n 352: 43737,\n 353: 63124,\n 354: 77720,\n 355: 77720,\n 356: 77720,\n 357: 77720,\n 358: 77720,\n 359: 77720,\n 360: 77720,\n 361: 77720,\n 362: 77720,\n 363: 20177,\n 364: 20177,\n 365: 20177,\n 366: 20177,\n 367: 20177,\n 368: 20177,\n 369: 20177,\n 370: 52948,\n 371: 52948,\n 372: 52948,\n 373: 52948,\n 374: 52948,\n 375: 52948,\n 376: 52948,\n 377: 47571,\n 378: 47571,\n 379: 47571,\n 380: 44523,\n 381: 44523,\n 382: 44523,\n 383: 44523,\n 384: 44523,\n 385: 44523,\n 386: 1425,\n 387: 91299,\n 388: 91299,\n 389: 91299,\n 390: 91299,\n 391: 91299,\n 392: 91299,\n 393: 91299,\n 394: 91299,\n 395: 91299,\n 396: 91299,\n 397: 91299,\n 398: 8471,\n 399: 8471,\n 400: 8471,\n 401: 8471,\n 402: 8471,\n 403: 42451,\n 404: 36859,\n 405: 36859,\n 406: 36859,\n 407: 36859,\n 408: 88663,\n 409: 88663,\n 410: 88663,\n 411: 88663,\n 412: 88663,\n 413: 88663,\n 414: 88663,\n 415: 45903,\n 416: 45903,\n 417: 95757,\n 418: 95757,\n 419: 95757,\n 420: 95757,\n 421: 95757,\n 422: 95757,\n 423: 95757,\n 424: 95757,\n 425: 56578,\n 426: 56578,\n 427: 56578,\n 428: 56578,\n 429: 56578,\n 430: 6519,\n 431: 6519,\n 432: 6519,\n 433: 6519,\n 434: 6519,\n 435: 6519,\n 436: 6519,\n 437: 6519,\n 438: 6519,\n 439: 6519,\n 440: 6519,\n 441: 6519,\n 442: 46312,\n 443: 46312,\n 444: 30891,\n 445: 30891,\n 446: 30891,\n 447: 30891,\n 448: 30891,\n 449: 30891,\n 450: 50853,\n 451: 50853,\n 452: 50853,\n 453: 97813,\n 454: 97813,\n 455: 97813,\n 456: 97813,\n 457: 97813,\n 458: 97813,\n 459: 14168,\n 460: 14168,\n 461: 14168,\n 462: 54202,\n 463: 54202,\n 464: 54202,\n 465: 54202,\n 466: 54202,\n 467: 54202,\n 468: 54202,\n 469: 54202,\n 470: 54202,\n 471: 60084,\n 472: 60084,\n 473: 60084,\n 474: 60084,\n 475: 13283,\n 476: 13283,\n 477: 13283,\n 478: 13283,\n 479: 13283,\n 480: 28702,\n 481: 28702,\n 482: 28702,\n 483: 28702,\n 484: 28702,\n 485: 28702,\n 486: 28702,\n 487: 99337,\n 488: 99337,\n 489: 99337,\n 490: 99337,\n 491: 99337,\n 492: 99337,\n 493: 99337,\n 494: 99337,\n 495: 99337,\n 496: 99337,\n 497: 3188,\n 498: 10372,\n 499: 10372,\n 500: 10372,\n 501: 10372,\n 502: 10372,\n 503: 10372,\n 504: 10372,\n 505: 7426,\n 506: 7426,\n 507: 23756,\n 508: 23756,\n 509: 23756,\n 510: 86593,\n 511: 41115,\n 512: 41115,\n 513: 41115,\n 514: 41115,\n 515: 41115,\n 516: 41115,\n 517: 40162,\n 518: 40162,\n 519: 54964,\n 520: 80036,\n 521: 80036,\n 522: 80036,\n 523: 80036,\n 524: 80036,\n 525: 48890,\n 526: 48890,\n 527: 48890,\n 528: 6977,\n 529: 6977,\n 530: 25065,\n 531: 25065,\n 532: 25065,\n 533: 25065,\n 534: 25065,\n 535: 25065,\n 536: 25065,\n 537: 25065,\n 538: 25065,\n 539: 25065,\n 540: 94329,\n 541: 94329,\n 542: 94329,\n 543: 94329,\n 544: 94329,\n 545: 94329,\n 546: 94329,\n 547: 94329,\n 548: 94329,\n 549: 94329,\n 550: 94329,\n 551: 94329,\n 552: 94329,\n 553: 94329,\n 554: 94329,\n 555: 94329,\n 556: 94329,\n 557: 94329,\n 558: 94329,\n 559: 94329,\n 560: 94329,\n 561: 94329,\n 562: 94329,\n 563: 12923,\n 564: 92724,\n 565: 69346,\n 566: 67330,\n 567: 33768,\n 568: 33768,\n 569: 54712,\n 570: 54712,\n 571: 69730,\n 572: 69730,\n 573: 69730,\n 574: 69730,\n 575: 69730,\n 576: 69730,\n 577: 69730,\n 578: 69730,\n 579: 69730,\n 580: 69730,\n 581: 69730,\n 582: 69730,\n 583: 69730,\n 584: 93810,\n 585: 93810,\n 586: 93810,\n 587: 3051,\n 588: 55236,\n 589: 55236,\n 590: 55236,\n 591: 55236,\n 592: 55236,\n 593: 91629,\n 594: 91629,\n 595: 91629,\n 596: 91629,\n 597: 76788,\n 598: 52648,\n 599: 52648,\n 600: 52648,\n 601: 52648,\n 602: 52648,\n 603: 52648,\n 604: 52648,\n 605: 52648,\n 606: 52648,\n 607: 52648,\n 608: 52648,\n 609: 46263,\n 610: 46263,\n 611: 46263,\n 612: 5912,\n 613: 5912,\n 614: 5912,\n 615: 5912,\n 616: 5912,\n 617: 5912,\n 618: 5912,\n 619: 5912,\n 620: 5912,\n 621: 11013,\n 622: 11013,\n 623: 11013,\n 624: 11013,\n 625: 11013,\n 626: 66662,\n 627: 13464,\n 628: 90812,\n 629: 90812,\n 630: 90812,\n 631: 90812,\n 632: 90812,\n 633: 90812,\n 634: 90812,\n 635: 41064,\n 636: 50275,\n 637: 50275,\n 638: 50275,\n 639: 50275,\n 640: 50275,\n 641: 50275,\n 642: 50275,\n 643: 50275,\n 644: 50275,\n 645: 50275,\n 646: 91728,\n 647: 91728,\n 648: 91728,\n 649: 91728,\n 650: 91728,\n 651: 16410,\n 652: 33220,\n 653: 94167,\n 654: 94167,\n 655: 94167,\n 656: 94167,\n 657: 94167,\n 658: 94167,\n 659: 94167,\n 660: 8956,\n 661: 8956,\n 662: 80637,\n 663: 46999,\n 664: 46999,\n 665: 66104,\n 666: 66104,\n 667: 66104,\n 668: 24050,\n 669: 95882,\n 670: 25434,\n 671: 25434,\n 672: 59614,\n 673: 59614,\n 674: 59614,\n 675: 59614,\n 676: 59614,\n 677: 59614,\n 678: 59614,\n 679: 59614,\n 680: 59614,\n 681: 59614,\n 682: 38017,\n 683: 38017,\n 684: 38017,\n 685: 28133,\n 686: 28133,\n 687: 9478,\n 688: 9478,\n 689: 9478,\n 690: 9478,\n 691: 9478,\n 692: 9478,\n 693: 9478,\n 694: 9478,\n 695: 9478,\n 696: 9478,\n 697: 9478,\n 698: 26420,\n 699: 26420,\n 700: 26420,\n 701: 26420,\n 702: 26420,\n 703: 26420,\n 704: 26420,\n 705: 22012,\n 706: 22012,\n 707: 22012,\n 708: 22012,\n 709: 54488,\n 710: 54488,\n 711: 54488,\n 712: 49842,\n 713: 49842,\n 714: 49842,\n 715: 49842,\n 716: 85405,\n 717: 85405,\n 718: 85405,\n 719: 85405,\n 720: 85405,\n 721: 59536,\n 722: 59536,\n 723: 59536,\n 724: 59536,\n 725: 59536,\n 726: 59536,\n 727: 59536,\n 728: 59536,\n 729: 59536,\n 730: 59536,\n 731: 59536,\n 732: 59536,\n 733: 59536,\n 734: 25214,\n 735: 88493,\n 736: 88493,\n 737: 88493,\n 738: 67862,\n 739: 67862,\n 740: 83769,\n 741: 57813,\n 742: 57813,\n 743: 57813,\n 744: 57813,\n 745: 57813,\n 746: 27427,\n 747: 27427,\n 748: 27427,\n 749: 37261,\n 750: 37261,\n 751: 37261,\n 752: 4002,\n 753: 4002,\n 754: 30409,\n 755: 85710,\n 756: 85710,\n 757: 85710,\n 758: 85710,\n 759: 85710,\n 760: 85710,\n 761: 85710,\n 762: 85710,\n 763: 85710,\n 764: 85710,\n 765: 85710,\n 766: 85710,\n 767: 85710,\n 768: 85710,\n 769: 85710,\n 770: 85710,\n 771: 85710,\n 772: 85710,\n 773: 85710,\n 774: 71492,\n 775: 71492,\n 776: 71492,\n 777: 59632,\n 778: 59632,\n 779: 59632,\n 780: 59632,\n 781: 59632,\n 782: 59632,\n 783: 59632,\n 784: 59632,\n 785: 59632,\n 786: 59632,\n 787: 11688,\n 788: 11688,\n 789: 11688,\n 790: 11688,\n 791: 11688,\n 792: 11688,\n 793: 11688,\n 794: 11688,\n 795: 33085,\n 796: 33085,\n 797: 90045,\n 798: 90045,\n 799: 90045,\n 800: 90045,\n 801: 90045,\n 802: 90045,\n 803: 90045,\n 804: 90045,\n 805: 90045,\n 806: 90045,\n 807: 90045,\n 808: 90045,\n 809: 90045,\n 810: 90045,\n 811: 90045,\n 812: 90045,\n 813: 47830,\n 814: 47830,\n 815: 47830,\n 816: 47830,\n 817: 30186,\n 818: 30186,\n 819: 30186,\n 820: 76224,\n 821: 76224,\n 822: 76224,\n 823: 76224,\n 824: 76224,\n 825: 76224,\n 826: 76224,\n 827: 76224,\n 828: 76224,\n 829: 76224,\n 830: 76224,\n 831: 87589,\n 832: 87589,\n 833: 87589,\n 834: 87589,\n 835: 87589,\n 836: 87589,\n 837: 87589,\n 838: 87589,\n 839: 87589,\n 840: 87589,\n 841: 87589,\n 842: 87589,\n 843: 87589,\n 844: 87589,\n 845: 87589,\n 846: 87589,\n 847: 87589,\n 848: 87589,\n 849: 46547,\n 850: 88114,\n 851: 88114,\n 852: 88114,\n 853: 88114,\n 854: 67882,\n 855: 67882,\n 856: 67882,\n 857: 67882,\n 858: 67882,\n 859: 67882,\n 860: 9466,\n 861: 9466,\n 862: 79570,\n 863: 79570,\n 864: 79570,\n 865: 79570,\n 866: 79570,\n 867: 79570,\n 868: 79570,\n 869: 79570,\n 870: 79570,\n 871: 18610,\n 872: 13600,\n 873: 24875,\n 874: 18873,\n 875: 18873,\n 876: 18873,\n 877: 88141,\n 878: 88141,\n 879: 88141,\n 880: 22558,\n 881: 22558,\n 882: 45007,\n 883: 45007,\n 884: 45007,\n 885: 46411,\n 886: 46411,\n 887: 5211,\n 888: 5211,\n 889: 8874,\n 890: 8874,\n 891: 8874,\n 892: 97041,\n 893: 97041,\n 894: 97041,\n 895: 97041,\n 896: 67448,\n 897: 67448,\n 898: 67448,\n 899: 67448,\n 900: 67448,\n 901: 67448,\n 902: 67448,\n 903: 97280,\n 904: 97280,\n 905: 97280,\n 906: 89555,\n 907: 85288,\n 908: 26380,\n 909: 26380,\n 910: 90779,\n 911: 90779,\n 912: 90779,\n 913: 90779,\n 914: 90779,\n 915: 90779,\n 916: 68202,\n 917: 68202,\n 918: 68202,\n 919: 68202,\n 920: 79123,\n 921: 79123,\n 922: 79123,\n 923: 79123,\n 924: 79123,\n 925: 79123,\n 926: 79123,\n 927: 79123,\n 928: 88295,\n 929: 88295,\n 930: 88295,\n 931: 88295,\n 932: 88295,\n 933: 88295,\n 934: 88295,\n 935: 88295,\n 936: 88295,\n 937: 88295,\n 938: 91726,\n 939: 45028,\n 940: 45028,\n 941: 91796,\n 942: 91796,\n 943: 91796,\n 944: 91796,\n 945: 50811,\n 946: 50811,\n 947: 50811,\n 948: 50811,\n 949: 50811,\n 950: 61112,\n 951: 61112,\n 952: 16293,\n 953: 16293,\n 954: 16293,\n 955: 16293,\n 956: 16293,\n 957: 16293,\n 958: 16293,\n 959: 41298,\n 960: 41298,\n 961: 41298,\n 962: 41298,\n 963: 41298,\n 964: 22524,\n 965: 37555,\n 966: 37555,\n 967: 60472,\n 968: 60472,\n 969: 60472,\n 970: 60472,\n 971: 72294,\n 972: 15213,\n 973: 15213,\n 974: 87114,\n 975: 1209,\n 976: 93930,\n 977: 28512,\n 978: 15558,\n 979: 98833,\n 980: 98833,\n 981: 98833,\n 982: 49634,\n 983: 39536,\n 984: 35049,\n 985: 45685,\n 986: 38473,\n 987: 26066,\n 988: 56088,\n 989: 56088,\n 990: 56088,\n 991: 60541,\n 992: 69195,\n 993: 66381,\n 994: 10257,\n 995: 23175,\n 996: 66852,\n 997: 66852,\n 998: 66852,\n 999: 66852,\n 1000: 66852,\n ...}"
     },
     "execution_count": 230,
     "metadata": {},
     "output_type": "execute_result"
    }
   ],
   "source": [
    "t_id_to_gen_id = {k: v for k, v in zip(teams_df['team_id'], teams_df['team_gen_id'])}\n",
    "t_id_to_gen_id"
   ],
   "metadata": {
    "collapsed": false,
    "pycharm": {
     "name": "#%%\n"
    }
   }
  },
  {
   "cell_type": "code",
   "execution_count": 231,
   "outputs": [
    {
     "data": {
      "text/plain": "   cyclist_id  team_id  season cyclist_status  start_date   stop_date  \\\n0       11614     2023    2023          rider  2023-01-01  2023-12-31   \n1       11614     2023    2022          rider  2022-01-01  2022-12-31   \n2       11597     2023    2022          rider  2022-01-01  2022-12-31   \n3       11597     2023    2021          rider  2021-01-01  2021-12-31   \n4       11597     2023    2020          rider  2020-01-01  2020-12-31   \n\n                                            pcs_link strava_link strava_id  \\\n0  https://www.procyclingstats.com/rider/cole-kes...         NaN       NaN   \n1  https://www.procyclingstats.com/rider/cole-kes...         NaN       NaN   \n2  https://www.procyclingstats.com/rider/yuval-be...         NaN       NaN   \n3  https://www.procyclingstats.com/rider/yuval-be...         NaN       NaN   \n4  https://www.procyclingstats.com/rider/yuval-be...         NaN       NaN   \n\n         full_name                               alon's url  fetched_from_pcs  \\\n0     KESSLER Cole                                      NaN               NaN   \n1     KESSLER Cole                                      NaN               NaN   \n2  BEN MOSHE Yuval  https://www.strava.com/athletes/3409968               0.0   \n3  BEN MOSHE Yuval  https://www.strava.com/athletes/3409968               0.0   \n4  BEN MOSHE Yuval  https://www.strava.com/athletes/3409968               0.0   \n\n                team_name  team_gen_id  \n0  Israel Cycling Academy        22341  \n1  Israel Cycling Academy        22341  \n2  Israel Cycling Academy        22341  \n3  Israel Cycling Academy        22341  \n4  Israel Cycling Academy        22341  ",
      "text/html": "<div>\n<style scoped>\n    .dataframe tbody tr th:only-of-type {\n        vertical-align: middle;\n    }\n\n    .dataframe tbody tr th {\n        vertical-align: top;\n    }\n\n    .dataframe thead th {\n        text-align: right;\n    }\n</style>\n<table border=\"1\" class=\"dataframe\">\n  <thead>\n    <tr style=\"text-align: right;\">\n      <th></th>\n      <th>cyclist_id</th>\n      <th>team_id</th>\n      <th>season</th>\n      <th>cyclist_status</th>\n      <th>start_date</th>\n      <th>stop_date</th>\n      <th>pcs_link</th>\n      <th>strava_link</th>\n      <th>strava_id</th>\n      <th>full_name</th>\n      <th>alon's url</th>\n      <th>fetched_from_pcs</th>\n      <th>team_name</th>\n      <th>team_gen_id</th>\n    </tr>\n  </thead>\n  <tbody>\n    <tr>\n      <th>0</th>\n      <td>11614</td>\n      <td>2023</td>\n      <td>2023</td>\n      <td>rider</td>\n      <td>2023-01-01</td>\n      <td>2023-12-31</td>\n      <td>https://www.procyclingstats.com/rider/cole-kes...</td>\n      <td>NaN</td>\n      <td>NaN</td>\n      <td>KESSLER Cole</td>\n      <td>NaN</td>\n      <td>NaN</td>\n      <td>Israel Cycling Academy</td>\n      <td>22341</td>\n    </tr>\n    <tr>\n      <th>1</th>\n      <td>11614</td>\n      <td>2023</td>\n      <td>2022</td>\n      <td>rider</td>\n      <td>2022-01-01</td>\n      <td>2022-12-31</td>\n      <td>https://www.procyclingstats.com/rider/cole-kes...</td>\n      <td>NaN</td>\n      <td>NaN</td>\n      <td>KESSLER Cole</td>\n      <td>NaN</td>\n      <td>NaN</td>\n      <td>Israel Cycling Academy</td>\n      <td>22341</td>\n    </tr>\n    <tr>\n      <th>2</th>\n      <td>11597</td>\n      <td>2023</td>\n      <td>2022</td>\n      <td>rider</td>\n      <td>2022-01-01</td>\n      <td>2022-12-31</td>\n      <td>https://www.procyclingstats.com/rider/yuval-be...</td>\n      <td>NaN</td>\n      <td>NaN</td>\n      <td>BEN MOSHE Yuval</td>\n      <td>https://www.strava.com/athletes/3409968</td>\n      <td>0.0</td>\n      <td>Israel Cycling Academy</td>\n      <td>22341</td>\n    </tr>\n    <tr>\n      <th>3</th>\n      <td>11597</td>\n      <td>2023</td>\n      <td>2021</td>\n      <td>rider</td>\n      <td>2021-01-01</td>\n      <td>2021-12-31</td>\n      <td>https://www.procyclingstats.com/rider/yuval-be...</td>\n      <td>NaN</td>\n      <td>NaN</td>\n      <td>BEN MOSHE Yuval</td>\n      <td>https://www.strava.com/athletes/3409968</td>\n      <td>0.0</td>\n      <td>Israel Cycling Academy</td>\n      <td>22341</td>\n    </tr>\n    <tr>\n      <th>4</th>\n      <td>11597</td>\n      <td>2023</td>\n      <td>2020</td>\n      <td>rider</td>\n      <td>2020-01-01</td>\n      <td>2020-12-31</td>\n      <td>https://www.procyclingstats.com/rider/yuval-be...</td>\n      <td>NaN</td>\n      <td>NaN</td>\n      <td>BEN MOSHE Yuval</td>\n      <td>https://www.strava.com/athletes/3409968</td>\n      <td>0.0</td>\n      <td>Israel Cycling Academy</td>\n      <td>22341</td>\n    </tr>\n  </tbody>\n</table>\n</div>"
     },
     "execution_count": 231,
     "metadata": {},
     "output_type": "execute_result"
    }
   ],
   "source": [
    "strava_urls_cyclists_in_teams = cyclists_teams_ISN_df.merge(ISN_merged_strava_urls_readable, on='cyclist_id')\n",
    "strava_urls_cyclists_in_teams['team_name'] = strava_urls_cyclists_in_teams['team_id'].map(t_id_to_name)\n",
    "strava_urls_cyclists_in_teams['team_gen_id'] = strava_urls_cyclists_in_teams['team_id'].map(t_id_to_gen_id)\n",
    "strava_urls_cyclists_in_teams.head()"
   ],
   "metadata": {
    "collapsed": false,
    "pycharm": {
     "name": "#%%\n"
    }
   }
  },
  {
   "cell_type": "code",
   "execution_count": 220,
   "outputs": [
    {
     "data": {
      "text/plain": "['', 2015, 2016, 2017, 2018, 2019, 2020, 2021, 2022, 2023, 2024]"
     },
     "execution_count": 220,
     "metadata": {},
     "output_type": "execute_result"
    }
   ],
   "source": [
    "columns = ['']\n",
    "years = strava_urls_cyclists_in_teams['season'].unique()\n",
    "years.sort()\n",
    "columns.extend(years)\n",
    "columns"
   ],
   "metadata": {
    "collapsed": false,
    "pycharm": {
     "name": "#%%\n"
    }
   }
  },
  {
   "cell_type": "code",
   "execution_count": 240,
   "outputs": [
    {
     "name": "stdout",
     "output_type": "stream",
     "text": [
      "    cyclist_id  team_id  season cyclist_status  start_date   stop_date  \\\n",
      "15       11619     2023    2020          rider  2020-01-01  2020-12-31   \n",
      "43        1649     2023    2020          rider  2020-01-01  2020-12-31   \n",
      "59       11601     2023    2020          rider  2020-01-01  2020-12-31   \n",
      "\n",
      "                                             pcs_link  \\\n",
      "15  https://www.procyclingstats.com/rider/edo-gold...   \n",
      "43  https://www.procyclingstats.com/rider/edwin-avila   \n",
      "59  https://www.procyclingstats.com/rider/daniel-t...   \n",
      "\n",
      "                                strava_link strava_id      full_name  \\\n",
      "15  https://www.strava.com/athletes/2739223   2739223  GOLDSTEIN Edo   \n",
      "43  https://www.strava.com/athletes/6094073   6094073    ÁVILA Edwin   \n",
      "59      https://www.strava.com/pros/2716222   2716222   TUREK Daniel   \n",
      "\n",
      "                                 alon's url  fetched_from_pcs  \\\n",
      "15                                      NaN               1.0   \n",
      "43  https://www.strava.com/athletes/6094073               1.0   \n",
      "59      https://www.strava.com/pros/2716222               1.0   \n",
      "\n",
      "                 team_name  team_gen_id  \n",
      "15  Israel Cycling Academy        22341  \n",
      "43  Israel Cycling Academy        22341  \n",
      "59  Israel Cycling Academy        22341  \n",
      "    cyclist_id  team_id  season cyclist_status  start_date   stop_date  \\\n",
      "4        11597     2023    2020          rider  2020-01-01  2020-12-31   \n",
      "53        7027     2023    2020          rider  2020-01-01  2020-12-31   \n",
      "55        8004     2023    2020          rider  2020-01-01  2020-12-31   \n",
      "\n",
      "                                             pcs_link strava_link strava_id  \\\n",
      "4   https://www.procyclingstats.com/rider/yuval-be...         NaN       NaN   \n",
      "53  https://www.procyclingstats.com/rider/freddy-o...         NaN       NaN   \n",
      "55  https://www.procyclingstats.com/rider/benjamin...         NaN       NaN   \n",
      "\n",
      "          full_name                               alon's url  \\\n",
      "4   BEN MOSHE Yuval  https://www.strava.com/athletes/3409968   \n",
      "53     OVETT Freddy      https://www.strava.com/pros/9503563   \n",
      "55   PERRY Benjamin   https://www.strava.com/athletes/812782   \n",
      "\n",
      "    fetched_from_pcs               team_name  team_gen_id  \n",
      "4                0.0  Israel Cycling Academy        22341  \n",
      "53               0.0  Israel Cycling Academy        22341  \n",
      "55               0.0  Israel Cycling Academy        22341  \n",
      "    cyclist_id  team_id  season cyclist_status  start_date   stop_date  \\\n",
      "10       11616     2023    2020          rider  2020-01-01  2020-12-31   \n",
      "31       11628     2023    2020          rider  2020-01-01  2020-12-31   \n",
      "33       11629     2023    2020          rider  2020-01-01  2020-12-31   \n",
      "39       11630     2023    2020          rider  2020-01-01  2020-12-31   \n",
      "41       11631     2023    2020          rider  2020-01-01  2020-12-31   \n",
      "46       11633     2023    2020          rider  2020-01-01  2020-12-31   \n",
      "47       11634     2023    2020          rider  2020-01-01  2020-12-31   \n",
      "48       11598     2023    2020          rider  2020-01-01  2020-12-31   \n",
      "51       11635     2023    2020          rider  2020-01-01  2020-12-31   \n",
      "52       11636     2023    2020          rider  2020-01-01  2020-12-31   \n",
      "\n",
      "                                             pcs_link strava_link strava_id  \\\n",
      "10  https://www.procyclingstats.com/rider/lahav-da...         NaN       NaN   \n",
      "31  https://www.procyclingstats.com/rider/saned-ab...         NaN       NaN   \n",
      "33  https://www.procyclingstats.com/rider/shlomi-h...         NaN       NaN   \n",
      "39   https://www.procyclingstats.com/rider/omer-lahav         NaN       NaN   \n",
      "41  https://www.procyclingstats.com/rider/robin-pl...         NaN       NaN   \n",
      "46     https://www.procyclingstats.com/rider/ido-bear         NaN       NaN   \n",
      "47    https://www.procyclingstats.com/rider/el-chokri         NaN       NaN   \n",
      "48  https://www.procyclingstats.com/rider/awet-geb...         NaN       NaN   \n",
      "51   https://www.procyclingstats.com/rider/eitan-levi         NaN       NaN   \n",
      "52  https://www.procyclingstats.com/rider/carson-m...         NaN       NaN   \n",
      "\n",
      "           full_name alon's url  fetched_from_pcs               team_name  \\\n",
      "10    DAVIDZON Lahav        NaN               NaN  Israel Cycling Academy   \n",
      "31   ABU-FARES Saned        NaN               NaN  Israel Cycling Academy   \n",
      "33      HAIMY Shlomi        NaN               NaN  Israel Cycling Academy   \n",
      "39        LAHAV Omer        NaN               NaN  Israel Cycling Academy   \n",
      "41   PLAMONDON Robin        NaN               NaN  Israel Cycling Academy   \n",
      "46          BEAR Ido        NaN               NaN  Israel Cycling Academy   \n",
      "47   CHOKRI El Mehdi        NaN               NaN  Israel Cycling Academy   \n",
      "48  GEBREMEDHIN Awet        NaN               NaN  Israel Cycling Academy   \n",
      "51        LEVI Eitan        NaN               NaN  Israel Cycling Academy   \n",
      "52      MILES Carson        NaN               NaN  Israel Cycling Academy   \n",
      "\n",
      "    team_gen_id  \n",
      "10        22341  \n",
      "31        22341  \n",
      "33        22341  \n",
      "39        22341  \n",
      "41        22341  \n",
      "46        22341  \n",
      "47        22341  \n",
      "48        22341  \n",
      "51        22341  \n",
      "52        22341  \n",
      "    cyclist_id  team_id  season cyclist_status  start_date   stop_date  \\\n",
      "14       11619     2023    2021          rider  2021-01-01  2021-12-31   \n",
      "17       11620     2023    2021          rider  2021-01-01  2021-12-31   \n",
      "19       11621     2023    2021          rider  2021-01-01  2021-12-31   \n",
      "21       11622     2023    2021          rider  2021-01-01  2021-12-31   \n",
      "25       11624     2023    2021          rider  2021-01-01  2021-12-31   \n",
      "28       11626     2023    2021          rider  2021-01-01  2021-12-31   \n",
      "34        6163     2023    2021          rider  2021-01-01  2021-06-30   \n",
      "\n",
      "                                             pcs_link  \\\n",
      "14  https://www.procyclingstats.com/rider/edo-gold...   \n",
      "17  https://www.procyclingstats.com/rider/mason-ho...   \n",
      "19   https://www.procyclingstats.com/rider/oded-kogut   \n",
      "21  https://www.procyclingstats.com/rider/alastair...   \n",
      "25  https://www.procyclingstats.com/rider/riley-pi...   \n",
      "28   https://www.procyclingstats.com/rider/rotem-tene   \n",
      "34    https://www.procyclingstats.com/rider/taj-jones   \n",
      "\n",
      "                                 strava_link strava_id           full_name  \\\n",
      "14   https://www.strava.com/athletes/2739223   2739223       GOLDSTEIN Edo   \n",
      "17  https://www.strava.com/athletes/12572856  12572856      HOLLYMAN Mason   \n",
      "19   https://www.strava.com/athletes/3168759   3168759          KOGUT Oded   \n",
      "21  https://www.strava.com/athletes/13429898  13429898  MACKELLAR Alastair   \n",
      "25   https://www.strava.com/athletes/8424173   8424173      PICKRELL Riley   \n",
      "28  https://www.strava.com/athletes/10445770  10445770          TENE Rotem   \n",
      "34  https://www.strava.com/athletes/11516170  11516170           JONES Taj   \n",
      "\n",
      "                                  alon's url  fetched_from_pcs  \\\n",
      "14                                       NaN               1.0   \n",
      "17                                       NaN               1.0   \n",
      "19                                       NaN               1.0   \n",
      "21                                       NaN               1.0   \n",
      "25                                       NaN               1.0   \n",
      "28                                       NaN               1.0   \n",
      "34  https://www.strava.com/athletes/11516170               1.0   \n",
      "\n",
      "                 team_name  team_gen_id  \n",
      "14  Israel Cycling Academy        22341  \n",
      "17  Israel Cycling Academy        22341  \n",
      "19  Israel Cycling Academy        22341  \n",
      "21  Israel Cycling Academy        22341  \n",
      "25  Israel Cycling Academy        22341  \n",
      "28  Israel Cycling Academy        22341  \n",
      "34  Israel Cycling Academy        22341  \n",
      "   cyclist_id  team_id  season cyclist_status  start_date   stop_date  \\\n",
      "3       11597     2023    2021          rider  2021-01-01  2021-12-31   \n",
      "\n",
      "                                            pcs_link strava_link strava_id  \\\n",
      "3  https://www.procyclingstats.com/rider/yuval-be...         NaN       NaN   \n",
      "\n",
      "         full_name                               alon's url  fetched_from_pcs  \\\n",
      "3  BEN MOSHE Yuval  https://www.strava.com/athletes/3409968               0.0   \n",
      "\n",
      "                team_name  team_gen_id  \n",
      "3  Israel Cycling Academy        22341  \n",
      "    cyclist_id  team_id  season cyclist_status  start_date   stop_date  \\\n",
      "7        11615     2023    2021          rider  2021-01-01  2021-12-31   \n",
      "9        11616     2023    2021          rider  2021-01-01  2021-12-31   \n",
      "30       11628     2023    2021          rider  2021-01-01  2021-12-31   \n",
      "32       11629     2023    2021          rider  2021-01-01  2021-12-31   \n",
      "38       11630     2023    2021          rider  2021-01-01  2021-12-31   \n",
      "40       11631     2023    2021          rider  2021-01-01  2021-12-31   \n",
      "42       11632     2023    2021          rider  2021-01-01  2021-12-31   \n",
      "\n",
      "                                             pcs_link strava_link strava_id  \\\n",
      "7   https://www.procyclingstats.com/rider/jakub-bo...         NaN       NaN   \n",
      "9   https://www.procyclingstats.com/rider/lahav-da...         NaN       NaN   \n",
      "30  https://www.procyclingstats.com/rider/saned-ab...         NaN       NaN   \n",
      "32  https://www.procyclingstats.com/rider/shlomi-h...         NaN       NaN   \n",
      "38   https://www.procyclingstats.com/rider/omer-lahav         NaN       NaN   \n",
      "40  https://www.procyclingstats.com/rider/robin-pl...         NaN       NaN   \n",
      "42  https://www.procyclingstats.com/rider/yuval-zahor         NaN       NaN   \n",
      "\n",
      "          full_name alon's url  fetched_from_pcs               team_name  \\\n",
      "7      BOUČEK Jakub        NaN               NaN  Israel Cycling Academy   \n",
      "9    DAVIDZON Lahav        NaN               NaN  Israel Cycling Academy   \n",
      "30  ABU-FARES Saned        NaN               NaN  Israel Cycling Academy   \n",
      "32     HAIMY Shlomi        NaN               NaN  Israel Cycling Academy   \n",
      "38       LAHAV Omer        NaN               NaN  Israel Cycling Academy   \n",
      "40  PLAMONDON Robin        NaN               NaN  Israel Cycling Academy   \n",
      "42      ZAHOR Yuval        NaN               NaN  Israel Cycling Academy   \n",
      "\n",
      "    team_gen_id  \n",
      "7         22341  \n",
      "9         22341  \n",
      "30        22341  \n",
      "32        22341  \n",
      "38        22341  \n",
      "40        22341  \n",
      "42        22341  \n",
      "    cyclist_id  team_id  season cyclist_status  start_date   stop_date  \\\n",
      "11       11617     2023    2022          rider  2022-01-01  2022-12-31   \n",
      "12       11618     2023    2022          rider  2022-01-01  2022-12-31   \n",
      "13       11619     2023    2022          rider  2022-01-01  2022-12-31   \n",
      "16       11620     2023    2022          rider  2022-01-01  2022-12-31   \n",
      "18       11621     2023    2022          rider  2022-01-01  2022-12-31   \n",
      "20       11622     2023    2022          rider  2022-01-01  2022-12-31   \n",
      "24       11624     2023    2022          rider  2022-01-01  2022-12-31   \n",
      "27       11626     2023    2022          rider  2022-01-01  2022-12-31   \n",
      "\n",
      "                                             pcs_link  \\\n",
      "11  https://www.procyclingstats.com/rider/marco-frigo   \n",
      "12    https://www.procyclingstats.com/rider/derek-gee   \n",
      "13  https://www.procyclingstats.com/rider/edo-gold...   \n",
      "16  https://www.procyclingstats.com/rider/mason-ho...   \n",
      "18   https://www.procyclingstats.com/rider/oded-kogut   \n",
      "20  https://www.procyclingstats.com/rider/alastair...   \n",
      "24  https://www.procyclingstats.com/rider/riley-pi...   \n",
      "27   https://www.procyclingstats.com/rider/rotem-tene   \n",
      "\n",
      "                                 strava_link strava_id           full_name  \\\n",
      "11       https://www.strava.com/pros/6913455   6913455         FRIGO Marco   \n",
      "12       https://www.strava.com/pros/5571896   5571896           GEE Derek   \n",
      "13   https://www.strava.com/athletes/2739223   2739223       GOLDSTEIN Edo   \n",
      "16  https://www.strava.com/athletes/12572856  12572856      HOLLYMAN Mason   \n",
      "18   https://www.strava.com/athletes/3168759   3168759          KOGUT Oded   \n",
      "20  https://www.strava.com/athletes/13429898  13429898  MACKELLAR Alastair   \n",
      "24   https://www.strava.com/athletes/8424173   8424173      PICKRELL Riley   \n",
      "27  https://www.strava.com/athletes/10445770  10445770          TENE Rotem   \n",
      "\n",
      "   alon's url  fetched_from_pcs               team_name  team_gen_id  \n",
      "11        NaN               1.0  Israel Cycling Academy        22341  \n",
      "12        NaN               1.0  Israel Cycling Academy        22341  \n",
      "13        NaN               1.0  Israel Cycling Academy        22341  \n",
      "16        NaN               1.0  Israel Cycling Academy        22341  \n",
      "18        NaN               1.0  Israel Cycling Academy        22341  \n",
      "20        NaN               1.0  Israel Cycling Academy        22341  \n",
      "24        NaN               1.0  Israel Cycling Academy        22341  \n",
      "27        NaN               1.0  Israel Cycling Academy        22341  \n",
      "   cyclist_id  team_id  season cyclist_status  start_date   stop_date  \\\n",
      "2       11597     2023    2022          rider  2022-01-01  2022-12-31   \n",
      "\n",
      "                                            pcs_link strava_link strava_id  \\\n",
      "2  https://www.procyclingstats.com/rider/yuval-be...         NaN       NaN   \n",
      "\n",
      "         full_name                               alon's url  fetched_from_pcs  \\\n",
      "2  BEN MOSHE Yuval  https://www.strava.com/athletes/3409968               0.0   \n",
      "\n",
      "                team_name  team_gen_id  \n",
      "2  Israel Cycling Academy        22341  \n",
      "    cyclist_id  team_id  season cyclist_status  start_date   stop_date  \\\n",
      "1        11614     2023    2022          rider  2022-01-01  2022-12-31   \n",
      "6        11615     2023    2022          rider  2022-01-01  2022-12-31   \n",
      "8        11616     2023    2022          rider  2022-01-01  2022-12-31   \n",
      "22       11288     2023    2022          rider  2022-01-01  2022-12-31   \n",
      "23       11623     2023    2022          rider  2022-01-01  2022-12-31   \n",
      "26       11625     2023    2022          rider  2022-01-01  2022-12-31   \n",
      "29       11627     2023    2022          rider  2022-01-01  2022-12-31   \n",
      "\n",
      "                                             pcs_link strava_link strava_id  \\\n",
      "1   https://www.procyclingstats.com/rider/cole-kes...         NaN       NaN   \n",
      "6   https://www.procyclingstats.com/rider/jakub-bo...         NaN       NaN   \n",
      "8   https://www.procyclingstats.com/rider/lahav-da...         NaN       NaN   \n",
      "22   https://www.procyclingstats.com/rider/simon-nagy         NaN       NaN   \n",
      "23  https://www.procyclingstats.com/rider/aviv-peretz         NaN       NaN   \n",
      "26  https://www.procyclingstats.com/rider/nadav-ra...         NaN       NaN   \n",
      "29  https://www.procyclingstats.com/rider/roi-wein...         NaN       NaN   \n",
      "\n",
      "         full_name alon's url  fetched_from_pcs               team_name  \\\n",
      "1     KESSLER Cole        NaN               NaN  Israel Cycling Academy   \n",
      "6     BOUČEK Jakub        NaN               NaN  Israel Cycling Academy   \n",
      "8   DAVIDZON Lahav        NaN               NaN  Israel Cycling Academy   \n",
      "22      NAGY Simon        NaN               NaN  Israel Cycling Academy   \n",
      "23     PERETZ Aviv        NaN               NaN  Israel Cycling Academy   \n",
      "26  RAISBERG Nadav        NaN               NaN  Israel Cycling Academy   \n",
      "29    WEINBERG Roi        NaN               NaN  Israel Cycling Academy   \n",
      "\n",
      "    team_gen_id  \n",
      "1         22341  \n",
      "6         22341  \n",
      "8         22341  \n",
      "22        22341  \n",
      "23        22341  \n",
      "26        22341  \n",
      "29        22341  \n",
      "Empty DataFrame\n",
      "Columns: [cyclist_id, team_id, season, cyclist_status, start_date, stop_date, pcs_link, strava_link, strava_id, full_name, alon's url, fetched_from_pcs, team_name, team_gen_id]\n",
      "Index: []\n",
      "Empty DataFrame\n",
      "Columns: [cyclist_id, team_id, season, cyclist_status, start_date, stop_date, pcs_link, strava_link, strava_id, full_name, alon's url, fetched_from_pcs, team_name, team_gen_id]\n",
      "Index: []\n",
      "   cyclist_id  team_id  season cyclist_status  start_date   stop_date  \\\n",
      "0       11614     2023    2023          rider  2023-01-01  2023-12-31   \n",
      "\n",
      "                                            pcs_link strava_link strava_id  \\\n",
      "0  https://www.procyclingstats.com/rider/cole-kes...         NaN       NaN   \n",
      "\n",
      "      full_name alon's url  fetched_from_pcs               team_name  \\\n",
      "0  KESSLER Cole        NaN               NaN  Israel Cycling Academy   \n",
      "\n",
      "   team_gen_id  \n",
      "0        22341  \n",
      "     cyclist_id  team_id  season cyclist_status  start_date   stop_date  \\\n",
      "64        11601       75    2015          rider  2015-01-01  2015-12-31   \n",
      "217       11599       75    2015          rider  2015-01-01  2015-04-30   \n",
      "\n",
      "                                              pcs_link  \\\n",
      "64   https://www.procyclingstats.com/rider/daniel-t...   \n",
      "217  https://www.procyclingstats.com/rider/roy-gold...   \n",
      "\n",
      "                                 strava_link strava_id      full_name  \\\n",
      "64       https://www.strava.com/pros/2716222   2716222   TUREK Daniel   \n",
      "217  https://www.strava.com/athletes/1492619   1492619  GOLDSTEIN Roy   \n",
      "\n",
      "                                  alon's url  fetched_from_pcs  \\\n",
      "64       https://www.strava.com/pros/2716222               1.0   \n",
      "217  https://www.strava.com/athletes/1492619               1.0   \n",
      "\n",
      "                team_name  team_gen_id  \n",
      "64   Cycling Academy Team        25168  \n",
      "217  Cycling Academy Team        25168  \n",
      "Empty DataFrame\n",
      "Columns: [cyclist_id, team_id, season, cyclist_status, start_date, stop_date, pcs_link, strava_link, strava_id, full_name, alon's url, fetched_from_pcs, team_name, team_gen_id]\n",
      "Index: []\n",
      "     cyclist_id  team_id  season cyclist_status  start_date   stop_date  \\\n",
      "165        2460       75    2015          rider  2015-07-02  2015-12-31   \n",
      "247       11606       75    2015          rider  2015-01-01  2015-12-31   \n",
      "251       11297       75    2015          rider  2015-01-01  2015-12-31   \n",
      "253       11608       75    2015          rider  2015-01-01  2015-12-31   \n",
      "256       11609       75    2015          rider  2015-01-01  2015-12-31   \n",
      "257         494       75    2015          rider  2015-06-10  2015-12-31   \n",
      "258       11610       75    2015          rider  2015-01-01  2015-12-31   \n",
      "259       11310       75    2015          rider  2015-01-01  2015-12-31   \n",
      "260       11611       75    2015          rider  2015-01-01  2015-12-31   \n",
      "261       11612       75    2015          rider  2015-01-01  2015-12-31   \n",
      "262       11480       75    2015          rider  2015-04-17  2015-12-31   \n",
      "263       11613       75    2015          rider  2015-01-01  2015-12-31   \n",
      "\n",
      "                                              pcs_link strava_link strava_id  \\\n",
      "165    https://www.procyclingstats.com/rider/guy-sagiv         NaN       NaN   \n",
      "247    https://www.procyclingstats.com/rider/gabay-guy         NaN       NaN   \n",
      "251  https://www.procyclingstats.com/rider/lubos-ma...         NaN       NaN   \n",
      "253  https://www.procyclingstats.com/rider/wociech-...         NaN       NaN   \n",
      "256  https://www.procyclingstats.com/rider/emanuel-...         NaN       NaN   \n",
      "257  https://www.procyclingstats.com/rider/antonio-...         NaN       NaN   \n",
      "258    https://www.procyclingstats.com/rider/yoav-bear         NaN       NaN   \n",
      "259  https://www.procyclingstats.com/rider/mario-dasko         NaN       NaN   \n",
      "260  https://www.procyclingstats.com/rider/ben-einh...         NaN       NaN   \n",
      "261  https://www.procyclingstats.com/rider/patryk-t...         NaN       NaN   \n",
      "262  https://www.procyclingstats.com/rider/bartosz-...         NaN       NaN   \n",
      "263  https://www.procyclingstats.com/rider/ido-zilb...         NaN       NaN   \n",
      "\n",
      "            full_name alon's url  fetched_from_pcs             team_name  \\\n",
      "165         SAGIV Guy        NaN               NaN  Cycling Academy Team   \n",
      "247         GABAY Guy        NaN               NaN  Cycling Academy Team   \n",
      "251     MALOVEC Ľuboš        NaN               NaN  Cycling Academy Team   \n",
      "253   MIGDAł Wojciech        NaN               NaN  Cycling Academy Team   \n",
      "256  PIASKOWY Emanuel        NaN               NaN  Cycling Academy Team   \n",
      "257    ANGULO Antonio        NaN               NaN  Cycling Academy Team   \n",
      "258         BEAR Yoav        NaN               NaN  Cycling Academy Team   \n",
      "259       DAŠKO Mário        NaN               NaN  Cycling Academy Team   \n",
      "260       EINHORN Ben        NaN               NaN  Cycling Academy Team   \n",
      "261     TALAGA Patryk        NaN               NaN  Cycling Academy Team   \n",
      "262   WARCHOŁ Bartosz        NaN               NaN  Cycling Academy Team   \n",
      "263   ZILBERSTEIN Ido        NaN               NaN  Cycling Academy Team   \n",
      "\n",
      "     team_gen_id  \n",
      "165        25168  \n",
      "247        25168  \n",
      "251        25168  \n",
      "253        25168  \n",
      "256        25168  \n",
      "257        25168  \n",
      "258        25168  \n",
      "259        25168  \n",
      "260        25168  \n",
      "261        25168  \n",
      "262        25168  \n",
      "263        25168  \n",
      "     cyclist_id  team_id  season cyclist_status  start_date   stop_date  \\\n",
      "63        11601       75    2016          rider  2016-01-01  2016-12-31   \n",
      "120        2434       75    2016          rider  2016-01-01  2016-12-31   \n",
      "141        4865       75    2016          rider  2016-07-10  2016-12-31   \n",
      "200        4605       75    2016          rider  2016-01-01  2016-12-31   \n",
      "216       11599       75    2016          rider  2016-05-30  2016-12-31   \n",
      "235       11603       75    2016          rider  2016-01-01  2016-12-31   \n",
      "254       10899       75    2016          rider  2016-01-01  2016-12-31   \n",
      "\n",
      "                                              pcs_link  \\\n",
      "63   https://www.procyclingstats.com/rider/daniel-t...   \n",
      "120  https://www.procyclingstats.com/rider/guillaum...   \n",
      "141  https://www.procyclingstats.com/rider/omer-gol...   \n",
      "200  https://www.procyclingstats.com/rider/mihkel-raim   \n",
      "216  https://www.procyclingstats.com/rider/roy-gold...   \n",
      "235   https://www.procyclingstats.com/rider/luis-lemus   \n",
      "254  https://www.procyclingstats.com/rider/marko-pa...   \n",
      "\n",
      "                                  strava_link strava_id         full_name  \\\n",
      "63        https://www.strava.com/pros/2716222   2716222      TUREK Daniel   \n",
      "120    https://www.strava.com/athletes/616061    616061  BOIVIN Guillaume   \n",
      "141  https://www.strava.com/athletes/36281396  36281396    GOLDSTEIN Omer   \n",
      "200       https://www.strava.com/pros/2469093   2469093       RÄIM Mihkel   \n",
      "216   https://www.strava.com/athletes/1492619   1492619     GOLDSTEIN Roy   \n",
      "235   https://www.strava.com/athletes/1150402   1150402        LEMUS Luis   \n",
      "254       https://www.strava.com/pros/1003912   1003912      PAVLIČ Marko   \n",
      "\n",
      "                                   alon's url  fetched_from_pcs  \\\n",
      "63        https://www.strava.com/pros/2716222               1.0   \n",
      "120    https://www.strava.com/athletes/616061               1.0   \n",
      "141  https://www.strava.com/athletes/36281396               1.0   \n",
      "200       https://www.strava.com/pros/2469093               1.0   \n",
      "216   https://www.strava.com/athletes/1492619               1.0   \n",
      "235   https://www.strava.com/athletes/1150402               1.0   \n",
      "254                                       NaN               1.0   \n",
      "\n",
      "                team_name  team_gen_id  \n",
      "63   Cycling Academy Team        25168  \n",
      "120  Cycling Academy Team        25168  \n",
      "141  Cycling Academy Team        25168  \n",
      "200  Cycling Academy Team        25168  \n",
      "216  Cycling Academy Team        25168  \n",
      "235  Cycling Academy Team        25168  \n",
      "254  Cycling Academy Team        25168  \n",
      "Empty DataFrame\n",
      "Columns: [cyclist_id, team_id, season, cyclist_status, start_date, stop_date, pcs_link, strava_link, strava_id, full_name, alon's url, fetched_from_pcs, team_name, team_gen_id]\n",
      "Index: []\n",
      "     cyclist_id  team_id  season cyclist_status  start_date   stop_date  \\\n",
      "164        2460       75    2016          rider  2016-01-01  2016-12-31   \n",
      "240       11605       75    2016          rider  2016-04-01  2016-12-31   \n",
      "242        8783       75    2016          rider  2016-01-01  2016-12-31   \n",
      "245         962       75    2016          rider  2016-01-01  2016-12-31   \n",
      "246       11606       75    2016          rider  2016-01-01  2016-12-31   \n",
      "248       11607       75    2016          rider  2016-04-01  2016-12-31   \n",
      "249        6790       75    2016          rider  2016-01-01  2016-12-31   \n",
      "250       11297       75    2016          rider  2016-01-01  2016-12-31   \n",
      "252       11608       75    2016          rider  2016-01-01  2016-12-31   \n",
      "255       11609       75    2016          rider  2016-01-01  2016-12-31   \n",
      "\n",
      "                                              pcs_link strava_link strava_id  \\\n",
      "164    https://www.procyclingstats.com/rider/guy-sagiv         NaN       NaN   \n",
      "240  https://www.procyclingstats.com/rider/aviv-yec...         NaN       NaN   \n",
      "242   https://www.procyclingstats.com/rider/dan-craven         NaN       NaN   \n",
      "245  https://www.procyclingstats.com/rider/chris-bu...         NaN       NaN   \n",
      "246    https://www.procyclingstats.com/rider/gabay-guy         NaN       NaN   \n",
      "248  https://www.procyclingstats.com/rider/zohar-ha...         NaN       NaN   \n",
      "249    https://www.procyclingstats.com/rider/max-korus         NaN       NaN   \n",
      "250  https://www.procyclingstats.com/rider/lubos-ma...         NaN       NaN   \n",
      "252  https://www.procyclingstats.com/rider/wociech-...         NaN       NaN   \n",
      "255  https://www.procyclingstats.com/rider/emanuel-...         NaN       NaN   \n",
      "\n",
      "            full_name alon's url  fetched_from_pcs             team_name  \\\n",
      "164         SAGIV Guy        NaN               NaN  Cycling Academy Team   \n",
      "240    YECHEZKEL Aviv        NaN               NaN  Cycling Academy Team   \n",
      "242        CRAVEN Dan        NaN               NaN  Cycling Academy Team   \n",
      "245      BUTLER Chris        NaN               NaN  Cycling Academy Team   \n",
      "246         GABAY Guy        NaN               NaN  Cycling Academy Team   \n",
      "248      HADARI Zohar        NaN               NaN  Cycling Academy Team   \n",
      "249         KORUS Max        NaN               NaN  Cycling Academy Team   \n",
      "250     MALOVEC Ľuboš        NaN               NaN  Cycling Academy Team   \n",
      "252   MIGDAł Wojciech        NaN               NaN  Cycling Academy Team   \n",
      "255  PIASKOWY Emanuel        NaN               NaN  Cycling Academy Team   \n",
      "\n",
      "     team_gen_id  \n",
      "164        25168  \n",
      "240        25168  \n",
      "242        25168  \n",
      "245        25168  \n",
      "246        25168  \n",
      "248        25168  \n",
      "249        25168  \n",
      "250        25168  \n",
      "252        25168  \n",
      "255        25168  \n",
      "     cyclist_id  team_id  season cyclist_status  start_date   stop_date  \\\n",
      "62        11601       74    2017          rider  2017-01-01  2017-12-31   \n",
      "119        2434       74    2017          rider  2017-01-01  2017-12-31   \n",
      "154        2457       74    2017        trainee  2017-08-01  2017-12-31   \n",
      "199        4605       74    2017          rider  2017-01-01  2017-12-31   \n",
      "207        6686       74    2017          rider  2017-01-01  2017-12-31   \n",
      "215       11599       74    2017          rider  2017-01-01  2017-12-31   \n",
      "227       11600       74    2017          rider  2017-01-01  2017-12-31   \n",
      "230       11602       74    2017          rider  2017-01-01  2017-12-31   \n",
      "232        3328       74    2017          rider  2017-01-01  2017-12-31   \n",
      "234       11603       74    2017          rider  2017-01-01  2017-12-31   \n",
      "237       11604       74    2017          rider  2017-01-01  2017-12-31   \n",
      "244        9038       74    2017        trainee  2017-08-01  2017-12-31   \n",
      "\n",
      "                                              pcs_link  \\\n",
      "62   https://www.procyclingstats.com/rider/daniel-t...   \n",
      "119  https://www.procyclingstats.com/rider/guillaum...   \n",
      "154      https://www.procyclingstats.com/rider/guy-niv   \n",
      "199  https://www.procyclingstats.com/rider/mihkel-raim   \n",
      "207  https://www.procyclingstats.com/rider/zakkari-...   \n",
      "215  https://www.procyclingstats.com/rider/roy-gold...   \n",
      "227  https://www.procyclingstats.com/rider/hamish-s...   \n",
      "230  https://www.procyclingstats.com/rider/dennis-v...   \n",
      "232  https://www.procyclingstats.com/rider/jose-man...   \n",
      "234   https://www.procyclingstats.com/rider/luis-lemus   \n",
      "237  https://www.procyclingstats.com/rider/tyler-wi...   \n",
      "244  https://www.procyclingstats.com/rider/nicolas-...   \n",
      "\n",
      "                                 strava_link strava_id          full_name  \\\n",
      "62       https://www.strava.com/pros/2716222   2716222       TUREK Daniel   \n",
      "119   https://www.strava.com/athletes/616061    616061   BOIVIN Guillaume   \n",
      "154  https://www.strava.com/athletes/4748635   4748635            NIV Guy   \n",
      "199      https://www.strava.com/pros/2469093   2469093        RÄIM Mihkel   \n",
      "207   https://www.strava.com/athletes/365015    365015       DEMPSTER Zak   \n",
      "215  https://www.strava.com/athletes/1492619   1492619      GOLDSTEIN Roy   \n",
      "227  https://www.strava.com/athletes/5943644   5943644    SCHREURS Hamish   \n",
      "230      https://www.strava.com/pros/2021447   2021447  VAN WINDEN Dennis   \n",
      "232  https://www.strava.com/athletes/3407398   3407398   DÍAZ José Manuel   \n",
      "234  https://www.strava.com/athletes/1150402   1150402         LEMUS Luis   \n",
      "237       https://www.strava.com/pros/174573    174573     WILLIAMS Tyler   \n",
      "244       https://www.strava.com/pros/644524    644524    SESSLER Nícolas   \n",
      "\n",
      "                                  alon's url  fetched_from_pcs  \\\n",
      "62       https://www.strava.com/pros/2716222               1.0   \n",
      "119   https://www.strava.com/athletes/616061               1.0   \n",
      "154  https://www.strava.com/athletes/4748635               1.0   \n",
      "199      https://www.strava.com/pros/2469093               1.0   \n",
      "207   https://www.strava.com/athletes/365015               1.0   \n",
      "215  https://www.strava.com/athletes/1492619               1.0   \n",
      "227  https://www.strava.com/athletes/5943644               1.0   \n",
      "230      https://www.strava.com/pros/2021447               1.0   \n",
      "232  https://www.strava.com/athletes/3407398               1.0   \n",
      "234  https://www.strava.com/athletes/1150402               1.0   \n",
      "237       https://www.strava.com/pros/174573               1.0   \n",
      "244       https://www.strava.com/pros/644524               1.0   \n",
      "\n",
      "                  team_name  team_gen_id  \n",
      "62   Israel Cycling Academy        25168  \n",
      "119  Israel Cycling Academy        25168  \n",
      "154  Israel Cycling Academy        25168  \n",
      "199  Israel Cycling Academy        25168  \n",
      "207  Israel Cycling Academy        25168  \n",
      "215  Israel Cycling Academy        25168  \n",
      "227  Israel Cycling Academy        25168  \n",
      "230  Israel Cycling Academy        25168  \n",
      "232  Israel Cycling Academy        25168  \n",
      "234  Israel Cycling Academy        25168  \n",
      "237  Israel Cycling Academy        25168  \n",
      "244  Israel Cycling Academy        25168  \n",
      "     cyclist_id  team_id  season cyclist_status  start_date   stop_date  \\\n",
      "58         8004       74    2017          rider  2017-01-01  2017-12-31   \n",
      "83         2671       74    2017        trainee  2017-08-01  2017-12-31   \n",
      "96         3666       74    2017          rider  2017-01-01  2017-12-31   \n",
      "243        2836       74    2017          rider  2017-01-01  2017-12-31   \n",
      "\n",
      "                                              pcs_link strava_link strava_id  \\\n",
      "58   https://www.procyclingstats.com/rider/benjamin...         NaN       NaN   \n",
      "83   https://www.procyclingstats.com/rider/itamar-e...         NaN       NaN   \n",
      "96   https://www.procyclingstats.com/rider/krists-n...         NaN       NaN   \n",
      "243  https://www.procyclingstats.com/rider/jason-lo...         NaN       NaN   \n",
      "\n",
      "           full_name                               alon's url  \\\n",
      "58    PERRY Benjamin   https://www.strava.com/athletes/812782   \n",
      "83    EINHORN Itamar  https://www.strava.com/athletes/5096617   \n",
      "96   NEILANDS Krists     https://www.strava.com/pros/12243285   \n",
      "243    LOWNDES Jason  https://www.strava.com/athletes/2009928   \n",
      "\n",
      "     fetched_from_pcs               team_name  team_gen_id  \n",
      "58                0.0  Israel Cycling Academy        25168  \n",
      "83                0.0  Israel Cycling Academy        25168  \n",
      "96                0.0  Israel Cycling Academy        25168  \n",
      "243               0.0  Israel Cycling Academy        25168  \n",
      "     cyclist_id  team_id  season cyclist_status  start_date   stop_date  \\\n",
      "163        2460       74    2017          rider  2017-01-01  2017-12-31   \n",
      "239       11605       74    2017          rider  2017-01-01  2017-12-31   \n",
      "241        8783       74    2017          rider  2017-01-01  2017-12-31   \n",
      "\n",
      "                                              pcs_link strava_link strava_id  \\\n",
      "163    https://www.procyclingstats.com/rider/guy-sagiv         NaN       NaN   \n",
      "239  https://www.procyclingstats.com/rider/aviv-yec...         NaN       NaN   \n",
      "241   https://www.procyclingstats.com/rider/dan-craven         NaN       NaN   \n",
      "\n",
      "          full_name alon's url  fetched_from_pcs               team_name  \\\n",
      "163       SAGIV Guy        NaN               NaN  Israel Cycling Academy   \n",
      "239  YECHEZKEL Aviv        NaN               NaN  Israel Cycling Academy   \n",
      "241      CRAVEN Dan        NaN               NaN  Israel Cycling Academy   \n",
      "\n",
      "     team_gen_id  \n",
      "163        25168  \n",
      "239        25168  \n",
      "241        25168  \n",
      "     cyclist_id  team_id  season cyclist_status  start_date   stop_date  \\\n",
      "45         1649       74    2018          rider  2018-01-01  2018-12-31   \n",
      "61        11601       74    2018          rider  2018-01-01  2018-12-31   \n",
      "89          653       74    2018          rider  2018-01-01  2018-12-31   \n",
      "118        2434       74    2018          rider  2018-01-01  2018-12-31   \n",
      "140        4865       74    2018          rider  2018-01-01  2018-12-31   \n",
      "153        2457       74    2018          rider  2018-01-01  2018-12-31   \n",
      "192        4372       74    2018        trainee  2018-08-01  2018-12-31   \n",
      "198        4605       74    2018          rider  2018-01-01  2018-12-31   \n",
      "204        1093       74    2018        trainee  2018-08-01  2018-12-31   \n",
      "206        6686       74    2018          rider  2018-01-01  2018-12-31   \n",
      "214       11599       74    2018          rider  2018-01-01  2018-12-31   \n",
      "219         613       74    2018          rider  2018-01-01  2018-12-31   \n",
      "224        3656       74    2018          rider  2018-01-01  2018-12-31   \n",
      "226       11600       74    2018          rider  2018-01-01  2018-12-31   \n",
      "229       11602       74    2018          rider  2018-01-01  2018-12-31   \n",
      "231        3328       74    2018          rider  2018-01-01  2018-12-31   \n",
      "233       11603       74    2018          rider  2018-01-01  2018-12-31   \n",
      "236       11604       74    2018          rider  2018-01-01  2018-12-31   \n",
      "\n",
      "                                              pcs_link  \\\n",
      "45   https://www.procyclingstats.com/rider/edwin-avila   \n",
      "61   https://www.procyclingstats.com/rider/daniel-t...   \n",
      "89   https://www.procyclingstats.com/rider/ben-hermans   \n",
      "118  https://www.procyclingstats.com/rider/guillaum...   \n",
      "140  https://www.procyclingstats.com/rider/omer-gol...   \n",
      "153      https://www.procyclingstats.com/rider/guy-niv   \n",
      "192  https://www.procyclingstats.com/rider/matteo-b...   \n",
      "198  https://www.procyclingstats.com/rider/mihkel-raim   \n",
      "204  https://www.procyclingstats.com/rider/clement-...   \n",
      "206  https://www.procyclingstats.com/rider/zakkari-...   \n",
      "214  https://www.procyclingstats.com/rider/roy-gold...   \n",
      "219  https://www.procyclingstats.com/rider/august-j...   \n",
      "224  https://www.procyclingstats.com/rider/kristian...   \n",
      "226  https://www.procyclingstats.com/rider/hamish-s...   \n",
      "229  https://www.procyclingstats.com/rider/dennis-v...   \n",
      "231  https://www.procyclingstats.com/rider/jose-man...   \n",
      "233   https://www.procyclingstats.com/rider/luis-lemus   \n",
      "236  https://www.procyclingstats.com/rider/tyler-wi...   \n",
      "\n",
      "                                  strava_link strava_id          full_name  \\\n",
      "45    https://www.strava.com/athletes/6094073   6094073        ÁVILA Edwin   \n",
      "61        https://www.strava.com/pros/2716222   2716222       TUREK Daniel   \n",
      "89     https://www.strava.com/athletes/593390    593390        HERMANS Ben   \n",
      "118    https://www.strava.com/athletes/616061    616061   BOIVIN Guillaume   \n",
      "140  https://www.strava.com/athletes/36281396  36281396     GOLDSTEIN Omer   \n",
      "153   https://www.strava.com/athletes/4748635   4748635            NIV Guy   \n",
      "192   https://www.strava.com/athletes/4419459   4419459   BADILATTI Matteo   \n",
      "198       https://www.strava.com/pros/2469093   2469093        RÄIM Mihkel   \n",
      "204   https://www.strava.com/athletes/1577875   1577875    CARISEY Clément   \n",
      "206    https://www.strava.com/athletes/365015    365015       DEMPSTER Zak   \n",
      "214   https://www.strava.com/athletes/1492619   1492619      GOLDSTEIN Roy   \n",
      "219  https://www.strava.com/athletes/18311935  18311935      JENSEN August   \n",
      "224   https://www.strava.com/athletes/2006007   2006007  SBARAGLI Kristian   \n",
      "226   https://www.strava.com/athletes/5943644   5943644    SCHREURS Hamish   \n",
      "229       https://www.strava.com/pros/2021447   2021447  VAN WINDEN Dennis   \n",
      "231   https://www.strava.com/athletes/3407398   3407398   DÍAZ José Manuel   \n",
      "233   https://www.strava.com/athletes/1150402   1150402         LEMUS Luis   \n",
      "236        https://www.strava.com/pros/174573    174573     WILLIAMS Tyler   \n",
      "\n",
      "                                   alon's url  fetched_from_pcs  \\\n",
      "45    https://www.strava.com/athletes/6094073               1.0   \n",
      "61        https://www.strava.com/pros/2716222               1.0   \n",
      "89     https://www.strava.com/athletes/593390               1.0   \n",
      "118    https://www.strava.com/athletes/616061               1.0   \n",
      "140  https://www.strava.com/athletes/36281396               1.0   \n",
      "153   https://www.strava.com/athletes/4748635               1.0   \n",
      "192   https://www.strava.com/athletes/4419459               1.0   \n",
      "198       https://www.strava.com/pros/2469093               1.0   \n",
      "204   https://www.strava.com/athletes/1577875               1.0   \n",
      "206    https://www.strava.com/athletes/365015               1.0   \n",
      "214   https://www.strava.com/athletes/1492619               1.0   \n",
      "219  https://www.strava.com/athletes/18311935               1.0   \n",
      "224   https://www.strava.com/athletes/2006007               1.0   \n",
      "226   https://www.strava.com/athletes/5943644               1.0   \n",
      "229       https://www.strava.com/pros/2021447               1.0   \n",
      "231   https://www.strava.com/athletes/3407398               1.0   \n",
      "233   https://www.strava.com/athletes/1150402               1.0   \n",
      "236        https://www.strava.com/pros/174573               1.0   \n",
      "\n",
      "                  team_name  team_gen_id  \n",
      "45   Israel Cycling Academy        25168  \n",
      "61   Israel Cycling Academy        25168  \n",
      "89   Israel Cycling Academy        25168  \n",
      "118  Israel Cycling Academy        25168  \n",
      "140  Israel Cycling Academy        25168  \n",
      "153  Israel Cycling Academy        25168  \n",
      "192  Israel Cycling Academy        25168  \n",
      "198  Israel Cycling Academy        25168  \n",
      "204  Israel Cycling Academy        25168  \n",
      "206  Israel Cycling Academy        25168  \n",
      "214  Israel Cycling Academy        25168  \n",
      "219  Israel Cycling Academy        25168  \n",
      "224  Israel Cycling Academy        25168  \n",
      "226  Israel Cycling Academy        25168  \n",
      "229  Israel Cycling Academy        25168  \n",
      "231  Israel Cycling Academy        25168  \n",
      "233  Israel Cycling Academy        25168  \n",
      "236  Israel Cycling Academy        25168  \n",
      "     cyclist_id  team_id  season cyclist_status  start_date   stop_date  \\\n",
      "57         8004       74    2018          rider  2018-01-01  2018-12-31   \n",
      "82         2671       74    2018        trainee  2018-08-01  2018-12-31   \n",
      "95         3666       74    2018          rider  2018-01-01  2018-12-31   \n",
      "210        4696       74    2018          rider  2018-01-01  2018-12-31   \n",
      "212        5967       74    2018          rider  2018-01-01  2018-12-31   \n",
      "\n",
      "                                              pcs_link strava_link strava_id  \\\n",
      "57   https://www.procyclingstats.com/rider/benjamin...         NaN       NaN   \n",
      "82   https://www.procyclingstats.com/rider/itamar-e...         NaN       NaN   \n",
      "95   https://www.procyclingstats.com/rider/krists-n...         NaN       NaN   \n",
      "210  https://www.procyclingstats.com/rider/nathan-e...         NaN       NaN   \n",
      "212  https://www.procyclingstats.com/rider/sondre-h...         NaN       NaN   \n",
      "\n",
      "              full_name                               alon's url  \\\n",
      "57       PERRY Benjamin   https://www.strava.com/athletes/812782   \n",
      "82       EINHORN Itamar  https://www.strava.com/athletes/5096617   \n",
      "95      NEILANDS Krists     https://www.strava.com/pros/12243285   \n",
      "210        EARLE Nathan      https://www.strava.com/pros/1005431   \n",
      "212  ENGER Sondre Holst  https://www.strava.com/athletes/4848740   \n",
      "\n",
      "     fetched_from_pcs               team_name  team_gen_id  \n",
      "57                0.0  Israel Cycling Academy        25168  \n",
      "82                0.0  Israel Cycling Academy        25168  \n",
      "95                0.0  Israel Cycling Academy        25168  \n",
      "210               0.0  Israel Cycling Academy        25168  \n",
      "212               0.0  Israel Cycling Academy        25168  \n",
      "     cyclist_id  team_id  season cyclist_status  start_date   stop_date  \\\n",
      "50        11598       74    2018          rider  2018-01-01  2018-12-31   \n",
      "162        2460       74    2018          rider  2018-01-01  2018-12-31   \n",
      "222        5645       74    2018          rider  2018-01-01  2018-12-31   \n",
      "238       11605       74    2018          rider  2018-01-01  2018-08-15   \n",
      "\n",
      "                                              pcs_link strava_link strava_id  \\\n",
      "50   https://www.procyclingstats.com/rider/awet-geb...         NaN       NaN   \n",
      "162    https://www.procyclingstats.com/rider/guy-sagiv         NaN       NaN   \n",
      "222  https://www.procyclingstats.com/rider/ruben-plaza         NaN       NaN   \n",
      "238  https://www.procyclingstats.com/rider/aviv-yec...         NaN       NaN   \n",
      "\n",
      "            full_name alon's url  fetched_from_pcs               team_name  \\\n",
      "50   GEBREMEDHIN Awet        NaN               NaN  Israel Cycling Academy   \n",
      "162         SAGIV Guy        NaN               NaN  Israel Cycling Academy   \n",
      "222       PLAZA Rubén        NaN               NaN  Israel Cycling Academy   \n",
      "238    YECHEZKEL Aviv        NaN               NaN  Israel Cycling Academy   \n",
      "\n",
      "     team_gen_id  \n",
      "50         25168  \n",
      "162        25168  \n",
      "222        25168  \n",
      "238        25168  \n",
      "     cyclist_id  team_id  season cyclist_status  start_date   stop_date  \\\n",
      "44         1649       74    2019          rider  2019-01-01  2019-12-31   \n",
      "60        11601       74    2019          rider  2019-01-01  2019-12-31   \n",
      "88          653       74    2019          rider  2019-01-01  2019-12-31   \n",
      "108        5654       74    2019          rider  2019-01-01  2019-12-31   \n",
      "117        2434       74    2019          rider  2019-01-01  2019-12-31   \n",
      "124        4407       74    2019          rider  2019-01-01  2019-12-31   \n",
      "128         203       74    2019          rider  2019-01-01  2019-12-31   \n",
      "139        4865       74    2019          rider  2019-01-01  2019-12-31   \n",
      "152        2457       74    2019          rider  2019-01-01  2019-12-31   \n",
      "169        6312       74    2019          rider  2019-01-01  2019-12-31   \n",
      "178        1403       74    2019          rider  2019-01-01  2019-12-31   \n",
      "187         261       74    2019        trainee  2019-08-01  2019-12-31   \n",
      "191        4372       74    2019          rider  2019-01-01  2019-12-31   \n",
      "197        4605       74    2019          rider  2019-01-01  2019-12-31   \n",
      "203        1093       74    2019          rider  2019-01-01  2019-12-31   \n",
      "205        6686       74    2019          rider  2019-01-01  2019-12-31   \n",
      "208        1113       74    2019          rider  2019-01-01  2019-12-31   \n",
      "213       11599       74    2019          rider  2019-01-01  2019-12-31   \n",
      "218         613       74    2019          rider  2019-01-01  2019-12-31   \n",
      "223        3656       74    2019          rider  2019-01-01  2019-12-31   \n",
      "225       11600       74    2019          rider  2019-01-01  2019-12-31   \n",
      "228       11602       74    2019          rider  2019-01-01  2019-12-31   \n",
      "\n",
      "                                              pcs_link  \\\n",
      "44   https://www.procyclingstats.com/rider/edwin-avila   \n",
      "60   https://www.procyclingstats.com/rider/daniel-t...   \n",
      "88   https://www.procyclingstats.com/rider/ben-hermans   \n",
      "108  https://www.procyclingstats.com/rider/rudy-bar...   \n",
      "117  https://www.procyclingstats.com/rider/guillaum...   \n",
      "124  https://www.procyclingstats.com/rider/matthias...   \n",
      "128  https://www.procyclingstats.com/rider/alexande...   \n",
      "139  https://www.procyclingstats.com/rider/omer-gol...   \n",
      "152      https://www.procyclingstats.com/rider/guy-niv   \n",
      "169  https://www.procyclingstats.com/rider/tom-van-...   \n",
      "178  https://www.procyclingstats.com/rider/davide-c...   \n",
      "187  https://www.procyclingstats.com/rider/alexis-r...   \n",
      "191  https://www.procyclingstats.com/rider/matteo-b...   \n",
      "197  https://www.procyclingstats.com/rider/mihkel-raim   \n",
      "203  https://www.procyclingstats.com/rider/clement-...   \n",
      "205  https://www.procyclingstats.com/rider/zakkari-...   \n",
      "208  https://www.procyclingstats.com/rider/conor-dunne   \n",
      "213  https://www.procyclingstats.com/rider/roy-gold...   \n",
      "218  https://www.procyclingstats.com/rider/august-j...   \n",
      "223  https://www.procyclingstats.com/rider/kristian...   \n",
      "225  https://www.procyclingstats.com/rider/hamish-s...   \n",
      "228  https://www.procyclingstats.com/rider/dennis-v...   \n",
      "\n",
      "                                  strava_link strava_id           full_name  \\\n",
      "44    https://www.strava.com/athletes/6094073   6094073         ÁVILA Edwin   \n",
      "60        https://www.strava.com/pros/2716222   2716222        TUREK Daniel   \n",
      "88     https://www.strava.com/athletes/593390    593390         HERMANS Ben   \n",
      "108   https://www.strava.com/athletes/7019829   7019829        BARBIER Rudy   \n",
      "117    https://www.strava.com/athletes/616061    616061    BOIVIN Guillaume   \n",
      "124        https://www.strava.com/pros/266080    266080    BRÄNDLE Matthias   \n",
      "128   https://www.strava.com/athletes/3490359   3490359  CATAFORD Alexander   \n",
      "139  https://www.strava.com/athletes/36281396  36281396      GOLDSTEIN Omer   \n",
      "152   https://www.strava.com/athletes/4748635   4748635             NIV Guy   \n",
      "169        https://www.strava.com/pros/387215    387215    VAN ASBROECK Tom   \n",
      "178      https://www.strava.com/pros/20904837  20904837      CIMOLAI Davide   \n",
      "187       https://www.strava.com/pros/5915515   5915515       RENARD Alexis   \n",
      "191   https://www.strava.com/athletes/4419459   4419459    BADILATTI Matteo   \n",
      "197       https://www.strava.com/pros/2469093   2469093         RÄIM Mihkel   \n",
      "203   https://www.strava.com/athletes/1577875   1577875     CARISEY Clément   \n",
      "205    https://www.strava.com/athletes/365015    365015        DEMPSTER Zak   \n",
      "208    https://www.strava.com/athletes/759393    759393         DUNNE Conor   \n",
      "213   https://www.strava.com/athletes/1492619   1492619       GOLDSTEIN Roy   \n",
      "218  https://www.strava.com/athletes/18311935  18311935       JENSEN August   \n",
      "223   https://www.strava.com/athletes/2006007   2006007   SBARAGLI Kristian   \n",
      "225   https://www.strava.com/athletes/5943644   5943644     SCHREURS Hamish   \n",
      "228       https://www.strava.com/pros/2021447   2021447   VAN WINDEN Dennis   \n",
      "\n",
      "                                   alon's url  fetched_from_pcs  \\\n",
      "44    https://www.strava.com/athletes/6094073               1.0   \n",
      "60        https://www.strava.com/pros/2716222               1.0   \n",
      "88     https://www.strava.com/athletes/593390               1.0   \n",
      "108   https://www.strava.com/athletes/7019829               1.0   \n",
      "117    https://www.strava.com/athletes/616061               1.0   \n",
      "124        https://www.strava.com/pros/266080               1.0   \n",
      "128   https://www.strava.com/athletes/3490359               1.0   \n",
      "139  https://www.strava.com/athletes/36281396               1.0   \n",
      "152   https://www.strava.com/athletes/4748635               1.0   \n",
      "169        https://www.strava.com/pros/387215               1.0   \n",
      "178      https://www.strava.com/pros/20904837               1.0   \n",
      "187       https://www.strava.com/pros/5915515               1.0   \n",
      "191   https://www.strava.com/athletes/4419459               1.0   \n",
      "197       https://www.strava.com/pros/2469093               1.0   \n",
      "203   https://www.strava.com/athletes/1577875               1.0   \n",
      "205    https://www.strava.com/athletes/365015               1.0   \n",
      "208    https://www.strava.com/athletes/759393               1.0   \n",
      "213   https://www.strava.com/athletes/1492619               1.0   \n",
      "218  https://www.strava.com/athletes/18311935               1.0   \n",
      "223   https://www.strava.com/athletes/2006007               1.0   \n",
      "225   https://www.strava.com/athletes/5943644               1.0   \n",
      "228       https://www.strava.com/pros/2021447               1.0   \n",
      "\n",
      "                  team_name  team_gen_id  \n",
      "44   Israel Cycling Academy        25168  \n",
      "60   Israel Cycling Academy        25168  \n",
      "88   Israel Cycling Academy        25168  \n",
      "108  Israel Cycling Academy        25168  \n",
      "117  Israel Cycling Academy        25168  \n",
      "124  Israel Cycling Academy        25168  \n",
      "128  Israel Cycling Academy        25168  \n",
      "139  Israel Cycling Academy        25168  \n",
      "152  Israel Cycling Academy        25168  \n",
      "169  Israel Cycling Academy        25168  \n",
      "178  Israel Cycling Academy        25168  \n",
      "187  Israel Cycling Academy        25168  \n",
      "191  Israel Cycling Academy        25168  \n",
      "197  Israel Cycling Academy        25168  \n",
      "203  Israel Cycling Academy        25168  \n",
      "205  Israel Cycling Academy        25168  \n",
      "208  Israel Cycling Academy        25168  \n",
      "213  Israel Cycling Academy        25168  \n",
      "218  Israel Cycling Academy        25168  \n",
      "223  Israel Cycling Academy        25168  \n",
      "225  Israel Cycling Academy        25168  \n",
      "228  Israel Cycling Academy        25168  \n",
      "     cyclist_id  team_id  season cyclist_status  start_date   stop_date  \\\n",
      "5         11597       74    2019        trainee  2019-08-01  2019-12-31   \n",
      "54         7027       74    2019        trainee  2019-08-01  2019-12-31   \n",
      "56         8004       74    2019          rider  2019-01-01  2019-12-31   \n",
      "81         2671       74    2019          rider  2019-06-01  2019-12-31   \n",
      "94         3666       74    2019          rider  2019-01-01  2019-12-31   \n",
      "209        4696       74    2019          rider  2019-01-01  2019-12-31   \n",
      "211        5967       74    2019          rider  2019-01-01  2019-12-31   \n",
      "220        8007       74    2019          rider  2019-01-01  2019-12-31   \n",
      "\n",
      "                                              pcs_link strava_link strava_id  \\\n",
      "5    https://www.procyclingstats.com/rider/yuval-be...         NaN       NaN   \n",
      "54   https://www.procyclingstats.com/rider/freddy-o...         NaN       NaN   \n",
      "56   https://www.procyclingstats.com/rider/benjamin...         NaN       NaN   \n",
      "81   https://www.procyclingstats.com/rider/itamar-e...         NaN       NaN   \n",
      "94   https://www.procyclingstats.com/rider/krists-n...         NaN       NaN   \n",
      "209  https://www.procyclingstats.com/rider/nathan-e...         NaN       NaN   \n",
      "211  https://www.procyclingstats.com/rider/sondre-h...         NaN       NaN   \n",
      "220  https://www.procyclingstats.com/rider/riccardo...         NaN       NaN   \n",
      "\n",
      "              full_name                                alon's url  \\\n",
      "5       BEN MOSHE Yuval   https://www.strava.com/athletes/3409968   \n",
      "54         OVETT Freddy       https://www.strava.com/pros/9503563   \n",
      "56       PERRY Benjamin    https://www.strava.com/athletes/812782   \n",
      "81       EINHORN Itamar   https://www.strava.com/athletes/5096617   \n",
      "94      NEILANDS Krists      https://www.strava.com/pros/12243285   \n",
      "209        EARLE Nathan       https://www.strava.com/pros/1005431   \n",
      "211  ENGER Sondre Holst   https://www.strava.com/athletes/4848740   \n",
      "220     MINALI Riccardo  https://www.strava.com/athletes/15718993   \n",
      "\n",
      "     fetched_from_pcs               team_name  team_gen_id  \n",
      "5                 0.0  Israel Cycling Academy        25168  \n",
      "54                0.0  Israel Cycling Academy        25168  \n",
      "56                0.0  Israel Cycling Academy        25168  \n",
      "81                0.0  Israel Cycling Academy        25168  \n",
      "94                0.0  Israel Cycling Academy        25168  \n",
      "209               0.0  Israel Cycling Academy        25168  \n",
      "211               0.0  Israel Cycling Academy        25168  \n",
      "220               0.0  Israel Cycling Academy        25168  \n",
      "     cyclist_id  team_id  season cyclist_status  start_date   stop_date  \\\n",
      "49        11598       74    2019          rider  2019-01-01  2019-12-31   \n",
      "161        2460       74    2019          rider  2019-01-01  2019-12-31   \n",
      "221        5645       74    2019          rider  2019-01-01  2019-12-31   \n",
      "\n",
      "                                              pcs_link strava_link strava_id  \\\n",
      "49   https://www.procyclingstats.com/rider/awet-geb...         NaN       NaN   \n",
      "161    https://www.procyclingstats.com/rider/guy-sagiv         NaN       NaN   \n",
      "221  https://www.procyclingstats.com/rider/ruben-plaza         NaN       NaN   \n",
      "\n",
      "            full_name alon's url  fetched_from_pcs               team_name  \\\n",
      "49   GEBREMEDHIN Awet        NaN               NaN  Israel Cycling Academy   \n",
      "161         SAGIV Guy        NaN               NaN  Israel Cycling Academy   \n",
      "221       PLAZA Rubén        NaN               NaN  Israel Cycling Academy   \n",
      "\n",
      "     team_gen_id  \n",
      "49         25168  \n",
      "161        25168  \n",
      "221        25168  \n",
      "     cyclist_id  team_id  season cyclist_status  start_date   stop_date  \\\n",
      "87          653       73    2020          rider  2020-01-01  2020-12-31   \n",
      "107        5654       73    2020          rider  2020-01-01  2020-12-31   \n",
      "113        2947       73    2020          rider  2020-01-01  2020-12-31   \n",
      "116        2434       73    2020          rider  2020-01-01  2020-12-31   \n",
      "123        4407       73    2020          rider  2020-01-01  2020-12-31   \n",
      "127         203       73    2020          rider  2020-01-01  2020-12-31   \n",
      "133         190       73    2020          rider  2020-01-01  2020-12-31   \n",
      "138        4865       73    2020          rider  2020-01-01  2020-12-31   \n",
      "146        5393       73    2020          rider  2020-01-01  2020-12-31   \n",
      "151        2457       73    2020          rider  2020-01-01  2020-12-31   \n",
      "157        2759       73    2020          rider  2020-01-01  2020-12-31   \n",
      "168        6312       73    2020          rider  2020-01-01  2020-12-31   \n",
      "172        3982       73    2020          rider  2020-01-01  2020-12-31   \n",
      "175        5428       73    2020          rider  2020-01-01  2020-12-31   \n",
      "177        1403       73    2020          rider  2020-01-01  2020-12-31   \n",
      "180         329       73    2020          rider  2020-01-01  2020-12-31   \n",
      "182        2580       73    2020          rider  2020-01-01  2020-12-31   \n",
      "186         261       73    2020          rider  2020-01-01  2020-12-31   \n",
      "189        8865       73    2020          rider  2020-01-01  2020-12-31   \n",
      "190        4372       73    2020          rider  2020-01-01  2020-12-31   \n",
      "193        6360       73    2020          rider  2020-01-01  2020-12-31   \n",
      "195        4804       73    2020          rider  2020-01-01  2020-12-31   \n",
      "196        4605       73    2020          rider  2020-01-01  2020-12-31   \n",
      "201        8063       73    2020          rider  2020-01-01  2020-12-31   \n",
      "\n",
      "                                              pcs_link  \\\n",
      "87   https://www.procyclingstats.com/rider/ben-hermans   \n",
      "107  https://www.procyclingstats.com/rider/rudy-bar...   \n",
      "113  https://www.procyclingstats.com/rider/jenthe-b...   \n",
      "116  https://www.procyclingstats.com/rider/guillaum...   \n",
      "123  https://www.procyclingstats.com/rider/matthias...   \n",
      "127  https://www.procyclingstats.com/rider/alexande...   \n",
      "133  https://www.procyclingstats.com/rider/alex-dow...   \n",
      "138  https://www.procyclingstats.com/rider/omer-gol...   \n",
      "146  https://www.procyclingstats.com/rider/reto-hol...   \n",
      "151      https://www.procyclingstats.com/rider/guy-niv   \n",
      "157  https://www.procyclingstats.com/rider/james-pi...   \n",
      "168  https://www.procyclingstats.com/rider/tom-van-...   \n",
      "172  https://www.procyclingstats.com/rider/mads-wur...   \n",
      "175   https://www.procyclingstats.com/rider/rick-zabel   \n",
      "177  https://www.procyclingstats.com/rider/davide-c...   \n",
      "180  https://www.procyclingstats.com/rider/andre-gr...   \n",
      "182  https://www.procyclingstats.com/rider/hugo-hof...   \n",
      "186  https://www.procyclingstats.com/rider/alexis-r...   \n",
      "189  https://www.procyclingstats.com/rider/norman-v...   \n",
      "190  https://www.procyclingstats.com/rider/matteo-b...   \n",
      "193  https://www.procyclingstats.com/rider/travis-m...   \n",
      "195  https://www.procyclingstats.com/rider/nils-politt   \n",
      "196  https://www.procyclingstats.com/rider/mihkel-raim   \n",
      "201  https://www.procyclingstats.com/rider/patrick-...   \n",
      "\n",
      "                                  strava_link strava_id           full_name  \\\n",
      "87     https://www.strava.com/athletes/593390    593390         HERMANS Ben   \n",
      "107   https://www.strava.com/athletes/7019829   7019829        BARBIER Rudy   \n",
      "113   https://www.strava.com/athletes/2305481   2305481     BIERMANS Jenthe   \n",
      "116    https://www.strava.com/athletes/616061    616061    BOIVIN Guillaume   \n",
      "123        https://www.strava.com/pros/266080    266080    BRÄNDLE Matthias   \n",
      "127   https://www.strava.com/athletes/3490359   3490359  CATAFORD Alexander   \n",
      "133        https://www.strava.com/pros/505408    505408        DOWSETT Alex   \n",
      "138  https://www.strava.com/athletes/36281396  36281396      GOLDSTEIN Omer   \n",
      "146      https://www.strava.com/pros/19150197  19150197    HOLLENSTEIN Reto   \n",
      "151   https://www.strava.com/athletes/4748635   4748635             NIV Guy   \n",
      "157       https://www.strava.com/pros/1703812   1703812       PICCOLI James   \n",
      "168        https://www.strava.com/pros/387215    387215    VAN ASBROECK Tom   \n",
      "172   https://www.strava.com/athletes/2109406   2109406  WÜRTZ SCHMIDT Mads   \n",
      "175       https://www.strava.com/pros/2557063   2557063          ZABEL Rick   \n",
      "177      https://www.strava.com/pros/20904837  20904837      CIMOLAI Davide   \n",
      "180        https://www.strava.com/pros/384548    384548       GREIPEL André   \n",
      "182  https://www.strava.com/athletes/10847439  10847439     HOFSTETTER Hugo   \n",
      "186       https://www.strava.com/pros/5915515   5915515       RENARD Alexis   \n",
      "189  https://www.strava.com/athletes/28007299  28007299       VAHTRA Norman   \n",
      "190   https://www.strava.com/athletes/4419459   4419459    BADILATTI Matteo   \n",
      "193    https://www.strava.com/athletes/367688    367688       MCCABE Travis   \n",
      "195       https://www.strava.com/pros/2592883   2592883         POLITT Nils   \n",
      "196       https://www.strava.com/pros/2469093   2469093         RÄIM Mihkel   \n",
      "201       https://www.strava.com/pros/1059089   1059089   SCHELLING Patrick   \n",
      "\n",
      "                                   alon's url  fetched_from_pcs  \\\n",
      "87     https://www.strava.com/athletes/593390               1.0   \n",
      "107   https://www.strava.com/athletes/7019829               1.0   \n",
      "113   https://www.strava.com/athletes/2305481               1.0   \n",
      "116    https://www.strava.com/athletes/616061               1.0   \n",
      "123        https://www.strava.com/pros/266080               1.0   \n",
      "127   https://www.strava.com/athletes/3490359               1.0   \n",
      "133        https://www.strava.com/pros/505408               1.0   \n",
      "138  https://www.strava.com/athletes/36281396               1.0   \n",
      "146      https://www.strava.com/pros/19150197               1.0   \n",
      "151   https://www.strava.com/athletes/4748635               1.0   \n",
      "157       https://www.strava.com/pros/1703812               1.0   \n",
      "168        https://www.strava.com/pros/387215               1.0   \n",
      "172   https://www.strava.com/athletes/2109406               1.0   \n",
      "175       https://www.strava.com/pros/2557063               1.0   \n",
      "177      https://www.strava.com/pros/20904837               1.0   \n",
      "180        https://www.strava.com/pros/384548               1.0   \n",
      "182  https://www.strava.com/athletes/10847439               1.0   \n",
      "186       https://www.strava.com/pros/5915515               1.0   \n",
      "189  https://www.strava.com/athletes/28007299               1.0   \n",
      "190   https://www.strava.com/athletes/4419459               1.0   \n",
      "193    https://www.strava.com/athletes/367688               1.0   \n",
      "195       https://www.strava.com/pros/2592883               1.0   \n",
      "196       https://www.strava.com/pros/2469093               1.0   \n",
      "201       https://www.strava.com/pros/1059089               1.0   \n",
      "\n",
      "                  team_name  team_gen_id  \n",
      "87   Israel Start-Up Nation        25168  \n",
      "107  Israel Start-Up Nation        25168  \n",
      "113  Israel Start-Up Nation        25168  \n",
      "116  Israel Start-Up Nation        25168  \n",
      "123  Israel Start-Up Nation        25168  \n",
      "127  Israel Start-Up Nation        25168  \n",
      "133  Israel Start-Up Nation        25168  \n",
      "138  Israel Start-Up Nation        25168  \n",
      "146  Israel Start-Up Nation        25168  \n",
      "151  Israel Start-Up Nation        25168  \n",
      "157  Israel Start-Up Nation        25168  \n",
      "168  Israel Start-Up Nation        25168  \n",
      "172  Israel Start-Up Nation        25168  \n",
      "175  Israel Start-Up Nation        25168  \n",
      "177  Israel Start-Up Nation        25168  \n",
      "180  Israel Start-Up Nation        25168  \n",
      "182  Israel Start-Up Nation        25168  \n",
      "186  Israel Start-Up Nation        25168  \n",
      "189  Israel Start-Up Nation        25168  \n",
      "190  Israel Start-Up Nation        25168  \n",
      "193  Israel Start-Up Nation        25168  \n",
      "195  Israel Start-Up Nation        25168  \n",
      "196  Israel Start-Up Nation        25168  \n",
      "201  Israel Start-Up Nation        25168  \n",
      "    cyclist_id  team_id  season cyclist_status  start_date   stop_date  \\\n",
      "80        2671       73    2020          rider  2020-01-01  2020-12-31   \n",
      "93        3666       73    2020          rider  2020-01-01  2020-12-31   \n",
      "\n",
      "                                             pcs_link strava_link strava_id  \\\n",
      "80  https://www.procyclingstats.com/rider/itamar-e...         NaN       NaN   \n",
      "93  https://www.procyclingstats.com/rider/krists-n...         NaN       NaN   \n",
      "\n",
      "          full_name                               alon's url  \\\n",
      "80   EINHORN Itamar  https://www.strava.com/athletes/5096617   \n",
      "93  NEILANDS Krists     https://www.strava.com/pros/12243285   \n",
      "\n",
      "    fetched_from_pcs               team_name  team_gen_id  \n",
      "80               0.0  Israel Start-Up Nation        25168  \n",
      "93               0.0  Israel Start-Up Nation        25168  \n",
      "     cyclist_id  team_id  season cyclist_status  start_date   stop_date  \\\n",
      "160        2460       73    2020          rider  2020-01-01  2020-12-31   \n",
      "184        1177       73    2020          rider  2020-01-01  2020-12-31   \n",
      "194        1207       73    2020          rider  2020-01-01  2020-12-31   \n",
      "202        5625       73    2020          rider  2020-01-01  2020-12-31   \n",
      "\n",
      "                                              pcs_link strava_link strava_id  \\\n",
      "160    https://www.procyclingstats.com/rider/guy-sagiv         NaN       NaN   \n",
      "184   https://www.procyclingstats.com/rider/dan-martin         NaN       NaN   \n",
      "194  https://www.procyclingstats.com/rider/daniel-n...         NaN       NaN   \n",
      "202  https://www.procyclingstats.com/rider/rory-sut...         NaN       NaN   \n",
      "\n",
      "           full_name alon's url  fetched_from_pcs               team_name  \\\n",
      "160        SAGIV Guy        NaN               NaN  Israel Start-Up Nation   \n",
      "184       MARTIN Dan        NaN               NaN  Israel Start-Up Nation   \n",
      "194   NAVARRO Daniel        NaN               NaN  Israel Start-Up Nation   \n",
      "202  SUTHERLAND Rory        NaN               NaN  Israel Start-Up Nation   \n",
      "\n",
      "     team_gen_id  \n",
      "160        25168  \n",
      "184        25168  \n",
      "194        25168  \n",
      "202        25168  \n",
      "     cyclist_id  team_id  season cyclist_status  start_date   stop_date  \\\n",
      "37         6163       73    2021          rider  2021-07-01  2021-12-31   \n",
      "86          653       73    2021          rider  2021-01-01  2021-12-31   \n",
      "104        4533       73    2021          rider  2021-01-01  2021-12-31   \n",
      "106        5654       73    2021          rider  2021-01-01  2021-12-31   \n",
      "112        2947       73    2021          rider  2021-01-01  2021-12-31   \n",
      "115        2434       73    2021          rider  2021-01-01  2021-12-31   \n",
      "122        4407       73    2021          rider  2021-01-01  2021-12-31   \n",
      "126         203       73    2021          rider  2021-01-01  2021-12-31   \n",
      "130         157       73    2021          rider  2021-01-01  2021-12-31   \n",
      "132         190       73    2021          rider  2021-01-01  2021-12-31   \n",
      "135        1054       73    2021          rider  2021-01-01  2021-12-31   \n",
      "137        4865       73    2021          rider  2021-01-01  2021-12-31   \n",
      "143         852       73    2021          rider  2021-01-01  2021-12-31   \n",
      "145        5393       73    2021          rider  2021-01-01  2021-12-31   \n",
      "148        1304       73    2021          rider  2021-01-01  2021-12-31   \n",
      "150        2457       73    2021          rider  2021-01-01  2021-12-31   \n",
      "156        2759       73    2021          rider  2021-01-01  2021-12-31   \n",
      "167        6312       73    2021          rider  2021-01-01  2021-12-31   \n",
      "171        3982       73    2021          rider  2021-01-01  2021-12-31   \n",
      "174        5428       73    2021          rider  2021-01-01  2021-12-31   \n",
      "176        1403       73    2021          rider  2021-01-01  2021-12-31   \n",
      "179         329       73    2021          rider  2021-01-01  2021-12-31   \n",
      "181        2580       73    2021          rider  2021-01-01  2021-12-31   \n",
      "185         261       73    2021          rider  2021-01-01  2021-12-31   \n",
      "188        8865       73    2021          rider  2021-01-01  2021-12-31   \n",
      "\n",
      "                                              pcs_link  \\\n",
      "37     https://www.procyclingstats.com/rider/taj-jones   \n",
      "86   https://www.procyclingstats.com/rider/ben-hermans   \n",
      "104  https://www.procyclingstats.com/rider/michael-...   \n",
      "106  https://www.procyclingstats.com/rider/rudy-bar...   \n",
      "112  https://www.procyclingstats.com/rider/jenthe-b...   \n",
      "115  https://www.procyclingstats.com/rider/guillaum...   \n",
      "122  https://www.procyclingstats.com/rider/matthias...   \n",
      "126  https://www.procyclingstats.com/rider/alexande...   \n",
      "130  https://www.procyclingstats.com/rider/alessand...   \n",
      "132  https://www.procyclingstats.com/rider/alex-dow...   \n",
      "135  https://www.procyclingstats.com/rider/christop...   \n",
      "137  https://www.procyclingstats.com/rider/omer-gol...   \n",
      "143  https://www.procyclingstats.com/rider/carl-fre...   \n",
      "145  https://www.procyclingstats.com/rider/reto-hol...   \n",
      "148  https://www.procyclingstats.com/rider/daryl-impey   \n",
      "150      https://www.procyclingstats.com/rider/guy-niv   \n",
      "156  https://www.procyclingstats.com/rider/james-pi...   \n",
      "167  https://www.procyclingstats.com/rider/tom-van-...   \n",
      "171  https://www.procyclingstats.com/rider/mads-wur...   \n",
      "174   https://www.procyclingstats.com/rider/rick-zabel   \n",
      "176  https://www.procyclingstats.com/rider/davide-c...   \n",
      "179  https://www.procyclingstats.com/rider/andre-gr...   \n",
      "181  https://www.procyclingstats.com/rider/hugo-hof...   \n",
      "185  https://www.procyclingstats.com/rider/alexis-r...   \n",
      "188  https://www.procyclingstats.com/rider/norman-v...   \n",
      "\n",
      "                                  strava_link strava_id             full_name  \\\n",
      "37   https://www.strava.com/athletes/11516170  11516170             JONES Taj   \n",
      "86     https://www.strava.com/athletes/593390    593390           HERMANS Ben   \n",
      "104        https://www.strava.com/pros/425147    425147         WOODS Michael   \n",
      "106   https://www.strava.com/athletes/7019829   7019829          BARBIER Rudy   \n",
      "112   https://www.strava.com/athletes/2305481   2305481       BIERMANS Jenthe   \n",
      "115    https://www.strava.com/athletes/616061    616061      BOIVIN Guillaume   \n",
      "122        https://www.strava.com/pros/266080    266080      BRÄNDLE Matthias   \n",
      "126   https://www.strava.com/athletes/3490359   3490359    CATAFORD Alexander   \n",
      "130       https://www.strava.com/pros/9545283   9545283  DE MARCHI Alessandro   \n",
      "132        https://www.strava.com/pros/505408    505408          DOWSETT Alex   \n",
      "135       https://www.strava.com/pros/7491815   7491815          FROOME Chris   \n",
      "137  https://www.strava.com/athletes/36281396  36281396        GOLDSTEIN Omer   \n",
      "143        https://www.strava.com/pros/134614    134614    HAGEN Carl Fredrik   \n",
      "145      https://www.strava.com/pros/19150197  19150197      HOLLENSTEIN Reto   \n",
      "148       https://www.strava.com/pros/1714205   1714205           IMPEY Daryl   \n",
      "150   https://www.strava.com/athletes/4748635   4748635               NIV Guy   \n",
      "156       https://www.strava.com/pros/1703812   1703812         PICCOLI James   \n",
      "167        https://www.strava.com/pros/387215    387215      VAN ASBROECK Tom   \n",
      "171   https://www.strava.com/athletes/2109406   2109406    WÜRTZ SCHMIDT Mads   \n",
      "174       https://www.strava.com/pros/2557063   2557063            ZABEL Rick   \n",
      "176      https://www.strava.com/pros/20904837  20904837        CIMOLAI Davide   \n",
      "179        https://www.strava.com/pros/384548    384548         GREIPEL André   \n",
      "181  https://www.strava.com/athletes/10847439  10847439       HOFSTETTER Hugo   \n",
      "185       https://www.strava.com/pros/5915515   5915515         RENARD Alexis   \n",
      "188  https://www.strava.com/athletes/28007299  28007299         VAHTRA Norman   \n",
      "\n",
      "                                   alon's url  fetched_from_pcs  \\\n",
      "37   https://www.strava.com/athletes/11516170               1.0   \n",
      "86     https://www.strava.com/athletes/593390               1.0   \n",
      "104        https://www.strava.com/pros/425147               1.0   \n",
      "106   https://www.strava.com/athletes/7019829               1.0   \n",
      "112   https://www.strava.com/athletes/2305481               1.0   \n",
      "115    https://www.strava.com/athletes/616061               1.0   \n",
      "122        https://www.strava.com/pros/266080               1.0   \n",
      "126   https://www.strava.com/athletes/3490359               1.0   \n",
      "130       https://www.strava.com/pros/9545283               1.0   \n",
      "132        https://www.strava.com/pros/505408               1.0   \n",
      "135       https://www.strava.com/pros/7491815               1.0   \n",
      "137  https://www.strava.com/athletes/36281396               1.0   \n",
      "143        https://www.strava.com/pros/134614               1.0   \n",
      "145      https://www.strava.com/pros/19150197               1.0   \n",
      "148       https://www.strava.com/pros/1714205               1.0   \n",
      "150   https://www.strava.com/athletes/4748635               1.0   \n",
      "156       https://www.strava.com/pros/1703812               1.0   \n",
      "167        https://www.strava.com/pros/387215               1.0   \n",
      "171   https://www.strava.com/athletes/2109406               1.0   \n",
      "174       https://www.strava.com/pros/2557063               1.0   \n",
      "176      https://www.strava.com/pros/20904837               1.0   \n",
      "179        https://www.strava.com/pros/384548               1.0   \n",
      "181  https://www.strava.com/athletes/10847439               1.0   \n",
      "185       https://www.strava.com/pros/5915515               1.0   \n",
      "188  https://www.strava.com/athletes/28007299               1.0   \n",
      "\n",
      "                  team_name  team_gen_id  \n",
      "37   Israel Start-Up Nation        25168  \n",
      "86   Israel Start-Up Nation        25168  \n",
      "104  Israel Start-Up Nation        25168  \n",
      "106  Israel Start-Up Nation        25168  \n",
      "112  Israel Start-Up Nation        25168  \n",
      "115  Israel Start-Up Nation        25168  \n",
      "122  Israel Start-Up Nation        25168  \n",
      "126  Israel Start-Up Nation        25168  \n",
      "130  Israel Start-Up Nation        25168  \n",
      "132  Israel Start-Up Nation        25168  \n",
      "135  Israel Start-Up Nation        25168  \n",
      "137  Israel Start-Up Nation        25168  \n",
      "143  Israel Start-Up Nation        25168  \n",
      "145  Israel Start-Up Nation        25168  \n",
      "148  Israel Start-Up Nation        25168  \n",
      "150  Israel Start-Up Nation        25168  \n",
      "156  Israel Start-Up Nation        25168  \n",
      "167  Israel Start-Up Nation        25168  \n",
      "171  Israel Start-Up Nation        25168  \n",
      "174  Israel Start-Up Nation        25168  \n",
      "176  Israel Start-Up Nation        25168  \n",
      "179  Israel Start-Up Nation        25168  \n",
      "181  Israel Start-Up Nation        25168  \n",
      "185  Israel Start-Up Nation        25168  \n",
      "188  Israel Start-Up Nation        25168  \n",
      "    cyclist_id  team_id  season cyclist_status  start_date   stop_date  \\\n",
      "79        2671       73    2021          rider  2021-01-01  2021-12-31   \n",
      "92        3666       73    2021          rider  2021-01-01  2021-12-31   \n",
      "\n",
      "                                             pcs_link strava_link strava_id  \\\n",
      "79  https://www.procyclingstats.com/rider/itamar-e...         NaN       NaN   \n",
      "92  https://www.procyclingstats.com/rider/krists-n...         NaN       NaN   \n",
      "\n",
      "          full_name                               alon's url  \\\n",
      "79   EINHORN Itamar  https://www.strava.com/athletes/5096617   \n",
      "92  NEILANDS Krists     https://www.strava.com/pros/12243285   \n",
      "\n",
      "    fetched_from_pcs               team_name  team_gen_id  \n",
      "79               0.0  Israel Start-Up Nation        25168  \n",
      "92               0.0  Israel Start-Up Nation        25168  \n",
      "     cyclist_id  team_id  season cyclist_status  start_date   stop_date  \\\n",
      "76         5799       73    2021          rider  2021-01-01  2021-12-31   \n",
      "101        5832       73    2021          rider  2021-01-01  2021-12-31   \n",
      "110        4966       73    2021          rider  2021-01-01  2021-12-31   \n",
      "159        2460       73    2021          rider  2021-01-01  2021-12-31   \n",
      "183        1177       73    2021          rider  2021-01-01  2021-12-31   \n",
      "\n",
      "                                              pcs_link strava_link strava_id  \\\n",
      "76   https://www.procyclingstats.com/rider/sebastia...         NaN       NaN   \n",
      "101  https://www.procyclingstats.com/rider/sep-vanm...         NaN       NaN   \n",
      "110  https://www.procyclingstats.com/rider/patrick-...         NaN       NaN   \n",
      "159    https://www.procyclingstats.com/rider/guy-sagiv         NaN       NaN   \n",
      "183   https://www.procyclingstats.com/rider/dan-martin         NaN       NaN   \n",
      "\n",
      "             full_name alon's url  fetched_from_pcs               team_name  \\\n",
      "76   BERWICK Sebastian        NaN               NaN  Israel Start-Up Nation   \n",
      "101      VANMARCKE Sep        NaN               NaN  Israel Start-Up Nation   \n",
      "110      BEVIN Patrick        NaN               NaN  Israel Start-Up Nation   \n",
      "159          SAGIV Guy        NaN               NaN  Israel Start-Up Nation   \n",
      "183         MARTIN Dan        NaN               NaN  Israel Start-Up Nation   \n",
      "\n",
      "     team_gen_id  \n",
      "76         25168  \n",
      "101        25168  \n",
      "110        25168  \n",
      "159        25168  \n",
      "183        25168  \n",
      "     cyclist_id  team_id  season cyclist_status  start_date   stop_date  \\\n",
      "36         6163       73    2022          rider  2022-01-01  2022-12-31   \n",
      "70         2581       73    2022          rider  2022-01-01  2022-12-31   \n",
      "73         1116       73    2022          rider  2022-01-01  2022-12-31   \n",
      "85          653       73    2022          rider  2022-01-01  2022-12-31   \n",
      "103        4533       73    2022          rider  2022-01-01  2022-12-31   \n",
      "105        5654       73    2022          rider  2022-01-01  2022-12-31   \n",
      "111        2947       73    2022          rider  2022-01-01  2022-12-31   \n",
      "114        2434       73    2022          rider  2022-01-01  2022-12-31   \n",
      "121        4407       73    2022          rider  2022-01-01  2022-12-31   \n",
      "125         203       73    2022          rider  2022-01-01  2022-12-31   \n",
      "129         157       73    2022          rider  2022-01-01  2022-12-31   \n",
      "131         190       73    2022          rider  2022-01-01  2022-12-31   \n",
      "134        1054       73    2022          rider  2022-01-01  2022-12-31   \n",
      "136        4865       73    2022          rider  2022-01-01  2022-12-31   \n",
      "142         852       73    2022          rider  2022-01-01  2022-12-31   \n",
      "144        5393       73    2022          rider  2022-01-01  2022-12-31   \n",
      "147        1304       73    2022          rider  2022-01-01  2022-12-31   \n",
      "149        2457       73    2022          rider  2022-01-01  2022-12-31   \n",
      "155        2759       73    2022          rider  2022-01-01  2022-12-31   \n",
      "166        6312       73    2022          rider  2022-01-01  2022-12-31   \n",
      "170        3982       73    2022          rider  2022-01-01  2022-12-31   \n",
      "173        5428       73    2022          rider  2022-01-01  2022-12-31   \n",
      "\n",
      "                                              pcs_link  \\\n",
      "36     https://www.procyclingstats.com/rider/taj-jones   \n",
      "70    https://www.procyclingstats.com/rider/hugo-houle   \n",
      "73   https://www.procyclingstats.com/rider/corbin-s...   \n",
      "85   https://www.procyclingstats.com/rider/ben-hermans   \n",
      "103  https://www.procyclingstats.com/rider/michael-...   \n",
      "105  https://www.procyclingstats.com/rider/rudy-bar...   \n",
      "111  https://www.procyclingstats.com/rider/jenthe-b...   \n",
      "114  https://www.procyclingstats.com/rider/guillaum...   \n",
      "121  https://www.procyclingstats.com/rider/matthias...   \n",
      "125  https://www.procyclingstats.com/rider/alexande...   \n",
      "129  https://www.procyclingstats.com/rider/alessand...   \n",
      "131  https://www.procyclingstats.com/rider/alex-dow...   \n",
      "134  https://www.procyclingstats.com/rider/christop...   \n",
      "136  https://www.procyclingstats.com/rider/omer-gol...   \n",
      "142  https://www.procyclingstats.com/rider/carl-fre...   \n",
      "144  https://www.procyclingstats.com/rider/reto-hol...   \n",
      "147  https://www.procyclingstats.com/rider/daryl-impey   \n",
      "149      https://www.procyclingstats.com/rider/guy-niv   \n",
      "155  https://www.procyclingstats.com/rider/james-pi...   \n",
      "166  https://www.procyclingstats.com/rider/tom-van-...   \n",
      "170  https://www.procyclingstats.com/rider/mads-wur...   \n",
      "173   https://www.procyclingstats.com/rider/rick-zabel   \n",
      "\n",
      "                                  strava_link strava_id             full_name  \\\n",
      "36   https://www.strava.com/athletes/11516170  11516170             JONES Taj   \n",
      "70         https://www.strava.com/pros/288769    288769            HOULE Hugo   \n",
      "73    https://www.strava.com/athletes/3419730   3419730         STRONG Corbin   \n",
      "85     https://www.strava.com/athletes/593390    593390           HERMANS Ben   \n",
      "103        https://www.strava.com/pros/425147    425147         WOODS Michael   \n",
      "105   https://www.strava.com/athletes/7019829   7019829          BARBIER Rudy   \n",
      "111   https://www.strava.com/athletes/2305481   2305481       BIERMANS Jenthe   \n",
      "114    https://www.strava.com/athletes/616061    616061      BOIVIN Guillaume   \n",
      "121        https://www.strava.com/pros/266080    266080      BRÄNDLE Matthias   \n",
      "125   https://www.strava.com/athletes/3490359   3490359    CATAFORD Alexander   \n",
      "129       https://www.strava.com/pros/9545283   9545283  DE MARCHI Alessandro   \n",
      "131        https://www.strava.com/pros/505408    505408          DOWSETT Alex   \n",
      "134       https://www.strava.com/pros/7491815   7491815          FROOME Chris   \n",
      "136  https://www.strava.com/athletes/36281396  36281396        GOLDSTEIN Omer   \n",
      "142        https://www.strava.com/pros/134614    134614    HAGEN Carl Fredrik   \n",
      "144      https://www.strava.com/pros/19150197  19150197      HOLLENSTEIN Reto   \n",
      "147       https://www.strava.com/pros/1714205   1714205           IMPEY Daryl   \n",
      "149   https://www.strava.com/athletes/4748635   4748635               NIV Guy   \n",
      "155       https://www.strava.com/pros/1703812   1703812         PICCOLI James   \n",
      "166        https://www.strava.com/pros/387215    387215      VAN ASBROECK Tom   \n",
      "170   https://www.strava.com/athletes/2109406   2109406    WÜRTZ SCHMIDT Mads   \n",
      "173       https://www.strava.com/pros/2557063   2557063            ZABEL Rick   \n",
      "\n",
      "                                   alon's url  fetched_from_pcs  \\\n",
      "36   https://www.strava.com/athletes/11516170               1.0   \n",
      "70                                        NaN               1.0   \n",
      "73                                        NaN               1.0   \n",
      "85     https://www.strava.com/athletes/593390               1.0   \n",
      "103        https://www.strava.com/pros/425147               1.0   \n",
      "105   https://www.strava.com/athletes/7019829               1.0   \n",
      "111   https://www.strava.com/athletes/2305481               1.0   \n",
      "114    https://www.strava.com/athletes/616061               1.0   \n",
      "121        https://www.strava.com/pros/266080               1.0   \n",
      "125   https://www.strava.com/athletes/3490359               1.0   \n",
      "129       https://www.strava.com/pros/9545283               1.0   \n",
      "131        https://www.strava.com/pros/505408               1.0   \n",
      "134       https://www.strava.com/pros/7491815               1.0   \n",
      "136  https://www.strava.com/athletes/36281396               1.0   \n",
      "142        https://www.strava.com/pros/134614               1.0   \n",
      "144      https://www.strava.com/pros/19150197               1.0   \n",
      "147       https://www.strava.com/pros/1714205               1.0   \n",
      "149   https://www.strava.com/athletes/4748635               1.0   \n",
      "155       https://www.strava.com/pros/1703812               1.0   \n",
      "166        https://www.strava.com/pros/387215               1.0   \n",
      "170   https://www.strava.com/athletes/2109406               1.0   \n",
      "173       https://www.strava.com/pros/2557063               1.0   \n",
      "\n",
      "                  team_name  team_gen_id  \n",
      "36   Israel Start-Up Nation        25168  \n",
      "70   Israel Start-Up Nation        25168  \n",
      "73   Israel Start-Up Nation        25168  \n",
      "85   Israel Start-Up Nation        25168  \n",
      "103  Israel Start-Up Nation        25168  \n",
      "105  Israel Start-Up Nation        25168  \n",
      "111  Israel Start-Up Nation        25168  \n",
      "114  Israel Start-Up Nation        25168  \n",
      "121  Israel Start-Up Nation        25168  \n",
      "125  Israel Start-Up Nation        25168  \n",
      "129  Israel Start-Up Nation        25168  \n",
      "131  Israel Start-Up Nation        25168  \n",
      "134  Israel Start-Up Nation        25168  \n",
      "136  Israel Start-Up Nation        25168  \n",
      "142  Israel Start-Up Nation        25168  \n",
      "144  Israel Start-Up Nation        25168  \n",
      "147  Israel Start-Up Nation        25168  \n",
      "149  Israel Start-Up Nation        25168  \n",
      "155  Israel Start-Up Nation        25168  \n",
      "166  Israel Start-Up Nation        25168  \n",
      "170  Israel Start-Up Nation        25168  \n",
      "173  Israel Start-Up Nation        25168  \n",
      "    cyclist_id  team_id  season cyclist_status  start_date   stop_date  \\\n",
      "78        2671       73    2022          rider  2022-01-01  2022-12-31   \n",
      "91        3666       73    2022          rider  2022-01-01  2022-12-31   \n",
      "\n",
      "                                             pcs_link strava_link strava_id  \\\n",
      "78  https://www.procyclingstats.com/rider/itamar-e...         NaN       NaN   \n",
      "91  https://www.procyclingstats.com/rider/krists-n...         NaN       NaN   \n",
      "\n",
      "          full_name                               alon's url  \\\n",
      "78   EINHORN Itamar  https://www.strava.com/athletes/5096617   \n",
      "91  NEILANDS Krists     https://www.strava.com/pros/12243285   \n",
      "\n",
      "    fetched_from_pcs               team_name  team_gen_id  \n",
      "78               0.0  Israel Start-Up Nation        25168  \n",
      "91               0.0  Israel Start-Up Nation        25168  \n",
      "     cyclist_id  team_id  season cyclist_status  start_date   stop_date  \\\n",
      "67         2748       73    2022          rider  2022-01-01  2022-12-31   \n",
      "75         5799       73    2022          rider  2022-01-01  2022-12-31   \n",
      "98         2239       73    2022          rider  2022-01-01  2022-12-31   \n",
      "100        5832       73    2022          rider  2022-01-01  2022-12-31   \n",
      "109        4966       73    2022          rider  2022-01-01  2022-12-31   \n",
      "158        2460       73    2022          rider  2022-01-01  2022-12-31   \n",
      "\n",
      "                                              pcs_link strava_link strava_id  \\\n",
      "67   https://www.procyclingstats.com/rider/jakob-fu...         NaN       NaN   \n",
      "75   https://www.procyclingstats.com/rider/sebastia...         NaN       NaN   \n",
      "98   https://www.procyclingstats.com/rider/giacomo-...         NaN       NaN   \n",
      "100  https://www.procyclingstats.com/rider/sep-vanm...         NaN       NaN   \n",
      "109  https://www.procyclingstats.com/rider/patrick-...         NaN       NaN   \n",
      "158    https://www.procyclingstats.com/rider/guy-sagiv         NaN       NaN   \n",
      "\n",
      "             full_name alon's url  fetched_from_pcs               team_name  \\\n",
      "67      FUGLSANG Jakob        NaN               NaN  Israel Start-Up Nation   \n",
      "75   BERWICK Sebastian        NaN               NaN  Israel Start-Up Nation   \n",
      "98     NIZZOLO Giacomo        NaN               NaN  Israel Start-Up Nation   \n",
      "100      VANMARCKE Sep        NaN               NaN  Israel Start-Up Nation   \n",
      "109      BEVIN Patrick        NaN               NaN  Israel Start-Up Nation   \n",
      "158          SAGIV Guy        NaN               NaN  Israel Start-Up Nation   \n",
      "\n",
      "     team_gen_id  \n",
      "67         25168  \n",
      "75         25168  \n",
      "98         25168  \n",
      "100        25168  \n",
      "109        25168  \n",
      "158        25168  \n",
      "     cyclist_id  team_id  season cyclist_status  start_date   stop_date  \\\n",
      "35         6163       73    2023          rider  2023-01-01  2023-12-31   \n",
      "69         2581       73    2023          rider  2023-01-01  2023-12-31   \n",
      "72         1116       73    2023          rider  2023-01-01  2023-12-31   \n",
      "84          653       73    2023          rider  2023-01-01  2023-12-31   \n",
      "102        4533       73    2023          rider  2023-01-01  2023-12-31   \n",
      "\n",
      "                                              pcs_link  \\\n",
      "35     https://www.procyclingstats.com/rider/taj-jones   \n",
      "69    https://www.procyclingstats.com/rider/hugo-houle   \n",
      "72   https://www.procyclingstats.com/rider/corbin-s...   \n",
      "84   https://www.procyclingstats.com/rider/ben-hermans   \n",
      "102  https://www.procyclingstats.com/rider/michael-...   \n",
      "\n",
      "                                  strava_link strava_id      full_name  \\\n",
      "35   https://www.strava.com/athletes/11516170  11516170      JONES Taj   \n",
      "69         https://www.strava.com/pros/288769    288769     HOULE Hugo   \n",
      "72    https://www.strava.com/athletes/3419730   3419730  STRONG Corbin   \n",
      "84     https://www.strava.com/athletes/593390    593390    HERMANS Ben   \n",
      "102        https://www.strava.com/pros/425147    425147  WOODS Michael   \n",
      "\n",
      "                                   alon's url  fetched_from_pcs  \\\n",
      "35   https://www.strava.com/athletes/11516170               1.0   \n",
      "69                                        NaN               1.0   \n",
      "72                                        NaN               1.0   \n",
      "84     https://www.strava.com/athletes/593390               1.0   \n",
      "102        https://www.strava.com/pros/425147               1.0   \n",
      "\n",
      "                  team_name  team_gen_id  \n",
      "35   Israel Start-Up Nation        25168  \n",
      "69   Israel Start-Up Nation        25168  \n",
      "72   Israel Start-Up Nation        25168  \n",
      "84   Israel Start-Up Nation        25168  \n",
      "102  Israel Start-Up Nation        25168  \n",
      "    cyclist_id  team_id  season cyclist_status  start_date   stop_date  \\\n",
      "77        2671       73    2023          rider  2023-01-01  2023-12-31   \n",
      "90        3666       73    2023          rider  2023-01-01  2023-12-31   \n",
      "\n",
      "                                             pcs_link strava_link strava_id  \\\n",
      "77  https://www.procyclingstats.com/rider/itamar-e...         NaN       NaN   \n",
      "90  https://www.procyclingstats.com/rider/krists-n...         NaN       NaN   \n",
      "\n",
      "          full_name                               alon's url  \\\n",
      "77   EINHORN Itamar  https://www.strava.com/athletes/5096617   \n",
      "90  NEILANDS Krists     https://www.strava.com/pros/12243285   \n",
      "\n",
      "    fetched_from_pcs               team_name  team_gen_id  \n",
      "77               0.0  Israel Start-Up Nation        25168  \n",
      "90               0.0  Israel Start-Up Nation        25168  \n",
      "    cyclist_id  team_id  season cyclist_status  start_date   stop_date  \\\n",
      "66        2748       73    2023          rider  2023-01-01  2023-12-31   \n",
      "74        5799       73    2023          rider  2023-01-01  2023-12-31   \n",
      "97        2239       73    2023          rider  2023-01-01  2023-12-31   \n",
      "99        5832       73    2023          rider  2023-01-01  2023-12-31   \n",
      "\n",
      "                                             pcs_link strava_link strava_id  \\\n",
      "66  https://www.procyclingstats.com/rider/jakob-fu...         NaN       NaN   \n",
      "74  https://www.procyclingstats.com/rider/sebastia...         NaN       NaN   \n",
      "97  https://www.procyclingstats.com/rider/giacomo-...         NaN       NaN   \n",
      "99  https://www.procyclingstats.com/rider/sep-vanm...         NaN       NaN   \n",
      "\n",
      "            full_name alon's url  fetched_from_pcs               team_name  \\\n",
      "66     FUGLSANG Jakob        NaN               NaN  Israel Start-Up Nation   \n",
      "74  BERWICK Sebastian        NaN               NaN  Israel Start-Up Nation   \n",
      "97    NIZZOLO Giacomo        NaN               NaN  Israel Start-Up Nation   \n",
      "99      VANMARCKE Sep        NaN               NaN  Israel Start-Up Nation   \n",
      "\n",
      "    team_gen_id  \n",
      "66        25168  \n",
      "74        25168  \n",
      "97        25168  \n",
      "99        25168  \n",
      "    cyclist_id  team_id  season cyclist_status  start_date   stop_date  \\\n",
      "68        2581       73    2024          rider  2024-01-01  2024-12-31   \n",
      "71        1116       73    2024          rider  2024-01-01  2024-12-31   \n",
      "\n",
      "                                             pcs_link  \\\n",
      "68   https://www.procyclingstats.com/rider/hugo-houle   \n",
      "71  https://www.procyclingstats.com/rider/corbin-s...   \n",
      "\n",
      "                                strava_link strava_id      full_name  \\\n",
      "68       https://www.strava.com/pros/288769    288769     HOULE Hugo   \n",
      "71  https://www.strava.com/athletes/3419730   3419730  STRONG Corbin   \n",
      "\n",
      "   alon's url  fetched_from_pcs               team_name  team_gen_id  \n",
      "68        NaN               1.0  Israel Start-Up Nation        25168  \n",
      "71        NaN               1.0  Israel Start-Up Nation        25168  \n",
      "Empty DataFrame\n",
      "Columns: [cyclist_id, team_id, season, cyclist_status, start_date, stop_date, pcs_link, strava_link, strava_id, full_name, alon's url, fetched_from_pcs, team_name, team_gen_id]\n",
      "Index: []\n",
      "    cyclist_id  team_id  season cyclist_status  start_date   stop_date  \\\n",
      "65        2748       73    2024          rider  2024-01-01  2024-12-31   \n",
      "\n",
      "                                             pcs_link strava_link strava_id  \\\n",
      "65  https://www.procyclingstats.com/rider/jakob-fu...         NaN       NaN   \n",
      "\n",
      "         full_name alon's url  fetched_from_pcs               team_name  \\\n",
      "65  FUGLSANG Jakob        NaN               NaN  Israel Start-Up Nation   \n",
      "\n",
      "    team_gen_id  \n",
      "65        25168  \n"
     ]
    }
   ],
   "source": [
    "teams = {}\n",
    "i = 0\n",
    "for team, cyclists_in_team in strava_urls_cyclists_in_teams.groupby('team_gen_id'):\n",
    "    teams[team] = pd.DataFrame(columns=columns)\n",
    "    teams[team].at[0], teams[team].at[1], teams[team].at[2], teams[team].at[3] = None, None, None, None\n",
    "    for season, cyclists_in_team_by_year in cyclists_in_team.groupby('season'):\n",
    "        valid_strava_urls = cyclists_in_team_by_year.loc[cyclists_in_team_by_year['fetched_from_pcs'] == 1]\n",
    "        alons_strava_urls = cyclists_in_team_by_year.loc[cyclists_in_team_by_year['fetched_from_pcs'] == 0]\n",
    "        missing_strava_urls = cyclists_in_team_by_year.loc[cyclists_in_team_by_year['fetched_from_pcs'].isna()]\n",
    "        teams[team].at[0, ''] = 'Number of cyclists in team'\n",
    "        teams[team].at[0, season] = len(cyclists_in_team_by_year)\n",
    "        teams[team].at[1, ''] = 'Number of valid STRAVA URLs'\n",
    "        teams[team].at[1, season] = len(valid_strava_urls)\n",
    "        teams[team].at[2, ''] = \"Number of Alon's STRAVA URLs\"\n",
    "        teams[team].at[2, season] = len(alons_strava_urls)\n",
    "        teams[team].at[3, ''] = 'Number of missing STRAVA URLs'\n",
    "        teams[team].at[3, season] = len(missing_strava_urls)\n",
    "        print(valid_strava_urls)\n",
    "        print(alons_strava_urls)\n",
    "        print(missing_strava_urls)\n",
    "    i += 1"
   ],
   "metadata": {
    "collapsed": false,
    "pycharm": {
     "name": "#%%\n"
    }
   }
  },
  {
   "cell_type": "code",
   "execution_count": 245,
   "outputs": [
    {
     "data": {
      "text/plain": "     cyclist_id  team_id  season cyclist_status  start_date   stop_date  \\\n37         6163       73    2021          rider  2021-07-01  2021-12-31   \n76         5799       73    2021          rider  2021-01-01  2021-12-31   \n79         2671       73    2021          rider  2021-01-01  2021-12-31   \n86          653       73    2021          rider  2021-01-01  2021-12-31   \n92         3666       73    2021          rider  2021-01-01  2021-12-31   \n..          ...      ...     ...            ...         ...         ...   \n259       11310       75    2015          rider  2015-01-01  2015-12-31   \n260       11611       75    2015          rider  2015-01-01  2015-12-31   \n261       11612       75    2015          rider  2015-01-01  2015-12-31   \n262       11480       75    2015          rider  2015-04-17  2015-12-31   \n263       11613       75    2015          rider  2015-01-01  2015-12-31   \n\n                                              pcs_link  \\\n37     https://www.procyclingstats.com/rider/taj-jones   \n76   https://www.procyclingstats.com/rider/sebastia...   \n79   https://www.procyclingstats.com/rider/itamar-e...   \n86   https://www.procyclingstats.com/rider/ben-hermans   \n92   https://www.procyclingstats.com/rider/krists-n...   \n..                                                 ...   \n259  https://www.procyclingstats.com/rider/mario-dasko   \n260  https://www.procyclingstats.com/rider/ben-einh...   \n261  https://www.procyclingstats.com/rider/patryk-t...   \n262  https://www.procyclingstats.com/rider/bartosz-...   \n263  https://www.procyclingstats.com/rider/ido-zilb...   \n\n                                  strava_link strava_id          full_name  \\\n37   https://www.strava.com/athletes/11516170  11516170          JONES Taj   \n76                                        NaN       NaN  BERWICK Sebastian   \n79                                        NaN       NaN     EINHORN Itamar   \n86     https://www.strava.com/athletes/593390    593390        HERMANS Ben   \n92                                        NaN       NaN    NEILANDS Krists   \n..                                        ...       ...                ...   \n259                                       NaN       NaN        DAŠKO Mário   \n260                                       NaN       NaN        EINHORN Ben   \n261                                       NaN       NaN      TALAGA Patryk   \n262                                       NaN       NaN    WARCHOŁ Bartosz   \n263                                       NaN       NaN    ZILBERSTEIN Ido   \n\n                                   alon's url  fetched_from_pcs  \\\n37   https://www.strava.com/athletes/11516170               1.0   \n76                                        NaN               NaN   \n79    https://www.strava.com/athletes/5096617               0.0   \n86     https://www.strava.com/athletes/593390               1.0   \n92       https://www.strava.com/pros/12243285               0.0   \n..                                        ...               ...   \n259                                       NaN               NaN   \n260                                       NaN               NaN   \n261                                       NaN               NaN   \n262                                       NaN               NaN   \n263                                       NaN               NaN   \n\n                  team_name  team_gen_id  \n37   Israel Start-Up Nation        25168  \n76   Israel Start-Up Nation        25168  \n79   Israel Start-Up Nation        25168  \n86   Israel Start-Up Nation        25168  \n92   Israel Start-Up Nation        25168  \n..                      ...          ...  \n259    Cycling Academy Team        25168  \n260    Cycling Academy Team        25168  \n261    Cycling Academy Team        25168  \n262    Cycling Academy Team        25168  \n263    Cycling Academy Team        25168  \n\n[203 rows x 14 columns]",
      "text/html": "<div>\n<style scoped>\n    .dataframe tbody tr th:only-of-type {\n        vertical-align: middle;\n    }\n\n    .dataframe tbody tr th {\n        vertical-align: top;\n    }\n\n    .dataframe thead th {\n        text-align: right;\n    }\n</style>\n<table border=\"1\" class=\"dataframe\">\n  <thead>\n    <tr style=\"text-align: right;\">\n      <th></th>\n      <th>cyclist_id</th>\n      <th>team_id</th>\n      <th>season</th>\n      <th>cyclist_status</th>\n      <th>start_date</th>\n      <th>stop_date</th>\n      <th>pcs_link</th>\n      <th>strava_link</th>\n      <th>strava_id</th>\n      <th>full_name</th>\n      <th>alon's url</th>\n      <th>fetched_from_pcs</th>\n      <th>team_name</th>\n      <th>team_gen_id</th>\n    </tr>\n  </thead>\n  <tbody>\n    <tr>\n      <th>37</th>\n      <td>6163</td>\n      <td>73</td>\n      <td>2021</td>\n      <td>rider</td>\n      <td>2021-07-01</td>\n      <td>2021-12-31</td>\n      <td>https://www.procyclingstats.com/rider/taj-jones</td>\n      <td>https://www.strava.com/athletes/11516170</td>\n      <td>11516170</td>\n      <td>JONES Taj</td>\n      <td>https://www.strava.com/athletes/11516170</td>\n      <td>1.0</td>\n      <td>Israel Start-Up Nation</td>\n      <td>25168</td>\n    </tr>\n    <tr>\n      <th>76</th>\n      <td>5799</td>\n      <td>73</td>\n      <td>2021</td>\n      <td>rider</td>\n      <td>2021-01-01</td>\n      <td>2021-12-31</td>\n      <td>https://www.procyclingstats.com/rider/sebastia...</td>\n      <td>NaN</td>\n      <td>NaN</td>\n      <td>BERWICK Sebastian</td>\n      <td>NaN</td>\n      <td>NaN</td>\n      <td>Israel Start-Up Nation</td>\n      <td>25168</td>\n    </tr>\n    <tr>\n      <th>79</th>\n      <td>2671</td>\n      <td>73</td>\n      <td>2021</td>\n      <td>rider</td>\n      <td>2021-01-01</td>\n      <td>2021-12-31</td>\n      <td>https://www.procyclingstats.com/rider/itamar-e...</td>\n      <td>NaN</td>\n      <td>NaN</td>\n      <td>EINHORN Itamar</td>\n      <td>https://www.strava.com/athletes/5096617</td>\n      <td>0.0</td>\n      <td>Israel Start-Up Nation</td>\n      <td>25168</td>\n    </tr>\n    <tr>\n      <th>86</th>\n      <td>653</td>\n      <td>73</td>\n      <td>2021</td>\n      <td>rider</td>\n      <td>2021-01-01</td>\n      <td>2021-12-31</td>\n      <td>https://www.procyclingstats.com/rider/ben-hermans</td>\n      <td>https://www.strava.com/athletes/593390</td>\n      <td>593390</td>\n      <td>HERMANS Ben</td>\n      <td>https://www.strava.com/athletes/593390</td>\n      <td>1.0</td>\n      <td>Israel Start-Up Nation</td>\n      <td>25168</td>\n    </tr>\n    <tr>\n      <th>92</th>\n      <td>3666</td>\n      <td>73</td>\n      <td>2021</td>\n      <td>rider</td>\n      <td>2021-01-01</td>\n      <td>2021-12-31</td>\n      <td>https://www.procyclingstats.com/rider/krists-n...</td>\n      <td>NaN</td>\n      <td>NaN</td>\n      <td>NEILANDS Krists</td>\n      <td>https://www.strava.com/pros/12243285</td>\n      <td>0.0</td>\n      <td>Israel Start-Up Nation</td>\n      <td>25168</td>\n    </tr>\n    <tr>\n      <th>...</th>\n      <td>...</td>\n      <td>...</td>\n      <td>...</td>\n      <td>...</td>\n      <td>...</td>\n      <td>...</td>\n      <td>...</td>\n      <td>...</td>\n      <td>...</td>\n      <td>...</td>\n      <td>...</td>\n      <td>...</td>\n      <td>...</td>\n      <td>...</td>\n    </tr>\n    <tr>\n      <th>259</th>\n      <td>11310</td>\n      <td>75</td>\n      <td>2015</td>\n      <td>rider</td>\n      <td>2015-01-01</td>\n      <td>2015-12-31</td>\n      <td>https://www.procyclingstats.com/rider/mario-dasko</td>\n      <td>NaN</td>\n      <td>NaN</td>\n      <td>DAŠKO Mário</td>\n      <td>NaN</td>\n      <td>NaN</td>\n      <td>Cycling Academy Team</td>\n      <td>25168</td>\n    </tr>\n    <tr>\n      <th>260</th>\n      <td>11611</td>\n      <td>75</td>\n      <td>2015</td>\n      <td>rider</td>\n      <td>2015-01-01</td>\n      <td>2015-12-31</td>\n      <td>https://www.procyclingstats.com/rider/ben-einh...</td>\n      <td>NaN</td>\n      <td>NaN</td>\n      <td>EINHORN Ben</td>\n      <td>NaN</td>\n      <td>NaN</td>\n      <td>Cycling Academy Team</td>\n      <td>25168</td>\n    </tr>\n    <tr>\n      <th>261</th>\n      <td>11612</td>\n      <td>75</td>\n      <td>2015</td>\n      <td>rider</td>\n      <td>2015-01-01</td>\n      <td>2015-12-31</td>\n      <td>https://www.procyclingstats.com/rider/patryk-t...</td>\n      <td>NaN</td>\n      <td>NaN</td>\n      <td>TALAGA Patryk</td>\n      <td>NaN</td>\n      <td>NaN</td>\n      <td>Cycling Academy Team</td>\n      <td>25168</td>\n    </tr>\n    <tr>\n      <th>262</th>\n      <td>11480</td>\n      <td>75</td>\n      <td>2015</td>\n      <td>rider</td>\n      <td>2015-04-17</td>\n      <td>2015-12-31</td>\n      <td>https://www.procyclingstats.com/rider/bartosz-...</td>\n      <td>NaN</td>\n      <td>NaN</td>\n      <td>WARCHOŁ Bartosz</td>\n      <td>NaN</td>\n      <td>NaN</td>\n      <td>Cycling Academy Team</td>\n      <td>25168</td>\n    </tr>\n    <tr>\n      <th>263</th>\n      <td>11613</td>\n      <td>75</td>\n      <td>2015</td>\n      <td>rider</td>\n      <td>2015-01-01</td>\n      <td>2015-12-31</td>\n      <td>https://www.procyclingstats.com/rider/ido-zilb...</td>\n      <td>NaN</td>\n      <td>NaN</td>\n      <td>ZILBERSTEIN Ido</td>\n      <td>NaN</td>\n      <td>NaN</td>\n      <td>Cycling Academy Team</td>\n      <td>25168</td>\n    </tr>\n  </tbody>\n</table>\n<p>203 rows × 14 columns</p>\n</div>"
     },
     "execution_count": 245,
     "metadata": {},
     "output_type": "execute_result"
    }
   ],
   "source": [
    "strava_urls_cyclists_in_teams[strava_urls_cyclists_in_teams['season'] < 2022].sort_values(['season', 'team_name'],\n",
    "                                                                                          ascending=False)"
   ],
   "metadata": {
    "collapsed": false,
    "pycharm": {
     "name": "#%%\n"
    }
   }
  },
  {
   "cell_type": "code",
   "execution_count": 250,
   "outputs": [],
   "source": [
    "\n",
    "ISN_merged_strava_urls[ISN_merged_strava_urls['fetched_from_pcs'] == 0].to_csv('./data/manual_fetched_urls_ISN.csv',\n",
    "                                                                               index=False)"
   ],
   "metadata": {
    "collapsed": false,
    "pycharm": {
     "name": "#%%\n"
    }
   }
  },
  {
   "cell_type": "code",
   "execution_count": 6,
   "outputs": [
    {
     "data": {
      "text/plain": "     cyclist_id                                           pcs_link  \\\n0           157  https://www.procyclingstats.com/rider/alessand...   \n1           190  https://www.procyclingstats.com/rider/alex-dow...   \n2           203  https://www.procyclingstats.com/rider/alexande...   \n3           261  https://www.procyclingstats.com/rider/alexis-r...   \n4           329  https://www.procyclingstats.com/rider/andre-gr...   \n..          ...                                                ...   \n102       11632  https://www.procyclingstats.com/rider/yuval-zahor   \n103       11633     https://www.procyclingstats.com/rider/ido-bear   \n104       11634    https://www.procyclingstats.com/rider/el-chokri   \n105       11635   https://www.procyclingstats.com/rider/eitan-levi   \n106       11636  https://www.procyclingstats.com/rider/carson-m...   \n\n                                 strava_link  strava_id             full_name  \\\n0        https://www.strava.com/pros/9545283  9545283.0  DE MARCHI Alessandro   \n1         https://www.strava.com/pros/505408   505408.0          DOWSETT Alex   \n2    https://www.strava.com/athletes/3490359  3490359.0    CATAFORD Alexander   \n3        https://www.strava.com/pros/5915515  5915515.0         RENARD Alexis   \n4         https://www.strava.com/pros/384548   384548.0         GREIPEL André   \n..                                       ...        ...                   ...   \n102                                      NaN        NaN           ZAHOR Yuval   \n103                                      NaN        NaN              BEAR Ido   \n104                                      NaN        NaN       CHOKRI El Mehdi   \n105                                      NaN        NaN            LEVI Eitan   \n106                                      NaN        NaN          MILES Carson   \n\n                                  alon's_url  fetched_from_pcs  \\\n0        https://www.strava.com/pros/9545283               1.0   \n1         https://www.strava.com/pros/505408               1.0   \n2    https://www.strava.com/athletes/3490359               1.0   \n3        https://www.strava.com/pros/5915515               1.0   \n4         https://www.strava.com/pros/384548               1.0   \n..                                       ...               ...   \n102                                      NaN               NaN   \n103                                      NaN               NaN   \n104                                      NaN               NaN   \n105                                      NaN               NaN   \n106                                      NaN               NaN   \n\n     alon's_strava_id  \n0           9545283.0  \n1            505408.0  \n2           3490359.0  \n3           5915515.0  \n4            384548.0  \n..                ...  \n102               NaN  \n103               NaN  \n104               NaN  \n105               NaN  \n106               NaN  \n\n[107 rows x 8 columns]",
      "text/html": "<div>\n<style scoped>\n    .dataframe tbody tr th:only-of-type {\n        vertical-align: middle;\n    }\n\n    .dataframe tbody tr th {\n        vertical-align: top;\n    }\n\n    .dataframe thead th {\n        text-align: right;\n    }\n</style>\n<table border=\"1\" class=\"dataframe\">\n  <thead>\n    <tr style=\"text-align: right;\">\n      <th></th>\n      <th>cyclist_id</th>\n      <th>pcs_link</th>\n      <th>strava_link</th>\n      <th>strava_id</th>\n      <th>full_name</th>\n      <th>alon's_url</th>\n      <th>fetched_from_pcs</th>\n      <th>alon's_strava_id</th>\n    </tr>\n  </thead>\n  <tbody>\n    <tr>\n      <th>0</th>\n      <td>157</td>\n      <td>https://www.procyclingstats.com/rider/alessand...</td>\n      <td>https://www.strava.com/pros/9545283</td>\n      <td>9545283.0</td>\n      <td>DE MARCHI Alessandro</td>\n      <td>https://www.strava.com/pros/9545283</td>\n      <td>1.0</td>\n      <td>9545283.0</td>\n    </tr>\n    <tr>\n      <th>1</th>\n      <td>190</td>\n      <td>https://www.procyclingstats.com/rider/alex-dow...</td>\n      <td>https://www.strava.com/pros/505408</td>\n      <td>505408.0</td>\n      <td>DOWSETT Alex</td>\n      <td>https://www.strava.com/pros/505408</td>\n      <td>1.0</td>\n      <td>505408.0</td>\n    </tr>\n    <tr>\n      <th>2</th>\n      <td>203</td>\n      <td>https://www.procyclingstats.com/rider/alexande...</td>\n      <td>https://www.strava.com/athletes/3490359</td>\n      <td>3490359.0</td>\n      <td>CATAFORD Alexander</td>\n      <td>https://www.strava.com/athletes/3490359</td>\n      <td>1.0</td>\n      <td>3490359.0</td>\n    </tr>\n    <tr>\n      <th>3</th>\n      <td>261</td>\n      <td>https://www.procyclingstats.com/rider/alexis-r...</td>\n      <td>https://www.strava.com/pros/5915515</td>\n      <td>5915515.0</td>\n      <td>RENARD Alexis</td>\n      <td>https://www.strava.com/pros/5915515</td>\n      <td>1.0</td>\n      <td>5915515.0</td>\n    </tr>\n    <tr>\n      <th>4</th>\n      <td>329</td>\n      <td>https://www.procyclingstats.com/rider/andre-gr...</td>\n      <td>https://www.strava.com/pros/384548</td>\n      <td>384548.0</td>\n      <td>GREIPEL André</td>\n      <td>https://www.strava.com/pros/384548</td>\n      <td>1.0</td>\n      <td>384548.0</td>\n    </tr>\n    <tr>\n      <th>...</th>\n      <td>...</td>\n      <td>...</td>\n      <td>...</td>\n      <td>...</td>\n      <td>...</td>\n      <td>...</td>\n      <td>...</td>\n      <td>...</td>\n    </tr>\n    <tr>\n      <th>102</th>\n      <td>11632</td>\n      <td>https://www.procyclingstats.com/rider/yuval-zahor</td>\n      <td>NaN</td>\n      <td>NaN</td>\n      <td>ZAHOR Yuval</td>\n      <td>NaN</td>\n      <td>NaN</td>\n      <td>NaN</td>\n    </tr>\n    <tr>\n      <th>103</th>\n      <td>11633</td>\n      <td>https://www.procyclingstats.com/rider/ido-bear</td>\n      <td>NaN</td>\n      <td>NaN</td>\n      <td>BEAR Ido</td>\n      <td>NaN</td>\n      <td>NaN</td>\n      <td>NaN</td>\n    </tr>\n    <tr>\n      <th>104</th>\n      <td>11634</td>\n      <td>https://www.procyclingstats.com/rider/el-chokri</td>\n      <td>NaN</td>\n      <td>NaN</td>\n      <td>CHOKRI El Mehdi</td>\n      <td>NaN</td>\n      <td>NaN</td>\n      <td>NaN</td>\n    </tr>\n    <tr>\n      <th>105</th>\n      <td>11635</td>\n      <td>https://www.procyclingstats.com/rider/eitan-levi</td>\n      <td>NaN</td>\n      <td>NaN</td>\n      <td>LEVI Eitan</td>\n      <td>NaN</td>\n      <td>NaN</td>\n      <td>NaN</td>\n    </tr>\n    <tr>\n      <th>106</th>\n      <td>11636</td>\n      <td>https://www.procyclingstats.com/rider/carson-m...</td>\n      <td>NaN</td>\n      <td>NaN</td>\n      <td>MILES Carson</td>\n      <td>NaN</td>\n      <td>NaN</td>\n      <td>NaN</td>\n    </tr>\n  </tbody>\n</table>\n<p>107 rows × 8 columns</p>\n</div>"
     },
     "execution_count": 6,
     "metadata": {},
     "output_type": "execute_result"
    }
   ],
   "source": [
    "import pandas as pd\n",
    "\n",
    "ISN_merged_strava_urls = pd.read_csv('./data/ISN_merged_strava_urls.csv')\n",
    "for i, r in ISN_merged_strava_urls.iterrows():\n",
    "    if r['fetched_from_pcs'] == 0.0:\n",
    "        ISN_merged_strava_urls.at[i, 'strava_link'] = r[\"alon's_url\"]\n",
    "        ISN_merged_strava_urls.at[i, 'strava_id'] = r[\"alon's_strava_id\"]\n",
    "ISN_merged_strava_urls"
   ],
   "metadata": {
    "collapsed": false,
    "pycharm": {
     "name": "#%%\n"
    }
   }
  },
  {
   "cell_type": "code",
   "execution_count": 7,
   "outputs": [],
   "source": [
    "ISN_merged_strava_urls.to_csv('./data/ISN_merged_strava_urls.csv', index=False, header=True)\n"
   ],
   "metadata": {
    "collapsed": false,
    "pycharm": {
     "name": "#%%\n"
    }
   }
  },
  {
   "cell_type": "code",
   "execution_count": 111,
   "outputs": [],
   "source": [
    "import pandas as pd\n",
    "\n",
    "tp_id_df = pd.read_csv('../tp data to upload/2018 - 2018.csv')\n",
    "tp_id_df = tp_id_df.append(pd.read_csv('../tp data to upload/2019 - 2019.csv'), ignore_index=True)\n",
    "tp_id_df = tp_id_df.append(pd.read_csv('../tp data to upload/ISN-2020 - ISN-2020.csv'), ignore_index=True)\n",
    "tp_id_df = tp_id_df.append(pd.read_csv('../tp data to upload/ISN-2018-MISSING - ISN-2018-MISSING.csv'),\n",
    "                           ignore_index=True)\n",
    "tp_id_df = tp_id_df.append(pd.read_csv('../tp data to upload/ISN-2019-MISSING - ISN-2019-MISSING.csv'),\n",
    "                           ignore_index=True)\n",
    "tp_id_df = tp_id_df.append(pd.read_csv('../tp data to upload/ISN-2020-MISSING - ISN-2020-MISSING.csv'),\n",
    "                           ignore_index=True)\n",
    "tp_id_df = tp_id_df.append(pd.read_csv('../tp data to upload/ISN TP WT - TP Data.csv'), ignore_index=True)\n",
    "tp_id_df = tp_id_df.append(pd.read_csv('../tp data to upload/ISN TP WT - Workouts.csv'), ignore_index=True)"
   ],
   "metadata": {
    "collapsed": false,
    "pycharm": {
     "name": "#%%\n"
    }
   }
  },
  {
   "cell_type": "code",
   "execution_count": 112,
   "outputs": [
    {
     "data": {
      "text/plain": "[]"
     },
     "execution_count": 112,
     "metadata": {},
     "output_type": "execute_result"
    }
   ],
   "source": [
    "same_id_athletes = []\n",
    "for n, g in tp_id_df.groupby('Id'):\n",
    "    if len(g['Athlete'].unique()) > 1:\n",
    "        same_id_athletes.append[n]\n",
    "same_id_athletes"
   ],
   "metadata": {
    "collapsed": false,
    "pycharm": {
     "name": "#%%\n"
    }
   }
  },
  {
   "cell_type": "code",
   "execution_count": 113,
   "outputs": [
    {
     "data": {
      "text/plain": "Empty DataFrame\nColumns: [Id, Athlete, AthleteId, Mass, WorkoutType, WorkoutDay, StartTime, WorkoutWeek, WorkoutMonth, Title, Tags, TotalTime, Distance, Calories, Energy, PowerAverage, PowerMaximum, NormalizedPower, IF, TssActual, TssCalculationMethod, VelocityAverage, VelocityMaximum, CadenceAverage, CadenceMaximum, HeartRateAverage, HeartRateMaximum, HeartRateMinimum, ElevationGain, ElevationLoss, ElevationAverage, ElevationMaximum, ElevationMinimum, TempAvg, TempMin, TempMax, Power 5Seconds, Power 10Seconds, Power 12Seconds, Power 20Seconds, Power 30Seconds, Power 1Minute, Power 2Minutes, Power 5Minutes, Power 6Minutes, Power 10Minutes, Power 12Minutes, Power 20Minutes, Power 30Minutes, Power 1Hour, Power 90Minutes, Power 3Hours, Power Zone 1, Power Zone 2, Power Zone 3, Power Zone 4, Power Zone 5, Power Zone 6, Power Zone 7, Power Zone 1 Min, Power Zone 2 Min, Power Zone 3 Min, Power Zone 4 Min, Power Zone 5 Min, Power Zone 6 Min, Power Zone 7 Min, HR 5Seconds, HR 10Seconds, HR 12Seconds, HR 20Seconds, HR 30Seconds, HR 1Minute, HR 2Minutes, HR 5Minutes, HR 6Minutes, HR 10Minutes, HR 12Minutes, HR 20Minutes, HR 30Minutes, HR 1Hour, HR 90Minutes, HR 3Hours, HR Zone 1, HR Zone 2, HR Zone 3, HR Zone 4, HR Zone 5, HR Zone 1 Min, HR Zone 2 Min, HR Zone 3 Min, HR Zone 4 Min, HR Zone 5 Min, Speed 5Seconds, Speed 10Seconds, Speed 12Seconds, Speed 20Seconds, Speed 30Seconds, Speed 1Minute, Speed 2Minutes, Speed 5Minutes, ...]\nIndex: []\n\n[0 rows x 140 columns]",
      "text/html": "<div>\n<style scoped>\n    .dataframe tbody tr th:only-of-type {\n        vertical-align: middle;\n    }\n\n    .dataframe tbody tr th {\n        vertical-align: top;\n    }\n\n    .dataframe thead th {\n        text-align: right;\n    }\n</style>\n<table border=\"1\" class=\"dataframe\">\n  <thead>\n    <tr style=\"text-align: right;\">\n      <th></th>\n      <th>Id</th>\n      <th>Athlete</th>\n      <th>AthleteId</th>\n      <th>Mass</th>\n      <th>WorkoutType</th>\n      <th>WorkoutDay</th>\n      <th>StartTime</th>\n      <th>WorkoutWeek</th>\n      <th>WorkoutMonth</th>\n      <th>Title</th>\n      <th>...</th>\n      <th>Cadence 6Minutes</th>\n      <th>Cadence 10Minutes</th>\n      <th>Cadence 12Minutes</th>\n      <th>Cadence 20Minutes</th>\n      <th>Cadence 30Minutes</th>\n      <th>Cadence 1Hour</th>\n      <th>Cadence 90Minutes</th>\n      <th>Cadence 3Hours</th>\n      <th>Hidden</th>\n      <th>Locked</th>\n    </tr>\n  </thead>\n  <tbody>\n  </tbody>\n</table>\n<p>0 rows × 140 columns</p>\n</div>"
     },
     "execution_count": 113,
     "metadata": {},
     "output_type": "execute_result"
    }
   ],
   "source": [
    "tp_id_df.loc[tp_id_df['Id'].isin(same_id_athletes)]"
   ],
   "metadata": {
    "collapsed": false,
    "pycharm": {
     "name": "#%%\n"
    }
   }
  },
  {
   "cell_type": "code",
   "execution_count": 22,
   "outputs": [
    {
     "data": {
      "text/plain": "{'Rudy Barbier': 2551795,\n 'Sebastian Berwick': 1794622,\n 'Paddy Bevin': 1099161,\n 'Jenthe Biermans': 1370771,\n 'Guillaume Boivin': 667695,\n 'Matthias Brändle': 1573826,\n 'Alexander Cataford': 1756780,\n 'Davide Cimolai': 2325944,\n 'Alessandro De Marchi': 129435,\n 'Alex Dowsett': 526989,\n 'Itamar Einhorn': 926250,\n 'Carl Fredrik Hagen': 1280742,\n 'Omer Goldstein': 1910930,\n 'Andre Greipel': 1191365,\n 'Ben Hermans': 219467,\n 'Reto Hollenstein': 1816011,\n 'Daryl Impey': 563830,\n 'Taj Jones': 2070695,\n 'Dan Martin': 363679,\n 'Krists Neilands': 1156869,\n 'Guy Niv': 707098,\n 'Roches Roses': 2695442,\n 'Guy sagiv': 1580539,\n 'Mads Würtz Schmidt': 728200,\n 'Norman Vahtra': 2235229,\n 'Tom Van Asbroeck': 1581377,\n 'Sep Vanmarcke': 551257,\n 'Michael Woods': 1812774,\n 'Rick Zabel': 1147022,\n 'Alexis Renard': 2691798,\n 'James Piccoli': 1188099,\n 'Hugo hofstetter': 2977916,\n 'Matteo Badilatti': 1854568,\n 'Zakkari Dempster': 981255,\n 'Nathan Earle': 1167485,\n 'Awet Gebremedhin': 2200392,\n 'Daniel Turek': 1375312,\n 'Travis McCabe': 548250,\n 'Patrick Schelling': 2174391,\n 'Rory Sutherland': 579304,\n 'Nils Politt': 1826270,\n 'Mihkel Raim': 1580521,\n 'Daniel Navarro': 2495489}"
     },
     "execution_count": 22,
     "metadata": {},
     "output_type": "execute_result"
    }
   ],
   "source": [
    "tp_id_dict = {k: v for k, v in zip(tp_id_df['Athlete'], tp_id_df['AthleteId'])}\n",
    "tp_id_dict"
   ],
   "metadata": {
    "collapsed": false,
    "pycharm": {
     "name": "#%%\n"
    }
   }
  },
  {
   "cell_type": "code",
   "execution_count": 24,
   "outputs": [],
   "source": [
    "import json\n",
    "\n",
    "with open('./data/tp_athletes.json', 'a') as f:\n",
    "    f.write(json.dumps(tp_id_dict))\n"
   ],
   "metadata": {
    "collapsed": false,
    "pycharm": {
     "name": "#%%\n"
    }
   }
  },
  {
   "cell_type": "code",
   "execution_count": 103,
   "outputs": [
    {
     "data": {
      "text/plain": "       athlete_id  workout_tp_id     workout_datetime  total_time  \\\n0          129435      745141250  2005-01-25 17:41:20    1.065000   \n1          129435      745141259  2006-10-04 11:10:49    0.113056   \n2         1370771      246706963  2007-01-01 14:27:43    2.323860   \n3         1370771      247875422  2007-01-01 23:40:00    4.570451   \n4         1370771      255612894  2007-01-02 02:52:01    1.359576   \n...           ...            ...                  ...         ...   \n80172     1854568     1634589064  2022-01-06 11:27:37    2.888381   \n80173     1375312     1634769010  2022-01-06 16:30:32    1.511357   \n80174     1375312     1634761602  2022-01-06 15:56:24    2.005822   \n80175     2174391     1634805631  2022-01-06 18:20:24    0.125034   \n80176     2174391     1634815719  2022-01-06 18:31:51    0.149434   \n\n            distance  elevation_gain  elevation_loss  elevation_average  \\\n0       41081.670000             NaN             NaN                NaN   \n1        2817.080000             NaN             NaN                NaN   \n2       76016.000000       50.399963       44.599945           3.570111   \n3      124548.000000     1905.199890     1863.399902         321.536377   \n4       38890.000000       15.400024       17.000031         -27.843588   \n...              ...             ...             ...                ...   \n80172   76272.140625      964.000000      964.000000         611.191284   \n80173   56770.519531      414.000000      243.799998          29.412766   \n80174   58339.960938             NaN             NaN                NaN   \n80175    4686.879883       16.000000        9.600000          21.516890   \n80176    6019.160156       32.000000       36.999999          16.488966   \n\n       elevation_maximum  elevation_minimum  ...  temp_max  calories  \\\n0                    NaN                NaN  ...       NaN     755.0   \n1                    NaN                NaN  ...       NaN      41.0   \n2              16.400024          -9.399994  ...      31.0    1794.0   \n3             542.599976         125.200012  ...      17.0    3347.0   \n4             -20.799988         -33.600006  ...      31.0    1020.0   \n...                  ...                ...  ...       ...       ...   \n80172         850.200012         429.200012  ...      16.0    2092.0   \n80173         159.199997          10.400000  ...       NaN    1030.0   \n80174                NaN                NaN  ...      24.0    1638.0   \n80175          31.400000          11.600000  ...       NaN      87.0   \n80176          29.000000           8.600000  ...       NaN     113.0   \n\n       workout_week  workout_month  type        IF tss_actual  \\\n0               4.0              1  Bike  0.601992      38.19   \n1              40.0             10  Bike  0.763184       6.19   \n2               1.0              1  Bike  0.675235     105.72   \n3               1.0              1  Bike  0.796400     290.08   \n4               1.0              1  Bike       NaN        NaN   \n...             ...            ...   ...       ...        ...   \n80172           1.0              1  Bike  0.581819      97.42   \n80173           1.0              1  Bike  0.581423      50.11   \n80174           1.0              1  Bike  0.603118      72.61   \n80175           1.0              1  Bike  0.601936       4.24   \n80176           1.0              1  Bike  0.638403       5.76   \n\n       tss_calculation_method                             workout_title  \\\n0                       Power                                   Cycling   \n1                       Power                                   Cycling   \n2                       Power                                       NaN   \n3                       Power                                       NaN   \n4                   Undefined                                       NaN   \n...                       ...                                       ...   \n80172                   Power                              Road Cycling   \n80173                   Power  Zwift - Applewood Cycling Group Ride (B)   \n80174                   Power                            Indoor Cycling   \n80175                   Power                            Zwift - London   \n80176                   Power                            Zwift - London   \n\n          energy  \n0       755.3460  \n1        40.6485  \n2      1794.0500  \n3      3347.0520  \n4            NaN  \n...          ...  \n80172  1860.0360  \n80173  1067.9080  \n80174  1495.6080  \n80175    90.8420  \n80176   118.2770  \n\n[80177 rows x 22 columns]",
      "text/html": "<div>\n<style scoped>\n    .dataframe tbody tr th:only-of-type {\n        vertical-align: middle;\n    }\n\n    .dataframe tbody tr th {\n        vertical-align: top;\n    }\n\n    .dataframe thead th {\n        text-align: right;\n    }\n</style>\n<table border=\"1\" class=\"dataframe\">\n  <thead>\n    <tr style=\"text-align: right;\">\n      <th></th>\n      <th>athlete_id</th>\n      <th>workout_tp_id</th>\n      <th>workout_datetime</th>\n      <th>total_time</th>\n      <th>distance</th>\n      <th>elevation_gain</th>\n      <th>elevation_loss</th>\n      <th>elevation_average</th>\n      <th>elevation_maximum</th>\n      <th>elevation_minimum</th>\n      <th>...</th>\n      <th>temp_max</th>\n      <th>calories</th>\n      <th>workout_week</th>\n      <th>workout_month</th>\n      <th>type</th>\n      <th>IF</th>\n      <th>tss_actual</th>\n      <th>tss_calculation_method</th>\n      <th>workout_title</th>\n      <th>energy</th>\n    </tr>\n  </thead>\n  <tbody>\n    <tr>\n      <th>0</th>\n      <td>129435</td>\n      <td>745141250</td>\n      <td>2005-01-25 17:41:20</td>\n      <td>1.065000</td>\n      <td>41081.670000</td>\n      <td>NaN</td>\n      <td>NaN</td>\n      <td>NaN</td>\n      <td>NaN</td>\n      <td>NaN</td>\n      <td>...</td>\n      <td>NaN</td>\n      <td>755.0</td>\n      <td>4.0</td>\n      <td>1</td>\n      <td>Bike</td>\n      <td>0.601992</td>\n      <td>38.19</td>\n      <td>Power</td>\n      <td>Cycling</td>\n      <td>755.3460</td>\n    </tr>\n    <tr>\n      <th>1</th>\n      <td>129435</td>\n      <td>745141259</td>\n      <td>2006-10-04 11:10:49</td>\n      <td>0.113056</td>\n      <td>2817.080000</td>\n      <td>NaN</td>\n      <td>NaN</td>\n      <td>NaN</td>\n      <td>NaN</td>\n      <td>NaN</td>\n      <td>...</td>\n      <td>NaN</td>\n      <td>41.0</td>\n      <td>40.0</td>\n      <td>10</td>\n      <td>Bike</td>\n      <td>0.763184</td>\n      <td>6.19</td>\n      <td>Power</td>\n      <td>Cycling</td>\n      <td>40.6485</td>\n    </tr>\n    <tr>\n      <th>2</th>\n      <td>1370771</td>\n      <td>246706963</td>\n      <td>2007-01-01 14:27:43</td>\n      <td>2.323860</td>\n      <td>76016.000000</td>\n      <td>50.399963</td>\n      <td>44.599945</td>\n      <td>3.570111</td>\n      <td>16.400024</td>\n      <td>-9.399994</td>\n      <td>...</td>\n      <td>31.0</td>\n      <td>1794.0</td>\n      <td>1.0</td>\n      <td>1</td>\n      <td>Bike</td>\n      <td>0.675235</td>\n      <td>105.72</td>\n      <td>Power</td>\n      <td>NaN</td>\n      <td>1794.0500</td>\n    </tr>\n    <tr>\n      <th>3</th>\n      <td>1370771</td>\n      <td>247875422</td>\n      <td>2007-01-01 23:40:00</td>\n      <td>4.570451</td>\n      <td>124548.000000</td>\n      <td>1905.199890</td>\n      <td>1863.399902</td>\n      <td>321.536377</td>\n      <td>542.599976</td>\n      <td>125.200012</td>\n      <td>...</td>\n      <td>17.0</td>\n      <td>3347.0</td>\n      <td>1.0</td>\n      <td>1</td>\n      <td>Bike</td>\n      <td>0.796400</td>\n      <td>290.08</td>\n      <td>Power</td>\n      <td>NaN</td>\n      <td>3347.0520</td>\n    </tr>\n    <tr>\n      <th>4</th>\n      <td>1370771</td>\n      <td>255612894</td>\n      <td>2007-01-02 02:52:01</td>\n      <td>1.359576</td>\n      <td>38890.000000</td>\n      <td>15.400024</td>\n      <td>17.000031</td>\n      <td>-27.843588</td>\n      <td>-20.799988</td>\n      <td>-33.600006</td>\n      <td>...</td>\n      <td>31.0</td>\n      <td>1020.0</td>\n      <td>1.0</td>\n      <td>1</td>\n      <td>Bike</td>\n      <td>NaN</td>\n      <td>NaN</td>\n      <td>Undefined</td>\n      <td>NaN</td>\n      <td>NaN</td>\n    </tr>\n    <tr>\n      <th>...</th>\n      <td>...</td>\n      <td>...</td>\n      <td>...</td>\n      <td>...</td>\n      <td>...</td>\n      <td>...</td>\n      <td>...</td>\n      <td>...</td>\n      <td>...</td>\n      <td>...</td>\n      <td>...</td>\n      <td>...</td>\n      <td>...</td>\n      <td>...</td>\n      <td>...</td>\n      <td>...</td>\n      <td>...</td>\n      <td>...</td>\n      <td>...</td>\n      <td>...</td>\n      <td>...</td>\n    </tr>\n    <tr>\n      <th>80172</th>\n      <td>1854568</td>\n      <td>1634589064</td>\n      <td>2022-01-06 11:27:37</td>\n      <td>2.888381</td>\n      <td>76272.140625</td>\n      <td>964.000000</td>\n      <td>964.000000</td>\n      <td>611.191284</td>\n      <td>850.200012</td>\n      <td>429.200012</td>\n      <td>...</td>\n      <td>16.0</td>\n      <td>2092.0</td>\n      <td>1.0</td>\n      <td>1</td>\n      <td>Bike</td>\n      <td>0.581819</td>\n      <td>97.42</td>\n      <td>Power</td>\n      <td>Road Cycling</td>\n      <td>1860.0360</td>\n    </tr>\n    <tr>\n      <th>80173</th>\n      <td>1375312</td>\n      <td>1634769010</td>\n      <td>2022-01-06 16:30:32</td>\n      <td>1.511357</td>\n      <td>56770.519531</td>\n      <td>414.000000</td>\n      <td>243.799998</td>\n      <td>29.412766</td>\n      <td>159.199997</td>\n      <td>10.400000</td>\n      <td>...</td>\n      <td>NaN</td>\n      <td>1030.0</td>\n      <td>1.0</td>\n      <td>1</td>\n      <td>Bike</td>\n      <td>0.581423</td>\n      <td>50.11</td>\n      <td>Power</td>\n      <td>Zwift - Applewood Cycling Group Ride (B)</td>\n      <td>1067.9080</td>\n    </tr>\n    <tr>\n      <th>80174</th>\n      <td>1375312</td>\n      <td>1634761602</td>\n      <td>2022-01-06 15:56:24</td>\n      <td>2.005822</td>\n      <td>58339.960938</td>\n      <td>NaN</td>\n      <td>NaN</td>\n      <td>NaN</td>\n      <td>NaN</td>\n      <td>NaN</td>\n      <td>...</td>\n      <td>24.0</td>\n      <td>1638.0</td>\n      <td>1.0</td>\n      <td>1</td>\n      <td>Bike</td>\n      <td>0.603118</td>\n      <td>72.61</td>\n      <td>Power</td>\n      <td>Indoor Cycling</td>\n      <td>1495.6080</td>\n    </tr>\n    <tr>\n      <th>80175</th>\n      <td>2174391</td>\n      <td>1634805631</td>\n      <td>2022-01-06 18:20:24</td>\n      <td>0.125034</td>\n      <td>4686.879883</td>\n      <td>16.000000</td>\n      <td>9.600000</td>\n      <td>21.516890</td>\n      <td>31.400000</td>\n      <td>11.600000</td>\n      <td>...</td>\n      <td>NaN</td>\n      <td>87.0</td>\n      <td>1.0</td>\n      <td>1</td>\n      <td>Bike</td>\n      <td>0.601936</td>\n      <td>4.24</td>\n      <td>Power</td>\n      <td>Zwift - London</td>\n      <td>90.8420</td>\n    </tr>\n    <tr>\n      <th>80176</th>\n      <td>2174391</td>\n      <td>1634815719</td>\n      <td>2022-01-06 18:31:51</td>\n      <td>0.149434</td>\n      <td>6019.160156</td>\n      <td>32.000000</td>\n      <td>36.999999</td>\n      <td>16.488966</td>\n      <td>29.000000</td>\n      <td>8.600000</td>\n      <td>...</td>\n      <td>NaN</td>\n      <td>113.0</td>\n      <td>1.0</td>\n      <td>1</td>\n      <td>Bike</td>\n      <td>0.638403</td>\n      <td>5.76</td>\n      <td>Power</td>\n      <td>Zwift - London</td>\n      <td>118.2770</td>\n    </tr>\n  </tbody>\n</table>\n<p>80177 rows × 22 columns</p>\n</div>"
     },
     "execution_count": 103,
     "metadata": {},
     "output_type": "execute_result"
    }
   ],
   "source": [
    "import pandas as pd\n",
    "\n",
    "workouts_df = pd.read_csv('./data/workouts.csv')\n",
    "workouts_df[workouts_df.duplicated()]\n",
    "workouts_df"
   ],
   "metadata": {
    "collapsed": false,
    "pycharm": {
     "name": "#%%\n"
    }
   }
  },
  {
   "cell_type": "code",
   "execution_count": 106,
   "outputs": [
    {
     "data": {
      "text/plain": "33"
     },
     "execution_count": 106,
     "metadata": {},
     "output_type": "execute_result"
    }
   ],
   "source": [
    "len(workouts_df['athlete_id'].unique())"
   ],
   "metadata": {
    "collapsed": false,
    "pycharm": {
     "name": "#%%\n"
    }
   }
  },
  {
   "cell_type": "code",
   "execution_count": 20,
   "outputs": [
    {
     "name": "stdout",
     "output_type": "stream",
     "text": [
      "80177\n"
     ]
    },
    {
     "data": {
      "text/plain": "80177"
     },
     "execution_count": 20,
     "metadata": {},
     "output_type": "execute_result"
    }
   ],
   "source": [
    "print(len(workouts_df))\n",
    "len(set(workouts_df['workout_tp_id']))"
   ],
   "metadata": {
    "collapsed": false,
    "pycharm": {
     "name": "#%%\n"
    }
   }
  },
  {
   "cell_type": "code",
   "execution_count": 24,
   "outputs": [
    {
     "data": {
      "text/plain": "46065"
     },
     "execution_count": 24,
     "metadata": {},
     "output_type": "execute_result"
    }
   ],
   "source": [
    "len(set(tp_id_df['Id']))\n"
   ],
   "metadata": {
    "collapsed": false,
    "pycharm": {
     "name": "#%%\n"
    }
   }
  },
  {
   "cell_type": "code",
   "execution_count": 22,
   "outputs": [],
   "source": [
    "tp_id_df = tp_id_df.drop_duplicates()"
   ],
   "metadata": {
    "collapsed": false,
    "pycharm": {
     "name": "#%%\n"
    }
   }
  },
  {
   "cell_type": "code",
   "execution_count": 30,
   "outputs": [
    {
     "name": "stdout",
     "output_type": "stream",
     "text": [
      "46065\n"
     ]
    },
    {
     "data": {
      "text/plain": "57515"
     },
     "execution_count": 30,
     "metadata": {},
     "output_type": "execute_result"
    }
   ],
   "source": [
    "print(len(set(tp_id_df['Id'])))\n",
    "len(tp_id_df)"
   ],
   "metadata": {
    "collapsed": false,
    "pycharm": {
     "name": "#%%\n"
    }
   }
  },
  {
   "cell_type": "code",
   "execution_count": 2,
   "outputs": [
    {
     "data": {
      "text/plain": "       cyclist_id           full_name date_of_birth       nation  pcs_weight  \\\n0               1    Aad van den Hoek    1951-10-14  Netherlands        77.0   \n1               2          Aaron Gate    1990-11-26  New Zealand        71.0   \n2               3         Aaron Kemps    1983-09-10    Australia        73.0   \n3               4    Aaron Van Poucke    1998-04-04      Belgium        68.0   \n4               5      Aaron Verwilst    1997-05-02      Belgium        68.0   \n...           ...                 ...           ...          ...         ...   \n18973       18974  Peter Tiefenthaler    1934-05-20  Switzerland         NaN   \n18974       18975        Ernst Traxel    1933-11-23  Switzerland         NaN   \n18975       18976     Wies Van Dongen    1931-07-30  Netherlands         NaN   \n18976       18977        Piet van Est    1934-08-11  Netherlands         NaN   \n18977       18978     Piet van Kempen    1898-12-12  Netherlands         NaN   \n\n       pcs_height                                           pcs_link  \\\n0            1.86  https://www.procyclingstats.com/rider/aad-van-...   \n1            1.80   https://www.procyclingstats.com/rider/aaron-gate   \n2            1.81  https://www.procyclingstats.com/rider/aaron-kemps   \n3            1.77  https://www.procyclingstats.com/rider/aaron-va...   \n4            1.82  https://www.procyclingstats.com/rider/aaron-ve...   \n...           ...                                                ...   \n18973         NaN  https://www.procyclingstats.com/rider/peter-ti...   \n18974         NaN  https://www.procyclingstats.com/rider/ernst-tr...   \n18975         NaN  https://www.procyclingstats.com/rider/wies-van...   \n18976         NaN  https://www.procyclingstats.com/rider/piet-van...   \n18977         NaN  https://www.procyclingstats.com/rider/piet-van...   \n\n         cyclist_name_pcs  \n0        VAN DEN HOEK Aad  \n1              GATE Aaron  \n2             KEMPS Aaron  \n3        VAN POUCKE Aaron  \n4          VERWILST Aaron  \n...                   ...  \n18973  TIEFENTHALER Peter  \n18974        TRAXEL Ernst  \n18975     VAN DONGEN Wies  \n18976        VAN EST Piet  \n18977     VAN KEMPEN Piet  \n\n[18978 rows x 8 columns]",
      "text/html": "<div>\n<style scoped>\n    .dataframe tbody tr th:only-of-type {\n        vertical-align: middle;\n    }\n\n    .dataframe tbody tr th {\n        vertical-align: top;\n    }\n\n    .dataframe thead th {\n        text-align: right;\n    }\n</style>\n<table border=\"1\" class=\"dataframe\">\n  <thead>\n    <tr style=\"text-align: right;\">\n      <th></th>\n      <th>cyclist_id</th>\n      <th>full_name</th>\n      <th>date_of_birth</th>\n      <th>nation</th>\n      <th>pcs_weight</th>\n      <th>pcs_height</th>\n      <th>pcs_link</th>\n      <th>cyclist_name_pcs</th>\n    </tr>\n  </thead>\n  <tbody>\n    <tr>\n      <th>0</th>\n      <td>1</td>\n      <td>Aad van den Hoek</td>\n      <td>1951-10-14</td>\n      <td>Netherlands</td>\n      <td>77.0</td>\n      <td>1.86</td>\n      <td>https://www.procyclingstats.com/rider/aad-van-...</td>\n      <td>VAN DEN HOEK Aad</td>\n    </tr>\n    <tr>\n      <th>1</th>\n      <td>2</td>\n      <td>Aaron Gate</td>\n      <td>1990-11-26</td>\n      <td>New Zealand</td>\n      <td>71.0</td>\n      <td>1.80</td>\n      <td>https://www.procyclingstats.com/rider/aaron-gate</td>\n      <td>GATE Aaron</td>\n    </tr>\n    <tr>\n      <th>2</th>\n      <td>3</td>\n      <td>Aaron Kemps</td>\n      <td>1983-09-10</td>\n      <td>Australia</td>\n      <td>73.0</td>\n      <td>1.81</td>\n      <td>https://www.procyclingstats.com/rider/aaron-kemps</td>\n      <td>KEMPS Aaron</td>\n    </tr>\n    <tr>\n      <th>3</th>\n      <td>4</td>\n      <td>Aaron Van Poucke</td>\n      <td>1998-04-04</td>\n      <td>Belgium</td>\n      <td>68.0</td>\n      <td>1.77</td>\n      <td>https://www.procyclingstats.com/rider/aaron-va...</td>\n      <td>VAN POUCKE Aaron</td>\n    </tr>\n    <tr>\n      <th>4</th>\n      <td>5</td>\n      <td>Aaron Verwilst</td>\n      <td>1997-05-02</td>\n      <td>Belgium</td>\n      <td>68.0</td>\n      <td>1.82</td>\n      <td>https://www.procyclingstats.com/rider/aaron-ve...</td>\n      <td>VERWILST Aaron</td>\n    </tr>\n    <tr>\n      <th>...</th>\n      <td>...</td>\n      <td>...</td>\n      <td>...</td>\n      <td>...</td>\n      <td>...</td>\n      <td>...</td>\n      <td>...</td>\n      <td>...</td>\n    </tr>\n    <tr>\n      <th>18973</th>\n      <td>18974</td>\n      <td>Peter Tiefenthaler</td>\n      <td>1934-05-20</td>\n      <td>Switzerland</td>\n      <td>NaN</td>\n      <td>NaN</td>\n      <td>https://www.procyclingstats.com/rider/peter-ti...</td>\n      <td>TIEFENTHALER Peter</td>\n    </tr>\n    <tr>\n      <th>18974</th>\n      <td>18975</td>\n      <td>Ernst Traxel</td>\n      <td>1933-11-23</td>\n      <td>Switzerland</td>\n      <td>NaN</td>\n      <td>NaN</td>\n      <td>https://www.procyclingstats.com/rider/ernst-tr...</td>\n      <td>TRAXEL Ernst</td>\n    </tr>\n    <tr>\n      <th>18975</th>\n      <td>18976</td>\n      <td>Wies Van Dongen</td>\n      <td>1931-07-30</td>\n      <td>Netherlands</td>\n      <td>NaN</td>\n      <td>NaN</td>\n      <td>https://www.procyclingstats.com/rider/wies-van...</td>\n      <td>VAN DONGEN Wies</td>\n    </tr>\n    <tr>\n      <th>18976</th>\n      <td>18977</td>\n      <td>Piet van Est</td>\n      <td>1934-08-11</td>\n      <td>Netherlands</td>\n      <td>NaN</td>\n      <td>NaN</td>\n      <td>https://www.procyclingstats.com/rider/piet-van...</td>\n      <td>VAN EST Piet</td>\n    </tr>\n    <tr>\n      <th>18977</th>\n      <td>18978</td>\n      <td>Piet van Kempen</td>\n      <td>1898-12-12</td>\n      <td>Netherlands</td>\n      <td>NaN</td>\n      <td>NaN</td>\n      <td>https://www.procyclingstats.com/rider/piet-van...</td>\n      <td>VAN KEMPEN Piet</td>\n    </tr>\n  </tbody>\n</table>\n<p>18978 rows × 8 columns</p>\n</div>"
     },
     "execution_count": 2,
     "metadata": {},
     "output_type": "execute_result"
    }
   ],
   "source": [
    "import pandas as pd\n",
    "\n",
    "cyclists_df = pd.read_csv('./data/cyclists.csv')\n",
    "cyclists_df"
   ],
   "metadata": {
    "collapsed": false,
    "pycharm": {
     "name": "#%%\n"
    }
   }
  },
  {
   "cell_type": "code",
   "execution_count": 3,
   "outputs": [
    {
     "data": {
      "text/plain": "              full_name  cyclist_id                                      url\n0        ABERASTURI Jon         1.0     https://www.strava.com/pros/16275051\n1      ABRAHAMSEN Jonas         2.0  https://www.strava.com/athletes/3249116\n2      ACKERMANN Pascal         3.0     https://www.strava.com/pros/12274527\n3           ADRIÀ Roger         4.0  https://www.strava.com/athletes/6390713\n4        AFFINI Edoardo         5.0     https://www.strava.com/pros/37167909\n...                 ...         ...                                      ...\n7787        JESSON Paul         NaN                                      NaN\n7788     PEETERS Walter         NaN                                      NaN\n7789      SONNET Pierre         NaN                                      NaN\n7790    BALBUENA Michel         NaN                                      NaN\n7791  GUTIERREZ Antoine         NaN                                      NaN\n\n[8688 rows x 3 columns]",
      "text/html": "<div>\n<style scoped>\n    .dataframe tbody tr th:only-of-type {\n        vertical-align: middle;\n    }\n\n    .dataframe tbody tr th {\n        vertical-align: top;\n    }\n\n    .dataframe thead th {\n        text-align: right;\n    }\n</style>\n<table border=\"1\" class=\"dataframe\">\n  <thead>\n    <tr style=\"text-align: right;\">\n      <th></th>\n      <th>full_name</th>\n      <th>cyclist_id</th>\n      <th>url</th>\n    </tr>\n  </thead>\n  <tbody>\n    <tr>\n      <th>0</th>\n      <td>ABERASTURI Jon</td>\n      <td>1.0</td>\n      <td>https://www.strava.com/pros/16275051</td>\n    </tr>\n    <tr>\n      <th>1</th>\n      <td>ABRAHAMSEN Jonas</td>\n      <td>2.0</td>\n      <td>https://www.strava.com/athletes/3249116</td>\n    </tr>\n    <tr>\n      <th>2</th>\n      <td>ACKERMANN Pascal</td>\n      <td>3.0</td>\n      <td>https://www.strava.com/pros/12274527</td>\n    </tr>\n    <tr>\n      <th>3</th>\n      <td>ADRIÀ Roger</td>\n      <td>4.0</td>\n      <td>https://www.strava.com/athletes/6390713</td>\n    </tr>\n    <tr>\n      <th>4</th>\n      <td>AFFINI Edoardo</td>\n      <td>5.0</td>\n      <td>https://www.strava.com/pros/37167909</td>\n    </tr>\n    <tr>\n      <th>...</th>\n      <td>...</td>\n      <td>...</td>\n      <td>...</td>\n    </tr>\n    <tr>\n      <th>7787</th>\n      <td>JESSON Paul</td>\n      <td>NaN</td>\n      <td>NaN</td>\n    </tr>\n    <tr>\n      <th>7788</th>\n      <td>PEETERS Walter</td>\n      <td>NaN</td>\n      <td>NaN</td>\n    </tr>\n    <tr>\n      <th>7789</th>\n      <td>SONNET Pierre</td>\n      <td>NaN</td>\n      <td>NaN</td>\n    </tr>\n    <tr>\n      <th>7790</th>\n      <td>BALBUENA Michel</td>\n      <td>NaN</td>\n      <td>NaN</td>\n    </tr>\n    <tr>\n      <th>7791</th>\n      <td>GUTIERREZ Antoine</td>\n      <td>NaN</td>\n      <td>NaN</td>\n    </tr>\n  </tbody>\n</table>\n<p>8688 rows × 3 columns</p>\n</div>"
     },
     "execution_count": 3,
     "metadata": {},
     "output_type": "execute_result"
    }
   ],
   "source": [
    "riders_url_alon = pd.read_csv('./data/riders_urls.csv', index_col=0)\n",
    "riders_url_alon"
   ],
   "metadata": {
    "collapsed": false,
    "pycharm": {
     "name": "#%%\n"
    }
   }
  },
  {
   "cell_type": "code",
   "execution_count": 5,
   "outputs": [],
   "source": [
    "riders_url_maor = pd.read_csv('./data/cyclists_strava_urls.csv')"
   ],
   "metadata": {
    "collapsed": false,
    "pycharm": {
     "name": "#%%\n"
    }
   }
  },
  {
   "cell_type": "code",
   "execution_count": 6,
   "outputs": [
    {
     "data": {
      "text/plain": "       cyclist_id                                           pcs_link  \\\n0            1092  https://www.procyclingstats.com/rider/clement-...   \n1               2   https://www.procyclingstats.com/rider/aaron-gate   \n2               4  https://www.procyclingstats.com/rider/aaron-va...   \n3               5  https://www.procyclingstats.com/rider/aaron-ve...   \n4              18  https://www.procyclingstats.com/rider/adam-blythe   \n...           ...                                                ...   \n18999       18974  https://www.procyclingstats.com/rider/peter-ti...   \n19000       18975  https://www.procyclingstats.com/rider/ernst-tr...   \n19001       18976  https://www.procyclingstats.com/rider/wies-van...   \n19002       18977  https://www.procyclingstats.com/rider/piet-van...   \n19003       18978  https://www.procyclingstats.com/rider/piet-van...   \n\n                                   strava_link strava_id           full_name  \n0      https://www.strava.com/athletes/7186660   7186660     BERTHET Clément  \n1       https://www.strava.com/athletes/450531    450531          GATE Aaron  \n2          https://www.strava.com/pros/7967844   7967844    VAN POUCKE Aaron  \n3         https://www.strava.com/pros/13084830  13084830      VERWILST Aaron  \n4          https://www.strava.com/pros/1636003   1636003         BLYTHE Adam  \n...                                        ...       ...                 ...  \n18999                                      NaN       NaN  TIEFENTHALER Peter  \n19000                                      NaN       NaN        TRAXEL Ernst  \n19001                                      NaN       NaN     VAN DONGEN Wies  \n19002                                      NaN       NaN        VAN EST Piet  \n19003                                      NaN       NaN     VAN KEMPEN Piet  \n\n[19004 rows x 5 columns]",
      "text/html": "<div>\n<style scoped>\n    .dataframe tbody tr th:only-of-type {\n        vertical-align: middle;\n    }\n\n    .dataframe tbody tr th {\n        vertical-align: top;\n    }\n\n    .dataframe thead th {\n        text-align: right;\n    }\n</style>\n<table border=\"1\" class=\"dataframe\">\n  <thead>\n    <tr style=\"text-align: right;\">\n      <th></th>\n      <th>cyclist_id</th>\n      <th>pcs_link</th>\n      <th>strava_link</th>\n      <th>strava_id</th>\n      <th>full_name</th>\n    </tr>\n  </thead>\n  <tbody>\n    <tr>\n      <th>0</th>\n      <td>1092</td>\n      <td>https://www.procyclingstats.com/rider/clement-...</td>\n      <td>https://www.strava.com/athletes/7186660</td>\n      <td>7186660</td>\n      <td>BERTHET Clément</td>\n    </tr>\n    <tr>\n      <th>1</th>\n      <td>2</td>\n      <td>https://www.procyclingstats.com/rider/aaron-gate</td>\n      <td>https://www.strava.com/athletes/450531</td>\n      <td>450531</td>\n      <td>GATE Aaron</td>\n    </tr>\n    <tr>\n      <th>2</th>\n      <td>4</td>\n      <td>https://www.procyclingstats.com/rider/aaron-va...</td>\n      <td>https://www.strava.com/pros/7967844</td>\n      <td>7967844</td>\n      <td>VAN POUCKE Aaron</td>\n    </tr>\n    <tr>\n      <th>3</th>\n      <td>5</td>\n      <td>https://www.procyclingstats.com/rider/aaron-ve...</td>\n      <td>https://www.strava.com/pros/13084830</td>\n      <td>13084830</td>\n      <td>VERWILST Aaron</td>\n    </tr>\n    <tr>\n      <th>4</th>\n      <td>18</td>\n      <td>https://www.procyclingstats.com/rider/adam-blythe</td>\n      <td>https://www.strava.com/pros/1636003</td>\n      <td>1636003</td>\n      <td>BLYTHE Adam</td>\n    </tr>\n    <tr>\n      <th>...</th>\n      <td>...</td>\n      <td>...</td>\n      <td>...</td>\n      <td>...</td>\n      <td>...</td>\n    </tr>\n    <tr>\n      <th>18999</th>\n      <td>18974</td>\n      <td>https://www.procyclingstats.com/rider/peter-ti...</td>\n      <td>NaN</td>\n      <td>NaN</td>\n      <td>TIEFENTHALER Peter</td>\n    </tr>\n    <tr>\n      <th>19000</th>\n      <td>18975</td>\n      <td>https://www.procyclingstats.com/rider/ernst-tr...</td>\n      <td>NaN</td>\n      <td>NaN</td>\n      <td>TRAXEL Ernst</td>\n    </tr>\n    <tr>\n      <th>19001</th>\n      <td>18976</td>\n      <td>https://www.procyclingstats.com/rider/wies-van...</td>\n      <td>NaN</td>\n      <td>NaN</td>\n      <td>VAN DONGEN Wies</td>\n    </tr>\n    <tr>\n      <th>19002</th>\n      <td>18977</td>\n      <td>https://www.procyclingstats.com/rider/piet-van...</td>\n      <td>NaN</td>\n      <td>NaN</td>\n      <td>VAN EST Piet</td>\n    </tr>\n    <tr>\n      <th>19003</th>\n      <td>18978</td>\n      <td>https://www.procyclingstats.com/rider/piet-van...</td>\n      <td>NaN</td>\n      <td>NaN</td>\n      <td>VAN KEMPEN Piet</td>\n    </tr>\n  </tbody>\n</table>\n<p>19004 rows × 5 columns</p>\n</div>"
     },
     "execution_count": 6,
     "metadata": {},
     "output_type": "execute_result"
    }
   ],
   "source": [
    "rider_id_dict = {k: v for k, v in zip(cyclists_df['cyclist_id'], cyclists_df['cyclist_name_pcs'])}\n",
    "riders_url_maor['full_name'] = riders_url_maor['cyclist_id'].map(rider_id_dict)\n",
    "riders_url_maor"
   ],
   "metadata": {
    "collapsed": false,
    "pycharm": {
     "name": "#%%\n"
    }
   }
  },
  {
   "cell_type": "code",
   "execution_count": 7,
   "outputs": [
    {
     "data": {
      "text/plain": "       cyclist_id_x                                           pcs_link  \\\n0            1092.0  https://www.procyclingstats.com/rider/clement-...   \n1               2.0   https://www.procyclingstats.com/rider/aaron-gate   \n2               4.0  https://www.procyclingstats.com/rider/aaron-va...   \n3               5.0  https://www.procyclingstats.com/rider/aaron-ve...   \n4              18.0  https://www.procyclingstats.com/rider/adam-blythe   \n...             ...                                                ...   \n19057           NaN                                                NaN   \n19058           NaN                                                NaN   \n19059           NaN                                                NaN   \n19060           NaN                                                NaN   \n19061           NaN                                                NaN   \n\n                                   strava_link strava_id            full_name  \\\n0      https://www.strava.com/athletes/7186660   7186660      BERTHET Clément   \n1       https://www.strava.com/athletes/450531    450531           GATE Aaron   \n2          https://www.strava.com/pros/7967844   7967844     VAN POUCKE Aaron   \n3         https://www.strava.com/pros/13084830  13084830       VERWILST Aaron   \n4          https://www.strava.com/pros/1636003   1636003          BLYTHE Adam   \n...                                        ...       ...                  ...   \n19057                                      NaN       NaN             MOOY Jos   \n19058                                      NaN       NaN  ØSTERGAARD Jan Erik   \n19059                                      NaN       NaN  GROENENDAAL Reinier   \n19060                                      NaN       NaN   NALDI Juri-stefano   \n19061                                      NaN       NaN      LUC DUTHOO Jean   \n\n       cyclist_id_y                                      url  \n0              92.0  https://www.strava.com/athletes/7186660  \n1            1558.0   https://www.strava.com/athletes/450531  \n2             921.0      https://www.strava.com/pros/7967844  \n3             948.0     https://www.strava.com/pros/13084830  \n4            1330.0      https://www.strava.com/pros/1636003  \n...             ...                                      ...  \n19057           NaN                                      NaN  \n19058           NaN                                      NaN  \n19059           NaN                                      NaN  \n19060           NaN                                      NaN  \n19061           NaN                                      NaN  \n\n[19062 rows x 7 columns]",
      "text/html": "<div>\n<style scoped>\n    .dataframe tbody tr th:only-of-type {\n        vertical-align: middle;\n    }\n\n    .dataframe tbody tr th {\n        vertical-align: top;\n    }\n\n    .dataframe thead th {\n        text-align: right;\n    }\n</style>\n<table border=\"1\" class=\"dataframe\">\n  <thead>\n    <tr style=\"text-align: right;\">\n      <th></th>\n      <th>cyclist_id_x</th>\n      <th>pcs_link</th>\n      <th>strava_link</th>\n      <th>strava_id</th>\n      <th>full_name</th>\n      <th>cyclist_id_y</th>\n      <th>url</th>\n    </tr>\n  </thead>\n  <tbody>\n    <tr>\n      <th>0</th>\n      <td>1092.0</td>\n      <td>https://www.procyclingstats.com/rider/clement-...</td>\n      <td>https://www.strava.com/athletes/7186660</td>\n      <td>7186660</td>\n      <td>BERTHET Clément</td>\n      <td>92.0</td>\n      <td>https://www.strava.com/athletes/7186660</td>\n    </tr>\n    <tr>\n      <th>1</th>\n      <td>2.0</td>\n      <td>https://www.procyclingstats.com/rider/aaron-gate</td>\n      <td>https://www.strava.com/athletes/450531</td>\n      <td>450531</td>\n      <td>GATE Aaron</td>\n      <td>1558.0</td>\n      <td>https://www.strava.com/athletes/450531</td>\n    </tr>\n    <tr>\n      <th>2</th>\n      <td>4.0</td>\n      <td>https://www.procyclingstats.com/rider/aaron-va...</td>\n      <td>https://www.strava.com/pros/7967844</td>\n      <td>7967844</td>\n      <td>VAN POUCKE Aaron</td>\n      <td>921.0</td>\n      <td>https://www.strava.com/pros/7967844</td>\n    </tr>\n    <tr>\n      <th>3</th>\n      <td>5.0</td>\n      <td>https://www.procyclingstats.com/rider/aaron-ve...</td>\n      <td>https://www.strava.com/pros/13084830</td>\n      <td>13084830</td>\n      <td>VERWILST Aaron</td>\n      <td>948.0</td>\n      <td>https://www.strava.com/pros/13084830</td>\n    </tr>\n    <tr>\n      <th>4</th>\n      <td>18.0</td>\n      <td>https://www.procyclingstats.com/rider/adam-blythe</td>\n      <td>https://www.strava.com/pros/1636003</td>\n      <td>1636003</td>\n      <td>BLYTHE Adam</td>\n      <td>1330.0</td>\n      <td>https://www.strava.com/pros/1636003</td>\n    </tr>\n    <tr>\n      <th>...</th>\n      <td>...</td>\n      <td>...</td>\n      <td>...</td>\n      <td>...</td>\n      <td>...</td>\n      <td>...</td>\n      <td>...</td>\n    </tr>\n    <tr>\n      <th>19057</th>\n      <td>NaN</td>\n      <td>NaN</td>\n      <td>NaN</td>\n      <td>NaN</td>\n      <td>MOOY Jos</td>\n      <td>NaN</td>\n      <td>NaN</td>\n    </tr>\n    <tr>\n      <th>19058</th>\n      <td>NaN</td>\n      <td>NaN</td>\n      <td>NaN</td>\n      <td>NaN</td>\n      <td>ØSTERGAARD Jan Erik</td>\n      <td>NaN</td>\n      <td>NaN</td>\n    </tr>\n    <tr>\n      <th>19059</th>\n      <td>NaN</td>\n      <td>NaN</td>\n      <td>NaN</td>\n      <td>NaN</td>\n      <td>GROENENDAAL Reinier</td>\n      <td>NaN</td>\n      <td>NaN</td>\n    </tr>\n    <tr>\n      <th>19060</th>\n      <td>NaN</td>\n      <td>NaN</td>\n      <td>NaN</td>\n      <td>NaN</td>\n      <td>NALDI Juri-stefano</td>\n      <td>NaN</td>\n      <td>NaN</td>\n    </tr>\n    <tr>\n      <th>19061</th>\n      <td>NaN</td>\n      <td>NaN</td>\n      <td>NaN</td>\n      <td>NaN</td>\n      <td>LUC DUTHOO Jean</td>\n      <td>NaN</td>\n      <td>NaN</td>\n    </tr>\n  </tbody>\n</table>\n<p>19062 rows × 7 columns</p>\n</div>"
     },
     "execution_count": 7,
     "metadata": {},
     "output_type": "execute_result"
    }
   ],
   "source": [
    "merged_urls_all_teams = riders_url_maor.merge(riders_url_alon, how='outer', on='full_name')\n",
    "merged_urls_all_teams"
   ],
   "metadata": {
    "collapsed": false,
    "pycharm": {
     "name": "#%%\n"
    }
   }
  },
  {
   "cell_type": "code",
   "execution_count": 8,
   "outputs": [],
   "source": [
    "merged_urls_all_teams['fetched_from_pcs'] = None"
   ],
   "metadata": {
    "collapsed": false,
    "pycharm": {
     "name": "#%%\n"
    }
   }
  },
  {
   "cell_type": "code",
   "execution_count": 16,
   "outputs": [
    {
     "ename": "AttributeError",
     "evalue": "'NoneType' object has no attribute 'split'",
     "output_type": "error",
     "traceback": [
      "\u001B[1;31m---------------------------------------------------------------------------\u001B[0m",
      "\u001B[1;31mAttributeError\u001B[0m                            Traceback (most recent call last)",
      "\u001B[1;32m~\\AppData\\Local\\Temp/ipykernel_28284/1399908866.py\u001B[0m in \u001B[0;36m<module>\u001B[1;34m\u001B[0m\n\u001B[0;32m     13\u001B[0m         \u001B[0mi_missed\u001B[0m\u001B[1;33m.\u001B[0m\u001B[0mappend\u001B[0m\u001B[1;33m(\u001B[0m\u001B[0mi\u001B[0m\u001B[1;33m)\u001B[0m\u001B[1;33m\u001B[0m\u001B[1;33m\u001B[0m\u001B[0m\n\u001B[0;32m     14\u001B[0m         \u001B[1;32mcontinue\u001B[0m\u001B[1;33m\u001B[0m\u001B[1;33m\u001B[0m\u001B[0m\n\u001B[1;32m---> 15\u001B[1;33m     \u001B[0malon_strava_id\u001B[0m \u001B[1;33m=\u001B[0m \u001B[0mr\u001B[0m\u001B[1;33m[\u001B[0m\u001B[1;34m'url'\u001B[0m\u001B[1;33m]\u001B[0m\u001B[1;33m.\u001B[0m\u001B[0msplit\u001B[0m\u001B[1;33m(\u001B[0m\u001B[1;34m'/'\u001B[0m\u001B[1;33m)\u001B[0m\u001B[1;33m[\u001B[0m\u001B[1;33m-\u001B[0m\u001B[1;36m1\u001B[0m\u001B[1;33m]\u001B[0m\u001B[1;33m.\u001B[0m\u001B[0msplit\u001B[0m\u001B[1;33m(\u001B[0m\u001B[1;34m'?'\u001B[0m\u001B[1;33m)\u001B[0m\u001B[1;33m[\u001B[0m\u001B[1;36m0\u001B[0m\u001B[1;33m]\u001B[0m\u001B[1;33m\u001B[0m\u001B[1;33m\u001B[0m\u001B[0m\n\u001B[0m\u001B[0;32m     16\u001B[0m     \u001B[1;32mif\u001B[0m \u001B[0malon_strava_id\u001B[0m \u001B[1;33m!=\u001B[0m \u001B[0mr\u001B[0m\u001B[1;33m[\u001B[0m\u001B[1;34m'strava_id'\u001B[0m\u001B[1;33m]\u001B[0m\u001B[1;33m:\u001B[0m\u001B[1;33m\u001B[0m\u001B[1;33m\u001B[0m\u001B[0m\n\u001B[0;32m     17\u001B[0m         \u001B[0mdiff\u001B[0m\u001B[1;33m.\u001B[0m\u001B[0mappend\u001B[0m\u001B[1;33m(\u001B[0m\u001B[0mi\u001B[0m\u001B[1;33m)\u001B[0m\u001B[1;33m\u001B[0m\u001B[1;33m\u001B[0m\u001B[0m\n",
      "\u001B[1;31mAttributeError\u001B[0m: 'NoneType' object has no attribute 'split'"
     ]
    }
   ],
   "source": [
    "diff = []\n",
    "i_missed = []\n",
    "alon_missed = []\n",
    "for i, r in merged_urls_all_teams.iterrows():\n",
    "    if (str(r['url']) == 'nan') and (str(r['strava_id']) == 'nan'):\n",
    "        continue\n",
    "    if str(r['url']) == 'nan':\n",
    "        merged_urls_all_teams.at[i, 'fetched_from_pcs'] = 1\n",
    "        alon_missed.append(i)\n",
    "        continue\n",
    "    if str(r['strava_id']) == 'nan':\n",
    "        merged_urls_all_teams.at[i, 'fetched_from_pcs'] = 0\n",
    "        i_missed.append(i)\n",
    "        continue\n",
    "    alon_strava_id = r['url'].split('/')[-1].split('?')[0]\n",
    "    if alon_strava_id != r['strava_id']:\n",
    "        diff.append(i)"
   ],
   "metadata": {
    "collapsed": false,
    "pycharm": {
     "name": "#%%\n"
    }
   }
  },
  {
   "cell_type": "code",
   "execution_count": 17,
   "outputs": [
    {
     "data": {
      "text/plain": "[]"
     },
     "execution_count": 17,
     "metadata": {},
     "output_type": "execute_result"
    }
   ],
   "source": [
    "diff"
   ],
   "metadata": {
    "collapsed": false,
    "pycharm": {
     "name": "#%%\n"
    }
   }
  },
  {
   "cell_type": "code",
   "execution_count": 14,
   "outputs": [
    {
     "data": {
      "text/plain": "       full_name                              strava_link  \\\n423  MURPHY Kyle  https://www.strava.com/athletes/3569497   \n\n                                         url  \n423  https://www.strava.com/athletes/5895116  ",
      "text/html": "<div>\n<style scoped>\n    .dataframe tbody tr th:only-of-type {\n        vertical-align: middle;\n    }\n\n    .dataframe tbody tr th {\n        vertical-align: top;\n    }\n\n    .dataframe thead th {\n        text-align: right;\n    }\n</style>\n<table border=\"1\" class=\"dataframe\">\n  <thead>\n    <tr style=\"text-align: right;\">\n      <th></th>\n      <th>full_name</th>\n      <th>strava_link</th>\n      <th>url</th>\n    </tr>\n  </thead>\n  <tbody>\n    <tr>\n      <th>423</th>\n      <td>MURPHY Kyle</td>\n      <td>https://www.strava.com/athletes/3569497</td>\n      <td>https://www.strava.com/athletes/5895116</td>\n    </tr>\n  </tbody>\n</table>\n</div>"
     },
     "execution_count": 14,
     "metadata": {},
     "output_type": "execute_result"
    }
   ],
   "source": [
    "merged_urls_all_teams.loc[diff][['full_name', 'strava_link', 'url']]"
   ],
   "metadata": {
    "collapsed": false,
    "pycharm": {
     "name": "#%%\n"
    }
   }
  },
  {
   "cell_type": "code",
   "execution_count": 15,
   "outputs": [],
   "source": [
    "# merged_urls_all_teams.at[diff[0],'url']=None"
   ],
   "metadata": {
    "collapsed": false,
    "pycharm": {
     "name": "#%%\n"
    }
   }
  },
  {
   "cell_type": "code",
   "execution_count": null,
   "outputs": [],
   "source": [
    "# #remove the false urls\n",
    "# merged_urls_all_teams = merged_urls_all_teams.drop(diff)"
   ],
   "metadata": {
    "collapsed": false,
    "pycharm": {
     "name": "#%%\n"
    }
   }
  },
  {
   "cell_type": "code",
   "execution_count": 73,
   "outputs": [
    {
     "data": {
      "text/plain": "                                full_name strava_link  \\\n49                          ANTUNES Amaro         NaN   \n162                          SILVA Daniel         NaN   \n1735                       GONZÁLEZ Abner         NaN   \n1770                        LAGRÉE Adrien         NaN   \n1773                          MADAN Ahmed         NaN   \n...                                   ...         ...   \n18575                   JEANNIERE Emilien         NaN   \n18576                       PIETERSE Puck         NaN   \n18577  NEVES FERNANDES José Carlos Prates         NaN   \n18578                       REYES Aldemar         NaN   \n18579            CHAMAN MOURO Lauro Cesar         NaN   \n\n                                            url  \n49     https://www.strava.com/athletes/32408511  \n162     https://www.strava.com/athletes/3308755  \n1735   https://www.strava.com/athletes/37701893  \n1770   https://www.strava.com/athletes/37812560  \n1773   https://www.strava.com/athletes/22710584  \n...                                         ...  \n18575   https://www.strava.com/athletes/7432267  \n18576  https://www.strava.com/athletes/13755668  \n18577       https://www.strava.com/pros/2644906  \n18578  https://www.strava.com/athletes/29083345  \n18579   https://www.strava.com/athletes/4987279  \n\n[386 rows x 3 columns]",
      "text/html": "<div>\n<style scoped>\n    .dataframe tbody tr th:only-of-type {\n        vertical-align: middle;\n    }\n\n    .dataframe tbody tr th {\n        vertical-align: top;\n    }\n\n    .dataframe thead th {\n        text-align: right;\n    }\n</style>\n<table border=\"1\" class=\"dataframe\">\n  <thead>\n    <tr style=\"text-align: right;\">\n      <th></th>\n      <th>full_name</th>\n      <th>strava_link</th>\n      <th>url</th>\n    </tr>\n  </thead>\n  <tbody>\n    <tr>\n      <th>49</th>\n      <td>ANTUNES Amaro</td>\n      <td>NaN</td>\n      <td>https://www.strava.com/athletes/32408511</td>\n    </tr>\n    <tr>\n      <th>162</th>\n      <td>SILVA Daniel</td>\n      <td>NaN</td>\n      <td>https://www.strava.com/athletes/3308755</td>\n    </tr>\n    <tr>\n      <th>1735</th>\n      <td>GONZÁLEZ Abner</td>\n      <td>NaN</td>\n      <td>https://www.strava.com/athletes/37701893</td>\n    </tr>\n    <tr>\n      <th>1770</th>\n      <td>LAGRÉE Adrien</td>\n      <td>NaN</td>\n      <td>https://www.strava.com/athletes/37812560</td>\n    </tr>\n    <tr>\n      <th>1773</th>\n      <td>MADAN Ahmed</td>\n      <td>NaN</td>\n      <td>https://www.strava.com/athletes/22710584</td>\n    </tr>\n    <tr>\n      <th>...</th>\n      <td>...</td>\n      <td>...</td>\n      <td>...</td>\n    </tr>\n    <tr>\n      <th>18575</th>\n      <td>JEANNIERE Emilien</td>\n      <td>NaN</td>\n      <td>https://www.strava.com/athletes/7432267</td>\n    </tr>\n    <tr>\n      <th>18576</th>\n      <td>PIETERSE Puck</td>\n      <td>NaN</td>\n      <td>https://www.strava.com/athletes/13755668</td>\n    </tr>\n    <tr>\n      <th>18577</th>\n      <td>NEVES FERNANDES José Carlos Prates</td>\n      <td>NaN</td>\n      <td>https://www.strava.com/pros/2644906</td>\n    </tr>\n    <tr>\n      <th>18578</th>\n      <td>REYES Aldemar</td>\n      <td>NaN</td>\n      <td>https://www.strava.com/athletes/29083345</td>\n    </tr>\n    <tr>\n      <th>18579</th>\n      <td>CHAMAN MOURO Lauro Cesar</td>\n      <td>NaN</td>\n      <td>https://www.strava.com/athletes/4987279</td>\n    </tr>\n  </tbody>\n</table>\n<p>386 rows × 3 columns</p>\n</div>"
     },
     "execution_count": 73,
     "metadata": {},
     "output_type": "execute_result"
    }
   ],
   "source": [
    "merged_urls_all_teams.loc[alon_missed][['full_name', 'strava_link', 'url']]\n",
    "\n"
   ],
   "metadata": {
    "collapsed": false,
    "pycharm": {
     "name": "#%%\n"
    }
   }
  },
  {
   "cell_type": "code",
   "execution_count": 23,
   "outputs": [
    {
     "data": {
      "text/plain": "         full_name                                           pcs_link  \\\n49   ANTUNES Amaro  https://www.procyclingstats.com/rider/amaro-an...   \n162   SILVA Daniel  https://www.procyclingstats.com/rider/daniel-s...   \n\n    strava_link                                       url  \n49          NaN  https://www.strava.com/athletes/32408511  \n162         NaN   https://www.strava.com/athletes/3308755  ",
      "text/html": "<div>\n<style scoped>\n    .dataframe tbody tr th:only-of-type {\n        vertical-align: middle;\n    }\n\n    .dataframe tbody tr th {\n        vertical-align: top;\n    }\n\n    .dataframe thead th {\n        text-align: right;\n    }\n</style>\n<table border=\"1\" class=\"dataframe\">\n  <thead>\n    <tr style=\"text-align: right;\">\n      <th></th>\n      <th>full_name</th>\n      <th>pcs_link</th>\n      <th>strava_link</th>\n      <th>url</th>\n    </tr>\n  </thead>\n  <tbody>\n    <tr>\n      <th>49</th>\n      <td>ANTUNES Amaro</td>\n      <td>https://www.procyclingstats.com/rider/amaro-an...</td>\n      <td>NaN</td>\n      <td>https://www.strava.com/athletes/32408511</td>\n    </tr>\n    <tr>\n      <th>162</th>\n      <td>SILVA Daniel</td>\n      <td>https://www.procyclingstats.com/rider/daniel-s...</td>\n      <td>NaN</td>\n      <td>https://www.strava.com/athletes/3308755</td>\n    </tr>\n  </tbody>\n</table>\n</div>"
     },
     "execution_count": 23,
     "metadata": {},
     "output_type": "execute_result"
    }
   ],
   "source": [
    "merged_urls_all_teams.loc[i_missed][['full_name', 'pcs_link', 'strava_link', 'url']]\n",
    "\n"
   ],
   "metadata": {
    "collapsed": false,
    "pycharm": {
     "name": "#%%\n"
    }
   }
  },
  {
   "cell_type": "code",
   "execution_count": 97,
   "outputs": [],
   "source": [
    "merged_urls_all_teams = merged_urls_all_teams.drop('cyclist_id_y', 1)"
   ],
   "metadata": {
    "collapsed": false,
    "pycharm": {
     "name": "#%%\n"
    }
   }
  },
  {
   "cell_type": "code",
   "execution_count": 79,
   "outputs": [],
   "source": [
    "merged_urls_all_teams = merged_urls_all_teams.rename(columns={'url': \"alon's_url\", 'cyclist_id_x': 'cyclist_id'})"
   ],
   "metadata": {
    "collapsed": false,
    "pycharm": {
     "name": "#%%\n"
    }
   }
  },
  {
   "cell_type": "code",
   "execution_count": null,
   "outputs": [],
   "source": [
    "merged_urls_all_teams[merged_urls_all_teams['fetched_from_pcs'] == 0]"
   ],
   "metadata": {
    "collapsed": false,
    "pycharm": {
     "name": "#%%\n"
    }
   }
  },
  {
   "cell_type": "code",
   "execution_count": 98,
   "outputs": [
    {
     "data": {
      "text/plain": "       cyclist_id                                           pcs_link  \\\n0          1092.0  https://www.procyclingstats.com/rider/clement-...   \n1             2.0   https://www.procyclingstats.com/rider/aaron-gate   \n2             4.0  https://www.procyclingstats.com/rider/aaron-va...   \n3             5.0  https://www.procyclingstats.com/rider/aaron-ve...   \n4            18.0  https://www.procyclingstats.com/rider/adam-blythe   \n...           ...                                                ...   \n18601         NaN                                                NaN   \n18602         NaN                                                NaN   \n18603         NaN                                                NaN   \n18604         NaN                                                NaN   \n18605         NaN                                                NaN   \n\n                                   strava_link strava_id            full_name  \\\n0      https://www.strava.com/athletes/7186660   7186660      BERTHET Clément   \n1       https://www.strava.com/athletes/450531    450531           GATE Aaron   \n2          https://www.strava.com/pros/7967844   7967844     VAN POUCKE Aaron   \n3         https://www.strava.com/pros/13084830  13084830       VERWILST Aaron   \n4          https://www.strava.com/pros/1636003   1636003          BLYTHE Adam   \n...                                        ...       ...                  ...   \n18601                                      NaN       NaN             MOOY Jos   \n18602                                      NaN       NaN  ØSTERGAARD Jan Erik   \n18603                                      NaN       NaN  GROENENDAAL Reinier   \n18604                                      NaN       NaN   NALDI Juri-stefano   \n18605                                      NaN       NaN      LUC DUTHOO Jean   \n\n                                    alon's_url fetched_from_pcs  \n0      https://www.strava.com/athletes/7186660             None  \n1       https://www.strava.com/athletes/450531             None  \n2          https://www.strava.com/pros/7967844             None  \n3         https://www.strava.com/pros/13084830             None  \n4          https://www.strava.com/pros/1636003             None  \n...                                        ...              ...  \n18601                                      NaN             None  \n18602                                      NaN             None  \n18603                                      NaN             None  \n18604                                      NaN             None  \n18605                                      NaN             None  \n\n[18604 rows x 7 columns]",
      "text/html": "<div>\n<style scoped>\n    .dataframe tbody tr th:only-of-type {\n        vertical-align: middle;\n    }\n\n    .dataframe tbody tr th {\n        vertical-align: top;\n    }\n\n    .dataframe thead th {\n        text-align: right;\n    }\n</style>\n<table border=\"1\" class=\"dataframe\">\n  <thead>\n    <tr style=\"text-align: right;\">\n      <th></th>\n      <th>cyclist_id</th>\n      <th>pcs_link</th>\n      <th>strava_link</th>\n      <th>strava_id</th>\n      <th>full_name</th>\n      <th>alon's_url</th>\n      <th>fetched_from_pcs</th>\n    </tr>\n  </thead>\n  <tbody>\n    <tr>\n      <th>0</th>\n      <td>1092.0</td>\n      <td>https://www.procyclingstats.com/rider/clement-...</td>\n      <td>https://www.strava.com/athletes/7186660</td>\n      <td>7186660</td>\n      <td>BERTHET Clément</td>\n      <td>https://www.strava.com/athletes/7186660</td>\n      <td>None</td>\n    </tr>\n    <tr>\n      <th>1</th>\n      <td>2.0</td>\n      <td>https://www.procyclingstats.com/rider/aaron-gate</td>\n      <td>https://www.strava.com/athletes/450531</td>\n      <td>450531</td>\n      <td>GATE Aaron</td>\n      <td>https://www.strava.com/athletes/450531</td>\n      <td>None</td>\n    </tr>\n    <tr>\n      <th>2</th>\n      <td>4.0</td>\n      <td>https://www.procyclingstats.com/rider/aaron-va...</td>\n      <td>https://www.strava.com/pros/7967844</td>\n      <td>7967844</td>\n      <td>VAN POUCKE Aaron</td>\n      <td>https://www.strava.com/pros/7967844</td>\n      <td>None</td>\n    </tr>\n    <tr>\n      <th>3</th>\n      <td>5.0</td>\n      <td>https://www.procyclingstats.com/rider/aaron-ve...</td>\n      <td>https://www.strava.com/pros/13084830</td>\n      <td>13084830</td>\n      <td>VERWILST Aaron</td>\n      <td>https://www.strava.com/pros/13084830</td>\n      <td>None</td>\n    </tr>\n    <tr>\n      <th>4</th>\n      <td>18.0</td>\n      <td>https://www.procyclingstats.com/rider/adam-blythe</td>\n      <td>https://www.strava.com/pros/1636003</td>\n      <td>1636003</td>\n      <td>BLYTHE Adam</td>\n      <td>https://www.strava.com/pros/1636003</td>\n      <td>None</td>\n    </tr>\n    <tr>\n      <th>...</th>\n      <td>...</td>\n      <td>...</td>\n      <td>...</td>\n      <td>...</td>\n      <td>...</td>\n      <td>...</td>\n      <td>...</td>\n    </tr>\n    <tr>\n      <th>18601</th>\n      <td>NaN</td>\n      <td>NaN</td>\n      <td>NaN</td>\n      <td>NaN</td>\n      <td>MOOY Jos</td>\n      <td>NaN</td>\n      <td>None</td>\n    </tr>\n    <tr>\n      <th>18602</th>\n      <td>NaN</td>\n      <td>NaN</td>\n      <td>NaN</td>\n      <td>NaN</td>\n      <td>ØSTERGAARD Jan Erik</td>\n      <td>NaN</td>\n      <td>None</td>\n    </tr>\n    <tr>\n      <th>18603</th>\n      <td>NaN</td>\n      <td>NaN</td>\n      <td>NaN</td>\n      <td>NaN</td>\n      <td>GROENENDAAL Reinier</td>\n      <td>NaN</td>\n      <td>None</td>\n    </tr>\n    <tr>\n      <th>18604</th>\n      <td>NaN</td>\n      <td>NaN</td>\n      <td>NaN</td>\n      <td>NaN</td>\n      <td>NALDI Juri-stefano</td>\n      <td>NaN</td>\n      <td>None</td>\n    </tr>\n    <tr>\n      <th>18605</th>\n      <td>NaN</td>\n      <td>NaN</td>\n      <td>NaN</td>\n      <td>NaN</td>\n      <td>LUC DUTHOO Jean</td>\n      <td>NaN</td>\n      <td>None</td>\n    </tr>\n  </tbody>\n</table>\n<p>18604 rows × 7 columns</p>\n</div>"
     },
     "execution_count": 98,
     "metadata": {},
     "output_type": "execute_result"
    }
   ],
   "source": [
    "merged_urls_all_teams"
   ],
   "metadata": {
    "collapsed": false,
    "pycharm": {
     "name": "#%%\n"
    }
   }
  },
  {
   "cell_type": "code",
   "execution_count": 100,
   "outputs": [],
   "source": [
    "merged_urls_all_teams[\"alon's_strava_id\"] = None\n",
    "for i, r in merged_urls_all_teams.iterrows():\n",
    "    if (str(r[\"alon's_url\"]) == 'nan') and (str(r['strava_id']) == 'nan'):\n",
    "        continue\n",
    "    if str(r[\"alon's_url\"]) == 'nan':\n",
    "        continue\n",
    "    alon_strava_id = r[\"alon's_url\"].split('/')[-1]\n",
    "    merged_urls_all_teams.at[i, \"alon's_strava_id\"] = alon_strava_id"
   ],
   "metadata": {
    "collapsed": false,
    "pycharm": {
     "name": "#%%\n"
    }
   }
  },
  {
   "cell_type": "code",
   "execution_count": 101,
   "outputs": [
    {
     "data": {
      "text/plain": "       cyclist_id                                           pcs_link  \\\n0          1092.0  https://www.procyclingstats.com/rider/clement-...   \n1             2.0   https://www.procyclingstats.com/rider/aaron-gate   \n2             4.0  https://www.procyclingstats.com/rider/aaron-va...   \n3             5.0  https://www.procyclingstats.com/rider/aaron-ve...   \n4            18.0  https://www.procyclingstats.com/rider/adam-blythe   \n...           ...                                                ...   \n18601         NaN                                                NaN   \n18602         NaN                                                NaN   \n18603         NaN                                                NaN   \n18604         NaN                                                NaN   \n18605         NaN                                                NaN   \n\n                                   strava_link strava_id            full_name  \\\n0      https://www.strava.com/athletes/7186660   7186660      BERTHET Clément   \n1       https://www.strava.com/athletes/450531    450531           GATE Aaron   \n2          https://www.strava.com/pros/7967844   7967844     VAN POUCKE Aaron   \n3         https://www.strava.com/pros/13084830  13084830       VERWILST Aaron   \n4          https://www.strava.com/pros/1636003   1636003          BLYTHE Adam   \n...                                        ...       ...                  ...   \n18601                                      NaN       NaN             MOOY Jos   \n18602                                      NaN       NaN  ØSTERGAARD Jan Erik   \n18603                                      NaN       NaN  GROENENDAAL Reinier   \n18604                                      NaN       NaN   NALDI Juri-stefano   \n18605                                      NaN       NaN      LUC DUTHOO Jean   \n\n                                    alon's_url fetched_from_pcs  \\\n0      https://www.strava.com/athletes/7186660             None   \n1       https://www.strava.com/athletes/450531             None   \n2          https://www.strava.com/pros/7967844             None   \n3         https://www.strava.com/pros/13084830             None   \n4          https://www.strava.com/pros/1636003             None   \n...                                        ...              ...   \n18601                                      NaN             None   \n18602                                      NaN             None   \n18603                                      NaN             None   \n18604                                      NaN             None   \n18605                                      NaN             None   \n\n      alon's_strava_id  \n0              7186660  \n1               450531  \n2              7967844  \n3             13084830  \n4              1636003  \n...                ...  \n18601             None  \n18602             None  \n18603             None  \n18604             None  \n18605             None  \n\n[18604 rows x 8 columns]",
      "text/html": "<div>\n<style scoped>\n    .dataframe tbody tr th:only-of-type {\n        vertical-align: middle;\n    }\n\n    .dataframe tbody tr th {\n        vertical-align: top;\n    }\n\n    .dataframe thead th {\n        text-align: right;\n    }\n</style>\n<table border=\"1\" class=\"dataframe\">\n  <thead>\n    <tr style=\"text-align: right;\">\n      <th></th>\n      <th>cyclist_id</th>\n      <th>pcs_link</th>\n      <th>strava_link</th>\n      <th>strava_id</th>\n      <th>full_name</th>\n      <th>alon's_url</th>\n      <th>fetched_from_pcs</th>\n      <th>alon's_strava_id</th>\n    </tr>\n  </thead>\n  <tbody>\n    <tr>\n      <th>0</th>\n      <td>1092.0</td>\n      <td>https://www.procyclingstats.com/rider/clement-...</td>\n      <td>https://www.strava.com/athletes/7186660</td>\n      <td>7186660</td>\n      <td>BERTHET Clément</td>\n      <td>https://www.strava.com/athletes/7186660</td>\n      <td>None</td>\n      <td>7186660</td>\n    </tr>\n    <tr>\n      <th>1</th>\n      <td>2.0</td>\n      <td>https://www.procyclingstats.com/rider/aaron-gate</td>\n      <td>https://www.strava.com/athletes/450531</td>\n      <td>450531</td>\n      <td>GATE Aaron</td>\n      <td>https://www.strava.com/athletes/450531</td>\n      <td>None</td>\n      <td>450531</td>\n    </tr>\n    <tr>\n      <th>2</th>\n      <td>4.0</td>\n      <td>https://www.procyclingstats.com/rider/aaron-va...</td>\n      <td>https://www.strava.com/pros/7967844</td>\n      <td>7967844</td>\n      <td>VAN POUCKE Aaron</td>\n      <td>https://www.strava.com/pros/7967844</td>\n      <td>None</td>\n      <td>7967844</td>\n    </tr>\n    <tr>\n      <th>3</th>\n      <td>5.0</td>\n      <td>https://www.procyclingstats.com/rider/aaron-ve...</td>\n      <td>https://www.strava.com/pros/13084830</td>\n      <td>13084830</td>\n      <td>VERWILST Aaron</td>\n      <td>https://www.strava.com/pros/13084830</td>\n      <td>None</td>\n      <td>13084830</td>\n    </tr>\n    <tr>\n      <th>4</th>\n      <td>18.0</td>\n      <td>https://www.procyclingstats.com/rider/adam-blythe</td>\n      <td>https://www.strava.com/pros/1636003</td>\n      <td>1636003</td>\n      <td>BLYTHE Adam</td>\n      <td>https://www.strava.com/pros/1636003</td>\n      <td>None</td>\n      <td>1636003</td>\n    </tr>\n    <tr>\n      <th>...</th>\n      <td>...</td>\n      <td>...</td>\n      <td>...</td>\n      <td>...</td>\n      <td>...</td>\n      <td>...</td>\n      <td>...</td>\n      <td>...</td>\n    </tr>\n    <tr>\n      <th>18601</th>\n      <td>NaN</td>\n      <td>NaN</td>\n      <td>NaN</td>\n      <td>NaN</td>\n      <td>MOOY Jos</td>\n      <td>NaN</td>\n      <td>None</td>\n      <td>None</td>\n    </tr>\n    <tr>\n      <th>18602</th>\n      <td>NaN</td>\n      <td>NaN</td>\n      <td>NaN</td>\n      <td>NaN</td>\n      <td>ØSTERGAARD Jan Erik</td>\n      <td>NaN</td>\n      <td>None</td>\n      <td>None</td>\n    </tr>\n    <tr>\n      <th>18603</th>\n      <td>NaN</td>\n      <td>NaN</td>\n      <td>NaN</td>\n      <td>NaN</td>\n      <td>GROENENDAAL Reinier</td>\n      <td>NaN</td>\n      <td>None</td>\n      <td>None</td>\n    </tr>\n    <tr>\n      <th>18604</th>\n      <td>NaN</td>\n      <td>NaN</td>\n      <td>NaN</td>\n      <td>NaN</td>\n      <td>NALDI Juri-stefano</td>\n      <td>NaN</td>\n      <td>None</td>\n      <td>None</td>\n    </tr>\n    <tr>\n      <th>18605</th>\n      <td>NaN</td>\n      <td>NaN</td>\n      <td>NaN</td>\n      <td>NaN</td>\n      <td>LUC DUTHOO Jean</td>\n      <td>NaN</td>\n      <td>None</td>\n      <td>None</td>\n    </tr>\n  </tbody>\n</table>\n<p>18604 rows × 8 columns</p>\n</div>"
     },
     "execution_count": 101,
     "metadata": {},
     "output_type": "execute_result"
    }
   ],
   "source": [
    "merged_urls_all_teams"
   ],
   "metadata": {
    "collapsed": false,
    "pycharm": {
     "name": "#%%\n"
    }
   }
  },
  {
   "cell_type": "code",
   "execution_count": null,
   "outputs": [],
   "source": [],
   "metadata": {
    "collapsed": false,
    "pycharm": {
     "name": "#%%\n"
    }
   }
  },
  {
   "cell_type": "code",
   "execution_count": 115,
   "outputs": [
    {
     "ename": "KeyError",
     "evalue": "'Id'",
     "output_type": "error",
     "traceback": [
      "\u001B[1;31m---------------------------------------------------------------------------\u001B[0m",
      "\u001B[1;31mKeyError\u001B[0m                                  Traceback (most recent call last)",
      "\u001B[1;32m~\\AppData\\Local\\Temp/ipykernel_24848/1883933084.py\u001B[0m in \u001B[0;36m<module>\u001B[1;34m\u001B[0m\n\u001B[0;32m      1\u001B[0m \u001B[0msame_id_athletes\u001B[0m \u001B[1;33m=\u001B[0m \u001B[1;33m[\u001B[0m\u001B[1;33m]\u001B[0m\u001B[1;33m\u001B[0m\u001B[1;33m\u001B[0m\u001B[0m\n\u001B[1;32m----> 2\u001B[1;33m \u001B[1;32mfor\u001B[0m \u001B[0mn\u001B[0m\u001B[1;33m,\u001B[0m\u001B[0mg\u001B[0m \u001B[1;32min\u001B[0m \u001B[0mworkouts_df\u001B[0m\u001B[1;33m.\u001B[0m\u001B[0mgroupby\u001B[0m\u001B[1;33m(\u001B[0m\u001B[1;34m'Id'\u001B[0m\u001B[1;33m)\u001B[0m\u001B[1;33m:\u001B[0m\u001B[1;33m\u001B[0m\u001B[1;33m\u001B[0m\u001B[0m\n\u001B[0m\u001B[0;32m      3\u001B[0m     \u001B[1;32mif\u001B[0m \u001B[0mlen\u001B[0m\u001B[1;33m(\u001B[0m\u001B[0mg\u001B[0m\u001B[1;33m[\u001B[0m\u001B[1;34m'Athlete'\u001B[0m\u001B[1;33m]\u001B[0m\u001B[1;33m.\u001B[0m\u001B[0munique\u001B[0m\u001B[1;33m(\u001B[0m\u001B[1;33m)\u001B[0m\u001B[1;33m)\u001B[0m\u001B[1;33m>\u001B[0m\u001B[1;36m1\u001B[0m\u001B[1;33m:\u001B[0m\u001B[1;33m\u001B[0m\u001B[1;33m\u001B[0m\u001B[0m\n\u001B[0;32m      4\u001B[0m         \u001B[0msame_id_athletes\u001B[0m\u001B[1;33m.\u001B[0m\u001B[0mappend\u001B[0m\u001B[1;33m[\u001B[0m\u001B[0mn\u001B[0m\u001B[1;33m]\u001B[0m\u001B[1;33m\u001B[0m\u001B[1;33m\u001B[0m\u001B[0m\n\u001B[0;32m      5\u001B[0m \u001B[0msame_id_athletes\u001B[0m\u001B[1;33m\u001B[0m\u001B[1;33m\u001B[0m\u001B[0m\n",
      "\u001B[1;32m~\\PycharmProjects\\velodrome-backend\\venv\\lib\\site-packages\\pandas\\core\\frame.py\u001B[0m in \u001B[0;36mgroupby\u001B[1;34m(self, by, axis, level, as_index, sort, group_keys, squeeze, observed, dropna)\u001B[0m\n\u001B[0;32m   6712\u001B[0m         \u001B[0maxis\u001B[0m \u001B[1;33m=\u001B[0m \u001B[0mself\u001B[0m\u001B[1;33m.\u001B[0m\u001B[0m_get_axis_number\u001B[0m\u001B[1;33m(\u001B[0m\u001B[0maxis\u001B[0m\u001B[1;33m)\u001B[0m\u001B[1;33m\u001B[0m\u001B[1;33m\u001B[0m\u001B[0m\n\u001B[0;32m   6713\u001B[0m \u001B[1;33m\u001B[0m\u001B[0m\n\u001B[1;32m-> 6714\u001B[1;33m         return DataFrameGroupBy(\n\u001B[0m\u001B[0;32m   6715\u001B[0m             \u001B[0mobj\u001B[0m\u001B[1;33m=\u001B[0m\u001B[0mself\u001B[0m\u001B[1;33m,\u001B[0m\u001B[1;33m\u001B[0m\u001B[1;33m\u001B[0m\u001B[0m\n\u001B[0;32m   6716\u001B[0m             \u001B[0mkeys\u001B[0m\u001B[1;33m=\u001B[0m\u001B[0mby\u001B[0m\u001B[1;33m,\u001B[0m\u001B[1;33m\u001B[0m\u001B[1;33m\u001B[0m\u001B[0m\n",
      "\u001B[1;32m~\\PycharmProjects\\velodrome-backend\\venv\\lib\\site-packages\\pandas\\core\\groupby\\groupby.py\u001B[0m in \u001B[0;36m__init__\u001B[1;34m(self, obj, keys, axis, level, grouper, exclusions, selection, as_index, sort, group_keys, squeeze, observed, mutated, dropna)\u001B[0m\n\u001B[0;32m    558\u001B[0m             \u001B[1;32mfrom\u001B[0m \u001B[0mpandas\u001B[0m\u001B[1;33m.\u001B[0m\u001B[0mcore\u001B[0m\u001B[1;33m.\u001B[0m\u001B[0mgroupby\u001B[0m\u001B[1;33m.\u001B[0m\u001B[0mgrouper\u001B[0m \u001B[1;32mimport\u001B[0m \u001B[0mget_grouper\u001B[0m\u001B[1;33m\u001B[0m\u001B[1;33m\u001B[0m\u001B[0m\n\u001B[0;32m    559\u001B[0m \u001B[1;33m\u001B[0m\u001B[0m\n\u001B[1;32m--> 560\u001B[1;33m             grouper, exclusions, obj = get_grouper(\n\u001B[0m\u001B[0;32m    561\u001B[0m                 \u001B[0mobj\u001B[0m\u001B[1;33m,\u001B[0m\u001B[1;33m\u001B[0m\u001B[1;33m\u001B[0m\u001B[0m\n\u001B[0;32m    562\u001B[0m                 \u001B[0mkeys\u001B[0m\u001B[1;33m,\u001B[0m\u001B[1;33m\u001B[0m\u001B[1;33m\u001B[0m\u001B[0m\n",
      "\u001B[1;32m~\\PycharmProjects\\velodrome-backend\\venv\\lib\\site-packages\\pandas\\core\\groupby\\grouper.py\u001B[0m in \u001B[0;36mget_grouper\u001B[1;34m(obj, key, axis, level, sort, observed, mutated, validate, dropna)\u001B[0m\n\u001B[0;32m    814\u001B[0m                 \u001B[0min_axis\u001B[0m\u001B[1;33m,\u001B[0m \u001B[0mname\u001B[0m\u001B[1;33m,\u001B[0m \u001B[0mlevel\u001B[0m\u001B[1;33m,\u001B[0m \u001B[0mgpr\u001B[0m \u001B[1;33m=\u001B[0m \u001B[1;32mFalse\u001B[0m\u001B[1;33m,\u001B[0m \u001B[1;32mNone\u001B[0m\u001B[1;33m,\u001B[0m \u001B[0mgpr\u001B[0m\u001B[1;33m,\u001B[0m \u001B[1;32mNone\u001B[0m\u001B[1;33m\u001B[0m\u001B[1;33m\u001B[0m\u001B[0m\n\u001B[0;32m    815\u001B[0m             \u001B[1;32melse\u001B[0m\u001B[1;33m:\u001B[0m\u001B[1;33m\u001B[0m\u001B[1;33m\u001B[0m\u001B[0m\n\u001B[1;32m--> 816\u001B[1;33m                 \u001B[1;32mraise\u001B[0m \u001B[0mKeyError\u001B[0m\u001B[1;33m(\u001B[0m\u001B[0mgpr\u001B[0m\u001B[1;33m)\u001B[0m\u001B[1;33m\u001B[0m\u001B[1;33m\u001B[0m\u001B[0m\n\u001B[0m\u001B[0;32m    817\u001B[0m         \u001B[1;32melif\u001B[0m \u001B[0misinstance\u001B[0m\u001B[1;33m(\u001B[0m\u001B[0mgpr\u001B[0m\u001B[1;33m,\u001B[0m \u001B[0mGrouper\u001B[0m\u001B[1;33m)\u001B[0m \u001B[1;32mand\u001B[0m \u001B[0mgpr\u001B[0m\u001B[1;33m.\u001B[0m\u001B[0mkey\u001B[0m \u001B[1;32mis\u001B[0m \u001B[1;32mnot\u001B[0m \u001B[1;32mNone\u001B[0m\u001B[1;33m:\u001B[0m\u001B[1;33m\u001B[0m\u001B[1;33m\u001B[0m\u001B[0m\n\u001B[0;32m    818\u001B[0m             \u001B[1;31m# Add key to exclusions\u001B[0m\u001B[1;33m\u001B[0m\u001B[1;33m\u001B[0m\u001B[1;33m\u001B[0m\u001B[0m\n",
      "\u001B[1;31mKeyError\u001B[0m: 'Id'"
     ]
    }
   ],
   "source": [
    "same_id_athletes = []\n",
    "for n, g in workouts_df.groupby('Id'):\n",
    "    if len(g['Athlete'].unique()) > 1:\n",
    "        same_id_athletes.append[n]\n",
    "same_id_athletes"
   ],
   "metadata": {
    "collapsed": false,
    "pycharm": {
     "name": "#%%\n"
    }
   }
  },
  {
   "cell_type": "code",
   "execution_count": 114,
   "outputs": [
    {
     "data": {
      "text/plain": "Empty DataFrame\nColumns: [athlete_id, workout_tp_id, workout_datetime, total_time, distance, elevation_gain, elevation_loss, elevation_average, elevation_maximum, elevation_minimum, temp_avg, temp_min, temp_max, calories, workout_week, workout_month, type, IF, tss_actual, tss_calculation_method, workout_title, energy]\nIndex: []\n\n[0 rows x 22 columns]",
      "text/html": "<div>\n<style scoped>\n    .dataframe tbody tr th:only-of-type {\n        vertical-align: middle;\n    }\n\n    .dataframe tbody tr th {\n        vertical-align: top;\n    }\n\n    .dataframe thead th {\n        text-align: right;\n    }\n</style>\n<table border=\"1\" class=\"dataframe\">\n  <thead>\n    <tr style=\"text-align: right;\">\n      <th></th>\n      <th>athlete_id</th>\n      <th>workout_tp_id</th>\n      <th>workout_datetime</th>\n      <th>total_time</th>\n      <th>distance</th>\n      <th>elevation_gain</th>\n      <th>elevation_loss</th>\n      <th>elevation_average</th>\n      <th>elevation_maximum</th>\n      <th>elevation_minimum</th>\n      <th>...</th>\n      <th>temp_max</th>\n      <th>calories</th>\n      <th>workout_week</th>\n      <th>workout_month</th>\n      <th>type</th>\n      <th>IF</th>\n      <th>tss_actual</th>\n      <th>tss_calculation_method</th>\n      <th>workout_title</th>\n      <th>energy</th>\n    </tr>\n  </thead>\n  <tbody>\n  </tbody>\n</table>\n<p>0 rows × 22 columns</p>\n</div>"
     },
     "execution_count": 114,
     "metadata": {},
     "output_type": "execute_result"
    }
   ],
   "source": [
    "workouts_df.loc[workouts_df['athlete_id'].isin(same_id_athletes)]"
   ],
   "metadata": {
    "collapsed": false,
    "pycharm": {
     "name": "#%%\n"
    }
   }
  },
  {
   "cell_type": "code",
   "execution_count": 118,
   "outputs": [
    {
     "data": {
      "text/plain": "2257"
     },
     "execution_count": 118,
     "metadata": {},
     "output_type": "execute_result"
    }
   ],
   "source": [
    "teams_df = pd.read_csv('./data/teams.csv')\n",
    "len(teams_df['team_gen_id'].unique())"
   ],
   "metadata": {
    "collapsed": false,
    "pycharm": {
     "name": "#%%\n"
    }
   }
  },
  {
   "cell_type": "code",
   "execution_count": 6,
   "outputs": [
    {
     "data": {
      "text/plain": "Empty DataFrame\nColumns: [athlete_id, workout_tp_id, workout_datetime, total_time, distance, elevation_gain, elevation_loss, elevation_average, elevation_maximum, elevation_minimum, temp_avg, temp_min, temp_max, calories, workout_week, workout_month, type, IF, tss_actual, tss_calculation_method, workout_title, energy]\nIndex: []\n\n[0 rows x 22 columns]",
      "text/html": "<div>\n<style scoped>\n    .dataframe tbody tr th:only-of-type {\n        vertical-align: middle;\n    }\n\n    .dataframe tbody tr th {\n        vertical-align: top;\n    }\n\n    .dataframe thead th {\n        text-align: right;\n    }\n</style>\n<table border=\"1\" class=\"dataframe\">\n  <thead>\n    <tr style=\"text-align: right;\">\n      <th></th>\n      <th>athlete_id</th>\n      <th>workout_tp_id</th>\n      <th>workout_datetime</th>\n      <th>total_time</th>\n      <th>distance</th>\n      <th>elevation_gain</th>\n      <th>elevation_loss</th>\n      <th>elevation_average</th>\n      <th>elevation_maximum</th>\n      <th>elevation_minimum</th>\n      <th>...</th>\n      <th>temp_max</th>\n      <th>calories</th>\n      <th>workout_week</th>\n      <th>workout_month</th>\n      <th>type</th>\n      <th>IF</th>\n      <th>tss_actual</th>\n      <th>tss_calculation_method</th>\n      <th>workout_title</th>\n      <th>energy</th>\n    </tr>\n  </thead>\n  <tbody>\n  </tbody>\n</table>\n<p>0 rows × 22 columns</p>\n</div>"
     },
     "execution_count": 6,
     "metadata": {},
     "output_type": "execute_result"
    }
   ],
   "source": [
    "import pandas as pd\n",
    "\n",
    "workouts_df = pd.read_csv('./data/workouts.csv')\n",
    "workouts_df[workouts_df.duplicated()]"
   ],
   "metadata": {
    "collapsed": false,
    "pycharm": {
     "name": "#%%\n"
    }
   }
  },
  {
   "cell_type": "code",
   "execution_count": 3,
   "outputs": [
    {
     "data": {
      "text/plain": "               Id            Athlete  AthleteId       Mass WorkoutType  \\\n0       712827514       Rudy Barbier    2551795  79.000000        Bike   \n1       701685878  Sebastian Berwick    1794622  56.971269        Bike   \n2       701089698        Paddy Bevin    1099161  75.800003        Bike   \n3       710546443        Paddy Bevin    1099161  75.800003        Bike   \n4       706894107    Jenthe Biermans    1370771  80.200000        Bike   \n...           ...                ...        ...        ...         ...   \n57683  1219858194  Patrick Schelling    2174391  61.000000        Bike   \n57684  1220230703      Alexis Renard    2691798  73.800003        Bike   \n57685  1220237330      Alexis Renard    2691798  73.800003        Bike   \n57686  1219894367      Andre Greipel    1191365  85.389000       Other   \n57687  1220145666      Andre Greipel    1191365  85.389000         Run   \n\n                WorkoutDay                StartTime  WorkoutWeek  \\\n0      2018-12-31 00:00:00      2018-12-31 10:00:22            1   \n1      2018-12-31 00:00:00      2018-12-31 05:40:30            1   \n2      2018-12-31 00:00:00                      NaN            1   \n3      2018-12-31 00:00:00      2018-12-31 16:20:59            1   \n4      2018-12-31 00:00:00      2018-12-31 12:52:17            1   \n...                    ...                      ...          ...   \n57683  2020-11-01T00:00:00      2020-11-01T11:29:33           44   \n57684  2020-11-01T00:00:00      2020-11-01T17:56:14           44   \n57685  2020-11-01T00:00:00      2020-11-01T13:53:18           44   \n57686  2020-11-01T00:00:00      2020-11-01T12:51:13           44   \n57687  2020-11-01T00:00:00  2020-11-01T08:45:44.673           44   \n\n       WorkoutMonth                                             Title  ...  \\\n0                12                                           Cycling  ...   \n1                12  2 hrs plus time not distance TT digs Seb Berwick  ...   \n2                12                       Nationals TT Prep 1x24km RP  ...   \n3                12                                         Supp Ride  ...   \n4                12                                           Cycling  ...   \n...             ...                                               ...  ...   \n57683            11                                    Indoor Cycling  ...   \n57684            11                                           Cycling  ...   \n57685            11                                           Cycling  ...   \n57686            11                                            Hiking  ...   \n57687            11                                           Running  ...   \n\n      Cadence 6Minutes  Cadence 10Minutes  Cadence 12Minutes  \\\n0                 89.0               88.0               87.0   \n1                 97.0               93.0               93.0   \n2                 89.0               88.0               88.0   \n3                 96.0               94.0               94.0   \n4                 92.0               92.0               92.0   \n...                ...                ...                ...   \n57683             93.0               90.0               90.0   \n57684             85.0               85.0               87.0   \n57685             93.0               92.0               91.0   \n57686              NaN                NaN                NaN   \n57687              NaN                NaN                NaN   \n\n       Cadence 20Minutes  Cadence 30Minutes  Cadence 1Hour  Cadence 90Minutes  \\\n0                   84.0               82.0           82.0               81.0   \n1                   93.0               93.0           91.0               90.0   \n2                   86.0               85.0           84.0                NaN   \n3                   93.0               92.0           91.0               91.0   \n4                   91.0               91.0           89.0                NaN   \n...                  ...                ...            ...                ...   \n57683               89.0               86.0           86.0               84.0   \n57684               86.0                NaN            NaN                NaN   \n57685               86.0               91.0           91.0               89.0   \n57686                NaN                NaN            NaN                NaN   \n57687                NaN                NaN            NaN                NaN   \n\n       Cadence 3Hours  Hidden  Locked  \n0                81.0   False   False  \n1                 NaN   False   False  \n2                 NaN   False   False  \n3                 NaN   False   False  \n4                 NaN   False   False  \n...               ...     ...     ...  \n57683             NaN   False   False  \n57684             NaN   False   False  \n57685            86.0   False   False  \n57686             NaN   False   False  \n57687             NaN   False   False  \n\n[57688 rows x 140 columns]",
      "text/html": "<div>\n<style scoped>\n    .dataframe tbody tr th:only-of-type {\n        vertical-align: middle;\n    }\n\n    .dataframe tbody tr th {\n        vertical-align: top;\n    }\n\n    .dataframe thead th {\n        text-align: right;\n    }\n</style>\n<table border=\"1\" class=\"dataframe\">\n  <thead>\n    <tr style=\"text-align: right;\">\n      <th></th>\n      <th>Id</th>\n      <th>Athlete</th>\n      <th>AthleteId</th>\n      <th>Mass</th>\n      <th>WorkoutType</th>\n      <th>WorkoutDay</th>\n      <th>StartTime</th>\n      <th>WorkoutWeek</th>\n      <th>WorkoutMonth</th>\n      <th>Title</th>\n      <th>...</th>\n      <th>Cadence 6Minutes</th>\n      <th>Cadence 10Minutes</th>\n      <th>Cadence 12Minutes</th>\n      <th>Cadence 20Minutes</th>\n      <th>Cadence 30Minutes</th>\n      <th>Cadence 1Hour</th>\n      <th>Cadence 90Minutes</th>\n      <th>Cadence 3Hours</th>\n      <th>Hidden</th>\n      <th>Locked</th>\n    </tr>\n  </thead>\n  <tbody>\n    <tr>\n      <th>0</th>\n      <td>712827514</td>\n      <td>Rudy Barbier</td>\n      <td>2551795</td>\n      <td>79.000000</td>\n      <td>Bike</td>\n      <td>2018-12-31 00:00:00</td>\n      <td>2018-12-31 10:00:22</td>\n      <td>1</td>\n      <td>12</td>\n      <td>Cycling</td>\n      <td>...</td>\n      <td>89.0</td>\n      <td>88.0</td>\n      <td>87.0</td>\n      <td>84.0</td>\n      <td>82.0</td>\n      <td>82.0</td>\n      <td>81.0</td>\n      <td>81.0</td>\n      <td>False</td>\n      <td>False</td>\n    </tr>\n    <tr>\n      <th>1</th>\n      <td>701685878</td>\n      <td>Sebastian Berwick</td>\n      <td>1794622</td>\n      <td>56.971269</td>\n      <td>Bike</td>\n      <td>2018-12-31 00:00:00</td>\n      <td>2018-12-31 05:40:30</td>\n      <td>1</td>\n      <td>12</td>\n      <td>2 hrs plus time not distance TT digs Seb Berwick</td>\n      <td>...</td>\n      <td>97.0</td>\n      <td>93.0</td>\n      <td>93.0</td>\n      <td>93.0</td>\n      <td>93.0</td>\n      <td>91.0</td>\n      <td>90.0</td>\n      <td>NaN</td>\n      <td>False</td>\n      <td>False</td>\n    </tr>\n    <tr>\n      <th>2</th>\n      <td>701089698</td>\n      <td>Paddy Bevin</td>\n      <td>1099161</td>\n      <td>75.800003</td>\n      <td>Bike</td>\n      <td>2018-12-31 00:00:00</td>\n      <td>NaN</td>\n      <td>1</td>\n      <td>12</td>\n      <td>Nationals TT Prep 1x24km RP</td>\n      <td>...</td>\n      <td>89.0</td>\n      <td>88.0</td>\n      <td>88.0</td>\n      <td>86.0</td>\n      <td>85.0</td>\n      <td>84.0</td>\n      <td>NaN</td>\n      <td>NaN</td>\n      <td>False</td>\n      <td>False</td>\n    </tr>\n    <tr>\n      <th>3</th>\n      <td>710546443</td>\n      <td>Paddy Bevin</td>\n      <td>1099161</td>\n      <td>75.800003</td>\n      <td>Bike</td>\n      <td>2018-12-31 00:00:00</td>\n      <td>2018-12-31 16:20:59</td>\n      <td>1</td>\n      <td>12</td>\n      <td>Supp Ride</td>\n      <td>...</td>\n      <td>96.0</td>\n      <td>94.0</td>\n      <td>94.0</td>\n      <td>93.0</td>\n      <td>92.0</td>\n      <td>91.0</td>\n      <td>91.0</td>\n      <td>NaN</td>\n      <td>False</td>\n      <td>False</td>\n    </tr>\n    <tr>\n      <th>4</th>\n      <td>706894107</td>\n      <td>Jenthe Biermans</td>\n      <td>1370771</td>\n      <td>80.200000</td>\n      <td>Bike</td>\n      <td>2018-12-31 00:00:00</td>\n      <td>2018-12-31 12:52:17</td>\n      <td>1</td>\n      <td>12</td>\n      <td>Cycling</td>\n      <td>...</td>\n      <td>92.0</td>\n      <td>92.0</td>\n      <td>92.0</td>\n      <td>91.0</td>\n      <td>91.0</td>\n      <td>89.0</td>\n      <td>NaN</td>\n      <td>NaN</td>\n      <td>False</td>\n      <td>False</td>\n    </tr>\n    <tr>\n      <th>...</th>\n      <td>...</td>\n      <td>...</td>\n      <td>...</td>\n      <td>...</td>\n      <td>...</td>\n      <td>...</td>\n      <td>...</td>\n      <td>...</td>\n      <td>...</td>\n      <td>...</td>\n      <td>...</td>\n      <td>...</td>\n      <td>...</td>\n      <td>...</td>\n      <td>...</td>\n      <td>...</td>\n      <td>...</td>\n      <td>...</td>\n      <td>...</td>\n      <td>...</td>\n      <td>...</td>\n    </tr>\n    <tr>\n      <th>57683</th>\n      <td>1219858194</td>\n      <td>Patrick Schelling</td>\n      <td>2174391</td>\n      <td>61.000000</td>\n      <td>Bike</td>\n      <td>2020-11-01T00:00:00</td>\n      <td>2020-11-01T11:29:33</td>\n      <td>44</td>\n      <td>11</td>\n      <td>Indoor Cycling</td>\n      <td>...</td>\n      <td>93.0</td>\n      <td>90.0</td>\n      <td>90.0</td>\n      <td>89.0</td>\n      <td>86.0</td>\n      <td>86.0</td>\n      <td>84.0</td>\n      <td>NaN</td>\n      <td>False</td>\n      <td>False</td>\n    </tr>\n    <tr>\n      <th>57684</th>\n      <td>1220230703</td>\n      <td>Alexis Renard</td>\n      <td>2691798</td>\n      <td>73.800003</td>\n      <td>Bike</td>\n      <td>2020-11-01T00:00:00</td>\n      <td>2020-11-01T17:56:14</td>\n      <td>44</td>\n      <td>11</td>\n      <td>Cycling</td>\n      <td>...</td>\n      <td>85.0</td>\n      <td>85.0</td>\n      <td>87.0</td>\n      <td>86.0</td>\n      <td>NaN</td>\n      <td>NaN</td>\n      <td>NaN</td>\n      <td>NaN</td>\n      <td>False</td>\n      <td>False</td>\n    </tr>\n    <tr>\n      <th>57685</th>\n      <td>1220237330</td>\n      <td>Alexis Renard</td>\n      <td>2691798</td>\n      <td>73.800003</td>\n      <td>Bike</td>\n      <td>2020-11-01T00:00:00</td>\n      <td>2020-11-01T13:53:18</td>\n      <td>44</td>\n      <td>11</td>\n      <td>Cycling</td>\n      <td>...</td>\n      <td>93.0</td>\n      <td>92.0</td>\n      <td>91.0</td>\n      <td>86.0</td>\n      <td>91.0</td>\n      <td>91.0</td>\n      <td>89.0</td>\n      <td>86.0</td>\n      <td>False</td>\n      <td>False</td>\n    </tr>\n    <tr>\n      <th>57686</th>\n      <td>1219894367</td>\n      <td>Andre Greipel</td>\n      <td>1191365</td>\n      <td>85.389000</td>\n      <td>Other</td>\n      <td>2020-11-01T00:00:00</td>\n      <td>2020-11-01T12:51:13</td>\n      <td>44</td>\n      <td>11</td>\n      <td>Hiking</td>\n      <td>...</td>\n      <td>NaN</td>\n      <td>NaN</td>\n      <td>NaN</td>\n      <td>NaN</td>\n      <td>NaN</td>\n      <td>NaN</td>\n      <td>NaN</td>\n      <td>NaN</td>\n      <td>False</td>\n      <td>False</td>\n    </tr>\n    <tr>\n      <th>57687</th>\n      <td>1220145666</td>\n      <td>Andre Greipel</td>\n      <td>1191365</td>\n      <td>85.389000</td>\n      <td>Run</td>\n      <td>2020-11-01T00:00:00</td>\n      <td>2020-11-01T08:45:44.673</td>\n      <td>44</td>\n      <td>11</td>\n      <td>Running</td>\n      <td>...</td>\n      <td>NaN</td>\n      <td>NaN</td>\n      <td>NaN</td>\n      <td>NaN</td>\n      <td>NaN</td>\n      <td>NaN</td>\n      <td>NaN</td>\n      <td>NaN</td>\n      <td>False</td>\n      <td>False</td>\n    </tr>\n  </tbody>\n</table>\n<p>57688 rows × 140 columns</p>\n</div>"
     },
     "execution_count": 3,
     "metadata": {},
     "output_type": "execute_result"
    }
   ],
   "source": [
    "import pandas as pd\n",
    "\n",
    "tp_id_df = pd.read_csv('../tp data to upload/2018 - 2018.csv')\n",
    "tp_id_df = tp_id_df.append(pd.read_csv('../tp data to upload/2019 - 2019.csv'), ignore_index=True)\n",
    "tp_id_df = tp_id_df.append(pd.read_csv('../tp data to upload/ISN-2020 - ISN-2020.csv'), ignore_index=True)\n",
    "tp_id_df = tp_id_df.append(pd.read_csv('../tp data to upload/ISN-2018-MISSING - ISN-2018-MISSING.csv'),\n",
    "                           ignore_index=True)\n",
    "tp_id_df = tp_id_df.append(pd.read_csv('../tp data to upload/ISN-2019-MISSING - ISN-2019-MISSING.csv'),\n",
    "                           ignore_index=True)\n",
    "tp_id_df = tp_id_df.append(pd.read_csv('../tp data to upload/ISN-2020-MISSING - ISN-2020-MISSING.csv'),\n",
    "                           ignore_index=True)\n",
    "tp_id_df = tp_id_df.append(pd.read_csv('../tp data to upload/ISN TP WT - TP Data.csv'), ignore_index=True)\n",
    "tp_id_df = tp_id_df.append(pd.read_csv('../tp data to upload/ISN TP WT - Workouts.csv'), ignore_index=True)\n",
    "tp_id_df"
   ],
   "metadata": {
    "collapsed": false,
    "pycharm": {
     "name": "#%%\n"
    }
   }
  },
  {
   "cell_type": "code",
   "execution_count": 10,
   "outputs": [],
   "source": [
    "missing_workouts = set(tp_id_df['Id']) - set(workouts_df['workout_tp_id'])"
   ],
   "metadata": {
    "collapsed": false,
    "pycharm": {
     "name": "#%%\n"
    }
   }
  },
  {
   "cell_type": "code",
   "execution_count": 12,
   "outputs": [
    {
     "data": {
      "text/plain": "               Id         Athlete  AthleteId       Mass WorkoutType  \\\n10      711980654  Davide Cimolai    2325944  73.139999        Bike   \n34      712136382   Norman Vahtra    2235229  84.900000        Bike   \n91      710063608  Davide Cimolai    2325944  73.139999        Bike   \n113     769942323   Alexis Renard    2691798  74.400002        Bike   \n134     707891367  Davide Cimolai    2325944  73.139999        Bike   \n...           ...             ...        ...        ...         ...   \n57660  1222371908     Mihkel Raim    1580521  70.930000        Bike   \n57677  1220264197     Mihkel Raim    1580521  70.930000        Bike   \n57678  1220264472     Mihkel Raim    1580521  70.930000        Bike   \n57684  1220230703   Alexis Renard    2691798  73.800003        Bike   \n57685  1220237330   Alexis Renard    2691798  73.800003        Bike   \n\n                WorkoutDay            StartTime  WorkoutWeek  WorkoutMonth  \\\n10     2018-12-31 00:00:00  2018-12-31 08:58:42            1            12   \n34     2018-12-31 00:00:00  2018-12-31 13:15:56            1            12   \n91     2018-12-29 00:00:00  2018-12-29 11:06:44           52            12   \n113    2018-12-29 00:00:00  2018-12-29 09:58:01           52            12   \n134    2018-12-28 00:00:00  2018-12-28 08:58:27           52            12   \n...                    ...                  ...          ...           ...   \n57660  2020-11-02T00:00:00  2020-11-02T11:25:10           45            11   \n57677  2020-11-01T00:00:00  2020-11-01T18:03:53           44            11   \n57678  2020-11-01T00:00:00  2020-11-01T13:50:38           44            11   \n57684  2020-11-01T00:00:00  2020-11-01T17:56:14           44            11   \n57685  2020-11-01T00:00:00  2020-11-01T13:53:18           44            11   \n\n                Title  ... Cadence 6Minutes  Cadence 10Minutes  \\\n10            Cycling  ...             95.0               94.0   \n34            Cycling  ...             82.0               82.0   \n91            Cycling  ...             96.0               94.0   \n113      Road Cycling  ...             98.0               95.0   \n134          Distanza  ...            101.0              103.0   \n...               ...  ...              ...                ...   \n57660  Indoor Cycling  ...             83.0               83.0   \n57677         Cycling  ...             67.0               66.0   \n57678         Cycling  ...             94.0               86.0   \n57684         Cycling  ...             85.0               85.0   \n57685         Cycling  ...             93.0               92.0   \n\n       Cadence 12Minutes  Cadence 20Minutes  Cadence 30Minutes  Cadence 1Hour  \\\n10                  94.0               94.0               92.0           91.0   \n34                  82.0               81.0               81.0           77.0   \n91                  92.0               92.0               92.0           90.0   \n113                 97.0               96.0               95.0           95.0   \n134                101.0               94.0               94.0           92.0   \n...                  ...                ...                ...            ...   \n57660               82.0               81.0               79.0            NaN   \n57677               71.0               71.0                NaN            NaN   \n57678               92.0               92.0               90.0           87.0   \n57684               87.0               86.0                NaN            NaN   \n57685               91.0               86.0               91.0           91.0   \n\n       Cadence 90Minutes  Cadence 3Hours  Hidden  Locked  \n10                  89.0            86.0   False   False  \n34                  77.0             NaN   False   False  \n91                  90.0             NaN   False   False  \n113                 93.0            92.0   False   False  \n134                 92.0            89.0   False   False  \n...                  ...             ...     ...     ...  \n57660                NaN             NaN   False   False  \n57677                NaN             NaN   False   False  \n57678               83.0            80.0   False   False  \n57684                NaN             NaN   False   False  \n57685               89.0            86.0   False   False  \n\n[7464 rows x 140 columns]",
      "text/html": "<div>\n<style scoped>\n    .dataframe tbody tr th:only-of-type {\n        vertical-align: middle;\n    }\n\n    .dataframe tbody tr th {\n        vertical-align: top;\n    }\n\n    .dataframe thead th {\n        text-align: right;\n    }\n</style>\n<table border=\"1\" class=\"dataframe\">\n  <thead>\n    <tr style=\"text-align: right;\">\n      <th></th>\n      <th>Id</th>\n      <th>Athlete</th>\n      <th>AthleteId</th>\n      <th>Mass</th>\n      <th>WorkoutType</th>\n      <th>WorkoutDay</th>\n      <th>StartTime</th>\n      <th>WorkoutWeek</th>\n      <th>WorkoutMonth</th>\n      <th>Title</th>\n      <th>...</th>\n      <th>Cadence 6Minutes</th>\n      <th>Cadence 10Minutes</th>\n      <th>Cadence 12Minutes</th>\n      <th>Cadence 20Minutes</th>\n      <th>Cadence 30Minutes</th>\n      <th>Cadence 1Hour</th>\n      <th>Cadence 90Minutes</th>\n      <th>Cadence 3Hours</th>\n      <th>Hidden</th>\n      <th>Locked</th>\n    </tr>\n  </thead>\n  <tbody>\n    <tr>\n      <th>10</th>\n      <td>711980654</td>\n      <td>Davide Cimolai</td>\n      <td>2325944</td>\n      <td>73.139999</td>\n      <td>Bike</td>\n      <td>2018-12-31 00:00:00</td>\n      <td>2018-12-31 08:58:42</td>\n      <td>1</td>\n      <td>12</td>\n      <td>Cycling</td>\n      <td>...</td>\n      <td>95.0</td>\n      <td>94.0</td>\n      <td>94.0</td>\n      <td>94.0</td>\n      <td>92.0</td>\n      <td>91.0</td>\n      <td>89.0</td>\n      <td>86.0</td>\n      <td>False</td>\n      <td>False</td>\n    </tr>\n    <tr>\n      <th>34</th>\n      <td>712136382</td>\n      <td>Norman Vahtra</td>\n      <td>2235229</td>\n      <td>84.900000</td>\n      <td>Bike</td>\n      <td>2018-12-31 00:00:00</td>\n      <td>2018-12-31 13:15:56</td>\n      <td>1</td>\n      <td>12</td>\n      <td>Cycling</td>\n      <td>...</td>\n      <td>82.0</td>\n      <td>82.0</td>\n      <td>82.0</td>\n      <td>81.0</td>\n      <td>81.0</td>\n      <td>77.0</td>\n      <td>77.0</td>\n      <td>NaN</td>\n      <td>False</td>\n      <td>False</td>\n    </tr>\n    <tr>\n      <th>91</th>\n      <td>710063608</td>\n      <td>Davide Cimolai</td>\n      <td>2325944</td>\n      <td>73.139999</td>\n      <td>Bike</td>\n      <td>2018-12-29 00:00:00</td>\n      <td>2018-12-29 11:06:44</td>\n      <td>52</td>\n      <td>12</td>\n      <td>Cycling</td>\n      <td>...</td>\n      <td>96.0</td>\n      <td>94.0</td>\n      <td>92.0</td>\n      <td>92.0</td>\n      <td>92.0</td>\n      <td>90.0</td>\n      <td>90.0</td>\n      <td>NaN</td>\n      <td>False</td>\n      <td>False</td>\n    </tr>\n    <tr>\n      <th>113</th>\n      <td>769942323</td>\n      <td>Alexis Renard</td>\n      <td>2691798</td>\n      <td>74.400002</td>\n      <td>Bike</td>\n      <td>2018-12-29 00:00:00</td>\n      <td>2018-12-29 09:58:01</td>\n      <td>52</td>\n      <td>12</td>\n      <td>Road Cycling</td>\n      <td>...</td>\n      <td>98.0</td>\n      <td>95.0</td>\n      <td>97.0</td>\n      <td>96.0</td>\n      <td>95.0</td>\n      <td>95.0</td>\n      <td>93.0</td>\n      <td>92.0</td>\n      <td>False</td>\n      <td>False</td>\n    </tr>\n    <tr>\n      <th>134</th>\n      <td>707891367</td>\n      <td>Davide Cimolai</td>\n      <td>2325944</td>\n      <td>73.139999</td>\n      <td>Bike</td>\n      <td>2018-12-28 00:00:00</td>\n      <td>2018-12-28 08:58:27</td>\n      <td>52</td>\n      <td>12</td>\n      <td>Distanza</td>\n      <td>...</td>\n      <td>101.0</td>\n      <td>103.0</td>\n      <td>101.0</td>\n      <td>94.0</td>\n      <td>94.0</td>\n      <td>92.0</td>\n      <td>92.0</td>\n      <td>89.0</td>\n      <td>False</td>\n      <td>False</td>\n    </tr>\n    <tr>\n      <th>...</th>\n      <td>...</td>\n      <td>...</td>\n      <td>...</td>\n      <td>...</td>\n      <td>...</td>\n      <td>...</td>\n      <td>...</td>\n      <td>...</td>\n      <td>...</td>\n      <td>...</td>\n      <td>...</td>\n      <td>...</td>\n      <td>...</td>\n      <td>...</td>\n      <td>...</td>\n      <td>...</td>\n      <td>...</td>\n      <td>...</td>\n      <td>...</td>\n      <td>...</td>\n      <td>...</td>\n    </tr>\n    <tr>\n      <th>57660</th>\n      <td>1222371908</td>\n      <td>Mihkel Raim</td>\n      <td>1580521</td>\n      <td>70.930000</td>\n      <td>Bike</td>\n      <td>2020-11-02T00:00:00</td>\n      <td>2020-11-02T11:25:10</td>\n      <td>45</td>\n      <td>11</td>\n      <td>Indoor Cycling</td>\n      <td>...</td>\n      <td>83.0</td>\n      <td>83.0</td>\n      <td>82.0</td>\n      <td>81.0</td>\n      <td>79.0</td>\n      <td>NaN</td>\n      <td>NaN</td>\n      <td>NaN</td>\n      <td>False</td>\n      <td>False</td>\n    </tr>\n    <tr>\n      <th>57677</th>\n      <td>1220264197</td>\n      <td>Mihkel Raim</td>\n      <td>1580521</td>\n      <td>70.930000</td>\n      <td>Bike</td>\n      <td>2020-11-01T00:00:00</td>\n      <td>2020-11-01T18:03:53</td>\n      <td>44</td>\n      <td>11</td>\n      <td>Cycling</td>\n      <td>...</td>\n      <td>67.0</td>\n      <td>66.0</td>\n      <td>71.0</td>\n      <td>71.0</td>\n      <td>NaN</td>\n      <td>NaN</td>\n      <td>NaN</td>\n      <td>NaN</td>\n      <td>False</td>\n      <td>False</td>\n    </tr>\n    <tr>\n      <th>57678</th>\n      <td>1220264472</td>\n      <td>Mihkel Raim</td>\n      <td>1580521</td>\n      <td>70.930000</td>\n      <td>Bike</td>\n      <td>2020-11-01T00:00:00</td>\n      <td>2020-11-01T13:50:38</td>\n      <td>44</td>\n      <td>11</td>\n      <td>Cycling</td>\n      <td>...</td>\n      <td>94.0</td>\n      <td>86.0</td>\n      <td>92.0</td>\n      <td>92.0</td>\n      <td>90.0</td>\n      <td>87.0</td>\n      <td>83.0</td>\n      <td>80.0</td>\n      <td>False</td>\n      <td>False</td>\n    </tr>\n    <tr>\n      <th>57684</th>\n      <td>1220230703</td>\n      <td>Alexis Renard</td>\n      <td>2691798</td>\n      <td>73.800003</td>\n      <td>Bike</td>\n      <td>2020-11-01T00:00:00</td>\n      <td>2020-11-01T17:56:14</td>\n      <td>44</td>\n      <td>11</td>\n      <td>Cycling</td>\n      <td>...</td>\n      <td>85.0</td>\n      <td>85.0</td>\n      <td>87.0</td>\n      <td>86.0</td>\n      <td>NaN</td>\n      <td>NaN</td>\n      <td>NaN</td>\n      <td>NaN</td>\n      <td>False</td>\n      <td>False</td>\n    </tr>\n    <tr>\n      <th>57685</th>\n      <td>1220237330</td>\n      <td>Alexis Renard</td>\n      <td>2691798</td>\n      <td>73.800003</td>\n      <td>Bike</td>\n      <td>2020-11-01T00:00:00</td>\n      <td>2020-11-01T13:53:18</td>\n      <td>44</td>\n      <td>11</td>\n      <td>Cycling</td>\n      <td>...</td>\n      <td>93.0</td>\n      <td>92.0</td>\n      <td>91.0</td>\n      <td>86.0</td>\n      <td>91.0</td>\n      <td>91.0</td>\n      <td>89.0</td>\n      <td>86.0</td>\n      <td>False</td>\n      <td>False</td>\n    </tr>\n  </tbody>\n</table>\n<p>7464 rows × 140 columns</p>\n</div>"
     },
     "execution_count": 12,
     "metadata": {},
     "output_type": "execute_result"
    }
   ],
   "source": [],
   "metadata": {
    "collapsed": false,
    "pycharm": {
     "name": "#%%\n"
    }
   }
  },
  {
   "cell_type": "code",
   "execution_count": 14,
   "outputs": [
    {
     "data": {
      "text/plain": "array(['Davide Cimolai', 'Norman Vahtra', 'Alexis Renard', 'Roches Roses',\n       'Hugo hofstetter', 'Itamar Einhorn', 'Guy Niv', 'Nathan Earle',\n       'Awet Gebremedhin', 'Travis McCabe', 'Nils Politt', 'Mihkel Raim',\n       'Daniel Navarro', 'Ben Hermans', 'Krists Neilands',\n       'Reto Hollenstein', 'Rudy Barbier', 'Andre Greipel',\n       'Matteo Badilatti', 'Tom Van Asbroeck', 'Guy sagiv',\n       'Rory Sutherland'], dtype=object)"
     },
     "execution_count": 14,
     "metadata": {},
     "output_type": "execute_result"
    }
   ],
   "source": [
    "\n",
    "tp_id_df[tp_id_df['Id'].isin(missing_workouts) & (tp_id_df['WorkoutType'] == 'Bike')]['Athlete'].unique()\n",
    "#.to_csv('missing_workouts.csv',index=False,header=True)"
   ],
   "metadata": {
    "collapsed": false,
    "pycharm": {
     "name": "#%%\n"
    }
   }
  },
  {
   "cell_type": "code",
   "execution_count": 16,
   "outputs": [],
   "source": [
    "marks_missing_workouts = set(workouts_df['workout_tp_id']) - set(tp_id_df['Id'])"
   ],
   "metadata": {
    "collapsed": false,
    "pycharm": {
     "name": "#%%\n"
    }
   }
  },
  {
   "cell_type": "code",
   "execution_count": 20,
   "outputs": [],
   "source": [
    "marks_missings = workouts_df[workouts_df['workout_tp_id'].isin(marks_missing_workouts)]"
   ],
   "metadata": {
    "collapsed": false,
    "pycharm": {
     "name": "#%%\n"
    }
   }
  },
  {
   "cell_type": "code",
   "execution_count": 22,
   "outputs": [
    {
     "ename": "MemoryError",
     "evalue": "Unable to allocate 65.9 GiB for an array with shape (127, 69684943) and data type float64",
     "output_type": "error",
     "traceback": [
      "\u001B[1;31m---------------------------------------------------------------------------\u001B[0m",
      "\u001B[1;31mMemoryError\u001B[0m                               Traceback (most recent call last)",
      "\u001B[1;32m~\\AppData\\Local\\Temp/ipykernel_9720/3245960742.py\u001B[0m in \u001B[0;36m<module>\u001B[1;34m\u001B[0m\n\u001B[1;32m----> 1\u001B[1;33m \u001B[0mmarks_missings\u001B[0m\u001B[1;33m.\u001B[0m\u001B[0mmerge\u001B[0m\u001B[1;33m(\u001B[0m\u001B[0mtp_id_df\u001B[0m\u001B[1;33m,\u001B[0m\u001B[0mleft_on\u001B[0m\u001B[1;33m=\u001B[0m\u001B[1;34m'athlete_id'\u001B[0m\u001B[1;33m,\u001B[0m\u001B[0mright_on\u001B[0m\u001B[1;33m=\u001B[0m\u001B[1;34m'AthleteId'\u001B[0m\u001B[1;33m)\u001B[0m\u001B[1;33m\u001B[0m\u001B[1;33m\u001B[0m\u001B[0m\n\u001B[0m",
      "\u001B[1;32m~\\PycharmProjects\\velodrome-backend\\venv\\lib\\site-packages\\pandas\\core\\frame.py\u001B[0m in \u001B[0;36mmerge\u001B[1;34m(self, right, how, on, left_on, right_on, left_index, right_index, sort, suffixes, copy, indicator, validate)\u001B[0m\n\u001B[0;32m   8190\u001B[0m         \u001B[1;32mfrom\u001B[0m \u001B[0mpandas\u001B[0m\u001B[1;33m.\u001B[0m\u001B[0mcore\u001B[0m\u001B[1;33m.\u001B[0m\u001B[0mreshape\u001B[0m\u001B[1;33m.\u001B[0m\u001B[0mmerge\u001B[0m \u001B[1;32mimport\u001B[0m \u001B[0mmerge\u001B[0m\u001B[1;33m\u001B[0m\u001B[1;33m\u001B[0m\u001B[0m\n\u001B[0;32m   8191\u001B[0m \u001B[1;33m\u001B[0m\u001B[0m\n\u001B[1;32m-> 8192\u001B[1;33m         return merge(\n\u001B[0m\u001B[0;32m   8193\u001B[0m             \u001B[0mself\u001B[0m\u001B[1;33m,\u001B[0m\u001B[1;33m\u001B[0m\u001B[1;33m\u001B[0m\u001B[0m\n\u001B[0;32m   8194\u001B[0m             \u001B[0mright\u001B[0m\u001B[1;33m,\u001B[0m\u001B[1;33m\u001B[0m\u001B[1;33m\u001B[0m\u001B[0m\n",
      "\u001B[1;32m~\\PycharmProjects\\velodrome-backend\\venv\\lib\\site-packages\\pandas\\core\\reshape\\merge.py\u001B[0m in \u001B[0;36mmerge\u001B[1;34m(left, right, how, on, left_on, right_on, left_index, right_index, sort, suffixes, copy, indicator, validate)\u001B[0m\n\u001B[0;32m     87\u001B[0m         \u001B[0mvalidate\u001B[0m\u001B[1;33m=\u001B[0m\u001B[0mvalidate\u001B[0m\u001B[1;33m,\u001B[0m\u001B[1;33m\u001B[0m\u001B[1;33m\u001B[0m\u001B[0m\n\u001B[0;32m     88\u001B[0m     )\n\u001B[1;32m---> 89\u001B[1;33m     \u001B[1;32mreturn\u001B[0m \u001B[0mop\u001B[0m\u001B[1;33m.\u001B[0m\u001B[0mget_result\u001B[0m\u001B[1;33m(\u001B[0m\u001B[1;33m)\u001B[0m\u001B[1;33m\u001B[0m\u001B[1;33m\u001B[0m\u001B[0m\n\u001B[0m\u001B[0;32m     90\u001B[0m \u001B[1;33m\u001B[0m\u001B[0m\n\u001B[0;32m     91\u001B[0m \u001B[1;33m\u001B[0m\u001B[0m\n",
      "\u001B[1;32m~\\PycharmProjects\\velodrome-backend\\venv\\lib\\site-packages\\pandas\\core\\reshape\\merge.py\u001B[0m in \u001B[0;36mget_result\u001B[1;34m(self)\u001B[0m\n\u001B[0;32m    691\u001B[0m         \u001B[0mrindexers\u001B[0m \u001B[1;33m=\u001B[0m \u001B[1;33m{\u001B[0m\u001B[1;36m1\u001B[0m\u001B[1;33m:\u001B[0m \u001B[0mright_indexer\u001B[0m\u001B[1;33m}\u001B[0m \u001B[1;32mif\u001B[0m \u001B[0mright_indexer\u001B[0m \u001B[1;32mis\u001B[0m \u001B[1;32mnot\u001B[0m \u001B[1;32mNone\u001B[0m \u001B[1;32melse\u001B[0m \u001B[1;33m{\u001B[0m\u001B[1;33m}\u001B[0m\u001B[1;33m\u001B[0m\u001B[1;33m\u001B[0m\u001B[0m\n\u001B[0;32m    692\u001B[0m \u001B[1;33m\u001B[0m\u001B[0m\n\u001B[1;32m--> 693\u001B[1;33m         result_data = concatenate_block_managers(\n\u001B[0m\u001B[0;32m    694\u001B[0m             \u001B[1;33m[\u001B[0m\u001B[1;33m(\u001B[0m\u001B[0mself\u001B[0m\u001B[1;33m.\u001B[0m\u001B[0mleft\u001B[0m\u001B[1;33m.\u001B[0m\u001B[0m_mgr\u001B[0m\u001B[1;33m,\u001B[0m \u001B[0mlindexers\u001B[0m\u001B[1;33m)\u001B[0m\u001B[1;33m,\u001B[0m \u001B[1;33m(\u001B[0m\u001B[0mself\u001B[0m\u001B[1;33m.\u001B[0m\u001B[0mright\u001B[0m\u001B[1;33m.\u001B[0m\u001B[0m_mgr\u001B[0m\u001B[1;33m,\u001B[0m \u001B[0mrindexers\u001B[0m\u001B[1;33m)\u001B[0m\u001B[1;33m]\u001B[0m\u001B[1;33m,\u001B[0m\u001B[1;33m\u001B[0m\u001B[1;33m\u001B[0m\u001B[0m\n\u001B[0;32m    695\u001B[0m             \u001B[0maxes\u001B[0m\u001B[1;33m=\u001B[0m\u001B[1;33m[\u001B[0m\u001B[0mllabels\u001B[0m\u001B[1;33m.\u001B[0m\u001B[0mappend\u001B[0m\u001B[1;33m(\u001B[0m\u001B[0mrlabels\u001B[0m\u001B[1;33m)\u001B[0m\u001B[1;33m,\u001B[0m \u001B[0mjoin_index\u001B[0m\u001B[1;33m]\u001B[0m\u001B[1;33m,\u001B[0m\u001B[1;33m\u001B[0m\u001B[1;33m\u001B[0m\u001B[0m\n",
      "\u001B[1;32m~\\PycharmProjects\\velodrome-backend\\venv\\lib\\site-packages\\pandas\\core\\internals\\concat.py\u001B[0m in \u001B[0;36mconcatenate_block_managers\u001B[1;34m(mgrs_indexers, axes, concat_axis, copy)\u001B[0m\n\u001B[0;32m     81\u001B[0m         \u001B[1;32melse\u001B[0m\u001B[1;33m:\u001B[0m\u001B[1;33m\u001B[0m\u001B[1;33m\u001B[0m\u001B[0m\n\u001B[0;32m     82\u001B[0m             b = make_block(\n\u001B[1;32m---> 83\u001B[1;33m                 \u001B[0m_concatenate_join_units\u001B[0m\u001B[1;33m(\u001B[0m\u001B[0mjoin_units\u001B[0m\u001B[1;33m,\u001B[0m \u001B[0mconcat_axis\u001B[0m\u001B[1;33m,\u001B[0m \u001B[0mcopy\u001B[0m\u001B[1;33m=\u001B[0m\u001B[0mcopy\u001B[0m\u001B[1;33m)\u001B[0m\u001B[1;33m,\u001B[0m\u001B[1;33m\u001B[0m\u001B[1;33m\u001B[0m\u001B[0m\n\u001B[0m\u001B[0;32m     84\u001B[0m                 \u001B[0mplacement\u001B[0m\u001B[1;33m=\u001B[0m\u001B[0mplacement\u001B[0m\u001B[1;33m,\u001B[0m\u001B[1;33m\u001B[0m\u001B[1;33m\u001B[0m\u001B[0m\n\u001B[0;32m     85\u001B[0m                 \u001B[0mndim\u001B[0m\u001B[1;33m=\u001B[0m\u001B[0mlen\u001B[0m\u001B[1;33m(\u001B[0m\u001B[0maxes\u001B[0m\u001B[1;33m)\u001B[0m\u001B[1;33m,\u001B[0m\u001B[1;33m\u001B[0m\u001B[1;33m\u001B[0m\u001B[0m\n",
      "\u001B[1;32m~\\PycharmProjects\\velodrome-backend\\venv\\lib\\site-packages\\pandas\\core\\internals\\concat.py\u001B[0m in \u001B[0;36m_concatenate_join_units\u001B[1;34m(join_units, concat_axis, copy)\u001B[0m\n\u001B[0;32m    311\u001B[0m     \u001B[0mempty_dtype\u001B[0m\u001B[1;33m,\u001B[0m \u001B[0mupcasted_na\u001B[0m \u001B[1;33m=\u001B[0m \u001B[0m_get_empty_dtype_and_na\u001B[0m\u001B[1;33m(\u001B[0m\u001B[0mjoin_units\u001B[0m\u001B[1;33m)\u001B[0m\u001B[1;33m\u001B[0m\u001B[1;33m\u001B[0m\u001B[0m\n\u001B[0;32m    312\u001B[0m \u001B[1;33m\u001B[0m\u001B[0m\n\u001B[1;32m--> 313\u001B[1;33m     to_concat = [\n\u001B[0m\u001B[0;32m    314\u001B[0m         \u001B[0mju\u001B[0m\u001B[1;33m.\u001B[0m\u001B[0mget_reindexed_values\u001B[0m\u001B[1;33m(\u001B[0m\u001B[0mempty_dtype\u001B[0m\u001B[1;33m=\u001B[0m\u001B[0mempty_dtype\u001B[0m\u001B[1;33m,\u001B[0m \u001B[0mupcasted_na\u001B[0m\u001B[1;33m=\u001B[0m\u001B[0mupcasted_na\u001B[0m\u001B[1;33m)\u001B[0m\u001B[1;33m\u001B[0m\u001B[1;33m\u001B[0m\u001B[0m\n\u001B[0;32m    315\u001B[0m         \u001B[1;32mfor\u001B[0m \u001B[0mju\u001B[0m \u001B[1;32min\u001B[0m \u001B[0mjoin_units\u001B[0m\u001B[1;33m\u001B[0m\u001B[1;33m\u001B[0m\u001B[0m\n",
      "\u001B[1;32m~\\PycharmProjects\\velodrome-backend\\venv\\lib\\site-packages\\pandas\\core\\internals\\concat.py\u001B[0m in \u001B[0;36m<listcomp>\u001B[1;34m(.0)\u001B[0m\n\u001B[0;32m    312\u001B[0m \u001B[1;33m\u001B[0m\u001B[0m\n\u001B[0;32m    313\u001B[0m     to_concat = [\n\u001B[1;32m--> 314\u001B[1;33m         \u001B[0mju\u001B[0m\u001B[1;33m.\u001B[0m\u001B[0mget_reindexed_values\u001B[0m\u001B[1;33m(\u001B[0m\u001B[0mempty_dtype\u001B[0m\u001B[1;33m=\u001B[0m\u001B[0mempty_dtype\u001B[0m\u001B[1;33m,\u001B[0m \u001B[0mupcasted_na\u001B[0m\u001B[1;33m=\u001B[0m\u001B[0mupcasted_na\u001B[0m\u001B[1;33m)\u001B[0m\u001B[1;33m\u001B[0m\u001B[1;33m\u001B[0m\u001B[0m\n\u001B[0m\u001B[0;32m    315\u001B[0m         \u001B[1;32mfor\u001B[0m \u001B[0mju\u001B[0m \u001B[1;32min\u001B[0m \u001B[0mjoin_units\u001B[0m\u001B[1;33m\u001B[0m\u001B[1;33m\u001B[0m\u001B[0m\n\u001B[0;32m    316\u001B[0m     ]\n",
      "\u001B[1;32m~\\PycharmProjects\\velodrome-backend\\venv\\lib\\site-packages\\pandas\\core\\internals\\concat.py\u001B[0m in \u001B[0;36mget_reindexed_values\u001B[1;34m(self, empty_dtype, upcasted_na)\u001B[0m\n\u001B[0;32m    296\u001B[0m         \u001B[1;32melse\u001B[0m\u001B[1;33m:\u001B[0m\u001B[1;33m\u001B[0m\u001B[1;33m\u001B[0m\u001B[0m\n\u001B[0;32m    297\u001B[0m             \u001B[1;32mfor\u001B[0m \u001B[0max\u001B[0m\u001B[1;33m,\u001B[0m \u001B[0mindexer\u001B[0m \u001B[1;32min\u001B[0m \u001B[0mself\u001B[0m\u001B[1;33m.\u001B[0m\u001B[0mindexers\u001B[0m\u001B[1;33m.\u001B[0m\u001B[0mitems\u001B[0m\u001B[1;33m(\u001B[0m\u001B[1;33m)\u001B[0m\u001B[1;33m:\u001B[0m\u001B[1;33m\u001B[0m\u001B[1;33m\u001B[0m\u001B[0m\n\u001B[1;32m--> 298\u001B[1;33m                 \u001B[0mvalues\u001B[0m \u001B[1;33m=\u001B[0m \u001B[0malgos\u001B[0m\u001B[1;33m.\u001B[0m\u001B[0mtake_nd\u001B[0m\u001B[1;33m(\u001B[0m\u001B[0mvalues\u001B[0m\u001B[1;33m,\u001B[0m \u001B[0mindexer\u001B[0m\u001B[1;33m,\u001B[0m \u001B[0maxis\u001B[0m\u001B[1;33m=\u001B[0m\u001B[0max\u001B[0m\u001B[1;33m,\u001B[0m \u001B[0mfill_value\u001B[0m\u001B[1;33m=\u001B[0m\u001B[0mfill_value\u001B[0m\u001B[1;33m)\u001B[0m\u001B[1;33m\u001B[0m\u001B[1;33m\u001B[0m\u001B[0m\n\u001B[0m\u001B[0;32m    299\u001B[0m \u001B[1;33m\u001B[0m\u001B[0m\n\u001B[0;32m    300\u001B[0m         \u001B[1;32mreturn\u001B[0m \u001B[0mvalues\u001B[0m\u001B[1;33m\u001B[0m\u001B[1;33m\u001B[0m\u001B[0m\n",
      "\u001B[1;32m~\\PycharmProjects\\velodrome-backend\\venv\\lib\\site-packages\\pandas\\core\\algorithms.py\u001B[0m in \u001B[0;36mtake_nd\u001B[1;34m(arr, indexer, axis, out, fill_value, allow_fill)\u001B[0m\n\u001B[0;32m   1752\u001B[0m             \u001B[0mout\u001B[0m \u001B[1;33m=\u001B[0m \u001B[0mnp\u001B[0m\u001B[1;33m.\u001B[0m\u001B[0mempty\u001B[0m\u001B[1;33m(\u001B[0m\u001B[0mout_shape\u001B[0m\u001B[1;33m,\u001B[0m \u001B[0mdtype\u001B[0m\u001B[1;33m=\u001B[0m\u001B[0mdtype\u001B[0m\u001B[1;33m,\u001B[0m \u001B[0morder\u001B[0m\u001B[1;33m=\u001B[0m\u001B[1;34m\"F\"\u001B[0m\u001B[1;33m)\u001B[0m\u001B[1;33m\u001B[0m\u001B[1;33m\u001B[0m\u001B[0m\n\u001B[0;32m   1753\u001B[0m         \u001B[1;32melse\u001B[0m\u001B[1;33m:\u001B[0m\u001B[1;33m\u001B[0m\u001B[1;33m\u001B[0m\u001B[0m\n\u001B[1;32m-> 1754\u001B[1;33m             \u001B[0mout\u001B[0m \u001B[1;33m=\u001B[0m \u001B[0mnp\u001B[0m\u001B[1;33m.\u001B[0m\u001B[0mempty\u001B[0m\u001B[1;33m(\u001B[0m\u001B[0mout_shape\u001B[0m\u001B[1;33m,\u001B[0m \u001B[0mdtype\u001B[0m\u001B[1;33m=\u001B[0m\u001B[0mdtype\u001B[0m\u001B[1;33m)\u001B[0m\u001B[1;33m\u001B[0m\u001B[1;33m\u001B[0m\u001B[0m\n\u001B[0m\u001B[0;32m   1755\u001B[0m \u001B[1;33m\u001B[0m\u001B[0m\n\u001B[0;32m   1756\u001B[0m     func = _get_take_nd_function(\n",
      "\u001B[1;31mMemoryError\u001B[0m: Unable to allocate 65.9 GiB for an array with shape (127, 69684943) and data type float64"
     ]
    }
   ],
   "source": [
    "# marks_missings.merge(tp_id_df,left_on='athlete_id',right_on='AthleteId')"
   ],
   "metadata": {
    "collapsed": false,
    "pycharm": {
     "name": "#%%\n"
    }
   }
  },
  {
   "cell_type": "code",
   "execution_count": 23,
   "outputs": [
    {
     "name": "stderr",
     "output_type": "stream",
     "text": [
      "C:\\Users\\User\\AppData\\Local\\Temp/ipykernel_9720/3109296199.py:2: SettingWithCopyWarning: \n",
      "A value is trying to be set on a copy of a slice from a DataFrame.\n",
      "Try using .loc[row_indexer,col_indexer] = value instead\n",
      "\n",
      "See the caveats in the documentation: https://pandas.pydata.org/pandas-docs/stable/user_guide/indexing.html#returning-a-view-versus-a-copy\n",
      "  marks_missings['athlete'] = marks_missings['athlete_id'].map(tp_id_dict)\n"
     ]
    }
   ],
   "source": [
    "tp_id_dict = {k: v for k, v in zip(tp_id_df['AthleteId'], tp_id_df['Athlete'])}\n",
    "marks_missings['athlete'] = marks_missings['athlete_id'].map(tp_id_dict)"
   ],
   "metadata": {
    "collapsed": false,
    "pycharm": {
     "name": "#%%\n"
    }
   }
  },
  {
   "cell_type": "code",
   "execution_count": 29,
   "outputs": [
    {
     "data": {
      "text/plain": "                    athlete  athlete_id  workout_tp_id     workout_datetime  \\\n0      Alessandro De Marchi      129435      745141250  2005-01-25 17:41:20   \n1      Alessandro De Marchi      129435      745141259  2006-10-04 11:10:49   \n2           Jenthe Biermans     1370771      246706963  2007-01-01 14:27:43   \n3           Jenthe Biermans     1370771      247875422  2007-01-01 23:40:00   \n4           Jenthe Biermans     1370771      255612894  2007-01-02 02:52:01   \n...                     ...         ...            ...                  ...   \n80172      Matteo Badilatti     1854568     1634589064  2022-01-06 11:27:37   \n80173          Daniel Turek     1375312     1634769010  2022-01-06 16:30:32   \n80174          Daniel Turek     1375312     1634761602  2022-01-06 15:56:24   \n80175     Patrick Schelling     2174391     1634805631  2022-01-06 18:20:24   \n80176     Patrick Schelling     2174391     1634815719  2022-01-06 18:31:51   \n\n       total_time       distance  elevation_gain  elevation_loss  \\\n0        1.065000   41081.670000             NaN             NaN   \n1        0.113056    2817.080000             NaN             NaN   \n2        2.323860   76016.000000       50.399963       44.599945   \n3        4.570451  124548.000000     1905.199890     1863.399902   \n4        1.359576   38890.000000       15.400024       17.000031   \n...           ...            ...             ...             ...   \n80172    2.888381   76272.140625      964.000000      964.000000   \n80173    1.511357   56770.519531      414.000000      243.799998   \n80174    2.005822   58339.960938             NaN             NaN   \n80175    0.125034    4686.879883       16.000000        9.600000   \n80176    0.149434    6019.160156       32.000000       36.999999   \n\n       elevation_average  elevation_maximum  ...  temp_max  calories  \\\n0                    NaN                NaN  ...       NaN     755.0   \n1                    NaN                NaN  ...       NaN      41.0   \n2               3.570111          16.400024  ...      31.0    1794.0   \n3             321.536377         542.599976  ...      17.0    3347.0   \n4             -27.843588         -20.799988  ...      31.0    1020.0   \n...                  ...                ...  ...       ...       ...   \n80172         611.191284         850.200012  ...      16.0    2092.0   \n80173          29.412766         159.199997  ...       NaN    1030.0   \n80174                NaN                NaN  ...      24.0    1638.0   \n80175          21.516890          31.400000  ...       NaN      87.0   \n80176          16.488966          29.000000  ...       NaN     113.0   \n\n       workout_week  workout_month  type        IF  tss_actual  \\\n0               4.0              1  Bike  0.601992       38.19   \n1              40.0             10  Bike  0.763184        6.19   \n2               1.0              1  Bike  0.675235      105.72   \n3               1.0              1  Bike  0.796400      290.08   \n4               1.0              1  Bike       NaN         NaN   \n...             ...            ...   ...       ...         ...   \n80172           1.0              1  Bike  0.581819       97.42   \n80173           1.0              1  Bike  0.581423       50.11   \n80174           1.0              1  Bike  0.603118       72.61   \n80175           1.0              1  Bike  0.601936        4.24   \n80176           1.0              1  Bike  0.638403        5.76   \n\n      tss_calculation_method                             workout_title  \\\n0                      Power                                   Cycling   \n1                      Power                                   Cycling   \n2                      Power                                       NaN   \n3                      Power                                       NaN   \n4                  Undefined                                       NaN   \n...                      ...                                       ...   \n80172                  Power                              Road Cycling   \n80173                  Power  Zwift - Applewood Cycling Group Ride (B)   \n80174                  Power                            Indoor Cycling   \n80175                  Power                            Zwift - London   \n80176                  Power                            Zwift - London   \n\n          energy  \n0       755.3460  \n1        40.6485  \n2      1794.0500  \n3      3347.0520  \n4            NaN  \n...          ...  \n80172  1860.0360  \n80173  1067.9080  \n80174  1495.6080  \n80175    90.8420  \n80176   118.2770  \n\n[48743 rows x 23 columns]",
      "text/html": "<div>\n<style scoped>\n    .dataframe tbody tr th:only-of-type {\n        vertical-align: middle;\n    }\n\n    .dataframe tbody tr th {\n        vertical-align: top;\n    }\n\n    .dataframe thead th {\n        text-align: right;\n    }\n</style>\n<table border=\"1\" class=\"dataframe\">\n  <thead>\n    <tr style=\"text-align: right;\">\n      <th></th>\n      <th>athlete</th>\n      <th>athlete_id</th>\n      <th>workout_tp_id</th>\n      <th>workout_datetime</th>\n      <th>total_time</th>\n      <th>distance</th>\n      <th>elevation_gain</th>\n      <th>elevation_loss</th>\n      <th>elevation_average</th>\n      <th>elevation_maximum</th>\n      <th>...</th>\n      <th>temp_max</th>\n      <th>calories</th>\n      <th>workout_week</th>\n      <th>workout_month</th>\n      <th>type</th>\n      <th>IF</th>\n      <th>tss_actual</th>\n      <th>tss_calculation_method</th>\n      <th>workout_title</th>\n      <th>energy</th>\n    </tr>\n  </thead>\n  <tbody>\n    <tr>\n      <th>0</th>\n      <td>Alessandro De Marchi</td>\n      <td>129435</td>\n      <td>745141250</td>\n      <td>2005-01-25 17:41:20</td>\n      <td>1.065000</td>\n      <td>41081.670000</td>\n      <td>NaN</td>\n      <td>NaN</td>\n      <td>NaN</td>\n      <td>NaN</td>\n      <td>...</td>\n      <td>NaN</td>\n      <td>755.0</td>\n      <td>4.0</td>\n      <td>1</td>\n      <td>Bike</td>\n      <td>0.601992</td>\n      <td>38.19</td>\n      <td>Power</td>\n      <td>Cycling</td>\n      <td>755.3460</td>\n    </tr>\n    <tr>\n      <th>1</th>\n      <td>Alessandro De Marchi</td>\n      <td>129435</td>\n      <td>745141259</td>\n      <td>2006-10-04 11:10:49</td>\n      <td>0.113056</td>\n      <td>2817.080000</td>\n      <td>NaN</td>\n      <td>NaN</td>\n      <td>NaN</td>\n      <td>NaN</td>\n      <td>...</td>\n      <td>NaN</td>\n      <td>41.0</td>\n      <td>40.0</td>\n      <td>10</td>\n      <td>Bike</td>\n      <td>0.763184</td>\n      <td>6.19</td>\n      <td>Power</td>\n      <td>Cycling</td>\n      <td>40.6485</td>\n    </tr>\n    <tr>\n      <th>2</th>\n      <td>Jenthe Biermans</td>\n      <td>1370771</td>\n      <td>246706963</td>\n      <td>2007-01-01 14:27:43</td>\n      <td>2.323860</td>\n      <td>76016.000000</td>\n      <td>50.399963</td>\n      <td>44.599945</td>\n      <td>3.570111</td>\n      <td>16.400024</td>\n      <td>...</td>\n      <td>31.0</td>\n      <td>1794.0</td>\n      <td>1.0</td>\n      <td>1</td>\n      <td>Bike</td>\n      <td>0.675235</td>\n      <td>105.72</td>\n      <td>Power</td>\n      <td>NaN</td>\n      <td>1794.0500</td>\n    </tr>\n    <tr>\n      <th>3</th>\n      <td>Jenthe Biermans</td>\n      <td>1370771</td>\n      <td>247875422</td>\n      <td>2007-01-01 23:40:00</td>\n      <td>4.570451</td>\n      <td>124548.000000</td>\n      <td>1905.199890</td>\n      <td>1863.399902</td>\n      <td>321.536377</td>\n      <td>542.599976</td>\n      <td>...</td>\n      <td>17.0</td>\n      <td>3347.0</td>\n      <td>1.0</td>\n      <td>1</td>\n      <td>Bike</td>\n      <td>0.796400</td>\n      <td>290.08</td>\n      <td>Power</td>\n      <td>NaN</td>\n      <td>3347.0520</td>\n    </tr>\n    <tr>\n      <th>4</th>\n      <td>Jenthe Biermans</td>\n      <td>1370771</td>\n      <td>255612894</td>\n      <td>2007-01-02 02:52:01</td>\n      <td>1.359576</td>\n      <td>38890.000000</td>\n      <td>15.400024</td>\n      <td>17.000031</td>\n      <td>-27.843588</td>\n      <td>-20.799988</td>\n      <td>...</td>\n      <td>31.0</td>\n      <td>1020.0</td>\n      <td>1.0</td>\n      <td>1</td>\n      <td>Bike</td>\n      <td>NaN</td>\n      <td>NaN</td>\n      <td>Undefined</td>\n      <td>NaN</td>\n      <td>NaN</td>\n    </tr>\n    <tr>\n      <th>...</th>\n      <td>...</td>\n      <td>...</td>\n      <td>...</td>\n      <td>...</td>\n      <td>...</td>\n      <td>...</td>\n      <td>...</td>\n      <td>...</td>\n      <td>...</td>\n      <td>...</td>\n      <td>...</td>\n      <td>...</td>\n      <td>...</td>\n      <td>...</td>\n      <td>...</td>\n      <td>...</td>\n      <td>...</td>\n      <td>...</td>\n      <td>...</td>\n      <td>...</td>\n      <td>...</td>\n    </tr>\n    <tr>\n      <th>80172</th>\n      <td>Matteo Badilatti</td>\n      <td>1854568</td>\n      <td>1634589064</td>\n      <td>2022-01-06 11:27:37</td>\n      <td>2.888381</td>\n      <td>76272.140625</td>\n      <td>964.000000</td>\n      <td>964.000000</td>\n      <td>611.191284</td>\n      <td>850.200012</td>\n      <td>...</td>\n      <td>16.0</td>\n      <td>2092.0</td>\n      <td>1.0</td>\n      <td>1</td>\n      <td>Bike</td>\n      <td>0.581819</td>\n      <td>97.42</td>\n      <td>Power</td>\n      <td>Road Cycling</td>\n      <td>1860.0360</td>\n    </tr>\n    <tr>\n      <th>80173</th>\n      <td>Daniel Turek</td>\n      <td>1375312</td>\n      <td>1634769010</td>\n      <td>2022-01-06 16:30:32</td>\n      <td>1.511357</td>\n      <td>56770.519531</td>\n      <td>414.000000</td>\n      <td>243.799998</td>\n      <td>29.412766</td>\n      <td>159.199997</td>\n      <td>...</td>\n      <td>NaN</td>\n      <td>1030.0</td>\n      <td>1.0</td>\n      <td>1</td>\n      <td>Bike</td>\n      <td>0.581423</td>\n      <td>50.11</td>\n      <td>Power</td>\n      <td>Zwift - Applewood Cycling Group Ride (B)</td>\n      <td>1067.9080</td>\n    </tr>\n    <tr>\n      <th>80174</th>\n      <td>Daniel Turek</td>\n      <td>1375312</td>\n      <td>1634761602</td>\n      <td>2022-01-06 15:56:24</td>\n      <td>2.005822</td>\n      <td>58339.960938</td>\n      <td>NaN</td>\n      <td>NaN</td>\n      <td>NaN</td>\n      <td>NaN</td>\n      <td>...</td>\n      <td>24.0</td>\n      <td>1638.0</td>\n      <td>1.0</td>\n      <td>1</td>\n      <td>Bike</td>\n      <td>0.603118</td>\n      <td>72.61</td>\n      <td>Power</td>\n      <td>Indoor Cycling</td>\n      <td>1495.6080</td>\n    </tr>\n    <tr>\n      <th>80175</th>\n      <td>Patrick Schelling</td>\n      <td>2174391</td>\n      <td>1634805631</td>\n      <td>2022-01-06 18:20:24</td>\n      <td>0.125034</td>\n      <td>4686.879883</td>\n      <td>16.000000</td>\n      <td>9.600000</td>\n      <td>21.516890</td>\n      <td>31.400000</td>\n      <td>...</td>\n      <td>NaN</td>\n      <td>87.0</td>\n      <td>1.0</td>\n      <td>1</td>\n      <td>Bike</td>\n      <td>0.601936</td>\n      <td>4.24</td>\n      <td>Power</td>\n      <td>Zwift - London</td>\n      <td>90.8420</td>\n    </tr>\n    <tr>\n      <th>80176</th>\n      <td>Patrick Schelling</td>\n      <td>2174391</td>\n      <td>1634815719</td>\n      <td>2022-01-06 18:31:51</td>\n      <td>0.149434</td>\n      <td>6019.160156</td>\n      <td>32.000000</td>\n      <td>36.999999</td>\n      <td>16.488966</td>\n      <td>29.000000</td>\n      <td>...</td>\n      <td>NaN</td>\n      <td>113.0</td>\n      <td>1.0</td>\n      <td>1</td>\n      <td>Bike</td>\n      <td>0.638403</td>\n      <td>5.76</td>\n      <td>Power</td>\n      <td>Zwift - London</td>\n      <td>118.2770</td>\n    </tr>\n  </tbody>\n</table>\n<p>48743 rows × 23 columns</p>\n</div>"
     },
     "execution_count": 29,
     "metadata": {},
     "output_type": "execute_result"
    }
   ],
   "source": [
    "new_cols = [marks_missings.columns[-1]]\n",
    "new_cols.extend(marks_missings.columns[:-1])\n",
    "marks_missings[new_cols]"
   ],
   "metadata": {
    "collapsed": false,
    "pycharm": {
     "name": "#%%\n"
    }
   }
  },
  {
   "cell_type": "code",
   "execution_count": 30,
   "outputs": [],
   "source": [
    "marks_missings[new_cols]\n",
    "#.to_csv('additional_workouts.csv',index=False,header=True)\n"
   ],
   "metadata": {
    "collapsed": false,
    "pycharm": {
     "name": "#%%\n"
    }
   }
  },
  {
   "cell_type": "code",
   "execution_count": 1,
   "outputs": [
    {
     "data": {
      "text/plain": "       athlete_id  workout_tp_id     workout_datetime  total_time   distance  \\\n0          129435      745141250  2005-01-25 17:41:20    1.065000   41081.67   \n1          129435      745141259  2006-10-04 11:10:49    0.113056    2817.08   \n2         1370771      246706963  2007-01-01 14:27:43    2.323860   76016.00   \n3         1370771      247875422  2007-01-01 23:40:00    4.570451  124548.00   \n4         1370771      255612894  2007-01-02 02:52:01    1.359576   38890.00   \n...           ...            ...                  ...         ...        ...   \n91328     1375312     1641225630           2022-01-14         NaN        NaN   \n91329     1375312     1612062529  2022-01-14 12:48:27         NaN        NaN   \n91330     1845888     1634990011           2022-01-14         NaN        NaN   \n91331      515615     1637380527           2022-01-14         NaN        NaN   \n91332     1951813     1629833284           2022-01-14         NaN        NaN   \n\n       elevation_gain  elevation_loss  elevation_average  elevation_maximum  \\\n0                 NaN             NaN                NaN                NaN   \n1                 NaN             NaN                NaN                NaN   \n2           50.399963       44.599945           3.570111          16.400024   \n3         1905.199890     1863.399902         321.536377         542.599976   \n4           15.400024       17.000031         -27.843588         -20.799988   \n...               ...             ...                ...                ...   \n91328             NaN             NaN                NaN                NaN   \n91329             NaN             NaN                NaN                NaN   \n91330             NaN             NaN                NaN                NaN   \n91331             NaN             NaN                NaN                NaN   \n91332             NaN             NaN                NaN                NaN   \n\n       elevation_minimum  ...  temp_max  calories  workout_week  \\\n0                    NaN  ...       NaN     755.0           4.0   \n1                    NaN  ...       NaN      41.0          40.0   \n2              -9.399994  ...      31.0    1794.0           1.0   \n3             125.200012  ...      17.0    3347.0           1.0   \n4             -33.600006  ...      31.0    1020.0           1.0   \n...                  ...  ...       ...       ...           ...   \n91328                NaN  ...       NaN       NaN           2.0   \n91329                NaN  ...       NaN       NaN           2.0   \n91330                NaN  ...       NaN       NaN           2.0   \n91331                NaN  ...       NaN       NaN           2.0   \n91332                NaN  ...       NaN       NaN           2.0   \n\n       workout_month  type        IF tss_actual  tss_calculation_method  \\\n0                  1  Bike  0.601992      38.19                   Power   \n1                 10  Bike  0.763184       6.19                   Power   \n2                  1  Bike  0.675235     105.72                   Power   \n3                  1  Bike  0.796400     290.08                   Power   \n4                  1  Bike       NaN        NaN               Undefined   \n...              ...   ...       ...        ...                     ...   \n91328              1  Bike       NaN        NaN               Undefined   \n91329              1  Bike       NaN        NaN               Undefined   \n91330              1  Bike       NaN        NaN               Undefined   \n91331              1  Bike       NaN        NaN               Undefined   \n91332              1  Bike       NaN        NaN               Undefined   \n\n               workout_title     energy  \n0                    Cycling   755.3460  \n1                    Cycling    40.6485  \n2                        NaN  1794.0500  \n3                        NaN  3347.0520  \n4                        NaN        NaN  \n...                      ...        ...  \n91328              2-3h easy        NaN  \n91329  14.1. Rouvy KPZ 16:30        NaN  \n91330  Easy recovery TT bike        NaN  \n91331   2h Easy Endurance TT        NaN  \n91332       Team camp TT day        NaN  \n\n[91333 rows x 22 columns]",
      "text/html": "<div>\n<style scoped>\n    .dataframe tbody tr th:only-of-type {\n        vertical-align: middle;\n    }\n\n    .dataframe tbody tr th {\n        vertical-align: top;\n    }\n\n    .dataframe thead th {\n        text-align: right;\n    }\n</style>\n<table border=\"1\" class=\"dataframe\">\n  <thead>\n    <tr style=\"text-align: right;\">\n      <th></th>\n      <th>athlete_id</th>\n      <th>workout_tp_id</th>\n      <th>workout_datetime</th>\n      <th>total_time</th>\n      <th>distance</th>\n      <th>elevation_gain</th>\n      <th>elevation_loss</th>\n      <th>elevation_average</th>\n      <th>elevation_maximum</th>\n      <th>elevation_minimum</th>\n      <th>...</th>\n      <th>temp_max</th>\n      <th>calories</th>\n      <th>workout_week</th>\n      <th>workout_month</th>\n      <th>type</th>\n      <th>IF</th>\n      <th>tss_actual</th>\n      <th>tss_calculation_method</th>\n      <th>workout_title</th>\n      <th>energy</th>\n    </tr>\n  </thead>\n  <tbody>\n    <tr>\n      <th>0</th>\n      <td>129435</td>\n      <td>745141250</td>\n      <td>2005-01-25 17:41:20</td>\n      <td>1.065000</td>\n      <td>41081.67</td>\n      <td>NaN</td>\n      <td>NaN</td>\n      <td>NaN</td>\n      <td>NaN</td>\n      <td>NaN</td>\n      <td>...</td>\n      <td>NaN</td>\n      <td>755.0</td>\n      <td>4.0</td>\n      <td>1</td>\n      <td>Bike</td>\n      <td>0.601992</td>\n      <td>38.19</td>\n      <td>Power</td>\n      <td>Cycling</td>\n      <td>755.3460</td>\n    </tr>\n    <tr>\n      <th>1</th>\n      <td>129435</td>\n      <td>745141259</td>\n      <td>2006-10-04 11:10:49</td>\n      <td>0.113056</td>\n      <td>2817.08</td>\n      <td>NaN</td>\n      <td>NaN</td>\n      <td>NaN</td>\n      <td>NaN</td>\n      <td>NaN</td>\n      <td>...</td>\n      <td>NaN</td>\n      <td>41.0</td>\n      <td>40.0</td>\n      <td>10</td>\n      <td>Bike</td>\n      <td>0.763184</td>\n      <td>6.19</td>\n      <td>Power</td>\n      <td>Cycling</td>\n      <td>40.6485</td>\n    </tr>\n    <tr>\n      <th>2</th>\n      <td>1370771</td>\n      <td>246706963</td>\n      <td>2007-01-01 14:27:43</td>\n      <td>2.323860</td>\n      <td>76016.00</td>\n      <td>50.399963</td>\n      <td>44.599945</td>\n      <td>3.570111</td>\n      <td>16.400024</td>\n      <td>-9.399994</td>\n      <td>...</td>\n      <td>31.0</td>\n      <td>1794.0</td>\n      <td>1.0</td>\n      <td>1</td>\n      <td>Bike</td>\n      <td>0.675235</td>\n      <td>105.72</td>\n      <td>Power</td>\n      <td>NaN</td>\n      <td>1794.0500</td>\n    </tr>\n    <tr>\n      <th>3</th>\n      <td>1370771</td>\n      <td>247875422</td>\n      <td>2007-01-01 23:40:00</td>\n      <td>4.570451</td>\n      <td>124548.00</td>\n      <td>1905.199890</td>\n      <td>1863.399902</td>\n      <td>321.536377</td>\n      <td>542.599976</td>\n      <td>125.200012</td>\n      <td>...</td>\n      <td>17.0</td>\n      <td>3347.0</td>\n      <td>1.0</td>\n      <td>1</td>\n      <td>Bike</td>\n      <td>0.796400</td>\n      <td>290.08</td>\n      <td>Power</td>\n      <td>NaN</td>\n      <td>3347.0520</td>\n    </tr>\n    <tr>\n      <th>4</th>\n      <td>1370771</td>\n      <td>255612894</td>\n      <td>2007-01-02 02:52:01</td>\n      <td>1.359576</td>\n      <td>38890.00</td>\n      <td>15.400024</td>\n      <td>17.000031</td>\n      <td>-27.843588</td>\n      <td>-20.799988</td>\n      <td>-33.600006</td>\n      <td>...</td>\n      <td>31.0</td>\n      <td>1020.0</td>\n      <td>1.0</td>\n      <td>1</td>\n      <td>Bike</td>\n      <td>NaN</td>\n      <td>NaN</td>\n      <td>Undefined</td>\n      <td>NaN</td>\n      <td>NaN</td>\n    </tr>\n    <tr>\n      <th>...</th>\n      <td>...</td>\n      <td>...</td>\n      <td>...</td>\n      <td>...</td>\n      <td>...</td>\n      <td>...</td>\n      <td>...</td>\n      <td>...</td>\n      <td>...</td>\n      <td>...</td>\n      <td>...</td>\n      <td>...</td>\n      <td>...</td>\n      <td>...</td>\n      <td>...</td>\n      <td>...</td>\n      <td>...</td>\n      <td>...</td>\n      <td>...</td>\n      <td>...</td>\n      <td>...</td>\n    </tr>\n    <tr>\n      <th>91328</th>\n      <td>1375312</td>\n      <td>1641225630</td>\n      <td>2022-01-14</td>\n      <td>NaN</td>\n      <td>NaN</td>\n      <td>NaN</td>\n      <td>NaN</td>\n      <td>NaN</td>\n      <td>NaN</td>\n      <td>NaN</td>\n      <td>...</td>\n      <td>NaN</td>\n      <td>NaN</td>\n      <td>2.0</td>\n      <td>1</td>\n      <td>Bike</td>\n      <td>NaN</td>\n      <td>NaN</td>\n      <td>Undefined</td>\n      <td>2-3h easy</td>\n      <td>NaN</td>\n    </tr>\n    <tr>\n      <th>91329</th>\n      <td>1375312</td>\n      <td>1612062529</td>\n      <td>2022-01-14 12:48:27</td>\n      <td>NaN</td>\n      <td>NaN</td>\n      <td>NaN</td>\n      <td>NaN</td>\n      <td>NaN</td>\n      <td>NaN</td>\n      <td>NaN</td>\n      <td>...</td>\n      <td>NaN</td>\n      <td>NaN</td>\n      <td>2.0</td>\n      <td>1</td>\n      <td>Bike</td>\n      <td>NaN</td>\n      <td>NaN</td>\n      <td>Undefined</td>\n      <td>14.1. Rouvy KPZ 16:30</td>\n      <td>NaN</td>\n    </tr>\n    <tr>\n      <th>91330</th>\n      <td>1845888</td>\n      <td>1634990011</td>\n      <td>2022-01-14</td>\n      <td>NaN</td>\n      <td>NaN</td>\n      <td>NaN</td>\n      <td>NaN</td>\n      <td>NaN</td>\n      <td>NaN</td>\n      <td>NaN</td>\n      <td>...</td>\n      <td>NaN</td>\n      <td>NaN</td>\n      <td>2.0</td>\n      <td>1</td>\n      <td>Bike</td>\n      <td>NaN</td>\n      <td>NaN</td>\n      <td>Undefined</td>\n      <td>Easy recovery TT bike</td>\n      <td>NaN</td>\n    </tr>\n    <tr>\n      <th>91331</th>\n      <td>515615</td>\n      <td>1637380527</td>\n      <td>2022-01-14</td>\n      <td>NaN</td>\n      <td>NaN</td>\n      <td>NaN</td>\n      <td>NaN</td>\n      <td>NaN</td>\n      <td>NaN</td>\n      <td>NaN</td>\n      <td>...</td>\n      <td>NaN</td>\n      <td>NaN</td>\n      <td>2.0</td>\n      <td>1</td>\n      <td>Bike</td>\n      <td>NaN</td>\n      <td>NaN</td>\n      <td>Undefined</td>\n      <td>2h Easy Endurance TT</td>\n      <td>NaN</td>\n    </tr>\n    <tr>\n      <th>91332</th>\n      <td>1951813</td>\n      <td>1629833284</td>\n      <td>2022-01-14</td>\n      <td>NaN</td>\n      <td>NaN</td>\n      <td>NaN</td>\n      <td>NaN</td>\n      <td>NaN</td>\n      <td>NaN</td>\n      <td>NaN</td>\n      <td>...</td>\n      <td>NaN</td>\n      <td>NaN</td>\n      <td>2.0</td>\n      <td>1</td>\n      <td>Bike</td>\n      <td>NaN</td>\n      <td>NaN</td>\n      <td>Undefined</td>\n      <td>Team camp TT day</td>\n      <td>NaN</td>\n    </tr>\n  </tbody>\n</table>\n<p>91333 rows × 22 columns</p>\n</div>"
     },
     "execution_count": 1,
     "metadata": {},
     "output_type": "execute_result"
    }
   ],
   "source": [
    "import pandas as pd\n",
    "\n",
    "df = pd.read_csv('./data/workouts.csv')\n",
    "df\n"
   ],
   "metadata": {
    "collapsed": false,
    "pycharm": {
     "name": "#%%\n"
    }
   }
  },
  {
   "cell_type": "code",
   "execution_count": 7,
   "outputs": [
    {
     "data": {
      "text/plain": "       athlete_id  workout_tp_id     workout_datetime  total_time  \\\n86481     2531513      792187558  2019-04-30 10:03:14    1.211429   \n\n           distance  elevation_gain  elevation_loss  elevation_average  \\\n86481  38639.539062    13448.211426     6853.411621        6901.672852   \n\n       elevation_maximum  elevation_minimum  ...  temp_max  calories  \\\n86481        7292.799805         316.600006  ...      18.0     741.0   \n\n       workout_week  workout_month  type        IF tss_actual  \\\n86481          18.0              4  Bike  0.481694      27.97   \n\n       tss_calculation_method  workout_title   energy  \n86481                   Power        Cycling  736.942  \n\n[1 rows x 22 columns]",
      "text/html": "<div>\n<style scoped>\n    .dataframe tbody tr th:only-of-type {\n        vertical-align: middle;\n    }\n\n    .dataframe tbody tr th {\n        vertical-align: top;\n    }\n\n    .dataframe thead th {\n        text-align: right;\n    }\n</style>\n<table border=\"1\" class=\"dataframe\">\n  <thead>\n    <tr style=\"text-align: right;\">\n      <th></th>\n      <th>athlete_id</th>\n      <th>workout_tp_id</th>\n      <th>workout_datetime</th>\n      <th>total_time</th>\n      <th>distance</th>\n      <th>elevation_gain</th>\n      <th>elevation_loss</th>\n      <th>elevation_average</th>\n      <th>elevation_maximum</th>\n      <th>elevation_minimum</th>\n      <th>...</th>\n      <th>temp_max</th>\n      <th>calories</th>\n      <th>workout_week</th>\n      <th>workout_month</th>\n      <th>type</th>\n      <th>IF</th>\n      <th>tss_actual</th>\n      <th>tss_calculation_method</th>\n      <th>workout_title</th>\n      <th>energy</th>\n    </tr>\n  </thead>\n  <tbody>\n    <tr>\n      <th>86481</th>\n      <td>2531513</td>\n      <td>792187558</td>\n      <td>2019-04-30 10:03:14</td>\n      <td>1.211429</td>\n      <td>38639.539062</td>\n      <td>13448.211426</td>\n      <td>6853.411621</td>\n      <td>6901.672852</td>\n      <td>7292.799805</td>\n      <td>316.600006</td>\n      <td>...</td>\n      <td>18.0</td>\n      <td>741.0</td>\n      <td>18.0</td>\n      <td>4</td>\n      <td>Bike</td>\n      <td>0.481694</td>\n      <td>27.97</td>\n      <td>Power</td>\n      <td>Cycling</td>\n      <td>736.942</td>\n    </tr>\n  </tbody>\n</table>\n<p>1 rows × 22 columns</p>\n</div>"
     },
     "execution_count": 7,
     "metadata": {},
     "output_type": "execute_result"
    }
   ],
   "source": [
    "df[df['workout_tp_id'] == 792187558]"
   ],
   "metadata": {
    "collapsed": false,
    "pycharm": {
     "name": "#%%\n"
    }
   }
  },
  {
   "cell_type": "code",
   "execution_count": 5,
   "outputs": [
    {
     "ename": "KeyError",
     "evalue": "'elevation_gain'",
     "output_type": "error",
     "traceback": [
      "\u001B[1;31m---------------------------------------------------------------------------\u001B[0m",
      "\u001B[1;31mKeyError\u001B[0m                                  Traceback (most recent call last)",
      "\u001B[1;32m~\\PycharmProjects\\velodrome-backend\\venv\\lib\\site-packages\\pandas\\core\\indexes\\base.py\u001B[0m in \u001B[0;36mget_loc\u001B[1;34m(self, key, method, tolerance)\u001B[0m\n\u001B[0;32m   3079\u001B[0m             \u001B[1;32mtry\u001B[0m\u001B[1;33m:\u001B[0m\u001B[1;33m\u001B[0m\u001B[1;33m\u001B[0m\u001B[0m\n\u001B[1;32m-> 3080\u001B[1;33m                 \u001B[1;32mreturn\u001B[0m \u001B[0mself\u001B[0m\u001B[1;33m.\u001B[0m\u001B[0m_engine\u001B[0m\u001B[1;33m.\u001B[0m\u001B[0mget_loc\u001B[0m\u001B[1;33m(\u001B[0m\u001B[0mcasted_key\u001B[0m\u001B[1;33m)\u001B[0m\u001B[1;33m\u001B[0m\u001B[1;33m\u001B[0m\u001B[0m\n\u001B[0m\u001B[0;32m   3081\u001B[0m             \u001B[1;32mexcept\u001B[0m \u001B[0mKeyError\u001B[0m \u001B[1;32mas\u001B[0m \u001B[0merr\u001B[0m\u001B[1;33m:\u001B[0m\u001B[1;33m\u001B[0m\u001B[1;33m\u001B[0m\u001B[0m\n",
      "\u001B[1;32mpandas\\_libs\\index.pyx\u001B[0m in \u001B[0;36mpandas._libs.index.IndexEngine.get_loc\u001B[1;34m()\u001B[0m\n",
      "\u001B[1;32mpandas\\_libs\\index.pyx\u001B[0m in \u001B[0;36mpandas._libs.index.IndexEngine.get_loc\u001B[1;34m()\u001B[0m\n",
      "\u001B[1;32mpandas\\_libs\\hashtable_class_helper.pxi\u001B[0m in \u001B[0;36mpandas._libs.hashtable.PyObjectHashTable.get_item\u001B[1;34m()\u001B[0m\n",
      "\u001B[1;32mpandas\\_libs\\hashtable_class_helper.pxi\u001B[0m in \u001B[0;36mpandas._libs.hashtable.PyObjectHashTable.get_item\u001B[1;34m()\u001B[0m\n",
      "\u001B[1;31mKeyError\u001B[0m: 'elevation_gain'",
      "\nThe above exception was the direct cause of the following exception:\n",
      "\u001B[1;31mKeyError\u001B[0m                                  Traceback (most recent call last)",
      "\u001B[1;32m~\\AppData\\Local\\Temp/ipykernel_6344/1446253426.py\u001B[0m in \u001B[0;36m<module>\u001B[1;34m\u001B[0m\n\u001B[1;32m----> 1\u001B[1;33m \u001B[0mtp_id_df\u001B[0m\u001B[1;33m[\u001B[0m\u001B[1;34m'elevation_gain'\u001B[0m\u001B[1;33m]\u001B[0m\u001B[1;33m.\u001B[0m\u001B[0mmax\u001B[0m\u001B[1;33m(\u001B[0m\u001B[1;33m)\u001B[0m\u001B[1;33m\u001B[0m\u001B[1;33m\u001B[0m\u001B[0m\n\u001B[0m",
      "\u001B[1;32m~\\PycharmProjects\\velodrome-backend\\venv\\lib\\site-packages\\pandas\\core\\frame.py\u001B[0m in \u001B[0;36m__getitem__\u001B[1;34m(self, key)\u001B[0m\n\u001B[0;32m   3022\u001B[0m             \u001B[1;32mif\u001B[0m \u001B[0mself\u001B[0m\u001B[1;33m.\u001B[0m\u001B[0mcolumns\u001B[0m\u001B[1;33m.\u001B[0m\u001B[0mnlevels\u001B[0m \u001B[1;33m>\u001B[0m \u001B[1;36m1\u001B[0m\u001B[1;33m:\u001B[0m\u001B[1;33m\u001B[0m\u001B[1;33m\u001B[0m\u001B[0m\n\u001B[0;32m   3023\u001B[0m                 \u001B[1;32mreturn\u001B[0m \u001B[0mself\u001B[0m\u001B[1;33m.\u001B[0m\u001B[0m_getitem_multilevel\u001B[0m\u001B[1;33m(\u001B[0m\u001B[0mkey\u001B[0m\u001B[1;33m)\u001B[0m\u001B[1;33m\u001B[0m\u001B[1;33m\u001B[0m\u001B[0m\n\u001B[1;32m-> 3024\u001B[1;33m             \u001B[0mindexer\u001B[0m \u001B[1;33m=\u001B[0m \u001B[0mself\u001B[0m\u001B[1;33m.\u001B[0m\u001B[0mcolumns\u001B[0m\u001B[1;33m.\u001B[0m\u001B[0mget_loc\u001B[0m\u001B[1;33m(\u001B[0m\u001B[0mkey\u001B[0m\u001B[1;33m)\u001B[0m\u001B[1;33m\u001B[0m\u001B[1;33m\u001B[0m\u001B[0m\n\u001B[0m\u001B[0;32m   3025\u001B[0m             \u001B[1;32mif\u001B[0m \u001B[0mis_integer\u001B[0m\u001B[1;33m(\u001B[0m\u001B[0mindexer\u001B[0m\u001B[1;33m)\u001B[0m\u001B[1;33m:\u001B[0m\u001B[1;33m\u001B[0m\u001B[1;33m\u001B[0m\u001B[0m\n\u001B[0;32m   3026\u001B[0m                 \u001B[0mindexer\u001B[0m \u001B[1;33m=\u001B[0m \u001B[1;33m[\u001B[0m\u001B[0mindexer\u001B[0m\u001B[1;33m]\u001B[0m\u001B[1;33m\u001B[0m\u001B[1;33m\u001B[0m\u001B[0m\n",
      "\u001B[1;32m~\\PycharmProjects\\velodrome-backend\\venv\\lib\\site-packages\\pandas\\core\\indexes\\base.py\u001B[0m in \u001B[0;36mget_loc\u001B[1;34m(self, key, method, tolerance)\u001B[0m\n\u001B[0;32m   3080\u001B[0m                 \u001B[1;32mreturn\u001B[0m \u001B[0mself\u001B[0m\u001B[1;33m.\u001B[0m\u001B[0m_engine\u001B[0m\u001B[1;33m.\u001B[0m\u001B[0mget_loc\u001B[0m\u001B[1;33m(\u001B[0m\u001B[0mcasted_key\u001B[0m\u001B[1;33m)\u001B[0m\u001B[1;33m\u001B[0m\u001B[1;33m\u001B[0m\u001B[0m\n\u001B[0;32m   3081\u001B[0m             \u001B[1;32mexcept\u001B[0m \u001B[0mKeyError\u001B[0m \u001B[1;32mas\u001B[0m \u001B[0merr\u001B[0m\u001B[1;33m:\u001B[0m\u001B[1;33m\u001B[0m\u001B[1;33m\u001B[0m\u001B[0m\n\u001B[1;32m-> 3082\u001B[1;33m                 \u001B[1;32mraise\u001B[0m \u001B[0mKeyError\u001B[0m\u001B[1;33m(\u001B[0m\u001B[0mkey\u001B[0m\u001B[1;33m)\u001B[0m \u001B[1;32mfrom\u001B[0m \u001B[0merr\u001B[0m\u001B[1;33m\u001B[0m\u001B[1;33m\u001B[0m\u001B[0m\n\u001B[0m\u001B[0;32m   3083\u001B[0m \u001B[1;33m\u001B[0m\u001B[0m\n\u001B[0;32m   3084\u001B[0m         \u001B[1;32mif\u001B[0m \u001B[0mtolerance\u001B[0m \u001B[1;32mis\u001B[0m \u001B[1;32mnot\u001B[0m \u001B[1;32mNone\u001B[0m\u001B[1;33m:\u001B[0m\u001B[1;33m\u001B[0m\u001B[1;33m\u001B[0m\u001B[0m\n",
      "\u001B[1;31mKeyError\u001B[0m: 'elevation_gain'"
     ]
    }
   ],
   "source": [],
   "metadata": {
    "collapsed": false,
    "pycharm": {
     "name": "#%%\n"
    }
   }
  },
  {
   "cell_type": "code",
   "execution_count": 20,
   "outputs": [
    {
     "data": {
      "text/plain": "      team_id  season  team_gen_id          team_name team_class  \\\n0           1    2021        92328  AG2R Citroën Team         WT   \n1           2    2008        92328   AG2R La Mondiale         PT   \n2           3    2001        92328    AG2R Prévoyance        TT2   \n3           4    2000        92328    AG2R Prevoyance        TT1   \n4           5    1998        92328      Casino - AG2R        TT1   \n...       ...     ...          ...                ...        ...   \n5660     5661    2021        75847  Dauner D&DQ-Akkon         CT   \n5661     5662    2020        75847  Dauner D&DQ-Akkon         CT   \n5662     5663    2019        75847  Dauner D&DQ-Akkon         CT   \n5663     5664    2018        75847  Dauner D&DQ-Akkon         CT   \n5664     5665    2017        75847  Dauner D&DQ-Akkon         CT   \n\n                                               pcs_link  \n0     https://www.procyclingstats.com/team/ag2r-citr...  \n1     https://www.procyclingstats.com/team/ag2r-citr...  \n2     https://www.procyclingstats.com/team/ag2r-citr...  \n3     https://www.procyclingstats.com/team/ag2r-citr...  \n4     https://www.procyclingstats.com/team/ag2r-citr...  \n...                                                 ...  \n5660  https://www.procyclingstats.com/team/team-daun...  \n5661  https://www.procyclingstats.com/team/team-daun...  \n5662  https://www.procyclingstats.com/team/team-daun...  \n5663  https://www.procyclingstats.com/team/team-daun...  \n5664  https://www.procyclingstats.com/team/team-daun...  \n\n[5665 rows x 6 columns]",
      "text/html": "<div>\n<style scoped>\n    .dataframe tbody tr th:only-of-type {\n        vertical-align: middle;\n    }\n\n    .dataframe tbody tr th {\n        vertical-align: top;\n    }\n\n    .dataframe thead th {\n        text-align: right;\n    }\n</style>\n<table border=\"1\" class=\"dataframe\">\n  <thead>\n    <tr style=\"text-align: right;\">\n      <th></th>\n      <th>team_id</th>\n      <th>season</th>\n      <th>team_gen_id</th>\n      <th>team_name</th>\n      <th>team_class</th>\n      <th>pcs_link</th>\n    </tr>\n  </thead>\n  <tbody>\n    <tr>\n      <th>0</th>\n      <td>1</td>\n      <td>2021</td>\n      <td>92328</td>\n      <td>AG2R Citroën Team</td>\n      <td>WT</td>\n      <td>https://www.procyclingstats.com/team/ag2r-citr...</td>\n    </tr>\n    <tr>\n      <th>1</th>\n      <td>2</td>\n      <td>2008</td>\n      <td>92328</td>\n      <td>AG2R La Mondiale</td>\n      <td>PT</td>\n      <td>https://www.procyclingstats.com/team/ag2r-citr...</td>\n    </tr>\n    <tr>\n      <th>2</th>\n      <td>3</td>\n      <td>2001</td>\n      <td>92328</td>\n      <td>AG2R Prévoyance</td>\n      <td>TT2</td>\n      <td>https://www.procyclingstats.com/team/ag2r-citr...</td>\n    </tr>\n    <tr>\n      <th>3</th>\n      <td>4</td>\n      <td>2000</td>\n      <td>92328</td>\n      <td>AG2R Prevoyance</td>\n      <td>TT1</td>\n      <td>https://www.procyclingstats.com/team/ag2r-citr...</td>\n    </tr>\n    <tr>\n      <th>4</th>\n      <td>5</td>\n      <td>1998</td>\n      <td>92328</td>\n      <td>Casino - AG2R</td>\n      <td>TT1</td>\n      <td>https://www.procyclingstats.com/team/ag2r-citr...</td>\n    </tr>\n    <tr>\n      <th>...</th>\n      <td>...</td>\n      <td>...</td>\n      <td>...</td>\n      <td>...</td>\n      <td>...</td>\n      <td>...</td>\n    </tr>\n    <tr>\n      <th>5660</th>\n      <td>5661</td>\n      <td>2021</td>\n      <td>75847</td>\n      <td>Dauner D&amp;DQ-Akkon</td>\n      <td>CT</td>\n      <td>https://www.procyclingstats.com/team/team-daun...</td>\n    </tr>\n    <tr>\n      <th>5661</th>\n      <td>5662</td>\n      <td>2020</td>\n      <td>75847</td>\n      <td>Dauner D&amp;DQ-Akkon</td>\n      <td>CT</td>\n      <td>https://www.procyclingstats.com/team/team-daun...</td>\n    </tr>\n    <tr>\n      <th>5662</th>\n      <td>5663</td>\n      <td>2019</td>\n      <td>75847</td>\n      <td>Dauner D&amp;DQ-Akkon</td>\n      <td>CT</td>\n      <td>https://www.procyclingstats.com/team/team-daun...</td>\n    </tr>\n    <tr>\n      <th>5663</th>\n      <td>5664</td>\n      <td>2018</td>\n      <td>75847</td>\n      <td>Dauner D&amp;DQ-Akkon</td>\n      <td>CT</td>\n      <td>https://www.procyclingstats.com/team/team-daun...</td>\n    </tr>\n    <tr>\n      <th>5664</th>\n      <td>5665</td>\n      <td>2017</td>\n      <td>75847</td>\n      <td>Dauner D&amp;DQ-Akkon</td>\n      <td>CT</td>\n      <td>https://www.procyclingstats.com/team/team-daun...</td>\n    </tr>\n  </tbody>\n</table>\n<p>5665 rows × 6 columns</p>\n</div>"
     },
     "execution_count": 20,
     "metadata": {},
     "output_type": "execute_result"
    }
   ],
   "source": [
    "import pandas as pd\n",
    "import mechanicalsoup\n",
    "\n",
    "teams_df = pd.read_csv('./data/teams.csv')\n",
    "teams_df"
   ],
   "metadata": {
    "collapsed": false,
    "pycharm": {
     "name": "#%%\n"
    }
   }
  },
  {
   "cell_type": "code",
   "execution_count": 21,
   "outputs": [
    {
     "data": {
      "text/plain": "Empty DataFrame\nColumns: [team_id, season, team_gen_id, team_name, team_class, pcs_link]\nIndex: []",
      "text/html": "<div>\n<style scoped>\n    .dataframe tbody tr th:only-of-type {\n        vertical-align: middle;\n    }\n\n    .dataframe tbody tr th {\n        vertical-align: top;\n    }\n\n    .dataframe thead th {\n        text-align: right;\n    }\n</style>\n<table border=\"1\" class=\"dataframe\">\n  <thead>\n    <tr style=\"text-align: right;\">\n      <th></th>\n      <th>team_id</th>\n      <th>season</th>\n      <th>team_gen_id</th>\n      <th>team_name</th>\n      <th>team_class</th>\n      <th>pcs_link</th>\n    </tr>\n  </thead>\n  <tbody>\n  </tbody>\n</table>\n</div>"
     },
     "execution_count": 21,
     "metadata": {},
     "output_type": "execute_result"
    }
   ],
   "source": [
    "teams_df.groupby('team_gen_id').filter(lambda x: len(x['pcs_link'].unique()) > 1)"
   ],
   "metadata": {
    "collapsed": false,
    "pycharm": {
     "name": "#%%\n"
    }
   }
  },
  {
   "cell_type": "code",
   "execution_count": 22,
   "outputs": [],
   "source": [
    "PCS_BASE_URL = \"https://www.procyclingstats.com/\"\n",
    "browser = mechanicalsoup.Browser()\n",
    "teams_df['new_pcs_link'] = None\n",
    "teams_id_mapping = {}\n",
    "for link, team in teams_df.groupby('pcs_link'):\n",
    "    team_gen_id = team['team_gen_id'].iloc[0]\n",
    "    team_page = browser.get(link)\n",
    "    team_by_years = team_page.soup.find_all(\"option\")\n",
    "    try:\n",
    "        team_url_min_year = PCS_BASE_URL + team_by_years[0].attrs['value'].split(\"/overview/\")[0]\n",
    "    except:\n",
    "        continue\n",
    "    if team_url_min_year in teams_id_mapping:\n",
    "        teams_id_mapping[team_url_min_year].append(team_gen_id)\n",
    "    else:\n",
    "        teams_id_mapping[team_url_min_year] = [team_gen_id]\n",
    "    idx_s, idx_e = team.index[0], team.index[-1]\n",
    "    for i, row in team.iterrows():\n",
    "        teams_df.at[i, 'new_pcs_link'] = team_url_min_year"
   ],
   "metadata": {
    "collapsed": false,
    "pycharm": {
     "name": "#%%\n"
    }
   }
  },
  {
   "cell_type": "code",
   "execution_count": 24,
   "outputs": [],
   "source": [
    "teams_df.to_csv('./data/teams_after_renew.csv', index=False, header=True)"
   ],
   "metadata": {
    "collapsed": false,
    "pycharm": {
     "name": "#%%\n"
    }
   }
  },
  {
   "cell_type": "code",
   "execution_count": 28,
   "outputs": [],
   "source": [
    "teams_id_mapping = {k: [str(e) for e in v] for k, v in teams_id_mapping.items()}"
   ],
   "metadata": {
    "collapsed": false,
    "pycharm": {
     "name": "#%%\n"
    }
   }
  },
  {
   "cell_type": "code",
   "execution_count": 29,
   "outputs": [],
   "source": [
    "import json\n",
    "\n",
    "with open('./data/teams_id_mapping.json', 'w+') as f:\n",
    "    f.write(json.dumps(teams_id_mapping))\n"
   ],
   "metadata": {
    "collapsed": false,
    "pycharm": {
     "name": "#%%\n"
    }
   }
  },
  {
   "cell_type": "code",
   "execution_count": 48,
   "outputs": [],
   "source": [
    "\n",
    "teams_df = pd.read_csv('./data/teams_after_renew.csv')"
   ],
   "metadata": {
    "collapsed": false,
    "pycharm": {
     "name": "#%%\n"
    }
   }
  },
  {
   "cell_type": "code",
   "execution_count": 53,
   "outputs": [],
   "source": [
    "\n",
    "for i, row in teams_df.iterrows():\n",
    "    if str(row['new_pcs_link']) != 'nan':\n",
    "        teams_df.at[i, 'new_pcs_link'] = row['new_pcs_link'].replace('/overview/', '')"
   ],
   "metadata": {
    "collapsed": false,
    "pycharm": {
     "name": "#%%\n"
    }
   }
  },
  {
   "cell_type": "code",
   "execution_count": 56,
   "outputs": [],
   "source": [
    "\n",
    "teams_df.to_csv('./data/teams_after_renew.csv', index=False, header=True)"
   ],
   "metadata": {
    "collapsed": false,
    "pycharm": {
     "name": "#%%\n"
    }
   }
  },
  {
   "cell_type": "code",
   "execution_count": 35,
   "outputs": [],
   "source": [
    "riders_url_maor = pd.read_csv('./data/cyclists_strava_urls.csv')\n",
    "for i, r in riders_url_maor.iterrows():\n",
    "    if str(r['strava_link']) != 'nan':\n",
    "        if 'strava.com' not in str(r['strava_link']):\n",
    "            print(r['pcs_link'])\n",
    "        if len(str(r['strava_link'])) > 100:\n",
    "            print(r['pcs_link'])\n"
   ],
   "metadata": {
    "collapsed": false,
    "pycharm": {
     "name": "#%%\n"
    }
   }
  },
  {
   "cell_type": "code",
   "execution_count": 37,
   "outputs": [
    {
     "data": {
      "text/plain": "       cyclist_id                                           pcs_link  \\\n0            1092  https://www.procyclingstats.com/rider/clement-...   \n1               2   https://www.procyclingstats.com/rider/aaron-gate   \n2               4  https://www.procyclingstats.com/rider/aaron-va...   \n3               5  https://www.procyclingstats.com/rider/aaron-ve...   \n4              18  https://www.procyclingstats.com/rider/adam-blythe   \n...           ...                                                ...   \n18815       18790  https://www.procyclingstats.com/rider/ayumu-wa...   \n18956       18931  https://www.procyclingstats.com/rider/sam-gademan   \n18957       18932  https://www.procyclingstats.com/rider/robin-lowik   \n18966       18941  https://www.procyclingstats.com/rider/galymzha...   \n18973       18948  https://www.procyclingstats.com/rider/maxim-dz...   \n\n                                    strava_link   strava_id  \n0       https://www.strava.com/athletes/7186660   7186660.0  \n1        https://www.strava.com/athletes/450531    450531.0  \n2           https://www.strava.com/pros/7967844   7967844.0  \n3          https://www.strava.com/pros/13084830  13084830.0  \n4           https://www.strava.com/pros/1636003   1636003.0  \n...                                         ...         ...  \n18815  https://www.strava.com/athletes/23512928  23512928.0  \n18956   https://www.strava.com/athletes/8789220   8789220.0  \n18957   https://www.strava.com/athletes/1315812   1315812.0  \n18966  https://www.strava.com/athletes/21776434  21776434.0  \n18973   https://www.strava.com/athletes/1404533   1404533.0  \n\n[1748 rows x 4 columns]",
      "text/html": "<div>\n<style scoped>\n    .dataframe tbody tr th:only-of-type {\n        vertical-align: middle;\n    }\n\n    .dataframe tbody tr th {\n        vertical-align: top;\n    }\n\n    .dataframe thead th {\n        text-align: right;\n    }\n</style>\n<table border=\"1\" class=\"dataframe\">\n  <thead>\n    <tr style=\"text-align: right;\">\n      <th></th>\n      <th>cyclist_id</th>\n      <th>pcs_link</th>\n      <th>strava_link</th>\n      <th>strava_id</th>\n    </tr>\n  </thead>\n  <tbody>\n    <tr>\n      <th>0</th>\n      <td>1092</td>\n      <td>https://www.procyclingstats.com/rider/clement-...</td>\n      <td>https://www.strava.com/athletes/7186660</td>\n      <td>7186660.0</td>\n    </tr>\n    <tr>\n      <th>1</th>\n      <td>2</td>\n      <td>https://www.procyclingstats.com/rider/aaron-gate</td>\n      <td>https://www.strava.com/athletes/450531</td>\n      <td>450531.0</td>\n    </tr>\n    <tr>\n      <th>2</th>\n      <td>4</td>\n      <td>https://www.procyclingstats.com/rider/aaron-va...</td>\n      <td>https://www.strava.com/pros/7967844</td>\n      <td>7967844.0</td>\n    </tr>\n    <tr>\n      <th>3</th>\n      <td>5</td>\n      <td>https://www.procyclingstats.com/rider/aaron-ve...</td>\n      <td>https://www.strava.com/pros/13084830</td>\n      <td>13084830.0</td>\n    </tr>\n    <tr>\n      <th>4</th>\n      <td>18</td>\n      <td>https://www.procyclingstats.com/rider/adam-blythe</td>\n      <td>https://www.strava.com/pros/1636003</td>\n      <td>1636003.0</td>\n    </tr>\n    <tr>\n      <th>...</th>\n      <td>...</td>\n      <td>...</td>\n      <td>...</td>\n      <td>...</td>\n    </tr>\n    <tr>\n      <th>18815</th>\n      <td>18790</td>\n      <td>https://www.procyclingstats.com/rider/ayumu-wa...</td>\n      <td>https://www.strava.com/athletes/23512928</td>\n      <td>23512928.0</td>\n    </tr>\n    <tr>\n      <th>18956</th>\n      <td>18931</td>\n      <td>https://www.procyclingstats.com/rider/sam-gademan</td>\n      <td>https://www.strava.com/athletes/8789220</td>\n      <td>8789220.0</td>\n    </tr>\n    <tr>\n      <th>18957</th>\n      <td>18932</td>\n      <td>https://www.procyclingstats.com/rider/robin-lowik</td>\n      <td>https://www.strava.com/athletes/1315812</td>\n      <td>1315812.0</td>\n    </tr>\n    <tr>\n      <th>18966</th>\n      <td>18941</td>\n      <td>https://www.procyclingstats.com/rider/galymzha...</td>\n      <td>https://www.strava.com/athletes/21776434</td>\n      <td>21776434.0</td>\n    </tr>\n    <tr>\n      <th>18973</th>\n      <td>18948</td>\n      <td>https://www.procyclingstats.com/rider/maxim-dz...</td>\n      <td>https://www.strava.com/athletes/1404533</td>\n      <td>1404533.0</td>\n    </tr>\n  </tbody>\n</table>\n<p>1748 rows × 4 columns</p>\n</div>"
     },
     "execution_count": 37,
     "metadata": {},
     "output_type": "execute_result"
    }
   ],
   "source": [
    "riders_url_maor = pd.read_csv('./data/cyclists_strava_urls.csv')\n",
    "riders_url_maor = riders_url_maor.loc[~riders_url_maor['strava_link'].isna()]\n",
    "riders_url_maor"
   ],
   "metadata": {
    "collapsed": false,
    "pycharm": {
     "name": "#%%\n"
    }
   }
  },
  {
   "cell_type": "code",
   "execution_count": 38,
   "outputs": [],
   "source": [
    "\n",
    "# riders_url_maor.to_csv('./data/all_cyclists_strava_urls.csv',index=False,header=True)"
   ],
   "metadata": {
    "collapsed": false,
    "pycharm": {
     "name": "#%%\n"
    }
   }
  },
  {
   "cell_type": "code",
   "execution_count": 4,
   "outputs": [
    {
     "data": {
      "text/plain": "      team_id  season  team_gen_id                      team_name team_class  \\\n0           1    1983        20014  Beckers Snacks - Bicky Burger        NaN   \n1           2    1983        28770        TI-Raleigh - Campagnolo        NaN   \n2           3    1982        28770        TI Raleigh - Campagnolo        NaN   \n3           5    1980        28770             TI Raleigh - Creda        NaN   \n4           7    1978        28770                   TI - Raleigh        NaN   \n...       ...     ...          ...                            ...        ...   \n4367     7806    1959        63723                          Tigra        NaN   \n4368     7807    1957        70322                          Tigra        NaN   \n4369     7808    1956        28368                          Tigra        NaN   \n4370     7809    1960        70469                  WBR - Sinalco        NaN   \n4371     7810    1960        47140             Eroba - Vredestein        NaN   \n\n                                   team_oldest_pcs_link  \\\n0     https://www.procyclingstats.com/team/beckers-s...   \n1     https://www.procyclingstats.com/team/ti-raleig...   \n2     https://www.procyclingstats.com/team/ti-raleig...   \n3     https://www.procyclingstats.com/team/ti-raleig...   \n4     https://www.procyclingstats.com/team/ti-raleig...   \n...                                                 ...   \n4367    https://www.procyclingstats.com/team/tigra-1959   \n4368    https://www.procyclingstats.com/team/tigra-1957   \n4369    https://www.procyclingstats.com/team/tigra-1956   \n4370  https://www.procyclingstats.com/team/wbr-sinal...   \n4371  https://www.procyclingstats.com/team/eroba-vre...   \n\n                                               pcs_link  \n0     https://www.procyclingstats.com/team/beckers-s...  \n1     https://www.procyclingstats.com/team/ti-raleig...  \n2     https://www.procyclingstats.com/team/ti-raleig...  \n3     https://www.procyclingstats.com/team/ti-raleig...  \n4     https://www.procyclingstats.com/team/ti-raleig...  \n...                                                 ...  \n4367  https://www.procyclingstats.com/team/tigra-195...  \n4368  https://www.procyclingstats.com/team/tigra-195...  \n4369  https://www.procyclingstats.com/team/tigra-195...  \n4370  https://www.procyclingstats.com/team/wbr-sinal...  \n4371  https://www.procyclingstats.com/team/eroba-vre...  \n\n[4372 rows x 7 columns]",
      "text/html": "<div>\n<style scoped>\n    .dataframe tbody tr th:only-of-type {\n        vertical-align: middle;\n    }\n\n    .dataframe tbody tr th {\n        vertical-align: top;\n    }\n\n    .dataframe thead th {\n        text-align: right;\n    }\n</style>\n<table border=\"1\" class=\"dataframe\">\n  <thead>\n    <tr style=\"text-align: right;\">\n      <th></th>\n      <th>team_id</th>\n      <th>season</th>\n      <th>team_gen_id</th>\n      <th>team_name</th>\n      <th>team_class</th>\n      <th>team_oldest_pcs_link</th>\n      <th>pcs_link</th>\n    </tr>\n  </thead>\n  <tbody>\n    <tr>\n      <th>0</th>\n      <td>1</td>\n      <td>1983</td>\n      <td>20014</td>\n      <td>Beckers Snacks - Bicky Burger</td>\n      <td>NaN</td>\n      <td>https://www.procyclingstats.com/team/beckers-s...</td>\n      <td>https://www.procyclingstats.com/team/beckers-s...</td>\n    </tr>\n    <tr>\n      <th>1</th>\n      <td>2</td>\n      <td>1983</td>\n      <td>28770</td>\n      <td>TI-Raleigh - Campagnolo</td>\n      <td>NaN</td>\n      <td>https://www.procyclingstats.com/team/ti-raleig...</td>\n      <td>https://www.procyclingstats.com/team/ti-raleig...</td>\n    </tr>\n    <tr>\n      <th>2</th>\n      <td>3</td>\n      <td>1982</td>\n      <td>28770</td>\n      <td>TI Raleigh - Campagnolo</td>\n      <td>NaN</td>\n      <td>https://www.procyclingstats.com/team/ti-raleig...</td>\n      <td>https://www.procyclingstats.com/team/ti-raleig...</td>\n    </tr>\n    <tr>\n      <th>3</th>\n      <td>5</td>\n      <td>1980</td>\n      <td>28770</td>\n      <td>TI Raleigh - Creda</td>\n      <td>NaN</td>\n      <td>https://www.procyclingstats.com/team/ti-raleig...</td>\n      <td>https://www.procyclingstats.com/team/ti-raleig...</td>\n    </tr>\n    <tr>\n      <th>4</th>\n      <td>7</td>\n      <td>1978</td>\n      <td>28770</td>\n      <td>TI - Raleigh</td>\n      <td>NaN</td>\n      <td>https://www.procyclingstats.com/team/ti-raleig...</td>\n      <td>https://www.procyclingstats.com/team/ti-raleig...</td>\n    </tr>\n    <tr>\n      <th>...</th>\n      <td>...</td>\n      <td>...</td>\n      <td>...</td>\n      <td>...</td>\n      <td>...</td>\n      <td>...</td>\n      <td>...</td>\n    </tr>\n    <tr>\n      <th>4367</th>\n      <td>7806</td>\n      <td>1959</td>\n      <td>63723</td>\n      <td>Tigra</td>\n      <td>NaN</td>\n      <td>https://www.procyclingstats.com/team/tigra-1959</td>\n      <td>https://www.procyclingstats.com/team/tigra-195...</td>\n    </tr>\n    <tr>\n      <th>4368</th>\n      <td>7807</td>\n      <td>1957</td>\n      <td>70322</td>\n      <td>Tigra</td>\n      <td>NaN</td>\n      <td>https://www.procyclingstats.com/team/tigra-1957</td>\n      <td>https://www.procyclingstats.com/team/tigra-195...</td>\n    </tr>\n    <tr>\n      <th>4369</th>\n      <td>7808</td>\n      <td>1956</td>\n      <td>28368</td>\n      <td>Tigra</td>\n      <td>NaN</td>\n      <td>https://www.procyclingstats.com/team/tigra-1956</td>\n      <td>https://www.procyclingstats.com/team/tigra-195...</td>\n    </tr>\n    <tr>\n      <th>4370</th>\n      <td>7809</td>\n      <td>1960</td>\n      <td>70469</td>\n      <td>WBR - Sinalco</td>\n      <td>NaN</td>\n      <td>https://www.procyclingstats.com/team/wbr-sinal...</td>\n      <td>https://www.procyclingstats.com/team/wbr-sinal...</td>\n    </tr>\n    <tr>\n      <th>4371</th>\n      <td>7810</td>\n      <td>1960</td>\n      <td>47140</td>\n      <td>Eroba - Vredestein</td>\n      <td>NaN</td>\n      <td>https://www.procyclingstats.com/team/eroba-vre...</td>\n      <td>https://www.procyclingstats.com/team/eroba-vre...</td>\n    </tr>\n  </tbody>\n</table>\n<p>4372 rows × 7 columns</p>\n</div>"
     },
     "execution_count": 4,
     "metadata": {},
     "output_type": "execute_result"
    }
   ],
   "source": [
    "from utils import *\n",
    "\n",
    "teams_df = get_df('teams')\n",
    "teams_df"
   ],
   "metadata": {
    "collapsed": false,
    "pycharm": {
     "name": "#%%\n"
    }
   }
  },
  {
   "cell_type": "code",
   "execution_count": 5,
   "outputs": [],
   "source": [
    "teams_df['team_pcs_id'] = None"
   ],
   "metadata": {
    "collapsed": false,
    "pycharm": {
     "name": "#%%\n"
    }
   }
  },
  {
   "cell_type": "code",
   "execution_count": 6,
   "outputs": [],
   "source": [
    "from consts import *\n",
    "\n",
    "teams_df.to_csv(CSV_PATHS['teams'], index=False, header=True)\n"
   ],
   "metadata": {
    "collapsed": false,
    "pycharm": {
     "name": "#%%\n"
    }
   }
  },
  {
   "cell_type": "code",
   "execution_count": 14,
   "outputs": [
    {
     "data": {
      "text/plain": "      stage_id  race_id                                race_name   race_date  \\\n0            1        1                New Zealand Cycle Classic  2022-01-05   \n1            2        1                New Zealand Cycle Classic  2022-01-05   \n2            3        1                New Zealand Cycle Classic  2022-01-05   \n3            4        1                New Zealand Cycle Classic  2022-01-05   \n4            5        1                New Zealand Cycle Classic  2022-01-05   \n...        ...      ...                                      ...         ...   \n6312      6313     2569  Vuelta Independencia Nacional Rep. Dom.  2019-02-25   \n6313      6314     2569  Vuelta Independencia Nacional Rep. Dom.  2019-02-25   \n6314      6315     2569  Vuelta Independencia Nacional Rep. Dom.  2019-02-25   \n6315      6316     2569  Vuelta Independencia Nacional Rep. Dom.  2019-02-25   \n6316      6317     2569  Vuelta Independencia Nacional Rep. Dom.  2019-02-25   \n\n      stage_date     stage_name  stage_number       stage_type classification  \\\n0     2022-01-05  Stage 1 (TTT)           1.0  Team Time Trial            2.2   \n1     2022-01-06        Stage 2           2.0            Stage            2.2   \n2     2022-01-07        Stage 3           3.0            Stage            2.2   \n3     2022-01-08        Stage 4           4.0            Stage            2.2   \n4     2022-01-09        Stage 5           5.0            Stage            2.2   \n...          ...            ...           ...              ...            ...   \n6312  2019-02-28        Stage 4           4.0            Stage            2.2   \n6313  2019-03-01        Stage 5           5.0            Stage            2.2   \n6314  2019-03-02        Stage 6           6.0            Stage            2.2   \n6315  2019-03-03        Stage 7           7.0            Stage            2.2   \n6316  2019-03-03       Final GC           8.0         Final GC            2.2   \n\n     nation  ... temp_avg temp_max temp_min _1000_to_1500_m  _1500_to_2000_m  \\\n0        nz  ...      NaN      NaN      NaN             NaN              NaN   \n1        nz  ...      NaN      NaN      NaN             NaN              NaN   \n2        nz  ...      NaN      NaN      NaN             NaN              NaN   \n3        nz  ...      NaN      NaN      NaN             NaN              NaN   \n4        nz  ...      NaN      NaN      NaN             NaN              NaN   \n...     ...  ...      ...      ...      ...             ...              ...   \n6312     do  ...      NaN      NaN      NaN             NaN              NaN   \n6313     do  ...      NaN      NaN      NaN             NaN              NaN   \n6314     do  ...      NaN      NaN      NaN             NaN              NaN   \n6315     do  ...      NaN      NaN      NaN             NaN              NaN   \n6316     do  ...      NaN      NaN      NaN             NaN              NaN   \n\n      _2000_to_2500_m  _2500_to_3000_m _3000_to_3500_m race_total_distance  \\\n0                 NaN              NaN             NaN                 NaN   \n1                 NaN              NaN             NaN                 NaN   \n2                 NaN              NaN             NaN                 NaN   \n3                 NaN              NaN             NaN                 NaN   \n4                 NaN              NaN             NaN                 NaN   \n...               ...              ...             ...                 ...   \n6312              NaN              NaN             NaN                 NaN   \n6313              NaN              NaN             NaN                 NaN   \n6314              NaN              NaN             NaN                 NaN   \n6315              NaN              NaN             NaN                 NaN   \n6316              NaN              NaN             NaN                 NaN   \n\n     race_total_elevation_gain  \n0                          NaN  \n1                          NaN  \n2                          NaN  \n3                          NaN  \n4                          NaN  \n...                        ...  \n6312                       NaN  \n6313                       NaN  \n6314                       NaN  \n6315                       NaN  \n6316                       NaN  \n\n[6317 rows x 36 columns]",
      "text/html": "<div>\n<style scoped>\n    .dataframe tbody tr th:only-of-type {\n        vertical-align: middle;\n    }\n\n    .dataframe tbody tr th {\n        vertical-align: top;\n    }\n\n    .dataframe thead th {\n        text-align: right;\n    }\n</style>\n<table border=\"1\" class=\"dataframe\">\n  <thead>\n    <tr style=\"text-align: right;\">\n      <th></th>\n      <th>stage_id</th>\n      <th>race_id</th>\n      <th>race_name</th>\n      <th>race_date</th>\n      <th>stage_date</th>\n      <th>stage_name</th>\n      <th>stage_number</th>\n      <th>stage_type</th>\n      <th>classification</th>\n      <th>nation</th>\n      <th>...</th>\n      <th>temp_avg</th>\n      <th>temp_max</th>\n      <th>temp_min</th>\n      <th>_1000_to_1500_m</th>\n      <th>_1500_to_2000_m</th>\n      <th>_2000_to_2500_m</th>\n      <th>_2500_to_3000_m</th>\n      <th>_3000_to_3500_m</th>\n      <th>race_total_distance</th>\n      <th>race_total_elevation_gain</th>\n    </tr>\n  </thead>\n  <tbody>\n    <tr>\n      <th>0</th>\n      <td>1</td>\n      <td>1</td>\n      <td>New Zealand Cycle Classic</td>\n      <td>2022-01-05</td>\n      <td>2022-01-05</td>\n      <td>Stage 1 (TTT)</td>\n      <td>1.0</td>\n      <td>Team Time Trial</td>\n      <td>2.2</td>\n      <td>nz</td>\n      <td>...</td>\n      <td>NaN</td>\n      <td>NaN</td>\n      <td>NaN</td>\n      <td>NaN</td>\n      <td>NaN</td>\n      <td>NaN</td>\n      <td>NaN</td>\n      <td>NaN</td>\n      <td>NaN</td>\n      <td>NaN</td>\n    </tr>\n    <tr>\n      <th>1</th>\n      <td>2</td>\n      <td>1</td>\n      <td>New Zealand Cycle Classic</td>\n      <td>2022-01-05</td>\n      <td>2022-01-06</td>\n      <td>Stage 2</td>\n      <td>2.0</td>\n      <td>Stage</td>\n      <td>2.2</td>\n      <td>nz</td>\n      <td>...</td>\n      <td>NaN</td>\n      <td>NaN</td>\n      <td>NaN</td>\n      <td>NaN</td>\n      <td>NaN</td>\n      <td>NaN</td>\n      <td>NaN</td>\n      <td>NaN</td>\n      <td>NaN</td>\n      <td>NaN</td>\n    </tr>\n    <tr>\n      <th>2</th>\n      <td>3</td>\n      <td>1</td>\n      <td>New Zealand Cycle Classic</td>\n      <td>2022-01-05</td>\n      <td>2022-01-07</td>\n      <td>Stage 3</td>\n      <td>3.0</td>\n      <td>Stage</td>\n      <td>2.2</td>\n      <td>nz</td>\n      <td>...</td>\n      <td>NaN</td>\n      <td>NaN</td>\n      <td>NaN</td>\n      <td>NaN</td>\n      <td>NaN</td>\n      <td>NaN</td>\n      <td>NaN</td>\n      <td>NaN</td>\n      <td>NaN</td>\n      <td>NaN</td>\n    </tr>\n    <tr>\n      <th>3</th>\n      <td>4</td>\n      <td>1</td>\n      <td>New Zealand Cycle Classic</td>\n      <td>2022-01-05</td>\n      <td>2022-01-08</td>\n      <td>Stage 4</td>\n      <td>4.0</td>\n      <td>Stage</td>\n      <td>2.2</td>\n      <td>nz</td>\n      <td>...</td>\n      <td>NaN</td>\n      <td>NaN</td>\n      <td>NaN</td>\n      <td>NaN</td>\n      <td>NaN</td>\n      <td>NaN</td>\n      <td>NaN</td>\n      <td>NaN</td>\n      <td>NaN</td>\n      <td>NaN</td>\n    </tr>\n    <tr>\n      <th>4</th>\n      <td>5</td>\n      <td>1</td>\n      <td>New Zealand Cycle Classic</td>\n      <td>2022-01-05</td>\n      <td>2022-01-09</td>\n      <td>Stage 5</td>\n      <td>5.0</td>\n      <td>Stage</td>\n      <td>2.2</td>\n      <td>nz</td>\n      <td>...</td>\n      <td>NaN</td>\n      <td>NaN</td>\n      <td>NaN</td>\n      <td>NaN</td>\n      <td>NaN</td>\n      <td>NaN</td>\n      <td>NaN</td>\n      <td>NaN</td>\n      <td>NaN</td>\n      <td>NaN</td>\n    </tr>\n    <tr>\n      <th>...</th>\n      <td>...</td>\n      <td>...</td>\n      <td>...</td>\n      <td>...</td>\n      <td>...</td>\n      <td>...</td>\n      <td>...</td>\n      <td>...</td>\n      <td>...</td>\n      <td>...</td>\n      <td>...</td>\n      <td>...</td>\n      <td>...</td>\n      <td>...</td>\n      <td>...</td>\n      <td>...</td>\n      <td>...</td>\n      <td>...</td>\n      <td>...</td>\n      <td>...</td>\n      <td>...</td>\n    </tr>\n    <tr>\n      <th>6312</th>\n      <td>6313</td>\n      <td>2569</td>\n      <td>Vuelta Independencia Nacional Rep. Dom.</td>\n      <td>2019-02-25</td>\n      <td>2019-02-28</td>\n      <td>Stage 4</td>\n      <td>4.0</td>\n      <td>Stage</td>\n      <td>2.2</td>\n      <td>do</td>\n      <td>...</td>\n      <td>NaN</td>\n      <td>NaN</td>\n      <td>NaN</td>\n      <td>NaN</td>\n      <td>NaN</td>\n      <td>NaN</td>\n      <td>NaN</td>\n      <td>NaN</td>\n      <td>NaN</td>\n      <td>NaN</td>\n    </tr>\n    <tr>\n      <th>6313</th>\n      <td>6314</td>\n      <td>2569</td>\n      <td>Vuelta Independencia Nacional Rep. Dom.</td>\n      <td>2019-02-25</td>\n      <td>2019-03-01</td>\n      <td>Stage 5</td>\n      <td>5.0</td>\n      <td>Stage</td>\n      <td>2.2</td>\n      <td>do</td>\n      <td>...</td>\n      <td>NaN</td>\n      <td>NaN</td>\n      <td>NaN</td>\n      <td>NaN</td>\n      <td>NaN</td>\n      <td>NaN</td>\n      <td>NaN</td>\n      <td>NaN</td>\n      <td>NaN</td>\n      <td>NaN</td>\n    </tr>\n    <tr>\n      <th>6314</th>\n      <td>6315</td>\n      <td>2569</td>\n      <td>Vuelta Independencia Nacional Rep. Dom.</td>\n      <td>2019-02-25</td>\n      <td>2019-03-02</td>\n      <td>Stage 6</td>\n      <td>6.0</td>\n      <td>Stage</td>\n      <td>2.2</td>\n      <td>do</td>\n      <td>...</td>\n      <td>NaN</td>\n      <td>NaN</td>\n      <td>NaN</td>\n      <td>NaN</td>\n      <td>NaN</td>\n      <td>NaN</td>\n      <td>NaN</td>\n      <td>NaN</td>\n      <td>NaN</td>\n      <td>NaN</td>\n    </tr>\n    <tr>\n      <th>6315</th>\n      <td>6316</td>\n      <td>2569</td>\n      <td>Vuelta Independencia Nacional Rep. Dom.</td>\n      <td>2019-02-25</td>\n      <td>2019-03-03</td>\n      <td>Stage 7</td>\n      <td>7.0</td>\n      <td>Stage</td>\n      <td>2.2</td>\n      <td>do</td>\n      <td>...</td>\n      <td>NaN</td>\n      <td>NaN</td>\n      <td>NaN</td>\n      <td>NaN</td>\n      <td>NaN</td>\n      <td>NaN</td>\n      <td>NaN</td>\n      <td>NaN</td>\n      <td>NaN</td>\n      <td>NaN</td>\n    </tr>\n    <tr>\n      <th>6316</th>\n      <td>6317</td>\n      <td>2569</td>\n      <td>Vuelta Independencia Nacional Rep. Dom.</td>\n      <td>2019-02-25</td>\n      <td>2019-03-03</td>\n      <td>Final GC</td>\n      <td>8.0</td>\n      <td>Final GC</td>\n      <td>2.2</td>\n      <td>do</td>\n      <td>...</td>\n      <td>NaN</td>\n      <td>NaN</td>\n      <td>NaN</td>\n      <td>NaN</td>\n      <td>NaN</td>\n      <td>NaN</td>\n      <td>NaN</td>\n      <td>NaN</td>\n      <td>NaN</td>\n      <td>NaN</td>\n    </tr>\n  </tbody>\n</table>\n<p>6317 rows × 36 columns</p>\n</div>"
     },
     "execution_count": 14,
     "metadata": {},
     "output_type": "execute_result"
    }
   ],
   "source": [
    "\n",
    "from utils import *\n",
    "\n",
    "stages_df = get_df('stages')\n",
    "stages_df"
   ],
   "metadata": {
    "collapsed": false,
    "pycharm": {
     "name": "#%%\n"
    }
   }
  },
  {
   "cell_type": "code",
   "execution_count": 2,
   "outputs": [
    {
     "data": {
      "text/plain": "dtype('O')"
     },
     "execution_count": 2,
     "metadata": {},
     "output_type": "execute_result"
    }
   ],
   "source": [
    "race_dates = pd.to_datetime(stages_df['race_date'])"
   ],
   "metadata": {
    "collapsed": false,
    "pycharm": {
     "name": "#%%\n"
    }
   }
  },
  {
   "cell_type": "code",
   "execution_count": 12,
   "outputs": [],
   "source": [
    "recent_stages = stages_df[race_dates > datetime(year=2007, day=1, month=1)]\n"
   ],
   "metadata": {
    "collapsed": false,
    "pycharm": {
     "name": "#%%\n"
    }
   }
  },
  {
   "cell_type": "code",
   "execution_count": 13,
   "outputs": [
    {
     "data": {
      "text/plain": "array(['2.2', '1.2', '1.1', '2.Pro', '2.1', '2.UWT', '1.WWT', '1.UWT',\n       '2.Ncup', '2.HC', 'WT', 'PT', '2.PT', 'CDM', '1.HC', nan, '1.2U',\n       '1.Pro'], dtype=object)"
     },
     "execution_count": 13,
     "metadata": {},
     "output_type": "execute_result"
    }
   ],
   "source": [
    "recent_stages['classification'].unique()"
   ],
   "metadata": {
    "collapsed": false,
    "pycharm": {
     "name": "#%%\n"
    }
   }
  },
  {
   "cell_type": "code",
   "execution_count": 20,
   "outputs": [],
   "source": [
    "stages_df = stages_df.drop(stages_df[stages_df['stage_type'] == 'Final GC'].index)\n",
    "\n",
    "stages_df[stages_df['stage_type'] != 'Final GC']"
   ],
   "metadata": {
    "collapsed": false,
    "pycharm": {
     "name": "#%%\n"
    }
   }
  },
  {
   "cell_type": "code",
   "execution_count": 13,
   "outputs": [],
   "source": [
    "stages_df.to_csv(CSV_PATHS['stages'], index=False, header=True)"
   ],
   "metadata": {
    "collapsed": false,
    "pycharm": {
     "name": "#%%\n"
    }
   }
  },
  {
   "cell_type": "code",
   "execution_count": 67,
   "outputs": [],
   "source": [
    "from utils import *\n",
    "\n",
    "cyclists_df = get_df('cyclists', index_col='cyclist_id')\n",
    "teams_df = get_df('teams', 'team_id')\n",
    "cyclists_teams_df = get_df('cyclists_teams')\n",
    "stages_df = get_df('stages', 'stage_id')"
   ],
   "metadata": {
    "collapsed": false,
    "pycharm": {
     "name": "#%%\n"
    }
   }
  },
  {
   "cell_type": "code",
   "execution_count": 55,
   "outputs": [],
   "source": [
    "team_name = 'Team Jumbo-Visma'\n",
    "cyclist_name = 'VAN AERT Wout'\n",
    "team_pcs_id = 1330\n",
    "cyclist_id = cyclists_df[cyclists_df['cyclist_name_pcs'] == cyclist_name].index[0]\n",
    "stage_id = stages_df[stages_df['stage_link'] == 'https://www.procyclingstats.com/race/dauphine/2020/stage-1'].index[0]\n",
    "stage_date = datetime.strptime(stages_df.loc[stage_id]['race_date'], '%Y-%m-%d')\n",
    "year = stage_date.year\n",
    "cyclist_team = cyclists_teams_df.loc[\n",
    "    (cyclists_teams_df['cyclist_id'] == cyclist_id) & (cyclists_teams_df['season'] == year)]\n",
    "if cyclist_team.empty:\n",
    "    raise ValueError()\n",
    "if len(cyclist_team) > 1:\n",
    "    cyclist_team = cyclist_team.loc[(pd.to_datetime(cyclist_team['start_date']) <= stage_date) & (\n",
    "                pd.to_datetime(cyclist_team['stop_date']) >= stage_date)]\n",
    "cyclist_team = cyclist_team.iloc[0]\n",
    "team_id = cyclist_team['team_id']\n",
    "team = teams_df.loc[team_id]\n",
    "if team_name != team['team_name']:\n",
    "    raise ValueError()\n",
    "if str(team['team_pcs_id']) == 'nan':\n",
    "    team_gen_id = team['team_gen_id']\n",
    "    teams_df.at[team_id, 'team_pcs_id'] = team_pcs_id\n",
    "    teams_df.to_csv(CSV_PATHS['teams'], index=False, header=True)"
   ],
   "metadata": {
    "collapsed": false,
    "pycharm": {
     "name": "#%%\n"
    }
   }
  },
  {
   "cell_type": "code",
   "execution_count": 62,
   "outputs": [
    {
     "data": {
      "text/plain": "         season  team_gen_id                      team_name team_class  \\\nteam_id                                                                  \n188        2019        64403               Team Jumbo-Visma         WT   \n192        2015        64403             Team LottoNL-Jumbo         WT   \n194        2013        64403        Belkin-Pro Cycling Team         WT   \n195        2013        64403        Blanco Pro Cycling Team         WT   \n197        2011        64403          Rabobank Cycling Team         WT   \n199        2009        64403               Rabobank ProTeam         WT   \n203        2005        64403               Rabobank ProTeam         PT   \n212        1996        64403               Rabobank ProTeam        TT1   \n213        1995        64403        Novell Software - Decca        TT1   \n215        1993        64403  Wordperfect - Colnago - Decca        TT1   \n218        1990        64403      Buckler - Colnago - Decca        TT1   \n\n                                      team_oldest_pcs_link  \\\nteam_id                                                      \n188      https://www.procyclingstats.com/team/buckler-c...   \n192      https://www.procyclingstats.com/team/buckler-c...   \n194      https://www.procyclingstats.com/team/buckler-c...   \n195      https://www.procyclingstats.com/team/buckler-c...   \n197      https://www.procyclingstats.com/team/buckler-c...   \n199      https://www.procyclingstats.com/team/buckler-c...   \n203      https://www.procyclingstats.com/team/buckler-c...   \n212      https://www.procyclingstats.com/team/buckler-c...   \n213      https://www.procyclingstats.com/team/buckler-c...   \n215      https://www.procyclingstats.com/team/buckler-c...   \n218      https://www.procyclingstats.com/team/buckler-c...   \n\n                                                  pcs_link  team_pcs_id  \nteam_id                                                                  \n188      https://www.procyclingstats.com/team/team-jumb...       1330.0  \n192      https://www.procyclingstats.com/team/team-lott...          NaN  \n194      https://www.procyclingstats.com/team/belkin-pr...          NaN  \n195      https://www.procyclingstats.com/team/blanco-pr...          NaN  \n197      https://www.procyclingstats.com/team/rabobank-...          NaN  \n199      https://www.procyclingstats.com/team/rabobank-...          NaN  \n203      https://www.procyclingstats.com/team/rabobank-...          NaN  \n212      https://www.procyclingstats.com/team/rabobank-...          NaN  \n213      https://www.procyclingstats.com/team/novell-so...          NaN  \n215      https://www.procyclingstats.com/team/wordperfe...          NaN  \n218      https://www.procyclingstats.com/team/buckler-c...          NaN  ",
      "text/html": "<div>\n<style scoped>\n    .dataframe tbody tr th:only-of-type {\n        vertical-align: middle;\n    }\n\n    .dataframe tbody tr th {\n        vertical-align: top;\n    }\n\n    .dataframe thead th {\n        text-align: right;\n    }\n</style>\n<table border=\"1\" class=\"dataframe\">\n  <thead>\n    <tr style=\"text-align: right;\">\n      <th></th>\n      <th>season</th>\n      <th>team_gen_id</th>\n      <th>team_name</th>\n      <th>team_class</th>\n      <th>team_oldest_pcs_link</th>\n      <th>pcs_link</th>\n      <th>team_pcs_id</th>\n    </tr>\n    <tr>\n      <th>team_id</th>\n      <th></th>\n      <th></th>\n      <th></th>\n      <th></th>\n      <th></th>\n      <th></th>\n      <th></th>\n    </tr>\n  </thead>\n  <tbody>\n    <tr>\n      <th>188</th>\n      <td>2019</td>\n      <td>64403</td>\n      <td>Team Jumbo-Visma</td>\n      <td>WT</td>\n      <td>https://www.procyclingstats.com/team/buckler-c...</td>\n      <td>https://www.procyclingstats.com/team/team-jumb...</td>\n      <td>1330.0</td>\n    </tr>\n    <tr>\n      <th>192</th>\n      <td>2015</td>\n      <td>64403</td>\n      <td>Team LottoNL-Jumbo</td>\n      <td>WT</td>\n      <td>https://www.procyclingstats.com/team/buckler-c...</td>\n      <td>https://www.procyclingstats.com/team/team-lott...</td>\n      <td>NaN</td>\n    </tr>\n    <tr>\n      <th>194</th>\n      <td>2013</td>\n      <td>64403</td>\n      <td>Belkin-Pro Cycling Team</td>\n      <td>WT</td>\n      <td>https://www.procyclingstats.com/team/buckler-c...</td>\n      <td>https://www.procyclingstats.com/team/belkin-pr...</td>\n      <td>NaN</td>\n    </tr>\n    <tr>\n      <th>195</th>\n      <td>2013</td>\n      <td>64403</td>\n      <td>Blanco Pro Cycling Team</td>\n      <td>WT</td>\n      <td>https://www.procyclingstats.com/team/buckler-c...</td>\n      <td>https://www.procyclingstats.com/team/blanco-pr...</td>\n      <td>NaN</td>\n    </tr>\n    <tr>\n      <th>197</th>\n      <td>2011</td>\n      <td>64403</td>\n      <td>Rabobank Cycling Team</td>\n      <td>WT</td>\n      <td>https://www.procyclingstats.com/team/buckler-c...</td>\n      <td>https://www.procyclingstats.com/team/rabobank-...</td>\n      <td>NaN</td>\n    </tr>\n    <tr>\n      <th>199</th>\n      <td>2009</td>\n      <td>64403</td>\n      <td>Rabobank ProTeam</td>\n      <td>WT</td>\n      <td>https://www.procyclingstats.com/team/buckler-c...</td>\n      <td>https://www.procyclingstats.com/team/rabobank-...</td>\n      <td>NaN</td>\n    </tr>\n    <tr>\n      <th>203</th>\n      <td>2005</td>\n      <td>64403</td>\n      <td>Rabobank ProTeam</td>\n      <td>PT</td>\n      <td>https://www.procyclingstats.com/team/buckler-c...</td>\n      <td>https://www.procyclingstats.com/team/rabobank-...</td>\n      <td>NaN</td>\n    </tr>\n    <tr>\n      <th>212</th>\n      <td>1996</td>\n      <td>64403</td>\n      <td>Rabobank ProTeam</td>\n      <td>TT1</td>\n      <td>https://www.procyclingstats.com/team/buckler-c...</td>\n      <td>https://www.procyclingstats.com/team/rabobank-...</td>\n      <td>NaN</td>\n    </tr>\n    <tr>\n      <th>213</th>\n      <td>1995</td>\n      <td>64403</td>\n      <td>Novell Software - Decca</td>\n      <td>TT1</td>\n      <td>https://www.procyclingstats.com/team/buckler-c...</td>\n      <td>https://www.procyclingstats.com/team/novell-so...</td>\n      <td>NaN</td>\n    </tr>\n    <tr>\n      <th>215</th>\n      <td>1993</td>\n      <td>64403</td>\n      <td>Wordperfect - Colnago - Decca</td>\n      <td>TT1</td>\n      <td>https://www.procyclingstats.com/team/buckler-c...</td>\n      <td>https://www.procyclingstats.com/team/wordperfe...</td>\n      <td>NaN</td>\n    </tr>\n    <tr>\n      <th>218</th>\n      <td>1990</td>\n      <td>64403</td>\n      <td>Buckler - Colnago - Decca</td>\n      <td>TT1</td>\n      <td>https://www.procyclingstats.com/team/buckler-c...</td>\n      <td>https://www.procyclingstats.com/team/buckler-c...</td>\n      <td>NaN</td>\n    </tr>\n  </tbody>\n</table>\n</div>"
     },
     "execution_count": 62,
     "metadata": {},
     "output_type": "execute_result"
    }
   ],
   "source": [
    "teams_df.loc[teams_df['team_gen_id'] == team['team_gen_id']]\n"
   ],
   "metadata": {
    "collapsed": false,
    "pycharm": {
     "name": "#%%\n"
    }
   }
  },
  {
   "cell_type": "code",
   "execution_count": 40,
   "outputs": [],
   "source": [],
   "metadata": {
    "collapsed": false,
    "pycharm": {
     "name": "#%%\n"
    }
   }
  },
  {
   "cell_type": "code",
   "execution_count": 66,
   "outputs": [],
   "source": [
    "pd.DataFrame().to_csv(f'./data/test.csv', mode='a', index=False, header=False)\n"
   ],
   "metadata": {
    "collapsed": false,
    "pycharm": {
     "name": "#%%\n"
    }
   }
  },
  {
   "cell_type": "code",
   "execution_count": 71,
   "outputs": [
    {
     "data": {
      "text/plain": "918"
     },
     "execution_count": 71,
     "metadata": {},
     "output_type": "execute_result"
    }
   ],
   "source": [
    "\n",
    "len(stages_df[stages_df['stage_type'].isin(TIME_TRIAL_TYPES)]['race_id'].unique())"
   ],
   "metadata": {
    "collapsed": false,
    "pycharm": {
     "name": "#%%\n"
    }
   }
  },
  {
   "cell_type": "code",
   "execution_count": 72,
   "outputs": [
    {
     "data": {
      "text/plain": "['One day race',\n 'Stage',\n 'Prologue',\n 'Time trial',\n 'Team Time Trial',\n 'Individual Time Trial']"
     },
     "execution_count": 72,
     "metadata": {},
     "output_type": "execute_result"
    }
   ],
   "source": [],
   "metadata": {
    "collapsed": false,
    "pycharm": {
     "name": "#%%\n"
    }
   }
  },
  {
   "cell_type": "code",
   "execution_count": 73,
   "outputs": [],
   "source": [
    "teams_df = get_df('teams')\n",
    "teams_df['team_pcs_id'] = None\n",
    "# teams_df.to_csv(CSV_PATHS['teams'], index=False, header=True)"
   ],
   "metadata": {
    "collapsed": false,
    "pycharm": {
     "name": "#%%\n"
    }
   }
  },
  {
   "cell_type": "code",
   "execution_count": 98,
   "outputs": [],
   "source": [
    "from datetime import timedelta\n",
    "\n",
    "\n",
    "def get_timedelta_from_string(time_gap):\n",
    "    gap_splits = time_gap.split(':')\n",
    "    if len(gap_splits) == 2:\n",
    "        gap = timedelta(minutes=int(gap_splits[-2]), seconds=int(gap_splits[-1]))\n",
    "    else:\n",
    "        gap = timedelta(hours=int(gap_splits[-3]), minutes=int(gap_splits[-2]), seconds=int(gap_splits[-1]))\n",
    "    return gap\n",
    "\n",
    "\n",
    "def get_finish_time(winner_finish_time, time_gap):\n",
    "    get_gap_timedelta = get_timedelta_from_string(time_gap)\n",
    "    finish_time_timedelta = get_timedelta_from_string(winner_finish_time)\n",
    "    total_finish_time = finish_time_timedelta + get_gap_timedelta\n",
    "    hours, remainder = divmod(total_finish_time.seconds, 3600)\n",
    "    minutes, seconds = divmod(remainder, 60)\n",
    "    if total_finish_time.days > 0:\n",
    "        hours += total_finish_time.days * 24\n",
    "    return f\"{str(hours).zfill(2)}:{str(minutes).zfill(2)}:{str(seconds).zfill(2)}\"\n"
   ],
   "metadata": {
    "collapsed": false,
    "pycharm": {
     "name": "#%%\n"
    }
   }
  },
  {
   "cell_type": "code",
   "execution_count": 101,
   "outputs": [
    {
     "data": {
      "text/plain": "'31:02:01'"
     },
     "execution_count": 101,
     "metadata": {},
     "output_type": "execute_result"
    }
   ],
   "source": [
    "get_finish_time('15:48:14', '15:13:47')"
   ],
   "metadata": {
    "collapsed": false,
    "pycharm": {
     "name": "#%%\n"
    }
   }
  },
  {
   "cell_type": "code",
   "execution_count": 2,
   "outputs": [
    {
     "ename": "UnicodeDecodeError",
     "evalue": "'utf-8' codec can't decode bytes in position 4589-4590: invalid continuation byte",
     "output_type": "error",
     "traceback": [
      "\u001B[1;31m---------------------------------------------------------------------------\u001B[0m",
      "\u001B[1;31mUnicodeDecodeError\u001B[0m                        Traceback (most recent call last)",
      "\u001B[1;32m~\\AppData\\Local\\Temp/ipykernel_5412/2894789465.py\u001B[0m in \u001B[0;36m<module>\u001B[1;34m\u001B[0m\n\u001B[0;32m      1\u001B[0m \u001B[1;32mfrom\u001B[0m \u001B[0mutils\u001B[0m \u001B[1;32mimport\u001B[0m \u001B[1;33m*\u001B[0m\u001B[1;33m\u001B[0m\u001B[1;33m\u001B[0m\u001B[0m\n\u001B[0;32m      2\u001B[0m \u001B[1;33m\u001B[0m\u001B[0m\n\u001B[1;32m----> 3\u001B[1;33m \u001B[0mstages_df\u001B[0m \u001B[1;33m=\u001B[0m \u001B[0mget_df\u001B[0m\u001B[1;33m(\u001B[0m\u001B[1;34m'stages'\u001B[0m\u001B[1;33m)\u001B[0m\u001B[1;33m\u001B[0m\u001B[1;33m\u001B[0m\u001B[0m\n\u001B[0m\u001B[0;32m      4\u001B[0m \u001B[0mset\u001B[0m\u001B[1;33m(\u001B[0m\u001B[0mstages_df\u001B[0m\u001B[1;33m[\u001B[0m\u001B[1;34m'classification'\u001B[0m\u001B[1;33m]\u001B[0m\u001B[1;33m)\u001B[0m \u001B[1;33m-\u001B[0m \u001B[0mset\u001B[0m\u001B[1;33m(\u001B[0m\u001B[0mRACES_CLASS_TO_IGNORE\u001B[0m\u001B[1;33m)\u001B[0m\u001B[1;33m\u001B[0m\u001B[1;33m\u001B[0m\u001B[0m\n\u001B[0;32m      5\u001B[0m \u001B[1;33m\u001B[0m\u001B[0m\n",
      "\u001B[1;32m~\\PycharmProjects\\PCS-web-scraper\\utils.py\u001B[0m in \u001B[0;36mget_df\u001B[1;34m(table_name, index_col)\u001B[0m\n\u001B[0;32m    100\u001B[0m \u001B[1;32mdef\u001B[0m \u001B[0mget_df\u001B[0m\u001B[1;33m(\u001B[0m\u001B[0mtable_name\u001B[0m\u001B[1;33m,\u001B[0m\u001B[0mindex_col\u001B[0m\u001B[1;33m=\u001B[0m\u001B[1;32mNone\u001B[0m\u001B[1;33m)\u001B[0m\u001B[1;33m:\u001B[0m\u001B[1;33m\u001B[0m\u001B[1;33m\u001B[0m\u001B[0m\n\u001B[0;32m    101\u001B[0m     \u001B[1;32mif\u001B[0m \u001B[0mos\u001B[0m\u001B[1;33m.\u001B[0m\u001B[0mpath\u001B[0m\u001B[1;33m.\u001B[0m\u001B[0mexists\u001B[0m\u001B[1;33m(\u001B[0m\u001B[0mCSV_PATHS\u001B[0m\u001B[1;33m[\u001B[0m\u001B[0mtable_name\u001B[0m\u001B[1;33m]\u001B[0m\u001B[1;33m)\u001B[0m\u001B[1;33m:\u001B[0m\u001B[1;33m\u001B[0m\u001B[1;33m\u001B[0m\u001B[0m\n\u001B[1;32m--> 102\u001B[1;33m         \u001B[1;32mreturn\u001B[0m \u001B[0mpd\u001B[0m\u001B[1;33m.\u001B[0m\u001B[0mread_csv\u001B[0m\u001B[1;33m(\u001B[0m\u001B[0mCSV_PATHS\u001B[0m\u001B[1;33m[\u001B[0m\u001B[0mtable_name\u001B[0m\u001B[1;33m]\u001B[0m\u001B[1;33m,\u001B[0m\u001B[0mindex_col\u001B[0m\u001B[1;33m=\u001B[0m\u001B[0mindex_col\u001B[0m\u001B[1;33m)\u001B[0m\u001B[1;33m\u001B[0m\u001B[1;33m\u001B[0m\u001B[0m\n\u001B[0m\u001B[0;32m    103\u001B[0m \u001B[1;33m\u001B[0m\u001B[0m\n",
      "\u001B[1;32m~\\PycharmProjects\\velodrome-backend\\venv\\lib\\site-packages\\pandas\\io\\parsers.py\u001B[0m in \u001B[0;36mread_csv\u001B[1;34m(filepath_or_buffer, sep, delimiter, header, names, index_col, usecols, squeeze, prefix, mangle_dupe_cols, dtype, engine, converters, true_values, false_values, skipinitialspace, skiprows, skipfooter, nrows, na_values, keep_default_na, na_filter, verbose, skip_blank_lines, parse_dates, infer_datetime_format, keep_date_col, date_parser, dayfirst, cache_dates, iterator, chunksize, compression, thousands, decimal, lineterminator, quotechar, quoting, doublequote, escapechar, comment, encoding, dialect, error_bad_lines, warn_bad_lines, delim_whitespace, low_memory, memory_map, float_precision, storage_options)\u001B[0m\n\u001B[0;32m    603\u001B[0m     \u001B[0mkwds\u001B[0m\u001B[1;33m.\u001B[0m\u001B[0mupdate\u001B[0m\u001B[1;33m(\u001B[0m\u001B[0mkwds_defaults\u001B[0m\u001B[1;33m)\u001B[0m\u001B[1;33m\u001B[0m\u001B[1;33m\u001B[0m\u001B[0m\n\u001B[0;32m    604\u001B[0m \u001B[1;33m\u001B[0m\u001B[0m\n\u001B[1;32m--> 605\u001B[1;33m     \u001B[1;32mreturn\u001B[0m \u001B[0m_read\u001B[0m\u001B[1;33m(\u001B[0m\u001B[0mfilepath_or_buffer\u001B[0m\u001B[1;33m,\u001B[0m \u001B[0mkwds\u001B[0m\u001B[1;33m)\u001B[0m\u001B[1;33m\u001B[0m\u001B[1;33m\u001B[0m\u001B[0m\n\u001B[0m\u001B[0;32m    606\u001B[0m \u001B[1;33m\u001B[0m\u001B[0m\n\u001B[0;32m    607\u001B[0m \u001B[1;33m\u001B[0m\u001B[0m\n",
      "\u001B[1;32m~\\PycharmProjects\\velodrome-backend\\venv\\lib\\site-packages\\pandas\\io\\parsers.py\u001B[0m in \u001B[0;36m_read\u001B[1;34m(filepath_or_buffer, kwds)\u001B[0m\n\u001B[0;32m    455\u001B[0m \u001B[1;33m\u001B[0m\u001B[0m\n\u001B[0;32m    456\u001B[0m     \u001B[1;31m# Create the parser.\u001B[0m\u001B[1;33m\u001B[0m\u001B[1;33m\u001B[0m\u001B[1;33m\u001B[0m\u001B[0m\n\u001B[1;32m--> 457\u001B[1;33m     \u001B[0mparser\u001B[0m \u001B[1;33m=\u001B[0m \u001B[0mTextFileReader\u001B[0m\u001B[1;33m(\u001B[0m\u001B[0mfilepath_or_buffer\u001B[0m\u001B[1;33m,\u001B[0m \u001B[1;33m**\u001B[0m\u001B[0mkwds\u001B[0m\u001B[1;33m)\u001B[0m\u001B[1;33m\u001B[0m\u001B[1;33m\u001B[0m\u001B[0m\n\u001B[0m\u001B[0;32m    458\u001B[0m \u001B[1;33m\u001B[0m\u001B[0m\n\u001B[0;32m    459\u001B[0m     \u001B[1;32mif\u001B[0m \u001B[0mchunksize\u001B[0m \u001B[1;32mor\u001B[0m \u001B[0miterator\u001B[0m\u001B[1;33m:\u001B[0m\u001B[1;33m\u001B[0m\u001B[1;33m\u001B[0m\u001B[0m\n",
      "\u001B[1;32m~\\PycharmProjects\\velodrome-backend\\venv\\lib\\site-packages\\pandas\\io\\parsers.py\u001B[0m in \u001B[0;36m__init__\u001B[1;34m(self, f, engine, **kwds)\u001B[0m\n\u001B[0;32m    812\u001B[0m             \u001B[0mself\u001B[0m\u001B[1;33m.\u001B[0m\u001B[0moptions\u001B[0m\u001B[1;33m[\u001B[0m\u001B[1;34m\"has_index_names\"\u001B[0m\u001B[1;33m]\u001B[0m \u001B[1;33m=\u001B[0m \u001B[0mkwds\u001B[0m\u001B[1;33m[\u001B[0m\u001B[1;34m\"has_index_names\"\u001B[0m\u001B[1;33m]\u001B[0m\u001B[1;33m\u001B[0m\u001B[1;33m\u001B[0m\u001B[0m\n\u001B[0;32m    813\u001B[0m \u001B[1;33m\u001B[0m\u001B[0m\n\u001B[1;32m--> 814\u001B[1;33m         \u001B[0mself\u001B[0m\u001B[1;33m.\u001B[0m\u001B[0m_engine\u001B[0m \u001B[1;33m=\u001B[0m \u001B[0mself\u001B[0m\u001B[1;33m.\u001B[0m\u001B[0m_make_engine\u001B[0m\u001B[1;33m(\u001B[0m\u001B[0mself\u001B[0m\u001B[1;33m.\u001B[0m\u001B[0mengine\u001B[0m\u001B[1;33m)\u001B[0m\u001B[1;33m\u001B[0m\u001B[1;33m\u001B[0m\u001B[0m\n\u001B[0m\u001B[0;32m    815\u001B[0m \u001B[1;33m\u001B[0m\u001B[0m\n\u001B[0;32m    816\u001B[0m     \u001B[1;32mdef\u001B[0m \u001B[0mclose\u001B[0m\u001B[1;33m(\u001B[0m\u001B[0mself\u001B[0m\u001B[1;33m)\u001B[0m\u001B[1;33m:\u001B[0m\u001B[1;33m\u001B[0m\u001B[1;33m\u001B[0m\u001B[0m\n",
      "\u001B[1;32m~\\PycharmProjects\\velodrome-backend\\venv\\lib\\site-packages\\pandas\\io\\parsers.py\u001B[0m in \u001B[0;36m_make_engine\u001B[1;34m(self, engine)\u001B[0m\n\u001B[0;32m   1043\u001B[0m             )\n\u001B[0;32m   1044\u001B[0m         \u001B[1;31m# error: Too many arguments for \"ParserBase\"\u001B[0m\u001B[1;33m\u001B[0m\u001B[1;33m\u001B[0m\u001B[1;33m\u001B[0m\u001B[0m\n\u001B[1;32m-> 1045\u001B[1;33m         \u001B[1;32mreturn\u001B[0m \u001B[0mmapping\u001B[0m\u001B[1;33m[\u001B[0m\u001B[0mengine\u001B[0m\u001B[1;33m]\u001B[0m\u001B[1;33m(\u001B[0m\u001B[0mself\u001B[0m\u001B[1;33m.\u001B[0m\u001B[0mf\u001B[0m\u001B[1;33m,\u001B[0m \u001B[1;33m**\u001B[0m\u001B[0mself\u001B[0m\u001B[1;33m.\u001B[0m\u001B[0moptions\u001B[0m\u001B[1;33m)\u001B[0m  \u001B[1;31m# type: ignore[call-arg]\u001B[0m\u001B[1;33m\u001B[0m\u001B[1;33m\u001B[0m\u001B[0m\n\u001B[0m\u001B[0;32m   1046\u001B[0m \u001B[1;33m\u001B[0m\u001B[0m\n\u001B[0;32m   1047\u001B[0m     \u001B[1;32mdef\u001B[0m \u001B[0m_failover_to_python\u001B[0m\u001B[1;33m(\u001B[0m\u001B[0mself\u001B[0m\u001B[1;33m)\u001B[0m\u001B[1;33m:\u001B[0m\u001B[1;33m\u001B[0m\u001B[1;33m\u001B[0m\u001B[0m\n",
      "\u001B[1;32m~\\PycharmProjects\\velodrome-backend\\venv\\lib\\site-packages\\pandas\\io\\parsers.py\u001B[0m in \u001B[0;36m__init__\u001B[1;34m(self, src, **kwds)\u001B[0m\n\u001B[0;32m   1891\u001B[0m \u001B[1;33m\u001B[0m\u001B[0m\n\u001B[0;32m   1892\u001B[0m         \u001B[1;32mtry\u001B[0m\u001B[1;33m:\u001B[0m\u001B[1;33m\u001B[0m\u001B[1;33m\u001B[0m\u001B[0m\n\u001B[1;32m-> 1893\u001B[1;33m             \u001B[0mself\u001B[0m\u001B[1;33m.\u001B[0m\u001B[0m_reader\u001B[0m \u001B[1;33m=\u001B[0m \u001B[0mparsers\u001B[0m\u001B[1;33m.\u001B[0m\u001B[0mTextReader\u001B[0m\u001B[1;33m(\u001B[0m\u001B[0mself\u001B[0m\u001B[1;33m.\u001B[0m\u001B[0mhandles\u001B[0m\u001B[1;33m.\u001B[0m\u001B[0mhandle\u001B[0m\u001B[1;33m,\u001B[0m \u001B[1;33m**\u001B[0m\u001B[0mkwds\u001B[0m\u001B[1;33m)\u001B[0m\u001B[1;33m\u001B[0m\u001B[1;33m\u001B[0m\u001B[0m\n\u001B[0m\u001B[0;32m   1894\u001B[0m         \u001B[1;32mexcept\u001B[0m \u001B[0mException\u001B[0m\u001B[1;33m:\u001B[0m\u001B[1;33m\u001B[0m\u001B[1;33m\u001B[0m\u001B[0m\n\u001B[0;32m   1895\u001B[0m             \u001B[0mself\u001B[0m\u001B[1;33m.\u001B[0m\u001B[0mhandles\u001B[0m\u001B[1;33m.\u001B[0m\u001B[0mclose\u001B[0m\u001B[1;33m(\u001B[0m\u001B[1;33m)\u001B[0m\u001B[1;33m\u001B[0m\u001B[1;33m\u001B[0m\u001B[0m\n",
      "\u001B[1;32mpandas\\_libs\\parsers.pyx\u001B[0m in \u001B[0;36mpandas._libs.parsers.TextReader.__cinit__\u001B[1;34m()\u001B[0m\n",
      "\u001B[1;32mpandas\\_libs\\parsers.pyx\u001B[0m in \u001B[0;36mpandas._libs.parsers.TextReader._get_header\u001B[1;34m()\u001B[0m\n",
      "\u001B[1;32mpandas\\_libs\\parsers.pyx\u001B[0m in \u001B[0;36mpandas._libs.parsers.TextReader._tokenize_rows\u001B[1;34m()\u001B[0m\n",
      "\u001B[1;32mpandas\\_libs\\parsers.pyx\u001B[0m in \u001B[0;36mpandas._libs.parsers.raise_parser_error\u001B[1;34m()\u001B[0m\n",
      "\u001B[1;31mUnicodeDecodeError\u001B[0m: 'utf-8' codec can't decode bytes in position 4589-4590: invalid continuation byte"
     ]
    }
   ],
   "source": [
    "from utils import *\n",
    "\n",
    "stages_df = get_df('stages')\n",
    "set(stages_df['classification']) - set(RACES_CLASS_TO_IGNORE)"
   ],
   "metadata": {
    "collapsed": false,
    "pycharm": {
     "name": "#%%\n"
    }
   }
  },
  {
   "cell_type": "code",
   "execution_count": 118,
   "outputs": [
    {
     "data": {
      "text/plain": "       stage_id  race_id                                          race_name  \\\n18           19        4                             Gravel and Tar Classic   \n19           20        5                            Gravel and Tar la Femme   \n20           21        6  Clàssica Comunitat Valenciana 1969 - Gran Prem...   \n21           22        7                Grand Prix Cycliste la Marseillaise   \n38           39       11                     Santos Women's Tour Down Under   \n...         ...      ...                                                ...   \n23494     23625    14819                              Binche-Tournai-Binche   \n23508     23639    14833                                           Bol d'Or   \n23510     23641    14835                            Gran Fondo, La Seicento   \n23517     23648    14842                          Piccolo Giro di Lombardia   \n23535     23666    14860                                           Bol d'Or   \n\n        race_date  stage_date    stage_name  stage_number    stage_type  \\\n18     2021-01-23  2021-01-23  One day race           NaN  One day race   \n19     2021-01-23  2021-01-23  One day race           NaN  One day race   \n20     2021-01-24  2021-01-24  One day race           NaN  One day race   \n21     2021-01-31  2021-01-31  One day race           NaN  One day race   \n38     2020-01-16  2020-01-16       Stage 1           1.0         Stage   \n...           ...         ...           ...           ...           ...   \n23494  1912-05-07  1912-05-07  One day race           NaN  One day race   \n23508  1912-09-01  1912-09-01  One day race           NaN  One day race   \n23510  1912-09-08  1912-09-08  One day race           NaN  One day race   \n23517  1912-10-06  1912-10-06  One day race           NaN  One day race   \n23535  1906-09-08  1906-09-08  One day race           NaN  One day race   \n\n      classification nation  ... temp_avg temp_max temp_min _1000_to_1500_m  \\\n18               1.2     nz  ...      NaN      NaN      NaN             NaN   \n19               1.2     nz  ...      NaN      NaN      NaN             NaN   \n20               1.2     es  ...      NaN      NaN      NaN             NaN   \n21               1.1     fr  ...      NaN      NaN      NaN             NaN   \n38             2.Pro     au  ...      NaN      NaN      NaN             NaN   \n...              ...    ...  ...      ...      ...      ...             ...   \n23494            1.1     be  ...      NaN      NaN      NaN             NaN   \n23508           1.HC     fr  ...      NaN      NaN      NaN             NaN   \n23510            1.1     it  ...      NaN      NaN      NaN             NaN   \n23517            1.2     it  ...      NaN      NaN      NaN             NaN   \n23535           1.HC     fr  ...      NaN      NaN      NaN             NaN   \n\n       _1500_to_2000_m  _2000_to_2500_m  _2500_to_3000_m _3000_to_3500_m  \\\n18                 NaN              NaN              NaN             NaN   \n19                 NaN              NaN              NaN             NaN   \n20                 NaN              NaN              NaN             NaN   \n21                 NaN              NaN              NaN             NaN   \n38                 NaN              NaN              NaN             NaN   \n...                ...              ...              ...             ...   \n23494              NaN              NaN              NaN             NaN   \n23508              NaN              NaN              NaN             NaN   \n23510              NaN              NaN              NaN             NaN   \n23517              NaN              NaN              NaN             NaN   \n23535              NaN              NaN              NaN             NaN   \n\n      race_total_distance race_total_elevation_gain  \n18                    NaN                       NaN  \n19                    NaN                       NaN  \n20                    NaN                       NaN  \n21                    NaN                       NaN  \n38                    NaN                       NaN  \n...                   ...                       ...  \n23494                 NaN                       NaN  \n23508                 NaN                       NaN  \n23510                 NaN                       NaN  \n23517                 NaN                       NaN  \n23535                 NaN                       NaN  \n\n[5055 rows x 36 columns]",
      "text/html": "<div>\n<style scoped>\n    .dataframe tbody tr th:only-of-type {\n        vertical-align: middle;\n    }\n\n    .dataframe tbody tr th {\n        vertical-align: top;\n    }\n\n    .dataframe thead th {\n        text-align: right;\n    }\n</style>\n<table border=\"1\" class=\"dataframe\">\n  <thead>\n    <tr style=\"text-align: right;\">\n      <th></th>\n      <th>stage_id</th>\n      <th>race_id</th>\n      <th>race_name</th>\n      <th>race_date</th>\n      <th>stage_date</th>\n      <th>stage_name</th>\n      <th>stage_number</th>\n      <th>stage_type</th>\n      <th>classification</th>\n      <th>nation</th>\n      <th>...</th>\n      <th>temp_avg</th>\n      <th>temp_max</th>\n      <th>temp_min</th>\n      <th>_1000_to_1500_m</th>\n      <th>_1500_to_2000_m</th>\n      <th>_2000_to_2500_m</th>\n      <th>_2500_to_3000_m</th>\n      <th>_3000_to_3500_m</th>\n      <th>race_total_distance</th>\n      <th>race_total_elevation_gain</th>\n    </tr>\n  </thead>\n  <tbody>\n    <tr>\n      <th>18</th>\n      <td>19</td>\n      <td>4</td>\n      <td>Gravel and Tar Classic</td>\n      <td>2021-01-23</td>\n      <td>2021-01-23</td>\n      <td>One day race</td>\n      <td>NaN</td>\n      <td>One day race</td>\n      <td>1.2</td>\n      <td>nz</td>\n      <td>...</td>\n      <td>NaN</td>\n      <td>NaN</td>\n      <td>NaN</td>\n      <td>NaN</td>\n      <td>NaN</td>\n      <td>NaN</td>\n      <td>NaN</td>\n      <td>NaN</td>\n      <td>NaN</td>\n      <td>NaN</td>\n    </tr>\n    <tr>\n      <th>19</th>\n      <td>20</td>\n      <td>5</td>\n      <td>Gravel and Tar la Femme</td>\n      <td>2021-01-23</td>\n      <td>2021-01-23</td>\n      <td>One day race</td>\n      <td>NaN</td>\n      <td>One day race</td>\n      <td>1.2</td>\n      <td>nz</td>\n      <td>...</td>\n      <td>NaN</td>\n      <td>NaN</td>\n      <td>NaN</td>\n      <td>NaN</td>\n      <td>NaN</td>\n      <td>NaN</td>\n      <td>NaN</td>\n      <td>NaN</td>\n      <td>NaN</td>\n      <td>NaN</td>\n    </tr>\n    <tr>\n      <th>20</th>\n      <td>21</td>\n      <td>6</td>\n      <td>Clàssica Comunitat Valenciana 1969 - Gran Prem...</td>\n      <td>2021-01-24</td>\n      <td>2021-01-24</td>\n      <td>One day race</td>\n      <td>NaN</td>\n      <td>One day race</td>\n      <td>1.2</td>\n      <td>es</td>\n      <td>...</td>\n      <td>NaN</td>\n      <td>NaN</td>\n      <td>NaN</td>\n      <td>NaN</td>\n      <td>NaN</td>\n      <td>NaN</td>\n      <td>NaN</td>\n      <td>NaN</td>\n      <td>NaN</td>\n      <td>NaN</td>\n    </tr>\n    <tr>\n      <th>21</th>\n      <td>22</td>\n      <td>7</td>\n      <td>Grand Prix Cycliste la Marseillaise</td>\n      <td>2021-01-31</td>\n      <td>2021-01-31</td>\n      <td>One day race</td>\n      <td>NaN</td>\n      <td>One day race</td>\n      <td>1.1</td>\n      <td>fr</td>\n      <td>...</td>\n      <td>NaN</td>\n      <td>NaN</td>\n      <td>NaN</td>\n      <td>NaN</td>\n      <td>NaN</td>\n      <td>NaN</td>\n      <td>NaN</td>\n      <td>NaN</td>\n      <td>NaN</td>\n      <td>NaN</td>\n    </tr>\n    <tr>\n      <th>38</th>\n      <td>39</td>\n      <td>11</td>\n      <td>Santos Women's Tour Down Under</td>\n      <td>2020-01-16</td>\n      <td>2020-01-16</td>\n      <td>Stage 1</td>\n      <td>1.0</td>\n      <td>Stage</td>\n      <td>2.Pro</td>\n      <td>au</td>\n      <td>...</td>\n      <td>NaN</td>\n      <td>NaN</td>\n      <td>NaN</td>\n      <td>NaN</td>\n      <td>NaN</td>\n      <td>NaN</td>\n      <td>NaN</td>\n      <td>NaN</td>\n      <td>NaN</td>\n      <td>NaN</td>\n    </tr>\n    <tr>\n      <th>...</th>\n      <td>...</td>\n      <td>...</td>\n      <td>...</td>\n      <td>...</td>\n      <td>...</td>\n      <td>...</td>\n      <td>...</td>\n      <td>...</td>\n      <td>...</td>\n      <td>...</td>\n      <td>...</td>\n      <td>...</td>\n      <td>...</td>\n      <td>...</td>\n      <td>...</td>\n      <td>...</td>\n      <td>...</td>\n      <td>...</td>\n      <td>...</td>\n      <td>...</td>\n      <td>...</td>\n    </tr>\n    <tr>\n      <th>23494</th>\n      <td>23625</td>\n      <td>14819</td>\n      <td>Binche-Tournai-Binche</td>\n      <td>1912-05-07</td>\n      <td>1912-05-07</td>\n      <td>One day race</td>\n      <td>NaN</td>\n      <td>One day race</td>\n      <td>1.1</td>\n      <td>be</td>\n      <td>...</td>\n      <td>NaN</td>\n      <td>NaN</td>\n      <td>NaN</td>\n      <td>NaN</td>\n      <td>NaN</td>\n      <td>NaN</td>\n      <td>NaN</td>\n      <td>NaN</td>\n      <td>NaN</td>\n      <td>NaN</td>\n    </tr>\n    <tr>\n      <th>23508</th>\n      <td>23639</td>\n      <td>14833</td>\n      <td>Bol d'Or</td>\n      <td>1912-09-01</td>\n      <td>1912-09-01</td>\n      <td>One day race</td>\n      <td>NaN</td>\n      <td>One day race</td>\n      <td>1.HC</td>\n      <td>fr</td>\n      <td>...</td>\n      <td>NaN</td>\n      <td>NaN</td>\n      <td>NaN</td>\n      <td>NaN</td>\n      <td>NaN</td>\n      <td>NaN</td>\n      <td>NaN</td>\n      <td>NaN</td>\n      <td>NaN</td>\n      <td>NaN</td>\n    </tr>\n    <tr>\n      <th>23510</th>\n      <td>23641</td>\n      <td>14835</td>\n      <td>Gran Fondo, La Seicento</td>\n      <td>1912-09-08</td>\n      <td>1912-09-08</td>\n      <td>One day race</td>\n      <td>NaN</td>\n      <td>One day race</td>\n      <td>1.1</td>\n      <td>it</td>\n      <td>...</td>\n      <td>NaN</td>\n      <td>NaN</td>\n      <td>NaN</td>\n      <td>NaN</td>\n      <td>NaN</td>\n      <td>NaN</td>\n      <td>NaN</td>\n      <td>NaN</td>\n      <td>NaN</td>\n      <td>NaN</td>\n    </tr>\n    <tr>\n      <th>23517</th>\n      <td>23648</td>\n      <td>14842</td>\n      <td>Piccolo Giro di Lombardia</td>\n      <td>1912-10-06</td>\n      <td>1912-10-06</td>\n      <td>One day race</td>\n      <td>NaN</td>\n      <td>One day race</td>\n      <td>1.2</td>\n      <td>it</td>\n      <td>...</td>\n      <td>NaN</td>\n      <td>NaN</td>\n      <td>NaN</td>\n      <td>NaN</td>\n      <td>NaN</td>\n      <td>NaN</td>\n      <td>NaN</td>\n      <td>NaN</td>\n      <td>NaN</td>\n      <td>NaN</td>\n    </tr>\n    <tr>\n      <th>23535</th>\n      <td>23666</td>\n      <td>14860</td>\n      <td>Bol d'Or</td>\n      <td>1906-09-08</td>\n      <td>1906-09-08</td>\n      <td>One day race</td>\n      <td>NaN</td>\n      <td>One day race</td>\n      <td>1.HC</td>\n      <td>fr</td>\n      <td>...</td>\n      <td>NaN</td>\n      <td>NaN</td>\n      <td>NaN</td>\n      <td>NaN</td>\n      <td>NaN</td>\n      <td>NaN</td>\n      <td>NaN</td>\n      <td>NaN</td>\n      <td>NaN</td>\n      <td>NaN</td>\n    </tr>\n  </tbody>\n</table>\n<p>5055 rows × 36 columns</p>\n</div>"
     },
     "execution_count": 118,
     "metadata": {},
     "output_type": "execute_result"
    }
   ],
   "source": [
    "from consts import *\n",
    "RACE_CLASSES_TO_INCLUDE = ['1.UWT', '2.UWT', '1.Pro', '2.Pro', '1.HC', '2.HC', '1.1', '1.2']\n",
    "\n",
    "stages_df[stages_df['classification'].apply(lambda a: str(a).lower()).isin([r.lower() for r in RACE_CLASSES_TO_INCLUDE])]"
   ],
   "metadata": {
    "collapsed": false,
    "pycharm": {
     "name": "#%%\n"
    }
   }
  },
  {
   "cell_type": "code",
   "execution_count": 123,
   "outputs": [
    {
     "data": {
      "text/plain": "<AxesSubplot:xlabel='classification', ylabel='Count'>"
     },
     "execution_count": 123,
     "metadata": {},
     "output_type": "execute_result"
    },
    {
     "data": {
      "text/plain": "<Figure size 432x288 with 1 Axes>",
      "image/png": "[encoded data removed]"
     },
     "metadata": {
      "needs_background": "light"
     },
     "output_type": "display_data"
    }
   ],
   "source": [
    "import seaborn as sns\n",
    "sns.histplot(data=stages_df, x=\"classification\")"
   ],
   "metadata": {
    "collapsed": false,
    "pycharm": {
     "name": "#%%\n"
    }
   }
  },
  {
   "cell_type": "code",
   "execution_count": 131,
   "outputs": [
    {
     "ename": "TypeError",
     "evalue": "no numeric data to plot",
     "output_type": "error",
     "traceback": [
      "\u001B[1;31m---------------------------------------------------------------------------\u001B[0m",
      "\u001B[1;31mTypeError\u001B[0m                                 Traceback (most recent call last)",
      "\u001B[1;32m~\\AppData\\Local\\Temp/ipykernel_14492/3606278595.py\u001B[0m in \u001B[0;36m<module>\u001B[1;34m\u001B[0m\n\u001B[1;32m----> 1\u001B[1;33m \u001B[0mstages_df\u001B[0m\u001B[1;33m[\u001B[0m\u001B[1;33m[\u001B[0m\u001B[1;34m'classification'\u001B[0m\u001B[1;33m]\u001B[0m\u001B[1;33m]\u001B[0m\u001B[1;33m.\u001B[0m\u001B[0mplot\u001B[0m\u001B[1;33m.\u001B[0m\u001B[0mhist\u001B[0m\u001B[1;33m(\u001B[0m\u001B[0mbins\u001B[0m\u001B[1;33m=\u001B[0m\u001B[1;36m12\u001B[0m\u001B[1;33m,\u001B[0m \u001B[0malpha\u001B[0m\u001B[1;33m=\u001B[0m\u001B[1;36m0.5\u001B[0m\u001B[1;33m)\u001B[0m\u001B[1;33m.\u001B[0m\u001B[0mshow\u001B[0m\u001B[1;33m(\u001B[0m\u001B[1;33m)\u001B[0m\u001B[1;33m\u001B[0m\u001B[1;33m\u001B[0m\u001B[0m\n\u001B[0m\u001B[0;32m      2\u001B[0m \u001B[1;33m\u001B[0m\u001B[0m\n",
      "\u001B[1;32m~\\PycharmProjects\\velodrome-backend\\venv\\lib\\site-packages\\pandas\\plotting\\_core.py\u001B[0m in \u001B[0;36mhist\u001B[1;34m(self, by, bins, **kwargs)\u001B[0m\n\u001B[0;32m   1294\u001B[0m             \u001B[1;33m>>\u001B[0m\u001B[1;33m>\u001B[0m \u001B[0max\u001B[0m \u001B[1;33m=\u001B[0m \u001B[0mdf\u001B[0m\u001B[1;33m.\u001B[0m\u001B[0mplot\u001B[0m\u001B[1;33m.\u001B[0m\u001B[0mhist\u001B[0m\u001B[1;33m(\u001B[0m\u001B[0mbins\u001B[0m\u001B[1;33m=\u001B[0m\u001B[1;36m12\u001B[0m\u001B[1;33m,\u001B[0m \u001B[0malpha\u001B[0m\u001B[1;33m=\u001B[0m\u001B[1;36m0.5\u001B[0m\u001B[1;33m)\u001B[0m\u001B[1;33m\u001B[0m\u001B[1;33m\u001B[0m\u001B[0m\n\u001B[0;32m   1295\u001B[0m         \"\"\"\n\u001B[1;32m-> 1296\u001B[1;33m         \u001B[1;32mreturn\u001B[0m \u001B[0mself\u001B[0m\u001B[1;33m(\u001B[0m\u001B[0mkind\u001B[0m\u001B[1;33m=\u001B[0m\u001B[1;34m\"hist\"\u001B[0m\u001B[1;33m,\u001B[0m \u001B[0mby\u001B[0m\u001B[1;33m=\u001B[0m\u001B[0mby\u001B[0m\u001B[1;33m,\u001B[0m \u001B[0mbins\u001B[0m\u001B[1;33m=\u001B[0m\u001B[0mbins\u001B[0m\u001B[1;33m,\u001B[0m \u001B[1;33m**\u001B[0m\u001B[0mkwargs\u001B[0m\u001B[1;33m)\u001B[0m\u001B[1;33m\u001B[0m\u001B[1;33m\u001B[0m\u001B[0m\n\u001B[0m\u001B[0;32m   1297\u001B[0m \u001B[1;33m\u001B[0m\u001B[0m\n\u001B[0;32m   1298\u001B[0m     \u001B[1;32mdef\u001B[0m \u001B[0mkde\u001B[0m\u001B[1;33m(\u001B[0m\u001B[0mself\u001B[0m\u001B[1;33m,\u001B[0m \u001B[0mbw_method\u001B[0m\u001B[1;33m=\u001B[0m\u001B[1;32mNone\u001B[0m\u001B[1;33m,\u001B[0m \u001B[0mind\u001B[0m\u001B[1;33m=\u001B[0m\u001B[1;32mNone\u001B[0m\u001B[1;33m,\u001B[0m \u001B[1;33m**\u001B[0m\u001B[0mkwargs\u001B[0m\u001B[1;33m)\u001B[0m\u001B[1;33m:\u001B[0m\u001B[1;33m\u001B[0m\u001B[1;33m\u001B[0m\u001B[0m\n",
      "\u001B[1;32m~\\PycharmProjects\\velodrome-backend\\venv\\lib\\site-packages\\pandas\\plotting\\_core.py\u001B[0m in \u001B[0;36m__call__\u001B[1;34m(self, *args, **kwargs)\u001B[0m\n\u001B[0;32m    953\u001B[0m                     \u001B[0mdata\u001B[0m\u001B[1;33m.\u001B[0m\u001B[0mcolumns\u001B[0m \u001B[1;33m=\u001B[0m \u001B[0mlabel_name\u001B[0m\u001B[1;33m\u001B[0m\u001B[1;33m\u001B[0m\u001B[0m\n\u001B[0;32m    954\u001B[0m \u001B[1;33m\u001B[0m\u001B[0m\n\u001B[1;32m--> 955\u001B[1;33m         \u001B[1;32mreturn\u001B[0m \u001B[0mplot_backend\u001B[0m\u001B[1;33m.\u001B[0m\u001B[0mplot\u001B[0m\u001B[1;33m(\u001B[0m\u001B[0mdata\u001B[0m\u001B[1;33m,\u001B[0m \u001B[0mkind\u001B[0m\u001B[1;33m=\u001B[0m\u001B[0mkind\u001B[0m\u001B[1;33m,\u001B[0m \u001B[1;33m**\u001B[0m\u001B[0mkwargs\u001B[0m\u001B[1;33m)\u001B[0m\u001B[1;33m\u001B[0m\u001B[1;33m\u001B[0m\u001B[0m\n\u001B[0m\u001B[0;32m    956\u001B[0m \u001B[1;33m\u001B[0m\u001B[0m\n\u001B[0;32m    957\u001B[0m     \u001B[0m__call__\u001B[0m\u001B[1;33m.\u001B[0m\u001B[0m__doc__\u001B[0m \u001B[1;33m=\u001B[0m \u001B[0m__doc__\u001B[0m\u001B[1;33m\u001B[0m\u001B[1;33m\u001B[0m\u001B[0m\n",
      "\u001B[1;32m~\\PycharmProjects\\velodrome-backend\\venv\\lib\\site-packages\\pandas\\plotting\\_matplotlib\\__init__.py\u001B[0m in \u001B[0;36mplot\u001B[1;34m(data, kind, **kwargs)\u001B[0m\n\u001B[0;32m     59\u001B[0m             \u001B[0mkwargs\u001B[0m\u001B[1;33m[\u001B[0m\u001B[1;34m\"ax\"\u001B[0m\u001B[1;33m]\u001B[0m \u001B[1;33m=\u001B[0m \u001B[0mgetattr\u001B[0m\u001B[1;33m(\u001B[0m\u001B[0max\u001B[0m\u001B[1;33m,\u001B[0m \u001B[1;34m\"left_ax\"\u001B[0m\u001B[1;33m,\u001B[0m \u001B[0max\u001B[0m\u001B[1;33m)\u001B[0m\u001B[1;33m\u001B[0m\u001B[1;33m\u001B[0m\u001B[0m\n\u001B[0;32m     60\u001B[0m     \u001B[0mplot_obj\u001B[0m \u001B[1;33m=\u001B[0m \u001B[0mPLOT_CLASSES\u001B[0m\u001B[1;33m[\u001B[0m\u001B[0mkind\u001B[0m\u001B[1;33m]\u001B[0m\u001B[1;33m(\u001B[0m\u001B[0mdata\u001B[0m\u001B[1;33m,\u001B[0m \u001B[1;33m**\u001B[0m\u001B[0mkwargs\u001B[0m\u001B[1;33m)\u001B[0m\u001B[1;33m\u001B[0m\u001B[1;33m\u001B[0m\u001B[0m\n\u001B[1;32m---> 61\u001B[1;33m     \u001B[0mplot_obj\u001B[0m\u001B[1;33m.\u001B[0m\u001B[0mgenerate\u001B[0m\u001B[1;33m(\u001B[0m\u001B[1;33m)\u001B[0m\u001B[1;33m\u001B[0m\u001B[1;33m\u001B[0m\u001B[0m\n\u001B[0m\u001B[0;32m     62\u001B[0m     \u001B[0mplot_obj\u001B[0m\u001B[1;33m.\u001B[0m\u001B[0mdraw\u001B[0m\u001B[1;33m(\u001B[0m\u001B[1;33m)\u001B[0m\u001B[1;33m\u001B[0m\u001B[1;33m\u001B[0m\u001B[0m\n\u001B[0;32m     63\u001B[0m     \u001B[1;32mreturn\u001B[0m \u001B[0mplot_obj\u001B[0m\u001B[1;33m.\u001B[0m\u001B[0mresult\u001B[0m\u001B[1;33m\u001B[0m\u001B[1;33m\u001B[0m\u001B[0m\n",
      "\u001B[1;32m~\\PycharmProjects\\velodrome-backend\\venv\\lib\\site-packages\\pandas\\plotting\\_matplotlib\\core.py\u001B[0m in \u001B[0;36mgenerate\u001B[1;34m(self)\u001B[0m\n\u001B[0;32m    276\u001B[0m     \u001B[1;32mdef\u001B[0m \u001B[0mgenerate\u001B[0m\u001B[1;33m(\u001B[0m\u001B[0mself\u001B[0m\u001B[1;33m)\u001B[0m\u001B[1;33m:\u001B[0m\u001B[1;33m\u001B[0m\u001B[1;33m\u001B[0m\u001B[0m\n\u001B[0;32m    277\u001B[0m         \u001B[0mself\u001B[0m\u001B[1;33m.\u001B[0m\u001B[0m_args_adjust\u001B[0m\u001B[1;33m(\u001B[0m\u001B[1;33m)\u001B[0m\u001B[1;33m\u001B[0m\u001B[1;33m\u001B[0m\u001B[0m\n\u001B[1;32m--> 278\u001B[1;33m         \u001B[0mself\u001B[0m\u001B[1;33m.\u001B[0m\u001B[0m_compute_plot_data\u001B[0m\u001B[1;33m(\u001B[0m\u001B[1;33m)\u001B[0m\u001B[1;33m\u001B[0m\u001B[1;33m\u001B[0m\u001B[0m\n\u001B[0m\u001B[0;32m    279\u001B[0m         \u001B[0mself\u001B[0m\u001B[1;33m.\u001B[0m\u001B[0m_setup_subplots\u001B[0m\u001B[1;33m(\u001B[0m\u001B[1;33m)\u001B[0m\u001B[1;33m\u001B[0m\u001B[1;33m\u001B[0m\u001B[0m\n\u001B[0;32m    280\u001B[0m         \u001B[0mself\u001B[0m\u001B[1;33m.\u001B[0m\u001B[0m_make_plot\u001B[0m\u001B[1;33m(\u001B[0m\u001B[1;33m)\u001B[0m\u001B[1;33m\u001B[0m\u001B[1;33m\u001B[0m\u001B[0m\n",
      "\u001B[1;32m~\\PycharmProjects\\velodrome-backend\\venv\\lib\\site-packages\\pandas\\plotting\\_matplotlib\\core.py\u001B[0m in \u001B[0;36m_compute_plot_data\u001B[1;34m(self)\u001B[0m\n\u001B[0;32m    439\u001B[0m         \u001B[1;31m# no non-numeric frames or series allowed\u001B[0m\u001B[1;33m\u001B[0m\u001B[1;33m\u001B[0m\u001B[1;33m\u001B[0m\u001B[0m\n\u001B[0;32m    440\u001B[0m         \u001B[1;32mif\u001B[0m \u001B[0mis_empty\u001B[0m\u001B[1;33m:\u001B[0m\u001B[1;33m\u001B[0m\u001B[1;33m\u001B[0m\u001B[0m\n\u001B[1;32m--> 441\u001B[1;33m             \u001B[1;32mraise\u001B[0m \u001B[0mTypeError\u001B[0m\u001B[1;33m(\u001B[0m\u001B[1;34m\"no numeric data to plot\"\u001B[0m\u001B[1;33m)\u001B[0m\u001B[1;33m\u001B[0m\u001B[1;33m\u001B[0m\u001B[0m\n\u001B[0m\u001B[0;32m    442\u001B[0m \u001B[1;33m\u001B[0m\u001B[0m\n\u001B[0;32m    443\u001B[0m         \u001B[0mself\u001B[0m\u001B[1;33m.\u001B[0m\u001B[0mdata\u001B[0m \u001B[1;33m=\u001B[0m \u001B[0mnumeric_data\u001B[0m\u001B[1;33m.\u001B[0m\u001B[0mapply\u001B[0m\u001B[1;33m(\u001B[0m\u001B[0mself\u001B[0m\u001B[1;33m.\u001B[0m\u001B[0m_convert_to_ndarray\u001B[0m\u001B[1;33m)\u001B[0m\u001B[1;33m\u001B[0m\u001B[1;33m\u001B[0m\u001B[0m\n",
      "\u001B[1;31mTypeError\u001B[0m: no numeric data to plot"
     ]
    },
    {
     "name": "stderr",
     "output_type": "stream",
     "text": [
      "Traceback (most recent call last):\n",
      "  File \"_pydevd_bundle\\pydevd_cython_win32_39_64.pyx\", line 1034, in _pydevd_bundle.pydevd_cython_win32_39_64.PyDBFrame.trace_dispatch\n",
      "  File \"C:\\Program Files\\JetBrains\\PyCharm 2021.2.3\\plugins\\python\\helpers-pro\\jupyter_debug\\pydev_jupyter_plugin.py\", line 144, in cmd_step_over\n",
      "    if _is_inside_jupyter_cell(frame, pydb):\n",
      "  File \"C:\\Program Files\\JetBrains\\PyCharm 2021.2.3\\plugins\\python\\helpers-pro\\jupyter_debug\\pydev_jupyter_plugin.py\", line 209, in _is_inside_jupyter_cell\n",
      "    if is_cell_filename(filename):\n",
      "  File \"C:\\Program Files\\JetBrains\\PyCharm 2021.2.3\\plugins\\python\\helpers-pro\\jupyter_debug\\pydev_jupyter_plugin.py\", line 220, in is_cell_filename\n",
      "    ipython_shell = get_ipython()\n",
      "NameError: name 'get_ipython' is not defined\n"
     ]
    }
   ],
   "source": [
    "stages_df[['classification']].plot.hist(bins=12, alpha=0.5).show()"
   ],
   "metadata": {
    "collapsed": false,
    "pycharm": {
     "name": "#%%\n"
    }
   }
  },
  {
   "cell_type": "code",
   "execution_count": 5,
   "outputs": [],
   "source": [
    "for col in stages_df.columns:\n",
    "    for i,r in stages_df.iterrows():\n",
    "        if isinstance(r[col],str):\n",
    "            if r[col] != r[col].replace(',',''):\n",
    "                print(r[col])\n",
    "            stages_df.at[i,col]=r[col].replace(',','')"
   ],
   "metadata": {
    "collapsed": false,
    "pycharm": {
     "name": "#%%\n"
    }
   }
  },
  {
   "cell_type": "code",
   "execution_count": 6,
   "outputs": [
    {
     "ename": "NameError",
     "evalue": "name 'test' is not defined",
     "output_type": "error",
     "traceback": [
      "\u001B[1;31m---------------------------------------------------------------------------\u001B[0m",
      "\u001B[1;31mNameError\u001B[0m                                 Traceback (most recent call last)",
      "\u001B[1;32m~\\AppData\\Local\\Temp/ipykernel_42576/1939250918.py\u001B[0m in \u001B[0;36m<module>\u001B[1;34m\u001B[0m\n\u001B[1;32m----> 1\u001B[1;33m \u001B[0mtest\u001B[0m\u001B[1;33m\u001B[0m\u001B[1;33m\u001B[0m\u001B[0m\n\u001B[0m",
      "\u001B[1;31mNameError\u001B[0m: name 'test' is not defined"
     ]
    }
   ],
   "source": [],
   "metadata": {
    "collapsed": false,
    "pycharm": {
     "name": "#%%\n"
    }
   }
  },
  {
   "cell_type": "code",
   "execution_count": null,
   "outputs": [],
   "source": [
    "stages_df.to_csv(CSV_PATHS['stages'],index=False,header=True)"
   ],
   "metadata": {
    "collapsed": false,
    "pycharm": {
     "name": "#%%\n"
    }
   }
  },
  {
   "cell_type": "code",
   "execution_count": 14,
   "outputs": [
    {
     "data": {
      "text/plain": "0        1\n1        2\n2        3\n3        4\n4        5\n        ..\n14248    9\n14249    1\n14250    2\n14251    3\n14252    4\nName: stage_name, Length: 10274, dtype: object"
     },
     "execution_count": 14,
     "metadata": {},
     "output_type": "execute_result"
    }
   ],
   "source": [
    "from utils import *\n",
    "\n",
    "stages_df = get_df('stages')\n",
    "stages_df['stage_number'] = None\n",
    "stage_name_pred = ~stages_df['stage_name'].isna() & (stages_df['stage_name'].str.contains('Stage'))\n",
    "stages_df.loc[stage_name_pred]['stage_name'].apply(lambda x: x.split()[1] if len(x)>1 else None)"
   ],
   "metadata": {
    "collapsed": false,
    "pycharm": {
     "name": "#%%\n"
    }
   }
  },
  {
   "cell_type": "code",
   "execution_count": 15,
   "outputs": [],
   "source": [
    "stages_df.loc[stage_name_pred,'stage_number'] = stages_df.loc[stage_name_pred]['stage_name'].apply(lambda x: x.split()[1] if len(x)>1 else None)"
   ],
   "metadata": {
    "collapsed": false,
    "pycharm": {
     "name": "#%%\n"
    }
   }
  },
  {
   "cell_type": "code",
   "execution_count": 16,
   "outputs": [],
   "source": [
    "\n",
    "stages_df.to_csv('./data/stages_fixed.csv',index=False,header=True)\n"
   ],
   "metadata": {
    "collapsed": false,
    "pycharm": {
     "name": "#%%\n"
    }
   }
  },
  {
   "cell_type": "code",
   "execution_count": 3,
   "outputs": [
    {
     "ename": "UnicodeDecodeError",
     "evalue": "'utf-8' codec can't decode bytes in position 4589-4590: invalid continuation byte",
     "output_type": "error",
     "traceback": [
      "\u001B[1;31m---------------------------------------------------------------------------\u001B[0m",
      "\u001B[1;31mUnicodeDecodeError\u001B[0m                        Traceback (most recent call last)",
      "\u001B[1;32m~\\AppData\\Local\\Temp/ipykernel_5412/868635717.py\u001B[0m in \u001B[0;36m<module>\u001B[1;34m\u001B[0m\n\u001B[0;32m      1\u001B[0m \u001B[1;32mfrom\u001B[0m \u001B[0mutils\u001B[0m \u001B[1;32mimport\u001B[0m \u001B[1;33m*\u001B[0m\u001B[1;33m\u001B[0m\u001B[1;33m\u001B[0m\u001B[0m\n\u001B[0;32m      2\u001B[0m \u001B[1;33m\u001B[0m\u001B[0m\n\u001B[1;32m----> 3\u001B[1;33m \u001B[0mstages_df\u001B[0m \u001B[1;33m=\u001B[0m \u001B[0mget_df\u001B[0m\u001B[1;33m(\u001B[0m\u001B[1;34m'stages'\u001B[0m\u001B[1;33m)\u001B[0m\u001B[1;33m\u001B[0m\u001B[1;33m\u001B[0m\u001B[0m\n\u001B[0m\u001B[0;32m      4\u001B[0m \u001B[0mstages_df\u001B[0m\u001B[1;33m\u001B[0m\u001B[1;33m\u001B[0m\u001B[0m\n",
      "\u001B[1;32m~\\PycharmProjects\\PCS-web-scraper\\utils.py\u001B[0m in \u001B[0;36mget_df\u001B[1;34m(table_name, index_col)\u001B[0m\n\u001B[0;32m    100\u001B[0m \u001B[1;32mdef\u001B[0m \u001B[0mget_df\u001B[0m\u001B[1;33m(\u001B[0m\u001B[0mtable_name\u001B[0m\u001B[1;33m,\u001B[0m\u001B[0mindex_col\u001B[0m\u001B[1;33m=\u001B[0m\u001B[1;32mNone\u001B[0m\u001B[1;33m)\u001B[0m\u001B[1;33m:\u001B[0m\u001B[1;33m\u001B[0m\u001B[1;33m\u001B[0m\u001B[0m\n\u001B[0;32m    101\u001B[0m     \u001B[1;32mif\u001B[0m \u001B[0mos\u001B[0m\u001B[1;33m.\u001B[0m\u001B[0mpath\u001B[0m\u001B[1;33m.\u001B[0m\u001B[0mexists\u001B[0m\u001B[1;33m(\u001B[0m\u001B[0mCSV_PATHS\u001B[0m\u001B[1;33m[\u001B[0m\u001B[0mtable_name\u001B[0m\u001B[1;33m]\u001B[0m\u001B[1;33m)\u001B[0m\u001B[1;33m:\u001B[0m\u001B[1;33m\u001B[0m\u001B[1;33m\u001B[0m\u001B[0m\n\u001B[1;32m--> 102\u001B[1;33m         \u001B[1;32mreturn\u001B[0m \u001B[0mpd\u001B[0m\u001B[1;33m.\u001B[0m\u001B[0mread_csv\u001B[0m\u001B[1;33m(\u001B[0m\u001B[0mCSV_PATHS\u001B[0m\u001B[1;33m[\u001B[0m\u001B[0mtable_name\u001B[0m\u001B[1;33m]\u001B[0m\u001B[1;33m,\u001B[0m\u001B[0mindex_col\u001B[0m\u001B[1;33m=\u001B[0m\u001B[0mindex_col\u001B[0m\u001B[1;33m)\u001B[0m\u001B[1;33m\u001B[0m\u001B[1;33m\u001B[0m\u001B[0m\n\u001B[0m\u001B[0;32m    103\u001B[0m \u001B[1;33m\u001B[0m\u001B[0m\n",
      "\u001B[1;32m~\\PycharmProjects\\velodrome-backend\\venv\\lib\\site-packages\\pandas\\io\\parsers.py\u001B[0m in \u001B[0;36mread_csv\u001B[1;34m(filepath_or_buffer, sep, delimiter, header, names, index_col, usecols, squeeze, prefix, mangle_dupe_cols, dtype, engine, converters, true_values, false_values, skipinitialspace, skiprows, skipfooter, nrows, na_values, keep_default_na, na_filter, verbose, skip_blank_lines, parse_dates, infer_datetime_format, keep_date_col, date_parser, dayfirst, cache_dates, iterator, chunksize, compression, thousands, decimal, lineterminator, quotechar, quoting, doublequote, escapechar, comment, encoding, dialect, error_bad_lines, warn_bad_lines, delim_whitespace, low_memory, memory_map, float_precision, storage_options)\u001B[0m\n\u001B[0;32m    603\u001B[0m     \u001B[0mkwds\u001B[0m\u001B[1;33m.\u001B[0m\u001B[0mupdate\u001B[0m\u001B[1;33m(\u001B[0m\u001B[0mkwds_defaults\u001B[0m\u001B[1;33m)\u001B[0m\u001B[1;33m\u001B[0m\u001B[1;33m\u001B[0m\u001B[0m\n\u001B[0;32m    604\u001B[0m \u001B[1;33m\u001B[0m\u001B[0m\n\u001B[1;32m--> 605\u001B[1;33m     \u001B[1;32mreturn\u001B[0m \u001B[0m_read\u001B[0m\u001B[1;33m(\u001B[0m\u001B[0mfilepath_or_buffer\u001B[0m\u001B[1;33m,\u001B[0m \u001B[0mkwds\u001B[0m\u001B[1;33m)\u001B[0m\u001B[1;33m\u001B[0m\u001B[1;33m\u001B[0m\u001B[0m\n\u001B[0m\u001B[0;32m    606\u001B[0m \u001B[1;33m\u001B[0m\u001B[0m\n\u001B[0;32m    607\u001B[0m \u001B[1;33m\u001B[0m\u001B[0m\n",
      "\u001B[1;32m~\\PycharmProjects\\velodrome-backend\\venv\\lib\\site-packages\\pandas\\io\\parsers.py\u001B[0m in \u001B[0;36m_read\u001B[1;34m(filepath_or_buffer, kwds)\u001B[0m\n\u001B[0;32m    455\u001B[0m \u001B[1;33m\u001B[0m\u001B[0m\n\u001B[0;32m    456\u001B[0m     \u001B[1;31m# Create the parser.\u001B[0m\u001B[1;33m\u001B[0m\u001B[1;33m\u001B[0m\u001B[1;33m\u001B[0m\u001B[0m\n\u001B[1;32m--> 457\u001B[1;33m     \u001B[0mparser\u001B[0m \u001B[1;33m=\u001B[0m \u001B[0mTextFileReader\u001B[0m\u001B[1;33m(\u001B[0m\u001B[0mfilepath_or_buffer\u001B[0m\u001B[1;33m,\u001B[0m \u001B[1;33m**\u001B[0m\u001B[0mkwds\u001B[0m\u001B[1;33m)\u001B[0m\u001B[1;33m\u001B[0m\u001B[1;33m\u001B[0m\u001B[0m\n\u001B[0m\u001B[0;32m    458\u001B[0m \u001B[1;33m\u001B[0m\u001B[0m\n\u001B[0;32m    459\u001B[0m     \u001B[1;32mif\u001B[0m \u001B[0mchunksize\u001B[0m \u001B[1;32mor\u001B[0m \u001B[0miterator\u001B[0m\u001B[1;33m:\u001B[0m\u001B[1;33m\u001B[0m\u001B[1;33m\u001B[0m\u001B[0m\n",
      "\u001B[1;32m~\\PycharmProjects\\velodrome-backend\\venv\\lib\\site-packages\\pandas\\io\\parsers.py\u001B[0m in \u001B[0;36m__init__\u001B[1;34m(self, f, engine, **kwds)\u001B[0m\n\u001B[0;32m    812\u001B[0m             \u001B[0mself\u001B[0m\u001B[1;33m.\u001B[0m\u001B[0moptions\u001B[0m\u001B[1;33m[\u001B[0m\u001B[1;34m\"has_index_names\"\u001B[0m\u001B[1;33m]\u001B[0m \u001B[1;33m=\u001B[0m \u001B[0mkwds\u001B[0m\u001B[1;33m[\u001B[0m\u001B[1;34m\"has_index_names\"\u001B[0m\u001B[1;33m]\u001B[0m\u001B[1;33m\u001B[0m\u001B[1;33m\u001B[0m\u001B[0m\n\u001B[0;32m    813\u001B[0m \u001B[1;33m\u001B[0m\u001B[0m\n\u001B[1;32m--> 814\u001B[1;33m         \u001B[0mself\u001B[0m\u001B[1;33m.\u001B[0m\u001B[0m_engine\u001B[0m \u001B[1;33m=\u001B[0m \u001B[0mself\u001B[0m\u001B[1;33m.\u001B[0m\u001B[0m_make_engine\u001B[0m\u001B[1;33m(\u001B[0m\u001B[0mself\u001B[0m\u001B[1;33m.\u001B[0m\u001B[0mengine\u001B[0m\u001B[1;33m)\u001B[0m\u001B[1;33m\u001B[0m\u001B[1;33m\u001B[0m\u001B[0m\n\u001B[0m\u001B[0;32m    815\u001B[0m \u001B[1;33m\u001B[0m\u001B[0m\n\u001B[0;32m    816\u001B[0m     \u001B[1;32mdef\u001B[0m \u001B[0mclose\u001B[0m\u001B[1;33m(\u001B[0m\u001B[0mself\u001B[0m\u001B[1;33m)\u001B[0m\u001B[1;33m:\u001B[0m\u001B[1;33m\u001B[0m\u001B[1;33m\u001B[0m\u001B[0m\n",
      "\u001B[1;32m~\\PycharmProjects\\velodrome-backend\\venv\\lib\\site-packages\\pandas\\io\\parsers.py\u001B[0m in \u001B[0;36m_make_engine\u001B[1;34m(self, engine)\u001B[0m\n\u001B[0;32m   1043\u001B[0m             )\n\u001B[0;32m   1044\u001B[0m         \u001B[1;31m# error: Too many arguments for \"ParserBase\"\u001B[0m\u001B[1;33m\u001B[0m\u001B[1;33m\u001B[0m\u001B[1;33m\u001B[0m\u001B[0m\n\u001B[1;32m-> 1045\u001B[1;33m         \u001B[1;32mreturn\u001B[0m \u001B[0mmapping\u001B[0m\u001B[1;33m[\u001B[0m\u001B[0mengine\u001B[0m\u001B[1;33m]\u001B[0m\u001B[1;33m(\u001B[0m\u001B[0mself\u001B[0m\u001B[1;33m.\u001B[0m\u001B[0mf\u001B[0m\u001B[1;33m,\u001B[0m \u001B[1;33m**\u001B[0m\u001B[0mself\u001B[0m\u001B[1;33m.\u001B[0m\u001B[0moptions\u001B[0m\u001B[1;33m)\u001B[0m  \u001B[1;31m# type: ignore[call-arg]\u001B[0m\u001B[1;33m\u001B[0m\u001B[1;33m\u001B[0m\u001B[0m\n\u001B[0m\u001B[0;32m   1046\u001B[0m \u001B[1;33m\u001B[0m\u001B[0m\n\u001B[0;32m   1047\u001B[0m     \u001B[1;32mdef\u001B[0m \u001B[0m_failover_to_python\u001B[0m\u001B[1;33m(\u001B[0m\u001B[0mself\u001B[0m\u001B[1;33m)\u001B[0m\u001B[1;33m:\u001B[0m\u001B[1;33m\u001B[0m\u001B[1;33m\u001B[0m\u001B[0m\n",
      "\u001B[1;32m~\\PycharmProjects\\velodrome-backend\\venv\\lib\\site-packages\\pandas\\io\\parsers.py\u001B[0m in \u001B[0;36m__init__\u001B[1;34m(self, src, **kwds)\u001B[0m\n\u001B[0;32m   1891\u001B[0m \u001B[1;33m\u001B[0m\u001B[0m\n\u001B[0;32m   1892\u001B[0m         \u001B[1;32mtry\u001B[0m\u001B[1;33m:\u001B[0m\u001B[1;33m\u001B[0m\u001B[1;33m\u001B[0m\u001B[0m\n\u001B[1;32m-> 1893\u001B[1;33m             \u001B[0mself\u001B[0m\u001B[1;33m.\u001B[0m\u001B[0m_reader\u001B[0m \u001B[1;33m=\u001B[0m \u001B[0mparsers\u001B[0m\u001B[1;33m.\u001B[0m\u001B[0mTextReader\u001B[0m\u001B[1;33m(\u001B[0m\u001B[0mself\u001B[0m\u001B[1;33m.\u001B[0m\u001B[0mhandles\u001B[0m\u001B[1;33m.\u001B[0m\u001B[0mhandle\u001B[0m\u001B[1;33m,\u001B[0m \u001B[1;33m**\u001B[0m\u001B[0mkwds\u001B[0m\u001B[1;33m)\u001B[0m\u001B[1;33m\u001B[0m\u001B[1;33m\u001B[0m\u001B[0m\n\u001B[0m\u001B[0;32m   1894\u001B[0m         \u001B[1;32mexcept\u001B[0m \u001B[0mException\u001B[0m\u001B[1;33m:\u001B[0m\u001B[1;33m\u001B[0m\u001B[1;33m\u001B[0m\u001B[0m\n\u001B[0;32m   1895\u001B[0m             \u001B[0mself\u001B[0m\u001B[1;33m.\u001B[0m\u001B[0mhandles\u001B[0m\u001B[1;33m.\u001B[0m\u001B[0mclose\u001B[0m\u001B[1;33m(\u001B[0m\u001B[1;33m)\u001B[0m\u001B[1;33m\u001B[0m\u001B[1;33m\u001B[0m\u001B[0m\n",
      "\u001B[1;32mpandas\\_libs\\parsers.pyx\u001B[0m in \u001B[0;36mpandas._libs.parsers.TextReader.__cinit__\u001B[1;34m()\u001B[0m\n",
      "\u001B[1;32mpandas\\_libs\\parsers.pyx\u001B[0m in \u001B[0;36mpandas._libs.parsers.TextReader._get_header\u001B[1;34m()\u001B[0m\n",
      "\u001B[1;32mpandas\\_libs\\parsers.pyx\u001B[0m in \u001B[0;36mpandas._libs.parsers.TextReader._tokenize_rows\u001B[1;34m()\u001B[0m\n",
      "\u001B[1;32mpandas\\_libs\\parsers.pyx\u001B[0m in \u001B[0;36mpandas._libs.parsers.raise_parser_error\u001B[1;34m()\u001B[0m\n",
      "\u001B[1;31mUnicodeDecodeError\u001B[0m: 'utf-8' codec can't decode bytes in position 4589-4590: invalid continuation byte"
     ]
    }
   ],
   "source": [
    "\n",
    "from utils import *\n",
    "\n",
    "stages_df = get_df('stages')\n",
    "stages_df"
   ],
   "metadata": {
    "collapsed": false,
    "pycharm": {
     "name": "#%%\n"
    }
   }
  },
  {
   "cell_type": "code",
   "execution_count": 9,
   "outputs": [
    {
     "name": "stderr",
     "output_type": "stream",
     "text": [
      "C:\\Users\\User\\PycharmProjects\\velodrome-backend\\venv\\lib\\site-packages\\IPython\\core\\interactiveshell.py:3185: DtypeWarning: Columns (6) have mixed types.Specify dtype option on import or set low_memory=False.\n",
      "  has_raised = await self.run_ast_nodes(code_ast.body, cell_name,\n"
     ]
    }
   ],
   "source": [
    "import pandas as pd\n",
    "stages_df = pd.read_csv('data/stages.csv',encoding='latin_1')"
   ],
   "metadata": {
    "collapsed": false,
    "pycharm": {
     "name": "#%%\n"
    }
   }
  },
  {
   "cell_type": "code",
   "execution_count": 12,
   "outputs": [],
   "source": [
    "stages_df['year'] = pd.to_datetime(stages_df['race_date']).apply(lambda x:x.year)"
   ],
   "metadata": {
    "collapsed": false,
    "pycharm": {
     "name": "#%%\n"
    }
   }
  },
  {
   "cell_type": "code",
   "execution_count": 17,
   "outputs": [
    {
     "data": {
      "text/plain": "511"
     },
     "execution_count": 17,
     "metadata": {},
     "output_type": "execute_result"
    }
   ],
   "source": [
    "\n",
    "len(stages_df[(stages_df['year']>2019) & stages_df['classification'].isin(RACE_CLASSES_TO_INCLUDE)]['race_id'].unique())"
   ],
   "metadata": {
    "collapsed": false,
    "pycharm": {
     "name": "#%%\n"
    }
   }
  },
  {
   "cell_type": "code",
   "execution_count": 26,
   "outputs": [
    {
     "name": "stderr",
     "output_type": "stream",
     "text": [
      "C:\\Users\\User\\PycharmProjects\\velodrome-backend\\venv\\lib\\site-packages\\IPython\\core\\interactiveshell.py:3377: DtypeWarning: Columns (6) have mixed types.Specify dtype option on import or set low_memory=False.\n",
      "  if (await self.run_code(code, result,  async_=asy)):\n"
     ]
    }
   ],
   "source": [
    "from utils import *\n",
    "import pandas as pd\n",
    "import re\n",
    "\n",
    "stages_df = get_df('stages')\n",
    "stages_df['race_date'] = pd.to_datetime(stages_df['race_date'])\n",
    "stages_df['stage_date'] = pd.to_datetime(stages_df['stage_date'])"
   ],
   "metadata": {
    "collapsed": false,
    "pycharm": {
     "name": "#%%\n"
    }
   }
  },
  {
   "cell_type": "code",
   "execution_count": 25,
   "outputs": [],
   "source": [
    "for i,r in stages_df.iterrows():\n",
    "    race_date = r['race_date']\n",
    "    stage_date = r['stage_date']\n",
    "\n",
    "    if str(race_date.year) not in r['race_link']:\n",
    "        # year = r['race_link'].split('/')[-1]\n",
    "        year_list = re.findall('(\\d{4})', r['race_link'])\n",
    "        if len(year_list)>0:\n",
    "            if len(year_list)>1:\n",
    "                print(year_list)\n",
    "                continue\n",
    "            year=year_list[0]\n",
    "            stages_df.loc[i,'race_date'] = race_date.replace(year=int(year))\n",
    "            stages_df.loc[i,'stage_date'] = stage_date.replace(year=int(year))\n",
    "            print(f\"{year} {race_date.year} {r['race_link']}\")\n",
    "            print(i)\n",
    "        # print(f\"{year} {race_date.year} {r['race_link']}\")\n",
    "        # if f\"19{str(race_date.year)[2:]}\" not in r['race_link']:"
   ],
   "metadata": {
    "collapsed": false,
    "pycharm": {
     "name": "#%%\n"
    }
   }
  },
  {
   "cell_type": "code",
   "execution_count": 22,
   "outputs": [],
   "source": [
    "\n",
    "# stages_df.to_csv('data/stages.csv',header=True,index=False)"
   ],
   "metadata": {
    "collapsed": false,
    "pycharm": {
     "name": "#%%\n"
    }
   }
  },
  {
   "cell_type": "code",
   "execution_count": 23,
   "outputs": [
    {
     "data": {
      "text/plain": "RangeIndex(start=0, stop=28353, step=1)"
     },
     "execution_count": 23,
     "metadata": {},
     "output_type": "execute_result"
    }
   ],
   "source": [
    "stages_df.index"
   ],
   "metadata": {
    "collapsed": false,
    "pycharm": {
     "name": "#%%\n"
    }
   }
  },
  {
   "cell_type": "code",
   "execution_count": 27,
   "outputs": [
    {
     "data": {
      "text/plain": "       stage_id  race_id                                         race_name  \\\n4             5        1                         New Zealand Cycle Classic   \n273         274       83                               Santos Women's Tour   \n584         585      148                                Tour of Wellington   \n692         693      173                         La Tropicale Amissa Bongo   \n772         773      190                     Grand Prix of Sharm el-Sheikh   \n...         ...      ...                                               ...   \n28313     28445    18573  National Championships Russia WU23 - Road Race\\t   \n28314     28446    18574          National Championships Serbia WU23 - ITT   \n28315     28447    18575       National Championships Singapore WU23 - ITT   \n28316     28448    18576       National Championships Venezuela WU23 - ITT   \n28330     28462    18590   National Championships Colombia U23 - Road Race   \n\n       race_date stage_date    stage_name stage_number    stage_type  \\\n4     2022-05-01 2022-09-01       Stage 5          5.0         Stage   \n273   2016-01-16 2016-01-19       Stage 4          4.0         Stage   \n584   2009-01-21 2009-01-25       Stage 7          7.0         Stage   \n692   2007-01-16 2007-01-16      Prologue          1.0      Prologue   \n772   2007-02-16 2007-02-16  One day race          NaN  One day race   \n...          ...        ...           ...          ...           ...   \n28313 2021-08-17 2021-08-17  One day race          NaN  One day race   \n28314 2021-06-18 2021-06-18    Time trial          NaN    Time trial   \n28315 2021-07-25 2021-07-25    Time trial          NaN    Time trial   \n28316 2021-06-18 2021-06-18    Time trial          NaN    Time trial   \n28330 2022-12-02 2022-12-02  One day race          NaN  One day race   \n\n      classification nation  ... temp_avg temp_max temp_min _1000_to_1500_m  \\\n4                2.2     nz  ...      NaN      NaN      NaN             NaN   \n273              2.2     au  ...      NaN      NaN      NaN             NaN   \n584              2.2     nz  ...      NaN      NaN      NaN             NaN   \n692              2.2     ga  ...      NaN      NaN      NaN             NaN   \n772              1.2     eg  ...      NaN      NaN      NaN             NaN   \n...              ...    ...  ...      ...      ...      ...             ...   \n28313             NC     ru  ...      NaN      NaN      NaN             NaN   \n28314             NC     rs  ...      NaN      NaN      NaN             NaN   \n28315             NC     sg  ...      NaN      NaN      NaN             NaN   \n28316             NC     ve  ...      NaN      NaN      NaN             NaN   \n28330             NC     co  ...      NaN      NaN      NaN             NaN   \n\n       _1500_to_2000_m  _2000_to_2500_m  _2500_to_3000_m _3000_to_3500_m  \\\n4                  NaN              NaN              NaN             NaN   \n273                NaN              NaN              NaN             NaN   \n584                NaN              NaN              NaN             NaN   \n692                NaN              NaN              NaN             NaN   \n772                NaN              NaN              NaN             NaN   \n...                ...              ...              ...             ...   \n28313              NaN              NaN              NaN             NaN   \n28314              NaN              NaN              NaN             NaN   \n28315              NaN              NaN              NaN             NaN   \n28316              NaN              NaN              NaN             NaN   \n28330              NaN              NaN              NaN             NaN   \n\n      race_total_distance race_total_elevation_gain  \n4                     NaN                       NaN  \n273                   NaN                       NaN  \n584                   NaN                       NaN  \n692                   NaN                       NaN  \n772                   NaN                       NaN  \n...                   ...                       ...  \n28313                 NaN                       NaN  \n28314                 NaN                       NaN  \n28315                 NaN                       NaN  \n28316                 NaN                       NaN  \n28330                 NaN                       NaN  \n\n[5034 rows x 36 columns]",
      "text/html": "<div>\n<style scoped>\n    .dataframe tbody tr th:only-of-type {\n        vertical-align: middle;\n    }\n\n    .dataframe tbody tr th {\n        vertical-align: top;\n    }\n\n    .dataframe thead th {\n        text-align: right;\n    }\n</style>\n<table border=\"1\" class=\"dataframe\">\n  <thead>\n    <tr style=\"text-align: right;\">\n      <th></th>\n      <th>stage_id</th>\n      <th>race_id</th>\n      <th>race_name</th>\n      <th>race_date</th>\n      <th>stage_date</th>\n      <th>stage_name</th>\n      <th>stage_number</th>\n      <th>stage_type</th>\n      <th>classification</th>\n      <th>nation</th>\n      <th>...</th>\n      <th>temp_avg</th>\n      <th>temp_max</th>\n      <th>temp_min</th>\n      <th>_1000_to_1500_m</th>\n      <th>_1500_to_2000_m</th>\n      <th>_2000_to_2500_m</th>\n      <th>_2500_to_3000_m</th>\n      <th>_3000_to_3500_m</th>\n      <th>race_total_distance</th>\n      <th>race_total_elevation_gain</th>\n    </tr>\n  </thead>\n  <tbody>\n    <tr>\n      <th>4</th>\n      <td>5</td>\n      <td>1</td>\n      <td>New Zealand Cycle Classic</td>\n      <td>2022-05-01</td>\n      <td>2022-09-01</td>\n      <td>Stage 5</td>\n      <td>5.0</td>\n      <td>Stage</td>\n      <td>2.2</td>\n      <td>nz</td>\n      <td>...</td>\n      <td>NaN</td>\n      <td>NaN</td>\n      <td>NaN</td>\n      <td>NaN</td>\n      <td>NaN</td>\n      <td>NaN</td>\n      <td>NaN</td>\n      <td>NaN</td>\n      <td>NaN</td>\n      <td>NaN</td>\n    </tr>\n    <tr>\n      <th>273</th>\n      <td>274</td>\n      <td>83</td>\n      <td>Santos Women's Tour</td>\n      <td>2016-01-16</td>\n      <td>2016-01-19</td>\n      <td>Stage 4</td>\n      <td>4.0</td>\n      <td>Stage</td>\n      <td>2.2</td>\n      <td>au</td>\n      <td>...</td>\n      <td>NaN</td>\n      <td>NaN</td>\n      <td>NaN</td>\n      <td>NaN</td>\n      <td>NaN</td>\n      <td>NaN</td>\n      <td>NaN</td>\n      <td>NaN</td>\n      <td>NaN</td>\n      <td>NaN</td>\n    </tr>\n    <tr>\n      <th>584</th>\n      <td>585</td>\n      <td>148</td>\n      <td>Tour of Wellington</td>\n      <td>2009-01-21</td>\n      <td>2009-01-25</td>\n      <td>Stage 7</td>\n      <td>7.0</td>\n      <td>Stage</td>\n      <td>2.2</td>\n      <td>nz</td>\n      <td>...</td>\n      <td>NaN</td>\n      <td>NaN</td>\n      <td>NaN</td>\n      <td>NaN</td>\n      <td>NaN</td>\n      <td>NaN</td>\n      <td>NaN</td>\n      <td>NaN</td>\n      <td>NaN</td>\n      <td>NaN</td>\n    </tr>\n    <tr>\n      <th>692</th>\n      <td>693</td>\n      <td>173</td>\n      <td>La Tropicale Amissa Bongo</td>\n      <td>2007-01-16</td>\n      <td>2007-01-16</td>\n      <td>Prologue</td>\n      <td>1.0</td>\n      <td>Prologue</td>\n      <td>2.2</td>\n      <td>ga</td>\n      <td>...</td>\n      <td>NaN</td>\n      <td>NaN</td>\n      <td>NaN</td>\n      <td>NaN</td>\n      <td>NaN</td>\n      <td>NaN</td>\n      <td>NaN</td>\n      <td>NaN</td>\n      <td>NaN</td>\n      <td>NaN</td>\n    </tr>\n    <tr>\n      <th>772</th>\n      <td>773</td>\n      <td>190</td>\n      <td>Grand Prix of Sharm el-Sheikh</td>\n      <td>2007-02-16</td>\n      <td>2007-02-16</td>\n      <td>One day race</td>\n      <td>NaN</td>\n      <td>One day race</td>\n      <td>1.2</td>\n      <td>eg</td>\n      <td>...</td>\n      <td>NaN</td>\n      <td>NaN</td>\n      <td>NaN</td>\n      <td>NaN</td>\n      <td>NaN</td>\n      <td>NaN</td>\n      <td>NaN</td>\n      <td>NaN</td>\n      <td>NaN</td>\n      <td>NaN</td>\n    </tr>\n    <tr>\n      <th>...</th>\n      <td>...</td>\n      <td>...</td>\n      <td>...</td>\n      <td>...</td>\n      <td>...</td>\n      <td>...</td>\n      <td>...</td>\n      <td>...</td>\n      <td>...</td>\n      <td>...</td>\n      <td>...</td>\n      <td>...</td>\n      <td>...</td>\n      <td>...</td>\n      <td>...</td>\n      <td>...</td>\n      <td>...</td>\n      <td>...</td>\n      <td>...</td>\n      <td>...</td>\n      <td>...</td>\n    </tr>\n    <tr>\n      <th>28313</th>\n      <td>28445</td>\n      <td>18573</td>\n      <td>National Championships Russia WU23 - Road Race\\t</td>\n      <td>2021-08-17</td>\n      <td>2021-08-17</td>\n      <td>One day race</td>\n      <td>NaN</td>\n      <td>One day race</td>\n      <td>NC</td>\n      <td>ru</td>\n      <td>...</td>\n      <td>NaN</td>\n      <td>NaN</td>\n      <td>NaN</td>\n      <td>NaN</td>\n      <td>NaN</td>\n      <td>NaN</td>\n      <td>NaN</td>\n      <td>NaN</td>\n      <td>NaN</td>\n      <td>NaN</td>\n    </tr>\n    <tr>\n      <th>28314</th>\n      <td>28446</td>\n      <td>18574</td>\n      <td>National Championships Serbia WU23 - ITT</td>\n      <td>2021-06-18</td>\n      <td>2021-06-18</td>\n      <td>Time trial</td>\n      <td>NaN</td>\n      <td>Time trial</td>\n      <td>NC</td>\n      <td>rs</td>\n      <td>...</td>\n      <td>NaN</td>\n      <td>NaN</td>\n      <td>NaN</td>\n      <td>NaN</td>\n      <td>NaN</td>\n      <td>NaN</td>\n      <td>NaN</td>\n      <td>NaN</td>\n      <td>NaN</td>\n      <td>NaN</td>\n    </tr>\n    <tr>\n      <th>28315</th>\n      <td>28447</td>\n      <td>18575</td>\n      <td>National Championships Singapore WU23 - ITT</td>\n      <td>2021-07-25</td>\n      <td>2021-07-25</td>\n      <td>Time trial</td>\n      <td>NaN</td>\n      <td>Time trial</td>\n      <td>NC</td>\n      <td>sg</td>\n      <td>...</td>\n      <td>NaN</td>\n      <td>NaN</td>\n      <td>NaN</td>\n      <td>NaN</td>\n      <td>NaN</td>\n      <td>NaN</td>\n      <td>NaN</td>\n      <td>NaN</td>\n      <td>NaN</td>\n      <td>NaN</td>\n    </tr>\n    <tr>\n      <th>28316</th>\n      <td>28448</td>\n      <td>18576</td>\n      <td>National Championships Venezuela WU23 - ITT</td>\n      <td>2021-06-18</td>\n      <td>2021-06-18</td>\n      <td>Time trial</td>\n      <td>NaN</td>\n      <td>Time trial</td>\n      <td>NC</td>\n      <td>ve</td>\n      <td>...</td>\n      <td>NaN</td>\n      <td>NaN</td>\n      <td>NaN</td>\n      <td>NaN</td>\n      <td>NaN</td>\n      <td>NaN</td>\n      <td>NaN</td>\n      <td>NaN</td>\n      <td>NaN</td>\n      <td>NaN</td>\n    </tr>\n    <tr>\n      <th>28330</th>\n      <td>28462</td>\n      <td>18590</td>\n      <td>National Championships Colombia U23 - Road Race</td>\n      <td>2022-12-02</td>\n      <td>2022-12-02</td>\n      <td>One day race</td>\n      <td>NaN</td>\n      <td>One day race</td>\n      <td>NC</td>\n      <td>co</td>\n      <td>...</td>\n      <td>NaN</td>\n      <td>NaN</td>\n      <td>NaN</td>\n      <td>NaN</td>\n      <td>NaN</td>\n      <td>NaN</td>\n      <td>NaN</td>\n      <td>NaN</td>\n      <td>NaN</td>\n      <td>NaN</td>\n    </tr>\n  </tbody>\n</table>\n<p>5034 rows × 36 columns</p>\n</div>"
     },
     "execution_count": 27,
     "metadata": {},
     "output_type": "execute_result"
    }
   ],
   "source": [
    "stages_df[stages_df['distance'].isna()]"
   ],
   "metadata": {
    "collapsed": false,
    "pycharm": {
     "name": "#%%\n"
    }
   }
  },
  {
   "cell_type": "code",
   "execution_count": 4,
   "outputs": [
    {
     "data": {
      "text/plain": "['-']"
     },
     "execution_count": 4,
     "metadata": {},
     "output_type": "execute_result"
    }
   ],
   "source": [
    "'-'.split()"
   ],
   "metadata": {
    "collapsed": false,
    "pycharm": {
     "name": "#%%\n"
    }
   }
  },
  {
   "cell_type": "code",
   "execution_count": 1,
   "outputs": [
    {
     "name": "stderr",
     "output_type": "stream",
     "text": [
      "C:\\Users\\User\\PycharmProjects\\velodrome-backend\\venv\\lib\\site-packages\\IPython\\core\\interactiveshell.py:3185: DtypeWarning: Columns (6) have mixed types.Specify dtype option on import or set low_memory=False.\n",
      "  has_raised = await self.run_ast_nodes(code_ast.body, cell_name,\n"
     ]
    },
    {
     "data": {
      "text/plain": "28353"
     },
     "execution_count": 1,
     "metadata": {},
     "output_type": "execute_result"
    }
   ],
   "source": [
    "from utils import *\n",
    "import pandas as pd\n",
    "import re\n",
    "\n",
    "stages_df_cpy = pd.read_csv('data/stages - Copy.csv')\n",
    "len(stages_df_cpy)"
   ],
   "metadata": {
    "collapsed": false,
    "pycharm": {
     "name": "#%%\n"
    }
   }
  },
  {
   "cell_type": "code",
   "execution_count": 2,
   "outputs": [],
   "source": [
    "from utils import *\n",
    "import pandas as pd\n",
    "import re\n",
    "\n",
    "stages_df = get_df('stages')"
   ],
   "metadata": {
    "collapsed": false,
    "pycharm": {
     "name": "#%%\n"
    }
   }
  },
  {
   "cell_type": "code",
   "execution_count": 3,
   "outputs": [
    {
     "data": {
      "text/plain": "20460"
     },
     "execution_count": 3,
     "metadata": {},
     "output_type": "execute_result"
    }
   ],
   "source": [
    "len(set(stages_df_cpy['stage_id']) - set(stages_df['stage_id']))\n"
   ],
   "metadata": {
    "collapsed": false,
    "pycharm": {
     "name": "#%%\n"
    }
   }
  },
  {
   "cell_type": "code",
   "execution_count": 6,
   "outputs": [],
   "source": [
    "stages_diff = set(stages_df_cpy['stage_id']) - set(stages_df['stage_id'])\n",
    "df = stages_df_cpy[stages_df_cpy['stage_id'].isin(stages_diff)]\n",
    "df.to_csv('data/stages.csv', mode='a', header=False, index=False)"
   ],
   "metadata": {
    "collapsed": false,
    "pycharm": {
     "name": "#%%\n"
    }
   }
  },
  {
   "cell_type": "code",
   "execution_count": null,
   "outputs": [],
   "source": [
    "stages_df['start_time']=None\n",
    "stages_df['avg_speed_winner']=None\n",
    "stages_df['race_name']=None\n",
    "stages_df['pcs_city_finish']=None\n",
    "stages_df['pcs_city_start']=None\n",
    "stages_df.head()"
   ],
   "metadata": {
    "collapsed": false,
    "pycharm": {
     "name": "#%%\n"
    }
   }
  },
  {
   "cell_type": "code",
   "execution_count": 25,
   "outputs": [],
   "source": [
    "stages_df.to_csv('data/stages.csv',header=True,index=False)"
   ],
   "metadata": {
    "collapsed": false,
    "pycharm": {
     "name": "#%%\n"
    }
   }
  },
  {
   "cell_type": "code",
   "execution_count": 1,
   "outputs": [
    {
     "ename": "NameError",
     "evalue": "name 'stages_df' is not defined",
     "output_type": "error",
     "traceback": [
      "\u001B[1;31m---------------------------------------------------------------------------\u001B[0m",
      "\u001B[1;31mNameError\u001B[0m                                 Traceback (most recent call last)",
      "\u001B[1;32m~\\AppData\\Local\\Temp/ipykernel_3344/3625689363.py\u001B[0m in \u001B[0;36m<module>\u001B[1;34m\u001B[0m\n\u001B[1;32m----> 1\u001B[1;33m \u001B[0mstages_df\u001B[0m\u001B[1;33m.\u001B[0m\u001B[0mcolumns\u001B[0m\u001B[1;33m\u001B[0m\u001B[1;33m\u001B[0m\u001B[0m\n\u001B[0m\u001B[0;32m      2\u001B[0m \u001B[1;33m\u001B[0m\u001B[0m\n",
      "\u001B[1;31mNameError\u001B[0m: name 'stages_df' is not defined"
     ]
    }
   ],
   "source": [
    "stages_df.columns"
   ],
   "metadata": {
    "collapsed": false,
    "pycharm": {
     "name": "#%%\n"
    }
   }
  },
  {
   "cell_type": "code",
   "execution_count": 11,
   "outputs": [
    {
     "data": {
      "text/plain": "Series([], Name: elevation_gain, dtype: float64)"
     },
     "execution_count": 11,
     "metadata": {},
     "output_type": "execute_result"
    }
   ],
   "source": [
    "\n",
    "stages_df[~stages_df['elevation_gain'].isna()].sort_values('race_date')['elevation_gain']"
   ],
   "metadata": {
    "collapsed": false,
    "pycharm": {
     "name": "#%%\n"
    }
   }
  },
  {
   "cell_type": "code",
   "execution_count": 13,
   "outputs": [],
   "source": [
    "#keep only empty rows\n",
    "stages_df = get_df('stages')\n",
    "stages_df_full=stages_df[~stages_df['race_name'].isna()]\n",
    "if os.path.exists('data/stages_full.csv'):\n",
    "    stages_df_full.to_csv('data/stages_full.csv',mode='a', header=False, index=False)\n",
    "else:\n",
    "    stages_df_full.to_csv('data/stages_full.csv', header=True, index=False)"
   ],
   "metadata": {
    "collapsed": false,
    "pycharm": {
     "name": "#%%\n"
    }
   }
  },
  {
   "cell_type": "code",
   "execution_count": 14,
   "outputs": [],
   "source": [
    "stages_df_empty=stages_df[stages_df['race_name'].isna()]\n",
    "stages_df_empty.to_csv('data/stages.csv', header=True, index=False)"
   ],
   "metadata": {
    "collapsed": false,
    "pycharm": {
     "name": "#%%\n"
    }
   }
  },
  {
   "cell_type": "code",
   "execution_count": 17,
   "outputs": [
    {
     "data": {
      "text/plain": "    stage_id  race_id race_name   race_date  stage_date      stage_name  \\\n0        188       55       NaN    24-01-18    24-01-18   Stage 1 (ITT)   \n1        189       55       NaN    24-01-18    25-01-18         Stage 2   \n2        190       55       NaN    24-01-18    26-01-18         Stage 3   \n3        191       55       NaN    24-01-18    27-01-18         Stage 4   \n4        772      189       NaN    15-02-07    15-02-07    One day race   \n5        976      261       NaN    07-04-07    07-04-07    One day race   \n6       1074      289       NaN    10-02-05    10-02-05    One day race   \n7       1218      325       NaN    05-02-04    05-02-04    One day race   \n8       1295      343       NaN    06-02-03    06-02-03    One day race   \n9       1338      355       NaN    06-02-02    06-02-02    One day race   \n10      1652      428       NaN    07-02-94    07-02-94    One day race   \n11      1839      467       NaN    07-02-84    07-02-84    One day race   \n12      1840      468       NaN    01-02-82    01-02-82    One day race   \n13      3570     1225       NaN    07-03-35    09-03-35         Stage 3   \n14      3571     1225       NaN    07-03-35    10-03-35         Stage 4   \n15      3572     1225       NaN    07-03-35    11-03-35         Stage 5   \n16      4013     1441       NaN    07-03-29    07-03-29    One day race   \n17      4871     1882       NaN    19-08-19    19-08-19    One day race   \n18      5401     2180       NaN    17-07-04    17-07-04    One day race   \n19      5417     2191       NaN    12-07-03    12-07-03    One day race   \n20      5427     2201       NaN    22-06-02    22-06-02    One day race   \n21      5478     2252       NaN  1894-05-14  1894-05-14    One day race   \n22      5507     2281       NaN  1876-05-25  1876-05-25    One day race   \n23      5598     2322       NaN    10-03-21    10-03-21         Stage 1   \n24      5599     2322       NaN    10-03-21    11-03-21   Stage 2 (ITT)   \n25      5600     2322       NaN    10-03-21    12-03-21         Stage 3   \n26      5633     2337       NaN    25-03-21    25-03-21    One day race   \n27      5789     2390       NaN    13-05-21    13-05-21    One day race   \n28      5799     2397       NaN    16-05-21    16-05-21    One day race   \n29      5899     2426       NaN    05-06-21    05-06-21    One day race   \n30      6430     2625       NaN    28-03-19    28-03-19    One day race   \n31      6482     2644       NaN    06-04-19    06-04-19    One day race   \n32      6504     2656       NaN    10-04-19    10-04-19         Stage 1   \n33      6505     2656       NaN    10-04-19    11-04-19         Stage 2   \n34      6506     2656       NaN    10-04-19    12-04-19         Stage 3   \n35      6507     2656       NaN    10-04-19    13-04-19  Stage 4a (ITT)   \n36      6508     2656       NaN    10-04-19    13-04-19        Stage 4b   \n37      6509     2656       NaN    10-04-19    14-04-19         Stage 5   \n38      6521     2659       NaN    12-04-19    14-04-19             NaN   \n39      6522     2659       NaN    12-04-19    14-04-19             NaN   \n40      6523     2659       NaN    12-04-19    14-04-19             NaN   \n41      6524     2659       NaN    12-04-19    14-04-19             NaN   \n42      7161     2904       NaN    22-03-18    22-03-18    One day race   \n43      7206     2922       NaN    31-03-18    31-03-18    One day race   \n44      7239     2939       NaN    04-04-18    04-04-18   Stage 1 (ITT)   \n45      7240     2939       NaN    04-04-18    05-04-18         Stage 2   \n46      7241     2939       NaN    04-04-18    06-04-18        Stage 3a   \n47      7242     2939       NaN    04-04-18    06-04-18  Stage 3b (TTT)   \n48      7243     2939       NaN    04-04-18    07-04-18         Stage 4   \n49      7244     2939       NaN    04-04-18    08-04-18         Stage 5   \n50      7967     3213       NaN    01-04-17    01-04-17    One day race   \n51      7990     3227       NaN    05-04-17    05-04-17  Stage 1a (ITT)   \n52      7991     3227       NaN    05-04-17    05-04-17        Stage 1b   \n53      7992     3227       NaN    05-04-17    06-04-17   Stage 2 (TTT)   \n54      7993     3227       NaN    05-04-17    07-04-17         Stage 3   \n55      7994     3227       NaN    05-04-17    08-04-17         Stage 4   \n56      7995     3227       NaN    05-04-17    09-04-17         Stage 5   \n\n    stage_number             stage_type classification nation  ... temp_min  \\\n0            1.0  Individual Time Trial            2.1     ae  ...      NaN   \n1            2.0                  Stage            2.1     ae  ...      NaN   \n2            3.0                  Stage            2.1     ae  ...      NaN   \n3            4.0                  Stage            2.1     ae  ...      NaN   \n4            NaN           One day race            1.1     es  ...      NaN   \n5            NaN           One day race            1.1     nl  ...      NaN   \n6            NaN           One day race            1.1     es  ...      NaN   \n7            NaN           One day race            1.3     es  ...      NaN   \n8            NaN           One day race            1.3     es  ...      NaN   \n9            NaN           One day race            1.3     es  ...      NaN   \n10           NaN           One day race            NaN     es  ...      NaN   \n11           NaN           One day race            NaN     fr  ...      NaN   \n12           NaN           One day race            NaN     fr  ...      NaN   \n13           3.0                  Stage            NaN     dz  ...      NaN   \n14           4.0                  Stage            NaN     dz  ...      NaN   \n15           5.0                  Stage            NaN     dz  ...      NaN   \n16           NaN           One day race            NaN     dz  ...      NaN   \n17           NaN           One day race            1.1     it  ...      NaN   \n18           NaN           One day race            1.1     it  ...      NaN   \n19           NaN           One day race            1.1     it  ...      NaN   \n20           NaN           One day race            1.1     it  ...      NaN   \n21           NaN           One day race            1.1     it  ...      NaN   \n22           NaN           One day race            NaN     it  ...      NaN   \n23           1.0                  Stage            2.1     nl  ...      NaN   \n24           2.0  Individual Time Trial            2.1     nl  ...      NaN   \n25           3.0                  Stage            2.1     nl  ...      NaN   \n26           NaN           One day race          1.WWT     be  ...      NaN   \n27           NaN           One day race            1.1     es  ...      NaN   \n28           NaN           One day race            1.1     es  ...      NaN   \n29           NaN           One day race            1.2     be  ...      NaN   \n30           NaN           One day race          1.WWT     be  ...      NaN   \n31           NaN           One day race            1.1     nl  ...      NaN   \n32           1.0                  Stage            2.1     nl  ...      NaN   \n33           2.0                  Stage            2.1     nl  ...      NaN   \n34           3.0                  Stage            2.1     nl  ...      NaN   \n35           4.0  Individual Time Trial            2.1     nl  ...      NaN   \n36           5.0                  Stage            2.1     nl  ...      NaN   \n37           6.0                  Stage            2.1     nl  ...      NaN   \n38           7.0                    NaN            2.2     fr  ...      NaN   \n39           9.0                    NaN            2.2     fr  ...      NaN   \n40          11.0                    NaN            2.2     fr  ...      NaN   \n41          13.0                    NaN            2.2     fr  ...      NaN   \n42           NaN           One day race          1.WWT     be  ...      NaN   \n43           NaN           One day race            1.1     nl  ...      NaN   \n44           1.0  Individual Time Trial            2.1     nl  ...      NaN   \n45           2.0                  Stage            2.1     nl  ...      NaN   \n46           3.0                  Stage            2.1     nl  ...      NaN   \n47           4.0        Team Time Trial            2.1     nl  ...      NaN   \n48           5.0                  Stage            2.1     nl  ...      NaN   \n49           6.0                  Stage            2.1     nl  ...      NaN   \n50           NaN           One day race            1.1     nl  ...      NaN   \n51           1.0  Individual Time Trial            2.2     nl  ...      NaN   \n52           2.0                  Stage            2.2     nl  ...      NaN   \n53           3.0        Team Time Trial            2.2     nl  ...      NaN   \n54           4.0                  Stage            2.2     nl  ...      NaN   \n55           5.0                  Stage            2.2     nl  ...      NaN   \n56           6.0                  Stage            2.2     nl  ...      NaN   \n\n   _1000_to_1500_m _1500_to_2000_m _2000_to_2500_m  _2500_to_3000_m  \\\n0              NaN             NaN             NaN              NaN   \n1              NaN             NaN             NaN              NaN   \n2              NaN             NaN             NaN              NaN   \n3              NaN             NaN             NaN              NaN   \n4              NaN             NaN             NaN              NaN   \n5              NaN             NaN             NaN              NaN   \n6              NaN             NaN             NaN              NaN   \n7              NaN             NaN             NaN              NaN   \n8              NaN             NaN             NaN              NaN   \n9              NaN             NaN             NaN              NaN   \n10             NaN             NaN             NaN              NaN   \n11             NaN             NaN             NaN              NaN   \n12             NaN             NaN             NaN              NaN   \n13             NaN             NaN             NaN              NaN   \n14             NaN             NaN             NaN              NaN   \n15             NaN             NaN             NaN              NaN   \n16             NaN             NaN             NaN              NaN   \n17             NaN             NaN             NaN              NaN   \n18             NaN             NaN             NaN              NaN   \n19             NaN             NaN             NaN              NaN   \n20             NaN             NaN             NaN              NaN   \n21             NaN             NaN             NaN              NaN   \n22             NaN             NaN             NaN              NaN   \n23             NaN             NaN             NaN              NaN   \n24             NaN             NaN             NaN              NaN   \n25             NaN             NaN             NaN              NaN   \n26             NaN             NaN             NaN              NaN   \n27             NaN             NaN             NaN              NaN   \n28             NaN             NaN             NaN              NaN   \n29             NaN             NaN             NaN              NaN   \n30             NaN             NaN             NaN              NaN   \n31             NaN             NaN             NaN              NaN   \n32             NaN             NaN             NaN              NaN   \n33             NaN             NaN             NaN              NaN   \n34             NaN             NaN             NaN              NaN   \n35             NaN             NaN             NaN              NaN   \n36             NaN             NaN             NaN              NaN   \n37             NaN             NaN             NaN              NaN   \n38             NaN             NaN             NaN              NaN   \n39             NaN             NaN             NaN              NaN   \n40             NaN             NaN             NaN              NaN   \n41             NaN             NaN             NaN              NaN   \n42             NaN             NaN             NaN              NaN   \n43             NaN             NaN             NaN              NaN   \n44             NaN             NaN             NaN              NaN   \n45             NaN             NaN             NaN              NaN   \n46             NaN             NaN             NaN              NaN   \n47             NaN             NaN             NaN              NaN   \n48             NaN             NaN             NaN              NaN   \n49             NaN             NaN             NaN              NaN   \n50             NaN             NaN             NaN              NaN   \n51             NaN             NaN             NaN              NaN   \n52             NaN             NaN             NaN              NaN   \n53             NaN             NaN             NaN              NaN   \n54             NaN             NaN             NaN              NaN   \n55             NaN             NaN             NaN              NaN   \n56             NaN             NaN             NaN              NaN   \n\n    _3000_to_3500_m  race_total_distance race_total_elevation_gain start_time  \\\n0               NaN                  NaN                       NaN        NaN   \n1               NaN                  NaN                       NaN        NaN   \n2               NaN                  NaN                       NaN        NaN   \n3               NaN                  NaN                       NaN        NaN   \n4               NaN                  NaN                       NaN        NaN   \n5               NaN                  NaN                       NaN        NaN   \n6               NaN                  NaN                       NaN        NaN   \n7               NaN                  NaN                       NaN        NaN   \n8               NaN                  NaN                       NaN        NaN   \n9               NaN                  NaN                       NaN        NaN   \n10              NaN                  NaN                       NaN        NaN   \n11              NaN                  NaN                       NaN        NaN   \n12              NaN                  NaN                       NaN        NaN   \n13              NaN                  NaN                       NaN        NaN   \n14              NaN                  NaN                       NaN        NaN   \n15              NaN                  NaN                       NaN        NaN   \n16              NaN                  NaN                       NaN        NaN   \n17              NaN                  NaN                       NaN        NaN   \n18              NaN                  NaN                       NaN        NaN   \n19              NaN                  NaN                       NaN        NaN   \n20              NaN                  NaN                       NaN        NaN   \n21              NaN                  NaN                       NaN        NaN   \n22              NaN                  NaN                       NaN        NaN   \n23              NaN                  NaN                       NaN        NaN   \n24              NaN                  NaN                       NaN        NaN   \n25              NaN                  NaN                       NaN        NaN   \n26              NaN                  NaN                       NaN        NaN   \n27              NaN                  NaN                       NaN        NaN   \n28              NaN                  NaN                       NaN        NaN   \n29              NaN                  NaN                       NaN        NaN   \n30              NaN                  NaN                       NaN        NaN   \n31              NaN                  NaN                       NaN        NaN   \n32              NaN                  NaN                       NaN        NaN   \n33              NaN                  NaN                       NaN        NaN   \n34              NaN                  NaN                       NaN        NaN   \n35              NaN                  NaN                       NaN        NaN   \n36              NaN                  NaN                       NaN        NaN   \n37              NaN                  NaN                       NaN        NaN   \n38              NaN                  NaN                       NaN        NaN   \n39              NaN                  NaN                       NaN        NaN   \n40              NaN                  NaN                       NaN        NaN   \n41              NaN                  NaN                       NaN        NaN   \n42              NaN                  NaN                       NaN        NaN   \n43              NaN                  NaN                       NaN        NaN   \n44              NaN                  NaN                       NaN        NaN   \n45              NaN                  NaN                       NaN        NaN   \n46              NaN                  NaN                       NaN        NaN   \n47              NaN                  NaN                       NaN        NaN   \n48              NaN                  NaN                       NaN        NaN   \n49              NaN                  NaN                       NaN        NaN   \n50              NaN                  NaN                       NaN        NaN   \n51              NaN                  NaN                       NaN        NaN   \n52              NaN                  NaN                       NaN        NaN   \n53              NaN                  NaN                       NaN        NaN   \n54              NaN                  NaN                       NaN        NaN   \n55              NaN                  NaN                       NaN        NaN   \n56              NaN                  NaN                       NaN        NaN   \n\n   avg_speed_winner  \n0               NaN  \n1               NaN  \n2               NaN  \n3               NaN  \n4               NaN  \n5               NaN  \n6               NaN  \n7               NaN  \n8               NaN  \n9               NaN  \n10              NaN  \n11              NaN  \n12              NaN  \n13              NaN  \n14              NaN  \n15              NaN  \n16              NaN  \n17              NaN  \n18              NaN  \n19              NaN  \n20              NaN  \n21              NaN  \n22              NaN  \n23              NaN  \n24              NaN  \n25              NaN  \n26              NaN  \n27              NaN  \n28              NaN  \n29              NaN  \n30              NaN  \n31              NaN  \n32              NaN  \n33              NaN  \n34              NaN  \n35              NaN  \n36              NaN  \n37              NaN  \n38              NaN  \n39              NaN  \n40              NaN  \n41              NaN  \n42              NaN  \n43              NaN  \n44              NaN  \n45              NaN  \n46              NaN  \n47              NaN  \n48              NaN  \n49              NaN  \n50              NaN  \n51              NaN  \n52              NaN  \n53              NaN  \n54              NaN  \n55              NaN  \n56              NaN  \n\n[57 rows x 38 columns]",
      "text/html": "<div>\n<style scoped>\n    .dataframe tbody tr th:only-of-type {\n        vertical-align: middle;\n    }\n\n    .dataframe tbody tr th {\n        vertical-align: top;\n    }\n\n    .dataframe thead th {\n        text-align: right;\n    }\n</style>\n<table border=\"1\" class=\"dataframe\">\n  <thead>\n    <tr style=\"text-align: right;\">\n      <th></th>\n      <th>stage_id</th>\n      <th>race_id</th>\n      <th>race_name</th>\n      <th>race_date</th>\n      <th>stage_date</th>\n      <th>stage_name</th>\n      <th>stage_number</th>\n      <th>stage_type</th>\n      <th>classification</th>\n      <th>nation</th>\n      <th>...</th>\n      <th>temp_min</th>\n      <th>_1000_to_1500_m</th>\n      <th>_1500_to_2000_m</th>\n      <th>_2000_to_2500_m</th>\n      <th>_2500_to_3000_m</th>\n      <th>_3000_to_3500_m</th>\n      <th>race_total_distance</th>\n      <th>race_total_elevation_gain</th>\n      <th>start_time</th>\n      <th>avg_speed_winner</th>\n    </tr>\n  </thead>\n  <tbody>\n    <tr>\n      <th>0</th>\n      <td>188</td>\n      <td>55</td>\n      <td>NaN</td>\n      <td>24-01-18</td>\n      <td>24-01-18</td>\n      <td>Stage 1 (ITT)</td>\n      <td>1.0</td>\n      <td>Individual Time Trial</td>\n      <td>2.1</td>\n      <td>ae</td>\n      <td>...</td>\n      <td>NaN</td>\n      <td>NaN</td>\n      <td>NaN</td>\n      <td>NaN</td>\n      <td>NaN</td>\n      <td>NaN</td>\n      <td>NaN</td>\n      <td>NaN</td>\n      <td>NaN</td>\n      <td>NaN</td>\n    </tr>\n    <tr>\n      <th>1</th>\n      <td>189</td>\n      <td>55</td>\n      <td>NaN</td>\n      <td>24-01-18</td>\n      <td>25-01-18</td>\n      <td>Stage 2</td>\n      <td>2.0</td>\n      <td>Stage</td>\n      <td>2.1</td>\n      <td>ae</td>\n      <td>...</td>\n      <td>NaN</td>\n      <td>NaN</td>\n      <td>NaN</td>\n      <td>NaN</td>\n      <td>NaN</td>\n      <td>NaN</td>\n      <td>NaN</td>\n      <td>NaN</td>\n      <td>NaN</td>\n      <td>NaN</td>\n    </tr>\n    <tr>\n      <th>2</th>\n      <td>190</td>\n      <td>55</td>\n      <td>NaN</td>\n      <td>24-01-18</td>\n      <td>26-01-18</td>\n      <td>Stage 3</td>\n      <td>3.0</td>\n      <td>Stage</td>\n      <td>2.1</td>\n      <td>ae</td>\n      <td>...</td>\n      <td>NaN</td>\n      <td>NaN</td>\n      <td>NaN</td>\n      <td>NaN</td>\n      <td>NaN</td>\n      <td>NaN</td>\n      <td>NaN</td>\n      <td>NaN</td>\n      <td>NaN</td>\n      <td>NaN</td>\n    </tr>\n    <tr>\n      <th>3</th>\n      <td>191</td>\n      <td>55</td>\n      <td>NaN</td>\n      <td>24-01-18</td>\n      <td>27-01-18</td>\n      <td>Stage 4</td>\n      <td>4.0</td>\n      <td>Stage</td>\n      <td>2.1</td>\n      <td>ae</td>\n      <td>...</td>\n      <td>NaN</td>\n      <td>NaN</td>\n      <td>NaN</td>\n      <td>NaN</td>\n      <td>NaN</td>\n      <td>NaN</td>\n      <td>NaN</td>\n      <td>NaN</td>\n      <td>NaN</td>\n      <td>NaN</td>\n    </tr>\n    <tr>\n      <th>4</th>\n      <td>772</td>\n      <td>189</td>\n      <td>NaN</td>\n      <td>15-02-07</td>\n      <td>15-02-07</td>\n      <td>One day race</td>\n      <td>NaN</td>\n      <td>One day race</td>\n      <td>1.1</td>\n      <td>es</td>\n      <td>...</td>\n      <td>NaN</td>\n      <td>NaN</td>\n      <td>NaN</td>\n      <td>NaN</td>\n      <td>NaN</td>\n      <td>NaN</td>\n      <td>NaN</td>\n      <td>NaN</td>\n      <td>NaN</td>\n      <td>NaN</td>\n    </tr>\n    <tr>\n      <th>5</th>\n      <td>976</td>\n      <td>261</td>\n      <td>NaN</td>\n      <td>07-04-07</td>\n      <td>07-04-07</td>\n      <td>One day race</td>\n      <td>NaN</td>\n      <td>One day race</td>\n      <td>1.1</td>\n      <td>nl</td>\n      <td>...</td>\n      <td>NaN</td>\n      <td>NaN</td>\n      <td>NaN</td>\n      <td>NaN</td>\n      <td>NaN</td>\n      <td>NaN</td>\n      <td>NaN</td>\n      <td>NaN</td>\n      <td>NaN</td>\n      <td>NaN</td>\n    </tr>\n    <tr>\n      <th>6</th>\n      <td>1074</td>\n      <td>289</td>\n      <td>NaN</td>\n      <td>10-02-05</td>\n      <td>10-02-05</td>\n      <td>One day race</td>\n      <td>NaN</td>\n      <td>One day race</td>\n      <td>1.1</td>\n      <td>es</td>\n      <td>...</td>\n      <td>NaN</td>\n      <td>NaN</td>\n      <td>NaN</td>\n      <td>NaN</td>\n      <td>NaN</td>\n      <td>NaN</td>\n      <td>NaN</td>\n      <td>NaN</td>\n      <td>NaN</td>\n      <td>NaN</td>\n    </tr>\n    <tr>\n      <th>7</th>\n      <td>1218</td>\n      <td>325</td>\n      <td>NaN</td>\n      <td>05-02-04</td>\n      <td>05-02-04</td>\n      <td>One day race</td>\n      <td>NaN</td>\n      <td>One day race</td>\n      <td>1.3</td>\n      <td>es</td>\n      <td>...</td>\n      <td>NaN</td>\n      <td>NaN</td>\n      <td>NaN</td>\n      <td>NaN</td>\n      <td>NaN</td>\n      <td>NaN</td>\n      <td>NaN</td>\n      <td>NaN</td>\n      <td>NaN</td>\n      <td>NaN</td>\n    </tr>\n    <tr>\n      <th>8</th>\n      <td>1295</td>\n      <td>343</td>\n      <td>NaN</td>\n      <td>06-02-03</td>\n      <td>06-02-03</td>\n      <td>One day race</td>\n      <td>NaN</td>\n      <td>One day race</td>\n      <td>1.3</td>\n      <td>es</td>\n      <td>...</td>\n      <td>NaN</td>\n      <td>NaN</td>\n      <td>NaN</td>\n      <td>NaN</td>\n      <td>NaN</td>\n      <td>NaN</td>\n      <td>NaN</td>\n      <td>NaN</td>\n      <td>NaN</td>\n      <td>NaN</td>\n    </tr>\n    <tr>\n      <th>9</th>\n      <td>1338</td>\n      <td>355</td>\n      <td>NaN</td>\n      <td>06-02-02</td>\n      <td>06-02-02</td>\n      <td>One day race</td>\n      <td>NaN</td>\n      <td>One day race</td>\n      <td>1.3</td>\n      <td>es</td>\n      <td>...</td>\n      <td>NaN</td>\n      <td>NaN</td>\n      <td>NaN</td>\n      <td>NaN</td>\n      <td>NaN</td>\n      <td>NaN</td>\n      <td>NaN</td>\n      <td>NaN</td>\n      <td>NaN</td>\n      <td>NaN</td>\n    </tr>\n    <tr>\n      <th>10</th>\n      <td>1652</td>\n      <td>428</td>\n      <td>NaN</td>\n      <td>07-02-94</td>\n      <td>07-02-94</td>\n      <td>One day race</td>\n      <td>NaN</td>\n      <td>One day race</td>\n      <td>NaN</td>\n      <td>es</td>\n      <td>...</td>\n      <td>NaN</td>\n      <td>NaN</td>\n      <td>NaN</td>\n      <td>NaN</td>\n      <td>NaN</td>\n      <td>NaN</td>\n      <td>NaN</td>\n      <td>NaN</td>\n      <td>NaN</td>\n      <td>NaN</td>\n    </tr>\n    <tr>\n      <th>11</th>\n      <td>1839</td>\n      <td>467</td>\n      <td>NaN</td>\n      <td>07-02-84</td>\n      <td>07-02-84</td>\n      <td>One day race</td>\n      <td>NaN</td>\n      <td>One day race</td>\n      <td>NaN</td>\n      <td>fr</td>\n      <td>...</td>\n      <td>NaN</td>\n      <td>NaN</td>\n      <td>NaN</td>\n      <td>NaN</td>\n      <td>NaN</td>\n      <td>NaN</td>\n      <td>NaN</td>\n      <td>NaN</td>\n      <td>NaN</td>\n      <td>NaN</td>\n    </tr>\n    <tr>\n      <th>12</th>\n      <td>1840</td>\n      <td>468</td>\n      <td>NaN</td>\n      <td>01-02-82</td>\n      <td>01-02-82</td>\n      <td>One day race</td>\n      <td>NaN</td>\n      <td>One day race</td>\n      <td>NaN</td>\n      <td>fr</td>\n      <td>...</td>\n      <td>NaN</td>\n      <td>NaN</td>\n      <td>NaN</td>\n      <td>NaN</td>\n      <td>NaN</td>\n      <td>NaN</td>\n      <td>NaN</td>\n      <td>NaN</td>\n      <td>NaN</td>\n      <td>NaN</td>\n    </tr>\n    <tr>\n      <th>13</th>\n      <td>3570</td>\n      <td>1225</td>\n      <td>NaN</td>\n      <td>07-03-35</td>\n      <td>09-03-35</td>\n      <td>Stage 3</td>\n      <td>3.0</td>\n      <td>Stage</td>\n      <td>NaN</td>\n      <td>dz</td>\n      <td>...</td>\n      <td>NaN</td>\n      <td>NaN</td>\n      <td>NaN</td>\n      <td>NaN</td>\n      <td>NaN</td>\n      <td>NaN</td>\n      <td>NaN</td>\n      <td>NaN</td>\n      <td>NaN</td>\n      <td>NaN</td>\n    </tr>\n    <tr>\n      <th>14</th>\n      <td>3571</td>\n      <td>1225</td>\n      <td>NaN</td>\n      <td>07-03-35</td>\n      <td>10-03-35</td>\n      <td>Stage 4</td>\n      <td>4.0</td>\n      <td>Stage</td>\n      <td>NaN</td>\n      <td>dz</td>\n      <td>...</td>\n      <td>NaN</td>\n      <td>NaN</td>\n      <td>NaN</td>\n      <td>NaN</td>\n      <td>NaN</td>\n      <td>NaN</td>\n      <td>NaN</td>\n      <td>NaN</td>\n      <td>NaN</td>\n      <td>NaN</td>\n    </tr>\n    <tr>\n      <th>15</th>\n      <td>3572</td>\n      <td>1225</td>\n      <td>NaN</td>\n      <td>07-03-35</td>\n      <td>11-03-35</td>\n      <td>Stage 5</td>\n      <td>5.0</td>\n      <td>Stage</td>\n      <td>NaN</td>\n      <td>dz</td>\n      <td>...</td>\n      <td>NaN</td>\n      <td>NaN</td>\n      <td>NaN</td>\n      <td>NaN</td>\n      <td>NaN</td>\n      <td>NaN</td>\n      <td>NaN</td>\n      <td>NaN</td>\n      <td>NaN</td>\n      <td>NaN</td>\n    </tr>\n    <tr>\n      <th>16</th>\n      <td>4013</td>\n      <td>1441</td>\n      <td>NaN</td>\n      <td>07-03-29</td>\n      <td>07-03-29</td>\n      <td>One day race</td>\n      <td>NaN</td>\n      <td>One day race</td>\n      <td>NaN</td>\n      <td>dz</td>\n      <td>...</td>\n      <td>NaN</td>\n      <td>NaN</td>\n      <td>NaN</td>\n      <td>NaN</td>\n      <td>NaN</td>\n      <td>NaN</td>\n      <td>NaN</td>\n      <td>NaN</td>\n      <td>NaN</td>\n      <td>NaN</td>\n    </tr>\n    <tr>\n      <th>17</th>\n      <td>4871</td>\n      <td>1882</td>\n      <td>NaN</td>\n      <td>19-08-19</td>\n      <td>19-08-19</td>\n      <td>One day race</td>\n      <td>NaN</td>\n      <td>One day race</td>\n      <td>1.1</td>\n      <td>it</td>\n      <td>...</td>\n      <td>NaN</td>\n      <td>NaN</td>\n      <td>NaN</td>\n      <td>NaN</td>\n      <td>NaN</td>\n      <td>NaN</td>\n      <td>NaN</td>\n      <td>NaN</td>\n      <td>NaN</td>\n      <td>NaN</td>\n    </tr>\n    <tr>\n      <th>18</th>\n      <td>5401</td>\n      <td>2180</td>\n      <td>NaN</td>\n      <td>17-07-04</td>\n      <td>17-07-04</td>\n      <td>One day race</td>\n      <td>NaN</td>\n      <td>One day race</td>\n      <td>1.1</td>\n      <td>it</td>\n      <td>...</td>\n      <td>NaN</td>\n      <td>NaN</td>\n      <td>NaN</td>\n      <td>NaN</td>\n      <td>NaN</td>\n      <td>NaN</td>\n      <td>NaN</td>\n      <td>NaN</td>\n      <td>NaN</td>\n      <td>NaN</td>\n    </tr>\n    <tr>\n      <th>19</th>\n      <td>5417</td>\n      <td>2191</td>\n      <td>NaN</td>\n      <td>12-07-03</td>\n      <td>12-07-03</td>\n      <td>One day race</td>\n      <td>NaN</td>\n      <td>One day race</td>\n      <td>1.1</td>\n      <td>it</td>\n      <td>...</td>\n      <td>NaN</td>\n      <td>NaN</td>\n      <td>NaN</td>\n      <td>NaN</td>\n      <td>NaN</td>\n      <td>NaN</td>\n      <td>NaN</td>\n      <td>NaN</td>\n      <td>NaN</td>\n      <td>NaN</td>\n    </tr>\n    <tr>\n      <th>20</th>\n      <td>5427</td>\n      <td>2201</td>\n      <td>NaN</td>\n      <td>22-06-02</td>\n      <td>22-06-02</td>\n      <td>One day race</td>\n      <td>NaN</td>\n      <td>One day race</td>\n      <td>1.1</td>\n      <td>it</td>\n      <td>...</td>\n      <td>NaN</td>\n      <td>NaN</td>\n      <td>NaN</td>\n      <td>NaN</td>\n      <td>NaN</td>\n      <td>NaN</td>\n      <td>NaN</td>\n      <td>NaN</td>\n      <td>NaN</td>\n      <td>NaN</td>\n    </tr>\n    <tr>\n      <th>21</th>\n      <td>5478</td>\n      <td>2252</td>\n      <td>NaN</td>\n      <td>1894-05-14</td>\n      <td>1894-05-14</td>\n      <td>One day race</td>\n      <td>NaN</td>\n      <td>One day race</td>\n      <td>1.1</td>\n      <td>it</td>\n      <td>...</td>\n      <td>NaN</td>\n      <td>NaN</td>\n      <td>NaN</td>\n      <td>NaN</td>\n      <td>NaN</td>\n      <td>NaN</td>\n      <td>NaN</td>\n      <td>NaN</td>\n      <td>NaN</td>\n      <td>NaN</td>\n    </tr>\n    <tr>\n      <th>22</th>\n      <td>5507</td>\n      <td>2281</td>\n      <td>NaN</td>\n      <td>1876-05-25</td>\n      <td>1876-05-25</td>\n      <td>One day race</td>\n      <td>NaN</td>\n      <td>One day race</td>\n      <td>NaN</td>\n      <td>it</td>\n      <td>...</td>\n      <td>NaN</td>\n      <td>NaN</td>\n      <td>NaN</td>\n      <td>NaN</td>\n      <td>NaN</td>\n      <td>NaN</td>\n      <td>NaN</td>\n      <td>NaN</td>\n      <td>NaN</td>\n      <td>NaN</td>\n    </tr>\n    <tr>\n      <th>23</th>\n      <td>5598</td>\n      <td>2322</td>\n      <td>NaN</td>\n      <td>10-03-21</td>\n      <td>10-03-21</td>\n      <td>Stage 1</td>\n      <td>1.0</td>\n      <td>Stage</td>\n      <td>2.1</td>\n      <td>nl</td>\n      <td>...</td>\n      <td>NaN</td>\n      <td>NaN</td>\n      <td>NaN</td>\n      <td>NaN</td>\n      <td>NaN</td>\n      <td>NaN</td>\n      <td>NaN</td>\n      <td>NaN</td>\n      <td>NaN</td>\n      <td>NaN</td>\n    </tr>\n    <tr>\n      <th>24</th>\n      <td>5599</td>\n      <td>2322</td>\n      <td>NaN</td>\n      <td>10-03-21</td>\n      <td>11-03-21</td>\n      <td>Stage 2 (ITT)</td>\n      <td>2.0</td>\n      <td>Individual Time Trial</td>\n      <td>2.1</td>\n      <td>nl</td>\n      <td>...</td>\n      <td>NaN</td>\n      <td>NaN</td>\n      <td>NaN</td>\n      <td>NaN</td>\n      <td>NaN</td>\n      <td>NaN</td>\n      <td>NaN</td>\n      <td>NaN</td>\n      <td>NaN</td>\n      <td>NaN</td>\n    </tr>\n    <tr>\n      <th>25</th>\n      <td>5600</td>\n      <td>2322</td>\n      <td>NaN</td>\n      <td>10-03-21</td>\n      <td>12-03-21</td>\n      <td>Stage 3</td>\n      <td>3.0</td>\n      <td>Stage</td>\n      <td>2.1</td>\n      <td>nl</td>\n      <td>...</td>\n      <td>NaN</td>\n      <td>NaN</td>\n      <td>NaN</td>\n      <td>NaN</td>\n      <td>NaN</td>\n      <td>NaN</td>\n      <td>NaN</td>\n      <td>NaN</td>\n      <td>NaN</td>\n      <td>NaN</td>\n    </tr>\n    <tr>\n      <th>26</th>\n      <td>5633</td>\n      <td>2337</td>\n      <td>NaN</td>\n      <td>25-03-21</td>\n      <td>25-03-21</td>\n      <td>One day race</td>\n      <td>NaN</td>\n      <td>One day race</td>\n      <td>1.WWT</td>\n      <td>be</td>\n      <td>...</td>\n      <td>NaN</td>\n      <td>NaN</td>\n      <td>NaN</td>\n      <td>NaN</td>\n      <td>NaN</td>\n      <td>NaN</td>\n      <td>NaN</td>\n      <td>NaN</td>\n      <td>NaN</td>\n      <td>NaN</td>\n    </tr>\n    <tr>\n      <th>27</th>\n      <td>5789</td>\n      <td>2390</td>\n      <td>NaN</td>\n      <td>13-05-21</td>\n      <td>13-05-21</td>\n      <td>One day race</td>\n      <td>NaN</td>\n      <td>One day race</td>\n      <td>1.1</td>\n      <td>es</td>\n      <td>...</td>\n      <td>NaN</td>\n      <td>NaN</td>\n      <td>NaN</td>\n      <td>NaN</td>\n      <td>NaN</td>\n      <td>NaN</td>\n      <td>NaN</td>\n      <td>NaN</td>\n      <td>NaN</td>\n      <td>NaN</td>\n    </tr>\n    <tr>\n      <th>28</th>\n      <td>5799</td>\n      <td>2397</td>\n      <td>NaN</td>\n      <td>16-05-21</td>\n      <td>16-05-21</td>\n      <td>One day race</td>\n      <td>NaN</td>\n      <td>One day race</td>\n      <td>1.1</td>\n      <td>es</td>\n      <td>...</td>\n      <td>NaN</td>\n      <td>NaN</td>\n      <td>NaN</td>\n      <td>NaN</td>\n      <td>NaN</td>\n      <td>NaN</td>\n      <td>NaN</td>\n      <td>NaN</td>\n      <td>NaN</td>\n      <td>NaN</td>\n    </tr>\n    <tr>\n      <th>29</th>\n      <td>5899</td>\n      <td>2426</td>\n      <td>NaN</td>\n      <td>05-06-21</td>\n      <td>05-06-21</td>\n      <td>One day race</td>\n      <td>NaN</td>\n      <td>One day race</td>\n      <td>1.2</td>\n      <td>be</td>\n      <td>...</td>\n      <td>NaN</td>\n      <td>NaN</td>\n      <td>NaN</td>\n      <td>NaN</td>\n      <td>NaN</td>\n      <td>NaN</td>\n      <td>NaN</td>\n      <td>NaN</td>\n      <td>NaN</td>\n      <td>NaN</td>\n    </tr>\n    <tr>\n      <th>30</th>\n      <td>6430</td>\n      <td>2625</td>\n      <td>NaN</td>\n      <td>28-03-19</td>\n      <td>28-03-19</td>\n      <td>One day race</td>\n      <td>NaN</td>\n      <td>One day race</td>\n      <td>1.WWT</td>\n      <td>be</td>\n      <td>...</td>\n      <td>NaN</td>\n      <td>NaN</td>\n      <td>NaN</td>\n      <td>NaN</td>\n      <td>NaN</td>\n      <td>NaN</td>\n      <td>NaN</td>\n      <td>NaN</td>\n      <td>NaN</td>\n      <td>NaN</td>\n    </tr>\n    <tr>\n      <th>31</th>\n      <td>6482</td>\n      <td>2644</td>\n      <td>NaN</td>\n      <td>06-04-19</td>\n      <td>06-04-19</td>\n      <td>One day race</td>\n      <td>NaN</td>\n      <td>One day race</td>\n      <td>1.1</td>\n      <td>nl</td>\n      <td>...</td>\n      <td>NaN</td>\n      <td>NaN</td>\n      <td>NaN</td>\n      <td>NaN</td>\n      <td>NaN</td>\n      <td>NaN</td>\n      <td>NaN</td>\n      <td>NaN</td>\n      <td>NaN</td>\n      <td>NaN</td>\n    </tr>\n    <tr>\n      <th>32</th>\n      <td>6504</td>\n      <td>2656</td>\n      <td>NaN</td>\n      <td>10-04-19</td>\n      <td>10-04-19</td>\n      <td>Stage 1</td>\n      <td>1.0</td>\n      <td>Stage</td>\n      <td>2.1</td>\n      <td>nl</td>\n      <td>...</td>\n      <td>NaN</td>\n      <td>NaN</td>\n      <td>NaN</td>\n      <td>NaN</td>\n      <td>NaN</td>\n      <td>NaN</td>\n      <td>NaN</td>\n      <td>NaN</td>\n      <td>NaN</td>\n      <td>NaN</td>\n    </tr>\n    <tr>\n      <th>33</th>\n      <td>6505</td>\n      <td>2656</td>\n      <td>NaN</td>\n      <td>10-04-19</td>\n      <td>11-04-19</td>\n      <td>Stage 2</td>\n      <td>2.0</td>\n      <td>Stage</td>\n      <td>2.1</td>\n      <td>nl</td>\n      <td>...</td>\n      <td>NaN</td>\n      <td>NaN</td>\n      <td>NaN</td>\n      <td>NaN</td>\n      <td>NaN</td>\n      <td>NaN</td>\n      <td>NaN</td>\n      <td>NaN</td>\n      <td>NaN</td>\n      <td>NaN</td>\n    </tr>\n    <tr>\n      <th>34</th>\n      <td>6506</td>\n      <td>2656</td>\n      <td>NaN</td>\n      <td>10-04-19</td>\n      <td>12-04-19</td>\n      <td>Stage 3</td>\n      <td>3.0</td>\n      <td>Stage</td>\n      <td>2.1</td>\n      <td>nl</td>\n      <td>...</td>\n      <td>NaN</td>\n      <td>NaN</td>\n      <td>NaN</td>\n      <td>NaN</td>\n      <td>NaN</td>\n      <td>NaN</td>\n      <td>NaN</td>\n      <td>NaN</td>\n      <td>NaN</td>\n      <td>NaN</td>\n    </tr>\n    <tr>\n      <th>35</th>\n      <td>6507</td>\n      <td>2656</td>\n      <td>NaN</td>\n      <td>10-04-19</td>\n      <td>13-04-19</td>\n      <td>Stage 4a (ITT)</td>\n      <td>4.0</td>\n      <td>Individual Time Trial</td>\n      <td>2.1</td>\n      <td>nl</td>\n      <td>...</td>\n      <td>NaN</td>\n      <td>NaN</td>\n      <td>NaN</td>\n      <td>NaN</td>\n      <td>NaN</td>\n      <td>NaN</td>\n      <td>NaN</td>\n      <td>NaN</td>\n      <td>NaN</td>\n      <td>NaN</td>\n    </tr>\n    <tr>\n      <th>36</th>\n      <td>6508</td>\n      <td>2656</td>\n      <td>NaN</td>\n      <td>10-04-19</td>\n      <td>13-04-19</td>\n      <td>Stage 4b</td>\n      <td>5.0</td>\n      <td>Stage</td>\n      <td>2.1</td>\n      <td>nl</td>\n      <td>...</td>\n      <td>NaN</td>\n      <td>NaN</td>\n      <td>NaN</td>\n      <td>NaN</td>\n      <td>NaN</td>\n      <td>NaN</td>\n      <td>NaN</td>\n      <td>NaN</td>\n      <td>NaN</td>\n      <td>NaN</td>\n    </tr>\n    <tr>\n      <th>37</th>\n      <td>6509</td>\n      <td>2656</td>\n      <td>NaN</td>\n      <td>10-04-19</td>\n      <td>14-04-19</td>\n      <td>Stage 5</td>\n      <td>6.0</td>\n      <td>Stage</td>\n      <td>2.1</td>\n      <td>nl</td>\n      <td>...</td>\n      <td>NaN</td>\n      <td>NaN</td>\n      <td>NaN</td>\n      <td>NaN</td>\n      <td>NaN</td>\n      <td>NaN</td>\n      <td>NaN</td>\n      <td>NaN</td>\n      <td>NaN</td>\n      <td>NaN</td>\n    </tr>\n    <tr>\n      <th>38</th>\n      <td>6521</td>\n      <td>2659</td>\n      <td>NaN</td>\n      <td>12-04-19</td>\n      <td>14-04-19</td>\n      <td>NaN</td>\n      <td>7.0</td>\n      <td>NaN</td>\n      <td>2.2</td>\n      <td>fr</td>\n      <td>...</td>\n      <td>NaN</td>\n      <td>NaN</td>\n      <td>NaN</td>\n      <td>NaN</td>\n      <td>NaN</td>\n      <td>NaN</td>\n      <td>NaN</td>\n      <td>NaN</td>\n      <td>NaN</td>\n      <td>NaN</td>\n    </tr>\n    <tr>\n      <th>39</th>\n      <td>6522</td>\n      <td>2659</td>\n      <td>NaN</td>\n      <td>12-04-19</td>\n      <td>14-04-19</td>\n      <td>NaN</td>\n      <td>9.0</td>\n      <td>NaN</td>\n      <td>2.2</td>\n      <td>fr</td>\n      <td>...</td>\n      <td>NaN</td>\n      <td>NaN</td>\n      <td>NaN</td>\n      <td>NaN</td>\n      <td>NaN</td>\n      <td>NaN</td>\n      <td>NaN</td>\n      <td>NaN</td>\n      <td>NaN</td>\n      <td>NaN</td>\n    </tr>\n    <tr>\n      <th>40</th>\n      <td>6523</td>\n      <td>2659</td>\n      <td>NaN</td>\n      <td>12-04-19</td>\n      <td>14-04-19</td>\n      <td>NaN</td>\n      <td>11.0</td>\n      <td>NaN</td>\n      <td>2.2</td>\n      <td>fr</td>\n      <td>...</td>\n      <td>NaN</td>\n      <td>NaN</td>\n      <td>NaN</td>\n      <td>NaN</td>\n      <td>NaN</td>\n      <td>NaN</td>\n      <td>NaN</td>\n      <td>NaN</td>\n      <td>NaN</td>\n      <td>NaN</td>\n    </tr>\n    <tr>\n      <th>41</th>\n      <td>6524</td>\n      <td>2659</td>\n      <td>NaN</td>\n      <td>12-04-19</td>\n      <td>14-04-19</td>\n      <td>NaN</td>\n      <td>13.0</td>\n      <td>NaN</td>\n      <td>2.2</td>\n      <td>fr</td>\n      <td>...</td>\n      <td>NaN</td>\n      <td>NaN</td>\n      <td>NaN</td>\n      <td>NaN</td>\n      <td>NaN</td>\n      <td>NaN</td>\n      <td>NaN</td>\n      <td>NaN</td>\n      <td>NaN</td>\n      <td>NaN</td>\n    </tr>\n    <tr>\n      <th>42</th>\n      <td>7161</td>\n      <td>2904</td>\n      <td>NaN</td>\n      <td>22-03-18</td>\n      <td>22-03-18</td>\n      <td>One day race</td>\n      <td>NaN</td>\n      <td>One day race</td>\n      <td>1.WWT</td>\n      <td>be</td>\n      <td>...</td>\n      <td>NaN</td>\n      <td>NaN</td>\n      <td>NaN</td>\n      <td>NaN</td>\n      <td>NaN</td>\n      <td>NaN</td>\n      <td>NaN</td>\n      <td>NaN</td>\n      <td>NaN</td>\n      <td>NaN</td>\n    </tr>\n    <tr>\n      <th>43</th>\n      <td>7206</td>\n      <td>2922</td>\n      <td>NaN</td>\n      <td>31-03-18</td>\n      <td>31-03-18</td>\n      <td>One day race</td>\n      <td>NaN</td>\n      <td>One day race</td>\n      <td>1.1</td>\n      <td>nl</td>\n      <td>...</td>\n      <td>NaN</td>\n      <td>NaN</td>\n      <td>NaN</td>\n      <td>NaN</td>\n      <td>NaN</td>\n      <td>NaN</td>\n      <td>NaN</td>\n      <td>NaN</td>\n      <td>NaN</td>\n      <td>NaN</td>\n    </tr>\n    <tr>\n      <th>44</th>\n      <td>7239</td>\n      <td>2939</td>\n      <td>NaN</td>\n      <td>04-04-18</td>\n      <td>04-04-18</td>\n      <td>Stage 1 (ITT)</td>\n      <td>1.0</td>\n      <td>Individual Time Trial</td>\n      <td>2.1</td>\n      <td>nl</td>\n      <td>...</td>\n      <td>NaN</td>\n      <td>NaN</td>\n      <td>NaN</td>\n      <td>NaN</td>\n      <td>NaN</td>\n      <td>NaN</td>\n      <td>NaN</td>\n      <td>NaN</td>\n      <td>NaN</td>\n      <td>NaN</td>\n    </tr>\n    <tr>\n      <th>45</th>\n      <td>7240</td>\n      <td>2939</td>\n      <td>NaN</td>\n      <td>04-04-18</td>\n      <td>05-04-18</td>\n      <td>Stage 2</td>\n      <td>2.0</td>\n      <td>Stage</td>\n      <td>2.1</td>\n      <td>nl</td>\n      <td>...</td>\n      <td>NaN</td>\n      <td>NaN</td>\n      <td>NaN</td>\n      <td>NaN</td>\n      <td>NaN</td>\n      <td>NaN</td>\n      <td>NaN</td>\n      <td>NaN</td>\n      <td>NaN</td>\n      <td>NaN</td>\n    </tr>\n    <tr>\n      <th>46</th>\n      <td>7241</td>\n      <td>2939</td>\n      <td>NaN</td>\n      <td>04-04-18</td>\n      <td>06-04-18</td>\n      <td>Stage 3a</td>\n      <td>3.0</td>\n      <td>Stage</td>\n      <td>2.1</td>\n      <td>nl</td>\n      <td>...</td>\n      <td>NaN</td>\n      <td>NaN</td>\n      <td>NaN</td>\n      <td>NaN</td>\n      <td>NaN</td>\n      <td>NaN</td>\n      <td>NaN</td>\n      <td>NaN</td>\n      <td>NaN</td>\n      <td>NaN</td>\n    </tr>\n    <tr>\n      <th>47</th>\n      <td>7242</td>\n      <td>2939</td>\n      <td>NaN</td>\n      <td>04-04-18</td>\n      <td>06-04-18</td>\n      <td>Stage 3b (TTT)</td>\n      <td>4.0</td>\n      <td>Team Time Trial</td>\n      <td>2.1</td>\n      <td>nl</td>\n      <td>...</td>\n      <td>NaN</td>\n      <td>NaN</td>\n      <td>NaN</td>\n      <td>NaN</td>\n      <td>NaN</td>\n      <td>NaN</td>\n      <td>NaN</td>\n      <td>NaN</td>\n      <td>NaN</td>\n      <td>NaN</td>\n    </tr>\n    <tr>\n      <th>48</th>\n      <td>7243</td>\n      <td>2939</td>\n      <td>NaN</td>\n      <td>04-04-18</td>\n      <td>07-04-18</td>\n      <td>Stage 4</td>\n      <td>5.0</td>\n      <td>Stage</td>\n      <td>2.1</td>\n      <td>nl</td>\n      <td>...</td>\n      <td>NaN</td>\n      <td>NaN</td>\n      <td>NaN</td>\n      <td>NaN</td>\n      <td>NaN</td>\n      <td>NaN</td>\n      <td>NaN</td>\n      <td>NaN</td>\n      <td>NaN</td>\n      <td>NaN</td>\n    </tr>\n    <tr>\n      <th>49</th>\n      <td>7244</td>\n      <td>2939</td>\n      <td>NaN</td>\n      <td>04-04-18</td>\n      <td>08-04-18</td>\n      <td>Stage 5</td>\n      <td>6.0</td>\n      <td>Stage</td>\n      <td>2.1</td>\n      <td>nl</td>\n      <td>...</td>\n      <td>NaN</td>\n      <td>NaN</td>\n      <td>NaN</td>\n      <td>NaN</td>\n      <td>NaN</td>\n      <td>NaN</td>\n      <td>NaN</td>\n      <td>NaN</td>\n      <td>NaN</td>\n      <td>NaN</td>\n    </tr>\n    <tr>\n      <th>50</th>\n      <td>7967</td>\n      <td>3213</td>\n      <td>NaN</td>\n      <td>01-04-17</td>\n      <td>01-04-17</td>\n      <td>One day race</td>\n      <td>NaN</td>\n      <td>One day race</td>\n      <td>1.1</td>\n      <td>nl</td>\n      <td>...</td>\n      <td>NaN</td>\n      <td>NaN</td>\n      <td>NaN</td>\n      <td>NaN</td>\n      <td>NaN</td>\n      <td>NaN</td>\n      <td>NaN</td>\n      <td>NaN</td>\n      <td>NaN</td>\n      <td>NaN</td>\n    </tr>\n    <tr>\n      <th>51</th>\n      <td>7990</td>\n      <td>3227</td>\n      <td>NaN</td>\n      <td>05-04-17</td>\n      <td>05-04-17</td>\n      <td>Stage 1a (ITT)</td>\n      <td>1.0</td>\n      <td>Individual Time Trial</td>\n      <td>2.2</td>\n      <td>nl</td>\n      <td>...</td>\n      <td>NaN</td>\n      <td>NaN</td>\n      <td>NaN</td>\n      <td>NaN</td>\n      <td>NaN</td>\n      <td>NaN</td>\n      <td>NaN</td>\n      <td>NaN</td>\n      <td>NaN</td>\n      <td>NaN</td>\n    </tr>\n    <tr>\n      <th>52</th>\n      <td>7991</td>\n      <td>3227</td>\n      <td>NaN</td>\n      <td>05-04-17</td>\n      <td>05-04-17</td>\n      <td>Stage 1b</td>\n      <td>2.0</td>\n      <td>Stage</td>\n      <td>2.2</td>\n      <td>nl</td>\n      <td>...</td>\n      <td>NaN</td>\n      <td>NaN</td>\n      <td>NaN</td>\n      <td>NaN</td>\n      <td>NaN</td>\n      <td>NaN</td>\n      <td>NaN</td>\n      <td>NaN</td>\n      <td>NaN</td>\n      <td>NaN</td>\n    </tr>\n    <tr>\n      <th>53</th>\n      <td>7992</td>\n      <td>3227</td>\n      <td>NaN</td>\n      <td>05-04-17</td>\n      <td>06-04-17</td>\n      <td>Stage 2 (TTT)</td>\n      <td>3.0</td>\n      <td>Team Time Trial</td>\n      <td>2.2</td>\n      <td>nl</td>\n      <td>...</td>\n      <td>NaN</td>\n      <td>NaN</td>\n      <td>NaN</td>\n      <td>NaN</td>\n      <td>NaN</td>\n      <td>NaN</td>\n      <td>NaN</td>\n      <td>NaN</td>\n      <td>NaN</td>\n      <td>NaN</td>\n    </tr>\n    <tr>\n      <th>54</th>\n      <td>7993</td>\n      <td>3227</td>\n      <td>NaN</td>\n      <td>05-04-17</td>\n      <td>07-04-17</td>\n      <td>Stage 3</td>\n      <td>4.0</td>\n      <td>Stage</td>\n      <td>2.2</td>\n      <td>nl</td>\n      <td>...</td>\n      <td>NaN</td>\n      <td>NaN</td>\n      <td>NaN</td>\n      <td>NaN</td>\n      <td>NaN</td>\n      <td>NaN</td>\n      <td>NaN</td>\n      <td>NaN</td>\n      <td>NaN</td>\n      <td>NaN</td>\n    </tr>\n    <tr>\n      <th>55</th>\n      <td>7994</td>\n      <td>3227</td>\n      <td>NaN</td>\n      <td>05-04-17</td>\n      <td>08-04-17</td>\n      <td>Stage 4</td>\n      <td>5.0</td>\n      <td>Stage</td>\n      <td>2.2</td>\n      <td>nl</td>\n      <td>...</td>\n      <td>NaN</td>\n      <td>NaN</td>\n      <td>NaN</td>\n      <td>NaN</td>\n      <td>NaN</td>\n      <td>NaN</td>\n      <td>NaN</td>\n      <td>NaN</td>\n      <td>NaN</td>\n      <td>NaN</td>\n    </tr>\n    <tr>\n      <th>56</th>\n      <td>7995</td>\n      <td>3227</td>\n      <td>NaN</td>\n      <td>05-04-17</td>\n      <td>09-04-17</td>\n      <td>Stage 5</td>\n      <td>6.0</td>\n      <td>Stage</td>\n      <td>2.2</td>\n      <td>nl</td>\n      <td>...</td>\n      <td>NaN</td>\n      <td>NaN</td>\n      <td>NaN</td>\n      <td>NaN</td>\n      <td>NaN</td>\n      <td>NaN</td>\n      <td>NaN</td>\n      <td>NaN</td>\n      <td>NaN</td>\n      <td>NaN</td>\n    </tr>\n  </tbody>\n</table>\n<p>57 rows × 38 columns</p>\n</div>"
     },
     "execution_count": 17,
     "metadata": {},
     "output_type": "execute_result"
    }
   ],
   "source": [
    "stages_df = get_df('stages')\n",
    "stages_df[stages_df['race_name'].isna()]"
   ],
   "metadata": {
    "collapsed": false,
    "pycharm": {
     "name": "#%%\n"
    }
   }
  },
  {
   "cell_type": "code",
   "execution_count": 1,
   "outputs": [
    {
     "name": "stdout",
     "output_type": "stream",
     "text": [
      "INFO\t2022-04-20 15:29:44\trace https://www.procyclingstats.com/race/tour-of-wellington/2022\n",
      "race_date 2022-04-20 15:29:06.573093 != 2022-04-20 15:29:44.075417\n",
      "stage_date 2022-01-05 00:00:00 != 2022-01-05 00:00:00\n",
      "stage_number 1.0 != 1\n",
      "elevation_loss nan != nan\n",
      "elevation_average nan != nan\n",
      "elevation_maximum nan != nan\n",
      "elevation_minimum nan != nan\n",
      "temp_avg nan != nan\n",
      "temp_max nan != nan\n",
      "temp_min nan != nan\n",
      "_1000_to_1500_m nan != nan\n",
      "_1500_to_2000_m nan != nan\n",
      "_2000_to_2500_m nan != nan\n",
      "_2500_to_3000_m nan != nan\n",
      "_3000_to_3500_m nan != nan\n",
      "race_total_distance nan != nan\n",
      "race_total_elevation_gain nan != nan\n",
      "race_date 2022-04-20 15:29:01.130477 != 2022-04-20 15:29:44.075417\n",
      "stage_date 2022-01-06 00:00:00 != 2022-01-06 00:00:00\n",
      "stage_number 2.0 != 2\n",
      "elevation_loss nan != nan\n",
      "elevation_average nan != nan\n",
      "elevation_maximum nan != nan\n",
      "elevation_minimum nan != nan\n",
      "temp_avg nan != nan\n",
      "temp_max nan != nan\n",
      "temp_min nan != nan\n",
      "_1000_to_1500_m nan != nan\n",
      "_1500_to_2000_m nan != nan\n",
      "_2000_to_2500_m nan != nan\n",
      "_2500_to_3000_m nan != nan\n",
      "_3000_to_3500_m nan != nan\n",
      "race_total_distance nan != nan\n",
      "race_total_elevation_gain nan != nan\n",
      "race_date 2022-04-20 15:29:01.130477 != 2022-04-20 15:29:44.075417\n",
      "stage_date 2022-01-07 00:00:00 != 2022-01-07 00:00:00\n",
      "stage_number 3.0 != 3\n",
      "elevation_loss nan != nan\n",
      "elevation_average nan != nan\n",
      "elevation_maximum nan != nan\n",
      "elevation_minimum nan != nan\n",
      "temp_avg nan != nan\n",
      "temp_max nan != nan\n",
      "temp_min nan != nan\n",
      "_1000_to_1500_m nan != nan\n",
      "_1500_to_2000_m nan != nan\n",
      "_2000_to_2500_m nan != nan\n",
      "_2500_to_3000_m nan != nan\n",
      "_3000_to_3500_m nan != nan\n",
      "race_total_distance nan != nan\n",
      "race_total_elevation_gain nan != nan\n",
      "race_date 2022-04-20 15:28:52.614592 != 2022-04-20 15:29:44.075417\n",
      "stage_date 2022-01-08 00:00:00 != 2022-01-08 00:00:00\n",
      "stage_number 4.0 != 4\n",
      "elevation_loss nan != nan\n",
      "elevation_average nan != nan\n",
      "elevation_maximum nan != nan\n",
      "elevation_minimum nan != nan\n",
      "temp_avg nan != nan\n",
      "temp_max nan != nan\n",
      "temp_min nan != nan\n",
      "_1000_to_1500_m nan != nan\n",
      "_1500_to_2000_m nan != nan\n",
      "_2000_to_2500_m nan != nan\n",
      "_2500_to_3000_m nan != nan\n",
      "_3000_to_3500_m nan != nan\n",
      "race_total_distance nan != nan\n",
      "race_total_elevation_gain nan != nan\n",
      "race_name nan != New Zealand Cycle Classic\n",
      "race_date 05-01-22 != 2022-04-20 15:29:44.075417\n",
      "stage_date 09-01-22 != 2022-01-09 00:00:00\n",
      "stage_number 5.0 != 5\n",
      "stage_ranking 243 != 283\n",
      "pcs_city_start nan != Wellington\n",
      "pcs_city_finish nan != Wellington\n",
      "elevation_gain nan != 292.0\n",
      "elevation_loss nan != nan\n",
      "elevation_average nan != nan\n",
      "elevation_maximum nan != nan\n",
      "elevation_minimum nan != nan\n",
      "temp_avg nan != nan\n",
      "temp_max nan != nan\n",
      "temp_min nan != nan\n",
      "_1000_to_1500_m nan != nan\n",
      "_1500_to_2000_m nan != nan\n",
      "_2000_to_2500_m nan != nan\n",
      "_2500_to_3000_m nan != nan\n",
      "_3000_to_3500_m nan != nan\n",
      "race_total_distance nan != nan\n",
      "race_total_elevation_gain nan != nan\n"
     ]
    },
    {
     "ename": "KeyboardInterrupt",
     "evalue": "",
     "output_type": "error",
     "traceback": [
      "\u001B[1;31m---------------------------------------------------------------------------\u001B[0m",
      "\u001B[1;31mKeyboardInterrupt\u001B[0m                         Traceback (most recent call last)",
      "\u001B[1;32m~\\AppData\\Local\\Temp/ipykernel_23556/483721335.py\u001B[0m in \u001B[0;36m<module>\u001B[1;34m\u001B[0m\n\u001B[0;32m     10\u001B[0m \u001B[0mcounter\u001B[0m\u001B[1;33m=\u001B[0m\u001B[1;36m0\u001B[0m\u001B[1;33m\u001B[0m\u001B[1;33m\u001B[0m\u001B[0m\n\u001B[0;32m     11\u001B[0m \u001B[0mextractor\u001B[0m \u001B[1;33m=\u001B[0m \u001B[0mStageExtractor\u001B[0m\u001B[1;33m(\u001B[0m\u001B[0mid\u001B[0m\u001B[1;33m=\u001B[0m\u001B[1;34m'notebook'\u001B[0m\u001B[1;33m)\u001B[0m\u001B[1;33m\u001B[0m\u001B[1;33m\u001B[0m\u001B[0m\n\u001B[1;32m---> 12\u001B[1;33m \u001B[1;32mfor\u001B[0m \u001B[0mi\u001B[0m\u001B[1;33m,\u001B[0m\u001B[0mr\u001B[0m \u001B[1;32min\u001B[0m \u001B[0mstages_df2\u001B[0m\u001B[1;33m.\u001B[0m\u001B[0miterrows\u001B[0m\u001B[1;33m(\u001B[0m\u001B[1;33m)\u001B[0m\u001B[1;33m:\u001B[0m\u001B[1;33m\u001B[0m\u001B[1;33m\u001B[0m\u001B[0m\n\u001B[0m\u001B[0;32m     13\u001B[0m     \u001B[1;32mtry\u001B[0m\u001B[1;33m:\u001B[0m\u001B[1;33m\u001B[0m\u001B[1;33m\u001B[0m\u001B[0m\n\u001B[0;32m     14\u001B[0m         \u001B[0mcounter\u001B[0m\u001B[1;33m+=\u001B[0m\u001B[1;36m1\u001B[0m\u001B[1;33m\u001B[0m\u001B[1;33m\u001B[0m\u001B[0m\n",
      "\u001B[1;32m~\\AppData\\Local\\Temp/ipykernel_23556/483721335.py\u001B[0m in \u001B[0;36m<module>\u001B[1;34m\u001B[0m\n\u001B[0;32m     10\u001B[0m \u001B[0mcounter\u001B[0m\u001B[1;33m=\u001B[0m\u001B[1;36m0\u001B[0m\u001B[1;33m\u001B[0m\u001B[1;33m\u001B[0m\u001B[0m\n\u001B[0;32m     11\u001B[0m \u001B[0mextractor\u001B[0m \u001B[1;33m=\u001B[0m \u001B[0mStageExtractor\u001B[0m\u001B[1;33m(\u001B[0m\u001B[0mid\u001B[0m\u001B[1;33m=\u001B[0m\u001B[1;34m'notebook'\u001B[0m\u001B[1;33m)\u001B[0m\u001B[1;33m\u001B[0m\u001B[1;33m\u001B[0m\u001B[0m\n\u001B[1;32m---> 12\u001B[1;33m \u001B[1;32mfor\u001B[0m \u001B[0mi\u001B[0m\u001B[1;33m,\u001B[0m\u001B[0mr\u001B[0m \u001B[1;32min\u001B[0m \u001B[0mstages_df2\u001B[0m\u001B[1;33m.\u001B[0m\u001B[0miterrows\u001B[0m\u001B[1;33m(\u001B[0m\u001B[1;33m)\u001B[0m\u001B[1;33m:\u001B[0m\u001B[1;33m\u001B[0m\u001B[1;33m\u001B[0m\u001B[0m\n\u001B[0m\u001B[0;32m     13\u001B[0m     \u001B[1;32mtry\u001B[0m\u001B[1;33m:\u001B[0m\u001B[1;33m\u001B[0m\u001B[1;33m\u001B[0m\u001B[0m\n\u001B[0;32m     14\u001B[0m         \u001B[0mcounter\u001B[0m\u001B[1;33m+=\u001B[0m\u001B[1;36m1\u001B[0m\u001B[1;33m\u001B[0m\u001B[1;33m\u001B[0m\u001B[0m\n",
      "\u001B[1;32m_pydevd_bundle\\pydevd_cython_win32_39_64.pyx\u001B[0m in \u001B[0;36m_pydevd_bundle.pydevd_cython_win32_39_64.SafeCallWrapper.__call__\u001B[1;34m()\u001B[0m\n",
      "\u001B[1;32m_pydevd_bundle\\pydevd_cython_win32_39_64.pyx\u001B[0m in \u001B[0;36m_pydevd_bundle.pydevd_cython_win32_39_64.PyDBFrame.trace_dispatch\u001B[1;34m()\u001B[0m\n",
      "\u001B[1;32m_pydevd_bundle\\pydevd_cython_win32_39_64.pyx\u001B[0m in \u001B[0;36m_pydevd_bundle.pydevd_cython_win32_39_64.PyDBFrame.trace_dispatch\u001B[1;34m()\u001B[0m\n",
      "\u001B[1;32m_pydevd_bundle\\pydevd_cython_win32_39_64.pyx\u001B[0m in \u001B[0;36m_pydevd_bundle.pydevd_cython_win32_39_64.PyDBFrame.trace_dispatch\u001B[1;34m()\u001B[0m\n",
      "\u001B[1;32m_pydevd_bundle\\pydevd_cython_win32_39_64.pyx\u001B[0m in \u001B[0;36m_pydevd_bundle.pydevd_cython_win32_39_64.PyDBFrame.do_wait_suspend\u001B[1;34m()\u001B[0m\n",
      "\u001B[1;32mC:\\Program Files\\JetBrains\\PyCharm 2021.2.3\\plugins\\python\\helpers\\pydev\\pydevd.py\u001B[0m in \u001B[0;36mdo_wait_suspend\u001B[1;34m(self, thread, frame, event, arg, send_suspend_message, is_unhandled_exception)\u001B[0m\n\u001B[0;32m   1145\u001B[0m \u001B[1;33m\u001B[0m\u001B[0m\n\u001B[0;32m   1146\u001B[0m         \u001B[1;32mwith\u001B[0m \u001B[0mself\u001B[0m\u001B[1;33m.\u001B[0m\u001B[0m_threads_suspended_single_notification\u001B[0m\u001B[1;33m.\u001B[0m\u001B[0mnotify_thread_suspended\u001B[0m\u001B[1;33m(\u001B[0m\u001B[0mthread_id\u001B[0m\u001B[1;33m,\u001B[0m \u001B[0mstop_reason\u001B[0m\u001B[1;33m)\u001B[0m\u001B[1;33m:\u001B[0m\u001B[1;33m\u001B[0m\u001B[1;33m\u001B[0m\u001B[0m\n\u001B[1;32m-> 1147\u001B[1;33m             \u001B[0mself\u001B[0m\u001B[1;33m.\u001B[0m\u001B[0m_do_wait_suspend\u001B[0m\u001B[1;33m(\u001B[0m\u001B[0mthread\u001B[0m\u001B[1;33m,\u001B[0m \u001B[0mframe\u001B[0m\u001B[1;33m,\u001B[0m \u001B[0mevent\u001B[0m\u001B[1;33m,\u001B[0m \u001B[0marg\u001B[0m\u001B[1;33m,\u001B[0m \u001B[0msuspend_type\u001B[0m\u001B[1;33m,\u001B[0m \u001B[0mfrom_this_thread\u001B[0m\u001B[1;33m)\u001B[0m\u001B[1;33m\u001B[0m\u001B[1;33m\u001B[0m\u001B[0m\n\u001B[0m\u001B[0;32m   1148\u001B[0m \u001B[1;33m\u001B[0m\u001B[0m\n\u001B[0;32m   1149\u001B[0m     \u001B[1;32mdef\u001B[0m \u001B[0m_do_wait_suspend\u001B[0m\u001B[1;33m(\u001B[0m\u001B[0mself\u001B[0m\u001B[1;33m,\u001B[0m \u001B[0mthread\u001B[0m\u001B[1;33m,\u001B[0m \u001B[0mframe\u001B[0m\u001B[1;33m,\u001B[0m \u001B[0mevent\u001B[0m\u001B[1;33m,\u001B[0m \u001B[0marg\u001B[0m\u001B[1;33m,\u001B[0m \u001B[0msuspend_type\u001B[0m\u001B[1;33m,\u001B[0m \u001B[0mfrom_this_thread\u001B[0m\u001B[1;33m)\u001B[0m\u001B[1;33m:\u001B[0m\u001B[1;33m\u001B[0m\u001B[1;33m\u001B[0m\u001B[0m\n",
      "\u001B[1;32mC:\\Program Files\\JetBrains\\PyCharm 2021.2.3\\plugins\\python\\helpers\\pydev\\pydevd.py\u001B[0m in \u001B[0;36m_do_wait_suspend\u001B[1;34m(self, thread, frame, event, arg, suspend_type, from_this_thread)\u001B[0m\n\u001B[0;32m   1160\u001B[0m \u001B[1;33m\u001B[0m\u001B[0m\n\u001B[0;32m   1161\u001B[0m                 \u001B[0mself\u001B[0m\u001B[1;33m.\u001B[0m\u001B[0mprocess_internal_commands\u001B[0m\u001B[1;33m(\u001B[0m\u001B[1;33m)\u001B[0m\u001B[1;33m\u001B[0m\u001B[1;33m\u001B[0m\u001B[0m\n\u001B[1;32m-> 1162\u001B[1;33m                 \u001B[0mtime\u001B[0m\u001B[1;33m.\u001B[0m\u001B[0msleep\u001B[0m\u001B[1;33m(\u001B[0m\u001B[1;36m0.01\u001B[0m\u001B[1;33m)\u001B[0m\u001B[1;33m\u001B[0m\u001B[1;33m\u001B[0m\u001B[0m\n\u001B[0m\u001B[0;32m   1163\u001B[0m \u001B[1;33m\u001B[0m\u001B[0m\n\u001B[0;32m   1164\u001B[0m         \u001B[0mself\u001B[0m\u001B[1;33m.\u001B[0m\u001B[0mcancel_async_evaluation\u001B[0m\u001B[1;33m(\u001B[0m\u001B[0mget_current_thread_id\u001B[0m\u001B[1;33m(\u001B[0m\u001B[0mthread\u001B[0m\u001B[1;33m)\u001B[0m\u001B[1;33m,\u001B[0m \u001B[0mstr\u001B[0m\u001B[1;33m(\u001B[0m\u001B[0mid\u001B[0m\u001B[1;33m(\u001B[0m\u001B[0mframe\u001B[0m\u001B[1;33m)\u001B[0m\u001B[1;33m)\u001B[0m\u001B[1;33m)\u001B[0m\u001B[1;33m\u001B[0m\u001B[1;33m\u001B[0m\u001B[0m\n",
      "\u001B[1;31mKeyboardInterrupt\u001B[0m: "
     ]
    }
   ],
   "source": [
    "from StageExtractor import StageExtractor\n",
    "import pandas as pd\n",
    "from utils import *\n",
    "import traceback\n",
    "\n",
    "stages_df = get_df('stages')\n",
    "stages_df2=stages_df[stages_df['race_name'].isna()]\n",
    "overwrite=True\n",
    "counter=0\n",
    "extractor = StageExtractor(id='notebook')\n",
    "for i,r in stages_df2.iterrows():\n",
    "    try:\n",
    "        if counter>2000:\n",
    "            break\n",
    "        counter+=1\n",
    "        stage = r.to_dict()\n",
    "        race_link = r['race_link']\n",
    "        race_page = extractor.browser.get(race_link).soup\n",
    "        msg = f'race {race_link}'\n",
    "        log(msg, 'INFO', id=extractor.id)\n",
    "        stage['race_name'] = race_page.find('h1').text\n",
    "        stage_type = StageExtractor.get_stage_type(race_page.find('span', attrs={'class': 'blue'}).text)\n",
    "        stage['stage_date'] = datetime.now()\n",
    "        stage['race_date'] = datetime.now()\n",
    "\n",
    "        if (stage_type is None) or (stage_type == ''):\n",
    "            log(f'Trying to fetch stage with no type, link {race_link}', 'WARNING', id=extractor.id)\n",
    "            if any([('Stage' in o.text) for o in race_page.find_all('option')]):\n",
    "                extractor.stages_handler(race_page, stage, overwrite)\n",
    "            else:\n",
    "                extractor.non_stage_handler(race_page, stage, overwrite)\n",
    "            continue\n",
    "        elif stage_type not in STAGES_TYPES:\n",
    "            raise ValueError(f'Failed to parse race {race_link}, unfamiliar type {stage_type}')\n",
    "        if stage_type in [\"One day race\", \"Time trial\"]:\n",
    "            extractor.non_stage_handler(race_page, stage, overwrite)\n",
    "        else:\n",
    "            extractor.stages_handler(race_page, stage, overwrite)\n",
    "    except:\n",
    "        print(race_page.find('h1').text)\n",
    "        log('ERROR: main loop','ERROR',id=extractor.id)"
   ],
   "metadata": {
    "collapsed": false,
    "pycharm": {
     "name": "#%%\n"
    }
   }
  },
  {
   "cell_type": "code",
   "execution_count": 40,
   "outputs": [],
   "source": [
    "stages_df_full= pd.read_csv('data/stages_full.csv')\n",
    "stages_df_full = stages_df_full.drop_duplicates()\n",
    "stages_df_full.to_csv('data/stages_full.csv', header=True, index=False)"
   ],
   "metadata": {
    "collapsed": false,
    "pycharm": {
     "name": "#%%\n"
    }
   }
  },
  {
   "cell_type": "code",
   "execution_count": 28,
   "outputs": [],
   "source": [
    "len(set(stages_df_cpy['stage_id'])-set(stages_df_full['stage_id']))\n",
    "\n",
    "stages_df_full.to_csv('data/stages.csv', mode='a',header=False, index=False)"
   ],
   "metadata": {
    "collapsed": false,
    "pycharm": {
     "name": "#%%\n"
    }
   }
  },
  {
   "cell_type": "code",
   "execution_count": 43,
   "outputs": [
    {
     "data": {
      "text/plain": "Empty DataFrame\nColumns: [stage_id, race_id, race_name, race_date, stage_date, stage_name, stage_number, stage_type, classification, nation, race_link, stage_link, race_category, stage_points_scale, stage_ranking, profile_score, parcours_type, parcours_type_name, pcs_city_start, pcs_city_finish, distance, elevation_gain, elevation_loss, elevation_average, elevation_maximum, elevation_minimum, temp_avg, temp_max, temp_min, _1000_to_1500_m, _1500_to_2000_m, _2000_to_2500_m, _2500_to_3000_m, _3000_to_3500_m, race_total_distance, race_total_elevation_gain, start_time, avg_speed_winner]\nIndex: []\n\n[0 rows x 38 columns]",
      "text/html": "<div>\n<style scoped>\n    .dataframe tbody tr th:only-of-type {\n        vertical-align: middle;\n    }\n\n    .dataframe tbody tr th {\n        vertical-align: top;\n    }\n\n    .dataframe thead th {\n        text-align: right;\n    }\n</style>\n<table border=\"1\" class=\"dataframe\">\n  <thead>\n    <tr style=\"text-align: right;\">\n      <th></th>\n      <th>stage_id</th>\n      <th>race_id</th>\n      <th>race_name</th>\n      <th>race_date</th>\n      <th>stage_date</th>\n      <th>stage_name</th>\n      <th>stage_number</th>\n      <th>stage_type</th>\n      <th>classification</th>\n      <th>nation</th>\n      <th>...</th>\n      <th>temp_min</th>\n      <th>_1000_to_1500_m</th>\n      <th>_1500_to_2000_m</th>\n      <th>_2000_to_2500_m</th>\n      <th>_2500_to_3000_m</th>\n      <th>_3000_to_3500_m</th>\n      <th>race_total_distance</th>\n      <th>race_total_elevation_gain</th>\n      <th>start_time</th>\n      <th>avg_speed_winner</th>\n    </tr>\n  </thead>\n  <tbody>\n  </tbody>\n</table>\n<p>0 rows × 38 columns</p>\n</div>"
     },
     "execution_count": 43,
     "metadata": {},
     "output_type": "execute_result"
    }
   ],
   "source": [
    "stages_df = get_df('stages')\n",
    "stages_df[stages_df.duplicated()]"
   ],
   "metadata": {
    "collapsed": false,
    "pycharm": {
     "name": "#%%\n"
    }
   }
  },
  {
   "cell_type": "code",
   "execution_count": 30,
   "outputs": [
    {
     "data": {
      "text/plain": "7895"
     },
     "execution_count": 30,
     "metadata": {},
     "output_type": "execute_result"
    }
   ],
   "source": [
    "len(stages_df['stage_id'].unique())"
   ],
   "metadata": {
    "collapsed": false,
    "pycharm": {
     "name": "#%%\n"
    }
   }
  },
  {
   "cell_type": "code",
   "execution_count": 32,
   "outputs": [
    {
     "data": {
      "text/plain": "7934"
     },
     "execution_count": 32,
     "metadata": {},
     "output_type": "execute_result"
    }
   ],
   "source": [
    "len(stages_df)"
   ],
   "metadata": {
    "collapsed": false,
    "pycharm": {
     "name": "#%%\n"
    }
   }
  },
  {
   "cell_type": "code",
   "execution_count": 53,
   "outputs": [],
   "source": [
    "dup_df = stages_df.groupby('stage_id').filter(lambda x: len(x) > 1)\n",
    "\n",
    "\n",
    "\n"
   ],
   "metadata": {
    "collapsed": false,
    "pycharm": {
     "name": "#%%\n"
    }
   }
  },
  {
   "cell_type": "code",
   "execution_count": null,
   "outputs": [],
   "source": [],
   "metadata": {
    "collapsed": false,
    "pycharm": {
     "name": "#%%\n"
    }
   }
  },
  {
   "cell_type": "code",
   "execution_count": 55,
   "outputs": [
    {
     "ename": "IndexError",
     "evalue": "single positional indexer is out-of-bounds",
     "output_type": "error",
     "traceback": [
      "\u001B[1;31m---------------------------------------------------------------------------\u001B[0m",
      "\u001B[1;31mIndexError\u001B[0m                                Traceback (most recent call last)",
      "\u001B[1;32m~\\AppData\\Local\\Temp/ipykernel_9436/2133575835.py\u001B[0m in \u001B[0;36m<module>\u001B[1;34m\u001B[0m\n\u001B[0;32m      8\u001B[0m         \u001B[1;32melse\u001B[0m\u001B[1;33m:\u001B[0m\u001B[1;33m\u001B[0m\u001B[1;33m\u001B[0m\u001B[0m\n\u001B[0;32m      9\u001B[0m             \u001B[1;32mfor\u001B[0m \u001B[0mc\u001B[0m \u001B[1;32min\u001B[0m \u001B[0mrow\u001B[0m\u001B[1;33m.\u001B[0m\u001B[0mcolumns\u001B[0m\u001B[1;33m:\u001B[0m\u001B[1;33m\u001B[0m\u001B[1;33m\u001B[0m\u001B[0m\n\u001B[1;32m---> 10\u001B[1;33m                 \u001B[1;32mif\u001B[0m \u001B[1;33m(\u001B[0m\u001B[0mstr\u001B[0m\u001B[1;33m(\u001B[0m\u001B[0mrow\u001B[0m\u001B[1;33m.\u001B[0m\u001B[0miloc\u001B[0m\u001B[1;33m[\u001B[0m\u001B[1;36m0\u001B[0m\u001B[1;33m]\u001B[0m\u001B[1;33m[\u001B[0m\u001B[0mc\u001B[0m\u001B[1;33m]\u001B[0m\u001B[1;33m)\u001B[0m\u001B[1;33m==\u001B[0m\u001B[1;34m'nan'\u001B[0m\u001B[1;33m)\u001B[0m \u001B[1;32mand\u001B[0m \u001B[1;33m(\u001B[0m\u001B[0mstr\u001B[0m\u001B[1;33m(\u001B[0m\u001B[0mrow2\u001B[0m\u001B[1;33m.\u001B[0m\u001B[0miloc\u001B[0m\u001B[1;33m[\u001B[0m\u001B[1;36m0\u001B[0m\u001B[1;33m]\u001B[0m\u001B[1;33m[\u001B[0m\u001B[0mc\u001B[0m\u001B[1;33m]\u001B[0m\u001B[1;33m)\u001B[0m\u001B[1;33m==\u001B[0m\u001B[1;34m'nan'\u001B[0m\u001B[1;33m)\u001B[0m\u001B[1;33m:\u001B[0m\u001B[1;33m\u001B[0m\u001B[1;33m\u001B[0m\u001B[0m\n\u001B[0m\u001B[0;32m     11\u001B[0m                     \u001B[1;32mcontinue\u001B[0m\u001B[1;33m\u001B[0m\u001B[1;33m\u001B[0m\u001B[0m\n\u001B[0;32m     12\u001B[0m                 \u001B[1;32mif\u001B[0m \u001B[0mrow\u001B[0m\u001B[1;33m.\u001B[0m\u001B[0miloc\u001B[0m\u001B[1;33m[\u001B[0m\u001B[1;36m0\u001B[0m\u001B[1;33m]\u001B[0m\u001B[1;33m[\u001B[0m\u001B[0mc\u001B[0m\u001B[1;33m]\u001B[0m\u001B[1;33m!=\u001B[0m\u001B[0mrow2\u001B[0m\u001B[1;33m.\u001B[0m\u001B[0miloc\u001B[0m\u001B[1;33m[\u001B[0m\u001B[1;36m0\u001B[0m\u001B[1;33m]\u001B[0m\u001B[1;33m[\u001B[0m\u001B[0mc\u001B[0m\u001B[1;33m]\u001B[0m\u001B[1;33m:\u001B[0m\u001B[1;33m\u001B[0m\u001B[1;33m\u001B[0m\u001B[0m\n",
      "\u001B[1;32m~\\PycharmProjects\\velodrome-backend\\venv\\lib\\site-packages\\pandas\\core\\indexing.py\u001B[0m in \u001B[0;36m__getitem__\u001B[1;34m(self, key)\u001B[0m\n\u001B[0;32m    892\u001B[0m \u001B[1;33m\u001B[0m\u001B[0m\n\u001B[0;32m    893\u001B[0m             \u001B[0mmaybe_callable\u001B[0m \u001B[1;33m=\u001B[0m \u001B[0mcom\u001B[0m\u001B[1;33m.\u001B[0m\u001B[0mapply_if_callable\u001B[0m\u001B[1;33m(\u001B[0m\u001B[0mkey\u001B[0m\u001B[1;33m,\u001B[0m \u001B[0mself\u001B[0m\u001B[1;33m.\u001B[0m\u001B[0mobj\u001B[0m\u001B[1;33m)\u001B[0m\u001B[1;33m\u001B[0m\u001B[1;33m\u001B[0m\u001B[0m\n\u001B[1;32m--> 894\u001B[1;33m             \u001B[1;32mreturn\u001B[0m \u001B[0mself\u001B[0m\u001B[1;33m.\u001B[0m\u001B[0m_getitem_axis\u001B[0m\u001B[1;33m(\u001B[0m\u001B[0mmaybe_callable\u001B[0m\u001B[1;33m,\u001B[0m \u001B[0maxis\u001B[0m\u001B[1;33m=\u001B[0m\u001B[0maxis\u001B[0m\u001B[1;33m)\u001B[0m\u001B[1;33m\u001B[0m\u001B[1;33m\u001B[0m\u001B[0m\n\u001B[0m\u001B[0;32m    895\u001B[0m \u001B[1;33m\u001B[0m\u001B[0m\n\u001B[0;32m    896\u001B[0m     \u001B[1;32mdef\u001B[0m \u001B[0m_is_scalar_access\u001B[0m\u001B[1;33m(\u001B[0m\u001B[0mself\u001B[0m\u001B[1;33m,\u001B[0m \u001B[0mkey\u001B[0m\u001B[1;33m:\u001B[0m \u001B[0mTuple\u001B[0m\u001B[1;33m)\u001B[0m\u001B[1;33m:\u001B[0m\u001B[1;33m\u001B[0m\u001B[1;33m\u001B[0m\u001B[0m\n",
      "\u001B[1;32m~\\PycharmProjects\\velodrome-backend\\venv\\lib\\site-packages\\pandas\\core\\indexing.py\u001B[0m in \u001B[0;36m_getitem_axis\u001B[1;34m(self, key, axis)\u001B[0m\n\u001B[0;32m   1498\u001B[0m \u001B[1;33m\u001B[0m\u001B[0m\n\u001B[0;32m   1499\u001B[0m             \u001B[1;31m# validate the location\u001B[0m\u001B[1;33m\u001B[0m\u001B[1;33m\u001B[0m\u001B[1;33m\u001B[0m\u001B[0m\n\u001B[1;32m-> 1500\u001B[1;33m             \u001B[0mself\u001B[0m\u001B[1;33m.\u001B[0m\u001B[0m_validate_integer\u001B[0m\u001B[1;33m(\u001B[0m\u001B[0mkey\u001B[0m\u001B[1;33m,\u001B[0m \u001B[0maxis\u001B[0m\u001B[1;33m)\u001B[0m\u001B[1;33m\u001B[0m\u001B[1;33m\u001B[0m\u001B[0m\n\u001B[0m\u001B[0;32m   1501\u001B[0m \u001B[1;33m\u001B[0m\u001B[0m\n\u001B[0;32m   1502\u001B[0m             \u001B[1;32mreturn\u001B[0m \u001B[0mself\u001B[0m\u001B[1;33m.\u001B[0m\u001B[0mobj\u001B[0m\u001B[1;33m.\u001B[0m\u001B[0m_ixs\u001B[0m\u001B[1;33m(\u001B[0m\u001B[0mkey\u001B[0m\u001B[1;33m,\u001B[0m \u001B[0maxis\u001B[0m\u001B[1;33m=\u001B[0m\u001B[0maxis\u001B[0m\u001B[1;33m)\u001B[0m\u001B[1;33m\u001B[0m\u001B[1;33m\u001B[0m\u001B[0m\n",
      "\u001B[1;32m~\\PycharmProjects\\velodrome-backend\\venv\\lib\\site-packages\\pandas\\core\\indexing.py\u001B[0m in \u001B[0;36m_validate_integer\u001B[1;34m(self, key, axis)\u001B[0m\n\u001B[0;32m   1441\u001B[0m         \u001B[0mlen_axis\u001B[0m \u001B[1;33m=\u001B[0m \u001B[0mlen\u001B[0m\u001B[1;33m(\u001B[0m\u001B[0mself\u001B[0m\u001B[1;33m.\u001B[0m\u001B[0mobj\u001B[0m\u001B[1;33m.\u001B[0m\u001B[0m_get_axis\u001B[0m\u001B[1;33m(\u001B[0m\u001B[0maxis\u001B[0m\u001B[1;33m)\u001B[0m\u001B[1;33m)\u001B[0m\u001B[1;33m\u001B[0m\u001B[1;33m\u001B[0m\u001B[0m\n\u001B[0;32m   1442\u001B[0m         \u001B[1;32mif\u001B[0m \u001B[0mkey\u001B[0m \u001B[1;33m>=\u001B[0m \u001B[0mlen_axis\u001B[0m \u001B[1;32mor\u001B[0m \u001B[0mkey\u001B[0m \u001B[1;33m<\u001B[0m \u001B[1;33m-\u001B[0m\u001B[0mlen_axis\u001B[0m\u001B[1;33m:\u001B[0m\u001B[1;33m\u001B[0m\u001B[1;33m\u001B[0m\u001B[0m\n\u001B[1;32m-> 1443\u001B[1;33m             \u001B[1;32mraise\u001B[0m \u001B[0mIndexError\u001B[0m\u001B[1;33m(\u001B[0m\u001B[1;34m\"single positional indexer is out-of-bounds\"\u001B[0m\u001B[1;33m)\u001B[0m\u001B[1;33m\u001B[0m\u001B[1;33m\u001B[0m\u001B[0m\n\u001B[0m\u001B[0;32m   1444\u001B[0m \u001B[1;33m\u001B[0m\u001B[0m\n\u001B[0;32m   1445\u001B[0m     \u001B[1;31m# -------------------------------------------------------------------\u001B[0m\u001B[1;33m\u001B[0m\u001B[1;33m\u001B[0m\u001B[1;33m\u001B[0m\u001B[0m\n",
      "\u001B[1;31mIndexError\u001B[0m: single positional indexer is out-of-bounds"
     ]
    }
   ],
   "source": [
    "stages_df = get_df('stages')\n",
    "for s in stages_df_cpy['stage_id'].unique():\n",
    "    if s in stages_df['stage_id']:\n",
    "        row = stages_df[stages_df['stage_id']==s]\n",
    "        row2= stages_df_cpy[stages_df_cpy['stage_id']==s]\n",
    "        if len(row)>0:\n",
    "            print('problem')\n",
    "        else:\n",
    "            for c in row.columns:\n",
    "                if (str(row.iloc[0][c])=='nan') and (str(row2.iloc[0][c])=='nan'):\n",
    "                    continue\n",
    "                if row.iloc[0][c]!=row2.iloc[0][c]:\n",
    "                    print(s,f\"{row.iloc[0][c]}!={row2.iloc[0][c]}\")"
   ],
   "metadata": {
    "collapsed": false,
    "pycharm": {
     "name": "#%%\n"
    }
   }
  },
  {
   "cell_type": "code",
   "execution_count": null,
   "outputs": [],
   "source": [
    "stages_df = get_df('stages')\n",
    "stages_df[['stage_id','race_name','']]"
   ],
   "metadata": {
    "collapsed": false,
    "pycharm": {
     "name": "#%%\n"
    }
   }
  }
 ],
 "metadata": {
  "kernelspec": {
   "display_name": "Python 3",
   "language": "python",
   "name": "python3"
  },
  "language_info": {
   "codemirror_mode": {
    "name": "ipython",
    "version": 2
   },
   "file_extension": ".py",
   "mimetype": "text/x-python",
   "name": "python",
   "nbconvert_exporter": "python",
   "pygments_lexer": "ipython2",
   "version": "2.7.6"
  }
 },
 "nbformat": 4,
 "nbformat_minor": 0
}